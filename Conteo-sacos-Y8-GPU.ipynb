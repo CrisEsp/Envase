{
 "cells": [
  {
   "cell_type": "code",
   "execution_count": 9,
   "id": "64a993eb",
   "metadata": {},
   "outputs": [
    {
     "name": "stdout",
     "output_type": "stream",
     "text": [
      "Requirement already satisfied: numpy in c:\\users\\pc\\.conda\\envs\\gpu\\lib\\site-packages (1.23.5)\n",
      "Collecting numpy\n",
      "  Using cached numpy-2.2.6-cp310-cp310-win_amd64.whl.metadata (60 kB)\n",
      "Using cached numpy-2.2.6-cp310-cp310-win_amd64.whl (12.9 MB)\n",
      "Installing collected packages: numpy\n",
      "  Attempting uninstall: numpy\n",
      "    Found existing installation: numpy 1.23.5\n",
      "    Uninstalling numpy-1.23.5:\n",
      "      Successfully uninstalled numpy-1.23.5\n",
      "Successfully installed numpy-2.2.6\n"
     ]
    }
   ],
   "source": [
    "!pip install numpy --upgrade"
   ]
  },
  {
   "cell_type": "code",
   "execution_count": 8,
   "id": "6e03cd54",
   "metadata": {},
   "outputs": [
    {
     "name": "stdout",
     "output_type": "stream",
     "text": [
      "Collecting numpy==1.23.5\n",
      "  Using cached numpy-1.23.5-cp310-cp310-win_amd64.whl.metadata (2.3 kB)\n",
      "Using cached numpy-1.23.5-cp310-cp310-win_amd64.whl (14.6 MB)\n",
      "Installing collected packages: numpy\n",
      "  Attempting uninstall: numpy\n",
      "    Found existing installation: numpy 2.2.6\n",
      "    Uninstalling numpy-2.2.6:\n",
      "      Successfully uninstalled numpy-2.2.6\n",
      "Successfully installed numpy-1.23.5\n"
     ]
    },
    {
     "name": "stderr",
     "output_type": "stream",
     "text": [
      "ERROR: pip's dependency resolver does not currently take into account all the packages that are installed. This behaviour is the source of the following dependency conflicts.\n",
      "opencv-python 4.12.0.88 requires numpy<2.3.0,>=2; python_version >= \"3.9\", but you have numpy 1.23.5 which is incompatible.\n"
     ]
    }
   ],
   "source": [
    "!pip install -U numpy==1.23.5"
   ]
  },
  {
   "cell_type": "code",
   "execution_count": 3,
   "id": "e18946d7",
   "metadata": {},
   "outputs": [
    {
     "name": "stdout",
     "output_type": "stream",
     "text": [
      "Collecting https://github.com/ultralytics/ultralytics.git\n",
      "  Downloading https://github.com/ultralytics/ultralytics.git\n",
      "     - 0 bytes ? 0:00:00\n",
      "     | 63.0 kB 29.4 MB/s 0:00:00\n",
      "     - 268.6 kB 1.1 MB/s 0:00:00\n",
      "     \\ 419.4 kB 1.2 MB/s 0:00:00\n"
     ]
    },
    {
     "name": "stderr",
     "output_type": "stream",
     "text": [
      "  ERROR: Cannot unpack file C:\\Users\\Pc\\AppData\\Local\\Temp\\pip-unpack-_j674ilz\\ultralytics.git (downloaded from C:\\Users\\Pc\\AppData\\Local\\Temp\\pip-req-build-gmr9xy43, content-type: text/html; charset=utf-8); cannot detect archive format\n",
      "ERROR: Cannot determine archive format of C:\\Users\\Pc\\AppData\\Local\\Temp\\pip-req-build-gmr9xy43\n"
     ]
    }
   ],
   "source": [
    "\n",
    "!pip install https://github.com/ultralytics/ultralytics.git\n"
   ]
  },
  {
   "cell_type": "code",
   "execution_count": 5,
   "id": "180e37a1",
   "metadata": {},
   "outputs": [
    {
     "name": "stdout",
     "output_type": "stream",
     "text": [
      "Requirement already satisfied: ultralytics in c:\\users\\pc\\.conda\\envs\\gpu\\lib\\site-packages (8.3.198)\n",
      "Collecting ultralytics\n",
      "  Downloading ultralytics-8.3.200-py3-none-any.whl.metadata (37 kB)\n",
      "Requirement already satisfied: numpy>=1.23.0 in c:\\users\\pc\\.conda\\envs\\gpu\\lib\\site-packages (from ultralytics) (2.0.1)\n",
      "Requirement already satisfied: matplotlib>=3.3.0 in c:\\users\\pc\\.conda\\envs\\gpu\\lib\\site-packages (from ultralytics) (3.10.6)\n",
      "Requirement already satisfied: opencv-python>=4.6.0 in c:\\users\\pc\\.conda\\envs\\gpu\\lib\\site-packages (from ultralytics) (4.12.0.88)\n",
      "Requirement already satisfied: pillow>=7.1.2 in c:\\users\\pc\\.conda\\envs\\gpu\\lib\\site-packages (from ultralytics) (11.0.0)\n",
      "Requirement already satisfied: pyyaml>=5.3.1 in c:\\users\\pc\\.conda\\envs\\gpu\\lib\\site-packages (from ultralytics) (6.0.2)\n",
      "Requirement already satisfied: requests>=2.23.0 in c:\\users\\pc\\.conda\\envs\\gpu\\lib\\site-packages (from ultralytics) (2.32.5)\n",
      "Requirement already satisfied: scipy>=1.4.1 in c:\\users\\pc\\.conda\\envs\\gpu\\lib\\site-packages (from ultralytics) (1.15.3)\n",
      "Requirement already satisfied: torch>=1.8.0 in c:\\users\\pc\\.conda\\envs\\gpu\\lib\\site-packages (from ultralytics) (2.7.1+cu118)\n",
      "Requirement already satisfied: torchvision>=0.9.0 in c:\\users\\pc\\.conda\\envs\\gpu\\lib\\site-packages (from ultralytics) (0.22.1+cu118)\n",
      "Requirement already satisfied: psutil in c:\\users\\pc\\.conda\\envs\\gpu\\lib\\site-packages (from ultralytics) (7.0.0)\n",
      "Requirement already satisfied: polars in c:\\users\\pc\\.conda\\envs\\gpu\\lib\\site-packages (from ultralytics) (1.33.1)\n",
      "Requirement already satisfied: ultralytics-thop>=2.0.0 in c:\\users\\pc\\.conda\\envs\\gpu\\lib\\site-packages (from ultralytics) (2.0.17)\n",
      "Requirement already satisfied: contourpy>=1.0.1 in c:\\users\\pc\\.conda\\envs\\gpu\\lib\\site-packages (from matplotlib>=3.3.0->ultralytics) (1.3.2)\n",
      "Requirement already satisfied: cycler>=0.10 in c:\\users\\pc\\.conda\\envs\\gpu\\lib\\site-packages (from matplotlib>=3.3.0->ultralytics) (0.12.1)\n",
      "Requirement already satisfied: fonttools>=4.22.0 in c:\\users\\pc\\.conda\\envs\\gpu\\lib\\site-packages (from matplotlib>=3.3.0->ultralytics) (4.59.2)\n",
      "Requirement already satisfied: kiwisolver>=1.3.1 in c:\\users\\pc\\.conda\\envs\\gpu\\lib\\site-packages (from matplotlib>=3.3.0->ultralytics) (1.4.9)\n",
      "Requirement already satisfied: packaging>=20.0 in c:\\users\\pc\\.conda\\envs\\gpu\\lib\\site-packages (from matplotlib>=3.3.0->ultralytics) (25.0)\n",
      "Requirement already satisfied: pyparsing>=2.3.1 in c:\\users\\pc\\.conda\\envs\\gpu\\lib\\site-packages (from matplotlib>=3.3.0->ultralytics) (3.2.3)\n",
      "Requirement already satisfied: python-dateutil>=2.7 in c:\\users\\pc\\.conda\\envs\\gpu\\lib\\site-packages (from matplotlib>=3.3.0->ultralytics) (2.9.0.post0)\n",
      "Requirement already satisfied: six>=1.5 in c:\\users\\pc\\.conda\\envs\\gpu\\lib\\site-packages (from python-dateutil>=2.7->matplotlib>=3.3.0->ultralytics) (1.17.0)\n",
      "Requirement already satisfied: charset_normalizer<4,>=2 in c:\\users\\pc\\.conda\\envs\\gpu\\lib\\site-packages (from requests>=2.23.0->ultralytics) (3.4.3)\n",
      "Requirement already satisfied: idna<4,>=2.5 in c:\\users\\pc\\.conda\\envs\\gpu\\lib\\site-packages (from requests>=2.23.0->ultralytics) (3.10)\n",
      "Requirement already satisfied: urllib3<3,>=1.21.1 in c:\\users\\pc\\.conda\\envs\\gpu\\lib\\site-packages (from requests>=2.23.0->ultralytics) (2.5.0)\n",
      "Requirement already satisfied: certifi>=2017.4.17 in c:\\users\\pc\\.conda\\envs\\gpu\\lib\\site-packages (from requests>=2.23.0->ultralytics) (2025.8.3)\n",
      "Requirement already satisfied: filelock in c:\\users\\pc\\.conda\\envs\\gpu\\lib\\site-packages (from torch>=1.8.0->ultralytics) (3.17.0)\n",
      "Requirement already satisfied: typing-extensions>=4.10.0 in c:\\users\\pc\\.conda\\envs\\gpu\\lib\\site-packages (from torch>=1.8.0->ultralytics) (4.15.0)\n",
      "Requirement already satisfied: sympy>=1.13.3 in c:\\users\\pc\\.conda\\envs\\gpu\\lib\\site-packages (from torch>=1.8.0->ultralytics) (1.14.0)\n",
      "Requirement already satisfied: networkx in c:\\users\\pc\\.conda\\envs\\gpu\\lib\\site-packages (from torch>=1.8.0->ultralytics) (3.4.2)\n",
      "Requirement already satisfied: jinja2 in c:\\users\\pc\\.conda\\envs\\gpu\\lib\\site-packages (from torch>=1.8.0->ultralytics) (3.1.6)\n",
      "Requirement already satisfied: fsspec in c:\\users\\pc\\.conda\\envs\\gpu\\lib\\site-packages (from torch>=1.8.0->ultralytics) (2025.7.0)\n",
      "Requirement already satisfied: mpmath<1.4,>=1.1.0 in c:\\users\\pc\\.conda\\envs\\gpu\\lib\\site-packages (from sympy>=1.13.3->torch>=1.8.0->ultralytics) (1.3.0)\n",
      "Requirement already satisfied: MarkupSafe>=2.0 in c:\\users\\pc\\.conda\\envs\\gpu\\lib\\site-packages (from jinja2->torch>=1.8.0->ultralytics) (3.0.2)\n",
      "Downloading ultralytics-8.3.200-py3-none-any.whl (1.1 MB)\n",
      "   ---------------------------------------- 0.0/1.1 MB ? eta -:--:--\n",
      "   --------- ------------------------------ 0.3/1.1 MB ? eta -:--:--\n",
      "   ---------------------------------------- 1.1/1.1 MB 4.3 MB/s  0:00:00\n",
      "Installing collected packages: ultralytics\n",
      "  Attempting uninstall: ultralytics\n",
      "    Found existing installation: ultralytics 8.3.198\n",
      "    Uninstalling ultralytics-8.3.198:\n",
      "      Successfully uninstalled ultralytics-8.3.198\n",
      "Successfully installed ultralytics-8.3.200\n"
     ]
    },
    {
     "name": "stderr",
     "output_type": "stream",
     "text": [
      "  WARNING: The scripts ultralytics.exe and yolo.exe are installed in 'c:\\Users\\Pc\\.conda\\envs\\GPU\\Scripts' which is not on PATH.\n",
      "  Consider adding this directory to PATH or, if you prefer to suppress this warning, use --no-warn-script-location.\n"
     ]
    }
   ],
   "source": [
    "!python -m pip install ultralytics --upgrade\n",
    "\n"
   ]
  },
  {
   "cell_type": "code",
   "execution_count": 2,
   "id": "d0e9053e",
   "metadata": {},
   "outputs": [
    {
     "name": "stdout",
     "output_type": "stream",
     "text": [
      "Ultralytics 8.3.198  Python-3.13.7 torch-2.7.1+cu118 CUDA:0 (NVIDIA GeForce RTX 3050, 8192MiB)\n",
      "Setup complete  (24 CPUs, 31.7 GB RAM, 127.0/446.3 GB disk)\n"
     ]
    }
   ],
   "source": [
    "import os\n",
    "HOME = os.getcwd()\n",
    "print(HOME)\n",
    "\n",
    "from IPython import display\n",
    "display.clear_output()\n",
    "import ultralytics\n",
    "ultralytics.checks()\n",
    "from ultralytics import YOLO\n",
    "from IPython.display import display, Image"
   ]
  },
  {
   "cell_type": "code",
   "execution_count": 2,
   "id": "e9a017e7",
   "metadata": {},
   "outputs": [
    {
     "name": "stdout",
     "output_type": "stream",
     "text": [
      "Looking in indexes: https://download.pytorch.org/whl/cu118\n",
      "Requirement already satisfied: torch in c:\\users\\pc\\.conda\\envs\\gpu\\lib\\site-packages (2.6.0)\n",
      "Collecting torchvision\n",
      "  Downloading https://download.pytorch.org/whl/cu118/torchvision-0.22.1%2Bcu118-cp310-cp310-win_amd64.whl.metadata (6.3 kB)\n",
      "Collecting torchaudio\n",
      "  Downloading https://download.pytorch.org/whl/cu118/torchaudio-2.7.1%2Bcu118-cp310-cp310-win_amd64.whl.metadata (6.8 kB)\n",
      "Requirement already satisfied: filelock in c:\\users\\pc\\.conda\\envs\\gpu\\lib\\site-packages (from torch) (3.17.0)\n",
      "Requirement already satisfied: typing-extensions>=4.10.0 in c:\\users\\pc\\.conda\\envs\\gpu\\lib\\site-packages (from torch) (4.15.0)\n",
      "Requirement already satisfied: sympy>=1.13.3 in c:\\users\\pc\\.conda\\envs\\gpu\\lib\\site-packages (from torch) (1.14.0)\n",
      "Requirement already satisfied: networkx in c:\\users\\pc\\.conda\\envs\\gpu\\lib\\site-packages (from torch) (3.4.2)\n",
      "Requirement already satisfied: jinja2 in c:\\users\\pc\\.conda\\envs\\gpu\\lib\\site-packages (from torch) (3.1.6)\n",
      "Requirement already satisfied: fsspec in c:\\users\\pc\\.conda\\envs\\gpu\\lib\\site-packages (from torch) (2025.7.0)\n",
      "Requirement already satisfied: numpy in c:\\users\\pc\\.conda\\envs\\gpu\\lib\\site-packages (from torchvision) (2.0.1)\n",
      "Collecting torch\n",
      "  Downloading https://download.pytorch.org/whl/cu118/torch-2.7.1%2Bcu118-cp310-cp310-win_amd64.whl.metadata (27 kB)\n",
      "Collecting pillow!=8.3.*,>=5.3.0 (from torchvision)\n",
      "  Downloading https://download.pytorch.org/whl/pillow-11.0.0-cp310-cp310-win_amd64.whl.metadata (9.3 kB)\n",
      "Requirement already satisfied: mpmath<1.4,>=1.1.0 in c:\\users\\pc\\.conda\\envs\\gpu\\lib\\site-packages (from sympy>=1.13.3->torch) (1.3.0)\n",
      "Requirement already satisfied: MarkupSafe>=2.0 in c:\\users\\pc\\.conda\\envs\\gpu\\lib\\site-packages (from jinja2->torch) (3.0.2)\n",
      "Downloading https://download.pytorch.org/whl/cu118/torchvision-0.22.1%2Bcu118-cp310-cp310-win_amd64.whl (5.5 MB)\n",
      "   ---------------------------------------- 0.0/5.5 MB ? eta -:--:--\n",
      "   - -------------------------------------- 0.3/5.5 MB ? eta -:--:--\n",
      "   ------------- -------------------------- 1.8/5.5 MB 6.3 MB/s eta 0:00:01\n",
      "   ---------------------------- ----------- 3.9/5.5 MB 7.8 MB/s eta 0:00:01\n",
      "   ---------------------------------------- 5.5/5.5 MB 9.6 MB/s  0:00:00\n",
      "Downloading https://download.pytorch.org/whl/cu118/torch-2.7.1%2Bcu118-cp310-cp310-win_amd64.whl (2817.2 MB)\n",
      "   ---------------------------------------- 0.0/2.8 GB ? eta -:--:--\n",
      "   ---------------------------------------- 0.0/2.8 GB 49.2 MB/s eta 0:00:58\n",
      "   ---------------------------------------- 0.0/2.8 GB 6.7 MB/s eta 0:07:01\n",
      "   ---------------------------------------- 0.0/2.8 GB 10.9 MB/s eta 0:04:17\n",
      "   ---------------------------------------- 0.0/2.8 GB 13.1 MB/s eta 0:03:34\n",
      "   ---------------------------------------- 0.0/2.8 GB 14.5 MB/s eta 0:03:15\n",
      "   ---------------------------------------- 0.0/2.8 GB 15.2 MB/s eta 0:03:05\n",
      "   ---------------------------------------- 0.0/2.8 GB 16.0 MB/s eta 0:02:55\n",
      "   ---------------------------------------- 0.0/2.8 GB 16.8 MB/s eta 0:02:47\n",
      "   ---------------------------------------- 0.0/2.8 GB 17.5 MB/s eta 0:02:39\n",
      "   ---------------------------------------- 0.0/2.8 GB 17.7 MB/s eta 0:02:37\n",
      "    --------------------------------------- 0.0/2.8 GB 18.2 MB/s eta 0:02:33\n",
      "    --------------------------------------- 0.0/2.8 GB 17.2 MB/s eta 0:02:42\n",
      "    --------------------------------------- 0.0/2.8 GB 17.5 MB/s eta 0:02:39\n",
      "    --------------------------------------- 0.1/2.8 GB 18.0 MB/s eta 0:02:34\n",
      "    --------------------------------------- 0.1/2.8 GB 18.3 MB/s eta 0:02:32\n",
      "    --------------------------------------- 0.1/2.8 GB 18.4 MB/s eta 0:02:30\n",
      "    --------------------------------------- 0.1/2.8 GB 18.1 MB/s eta 0:02:32\n",
      "    --------------------------------------- 0.1/2.8 GB 18.2 MB/s eta 0:02:32\n",
      "   - -------------------------------------- 0.1/2.8 GB 18.7 MB/s eta 0:02:27\n",
      "   - -------------------------------------- 0.1/2.8 GB 19.0 MB/s eta 0:02:24\n",
      "   - -------------------------------------- 0.1/2.8 GB 19.0 MB/s eta 0:02:24\n",
      "   - -------------------------------------- 0.1/2.8 GB 19.0 MB/s eta 0:02:24\n",
      "   - -------------------------------------- 0.1/2.8 GB 19.2 MB/s eta 0:02:23\n",
      "   - -------------------------------------- 0.1/2.8 GB 18.8 MB/s eta 0:02:25\n",
      "   - -------------------------------------- 0.1/2.8 GB 19.3 MB/s eta 0:02:21\n",
      "   - -------------------------------------- 0.1/2.8 GB 19.4 MB/s eta 0:02:21\n",
      "   - -------------------------------------- 0.1/2.8 GB 19.5 MB/s eta 0:02:20\n",
      "   - -------------------------------------- 0.1/2.8 GB 19.6 MB/s eta 0:02:18\n",
      "   - -------------------------------------- 0.1/2.8 GB 19.7 MB/s eta 0:02:18\n",
      "   - -------------------------------------- 0.1/2.8 GB 19.9 MB/s eta 0:02:16\n",
      "   - -------------------------------------- 0.1/2.8 GB 19.9 MB/s eta 0:02:15\n",
      "   - -------------------------------------- 0.1/2.8 GB 19.6 MB/s eta 0:02:18\n",
      "   - -------------------------------------- 0.1/2.8 GB 19.4 MB/s eta 0:02:19\n",
      "   - -------------------------------------- 0.1/2.8 GB 19.8 MB/s eta 0:02:16\n",
      "   -- ------------------------------------- 0.1/2.8 GB 19.9 MB/s eta 0:02:15\n",
      "   -- ------------------------------------- 0.1/2.8 GB 20.0 MB/s eta 0:02:14\n",
      "   -- ------------------------------------- 0.2/2.8 GB 20.1 MB/s eta 0:02:13\n",
      "   -- ------------------------------------- 0.2/2.8 GB 20.0 MB/s eta 0:02:14\n",
      "   -- ------------------------------------- 0.2/2.8 GB 19.5 MB/s eta 0:02:17\n",
      "   -- ------------------------------------- 0.2/2.8 GB 19.3 MB/s eta 0:02:18\n",
      "   -- ------------------------------------- 0.2/2.8 GB 19.1 MB/s eta 0:02:20\n",
      "   -- ------------------------------------- 0.2/2.8 GB 19.4 MB/s eta 0:02:17\n",
      "   -- ------------------------------------- 0.2/2.8 GB 19.7 MB/s eta 0:02:15\n",
      "   -- ------------------------------------- 0.2/2.8 GB 19.5 MB/s eta 0:02:16\n",
      "   -- ------------------------------------- 0.2/2.8 GB 19.4 MB/s eta 0:02:17\n",
      "   -- ------------------------------------- 0.2/2.8 GB 19.5 MB/s eta 0:02:16\n",
      "   -- ------------------------------------- 0.2/2.8 GB 19.6 MB/s eta 0:02:15\n",
      "   -- ------------------------------------- 0.2/2.8 GB 19.5 MB/s eta 0:02:15\n",
      "   -- ------------------------------------- 0.2/2.8 GB 19.5 MB/s eta 0:02:15\n",
      "   -- ------------------------------------- 0.2/2.8 GB 19.4 MB/s eta 0:02:15\n",
      "   -- ------------------------------------- 0.2/2.8 GB 19.7 MB/s eta 0:02:13\n",
      "   --- ------------------------------------ 0.2/2.8 GB 19.8 MB/s eta 0:02:12\n",
      "   --- ------------------------------------ 0.2/2.8 GB 19.7 MB/s eta 0:02:12\n",
      "   --- ------------------------------------ 0.2/2.8 GB 20.0 MB/s eta 0:02:10\n",
      "   --- ------------------------------------ 0.2/2.8 GB 20.0 MB/s eta 0:02:10\n",
      "   --- ------------------------------------ 0.2/2.8 GB 19.8 MB/s eta 0:02:11\n",
      "   --- ------------------------------------ 0.2/2.8 GB 19.7 MB/s eta 0:02:12\n",
      "   --- ------------------------------------ 0.2/2.8 GB 20.0 MB/s eta 0:02:10\n",
      "   --- ------------------------------------ 0.2/2.8 GB 19.9 MB/s eta 0:02:10\n",
      "   --- ------------------------------------ 0.3/2.8 GB 20.1 MB/s eta 0:02:08\n",
      "   --- ------------------------------------ 0.3/2.8 GB 19.8 MB/s eta 0:02:10\n",
      "   --- ------------------------------------ 0.3/2.8 GB 19.9 MB/s eta 0:02:09\n",
      "   --- ------------------------------------ 0.3/2.8 GB 19.9 MB/s eta 0:02:09\n",
      "   --- ------------------------------------ 0.3/2.8 GB 20.3 MB/s eta 0:02:06\n",
      "   --- ------------------------------------ 0.3/2.8 GB 20.5 MB/s eta 0:02:05\n",
      "   --- ------------------------------------ 0.3/2.8 GB 20.3 MB/s eta 0:02:06\n",
      "   --- ------------------------------------ 0.3/2.8 GB 20.4 MB/s eta 0:02:05\n",
      "   ---- ----------------------------------- 0.3/2.8 GB 20.4 MB/s eta 0:02:05\n",
      "   ---- ----------------------------------- 0.3/2.8 GB 20.3 MB/s eta 0:02:05\n",
      "   ---- ----------------------------------- 0.3/2.8 GB 20.3 MB/s eta 0:02:05\n",
      "   ---- ----------------------------------- 0.3/2.8 GB 20.5 MB/s eta 0:02:03\n",
      "   ---- ----------------------------------- 0.3/2.8 GB 20.6 MB/s eta 0:02:02\n",
      "   ---- ----------------------------------- 0.3/2.8 GB 20.5 MB/s eta 0:02:03\n",
      "   ---- ----------------------------------- 0.3/2.8 GB 20.8 MB/s eta 0:02:01\n",
      "   ---- ----------------------------------- 0.3/2.8 GB 20.6 MB/s eta 0:02:02\n",
      "   ---- ----------------------------------- 0.3/2.8 GB 20.7 MB/s eta 0:02:01\n",
      "   ---- ----------------------------------- 0.3/2.8 GB 20.7 MB/s eta 0:02:01\n",
      "   ---- ----------------------------------- 0.3/2.8 GB 20.7 MB/s eta 0:02:01\n",
      "   ---- ----------------------------------- 0.3/2.8 GB 20.7 MB/s eta 0:02:01\n",
      "   ---- ----------------------------------- 0.3/2.8 GB 20.7 MB/s eta 0:02:00\n",
      "   ---- ----------------------------------- 0.3/2.8 GB 20.6 MB/s eta 0:02:01\n",
      "   ---- ----------------------------------- 0.3/2.8 GB 21.1 MB/s eta 0:01:58\n",
      "   ---- ----------------------------------- 0.3/2.8 GB 20.7 MB/s eta 0:02:00\n",
      "   ----- ---------------------------------- 0.4/2.8 GB 20.8 MB/s eta 0:01:59\n",
      "   ----- ---------------------------------- 0.4/2.8 GB 20.6 MB/s eta 0:02:00\n",
      "   ----- ---------------------------------- 0.4/2.8 GB 20.5 MB/s eta 0:02:00\n",
      "   ----- ---------------------------------- 0.4/2.8 GB 20.9 MB/s eta 0:01:58\n",
      "   ----- ---------------------------------- 0.4/2.8 GB 20.9 MB/s eta 0:01:58\n",
      "   ----- ---------------------------------- 0.4/2.8 GB 20.7 MB/s eta 0:01:58\n",
      "   ----- ---------------------------------- 0.4/2.8 GB 20.8 MB/s eta 0:01:58\n",
      "   ----- ---------------------------------- 0.4/2.8 GB 20.5 MB/s eta 0:01:59\n",
      "   ----- ---------------------------------- 0.4/2.8 GB 20.5 MB/s eta 0:01:59\n",
      "   ----- ---------------------------------- 0.4/2.8 GB 20.8 MB/s eta 0:01:57\n",
      "   ----- ---------------------------------- 0.4/2.8 GB 20.8 MB/s eta 0:01:57\n",
      "   ----- ---------------------------------- 0.4/2.8 GB 21.0 MB/s eta 0:01:55\n",
      "   ----- ---------------------------------- 0.4/2.8 GB 20.8 MB/s eta 0:01:56\n",
      "   ----- ---------------------------------- 0.4/2.8 GB 21.5 MB/s eta 0:01:52\n",
      "   ----- ---------------------------------- 0.4/2.8 GB 21.4 MB/s eta 0:01:53\n",
      "   ------ --------------------------------- 0.4/2.8 GB 21.7 MB/s eta 0:01:51\n",
      "   ------ --------------------------------- 0.4/2.8 GB 21.7 MB/s eta 0:01:51\n",
      "   ------ --------------------------------- 0.4/2.8 GB 21.4 MB/s eta 0:01:52\n",
      "   ------ --------------------------------- 0.4/2.8 GB 21.7 MB/s eta 0:01:50\n",
      "   ------ --------------------------------- 0.4/2.8 GB 21.5 MB/s eta 0:01:51\n",
      "   ------ --------------------------------- 0.4/2.8 GB 21.6 MB/s eta 0:01:50\n",
      "   ------ --------------------------------- 0.4/2.8 GB 21.3 MB/s eta 0:01:52\n",
      "   ------ --------------------------------- 0.5/2.8 GB 21.2 MB/s eta 0:01:52\n",
      "   ------ --------------------------------- 0.5/2.8 GB 21.2 MB/s eta 0:01:52\n",
      "   ------ --------------------------------- 0.5/2.8 GB 21.4 MB/s eta 0:01:50\n",
      "   ------ --------------------------------- 0.5/2.8 GB 21.2 MB/s eta 0:01:52\n",
      "   ------ --------------------------------- 0.5/2.8 GB 21.1 MB/s eta 0:01:52\n",
      "   ------ --------------------------------- 0.5/2.8 GB 21.0 MB/s eta 0:01:52\n",
      "   ------ --------------------------------- 0.5/2.8 GB 20.7 MB/s eta 0:01:53\n",
      "   ------ --------------------------------- 0.5/2.8 GB 20.9 MB/s eta 0:01:52\n",
      "   ------ --------------------------------- 0.5/2.8 GB 20.7 MB/s eta 0:01:53\n",
      "   ------ --------------------------------- 0.5/2.8 GB 20.8 MB/s eta 0:01:52\n",
      "   ------- -------------------------------- 0.5/2.8 GB 21.2 MB/s eta 0:01:50\n",
      "   ------- -------------------------------- 0.5/2.8 GB 21.0 MB/s eta 0:01:51\n",
      "   ------- -------------------------------- 0.5/2.8 GB 21.1 MB/s eta 0:01:50\n",
      "   ------- -------------------------------- 0.5/2.8 GB 20.8 MB/s eta 0:01:52\n",
      "   ------- -------------------------------- 0.5/2.8 GB 21.2 MB/s eta 0:01:49\n",
      "   ------- -------------------------------- 0.5/2.8 GB 21.0 MB/s eta 0:01:50\n",
      "   ------- -------------------------------- 0.5/2.8 GB 21.3 MB/s eta 0:01:48\n",
      "   ------- -------------------------------- 0.5/2.8 GB 21.0 MB/s eta 0:01:49\n",
      "   ------- -------------------------------- 0.5/2.8 GB 21.4 MB/s eta 0:01:47\n",
      "   ------- -------------------------------- 0.5/2.8 GB 21.1 MB/s eta 0:01:49\n",
      "   ------- -------------------------------- 0.5/2.8 GB 21.2 MB/s eta 0:01:48\n",
      "   ------- -------------------------------- 0.5/2.8 GB 21.2 MB/s eta 0:01:48\n",
      "   ------- -------------------------------- 0.5/2.8 GB 21.1 MB/s eta 0:01:48\n",
      "   ------- -------------------------------- 0.6/2.8 GB 20.8 MB/s eta 0:01:49\n",
      "   ------- -------------------------------- 0.6/2.8 GB 20.8 MB/s eta 0:01:49\n",
      "   ------- -------------------------------- 0.6/2.8 GB 20.9 MB/s eta 0:01:48\n",
      "   -------- ------------------------------- 0.6/2.8 GB 20.9 MB/s eta 0:01:48\n",
      "   -------- ------------------------------- 0.6/2.8 GB 21.1 MB/s eta 0:01:47\n",
      "   -------- ------------------------------- 0.6/2.8 GB 21.1 MB/s eta 0:01:47\n",
      "   -------- ------------------------------- 0.6/2.8 GB 21.0 MB/s eta 0:01:47\n",
      "   -------- ------------------------------- 0.6/2.8 GB 21.2 MB/s eta 0:01:46\n",
      "   -------- ------------------------------- 0.6/2.8 GB 21.1 MB/s eta 0:01:46\n",
      "   -------- ------------------------------- 0.6/2.8 GB 21.1 MB/s eta 0:01:46\n",
      "   -------- ------------------------------- 0.6/2.8 GB 21.1 MB/s eta 0:01:46\n",
      "   -------- ------------------------------- 0.6/2.8 GB 21.2 MB/s eta 0:01:45\n",
      "   -------- ------------------------------- 0.6/2.8 GB 21.5 MB/s eta 0:01:43\n",
      "   -------- ------------------------------- 0.6/2.8 GB 21.6 MB/s eta 0:01:42\n",
      "   -------- ------------------------------- 0.6/2.8 GB 21.7 MB/s eta 0:01:42\n",
      "   -------- ------------------------------- 0.6/2.8 GB 21.3 MB/s eta 0:01:44\n",
      "   -------- ------------------------------- 0.6/2.8 GB 21.2 MB/s eta 0:01:44\n",
      "   -------- ------------------------------- 0.6/2.8 GB 21.2 MB/s eta 0:01:43\n",
      "   --------- ------------------------------ 0.6/2.8 GB 21.1 MB/s eta 0:01:44\n",
      "   --------- ------------------------------ 0.6/2.8 GB 21.3 MB/s eta 0:01:43\n",
      "   --------- ------------------------------ 0.6/2.8 GB 21.3 MB/s eta 0:01:43\n",
      "   --------- ------------------------------ 0.6/2.8 GB 21.0 MB/s eta 0:01:44\n",
      "   --------- ------------------------------ 0.6/2.8 GB 21.0 MB/s eta 0:01:44\n",
      "   --------- ------------------------------ 0.7/2.8 GB 20.9 MB/s eta 0:01:44\n",
      "   --------- ------------------------------ 0.7/2.8 GB 20.8 MB/s eta 0:01:44\n",
      "   --------- ------------------------------ 0.7/2.8 GB 20.8 MB/s eta 0:01:44\n",
      "   --------- ------------------------------ 0.7/2.8 GB 20.8 MB/s eta 0:01:44\n",
      "   --------- ------------------------------ 0.7/2.8 GB 21.0 MB/s eta 0:01:43\n",
      "   --------- ------------------------------ 0.7/2.8 GB 20.6 MB/s eta 0:01:44\n",
      "   --------- ------------------------------ 0.7/2.8 GB 20.7 MB/s eta 0:01:44\n",
      "   --------- ------------------------------ 0.7/2.8 GB 20.6 MB/s eta 0:01:44\n",
      "   --------- ------------------------------ 0.7/2.8 GB 20.6 MB/s eta 0:01:44\n",
      "   --------- ------------------------------ 0.7/2.8 GB 20.4 MB/s eta 0:01:44\n",
      "   --------- ------------------------------ 0.7/2.8 GB 20.4 MB/s eta 0:01:45\n",
      "   --------- ------------------------------ 0.7/2.8 GB 20.3 MB/s eta 0:01:45\n",
      "   ---------- ----------------------------- 0.7/2.8 GB 20.4 MB/s eta 0:01:44\n",
      "   ---------- ----------------------------- 0.7/2.8 GB 21.0 MB/s eta 0:01:41\n",
      "   ---------- ----------------------------- 0.7/2.8 GB 20.9 MB/s eta 0:01:41\n",
      "   ---------- ----------------------------- 0.7/2.8 GB 21.2 MB/s eta 0:01:39\n",
      "   ---------- ----------------------------- 0.7/2.8 GB 21.3 MB/s eta 0:01:39\n",
      "   ---------- ----------------------------- 0.7/2.8 GB 21.3 MB/s eta 0:01:39\n",
      "   ---------- ----------------------------- 0.7/2.8 GB 21.1 MB/s eta 0:01:39\n",
      "   ---------- ----------------------------- 0.7/2.8 GB 21.5 MB/s eta 0:01:37\n",
      "   ---------- ----------------------------- 0.7/2.8 GB 21.6 MB/s eta 0:01:36\n",
      "   ---------- ----------------------------- 0.8/2.8 GB 21.6 MB/s eta 0:01:36\n",
      "   ---------- ----------------------------- 0.8/2.8 GB 21.7 MB/s eta 0:01:35\n",
      "   ---------- ----------------------------- 0.8/2.8 GB 21.7 MB/s eta 0:01:35\n",
      "   ---------- ----------------------------- 0.8/2.8 GB 21.5 MB/s eta 0:01:36\n",
      "   ---------- ----------------------------- 0.8/2.8 GB 21.4 MB/s eta 0:01:36\n",
      "   ---------- ----------------------------- 0.8/2.8 GB 21.4 MB/s eta 0:01:36\n",
      "   ----------- ---------------------------- 0.8/2.8 GB 21.7 MB/s eta 0:01:35\n",
      "   ----------- ---------------------------- 0.8/2.8 GB 21.4 MB/s eta 0:01:36\n",
      "   ----------- ---------------------------- 0.8/2.8 GB 21.4 MB/s eta 0:01:35\n",
      "   ----------- ---------------------------- 0.8/2.8 GB 21.2 MB/s eta 0:01:36\n",
      "   ----------- ---------------------------- 0.8/2.8 GB 21.4 MB/s eta 0:01:35\n",
      "   ----------- ---------------------------- 0.8/2.8 GB 21.5 MB/s eta 0:01:34\n",
      "   ----------- ---------------------------- 0.8/2.8 GB 21.4 MB/s eta 0:01:34\n",
      "   ----------- ---------------------------- 0.8/2.8 GB 21.3 MB/s eta 0:01:35\n",
      "   ----------- ---------------------------- 0.8/2.8 GB 21.9 MB/s eta 0:01:32\n",
      "   ----------- ---------------------------- 0.8/2.8 GB 21.7 MB/s eta 0:01:33\n",
      "   ----------- ---------------------------- 0.8/2.8 GB 21.5 MB/s eta 0:01:33\n",
      "   ----------- ---------------------------- 0.8/2.8 GB 21.5 MB/s eta 0:01:33\n",
      "   ----------- ---------------------------- 0.8/2.8 GB 21.5 MB/s eta 0:01:33\n",
      "   ----------- ---------------------------- 0.8/2.8 GB 21.4 MB/s eta 0:01:33\n",
      "   ----------- ---------------------------- 0.8/2.8 GB 21.5 MB/s eta 0:01:32\n",
      "   ----------- ---------------------------- 0.8/2.8 GB 21.3 MB/s eta 0:01:33\n",
      "   ------------ --------------------------- 0.9/2.8 GB 21.4 MB/s eta 0:01:32\n",
      "   ------------ --------------------------- 0.9/2.8 GB 21.2 MB/s eta 0:01:33\n",
      "   ------------ --------------------------- 0.9/2.8 GB 21.1 MB/s eta 0:01:34\n",
      "   ------------ --------------------------- 0.9/2.8 GB 21.0 MB/s eta 0:01:34\n",
      "   ------------ --------------------------- 0.9/2.8 GB 20.8 MB/s eta 0:01:35\n",
      "   ------------ --------------------------- 0.9/2.8 GB 20.9 MB/s eta 0:01:34\n",
      "   ------------ --------------------------- 0.9/2.8 GB 20.8 MB/s eta 0:01:34\n",
      "   ------------ --------------------------- 0.9/2.8 GB 20.7 MB/s eta 0:01:34\n",
      "   ------------ --------------------------- 0.9/2.8 GB 20.7 MB/s eta 0:01:34\n",
      "   ------------ --------------------------- 0.9/2.8 GB 21.0 MB/s eta 0:01:33\n",
      "   ------------ --------------------------- 0.9/2.8 GB 20.7 MB/s eta 0:01:34\n",
      "   ------------ --------------------------- 0.9/2.8 GB 20.9 MB/s eta 0:01:32\n",
      "   ------------ --------------------------- 0.9/2.8 GB 21.0 MB/s eta 0:01:32\n",
      "   ------------ --------------------------- 0.9/2.8 GB 20.9 MB/s eta 0:01:32\n",
      "   ------------ --------------------------- 0.9/2.8 GB 21.5 MB/s eta 0:01:29\n",
      "   ------------ --------------------------- 0.9/2.8 GB 21.2 MB/s eta 0:01:30\n",
      "   ------------- -------------------------- 0.9/2.8 GB 21.2 MB/s eta 0:01:30\n",
      "   ------------- -------------------------- 0.9/2.8 GB 21.3 MB/s eta 0:01:29\n",
      "   ------------- -------------------------- 0.9/2.8 GB 21.1 MB/s eta 0:01:30\n",
      "   ------------- -------------------------- 0.9/2.8 GB 20.9 MB/s eta 0:01:31\n",
      "   ------------- -------------------------- 0.9/2.8 GB 21.2 MB/s eta 0:01:29\n",
      "   ------------- -------------------------- 0.9/2.8 GB 21.2 MB/s eta 0:01:29\n",
      "   ------------- -------------------------- 0.9/2.8 GB 21.1 MB/s eta 0:01:29\n",
      "   ------------- -------------------------- 0.9/2.8 GB 21.2 MB/s eta 0:01:29\n",
      "   ------------- -------------------------- 1.0/2.8 GB 21.0 MB/s eta 0:01:30\n",
      "   ------------- -------------------------- 1.0/2.8 GB 21.0 MB/s eta 0:01:29\n",
      "   ------------- -------------------------- 1.0/2.8 GB 20.9 MB/s eta 0:01:30\n",
      "   ------------- -------------------------- 1.0/2.8 GB 21.1 MB/s eta 0:01:28\n",
      "   ------------- -------------------------- 1.0/2.8 GB 20.9 MB/s eta 0:01:29\n",
      "   ------------- -------------------------- 1.0/2.8 GB 20.8 MB/s eta 0:01:30\n",
      "   ------------- -------------------------- 1.0/2.8 GB 20.6 MB/s eta 0:01:30\n",
      "   ------------- -------------------------- 1.0/2.8 GB 20.6 MB/s eta 0:01:30\n",
      "   ------------- -------------------------- 1.0/2.8 GB 20.6 MB/s eta 0:01:30\n",
      "   ------------- -------------------------- 1.0/2.8 GB 20.4 MB/s eta 0:01:30\n",
      "   -------------- ------------------------- 1.0/2.8 GB 20.3 MB/s eta 0:01:31\n",
      "   -------------- ------------------------- 1.0/2.8 GB 20.2 MB/s eta 0:01:31\n",
      "   -------------- ------------------------- 1.0/2.8 GB 20.2 MB/s eta 0:01:31\n",
      "   -------------- ------------------------- 1.0/2.8 GB 20.1 MB/s eta 0:01:31\n",
      "   -------------- ------------------------- 1.0/2.8 GB 19.9 MB/s eta 0:01:32\n",
      "   -------------- ------------------------- 1.0/2.8 GB 19.9 MB/s eta 0:01:32\n",
      "   -------------- ------------------------- 1.0/2.8 GB 19.9 MB/s eta 0:01:31\n",
      "   -------------- ------------------------- 1.0/2.8 GB 19.7 MB/s eta 0:01:32\n",
      "   -------------- ------------------------- 1.0/2.8 GB 19.6 MB/s eta 0:01:32\n",
      "   -------------- ------------------------- 1.0/2.8 GB 19.6 MB/s eta 0:01:32\n",
      "   -------------- ------------------------- 1.0/2.8 GB 19.8 MB/s eta 0:01:31\n",
      "   -------------- ------------------------- 1.0/2.8 GB 19.8 MB/s eta 0:01:31\n",
      "   -------------- ------------------------- 1.0/2.8 GB 19.9 MB/s eta 0:01:30\n",
      "   -------------- ------------------------- 1.0/2.8 GB 19.7 MB/s eta 0:01:31\n",
      "   -------------- ------------------------- 1.0/2.8 GB 19.6 MB/s eta 0:01:31\n",
      "   -------------- ------------------------- 1.0/2.8 GB 19.8 MB/s eta 0:01:30\n",
      "   -------------- ------------------------- 1.0/2.8 GB 19.5 MB/s eta 0:01:31\n",
      "   -------------- ------------------------- 1.0/2.8 GB 19.3 MB/s eta 0:01:32\n",
      "   --------------- ------------------------ 1.1/2.8 GB 19.6 MB/s eta 0:01:30\n",
      "   --------------- ------------------------ 1.1/2.8 GB 19.6 MB/s eta 0:01:30\n",
      "   --------------- ------------------------ 1.1/2.8 GB 19.7 MB/s eta 0:01:29\n",
      "   --------------- ------------------------ 1.1/2.8 GB 19.5 MB/s eta 0:01:30\n",
      "   --------------- ------------------------ 1.1/2.8 GB 19.4 MB/s eta 0:01:30\n",
      "   --------------- ------------------------ 1.1/2.8 GB 19.6 MB/s eta 0:01:29\n",
      "   --------------- ------------------------ 1.1/2.8 GB 19.8 MB/s eta 0:01:28\n",
      "   --------------- ------------------------ 1.1/2.8 GB 19.8 MB/s eta 0:01:27\n",
      "   --------------- ------------------------ 1.1/2.8 GB 19.9 MB/s eta 0:01:27\n",
      "   --------------- ------------------------ 1.1/2.8 GB 19.7 MB/s eta 0:01:27\n",
      "   --------------- ------------------------ 1.1/2.8 GB 19.9 MB/s eta 0:01:26\n",
      "   --------------- ------------------------ 1.1/2.8 GB 19.9 MB/s eta 0:01:26\n",
      "   --------------- ------------------------ 1.1/2.8 GB 20.0 MB/s eta 0:01:25\n",
      "   --------------- ------------------------ 1.1/2.8 GB 20.0 MB/s eta 0:01:25\n",
      "   --------------- ------------------------ 1.1/2.8 GB 20.0 MB/s eta 0:01:25\n",
      "   ---------------- ----------------------- 1.1/2.8 GB 20.2 MB/s eta 0:01:24\n",
      "   ---------------- ----------------------- 1.1/2.8 GB 20.3 MB/s eta 0:01:23\n",
      "   ---------------- ----------------------- 1.1/2.8 GB 20.1 MB/s eta 0:01:24\n",
      "   ---------------- ----------------------- 1.1/2.8 GB 19.9 MB/s eta 0:01:25\n",
      "   ---------------- ----------------------- 1.1/2.8 GB 19.9 MB/s eta 0:01:25\n",
      "   ---------------- ----------------------- 1.1/2.8 GB 20.1 MB/s eta 0:01:23\n",
      "   ---------------- ----------------------- 1.2/2.8 GB 20.0 MB/s eta 0:01:24\n",
      "   ---------------- ----------------------- 1.2/2.8 GB 19.9 MB/s eta 0:01:24\n",
      "   ---------------- ----------------------- 1.2/2.8 GB 19.8 MB/s eta 0:01:24\n",
      "   ---------------- ----------------------- 1.2/2.8 GB 19.6 MB/s eta 0:01:25\n",
      "   ---------------- ----------------------- 1.2/2.8 GB 19.7 MB/s eta 0:01:24\n",
      "   ---------------- ----------------------- 1.2/2.8 GB 19.6 MB/s eta 0:01:24\n",
      "   ---------------- ----------------------- 1.2/2.8 GB 19.5 MB/s eta 0:01:25\n",
      "   ---------------- ----------------------- 1.2/2.8 GB 19.5 MB/s eta 0:01:24\n",
      "   ---------------- ----------------------- 1.2/2.8 GB 19.5 MB/s eta 0:01:24\n",
      "   ---------------- ----------------------- 1.2/2.8 GB 19.0 MB/s eta 0:01:27\n",
      "   ---------------- ----------------------- 1.2/2.8 GB 19.4 MB/s eta 0:01:24\n",
      "   ---------------- ----------------------- 1.2/2.8 GB 19.3 MB/s eta 0:01:25\n",
      "   ---------------- ----------------------- 1.2/2.8 GB 19.1 MB/s eta 0:01:26\n",
      "   ----------------- ---------------------- 1.2/2.8 GB 19.0 MB/s eta 0:01:26\n",
      "   ----------------- ---------------------- 1.2/2.8 GB 18.9 MB/s eta 0:01:26\n",
      "   ----------------- ---------------------- 1.2/2.8 GB 18.9 MB/s eta 0:01:26\n",
      "   ----------------- ---------------------- 1.2/2.8 GB 18.9 MB/s eta 0:01:25\n",
      "   ----------------- ---------------------- 1.2/2.8 GB 18.9 MB/s eta 0:01:25\n",
      "   ----------------- ---------------------- 1.2/2.8 GB 19.0 MB/s eta 0:01:25\n",
      "   ----------------- ---------------------- 1.2/2.8 GB 19.0 MB/s eta 0:01:25\n",
      "   ----------------- ---------------------- 1.2/2.8 GB 19.0 MB/s eta 0:01:24\n",
      "   ----------------- ---------------------- 1.2/2.8 GB 19.0 MB/s eta 0:01:24\n",
      "   ----------------- ---------------------- 1.2/2.8 GB 19.1 MB/s eta 0:01:24\n",
      "   ----------------- ---------------------- 1.2/2.8 GB 19.0 MB/s eta 0:01:24\n",
      "   ----------------- ---------------------- 1.2/2.8 GB 19.0 MB/s eta 0:01:23\n",
      "   ----------------- ---------------------- 1.2/2.8 GB 19.1 MB/s eta 0:01:23\n",
      "   ----------------- ---------------------- 1.2/2.8 GB 19.0 MB/s eta 0:01:23\n",
      "   ----------------- ---------------------- 1.3/2.8 GB 19.1 MB/s eta 0:01:23\n",
      "   ----------------- ---------------------- 1.3/2.8 GB 19.1 MB/s eta 0:01:22\n",
      "   ----------------- ---------------------- 1.3/2.8 GB 19.1 MB/s eta 0:01:22\n",
      "   ----------------- ---------------------- 1.3/2.8 GB 19.1 MB/s eta 0:01:22\n",
      "   ----------------- ---------------------- 1.3/2.8 GB 19.1 MB/s eta 0:01:22\n",
      "   ------------------ --------------------- 1.3/2.8 GB 19.1 MB/s eta 0:01:21\n",
      "   ------------------ --------------------- 1.3/2.8 GB 19.2 MB/s eta 0:01:21\n",
      "   ------------------ --------------------- 1.3/2.8 GB 19.3 MB/s eta 0:01:20\n",
      "   ------------------ --------------------- 1.3/2.8 GB 19.1 MB/s eta 0:01:21\n",
      "   ------------------ --------------------- 1.3/2.8 GB 19.2 MB/s eta 0:01:20\n",
      "   ------------------ --------------------- 1.3/2.8 GB 19.1 MB/s eta 0:01:20\n",
      "   ------------------ --------------------- 1.3/2.8 GB 19.1 MB/s eta 0:01:20\n",
      "   ------------------ --------------------- 1.3/2.8 GB 19.4 MB/s eta 0:01:19\n",
      "   ------------------ --------------------- 1.3/2.8 GB 19.3 MB/s eta 0:01:19\n",
      "   ------------------ --------------------- 1.3/2.8 GB 19.0 MB/s eta 0:01:20\n",
      "   ------------------ --------------------- 1.3/2.8 GB 19.6 MB/s eta 0:01:17\n",
      "   ------------------ --------------------- 1.3/2.8 GB 19.4 MB/s eta 0:01:18\n",
      "   ------------------ --------------------- 1.3/2.8 GB 19.3 MB/s eta 0:01:18\n",
      "   ------------------ --------------------- 1.3/2.8 GB 19.3 MB/s eta 0:01:18\n",
      "   ------------------ --------------------- 1.3/2.8 GB 19.5 MB/s eta 0:01:17\n",
      "   ------------------ --------------------- 1.3/2.8 GB 19.4 MB/s eta 0:01:17\n",
      "   ------------------- -------------------- 1.3/2.8 GB 19.3 MB/s eta 0:01:17\n",
      "   ------------------- -------------------- 1.3/2.8 GB 19.3 MB/s eta 0:01:17\n",
      "   ------------------- -------------------- 1.4/2.8 GB 19.2 MB/s eta 0:01:17\n",
      "   ------------------- -------------------- 1.4/2.8 GB 19.2 MB/s eta 0:01:17\n",
      "   ------------------- -------------------- 1.4/2.8 GB 19.1 MB/s eta 0:01:17\n",
      "   ------------------- -------------------- 1.4/2.8 GB 19.1 MB/s eta 0:01:17\n",
      "   ------------------- -------------------- 1.4/2.8 GB 19.3 MB/s eta 0:01:15\n",
      "   ------------------- -------------------- 1.4/2.8 GB 19.3 MB/s eta 0:01:15\n",
      "   ------------------- -------------------- 1.4/2.8 GB 19.5 MB/s eta 0:01:14\n",
      "   ------------------- -------------------- 1.4/2.8 GB 19.2 MB/s eta 0:01:15\n",
      "   ------------------- -------------------- 1.4/2.8 GB 19.3 MB/s eta 0:01:15\n",
      "   ------------------- -------------------- 1.4/2.8 GB 19.2 MB/s eta 0:01:15\n",
      "   ------------------- -------------------- 1.4/2.8 GB 19.3 MB/s eta 0:01:14\n",
      "   ------------------- -------------------- 1.4/2.8 GB 19.1 MB/s eta 0:01:15\n",
      "   ------------------- -------------------- 1.4/2.8 GB 19.6 MB/s eta 0:01:12\n",
      "   -------------------- ------------------- 1.4/2.8 GB 19.4 MB/s eta 0:01:13\n",
      "   -------------------- ------------------- 1.4/2.8 GB 19.7 MB/s eta 0:01:12\n",
      "   -------------------- ------------------- 1.4/2.8 GB 19.5 MB/s eta 0:01:12\n",
      "   -------------------- ------------------- 1.4/2.8 GB 19.7 MB/s eta 0:01:11\n",
      "   -------------------- ------------------- 1.4/2.8 GB 19.8 MB/s eta 0:01:11\n",
      "   -------------------- ------------------- 1.4/2.8 GB 19.8 MB/s eta 0:01:11\n",
      "   -------------------- ------------------- 1.4/2.8 GB 19.8 MB/s eta 0:01:10\n",
      "   -------------------- ------------------- 1.4/2.8 GB 19.8 MB/s eta 0:01:10\n",
      "   -------------------- ------------------- 1.4/2.8 GB 20.3 MB/s eta 0:01:08\n",
      "   -------------------- ------------------- 1.5/2.8 GB 20.7 MB/s eta 0:01:06\n",
      "   -------------------- ------------------- 1.5/2.8 GB 20.5 MB/s eta 0:01:07\n",
      "   -------------------- ------------------- 1.5/2.8 GB 20.5 MB/s eta 0:01:07\n",
      "   -------------------- ------------------- 1.5/2.8 GB 21.0 MB/s eta 0:01:05\n",
      "   -------------------- ------------------- 1.5/2.8 GB 20.7 MB/s eta 0:01:06\n",
      "   -------------------- ------------------- 1.5/2.8 GB 21.0 MB/s eta 0:01:05\n",
      "   --------------------- ------------------ 1.5/2.8 GB 21.1 MB/s eta 0:01:04\n",
      "   --------------------- ------------------ 1.5/2.8 GB 21.2 MB/s eta 0:01:03\n",
      "   --------------------- ------------------ 1.5/2.8 GB 21.1 MB/s eta 0:01:03\n",
      "   --------------------- ------------------ 1.5/2.8 GB 21.2 MB/s eta 0:01:03\n",
      "   --------------------- ------------------ 1.5/2.8 GB 21.4 MB/s eta 0:01:02\n",
      "   --------------------- ------------------ 1.5/2.8 GB 21.5 MB/s eta 0:01:02\n",
      "   --------------------- ------------------ 1.5/2.8 GB 21.6 MB/s eta 0:01:01\n",
      "   --------------------- ------------------ 1.5/2.8 GB 21.6 MB/s eta 0:01:01\n",
      "   --------------------- ------------------ 1.5/2.8 GB 21.5 MB/s eta 0:01:01\n",
      "   --------------------- ------------------ 1.5/2.8 GB 21.6 MB/s eta 0:01:00\n",
      "   --------------------- ------------------ 1.5/2.8 GB 21.9 MB/s eta 0:00:59\n",
      "   --------------------- ------------------ 1.5/2.8 GB 22.0 MB/s eta 0:00:59\n",
      "   --------------------- ------------------ 1.5/2.8 GB 21.8 MB/s eta 0:00:59\n",
      "   --------------------- ------------------ 1.5/2.8 GB 21.8 MB/s eta 0:00:59\n",
      "   --------------------- ------------------ 1.5/2.8 GB 22.0 MB/s eta 0:00:58\n",
      "   --------------------- ------------------ 1.5/2.8 GB 21.7 MB/s eta 0:00:59\n",
      "   --------------------- ------------------ 1.5/2.8 GB 21.7 MB/s eta 0:00:59\n",
      "   ---------------------- ----------------- 1.6/2.8 GB 21.6 MB/s eta 0:00:59\n",
      "   ---------------------- ----------------- 1.6/2.8 GB 21.2 MB/s eta 0:01:00\n",
      "   ---------------------- ----------------- 1.6/2.8 GB 21.3 MB/s eta 0:01:00\n",
      "   ---------------------- ----------------- 1.6/2.8 GB 21.5 MB/s eta 0:00:59\n",
      "   ---------------------- ----------------- 1.6/2.8 GB 21.4 MB/s eta 0:00:59\n",
      "   ---------------------- ----------------- 1.6/2.8 GB 21.5 MB/s eta 0:00:58\n",
      "   ---------------------- ----------------- 1.6/2.8 GB 21.3 MB/s eta 0:00:59\n",
      "   ---------------------- ----------------- 1.6/2.8 GB 21.3 MB/s eta 0:00:59\n",
      "   ---------------------- ----------------- 1.6/2.8 GB 21.6 MB/s eta 0:00:57\n",
      "   ---------------------- ----------------- 1.6/2.8 GB 21.7 MB/s eta 0:00:57\n",
      "   ---------------------- ----------------- 1.6/2.8 GB 21.4 MB/s eta 0:00:58\n",
      "   ---------------------- ----------------- 1.6/2.8 GB 21.5 MB/s eta 0:00:57\n",
      "   ---------------------- ----------------- 1.6/2.8 GB 21.7 MB/s eta 0:00:56\n",
      "   ---------------------- ----------------- 1.6/2.8 GB 21.2 MB/s eta 0:00:58\n",
      "   ---------------------- ----------------- 1.6/2.8 GB 20.8 MB/s eta 0:00:59\n",
      "   ---------------------- ----------------- 1.6/2.8 GB 21.1 MB/s eta 0:00:58\n",
      "   ---------------------- ----------------- 1.6/2.8 GB 20.9 MB/s eta 0:00:58\n",
      "   ----------------------- ---------------- 1.6/2.8 GB 20.9 MB/s eta 0:00:58\n",
      "   ----------------------- ---------------- 1.6/2.8 GB 21.0 MB/s eta 0:00:57\n",
      "   ----------------------- ---------------- 1.6/2.8 GB 20.8 MB/s eta 0:00:58\n",
      "   ----------------------- ---------------- 1.6/2.8 GB 21.0 MB/s eta 0:00:57\n",
      "   ----------------------- ---------------- 1.6/2.8 GB 20.7 MB/s eta 0:00:58\n",
      "   ----------------------- ---------------- 1.6/2.8 GB 20.6 MB/s eta 0:00:57\n",
      "   ----------------------- ---------------- 1.6/2.8 GB 20.9 MB/s eta 0:00:56\n",
      "   ----------------------- ---------------- 1.6/2.8 GB 20.7 MB/s eta 0:00:57\n",
      "   ----------------------- ---------------- 1.7/2.8 GB 20.6 MB/s eta 0:00:57\n",
      "   ----------------------- ---------------- 1.7/2.8 GB 20.7 MB/s eta 0:00:57\n",
      "   ----------------------- ---------------- 1.7/2.8 GB 20.8 MB/s eta 0:00:56\n",
      "   ----------------------- ---------------- 1.7/2.8 GB 20.8 MB/s eta 0:00:56\n",
      "   ----------------------- ---------------- 1.7/2.8 GB 20.7 MB/s eta 0:00:56\n",
      "   ----------------------- ---------------- 1.7/2.8 GB 20.6 MB/s eta 0:00:56\n",
      "   ----------------------- ---------------- 1.7/2.8 GB 20.6 MB/s eta 0:00:56\n",
      "   ----------------------- ---------------- 1.7/2.8 GB 20.7 MB/s eta 0:00:55\n",
      "   ----------------------- ---------------- 1.7/2.8 GB 20.5 MB/s eta 0:00:55\n",
      "   ------------------------ --------------- 1.7/2.8 GB 20.7 MB/s eta 0:00:55\n",
      "   ------------------------ --------------- 1.7/2.8 GB 20.5 MB/s eta 0:00:55\n",
      "   ------------------------ --------------- 1.7/2.8 GB 20.7 MB/s eta 0:00:54\n",
      "   ------------------------ --------------- 1.7/2.8 GB 20.7 MB/s eta 0:00:54\n",
      "   ------------------------ --------------- 1.7/2.8 GB 20.6 MB/s eta 0:00:54\n",
      "   ------------------------ --------------- 1.7/2.8 GB 20.6 MB/s eta 0:00:54\n",
      "   ------------------------ --------------- 1.7/2.8 GB 20.6 MB/s eta 0:00:54\n",
      "   ------------------------ --------------- 1.7/2.8 GB 20.6 MB/s eta 0:00:53\n",
      "   ------------------------ --------------- 1.7/2.8 GB 20.6 MB/s eta 0:00:53\n",
      "   ------------------------ --------------- 1.7/2.8 GB 20.4 MB/s eta 0:00:54\n",
      "   ------------------------ --------------- 1.7/2.8 GB 20.5 MB/s eta 0:00:53\n",
      "   ------------------------ --------------- 1.7/2.8 GB 20.6 MB/s eta 0:00:52\n",
      "   ------------------------ --------------- 1.7/2.8 GB 20.5 MB/s eta 0:00:53\n",
      "   ------------------------ --------------- 1.8/2.8 GB 20.5 MB/s eta 0:00:52\n",
      "   ------------------------- -------------- 1.8/2.8 GB 20.7 MB/s eta 0:00:52\n",
      "   ------------------------- -------------- 1.8/2.8 GB 20.5 MB/s eta 0:00:52\n",
      "   ------------------------- -------------- 1.8/2.8 GB 20.6 MB/s eta 0:00:51\n",
      "   ------------------------- -------------- 1.8/2.8 GB 20.8 MB/s eta 0:00:51\n",
      "   ------------------------- -------------- 1.8/2.8 GB 20.7 MB/s eta 0:00:51\n",
      "   ------------------------- -------------- 1.8/2.8 GB 20.7 MB/s eta 0:00:50\n",
      "   ------------------------- -------------- 1.8/2.8 GB 20.4 MB/s eta 0:00:51\n",
      "   ------------------------- -------------- 1.8/2.8 GB 20.5 MB/s eta 0:00:50\n",
      "   ------------------------- -------------- 1.8/2.8 GB 20.4 MB/s eta 0:00:50\n",
      "   ------------------------- -------------- 1.8/2.8 GB 20.6 MB/s eta 0:00:50\n",
      "   ------------------------- -------------- 1.8/2.8 GB 20.4 MB/s eta 0:00:50\n",
      "   ------------------------- -------------- 1.8/2.8 GB 20.6 MB/s eta 0:00:49\n",
      "   ------------------------- -------------- 1.8/2.8 GB 20.6 MB/s eta 0:00:49\n",
      "   ------------------------- -------------- 1.8/2.8 GB 20.9 MB/s eta 0:00:48\n",
      "   ------------------------- -------------- 1.8/2.8 GB 20.4 MB/s eta 0:00:50\n",
      "   ------------------------- -------------- 1.8/2.8 GB 20.3 MB/s eta 0:00:50\n",
      "   ------------------------- -------------- 1.8/2.8 GB 20.2 MB/s eta 0:00:50\n",
      "   ------------------------- -------------- 1.8/2.8 GB 20.1 MB/s eta 0:00:50\n",
      "   -------------------------- ------------- 1.8/2.8 GB 20.3 MB/s eta 0:00:49\n",
      "   -------------------------- ------------- 1.8/2.8 GB 20.3 MB/s eta 0:00:49\n",
      "   -------------------------- ------------- 1.8/2.8 GB 20.3 MB/s eta 0:00:49\n",
      "   -------------------------- ------------- 1.8/2.8 GB 20.3 MB/s eta 0:00:48\n",
      "   -------------------------- ------------- 1.8/2.8 GB 20.0 MB/s eta 0:00:49\n",
      "   -------------------------- ------------- 1.9/2.8 GB 20.3 MB/s eta 0:00:48\n",
      "   -------------------------- ------------- 1.9/2.8 GB 20.1 MB/s eta 0:00:48\n",
      "   -------------------------- ------------- 1.9/2.8 GB 20.0 MB/s eta 0:00:48\n",
      "   -------------------------- ------------- 1.9/2.8 GB 20.4 MB/s eta 0:00:47\n",
      "   -------------------------- ------------- 1.9/2.8 GB 20.6 MB/s eta 0:00:46\n",
      "   -------------------------- ------------- 1.9/2.8 GB 20.7 MB/s eta 0:00:46\n",
      "   -------------------------- ------------- 1.9/2.8 GB 20.8 MB/s eta 0:00:45\n",
      "   -------------------------- ------------- 1.9/2.8 GB 20.7 MB/s eta 0:00:45\n",
      "   -------------------------- ------------- 1.9/2.8 GB 20.8 MB/s eta 0:00:45\n",
      "   -------------------------- ------------- 1.9/2.8 GB 21.0 MB/s eta 0:00:44\n",
      "   -------------------------- ------------- 1.9/2.8 GB 21.0 MB/s eta 0:00:44\n",
      "   --------------------------- ------------ 1.9/2.8 GB 20.8 MB/s eta 0:00:44\n",
      "   --------------------------- ------------ 1.9/2.8 GB 20.6 MB/s eta 0:00:45\n",
      "   --------------------------- ------------ 1.9/2.8 GB 20.9 MB/s eta 0:00:44\n",
      "   --------------------------- ------------ 1.9/2.8 GB 20.9 MB/s eta 0:00:44\n",
      "   --------------------------- ------------ 1.9/2.8 GB 20.7 MB/s eta 0:00:44\n",
      "   --------------------------- ------------ 1.9/2.8 GB 20.9 MB/s eta 0:00:43\n",
      "   --------------------------- ------------ 1.9/2.8 GB 20.8 MB/s eta 0:00:43\n",
      "   --------------------------- ------------ 1.9/2.8 GB 20.8 MB/s eta 0:00:43\n",
      "   --------------------------- ------------ 1.9/2.8 GB 21.0 MB/s eta 0:00:42\n",
      "   --------------------------- ------------ 1.9/2.8 GB 21.0 MB/s eta 0:00:42\n",
      "   --------------------------- ------------ 1.9/2.8 GB 21.0 MB/s eta 0:00:42\n",
      "   --------------------------- ------------ 2.0/2.8 GB 20.7 MB/s eta 0:00:42\n",
      "   --------------------------- ------------ 2.0/2.8 GB 20.5 MB/s eta 0:00:42\n",
      "   --------------------------- ------------ 2.0/2.8 GB 20.7 MB/s eta 0:00:42\n",
      "   --------------------------- ------------ 2.0/2.8 GB 20.7 MB/s eta 0:00:42\n",
      "   --------------------------- ------------ 2.0/2.8 GB 20.5 MB/s eta 0:00:42\n",
      "   --------------------------- ------------ 2.0/2.8 GB 20.3 MB/s eta 0:00:42\n",
      "   ---------------------------- ----------- 2.0/2.8 GB 20.5 MB/s eta 0:00:41\n",
      "   ---------------------------- ----------- 2.0/2.8 GB 20.5 MB/s eta 0:00:41\n",
      "   ---------------------------- ----------- 2.0/2.8 GB 20.6 MB/s eta 0:00:41\n",
      "   ---------------------------- ----------- 2.0/2.8 GB 20.5 MB/s eta 0:00:41\n",
      "   ---------------------------- ----------- 2.0/2.8 GB 20.4 MB/s eta 0:00:41\n",
      "   ---------------------------- ----------- 2.0/2.8 GB 20.3 MB/s eta 0:00:41\n",
      "   ---------------------------- ----------- 2.0/2.8 GB 20.5 MB/s eta 0:00:40\n",
      "   ---------------------------- ----------- 2.0/2.8 GB 20.5 MB/s eta 0:00:40\n",
      "   ---------------------------- ----------- 2.0/2.8 GB 20.5 MB/s eta 0:00:40\n",
      "   ---------------------------- ----------- 2.0/2.8 GB 20.6 MB/s eta 0:00:39\n",
      "   ---------------------------- ----------- 2.0/2.8 GB 20.6 MB/s eta 0:00:39\n",
      "   ---------------------------- ----------- 2.0/2.8 GB 20.4 MB/s eta 0:00:39\n",
      "   ---------------------------- ----------- 2.0/2.8 GB 20.5 MB/s eta 0:00:39\n",
      "   ---------------------------- ----------- 2.0/2.8 GB 20.4 MB/s eta 0:00:39\n",
      "   ----------------------------- ---------- 2.0/2.8 GB 20.4 MB/s eta 0:00:38\n",
      "   ----------------------------- ---------- 2.0/2.8 GB 20.2 MB/s eta 0:00:39\n",
      "   ----------------------------- ---------- 2.0/2.8 GB 20.4 MB/s eta 0:00:38\n",
      "   ----------------------------- ---------- 2.1/2.8 GB 20.3 MB/s eta 0:00:38\n",
      "   ----------------------------- ---------- 2.1/2.8 GB 20.4 MB/s eta 0:00:38\n",
      "   ----------------------------- ---------- 2.1/2.8 GB 20.4 MB/s eta 0:00:37\n",
      "   ----------------------------- ---------- 2.1/2.8 GB 20.6 MB/s eta 0:00:37\n",
      "   ----------------------------- ---------- 2.1/2.8 GB 20.7 MB/s eta 0:00:36\n",
      "   ----------------------------- ---------- 2.1/2.8 GB 21.2 MB/s eta 0:00:35\n",
      "   ----------------------------- ---------- 2.1/2.8 GB 21.3 MB/s eta 0:00:35\n",
      "   ----------------------------- ---------- 2.1/2.8 GB 21.2 MB/s eta 0:00:35\n",
      "   ----------------------------- ---------- 2.1/2.8 GB 21.1 MB/s eta 0:00:35\n",
      "   ----------------------------- ---------- 2.1/2.8 GB 20.9 MB/s eta 0:00:35\n",
      "   ----------------------------- ---------- 2.1/2.8 GB 20.7 MB/s eta 0:00:35\n",
      "   ----------------------------- ---------- 2.1/2.8 GB 20.7 MB/s eta 0:00:35\n",
      "   ----------------------------- ---------- 2.1/2.8 GB 20.8 MB/s eta 0:00:35\n",
      "   ----------------------------- ---------- 2.1/2.8 GB 21.0 MB/s eta 0:00:34\n",
      "   ----------------------------- ---------- 2.1/2.8 GB 20.8 MB/s eta 0:00:34\n",
      "   ------------------------------ --------- 2.1/2.8 GB 20.7 MB/s eta 0:00:34\n",
      "   ------------------------------ --------- 2.1/2.8 GB 20.9 MB/s eta 0:00:34\n",
      "   ------------------------------ --------- 2.1/2.8 GB 21.0 MB/s eta 0:00:33\n",
      "   ------------------------------ --------- 2.1/2.8 GB 21.0 MB/s eta 0:00:33\n",
      "   ------------------------------ --------- 2.1/2.8 GB 20.9 MB/s eta 0:00:33\n",
      "   ------------------------------ --------- 2.1/2.8 GB 21.0 MB/s eta 0:00:33\n",
      "   ------------------------------ --------- 2.1/2.8 GB 20.6 MB/s eta 0:00:33\n",
      "   ------------------------------ --------- 2.1/2.8 GB 20.7 MB/s eta 0:00:33\n",
      "   ------------------------------ --------- 2.2/2.8 GB 20.5 MB/s eta 0:00:33\n",
      "   ------------------------------ --------- 2.2/2.8 GB 20.6 MB/s eta 0:00:32\n",
      "   ------------------------------ --------- 2.2/2.8 GB 20.6 MB/s eta 0:00:32\n",
      "   ------------------------------ --------- 2.2/2.8 GB 20.7 MB/s eta 0:00:32\n",
      "   ------------------------------ --------- 2.2/2.8 GB 20.4 MB/s eta 0:00:32\n",
      "   ------------------------------ --------- 2.2/2.8 GB 20.1 MB/s eta 0:00:33\n",
      "   ------------------------------ --------- 2.2/2.8 GB 20.1 MB/s eta 0:00:33\n",
      "   ------------------------------ --------- 2.2/2.8 GB 20.0 MB/s eta 0:00:33\n",
      "   ------------------------------ --------- 2.2/2.8 GB 19.8 MB/s eta 0:00:33\n",
      "   ------------------------------- -------- 2.2/2.8 GB 20.1 MB/s eta 0:00:32\n",
      "   ------------------------------- -------- 2.2/2.8 GB 20.1 MB/s eta 0:00:32\n",
      "   ------------------------------- -------- 2.2/2.8 GB 19.9 MB/s eta 0:00:32\n",
      "   ------------------------------- -------- 2.2/2.8 GB 19.8 MB/s eta 0:00:32\n",
      "   ------------------------------- -------- 2.2/2.8 GB 19.7 MB/s eta 0:00:32\n",
      "   ------------------------------- -------- 2.2/2.8 GB 19.6 MB/s eta 0:00:32\n",
      "   ------------------------------- -------- 2.2/2.8 GB 19.4 MB/s eta 0:00:32\n",
      "   ------------------------------- -------- 2.2/2.8 GB 19.4 MB/s eta 0:00:32\n",
      "   ------------------------------- -------- 2.2/2.8 GB 19.4 MB/s eta 0:00:32\n",
      "   ------------------------------- -------- 2.2/2.8 GB 19.4 MB/s eta 0:00:32\n",
      "   ------------------------------- -------- 2.2/2.8 GB 19.6 MB/s eta 0:00:31\n",
      "   ------------------------------- -------- 2.2/2.8 GB 19.5 MB/s eta 0:00:31\n",
      "   ------------------------------- -------- 2.2/2.8 GB 19.2 MB/s eta 0:00:31\n",
      "   ------------------------------- -------- 2.2/2.8 GB 19.4 MB/s eta 0:00:31\n",
      "   ------------------------------- -------- 2.2/2.8 GB 19.7 MB/s eta 0:00:30\n",
      "   ------------------------------- -------- 2.2/2.8 GB 19.4 MB/s eta 0:00:30\n",
      "   ------------------------------- -------- 2.2/2.8 GB 19.4 MB/s eta 0:00:30\n",
      "   ------------------------------- -------- 2.2/2.8 GB 19.2 MB/s eta 0:00:30\n",
      "   ------------------------------- -------- 2.3/2.8 GB 19.2 MB/s eta 0:00:30\n",
      "   -------------------------------- ------- 2.3/2.8 GB 19.3 MB/s eta 0:00:30\n",
      "   -------------------------------- ------- 2.3/2.8 GB 19.1 MB/s eta 0:00:30\n",
      "   -------------------------------- ------- 2.3/2.8 GB 19.2 MB/s eta 0:00:29\n",
      "   -------------------------------- ------- 2.3/2.8 GB 19.2 MB/s eta 0:00:29\n",
      "   -------------------------------- ------- 2.3/2.8 GB 19.0 MB/s eta 0:00:29\n",
      "   -------------------------------- ------- 2.3/2.8 GB 19.0 MB/s eta 0:00:29\n",
      "   -------------------------------- ------- 2.3/2.8 GB 18.9 MB/s eta 0:00:29\n",
      "   -------------------------------- ------- 2.3/2.8 GB 18.8 MB/s eta 0:00:29\n",
      "   -------------------------------- ------- 2.3/2.8 GB 18.7 MB/s eta 0:00:29\n",
      "   -------------------------------- ------- 2.3/2.8 GB 18.8 MB/s eta 0:00:29\n",
      "   -------------------------------- ------- 2.3/2.8 GB 18.7 MB/s eta 0:00:29\n",
      "   -------------------------------- ------- 2.3/2.8 GB 18.5 MB/s eta 0:00:29\n",
      "   -------------------------------- ------- 2.3/2.8 GB 18.4 MB/s eta 0:00:29\n",
      "   -------------------------------- ------- 2.3/2.8 GB 18.5 MB/s eta 0:00:28\n",
      "   -------------------------------- ------- 2.3/2.8 GB 18.5 MB/s eta 0:00:28\n",
      "   -------------------------------- ------- 2.3/2.8 GB 18.6 MB/s eta 0:00:28\n",
      "   -------------------------------- ------- 2.3/2.8 GB 18.5 MB/s eta 0:00:28\n",
      "   -------------------------------- ------- 2.3/2.8 GB 18.5 MB/s eta 0:00:27\n",
      "   -------------------------------- ------- 2.3/2.8 GB 18.4 MB/s eta 0:00:27\n",
      "   --------------------------------- ------ 2.3/2.8 GB 18.4 MB/s eta 0:00:27\n",
      "   --------------------------------- ------ 2.3/2.8 GB 18.3 MB/s eta 0:00:27\n",
      "   --------------------------------- ------ 2.3/2.8 GB 18.4 MB/s eta 0:00:27\n",
      "   --------------------------------- ------ 2.3/2.8 GB 18.4 MB/s eta 0:00:26\n",
      "   --------------------------------- ------ 2.3/2.8 GB 18.6 MB/s eta 0:00:26\n",
      "   --------------------------------- ------ 2.3/2.8 GB 18.7 MB/s eta 0:00:26\n",
      "   --------------------------------- ------ 2.4/2.8 GB 18.6 MB/s eta 0:00:25\n",
      "   --------------------------------- ------ 2.4/2.8 GB 18.8 MB/s eta 0:00:25\n",
      "   --------------------------------- ------ 2.4/2.8 GB 18.5 MB/s eta 0:00:25\n",
      "   --------------------------------- ------ 2.4/2.8 GB 18.5 MB/s eta 0:00:25\n",
      "   --------------------------------- ------ 2.4/2.8 GB 18.5 MB/s eta 0:00:25\n",
      "   --------------------------------- ------ 2.4/2.8 GB 18.3 MB/s eta 0:00:25\n",
      "   --------------------------------- ------ 2.4/2.8 GB 18.5 MB/s eta 0:00:24\n",
      "   --------------------------------- ------ 2.4/2.8 GB 18.5 MB/s eta 0:00:24\n",
      "   --------------------------------- ------ 2.4/2.8 GB 18.2 MB/s eta 0:00:24\n",
      "   --------------------------------- ------ 2.4/2.8 GB 18.4 MB/s eta 0:00:24\n",
      "   --------------------------------- ------ 2.4/2.8 GB 18.4 MB/s eta 0:00:23\n",
      "   ---------------------------------- ----- 2.4/2.8 GB 18.3 MB/s eta 0:00:24\n",
      "   ---------------------------------- ----- 2.4/2.8 GB 18.5 MB/s eta 0:00:23\n",
      "   ---------------------------------- ----- 2.4/2.8 GB 18.6 MB/s eta 0:00:22\n",
      "   ---------------------------------- ----- 2.4/2.8 GB 18.6 MB/s eta 0:00:22\n",
      "   ---------------------------------- ----- 2.4/2.8 GB 18.6 MB/s eta 0:00:22\n",
      "   ---------------------------------- ----- 2.4/2.8 GB 18.6 MB/s eta 0:00:22\n",
      "   ---------------------------------- ----- 2.4/2.8 GB 18.8 MB/s eta 0:00:21\n",
      "   ---------------------------------- ----- 2.4/2.8 GB 19.2 MB/s eta 0:00:21\n",
      "   ---------------------------------- ----- 2.4/2.8 GB 19.2 MB/s eta 0:00:20\n",
      "   ---------------------------------- ----- 2.4/2.8 GB 19.2 MB/s eta 0:00:20\n",
      "   ---------------------------------- ----- 2.4/2.8 GB 19.1 MB/s eta 0:00:20\n",
      "   ---------------------------------- ----- 2.4/2.8 GB 19.1 MB/s eta 0:00:20\n",
      "   ---------------------------------- ----- 2.5/2.8 GB 19.3 MB/s eta 0:00:19\n",
      "   ---------------------------------- ----- 2.5/2.8 GB 19.2 MB/s eta 0:00:19\n",
      "   ---------------------------------- ----- 2.5/2.8 GB 19.1 MB/s eta 0:00:19\n",
      "   ---------------------------------- ----- 2.5/2.8 GB 19.5 MB/s eta 0:00:19\n",
      "   ----------------------------------- ---- 2.5/2.8 GB 19.6 MB/s eta 0:00:18\n",
      "   ----------------------------------- ---- 2.5/2.8 GB 19.6 MB/s eta 0:00:18\n",
      "   ----------------------------------- ---- 2.5/2.8 GB 19.7 MB/s eta 0:00:18\n",
      "   ----------------------------------- ---- 2.5/2.8 GB 19.4 MB/s eta 0:00:18\n",
      "   ----------------------------------- ---- 2.5/2.8 GB 19.6 MB/s eta 0:00:17\n",
      "   ----------------------------------- ---- 2.5/2.8 GB 19.5 MB/s eta 0:00:17\n",
      "   ----------------------------------- ---- 2.5/2.8 GB 19.5 MB/s eta 0:00:17\n",
      "   ----------------------------------- ---- 2.5/2.8 GB 19.5 MB/s eta 0:00:17\n",
      "   ----------------------------------- ---- 2.5/2.8 GB 19.6 MB/s eta 0:00:17\n",
      "   ----------------------------------- ---- 2.5/2.8 GB 19.6 MB/s eta 0:00:16\n",
      "   ----------------------------------- ---- 2.5/2.8 GB 19.6 MB/s eta 0:00:16\n",
      "   ----------------------------------- ---- 2.5/2.8 GB 19.6 MB/s eta 0:00:16\n",
      "   ----------------------------------- ---- 2.5/2.8 GB 19.6 MB/s eta 0:00:16\n",
      "   ----------------------------------- ---- 2.5/2.8 GB 19.6 MB/s eta 0:00:16\n",
      "   ----------------------------------- ---- 2.5/2.8 GB 19.7 MB/s eta 0:00:15\n",
      "   ----------------------------------- ---- 2.5/2.8 GB 19.7 MB/s eta 0:00:15\n",
      "   ----------------------------------- ---- 2.5/2.8 GB 19.7 MB/s eta 0:00:15\n",
      "   ------------------------------------ --- 2.5/2.8 GB 19.7 MB/s eta 0:00:15\n",
      "   ------------------------------------ --- 2.5/2.8 GB 19.6 MB/s eta 0:00:15\n",
      "   ------------------------------------ --- 2.5/2.8 GB 19.6 MB/s eta 0:00:14\n",
      "   ------------------------------------ --- 2.5/2.8 GB 19.4 MB/s eta 0:00:15\n",
      "   ------------------------------------ --- 2.5/2.8 GB 19.3 MB/s eta 0:00:15\n",
      "   ------------------------------------ --- 2.6/2.8 GB 19.3 MB/s eta 0:00:14\n",
      "   ------------------------------------ --- 2.6/2.8 GB 19.3 MB/s eta 0:00:14\n",
      "   ------------------------------------ --- 2.6/2.8 GB 19.4 MB/s eta 0:00:14\n",
      "   ------------------------------------ --- 2.6/2.8 GB 19.5 MB/s eta 0:00:14\n",
      "   ------------------------------------ --- 2.6/2.8 GB 19.5 MB/s eta 0:00:13\n",
      "   ------------------------------------ --- 2.6/2.8 GB 19.6 MB/s eta 0:00:13\n",
      "   ------------------------------------ --- 2.6/2.8 GB 19.6 MB/s eta 0:00:13\n",
      "   ------------------------------------ --- 2.6/2.8 GB 19.6 MB/s eta 0:00:12\n",
      "   ------------------------------------ --- 2.6/2.8 GB 19.5 MB/s eta 0:00:12\n",
      "   ------------------------------------ --- 2.6/2.8 GB 19.5 MB/s eta 0:00:12\n",
      "   ------------------------------------ --- 2.6/2.8 GB 19.5 MB/s eta 0:00:12\n",
      "   ------------------------------------ --- 2.6/2.8 GB 19.7 MB/s eta 0:00:12\n",
      "   ------------------------------------ --- 2.6/2.8 GB 19.8 MB/s eta 0:00:11\n",
      "   ------------------------------------- -- 2.6/2.8 GB 19.6 MB/s eta 0:00:11\n",
      "   ------------------------------------- -- 2.6/2.8 GB 19.7 MB/s eta 0:00:11\n",
      "   ------------------------------------- -- 2.6/2.8 GB 19.5 MB/s eta 0:00:11\n",
      "   ------------------------------------- -- 2.6/2.8 GB 19.3 MB/s eta 0:00:11\n",
      "   ------------------------------------- -- 2.6/2.8 GB 19.3 MB/s eta 0:00:11\n",
      "   ------------------------------------- -- 2.6/2.8 GB 19.4 MB/s eta 0:00:11\n",
      "   ------------------------------------- -- 2.6/2.8 GB 19.6 MB/s eta 0:00:10\n",
      "   ------------------------------------- -- 2.6/2.8 GB 19.4 MB/s eta 0:00:10\n",
      "   ------------------------------------- -- 2.6/2.8 GB 19.5 MB/s eta 0:00:10\n",
      "   ------------------------------------- -- 2.6/2.8 GB 19.3 MB/s eta 0:00:10\n",
      "   ------------------------------------- -- 2.6/2.8 GB 19.3 MB/s eta 0:00:10\n",
      "   ------------------------------------- -- 2.6/2.8 GB 19.2 MB/s eta 0:00:09\n",
      "   ------------------------------------- -- 2.6/2.8 GB 19.2 MB/s eta 0:00:09\n",
      "   ------------------------------------- -- 2.7/2.8 GB 19.2 MB/s eta 0:00:09\n",
      "   ------------------------------------- -- 2.7/2.8 GB 19.1 MB/s eta 0:00:09\n",
      "   ------------------------------------- -- 2.7/2.8 GB 19.1 MB/s eta 0:00:09\n",
      "   ------------------------------------- -- 2.7/2.8 GB 18.9 MB/s eta 0:00:09\n",
      "   ------------------------------------- -- 2.7/2.8 GB 18.9 MB/s eta 0:00:08\n",
      "   ------------------------------------- -- 2.7/2.8 GB 18.8 MB/s eta 0:00:08\n",
      "   ------------------------------------- -- 2.7/2.8 GB 18.8 MB/s eta 0:00:08\n",
      "   ------------------------------------- -- 2.7/2.8 GB 18.4 MB/s eta 0:00:08\n",
      "   -------------------------------------- - 2.7/2.8 GB 18.3 MB/s eta 0:00:08\n",
      "   -------------------------------------- - 2.7/2.8 GB 18.2 MB/s eta 0:00:08\n",
      "   -------------------------------------- - 2.7/2.8 GB 18.2 MB/s eta 0:00:08\n",
      "   -------------------------------------- - 2.7/2.8 GB 18.1 MB/s eta 0:00:08\n",
      "   -------------------------------------- - 2.7/2.8 GB 18.1 MB/s eta 0:00:07\n",
      "   -------------------------------------- - 2.7/2.8 GB 18.1 MB/s eta 0:00:07\n",
      "   -------------------------------------- - 2.7/2.8 GB 17.8 MB/s eta 0:00:07\n",
      "   -------------------------------------- - 2.7/2.8 GB 17.7 MB/s eta 0:00:07\n",
      "   -------------------------------------- - 2.7/2.8 GB 17.7 MB/s eta 0:00:07\n",
      "   -------------------------------------- - 2.7/2.8 GB 17.8 MB/s eta 0:00:07\n",
      "   -------------------------------------- - 2.7/2.8 GB 17.7 MB/s eta 0:00:07\n",
      "   -------------------------------------- - 2.7/2.8 GB 17.7 MB/s eta 0:00:06\n",
      "   -------------------------------------- - 2.7/2.8 GB 17.7 MB/s eta 0:00:06\n",
      "   -------------------------------------- - 2.7/2.8 GB 17.9 MB/s eta 0:00:06\n",
      "   -------------------------------------- - 2.7/2.8 GB 17.8 MB/s eta 0:00:06\n",
      "   -------------------------------------- - 2.7/2.8 GB 17.8 MB/s eta 0:00:05\n",
      "   -------------------------------------- - 2.7/2.8 GB 17.8 MB/s eta 0:00:05\n",
      "   -------------------------------------- - 2.7/2.8 GB 17.9 MB/s eta 0:00:05\n",
      "   ---------------------------------------  2.7/2.8 GB 17.9 MB/s eta 0:00:04\n",
      "   ---------------------------------------  2.8/2.8 GB 18.0 MB/s eta 0:00:04\n",
      "   ---------------------------------------  2.8/2.8 GB 18.1 MB/s eta 0:00:04\n",
      "   ---------------------------------------  2.8/2.8 GB 17.9 MB/s eta 0:00:04\n",
      "   ---------------------------------------  2.8/2.8 GB 18.1 MB/s eta 0:00:03\n",
      "   ---------------------------------------  2.8/2.8 GB 17.9 MB/s eta 0:00:03\n",
      "   ---------------------------------------  2.8/2.8 GB 17.8 MB/s eta 0:00:03\n",
      "   ---------------------------------------  2.8/2.8 GB 17.9 MB/s eta 0:00:03\n",
      "   ---------------------------------------  2.8/2.8 GB 17.5 MB/s eta 0:00:03\n",
      "   ---------------------------------------  2.8/2.8 GB 17.8 MB/s eta 0:00:03\n",
      "   ---------------------------------------  2.8/2.8 GB 17.8 MB/s eta 0:00:02\n",
      "   ---------------------------------------  2.8/2.8 GB 17.7 MB/s eta 0:00:02\n",
      "   ---------------------------------------  2.8/2.8 GB 17.8 MB/s eta 0:00:02\n",
      "   ---------------------------------------  2.8/2.8 GB 17.8 MB/s eta 0:00:02\n",
      "   ---------------------------------------  2.8/2.8 GB 17.7 MB/s eta 0:00:01\n",
      "   ---------------------------------------  2.8/2.8 GB 17.8 MB/s eta 0:00:01\n",
      "   ---------------------------------------  2.8/2.8 GB 17.7 MB/s eta 0:00:01\n",
      "   ---------------------------------------  2.8/2.8 GB 18.1 MB/s eta 0:00:01\n",
      "   ---------------------------------------  2.8/2.8 GB 18.0 MB/s eta 0:00:01\n",
      "   ---------------------------------------  2.8/2.8 GB 17.9 MB/s eta 0:00:01\n",
      "   ---------------------------------------  2.8/2.8 GB 17.9 MB/s eta 0:00:01\n",
      "   ---------------------------------------  2.8/2.8 GB 17.9 MB/s eta 0:00:01\n",
      "   ---------------------------------------  2.8/2.8 GB 17.9 MB/s eta 0:00:01\n",
      "   ---------------------------------------  2.8/2.8 GB 17.9 MB/s eta 0:00:01\n",
      "   ---------------------------------------  2.8/2.8 GB 17.9 MB/s eta 0:00:01\n",
      "   ---------------------------------------  2.8/2.8 GB 17.9 MB/s eta 0:00:01\n",
      "   ---------------------------------------  2.8/2.8 GB 17.9 MB/s eta 0:00:01\n",
      "   ---------------------------------------  2.8/2.8 GB 17.9 MB/s eta 0:00:01\n",
      "   ---------------------------------------  2.8/2.8 GB 17.9 MB/s eta 0:00:01\n",
      "   ---------------------------------------  2.8/2.8 GB 17.9 MB/s eta 0:00:01\n",
      "   ---------------------------------------  2.8/2.8 GB 17.9 MB/s eta 0:00:01\n",
      "   ---------------------------------------  2.8/2.8 GB 17.9 MB/s eta 0:00:01\n",
      "   ---------------------------------------  2.8/2.8 GB 17.9 MB/s eta 0:00:01\n",
      "   ---------------------------------------  2.8/2.8 GB 17.9 MB/s eta 0:00:01\n",
      "   ---------------------------------------  2.8/2.8 GB 17.9 MB/s eta 0:00:01\n",
      "   ---------------------------------------  2.8/2.8 GB 17.9 MB/s eta 0:00:01\n",
      "   ---------------------------------------  2.8/2.8 GB 17.9 MB/s eta 0:00:01\n",
      "   ---------------------------------------  2.8/2.8 GB 17.9 MB/s eta 0:00:01\n",
      "   ---------------------------------------  2.8/2.8 GB 17.9 MB/s eta 0:00:01\n",
      "   ---------------------------------------  2.8/2.8 GB 17.9 MB/s eta 0:00:01\n",
      "   ---------------------------------------  2.8/2.8 GB 17.9 MB/s eta 0:00:01\n",
      "   ---------------------------------------  2.8/2.8 GB 17.9 MB/s eta 0:00:01\n",
      "   ---------------------------------------  2.8/2.8 GB 17.9 MB/s eta 0:00:01\n",
      "   ---------------------------------------  2.8/2.8 GB 17.9 MB/s eta 0:00:01\n",
      "   ---------------------------------------  2.8/2.8 GB 17.9 MB/s eta 0:00:01\n",
      "   ---------------------------------------  2.8/2.8 GB 17.9 MB/s eta 0:00:01\n",
      "   ---------------------------------------  2.8/2.8 GB 17.9 MB/s eta 0:00:01\n",
      "   ---------------------------------------  2.8/2.8 GB 17.9 MB/s eta 0:00:01\n",
      "   ---------------------------------------  2.8/2.8 GB 17.9 MB/s eta 0:00:01\n",
      "   ---------------------------------------  2.8/2.8 GB 17.9 MB/s eta 0:00:01\n",
      "   ---------------------------------------  2.8/2.8 GB 17.9 MB/s eta 0:00:01\n",
      "   ---------------------------------------  2.8/2.8 GB 17.9 MB/s eta 0:00:01\n",
      "   ---------------------------------------  2.8/2.8 GB 17.9 MB/s eta 0:00:01\n",
      "   ---------------------------------------  2.8/2.8 GB 17.9 MB/s eta 0:00:01\n",
      "   ---------------------------------------  2.8/2.8 GB 17.9 MB/s eta 0:00:01\n",
      "   ---------------------------------------  2.8/2.8 GB 17.9 MB/s eta 0:00:01\n",
      "   ---------------------------------------  2.8/2.8 GB 17.9 MB/s eta 0:00:01\n",
      "   ---------------------------------------  2.8/2.8 GB 17.9 MB/s eta 0:00:01\n",
      "   ---------------------------------------  2.8/2.8 GB 17.9 MB/s eta 0:00:01\n",
      "   ---------------------------------------  2.8/2.8 GB 17.9 MB/s eta 0:00:01\n",
      "   ---------------------------------------  2.8/2.8 GB 17.9 MB/s eta 0:00:01\n",
      "   ---------------------------------------  2.8/2.8 GB 17.9 MB/s eta 0:00:01\n",
      "   ---------------------------------------  2.8/2.8 GB 17.9 MB/s eta 0:00:01\n",
      "   ---------------------------------------- 2.8/2.8 GB 11.1 MB/s  0:02:30\n",
      "Downloading https://download.pytorch.org/whl/cu118/torchaudio-2.7.1%2Bcu118-cp310-cp310-win_amd64.whl (4.1 MB)\n",
      "   ---------------------------------------- 0.0/4.1 MB ? eta -:--:--\n",
      "   ------------------------- -------------- 2.6/4.1 MB 12.6 MB/s eta 0:00:01\n",
      "   ---------------------------------------- 4.1/4.1 MB 12.9 MB/s  0:00:00\n",
      "Downloading https://download.pytorch.org/whl/pillow-11.0.0-cp310-cp310-win_amd64.whl (2.6 MB)\n",
      "   ---------------------------------------- 0.0/2.6 MB ? eta -:--:--\n",
      "   ---------------------------------------- 2.6/2.6 MB 14.8 MB/s  0:00:00\n",
      "Installing collected packages: pillow, torch, torchvision, torchaudio\n",
      "\n",
      "   ---------------------------------------- 0/4 [pillow]\n",
      "   ---------------------------------------- 0/4 [pillow]\n",
      "   ---------------------------------------- 0/4 [pillow]\n",
      "   ---------------------------------------- 0/4 [pillow]\n",
      "  Attempting uninstall: torch\n",
      "   ---------------------------------------- 0/4 [pillow]\n",
      "    Found existing installation: torch 2.6.0\n",
      "   ---------------------------------------- 0/4 [pillow]\n",
      "   ---------- ----------------------------- 1/4 [torch]\n",
      "   ---------- ----------------------------- 1/4 [torch]\n",
      "   ---------- ----------------------------- 1/4 [torch]\n",
      "    Uninstalling torch-2.6.0:\n",
      "   ---------- ----------------------------- 1/4 [torch]\n",
      "   ---------- ----------------------------- 1/4 [torch]\n",
      "   ---------- ----------------------------- 1/4 [torch]\n",
      "   ---------- ----------------------------- 1/4 [torch]\n",
      "   ---------- ----------------------------- 1/4 [torch]\n",
      "   ---------- ----------------------------- 1/4 [torch]\n",
      "   ---------- ----------------------------- 1/4 [torch]\n",
      "   ---------- ----------------------------- 1/4 [torch]\n",
      "   ---------- ----------------------------- 1/4 [torch]\n",
      "   ---------- ----------------------------- 1/4 [torch]\n",
      "   ---------- ----------------------------- 1/4 [torch]\n",
      "   ---------- ----------------------------- 1/4 [torch]\n",
      "      Successfully uninstalled torch-2.6.0\n",
      "   ---------- ----------------------------- 1/4 [torch]\n",
      "   ---------- ----------------------------- 1/4 [torch]\n",
      "   ---------- ----------------------------- 1/4 [torch]\n",
      "   ---------- ----------------------------- 1/4 [torch]\n",
      "   ---------- ----------------------------- 1/4 [torch]\n",
      "   ---------- ----------------------------- 1/4 [torch]\n",
      "   ---------- ----------------------------- 1/4 [torch]\n",
      "   ---------- ----------------------------- 1/4 [torch]\n",
      "   ---------- ----------------------------- 1/4 [torch]\n",
      "   ---------- ----------------------------- 1/4 [torch]\n",
      "   ---------- ----------------------------- 1/4 [torch]\n",
      "   ---------- ----------------------------- 1/4 [torch]\n",
      "   ---------- ----------------------------- 1/4 [torch]\n",
      "   ---------- ----------------------------- 1/4 [torch]\n",
      "   ---------- ----------------------------- 1/4 [torch]\n",
      "   ---------- ----------------------------- 1/4 [torch]\n",
      "   ---------- ----------------------------- 1/4 [torch]\n",
      "   ---------- ----------------------------- 1/4 [torch]\n",
      "   ---------- ----------------------------- 1/4 [torch]\n",
      "   ---------- ----------------------------- 1/4 [torch]\n",
      "   ---------- ----------------------------- 1/4 [torch]\n",
      "   ---------- ----------------------------- 1/4 [torch]\n",
      "   ---------- ----------------------------- 1/4 [torch]\n",
      "   ---------- ----------------------------- 1/4 [torch]\n",
      "   ---------- ----------------------------- 1/4 [torch]\n",
      "   ---------- ----------------------------- 1/4 [torch]\n",
      "   ---------- ----------------------------- 1/4 [torch]\n",
      "   ---------- ----------------------------- 1/4 [torch]\n",
      "   ---------- ----------------------------- 1/4 [torch]\n",
      "   ---------- ----------------------------- 1/4 [torch]\n",
      "   ---------- ----------------------------- 1/4 [torch]\n",
      "   ---------- ----------------------------- 1/4 [torch]\n",
      "   ---------- ----------------------------- 1/4 [torch]\n",
      "   ---------- ----------------------------- 1/4 [torch]\n",
      "   ---------- ----------------------------- 1/4 [torch]\n",
      "   ---------- ----------------------------- 1/4 [torch]\n",
      "   ---------- ----------------------------- 1/4 [torch]\n",
      "   ---------- ----------------------------- 1/4 [torch]\n",
      "   ---------- ----------------------------- 1/4 [torch]\n",
      "   ---------- ----------------------------- 1/4 [torch]\n",
      "   ---------- ----------------------------- 1/4 [torch]\n",
      "   ---------- ----------------------------- 1/4 [torch]\n",
      "   ---------- ----------------------------- 1/4 [torch]\n",
      "   ---------- ----------------------------- 1/4 [torch]\n",
      "   ---------- ----------------------------- 1/4 [torch]\n",
      "   ---------- ----------------------------- 1/4 [torch]\n",
      "   ---------- ----------------------------- 1/4 [torch]\n",
      "   ---------- ----------------------------- 1/4 [torch]\n",
      "   ---------- ----------------------------- 1/4 [torch]\n",
      "   ---------- ----------------------------- 1/4 [torch]\n",
      "   ---------- ----------------------------- 1/4 [torch]\n",
      "   ---------- ----------------------------- 1/4 [torch]\n",
      "   ---------- ----------------------------- 1/4 [torch]\n",
      "   ---------- ----------------------------- 1/4 [torch]\n",
      "   ---------- ----------------------------- 1/4 [torch]\n",
      "   ---------- ----------------------------- 1/4 [torch]\n",
      "   ---------- ----------------------------- 1/4 [torch]\n",
      "   ---------- ----------------------------- 1/4 [torch]\n",
      "   ---------- ----------------------------- 1/4 [torch]\n",
      "   ---------- ----------------------------- 1/4 [torch]\n",
      "   ---------- ----------------------------- 1/4 [torch]\n",
      "   ---------- ----------------------------- 1/4 [torch]\n",
      "   ---------- ----------------------------- 1/4 [torch]\n",
      "   ---------- ----------------------------- 1/4 [torch]\n",
      "   ---------- ----------------------------- 1/4 [torch]\n",
      "   ---------- ----------------------------- 1/4 [torch]\n",
      "   ---------- ----------------------------- 1/4 [torch]\n",
      "   ---------- ----------------------------- 1/4 [torch]\n",
      "   ---------- ----------------------------- 1/4 [torch]\n",
      "   ---------- ----------------------------- 1/4 [torch]\n",
      "   ---------- ----------------------------- 1/4 [torch]\n",
      "   ---------- ----------------------------- 1/4 [torch]\n",
      "   ---------- ----------------------------- 1/4 [torch]\n",
      "   ---------- ----------------------------- 1/4 [torch]\n",
      "   ---------- ----------------------------- 1/4 [torch]\n",
      "   ---------- ----------------------------- 1/4 [torch]\n",
      "   ---------- ----------------------------- 1/4 [torch]\n",
      "   ---------- ----------------------------- 1/4 [torch]\n",
      "   ---------- ----------------------------- 1/4 [torch]\n",
      "   ---------- ----------------------------- 1/4 [torch]\n",
      "   ---------- ----------------------------- 1/4 [torch]\n",
      "   ---------- ----------------------------- 1/4 [torch]\n",
      "   ---------- ----------------------------- 1/4 [torch]\n",
      "   ---------- ----------------------------- 1/4 [torch]\n",
      "   ---------- ----------------------------- 1/4 [torch]\n",
      "   ---------- ----------------------------- 1/4 [torch]\n",
      "   ---------- ----------------------------- 1/4 [torch]\n",
      "   ---------- ----------------------------- 1/4 [torch]\n",
      "   ---------- ----------------------------- 1/4 [torch]\n",
      "   ---------- ----------------------------- 1/4 [torch]\n",
      "   ---------- ----------------------------- 1/4 [torch]\n",
      "   ---------- ----------------------------- 1/4 [torch]\n",
      "   ---------- ----------------------------- 1/4 [torch]\n",
      "   ---------- ----------------------------- 1/4 [torch]\n",
      "   ---------- ----------------------------- 1/4 [torch]\n",
      "   ---------- ----------------------------- 1/4 [torch]\n",
      "   ---------- ----------------------------- 1/4 [torch]\n",
      "   ---------- ----------------------------- 1/4 [torch]\n",
      "   ---------- ----------------------------- 1/4 [torch]\n",
      "   ---------- ----------------------------- 1/4 [torch]\n",
      "   ---------- ----------------------------- 1/4 [torch]\n",
      "   ---------- ----------------------------- 1/4 [torch]\n",
      "   ---------- ----------------------------- 1/4 [torch]\n",
      "   ---------- ----------------------------- 1/4 [torch]\n",
      "   ---------- ----------------------------- 1/4 [torch]\n",
      "   ---------- ----------------------------- 1/4 [torch]\n",
      "   ---------- ----------------------------- 1/4 [torch]\n",
      "   ---------- ----------------------------- 1/4 [torch]\n",
      "   ---------- ----------------------------- 1/4 [torch]\n",
      "   ---------- ----------------------------- 1/4 [torch]\n",
      "   ---------- ----------------------------- 1/4 [torch]\n",
      "   ---------- ----------------------------- 1/4 [torch]\n",
      "   ---------- ----------------------------- 1/4 [torch]\n",
      "   ---------- ----------------------------- 1/4 [torch]\n",
      "   ---------- ----------------------------- 1/4 [torch]\n",
      "   ---------- ----------------------------- 1/4 [torch]\n",
      "   ---------- ----------------------------- 1/4 [torch]\n",
      "   ---------- ----------------------------- 1/4 [torch]\n",
      "   ---------- ----------------------------- 1/4 [torch]\n",
      "   ---------- ----------------------------- 1/4 [torch]\n",
      "   ---------- ----------------------------- 1/4 [torch]\n",
      "   ---------- ----------------------------- 1/4 [torch]\n",
      "   ---------- ----------------------------- 1/4 [torch]\n",
      "   ---------- ----------------------------- 1/4 [torch]\n",
      "   ---------- ----------------------------- 1/4 [torch]\n",
      "   ---------- ----------------------------- 1/4 [torch]\n",
      "   ---------- ----------------------------- 1/4 [torch]\n",
      "   ---------- ----------------------------- 1/4 [torch]\n",
      "   ---------- ----------------------------- 1/4 [torch]\n",
      "   ---------- ----------------------------- 1/4 [torch]\n",
      "   ---------- ----------------------------- 1/4 [torch]\n",
      "   ---------- ----------------------------- 1/4 [torch]\n",
      "   ---------- ----------------------------- 1/4 [torch]\n",
      "   ---------- ----------------------------- 1/4 [torch]\n",
      "   ---------- ----------------------------- 1/4 [torch]\n",
      "   ---------- ----------------------------- 1/4 [torch]\n",
      "   ---------- ----------------------------- 1/4 [torch]\n",
      "   ---------- ----------------------------- 1/4 [torch]\n",
      "   ---------- ----------------------------- 1/4 [torch]\n",
      "   ---------- ----------------------------- 1/4 [torch]\n",
      "   ---------- ----------------------------- 1/4 [torch]\n",
      "   ---------- ----------------------------- 1/4 [torch]\n",
      "   ---------- ----------------------------- 1/4 [torch]\n",
      "   ---------- ----------------------------- 1/4 [torch]\n",
      "   ---------- ----------------------------- 1/4 [torch]\n",
      "   ---------- ----------------------------- 1/4 [torch]\n",
      "   ---------- ----------------------------- 1/4 [torch]\n",
      "   ---------- ----------------------------- 1/4 [torch]\n",
      "   ---------- ----------------------------- 1/4 [torch]\n",
      "   ---------- ----------------------------- 1/4 [torch]\n",
      "   ---------- ----------------------------- 1/4 [torch]\n",
      "   ---------- ----------------------------- 1/4 [torch]\n",
      "   ---------- ----------------------------- 1/4 [torch]\n",
      "   ---------- ----------------------------- 1/4 [torch]\n",
      "   ---------- ----------------------------- 1/4 [torch]\n",
      "   ---------- ----------------------------- 1/4 [torch]\n",
      "   ---------- ----------------------------- 1/4 [torch]\n",
      "   ---------- ----------------------------- 1/4 [torch]\n",
      "   ---------- ----------------------------- 1/4 [torch]\n",
      "   ---------- ----------------------------- 1/4 [torch]\n",
      "   ---------- ----------------------------- 1/4 [torch]\n",
      "   ---------- ----------------------------- 1/4 [torch]\n",
      "   ---------- ----------------------------- 1/4 [torch]\n",
      "   ---------- ----------------------------- 1/4 [torch]\n",
      "   ---------- ----------------------------- 1/4 [torch]\n",
      "   ---------- ----------------------------- 1/4 [torch]\n",
      "   ---------- ----------------------------- 1/4 [torch]\n",
      "   ---------- ----------------------------- 1/4 [torch]\n",
      "   ---------- ----------------------------- 1/4 [torch]\n",
      "   ---------- ----------------------------- 1/4 [torch]\n",
      "   ---------- ----------------------------- 1/4 [torch]\n",
      "   ---------- ----------------------------- 1/4 [torch]\n",
      "   ---------- ----------------------------- 1/4 [torch]\n",
      "   ---------- ----------------------------- 1/4 [torch]\n",
      "   ---------- ----------------------------- 1/4 [torch]\n",
      "   ---------- ----------------------------- 1/4 [torch]\n",
      "   ---------- ----------------------------- 1/4 [torch]\n",
      "   ---------- ----------------------------- 1/4 [torch]\n",
      "   ---------- ----------------------------- 1/4 [torch]\n",
      "   ---------- ----------------------------- 1/4 [torch]\n",
      "   ---------- ----------------------------- 1/4 [torch]\n",
      "   ---------- ----------------------------- 1/4 [torch]\n",
      "   ---------- ----------------------------- 1/4 [torch]\n",
      "   ---------- ----------------------------- 1/4 [torch]\n",
      "   ---------- ----------------------------- 1/4 [torch]\n",
      "   ---------- ----------------------------- 1/4 [torch]\n",
      "   ---------- ----------------------------- 1/4 [torch]\n",
      "   ---------- ----------------------------- 1/4 [torch]\n",
      "   ---------- ----------------------------- 1/4 [torch]\n",
      "   ---------- ----------------------------- 1/4 [torch]\n",
      "   ---------- ----------------------------- 1/4 [torch]\n",
      "   ---------- ----------------------------- 1/4 [torch]\n",
      "   ---------- ----------------------------- 1/4 [torch]\n",
      "   ---------- ----------------------------- 1/4 [torch]\n",
      "   ---------- ----------------------------- 1/4 [torch]\n",
      "   ---------- ----------------------------- 1/4 [torch]\n",
      "   ---------- ----------------------------- 1/4 [torch]\n",
      "   ---------- ----------------------------- 1/4 [torch]\n",
      "   ---------- ----------------------------- 1/4 [torch]\n",
      "   ---------- ----------------------------- 1/4 [torch]\n",
      "   ---------- ----------------------------- 1/4 [torch]\n",
      "   ---------- ----------------------------- 1/4 [torch]\n",
      "   ---------- ----------------------------- 1/4 [torch]\n",
      "   ---------- ----------------------------- 1/4 [torch]\n",
      "   ---------- ----------------------------- 1/4 [torch]\n",
      "   ---------- ----------------------------- 1/4 [torch]\n",
      "   ---------- ----------------------------- 1/4 [torch]\n",
      "   ---------- ----------------------------- 1/4 [torch]\n",
      "   ---------- ----------------------------- 1/4 [torch]\n",
      "   ---------- ----------------------------- 1/4 [torch]\n",
      "   ---------- ----------------------------- 1/4 [torch]\n",
      "   ---------- ----------------------------- 1/4 [torch]\n",
      "   ---------- ----------------------------- 1/4 [torch]\n",
      "   ---------- ----------------------------- 1/4 [torch]\n",
      "   ---------- ----------------------------- 1/4 [torch]\n",
      "   ---------- ----------------------------- 1/4 [torch]\n",
      "   ---------- ----------------------------- 1/4 [torch]\n",
      "   ---------- ----------------------------- 1/4 [torch]\n",
      "   ---------- ----------------------------- 1/4 [torch]\n",
      "   ---------- ----------------------------- 1/4 [torch]\n",
      "   ---------- ----------------------------- 1/4 [torch]\n",
      "   ---------- ----------------------------- 1/4 [torch]\n",
      "   ---------- ----------------------------- 1/4 [torch]\n",
      "   ---------- ----------------------------- 1/4 [torch]\n",
      "   ---------- ----------------------------- 1/4 [torch]\n",
      "   ---------- ----------------------------- 1/4 [torch]\n",
      "   ---------- ----------------------------- 1/4 [torch]\n",
      "   ---------- ----------------------------- 1/4 [torch]\n",
      "   ---------- ----------------------------- 1/4 [torch]\n",
      "   ---------- ----------------------------- 1/4 [torch]\n",
      "   ---------- ----------------------------- 1/4 [torch]\n",
      "   ---------- ----------------------------- 1/4 [torch]\n",
      "   ---------- ----------------------------- 1/4 [torch]\n",
      "   ---------- ----------------------------- 1/4 [torch]\n",
      "   ---------- ----------------------------- 1/4 [torch]\n",
      "   ---------- ----------------------------- 1/4 [torch]\n",
      "   ---------- ----------------------------- 1/4 [torch]\n",
      "   ---------- ----------------------------- 1/4 [torch]\n",
      "   ---------- ----------------------------- 1/4 [torch]\n",
      "   ---------- ----------------------------- 1/4 [torch]\n",
      "   ---------- ----------------------------- 1/4 [torch]\n",
      "   ---------- ----------------------------- 1/4 [torch]\n",
      "   ---------- ----------------------------- 1/4 [torch]\n",
      "   ---------- ----------------------------- 1/4 [torch]\n",
      "   ---------- ----------------------------- 1/4 [torch]\n",
      "   ---------- ----------------------------- 1/4 [torch]\n",
      "   ---------- ----------------------------- 1/4 [torch]\n",
      "   ---------- ----------------------------- 1/4 [torch]\n",
      "   ---------- ----------------------------- 1/4 [torch]\n",
      "   ---------- ----------------------------- 1/4 [torch]\n",
      "   ---------- ----------------------------- 1/4 [torch]\n",
      "   ---------- ----------------------------- 1/4 [torch]\n",
      "   ---------- ----------------------------- 1/4 [torch]\n",
      "   ---------- ----------------------------- 1/4 [torch]\n",
      "   ---------- ----------------------------- 1/4 [torch]\n",
      "   ---------- ----------------------------- 1/4 [torch]\n",
      "   ---------- ----------------------------- 1/4 [torch]\n",
      "   ---------- ----------------------------- 1/4 [torch]\n",
      "   ---------- ----------------------------- 1/4 [torch]\n",
      "   ---------- ----------------------------- 1/4 [torch]\n",
      "   ---------- ----------------------------- 1/4 [torch]\n",
      "   ---------- ----------------------------- 1/4 [torch]\n",
      "   ---------- ----------------------------- 1/4 [torch]\n",
      "   ---------- ----------------------------- 1/4 [torch]\n",
      "   ---------- ----------------------------- 1/4 [torch]\n",
      "   ---------- ----------------------------- 1/4 [torch]\n",
      "   ---------- ----------------------------- 1/4 [torch]\n",
      "   -------------------- ------------------- 2/4 [torchvision]\n",
      "   -------------------- ------------------- 2/4 [torchvision]\n",
      "   -------------------- ------------------- 2/4 [torchvision]\n",
      "   -------------------- ------------------- 2/4 [torchvision]\n",
      "   -------------------- ------------------- 2/4 [torchvision]\n",
      "   -------------------- ------------------- 2/4 [torchvision]\n",
      "   -------------------- ------------------- 2/4 [torchvision]\n",
      "   -------------------- ------------------- 2/4 [torchvision]\n",
      "   -------------------- ------------------- 2/4 [torchvision]\n",
      "   ------------------------------ --------- 3/4 [torchaudio]\n",
      "   ------------------------------ --------- 3/4 [torchaudio]\n",
      "   ------------------------------ --------- 3/4 [torchaudio]\n",
      "   ------------------------------ --------- 3/4 [torchaudio]\n",
      "   ------------------------------ --------- 3/4 [torchaudio]\n",
      "   ------------------------------ --------- 3/4 [torchaudio]\n",
      "   ---------------------------------------- 4/4 [torchaudio]\n",
      "\n",
      "Successfully installed pillow-11.0.0 torch-2.7.1+cu118 torchaudio-2.7.1+cu118 torchvision-0.22.1+cu118\n"
     ]
    }
   ],
   "source": [
    "!pip install torch torchvision torchaudio --index-url https://download.pytorch.org/whl/cu118\n"
   ]
  },
  {
   "cell_type": "code",
   "execution_count": 13,
   "id": "5934df45",
   "metadata": {},
   "outputs": [
    {
     "name": "stdout",
     "output_type": "stream",
     "text": [
      "Requirement already satisfied: ultralytics in c:\\users\\jordi\\.conda\\envs\\yolo8\\lib\\site-packages (8.3.115)\n",
      "Requirement already satisfied: supervision in c:\\users\\jordi\\.conda\\envs\\yolo8\\lib\\site-packages (0.1.0)\n",
      "Requirement already satisfied: numpy<=2.1.1,>=1.23.0 in c:\\users\\jordi\\.conda\\envs\\yolo8\\lib\\site-packages (from ultralytics) (1.23.5)\n",
      "Requirement already satisfied: matplotlib>=3.3.0 in c:\\users\\jordi\\.conda\\envs\\yolo8\\lib\\site-packages (from ultralytics) (3.10.1)\n",
      "Requirement already satisfied: opencv-python>=4.6.0 in c:\\users\\jordi\\.conda\\envs\\yolo8\\lib\\site-packages (from ultralytics) (4.11.0.86)\n",
      "Requirement already satisfied: pillow>=7.1.2 in c:\\users\\jordi\\.conda\\envs\\yolo8\\lib\\site-packages (from ultralytics) (11.2.1)\n",
      "Requirement already satisfied: pyyaml>=5.3.1 in c:\\users\\jordi\\.conda\\envs\\yolo8\\lib\\site-packages (from ultralytics) (6.0.2)\n",
      "Requirement already satisfied: requests>=2.23.0 in c:\\users\\jordi\\.conda\\envs\\yolo8\\lib\\site-packages (from ultralytics) (2.32.3)\n",
      "Requirement already satisfied: scipy>=1.4.1 in c:\\users\\jordi\\.conda\\envs\\yolo8\\lib\\site-packages (from ultralytics) (1.15.2)\n",
      "Requirement already satisfied: torch>=1.8.0 in c:\\users\\jordi\\.conda\\envs\\yolo8\\lib\\site-packages (from ultralytics) (2.7.0)\n",
      "Requirement already satisfied: torchvision>=0.9.0 in c:\\users\\jordi\\.conda\\envs\\yolo8\\lib\\site-packages (from ultralytics) (0.22.0)\n",
      "Requirement already satisfied: tqdm>=4.64.0 in c:\\users\\jordi\\.conda\\envs\\yolo8\\lib\\site-packages (from ultralytics) (4.67.1)\n",
      "Requirement already satisfied: psutil in c:\\users\\jordi\\.conda\\envs\\yolo8\\lib\\site-packages (from ultralytics) (7.0.0)\n",
      "Requirement already satisfied: py-cpuinfo in c:\\users\\jordi\\.conda\\envs\\yolo8\\lib\\site-packages (from ultralytics) (9.0.0)\n",
      "Requirement already satisfied: pandas>=1.1.4 in c:\\users\\jordi\\.conda\\envs\\yolo8\\lib\\site-packages (from ultralytics) (2.2.3)\n",
      "Requirement already satisfied: seaborn>=0.11.0 in c:\\users\\jordi\\.conda\\envs\\yolo8\\lib\\site-packages (from ultralytics) (0.13.2)\n",
      "Requirement already satisfied: ultralytics-thop>=2.0.0 in c:\\users\\jordi\\.conda\\envs\\yolo8\\lib\\site-packages (from ultralytics) (2.0.14)\n",
      "Requirement already satisfied: contourpy>=1.0.1 in c:\\users\\jordi\\.conda\\envs\\yolo8\\lib\\site-packages (from matplotlib>=3.3.0->ultralytics) (1.3.2)\n",
      "Requirement already satisfied: cycler>=0.10 in c:\\users\\jordi\\.conda\\envs\\yolo8\\lib\\site-packages (from matplotlib>=3.3.0->ultralytics) (0.12.1)\n",
      "Requirement already satisfied: fonttools>=4.22.0 in c:\\users\\jordi\\.conda\\envs\\yolo8\\lib\\site-packages (from matplotlib>=3.3.0->ultralytics) (4.57.0)\n",
      "Requirement already satisfied: kiwisolver>=1.3.1 in c:\\users\\jordi\\.conda\\envs\\yolo8\\lib\\site-packages (from matplotlib>=3.3.0->ultralytics) (1.4.8)\n",
      "Requirement already satisfied: packaging>=20.0 in c:\\users\\jordi\\.conda\\envs\\yolo8\\lib\\site-packages (from matplotlib>=3.3.0->ultralytics) (25.0)\n",
      "Requirement already satisfied: pyparsing>=2.3.1 in c:\\users\\jordi\\.conda\\envs\\yolo8\\lib\\site-packages (from matplotlib>=3.3.0->ultralytics) (3.2.3)\n",
      "Requirement already satisfied: python-dateutil>=2.7 in c:\\users\\jordi\\.conda\\envs\\yolo8\\lib\\site-packages (from matplotlib>=3.3.0->ultralytics) (2.9.0.post0)\n",
      "Requirement already satisfied: pytz>=2020.1 in c:\\users\\jordi\\.conda\\envs\\yolo8\\lib\\site-packages (from pandas>=1.1.4->ultralytics) (2025.2)\n",
      "Requirement already satisfied: tzdata>=2022.7 in c:\\users\\jordi\\.conda\\envs\\yolo8\\lib\\site-packages (from pandas>=1.1.4->ultralytics) (2025.2)\n",
      "Requirement already satisfied: charset-normalizer<4,>=2 in c:\\users\\jordi\\.conda\\envs\\yolo8\\lib\\site-packages (from requests>=2.23.0->ultralytics) (3.4.1)\n",
      "Requirement already satisfied: idna<4,>=2.5 in c:\\users\\jordi\\.conda\\envs\\yolo8\\lib\\site-packages (from requests>=2.23.0->ultralytics) (3.10)\n",
      "Requirement already satisfied: urllib3<3,>=1.21.1 in c:\\users\\jordi\\.conda\\envs\\yolo8\\lib\\site-packages (from requests>=2.23.0->ultralytics) (2.4.0)\n",
      "Requirement already satisfied: certifi>=2017.4.17 in c:\\users\\jordi\\.conda\\envs\\yolo8\\lib\\site-packages (from requests>=2.23.0->ultralytics) (2025.1.31)\n",
      "Requirement already satisfied: filelock in c:\\users\\jordi\\.conda\\envs\\yolo8\\lib\\site-packages (from torch>=1.8.0->ultralytics) (3.18.0)\n",
      "Requirement already satisfied: typing-extensions>=4.10.0 in c:\\users\\jordi\\.conda\\envs\\yolo8\\lib\\site-packages (from torch>=1.8.0->ultralytics) (4.13.2)\n",
      "Requirement already satisfied: sympy>=1.13.3 in c:\\users\\jordi\\.conda\\envs\\yolo8\\lib\\site-packages (from torch>=1.8.0->ultralytics) (1.13.3)\n",
      "Requirement already satisfied: networkx in c:\\users\\jordi\\.conda\\envs\\yolo8\\lib\\site-packages (from torch>=1.8.0->ultralytics) (3.4.2)\n",
      "Requirement already satisfied: jinja2 in c:\\users\\jordi\\.conda\\envs\\yolo8\\lib\\site-packages (from torch>=1.8.0->ultralytics) (3.1.6)\n",
      "Requirement already satisfied: fsspec in c:\\users\\jordi\\.conda\\envs\\yolo8\\lib\\site-packages (from torch>=1.8.0->ultralytics) (2025.3.2)\n",
      "Requirement already satisfied: colorama in c:\\users\\jordi\\.conda\\envs\\yolo8\\lib\\site-packages (from tqdm>=4.64.0->ultralytics) (0.4.6)\n",
      "Requirement already satisfied: six>=1.5 in c:\\users\\jordi\\.conda\\envs\\yolo8\\lib\\site-packages (from python-dateutil>=2.7->matplotlib>=3.3.0->ultralytics) (1.17.0)\n",
      "Requirement already satisfied: mpmath<1.4,>=1.1.0 in c:\\users\\jordi\\.conda\\envs\\yolo8\\lib\\site-packages (from sympy>=1.13.3->torch>=1.8.0->ultralytics) (1.3.0)\n",
      "Requirement already satisfied: MarkupSafe>=2.0 in c:\\users\\jordi\\.conda\\envs\\yolo8\\lib\\site-packages (from jinja2->torch>=1.8.0->ultralytics) (3.0.2)\n"
     ]
    }
   ],
   "source": [
    "!pip install ultralytics supervision "
   ]
  },
  {
   "cell_type": "code",
   "execution_count": 1,
   "id": "e3f8ed5e",
   "metadata": {},
   "outputs": [
    {
     "name": "stdout",
     "output_type": "stream",
     "text": [
      "2.7.1+cu118\n",
      "True\n",
      "NVIDIA GeForce RTX 3050\n"
     ]
    }
   ],
   "source": [
    "import torch\n",
    "print(torch.__version__)           # Debe mostrar \"2.0.1+cu118\"\n",
    "print(torch.cuda.is_available())   # Debe ser True\n",
    "print(torch.cuda.get_device_name(0))  # Nombre de tu GPU (ej: \"NVIDIA GeForce RTX 3050\")"
   ]
  },
  {
   "cell_type": "code",
   "execution_count": 7,
   "id": "a3966aa9",
   "metadata": {},
   "outputs": [
    {
     "name": "stdout",
     "output_type": "stream",
     "text": [
      "c:\\Users\\Pc\\Downloads\\Proyecto Envase\\YOLOX\\YOLOX\n"
     ]
    },
    {
     "name": "stderr",
     "output_type": "stream",
     "text": [
      "fatal: destination path 'YOLOX' already exists and is not an empty directory.\n"
     ]
    }
   ],
   "source": [
    "!git clone https://github.com/Megvii-BaseDetection/YOLOX.git\n",
    "%cd YOLOX"
   ]
  },
  {
   "cell_type": "code",
   "execution_count": null,
   "id": "c9c604be",
   "metadata": {},
   "outputs": [
    {
     "name": "stderr",
     "output_type": "stream",
     "text": [
      "fatal: destination path 'ByteTrack' already exists and is not an empty directory.\n"
     ]
    }
   ],
   "source": []
  },
  {
   "cell_type": "code",
   "execution_count": 4,
   "id": "eed541f7",
   "metadata": {},
   "outputs": [
    {
     "name": "stdout",
     "output_type": "stream",
     "text": [
      "Collecting cython_bbox\n",
      "  Using cached cython_bbox-0.1.5.tar.gz (4.4 kB)\n",
      "  Installing build dependencies: started\n",
      "  Installing build dependencies: finished with status 'done'\n",
      "  Getting requirements to build wheel: started\n",
      "  Getting requirements to build wheel: finished with status 'done'\n",
      "  Installing backend dependencies: started\n",
      "  Installing backend dependencies: finished with status 'done'\n",
      "  Preparing metadata (pyproject.toml): started\n",
      "  Preparing metadata (pyproject.toml): finished with status 'done'\n",
      "Requirement already satisfied: Cython in c:\\users\\pc\\appdata\\local\\programs\\python\\python313\\lib\\site-packages (from cython_bbox) (3.1.4)\n",
      "Requirement already satisfied: numpy in c:\\users\\pc\\appdata\\local\\programs\\python\\python313\\lib\\site-packages (from cython_bbox) (2.2.6)\n",
      "Building wheels for collected packages: cython_bbox\n",
      "  Building wheel for cython_bbox (pyproject.toml): started\n",
      "  Building wheel for cython_bbox (pyproject.toml): finished with status 'done'\n",
      "  Created wheel for cython_bbox: filename=cython_bbox-0.1.5-cp313-cp313-win_amd64.whl size=29701 sha256=5873f687e026d23f39382a867132507fa9e134b1477011e59cf7d703524af806\n",
      "  Stored in directory: c:\\users\\pc\\appdata\\local\\pip\\cache\\wheels\\48\\6e\\48\\3012eef2eb318630b2c5e71ac33cee866ad7cb5eda13bbe355\n",
      "Successfully built cython_bbox\n",
      "Installing collected packages: cython_bbox\n",
      "Successfully installed cython_bbox-0.1.5\n",
      "Note: you may need to restart the kernel to use updated packages.\n"
     ]
    }
   ],
   "source": [
    "pip install cython_bbox"
   ]
  },
  {
   "cell_type": "code",
   "execution_count": 6,
   "id": "0f89e4cb",
   "metadata": {},
   "outputs": [
    {
     "ename": "ModuleNotFoundError",
     "evalue": "No module named 'yolox.tracker'",
     "output_type": "error",
     "traceback": [
      "\u001b[1;31m---------------------------------------------------------------------------\u001b[0m",
      "\u001b[1;31mModuleNotFoundError\u001b[0m                       Traceback (most recent call last)",
      "Cell \u001b[1;32mIn[6], line 10\u001b[0m\n\u001b[0;32m      7\u001b[0m     sys\u001b[38;5;241m.\u001b[39mpath\u001b[38;5;241m.\u001b[39mappend(project_root)\n\u001b[0;32m      9\u001b[0m \u001b[38;5;66;03m# Importar el tracker ahora\u001b[39;00m\n\u001b[1;32m---> 10\u001b[0m \u001b[38;5;28;01mfrom\u001b[39;00m\u001b[38;5;250m \u001b[39m\u001b[38;5;21;01myolox\u001b[39;00m\u001b[38;5;21;01m.\u001b[39;00m\u001b[38;5;21;01mtracker\u001b[39;00m\u001b[38;5;21;01m.\u001b[39;00m\u001b[38;5;21;01mbyte_tracker\u001b[39;00m\u001b[38;5;250m \u001b[39m\u001b[38;5;28;01mimport\u001b[39;00m BYTETracker, STrack\n",
      "\u001b[1;31mModuleNotFoundError\u001b[0m: No module named 'yolox.tracker'"
     ]
    }
   ],
   "source": [
    "import sys\n",
    "import os\n",
    "\n",
    "# Asegurarse de que el directorio actual (donde está yolox/) esté en sys.path\n",
    "project_root = os.getcwd()\n",
    "if project_root not in sys.path:\n",
    "    sys.path.append(project_root)\n",
    "\n",
    "# Importar el tracker ahora\n",
    "from yolox.tracker.byte_tracker import BYTETracker, STrack\n"
   ]
  },
  {
   "cell_type": "code",
   "execution_count": 9,
   "id": "716b13cf",
   "metadata": {},
   "outputs": [
    {
     "name": "stdout",
     "output_type": "stream",
     "text": [
      "📁 Directorio actual: c:\\Users\\Pc\\Downloads\\Proyecto Envase\\YOLOX\n",
      "📂 Contenido en el directorio actual:\n",
      "['.git', '.github', '.gitignore', '.pre-commit-config.yaml', '.readthedocs.yaml', 'assets', 'ByteTrack', 'Conteo-sacos-Y8-GPU.ipynb', 'datasets', 'demo', 'docs', 'exps', 'hubconf.py', 'LICENSE', 'MANIFEST.in', 'README.md', 'requirements.txt', 'SECURITY.md', 'setup.cfg', 'setup.py', 'tests', 'tools', 'yolox']\n",
      "\n",
      "🔍 Verificando rutas...\n",
      "¿Existe yolox? True\n",
      "¿Existe yolox/tracker? False\n",
      "¿Existe byte_tracker.py? False\n",
      "¿Existe __init__.py en tracker? False\n",
      "\n",
      "📚 sys.path:\n",
      "- c:\\Users\\Pc\\.conda\\envs\\GPU\\python310.zip\n",
      "- c:\\Users\\Pc\\.conda\\envs\\GPU\\DLLs\n",
      "- c:\\Users\\Pc\\.conda\\envs\\GPU\\lib\n",
      "- c:\\Users\\Pc\\.conda\\envs\\GPU\n",
      "- \n",
      "- c:\\Users\\Pc\\.conda\\envs\\GPU\\lib\\site-packages\n",
      "- c:\\Users\\Pc\\.conda\\envs\\GPU\\lib\\site-packages\\win32\n",
      "- c:\\Users\\Pc\\.conda\\envs\\GPU\\lib\\site-packages\\win32\\lib\n",
      "- c:\\Users\\Pc\\.conda\\envs\\GPU\\lib\\site-packages\\Pythonwin\n",
      "- c:\\Users\\Pc\\Downloads\\Proyecto Envase\\YOLOX\n"
     ]
    }
   ],
   "source": [
    "import os\n",
    "import sys\n",
    "\n",
    "print(\"📁 Directorio actual:\", os.getcwd())\n",
    "print(\"📂 Contenido en el directorio actual:\")\n",
    "print(os.listdir())\n",
    "\n",
    "print(\"\\n🔍 Verificando rutas...\")\n",
    "\n",
    "print(\"¿Existe yolox?\", os.path.isdir(\"yolox\"))\n",
    "print(\"¿Existe yolox/tracker?\", os.path.isdir(\"yolox/tracker\"))\n",
    "print(\"¿Existe byte_tracker.py?\", os.path.isfile(\"yolox/tracker/byte_tracker.py\"))\n",
    "print(\"¿Existe __init__.py en tracker?\", os.path.isfile(\"yolox/tracker/__init__.py\"))\n",
    "\n",
    "print(\"\\n📚 sys.path:\")\n",
    "for p in sys.path:\n",
    "    print(\"-\", p)\n",
    "\n"
   ]
  },
  {
   "cell_type": "code",
   "execution_count": 24,
   "id": "825b3e02",
   "metadata": {},
   "outputs": [
    {
     "name": "stdout",
     "output_type": "stream",
     "text": [
      "Rutas actuales en sys.path:\n",
      "c:\\Users\\Pc\\.conda\\envs\\GPU\\python310.zip\n",
      "c:\\Users\\Pc\\.conda\\envs\\GPU\\DLLs\n",
      "c:\\Users\\Pc\\.conda\\envs\\GPU\\lib\n",
      "c:\\Users\\Pc\\.conda\\envs\\GPU\n",
      "\n",
      "c:\\Users\\Pc\\.conda\\envs\\GPU\\lib\\site-packages\n",
      "c:\\Users\\Pc\\.conda\\envs\\GPU\\lib\\site-packages\\win32\n",
      "c:\\Users\\Pc\\.conda\\envs\\GPU\\lib\\site-packages\\win32\\lib\n",
      "c:\\Users\\Pc\\.conda\\envs\\GPU\\lib\\site-packages\\Pythonwin\n",
      "c:\\Users\\Pc\\Downloads\\Proyecto Envase\\YOLOX\n",
      "c:\\Users\\Pc\\Downloads\\Proyecto Envase\\YOLOX\n",
      "c:/Users/Pc/Downloads/Proyecto Envase/YOLOX/ByteTrack/yolox\n",
      "c:/Users/Pc/Downloads/Proyecto Envase/YOLOX/ByteTrack/yolox\n",
      "C:/Users/Pc/Downloads/Proyecto Envase/YOLOX/ByteTrack/yolox/ByteTrack/yolox\n",
      "C:/Users/Pc/Downloads/Proyecto Envase/YOLOX/ByteTrack/yolox_backup/ByteTrack/yolox\n",
      "C:/Users/Pc/Downloads/Proyecto Envase/YOLOX/ByteTrack/yolox_backup/ByteTrack/yolox\n",
      "C:/Users/Pc/Downloads/Proyecto Envase/YOLOX/ByteTrack/yolox\n",
      "C:/Users/Pc/Downloads/Proyecto Envase/YOLOX/ByteTrack/yolox\n",
      "C:/Users/Pc/Downloads/Proyecto Envase/YOLOX/ByteTrack/yolox\n",
      "C:/Users/Pc/Downloads/Proyecto Envase/YOLOX/ByteTrack/yolox\n",
      "C:/Users/Pc/Downloads/Proyecto Envase/YOLOX/ByteTrack/yolox_backup\n",
      "C:/Users/Pc/Downloads/Proyecto Envase/YOLOX/ByteTrack/yolox_backup\n",
      "C:/Users/Pc/Downloads/Proyecto Envase/YOLOX/ByteTrack/yolox_backup\n",
      "C:/Users/Pc/Downloads/Proyecto Envase/YOLOX/ByteTrack/yolox_backup\n",
      "C:/Users/Pc/Downloads/Proyecto Envase/YOLOX/ByteTrack/yolox_backup\n",
      "C:/Users/Pc/Downloads/Proyecto Envase/YOLOX/ByteTrack/yolox_backup\n",
      "C:/Users/Pc/Downloads/Proyecto Envase/YOLOX/ByteTrack/yolox_backup\n",
      "C:/Users/Pc/Downloads/Proyecto Envase/YOLOX/ByteTrack/yolox\n",
      "\n",
      "¿Existe 'tracker' en C:/Users/Pc/Downloads/Proyecto Envase/YOLOX/ByteTrack/yolox? -> False\n",
      "¿Existe 'byte_tracker.py' en tracker? -> False\n"
     ]
    }
   ],
   "source": [
    "import sys\n",
    "import os\n",
    "\n",
    "ruta = r\"C:/Users/Pc/Downloads/Proyecto Envase/YOLOX/ByteTrack/yolox\"\n",
    "sys.path.append(ruta)\n",
    "\n",
    "print(f\"Rutas actuales en sys.path:\")\n",
    "for p in sys.path:\n",
    "    print(p)\n",
    "\n",
    "# ¿Existe la carpeta tracker dentro de esta ruta?\n",
    "print(f\"\\n¿Existe 'tracker' en {ruta}? ->\", os.path.isdir(os.path.join(ruta, \"tracker\")))\n",
    "\n",
    "# ¿Existe el archivo byte_tracker.py en tracker?\n",
    "print(f\"¿Existe 'byte_tracker.py' en tracker? ->\", os.path.isfile(os.path.join(ruta, \"tracker\", \"byte_tracker.py\")))\n"
   ]
  },
  {
   "cell_type": "code",
   "execution_count": 28,
   "id": "244eb34c",
   "metadata": {},
   "outputs": [
    {
     "name": "stdout",
     "output_type": "stream",
     "text": [
      "Contenido en ByteTrack:\n",
      "['.git', '.gitignore', 'assets', 'datasets', 'deploy', 'Dockerfile', 'exps', 'LICENSE', 'README.md', 'requirements.txt', 'setup.cfg', 'setup.py', 'tools', 'tutorials', 'videos', 'yolox']\n",
      "\n",
      "Contenido en ByteTrack/yolox:\n",
      "['core', 'data', 'deepsort_tracker', 'evaluators', 'exp', 'layers', 'models', 'motdt_tracker', 'sort_tracker', 'tracker', 'tracking_utils', 'utils', '__init__.py']\n"
     ]
    }
   ],
   "source": [
    "import os\n",
    "\n",
    "base_path = r\"C:/Users/Pc/Downloads/Proyecto Envase/YOLOX/yolox/ByteTrack\"\n",
    "\n",
    "print(\"Contenido en ByteTrack:\")\n",
    "print(os.listdir(base_path))\n",
    "\n",
    "print(\"\\nContenido en ByteTrack/yolox:\")\n",
    "print(os.listdir(os.path.join(base_path, \"yolox\")))\n"
   ]
  },
  {
   "cell_type": "code",
   "execution_count": 29,
   "id": "5e4017cd",
   "metadata": {},
   "outputs": [
    {
     "name": "stdout",
     "output_type": "stream",
     "text": [
      "¿Existe 'tracker'? -> False\n",
      "Archivos en tracker: No existe\n"
     ]
    }
   ],
   "source": [
    "import os\n",
    "\n",
    "base_path = r\"C:/Users/Pc/Downloads/Proyecto Envase/YOLOX/ByteTrack/yolox\"\n",
    "tracker_path = os.path.join(base_path, \"tracker\")\n",
    "\n",
    "print(\"¿Existe 'tracker'? ->\", os.path.isdir(tracker_path))\n",
    "print(\"Archivos en tracker:\", os.listdir(tracker_path) if os.path.isdir(tracker_path) else \"No existe\")\n"
   ]
  },
  {
   "cell_type": "code",
   "execution_count": 31,
   "id": "dc703df9",
   "metadata": {},
   "outputs": [
    {
     "name": "stdout",
     "output_type": "stream",
     "text": [
      "Contenido y tipos en ByteTrack/yolox:\n",
      "core -> Carpeta\n",
      "data -> Carpeta\n",
      "deepsort_tracker -> Carpeta\n",
      "evaluators -> Carpeta\n",
      "exp -> Carpeta\n",
      "layers -> Carpeta\n",
      "models -> Carpeta\n",
      "motdt_tracker -> Carpeta\n",
      "sort_tracker -> Carpeta\n",
      "tracker -> Carpeta\n",
      "tracking_utils -> Carpeta\n",
      "utils -> Carpeta\n",
      "__init__.py -> Archivo\n"
     ]
    }
   ],
   "source": [
    "import os\n",
    "\n",
    "# Ruta base donde dijiste que está ByteTrack/yolox\n",
    "base_path = r\"C:/Users/Pc/Downloads/Proyecto Envase/YOLOX/ByteTrack/yolox_backup\"\n",
    "\n",
    "# Listamos todos los archivos y carpetas aquí con detalles\n",
    "print(\"Contenido y tipos en ByteTrack/yolox:\")\n",
    "for item in os.listdir(base_path):\n",
    "    full_path = os.path.join(base_path, item)\n",
    "    print(f\"{item} -> {'Carpeta' if os.path.isdir(full_path) else 'Archivo'}\")\n"
   ]
  },
  {
   "cell_type": "code",
   "execution_count": 33,
   "id": "25f71bda",
   "metadata": {},
   "outputs": [
    {
     "name": "stdout",
     "output_type": "stream",
     "text": [
      "Archivos en tracker:\n",
      "['basetrack.py', 'byte_tracker.py', 'kalman_filter.py', 'matching.py', '__pycache__']\n"
     ]
    }
   ],
   "source": [
    "import os\n",
    "\n",
    "tracker_path = r\"C:/Users/Pc/Downloads/Proyecto Envase/YOLOX/ByteTrack/yolox_backup/tracker\"\n",
    "\n",
    "print(\"Archivos en tracker:\")\n",
    "print(os.listdir(tracker_path))\n"
   ]
  },
  {
   "cell_type": "code",
   "execution_count": 36,
   "id": "85832932",
   "metadata": {},
   "outputs": [
    {
     "ename": "ModuleNotFoundError",
     "evalue": "No module named 'yolox_backup'",
     "output_type": "error",
     "traceback": [
      "\u001b[1;31m---------------------------------------------------------------------------\u001b[0m",
      "\u001b[1;31mModuleNotFoundError\u001b[0m                       Traceback (most recent call last)",
      "Cell \u001b[1;32mIn[36], line 4\u001b[0m\n\u001b[0;32m      2\u001b[0m sys\u001b[38;5;241m.\u001b[39mpath\u001b[38;5;241m.\u001b[39mappend(\u001b[38;5;124mr\u001b[39m\u001b[38;5;124m\"\u001b[39m\u001b[38;5;124mC:/Users/Pc/Downloads/Proyecto Envase/YOLOX/ByteTrack/yolox_backup\u001b[39m\u001b[38;5;124m\"\u001b[39m)\n\u001b[0;32m      3\u001b[0m \u001b[38;5;66;03m# from tracker.byte_tracker import BYTETracker, STrack\u001b[39;00m\n\u001b[1;32m----> 4\u001b[0m \u001b[38;5;28;01mfrom\u001b[39;00m\u001b[38;5;250m \u001b[39m\u001b[38;5;21;01myolox_backup\u001b[39;00m\u001b[38;5;21;01m.\u001b[39;00m\u001b[38;5;21;01mtracker\u001b[39;00m\u001b[38;5;250m \u001b[39m\u001b[38;5;28;01mimport\u001b[39;00m BYTETracker, STrack\n",
      "\u001b[1;31mModuleNotFoundError\u001b[0m: No module named 'yolox_backup'"
     ]
    }
   ],
   "source": [
    "import sys\n",
    "sys.path.append(r\"C:/Users/Pc/Downloads/Proyecto Envase/YOLOX/ByteTrack/yolox_backup\")\n",
    "# from tracker.byte_tracker import BYTETracker, STrack\n",
    "from yolox_backup.tracker import BYTETracker, STrack\n"
   ]
  },
  {
   "cell_type": "code",
   "execution_count": 41,
   "id": "8925c1e9",
   "metadata": {},
   "outputs": [
    {
     "name": "stdout",
     "output_type": "stream",
     "text": [
      "¿Existe yolox? True\n",
      "¿Existe yolox/tracker? False\n",
      "¿Existe byte_tracker.py? False\n",
      "¿Existe __init__.py en tracker? False\n"
     ]
    }
   ],
   "source": [
    "import os\n",
    "\n",
    "print(\"¿Existe yolox?\", os.path.isdir(\"yolox\"))\n",
    "print(\"¿Existe yolox/tracker?\", os.path.isdir(\"yolox_backup/tracker\"))\n",
    "print(\"¿Existe byte_tracker.py?\", os.path.isfile(\"yolox_backup/tracker/byte_tracker.py\"))\n",
    "print(\"¿Existe __init__.py en tracker?\", os.path.isfile(\"yolox/tracker/__init__.py\"))\n"
   ]
  },
  {
   "cell_type": "code",
   "execution_count": 42,
   "id": "cd52f5c0",
   "metadata": {},
   "outputs": [
    {
     "name": "stdout",
     "output_type": "stream",
     "text": [
      "¿Existe yolox_backup?: True\n",
      "Contenido de yolox_backup: ['core', 'data', 'deepsort_tracker', 'evaluators', 'exp', 'layers', 'models', 'motdt_tracker', 'sort_tracker', 'tracker', 'tracking_utils', 'utils', '__init__.py']\n",
      "¿Existe __init__.py en yolox_backup?: True\n",
      "¿Existe tracker?: True\n",
      "Contenido de tracker: ['basetrack.py', 'byte_tracker.py', 'kalman_filter.py', 'matching.py', '__init__.py', '__pycache__']\n",
      "¿Existe __init__.py en tracker?: True\n"
     ]
    }
   ],
   "source": [
    "import os\n",
    "\n",
    "base_path = r\"C:/Users/Pc/Downloads/Proyecto Envase/YOLOX/ByteTrack/yolox_backup\"\n",
    "\n",
    "print(\"¿Existe yolox_backup?:\", os.path.isdir(base_path))\n",
    "print(\"Contenido de yolox_backup:\", os.listdir(base_path))\n",
    "print(\"¿Existe __init__.py en yolox_backup?:\", \"__init__.py\" in os.listdir(base_path))\n",
    "\n",
    "tracker_path = os.path.join(base_path, \"tracker\")\n",
    "print(\"¿Existe tracker?:\", os.path.isdir(tracker_path))\n",
    "print(\"Contenido de tracker:\", os.listdir(tracker_path))\n",
    "print(\"¿Existe __init__.py en tracker?:\", \"__init__.py\" in os.listdir(tracker_path))\n"
   ]
  },
  {
   "cell_type": "code",
   "execution_count": 44,
   "id": "31fc0ce0",
   "metadata": {},
   "outputs": [
    {
     "name": "stdout",
     "output_type": "stream",
     "text": [
      "Directorio actual: c:\\Users\\Pc\\Downloads\\Proyecto Envase\\YOLOX\n"
     ]
    }
   ],
   "source": [
    "import os\n",
    "print(\"Directorio actual:\", os.getcwd())\n"
   ]
  },
  {
   "cell_type": "code",
   "execution_count": 2,
   "id": "8f10ba99",
   "metadata": {},
   "outputs": [
    {
     "name": "stdout",
     "output_type": "stream",
     "text": [
      "Collecting cython_bbox\n",
      "  Using cached cython_bbox-0.1.5.tar.gz (4.4 kB)\n",
      "  Installing build dependencies: started\n",
      "  Installing build dependencies: finished with status 'done'\n",
      "  Getting requirements to build wheel: started\n",
      "  Getting requirements to build wheel: finished with status 'done'\n",
      "  Installing backend dependencies: started\n",
      "  Installing backend dependencies: finished with status 'done'\n",
      "  Preparing metadata (pyproject.toml): started\n",
      "  Preparing metadata (pyproject.toml): finished with status 'done'\n",
      "Requirement already satisfied: Cython in c:\\users\\pc\\.conda\\envs\\gpu\\lib\\site-packages (from cython_bbox) (3.1.3)\n",
      "Requirement already satisfied: numpy in c:\\users\\pc\\.conda\\envs\\gpu\\lib\\site-packages (from cython_bbox) (2.0.1)\n",
      "Building wheels for collected packages: cython_bbox\n",
      "  Building wheel for cython_bbox (pyproject.toml): started\n",
      "  Building wheel for cython_bbox (pyproject.toml): finished with status 'error'\n",
      "Failed to build cython_bbox\n",
      "Note: you may need to restart the kernel to use updated packages.\n"
     ]
    },
    {
     "name": "stderr",
     "output_type": "stream",
     "text": [
      "  error: subprocess-exited-with-error\n",
      "  \n",
      "  × Building wheel for cython_bbox (pyproject.toml) did not run successfully.\n",
      "  │ exit code: 1\n",
      "  ╰─> [7 lines of output]\n",
      "      running bdist_wheel\n",
      "      running build\n",
      "      running build_ext\n",
      "      Compiling src/cython_bbox.pyx because it changed.\n",
      "      [1/1] Cythonizing src/cython_bbox.pyx\n",
      "      building 'cython_bbox' extension\n",
      "      error: Microsoft Visual C++ 14.0 or greater is required. Get it with \"Microsoft C++ Build Tools\": https://visualstudio.microsoft.com/visual-cpp-build-tools/\n",
      "      [end of output]\n",
      "  \n",
      "  note: This error originates from a subprocess, and is likely not a problem with pip.\n",
      "  ERROR: Failed building wheel for cython_bbox\n",
      "error: failed-wheel-build-for-install\n",
      "\n",
      "× Failed to build installable wheels for some pyproject.toml based projects\n",
      "╰─> cython_bbox\n"
     ]
    }
   ],
   "source": [
    "pip install --use-pep517 cython_bbox\n"
   ]
  },
  {
   "cell_type": "code",
   "execution_count": 6,
   "id": "95420990",
   "metadata": {},
   "outputs": [
    {
     "name": "stdout",
     "output_type": "stream",
     "text": [
      "✅ ¡Import exitoso!\n"
     ]
    }
   ],
   "source": [
    "import sys\n",
    "sys.path.append(r\"C:/Users/Pc/Downloads/Proyecto Envase/YOLOX/ByteTrack\")\n",
    "\n",
    "from yolox_backup.tracker.byte_tracker import BYTETracker, STrack\n",
    "print(\"✅ ¡Import exitoso!\")\n"
   ]
  },
  {
   "cell_type": "code",
   "execution_count": 8,
   "id": "79101dac",
   "metadata": {},
   "outputs": [
    {
     "name": "stdout",
     "output_type": "stream",
     "text": [
      "3.10.18 | packaged by Anaconda, Inc. | (main, Jun  5 2025, 13:08:55) [MSC v.1929 64 bit (AMD64)]\n"
     ]
    }
   ],
   "source": [
    "import sys\n",
    "print(sys.version)\n"
   ]
  },
  {
   "cell_type": "code",
   "execution_count": 10,
   "id": "2733af86",
   "metadata": {},
   "outputs": [
    {
     "name": "stderr",
     "output_type": "stream",
     "text": [
      "WARNING: Skipping numpy as it is not installed.\n",
      "WARNING: Skipping scipy as it is not installed.\n"
     ]
    },
    {
     "name": "stdout",
     "output_type": "stream",
     "text": [
      "Collecting numpy==1.24.4\n",
      "  Downloading numpy-1.24.4-cp310-cp310-win_amd64.whl.metadata (5.6 kB)\n",
      "Collecting scipy==1.10.1\n",
      "  Downloading scipy-1.10.1-cp310-cp310-win_amd64.whl.metadata (58 kB)\n",
      "Downloading numpy-1.24.4-cp310-cp310-win_amd64.whl (14.8 MB)\n",
      "   ---------------------------------------- 0.0/14.8 MB ? eta -:--:--\n",
      "    --------------------------------------- 0.3/14.8 MB ? eta -:--:--\n",
      "   ---- ----------------------------------- 1.8/14.8 MB 7.7 MB/s eta 0:00:02\n",
      "   --------- ------------------------------ 3.7/14.8 MB 9.1 MB/s eta 0:00:02\n",
      "   ------------------- -------------------- 7.1/14.8 MB 10.6 MB/s eta 0:00:01\n",
      "   ----------------------------- ---------- 11.0/14.8 MB 12.7 MB/s eta 0:00:01\n",
      "   -------------------------------------- - 14.4/14.8 MB 13.3 MB/s eta 0:00:01\n",
      "   ---------------------------------------- 14.8/14.8 MB 13.3 MB/s  0:00:01\n",
      "Downloading scipy-1.10.1-cp310-cp310-win_amd64.whl (42.5 MB)\n",
      "   ---------------------------------------- 0.0/42.5 MB ? eta -:--:--\n",
      "   -- ------------------------------------- 2.6/42.5 MB 15.1 MB/s eta 0:00:03\n",
      "   ----- ---------------------------------- 5.8/42.5 MB 14.1 MB/s eta 0:00:03\n",
      "   -------- ------------------------------- 9.2/42.5 MB 14.6 MB/s eta 0:00:03\n",
      "   ----------- ---------------------------- 12.6/42.5 MB 15.2 MB/s eta 0:00:02\n",
      "   --------------- ------------------------ 16.0/42.5 MB 15.3 MB/s eta 0:00:02\n",
      "   ------------------ --------------------- 19.4/42.5 MB 15.5 MB/s eta 0:00:02\n",
      "   -------------------- ------------------- 22.3/42.5 MB 15.5 MB/s eta 0:00:02\n",
      "   ----------------------- ---------------- 24.9/42.5 MB 15.0 MB/s eta 0:00:02\n",
      "   ------------------------- -------------- 27.3/42.5 MB 14.6 MB/s eta 0:00:02\n",
      "   --------------------------- ------------ 29.4/42.5 MB 14.0 MB/s eta 0:00:01\n",
      "   ----------------------------- ---------- 31.2/42.5 MB 13.6 MB/s eta 0:00:01\n",
      "   ------------------------------- -------- 33.3/42.5 MB 13.1 MB/s eta 0:00:01\n",
      "   --------------------------------- ------ 35.1/42.5 MB 12.8 MB/s eta 0:00:01\n",
      "   ----------------------------------- ---- 37.2/42.5 MB 12.6 MB/s eta 0:00:01\n",
      "   ------------------------------------ --- 39.1/42.5 MB 12.4 MB/s eta 0:00:01\n",
      "   -------------------------------------- - 41.2/42.5 MB 12.2 MB/s eta 0:00:01\n",
      "   ---------------------------------------- 42.5/42.5 MB 12.1 MB/s  0:00:03\n",
      "Installing collected packages: numpy, scipy\n",
      "\n",
      "  Attempting uninstall: numpy\n",
      "\n",
      "    Found existing installation: numpy 2.2.6\n",
      "\n",
      "    Uninstalling numpy-2.2.6:\n",
      "\n",
      "   ---------------------------------------- 0/2 [numpy]\n",
      "   ---------------------------------------- 0/2 [numpy]\n",
      "   ---------------------------------------- 0/2 [numpy]\n",
      "   ---------------------------------------- 0/2 [numpy]\n",
      "   ---------------------------------------- 0/2 [numpy]\n",
      "   ---------------------------------------- 0/2 [numpy]\n",
      "      Successfully uninstalled numpy-2.2.6\n",
      "   ---------------------------------------- 0/2 [numpy]\n",
      "   ---------------------------------------- 0/2 [numpy]\n",
      "   ---------------------------------------- 0/2 [numpy]\n",
      "   ---------------------------------------- 0/2 [numpy]\n",
      "   ---------------------------------------- 0/2 [numpy]\n",
      "   ---------------------------------------- 0/2 [numpy]\n",
      "   ---------------------------------------- 0/2 [numpy]\n",
      "   ---------------------------------------- 0/2 [numpy]\n",
      "   ---------------------------------------- 0/2 [numpy]\n",
      "   ---------------------------------------- 0/2 [numpy]\n",
      "   ---------------------------------------- 0/2 [numpy]\n",
      "   ---------------------------------------- 0/2 [numpy]\n",
      "   ---------------------------------------- 0/2 [numpy]\n",
      "   ---------------------------------------- 0/2 [numpy]\n",
      "   ---------------------------------------- 0/2 [numpy]\n",
      "   ---------------------------------------- 0/2 [numpy]\n",
      "   ---------------------------------------- 0/2 [numpy]\n",
      "   ---------------------------------------- 0/2 [numpy]\n",
      "   ---------------------------------------- 0/2 [numpy]\n",
      "   ---------------------------------------- 0/2 [numpy]\n",
      "   ---------------------------------------- 0/2 [numpy]\n",
      "   ---------------------------------------- 0/2 [numpy]\n",
      "   ---------------------------------------- 0/2 [numpy]\n",
      "   ---------------------------------------- 0/2 [numpy]\n",
      "   ---------------------------------------- 0/2 [numpy]\n",
      "   ---------------------------------------- 0/2 [numpy]\n",
      "   ---------------------------------------- 0/2 [numpy]\n",
      "   ---------------------------------------- 0/2 [numpy]\n",
      "   ---------------------------------------- 0/2 [numpy]\n",
      "   ---------------------------------------- 0/2 [numpy]\n",
      "   ---------------------------------------- 0/2 [numpy]\n",
      "   ---------------------------------------- 0/2 [numpy]\n",
      "   ---------------------------------------- 0/2 [numpy]\n",
      "   ---------------------------------------- 0/2 [numpy]\n",
      "   ---------------------------------------- 0/2 [numpy]\n",
      "   ---------------------------------------- 0/2 [numpy]\n",
      "   ---------------------------------------- 0/2 [numpy]\n",
      "   ---------------------------------------- 0/2 [numpy]\n",
      "   ---------------------------------------- 0/2 [numpy]\n",
      "   ---------------------------------------- 0/2 [numpy]\n",
      "   ---------------------------------------- 0/2 [numpy]\n",
      "   ---------------------------------------- 0/2 [numpy]\n",
      "   ---------------------------------------- 0/2 [numpy]\n",
      "   ---------------------------------------- 0/2 [numpy]\n",
      "   ---------------------------------------- 0/2 [numpy]\n",
      "   ---------------------------------------- 0/2 [numpy]\n",
      "   ---------------------------------------- 0/2 [numpy]\n",
      "   ---------------------------------------- 0/2 [numpy]\n",
      "   ---------------------------------------- 0/2 [numpy]\n",
      "   ---------------------------------------- 0/2 [numpy]\n",
      "   ---------------------------------------- 0/2 [numpy]\n",
      "   ---------------------------------------- 0/2 [numpy]\n",
      "   ---------------------------------------- 0/2 [numpy]\n",
      "   ---------------------------------------- 0/2 [numpy]\n",
      "   ---------------------------------------- 0/2 [numpy]\n",
      "   ---------------------------------------- 0/2 [numpy]\n",
      "   ---------------------------------------- 0/2 [numpy]\n",
      "   ---------------------------------------- 0/2 [numpy]\n",
      "  Attempting uninstall: scipy\n",
      "   ---------------------------------------- 0/2 [numpy]\n",
      "    Found existing installation: scipy 1.10.1\n",
      "   ---------------------------------------- 0/2 [numpy]\n",
      "   -------------------- ------------------- 1/2 [scipy]\n",
      "    Uninstalling scipy-1.10.1:\n",
      "   -------------------- ------------------- 1/2 [scipy]\n",
      "   -------------------- ------------------- 1/2 [scipy]\n",
      "   -------------------- ------------------- 1/2 [scipy]\n",
      "   -------------------- ------------------- 1/2 [scipy]\n",
      "   -------------------- ------------------- 1/2 [scipy]\n",
      "      Successfully uninstalled scipy-1.10.1\n",
      "   -------------------- ------------------- 1/2 [scipy]\n",
      "   -------------------- ------------------- 1/2 [scipy]\n",
      "   -------------------- ------------------- 1/2 [scipy]\n",
      "   -------------------- ------------------- 1/2 [scipy]\n",
      "   -------------------- ------------------- 1/2 [scipy]\n",
      "   -------------------- ------------------- 1/2 [scipy]\n",
      "   -------------------- ------------------- 1/2 [scipy]\n",
      "   -------------------- ------------------- 1/2 [scipy]\n",
      "   -------------------- ------------------- 1/2 [scipy]\n",
      "   -------------------- ------------------- 1/2 [scipy]\n",
      "   -------------------- ------------------- 1/2 [scipy]\n",
      "   -------------------- ------------------- 1/2 [scipy]\n",
      "   -------------------- ------------------- 1/2 [scipy]\n",
      "   -------------------- ------------------- 1/2 [scipy]\n",
      "   -------------------- ------------------- 1/2 [scipy]\n",
      "   -------------------- ------------------- 1/2 [scipy]\n",
      "   -------------------- ------------------- 1/2 [scipy]\n",
      "   -------------------- ------------------- 1/2 [scipy]\n",
      "   -------------------- ------------------- 1/2 [scipy]\n",
      "   -------------------- ------------------- 1/2 [scipy]\n",
      "   -------------------- ------------------- 1/2 [scipy]\n",
      "   -------------------- ------------------- 1/2 [scipy]\n",
      "   -------------------- ------------------- 1/2 [scipy]\n",
      "   -------------------- ------------------- 1/2 [scipy]\n",
      "   -------------------- ------------------- 1/2 [scipy]\n",
      "   -------------------- ------------------- 1/2 [scipy]\n",
      "   -------------------- ------------------- 1/2 [scipy]\n",
      "   -------------------- ------------------- 1/2 [scipy]\n",
      "   -------------------- ------------------- 1/2 [scipy]\n",
      "   -------------------- ------------------- 1/2 [scipy]\n",
      "   -------------------- ------------------- 1/2 [scipy]\n",
      "   -------------------- ------------------- 1/2 [scipy]\n",
      "   -------------------- ------------------- 1/2 [scipy]\n",
      "   -------------------- ------------------- 1/2 [scipy]\n",
      "   -------------------- ------------------- 1/2 [scipy]\n",
      "   -------------------- ------------------- 1/2 [scipy]\n",
      "   -------------------- ------------------- 1/2 [scipy]\n",
      "   -------------------- ------------------- 1/2 [scipy]\n",
      "   -------------------- ------------------- 1/2 [scipy]\n",
      "   -------------------- ------------------- 1/2 [scipy]\n",
      "   -------------------- ------------------- 1/2 [scipy]\n",
      "   -------------------- ------------------- 1/2 [scipy]\n",
      "   -------------------- ------------------- 1/2 [scipy]\n",
      "   -------------------- ------------------- 1/2 [scipy]\n",
      "   -------------------- ------------------- 1/2 [scipy]\n",
      "   -------------------- ------------------- 1/2 [scipy]\n",
      "   -------------------- ------------------- 1/2 [scipy]\n",
      "   -------------------- ------------------- 1/2 [scipy]\n",
      "   -------------------- ------------------- 1/2 [scipy]\n",
      "   -------------------- ------------------- 1/2 [scipy]\n",
      "   -------------------- ------------------- 1/2 [scipy]\n",
      "   -------------------- ------------------- 1/2 [scipy]\n",
      "   -------------------- ------------------- 1/2 [scipy]\n",
      "   -------------------- ------------------- 1/2 [scipy]\n",
      "   -------------------- ------------------- 1/2 [scipy]\n",
      "   -------------------- ------------------- 1/2 [scipy]\n",
      "   -------------------- ------------------- 1/2 [scipy]\n",
      "   -------------------- ------------------- 1/2 [scipy]\n",
      "   -------------------- ------------------- 1/2 [scipy]\n",
      "   -------------------- ------------------- 1/2 [scipy]\n",
      "   -------------------- ------------------- 1/2 [scipy]\n",
      "   -------------------- ------------------- 1/2 [scipy]\n",
      "   -------------------- ------------------- 1/2 [scipy]\n",
      "   -------------------- ------------------- 1/2 [scipy]\n",
      "   -------------------- ------------------- 1/2 [scipy]\n",
      "   -------------------- ------------------- 1/2 [scipy]\n",
      "   -------------------- ------------------- 1/2 [scipy]\n",
      "   -------------------- ------------------- 1/2 [scipy]\n",
      "   -------------------- ------------------- 1/2 [scipy]\n",
      "   -------------------- ------------------- 1/2 [scipy]\n",
      "   -------------------- ------------------- 1/2 [scipy]\n",
      "   -------------------- ------------------- 1/2 [scipy]\n",
      "   -------------------- ------------------- 1/2 [scipy]\n",
      "   -------------------- ------------------- 1/2 [scipy]\n",
      "   ---------------------------------------- 2/2 [scipy]\n",
      "\n",
      "Successfully installed numpy-1.24.4 scipy-1.10.1\n"
     ]
    },
    {
     "name": "stderr",
     "output_type": "stream",
     "text": [
      "  WARNING: The script f2py.exe is installed in 'c:\\Users\\Pc\\.conda\\envs\\GPU\\Scripts' which is not on PATH.\n",
      "  Consider adding this directory to PATH or, if you prefer to suppress this warning, use --no-warn-script-location.\n",
      "  WARNING: Failed to remove contents in a temporary directory 'C:\\Users\\Pc\\AppData\\Local\\Temp\\pip-uninstall-67qdum2g'.\n",
      "  You can safely remove it manually.\n",
      "  WARNING: Failed to remove contents in a temporary directory 'C:\\Users\\Pc\\.conda\\envs\\GPU\\Lib\\site-packages\\~-mpy.libs'.\n",
      "  You can safely remove it manually.\n",
      "  WARNING: Failed to remove contents in a temporary directory 'C:\\Users\\Pc\\.conda\\envs\\GPU\\Lib\\site-packages\\~cipy.libs'.\n",
      "  You can safely remove it manually.\n",
      "  WARNING: Failed to remove contents in a temporary directory 'C:\\Users\\Pc\\.conda\\envs\\GPU\\Lib\\site-packages\\~cipy'.\n",
      "  You can safely remove it manually.\n",
      "ERROR: pip's dependency resolver does not currently take into account all the packages that are installed. This behaviour is the source of the following dependency conflicts.\n",
      "opencv-python 4.12.0.88 requires numpy<2.3.0,>=2; python_version >= \"3.9\", but you have numpy 1.24.4 which is incompatible.\n"
     ]
    }
   ],
   "source": [
    "!pip uninstall numpy scipy -y\n",
    "!python -m pip install numpy==1.24.4 scipy==1.10.1 --force-reinstall --no-cache-dir\n",
    "\n",
    "\n",
    "\n"
   ]
  },
  {
   "cell_type": "code",
   "execution_count": 12,
   "id": "d0855282",
   "metadata": {},
   "outputs": [
    {
     "name": "stdout",
     "output_type": "stream",
     "text": [
      "NumPy: 2.2.6\n",
      "SciPy: 1.10.1\n",
      "Torch: 2.1.0+cu118\n"
     ]
    }
   ],
   "source": [
    "import numpy as np\n",
    "import scipy\n",
    "import torch\n",
    "\n",
    "print(\"NumPy:\", np.__version__)\n",
    "print(\"SciPy:\", scipy.__version__)\n",
    "print(\"Torch:\", torch.__version__)\n"
   ]
  },
  {
   "cell_type": "code",
   "execution_count": 5,
   "id": "494d0d07",
   "metadata": {},
   "outputs": [
    {
     "name": "stdout",
     "output_type": "stream",
     "text": [
      "supervision.__version__: 0.1.0\n"
     ]
    }
   ],
   "source": [
    "\n",
    "# # set up environment\n",
    "# os.environ[\"DATASET_DIRECTORY\"] = \"/content/datasets\"\n",
    "\n",
    "!pip install loguru\n",
    "\n",
    "#%cd {HOME}\n",
    "!git clone https://github.com/ifzhang/ByteTrack.git\n",
    "\n",
    "###\n",
    "#%cd {HOME}/ByteTrack\n",
    "\n",
    "# workaround related to https://github.com/roboflow/notebooks/issues/80\n",
    "# !sed -i 's/onnx==1.8.1/onnx==1.9.0/g' requirements.txt\n",
    "\n",
    "# !pip3 install -q -r requirements.txt\n",
    "# !python3 setup.py -q develop\n",
    "# !pip install -q cython_bbox\n",
    "# !pip install -q onemetric\n",
    "###\n",
    "\n",
    "# !cd ByteTrack && pip3 install -q -r requirements.txt\n",
    "# !cd ByteTrack && python3  setup.py  -q develop\n",
    "# !pip install -q cython_bbox\n",
    "!pip install -q onemetric\n",
    "\n",
    "!pip3 install cython\n",
    "!pip3 install 'git+https://github.com/cocodataset/cocoapi.git#subdirectory=PythonAPI'\n",
    "#!pip3 install cython_bbox\n",
    "\n",
    "%cd /YOLOX/ByteTrack/\n",
    "# %cd C:/Users/jordi/Downloads/Proyecto-Envase/ByteTrack\n",
    "!pip3 install -r requirements.txt\n",
    "\n",
    "from IPython import display\n",
    "display.clear_output()\n",
    "\n",
    "\n",
    "\n",
    "import yolox\n",
    "print(\"yolox.__version__:\", yolox.__version__)\n",
    "\n",
    "# from yolox.tracker.byte_tracker import BYTETracker, STrack\n",
    "\n",
    "import sys\n",
    "sys.path.append(r\"C:/Users/Pc/Downloads/Proyecto Envase/YOLOX/ByteTrack\")\n",
    "\n",
    "from yolox_backup.tracker.byte_tracker import BYTETracker, STrack\n",
    "print(\"✅ ¡Import exitoso!\")\n",
    "from onemetric.cv.utils.iou import box_iou_batch\n",
    "from dataclasses import dataclass\n",
    "\n",
    "\n",
    "@dataclass(frozen=True)\n",
    "class BYTETrackerArgs:\n",
    "    # track_thresh: float = 0.1\n",
    "    # track_buffer: int =80\n",
    "    # match_thresh: float = 0.8\n",
    "    # aspect_ratio_thresh: float = 2.0\n",
    "    # min_box_area: float = 5.0\n",
    "    # mot20: bool = False\n",
    "\n",
    "\n",
    "#valores originales\n",
    "    track_thresh: float = 0.2\n",
    "    track_buffer: int = 30\n",
    "    match_thresh: float = 0.95\n",
    "    aspect_ratio_thresh: float = 3.0\n",
    "    min_box_area: float = 2.0\n",
    "    mot20: bool = False\n",
    "\n",
    "\n",
    "!pip install supervision==0.1.0\n",
    "\n",
    "\n",
    "from IPython import display\n",
    "display.clear_output()\n",
    "\n",
    "\n",
    "import supervision\n",
    "print(\"supervision.__version__:\", supervision.__version__)\n",
    "\n",
    "from supervision.draw.color import ColorPalette\n",
    "from supervision.geometry.dataclasses import Point\n",
    "from supervision.video.dataclasses import VideoInfo\n",
    "from supervision.video.source import get_video_frames_generator\n",
    "from supervision.video.sink import VideoSink\n",
    "from supervision.notebook.utils import show_frame_in_notebook\n",
    "from supervision.tools.detections import Detections, BoxAnnotator\n",
    "from supervision.tools.line_counter import LineCounter, LineCounterAnnotator\n",
    "\n",
    "from typing import List\n",
    "\n",
    "import numpy as np"
   ]
  },
  {
   "cell_type": "code",
   "execution_count": 7,
   "id": "44628d5c",
   "metadata": {},
   "outputs": [
    {
     "name": "stdout",
     "output_type": "stream",
     "text": [
      "Model summary (fused): 112 layers, 68,126,457 parameters, 0 gradients, 257.4 GFLOPs\n"
     ]
    }
   ],
   "source": [
    "# converts Detections into format that can be consumed by match_detections_with_tracks function\n",
    "def detections2boxes(detections: Detections) -> np.ndarray:\n",
    "    return np.hstack((\n",
    "        detections.xyxy,\n",
    "        detections.confidence[:, np.newaxis]\n",
    "    ))\n",
    "\n",
    "\n",
    "# converts List[STrack] into format that can be consumed by match_detections_with_tracks function\n",
    "def tracks2boxes(tracks: List[STrack]) -> np.ndarray:\n",
    "    return np.array([\n",
    "        track.tlbr\n",
    "        for track\n",
    "        in tracks\n",
    "    ], dtype=float)\n",
    "\n",
    "\n",
    "# matches our bounding boxes with predictions\n",
    "def match_detections_with_tracks(\n",
    "    detections: Detections,\n",
    "    tracks: List[STrack]\n",
    ") -> Detections:\n",
    "    if not np.any(detections.xyxy) or len(tracks) == 0:\n",
    "        return np.empty((0,))\n",
    "\n",
    "    tracks_boxes = tracks2boxes(tracks=tracks)\n",
    "    iou = box_iou_batch(tracks_boxes, detections.xyxy)\n",
    "    track2detection = np.argmax(iou, axis=1)\n",
    "\n",
    "    tracker_ids = [None] * len(detections)\n",
    "    tracker_id_dict = {}\n",
    "    for tracker_index, detection_index in enumerate(track2detection):\n",
    "        if iou[tracker_index, detection_index] != 0:\n",
    "            tracker_ids[detection_index] = tracks[tracker_index].track_id\n",
    "\n",
    "    return tracker_ids\n",
    "\n",
    "\n",
    "\n",
    "#MODEL=\"G:/Mi unidad/TRABAJO UNACEM 2024/PROYECTO CALIZA 2024/PROYECTO CALIZA L1/Modelos/L1-L2-V7.pt\"\n",
    "#MODEL=\"G:/Mi unidad/TRABAJO UNACEM 2025/PROYECTOS-ENVASE/2024/Videos-envase/resultados-m1/exp/weights/best.pt\"\n",
    "\n",
    "#MODEL=\"G:/Mi unidad/Proyecto Rosas - 2/modelos/exp/weights/best.pt\"\n",
    "\n",
    "#MODEL=\"G:/Mi unidad/TRABAJO UNACEM 2025/PROYECTOS-ENVASE/2025/modelos/T3.pt\"\n",
    "MODEL=\"C:/Users/Pc/Downloads/Proyecto Envase/SCA-V2.pt\"\n",
    "\n",
    "#\n",
    "#\n",
    "from ultralytics import YOLO\n",
    "\n",
    "model = YOLO(MODEL)\n",
    "model.fuse()\n",
    "\n",
    "CLASS_NAMES_DICT = model.model.names\n",
    "# change label for class_id 0 to \"rosa\"\n",
    "CLASS_NAMES_DICT[0] = \"Armaduro\"\n",
    "CLASS_NAMES_DICT[1] = \"Campeon\"\n",
    "CLASS_NAMES_DICT[2] = \"Selvalegre\"\n",
    "\n",
    "CLASS_ID = [0,1,2]"
   ]
  },
  {
   "cell_type": "code",
   "execution_count": null,
   "id": "55636120",
   "metadata": {},
   "outputs": [
    {
     "ename": "KeyboardInterrupt",
     "evalue": "",
     "output_type": "error",
     "traceback": [
      "\u001b[1;31m---------------------------------------------------------------------------\u001b[0m",
      "\u001b[1;31mKeyboardInterrupt\u001b[0m                         Traceback (most recent call last)",
      "Cell \u001b[1;32mIn[11], line 3\u001b[0m\n\u001b[0;32m      1\u001b[0m \u001b[38;5;28;01mimport\u001b[39;00m\u001b[38;5;250m \u001b[39m\u001b[38;5;21;01mcv2\u001b[39;00m\n\u001b[0;32m      2\u001b[0m \u001b[38;5;28;01mimport\u001b[39;00m\u001b[38;5;250m \u001b[39m\u001b[38;5;21;01mnumpy\u001b[39;00m\u001b[38;5;250m \u001b[39m\u001b[38;5;28;01mas\u001b[39;00m\u001b[38;5;250m \u001b[39m\u001b[38;5;21;01mnp\u001b[39;00m\n\u001b[1;32m----> 3\u001b[0m \u001b[38;5;28;01mimport\u001b[39;00m\u001b[38;5;250m \u001b[39m\u001b[38;5;21;01mpandas\u001b[39;00m\u001b[38;5;250m \u001b[39m\u001b[38;5;28;01mas\u001b[39;00m\u001b[38;5;250m \u001b[39m\u001b[38;5;21;01mpd\u001b[39;00m\n\u001b[0;32m      4\u001b[0m \u001b[38;5;28;01mfrom\u001b[39;00m\u001b[38;5;250m \u001b[39m\u001b[38;5;21;01mopenpyxl\u001b[39;00m\u001b[38;5;250m \u001b[39m\u001b[38;5;28;01mimport\u001b[39;00m Workbook\n\u001b[0;32m      5\u001b[0m \u001b[38;5;28;01mfrom\u001b[39;00m\u001b[38;5;250m \u001b[39m\u001b[38;5;21;01mopenpyxl\u001b[39;00m\u001b[38;5;21;01m.\u001b[39;00m\u001b[38;5;21;01mchart\u001b[39;00m\u001b[38;5;250m \u001b[39m\u001b[38;5;28;01mimport\u001b[39;00m BarChart, Reference\n",
      "File \u001b[1;32mc:\\Users\\Pc\\.conda\\envs\\GPU\\lib\\site-packages\\pandas\\__init__.py:150\u001b[0m\n\u001b[0;32m    131\u001b[0m \u001b[38;5;28;01mfrom\u001b[39;00m\u001b[38;5;250m \u001b[39m\u001b[38;5;21;01mpandas\u001b[39;00m\u001b[38;5;21;01m.\u001b[39;00m\u001b[38;5;21;01mcore\u001b[39;00m\u001b[38;5;21;01m.\u001b[39;00m\u001b[38;5;21;01mcomputation\u001b[39;00m\u001b[38;5;21;01m.\u001b[39;00m\u001b[38;5;21;01mapi\u001b[39;00m\u001b[38;5;250m \u001b[39m\u001b[38;5;28;01mimport\u001b[39;00m \u001b[38;5;28meval\u001b[39m\n\u001b[0;32m    133\u001b[0m \u001b[38;5;28;01mfrom\u001b[39;00m\u001b[38;5;250m \u001b[39m\u001b[38;5;21;01mpandas\u001b[39;00m\u001b[38;5;21;01m.\u001b[39;00m\u001b[38;5;21;01mcore\u001b[39;00m\u001b[38;5;21;01m.\u001b[39;00m\u001b[38;5;21;01mreshape\u001b[39;00m\u001b[38;5;21;01m.\u001b[39;00m\u001b[38;5;21;01mapi\u001b[39;00m\u001b[38;5;250m \u001b[39m\u001b[38;5;28;01mimport\u001b[39;00m (\n\u001b[0;32m    134\u001b[0m     concat,\n\u001b[0;32m    135\u001b[0m     lreshape,\n\u001b[1;32m   (...)\u001b[0m\n\u001b[0;32m    147\u001b[0m     qcut,\n\u001b[0;32m    148\u001b[0m )\n\u001b[1;32m--> 150\u001b[0m \u001b[38;5;28;01mfrom\u001b[39;00m\u001b[38;5;250m \u001b[39m\u001b[38;5;21;01mpandas\u001b[39;00m\u001b[38;5;250m \u001b[39m\u001b[38;5;28;01mimport\u001b[39;00m api, arrays, errors, io, plotting, tseries\n\u001b[0;32m    151\u001b[0m \u001b[38;5;28;01mfrom\u001b[39;00m\u001b[38;5;250m \u001b[39m\u001b[38;5;21;01mpandas\u001b[39;00m\u001b[38;5;250m \u001b[39m\u001b[38;5;28;01mimport\u001b[39;00m testing\n\u001b[0;32m    152\u001b[0m \u001b[38;5;28;01mfrom\u001b[39;00m\u001b[38;5;250m \u001b[39m\u001b[38;5;21;01mpandas\u001b[39;00m\u001b[38;5;21;01m.\u001b[39;00m\u001b[38;5;21;01mutil\u001b[39;00m\u001b[38;5;21;01m.\u001b[39;00m\u001b[38;5;21;01m_print_versions\u001b[39;00m\u001b[38;5;250m \u001b[39m\u001b[38;5;28;01mimport\u001b[39;00m show_versions\n",
      "File \u001b[1;32mc:\\Users\\Pc\\.conda\\envs\\GPU\\lib\\site-packages\\pandas\\api\\__init__.py:2\u001b[0m\n\u001b[0;32m      1\u001b[0m \u001b[38;5;124;03m\"\"\" public toolkit API \"\"\"\u001b[39;00m\n\u001b[1;32m----> 2\u001b[0m \u001b[38;5;28;01mfrom\u001b[39;00m\u001b[38;5;250m \u001b[39m\u001b[38;5;21;01mpandas\u001b[39;00m\u001b[38;5;21;01m.\u001b[39;00m\u001b[38;5;21;01mapi\u001b[39;00m\u001b[38;5;250m \u001b[39m\u001b[38;5;28;01mimport\u001b[39;00m (\n\u001b[0;32m      3\u001b[0m     extensions,\n\u001b[0;32m      4\u001b[0m     indexers,\n\u001b[0;32m      5\u001b[0m     interchange,\n\u001b[0;32m      6\u001b[0m     types,\n\u001b[0;32m      7\u001b[0m     typing,\n\u001b[0;32m      8\u001b[0m )\n\u001b[0;32m     10\u001b[0m __all__ \u001b[38;5;241m=\u001b[39m [\n\u001b[0;32m     11\u001b[0m     \u001b[38;5;124m\"\u001b[39m\u001b[38;5;124minterchange\u001b[39m\u001b[38;5;124m\"\u001b[39m,\n\u001b[0;32m     12\u001b[0m     \u001b[38;5;124m\"\u001b[39m\u001b[38;5;124mextensions\u001b[39m\u001b[38;5;124m\"\u001b[39m,\n\u001b[1;32m   (...)\u001b[0m\n\u001b[0;32m     15\u001b[0m     \u001b[38;5;124m\"\u001b[39m\u001b[38;5;124mtyping\u001b[39m\u001b[38;5;124m\"\u001b[39m,\n\u001b[0;32m     16\u001b[0m ]\n",
      "File \u001b[1;32mc:\\Users\\Pc\\.conda\\envs\\GPU\\lib\\site-packages\\pandas\\api\\typing\\__init__.py:31\u001b[0m\n\u001b[0;32m     19\u001b[0m \u001b[38;5;28;01mfrom\u001b[39;00m\u001b[38;5;250m \u001b[39m\u001b[38;5;21;01mpandas\u001b[39;00m\u001b[38;5;21;01m.\u001b[39;00m\u001b[38;5;21;01mcore\u001b[39;00m\u001b[38;5;21;01m.\u001b[39;00m\u001b[38;5;21;01mwindow\u001b[39;00m\u001b[38;5;250m \u001b[39m\u001b[38;5;28;01mimport\u001b[39;00m (\n\u001b[0;32m     20\u001b[0m     Expanding,\n\u001b[0;32m     21\u001b[0m     ExpandingGroupby,\n\u001b[1;32m   (...)\u001b[0m\n\u001b[0;32m     26\u001b[0m     Window,\n\u001b[0;32m     27\u001b[0m )\n\u001b[0;32m     29\u001b[0m \u001b[38;5;66;03m# TODO: Can't import Styler without importing jinja2\u001b[39;00m\n\u001b[0;32m     30\u001b[0m \u001b[38;5;66;03m# from pandas.io.formats.style import Styler\u001b[39;00m\n\u001b[1;32m---> 31\u001b[0m \u001b[38;5;28;01mfrom\u001b[39;00m\u001b[38;5;250m \u001b[39m\u001b[38;5;21;01mpandas\u001b[39;00m\u001b[38;5;21;01m.\u001b[39;00m\u001b[38;5;21;01mio\u001b[39;00m\u001b[38;5;21;01m.\u001b[39;00m\u001b[38;5;21;01mjson\u001b[39;00m\u001b[38;5;21;01m.\u001b[39;00m\u001b[38;5;21;01m_json\u001b[39;00m\u001b[38;5;250m \u001b[39m\u001b[38;5;28;01mimport\u001b[39;00m JsonReader\n\u001b[0;32m     32\u001b[0m \u001b[38;5;28;01mfrom\u001b[39;00m\u001b[38;5;250m \u001b[39m\u001b[38;5;21;01mpandas\u001b[39;00m\u001b[38;5;21;01m.\u001b[39;00m\u001b[38;5;21;01mio\u001b[39;00m\u001b[38;5;21;01m.\u001b[39;00m\u001b[38;5;21;01mstata\u001b[39;00m\u001b[38;5;250m \u001b[39m\u001b[38;5;28;01mimport\u001b[39;00m StataReader\n\u001b[0;32m     34\u001b[0m __all__ \u001b[38;5;241m=\u001b[39m [\n\u001b[0;32m     35\u001b[0m     \u001b[38;5;124m\"\u001b[39m\u001b[38;5;124mDataFrameGroupBy\u001b[39m\u001b[38;5;124m\"\u001b[39m,\n\u001b[0;32m     36\u001b[0m     \u001b[38;5;124m\"\u001b[39m\u001b[38;5;124mDatetimeIndexResamplerGroupby\u001b[39m\u001b[38;5;124m\"\u001b[39m,\n\u001b[1;32m   (...)\u001b[0m\n\u001b[0;32m     54\u001b[0m     \u001b[38;5;124m\"\u001b[39m\u001b[38;5;124mWindow\u001b[39m\u001b[38;5;124m\"\u001b[39m,\n\u001b[0;32m     55\u001b[0m ]\n",
      "File \u001b[1;32mc:\\Users\\Pc\\.conda\\envs\\GPU\\lib\\site-packages\\pandas\\io\\json\\__init__.py:1\u001b[0m\n\u001b[1;32m----> 1\u001b[0m \u001b[38;5;28;01mfrom\u001b[39;00m\u001b[38;5;250m \u001b[39m\u001b[38;5;21;01mpandas\u001b[39;00m\u001b[38;5;21;01m.\u001b[39;00m\u001b[38;5;21;01mio\u001b[39;00m\u001b[38;5;21;01m.\u001b[39;00m\u001b[38;5;21;01mjson\u001b[39;00m\u001b[38;5;21;01m.\u001b[39;00m\u001b[38;5;21;01m_json\u001b[39;00m\u001b[38;5;250m \u001b[39m\u001b[38;5;28;01mimport\u001b[39;00m (\n\u001b[0;32m      2\u001b[0m     read_json,\n\u001b[0;32m      3\u001b[0m     to_json,\n\u001b[0;32m      4\u001b[0m     ujson_dumps,\n\u001b[0;32m      5\u001b[0m     ujson_loads,\n\u001b[0;32m      6\u001b[0m )\n\u001b[0;32m      7\u001b[0m \u001b[38;5;28;01mfrom\u001b[39;00m\u001b[38;5;250m \u001b[39m\u001b[38;5;21;01mpandas\u001b[39;00m\u001b[38;5;21;01m.\u001b[39;00m\u001b[38;5;21;01mio\u001b[39;00m\u001b[38;5;21;01m.\u001b[39;00m\u001b[38;5;21;01mjson\u001b[39;00m\u001b[38;5;21;01m.\u001b[39;00m\u001b[38;5;21;01m_table_schema\u001b[39;00m\u001b[38;5;250m \u001b[39m\u001b[38;5;28;01mimport\u001b[39;00m build_table_schema\n\u001b[0;32m      9\u001b[0m __all__ \u001b[38;5;241m=\u001b[39m [\n\u001b[0;32m     10\u001b[0m     \u001b[38;5;124m\"\u001b[39m\u001b[38;5;124mujson_dumps\u001b[39m\u001b[38;5;124m\"\u001b[39m,\n\u001b[0;32m     11\u001b[0m     \u001b[38;5;124m\"\u001b[39m\u001b[38;5;124mujson_loads\u001b[39m\u001b[38;5;124m\"\u001b[39m,\n\u001b[1;32m   (...)\u001b[0m\n\u001b[0;32m     14\u001b[0m     \u001b[38;5;124m\"\u001b[39m\u001b[38;5;124mbuild_table_schema\u001b[39m\u001b[38;5;124m\"\u001b[39m,\n\u001b[0;32m     15\u001b[0m ]\n",
      "File \u001b[1;32mc:\\Users\\Pc\\.conda\\envs\\GPU\\lib\\site-packages\\pandas\\io\\json\\_json.py:71\u001b[0m\n\u001b[0;32m     66\u001b[0m \u001b[38;5;28;01mfrom\u001b[39;00m\u001b[38;5;250m \u001b[39m\u001b[38;5;21;01mpandas\u001b[39;00m\u001b[38;5;21;01m.\u001b[39;00m\u001b[38;5;21;01mio\u001b[39;00m\u001b[38;5;21;01m.\u001b[39;00m\u001b[38;5;21;01mjson\u001b[39;00m\u001b[38;5;21;01m.\u001b[39;00m\u001b[38;5;21;01m_normalize\u001b[39;00m\u001b[38;5;250m \u001b[39m\u001b[38;5;28;01mimport\u001b[39;00m convert_to_line_delimits\n\u001b[0;32m     67\u001b[0m \u001b[38;5;28;01mfrom\u001b[39;00m\u001b[38;5;250m \u001b[39m\u001b[38;5;21;01mpandas\u001b[39;00m\u001b[38;5;21;01m.\u001b[39;00m\u001b[38;5;21;01mio\u001b[39;00m\u001b[38;5;21;01m.\u001b[39;00m\u001b[38;5;21;01mjson\u001b[39;00m\u001b[38;5;21;01m.\u001b[39;00m\u001b[38;5;21;01m_table_schema\u001b[39;00m\u001b[38;5;250m \u001b[39m\u001b[38;5;28;01mimport\u001b[39;00m (\n\u001b[0;32m     68\u001b[0m     build_table_schema,\n\u001b[0;32m     69\u001b[0m     parse_table_schema,\n\u001b[0;32m     70\u001b[0m )\n\u001b[1;32m---> 71\u001b[0m \u001b[38;5;28;01mfrom\u001b[39;00m\u001b[38;5;250m \u001b[39m\u001b[38;5;21;01mpandas\u001b[39;00m\u001b[38;5;21;01m.\u001b[39;00m\u001b[38;5;21;01mio\u001b[39;00m\u001b[38;5;21;01m.\u001b[39;00m\u001b[38;5;21;01mparsers\u001b[39;00m\u001b[38;5;21;01m.\u001b[39;00m\u001b[38;5;21;01mreaders\u001b[39;00m\u001b[38;5;250m \u001b[39m\u001b[38;5;28;01mimport\u001b[39;00m validate_integer\n\u001b[0;32m     73\u001b[0m \u001b[38;5;28;01mif\u001b[39;00m TYPE_CHECKING:\n\u001b[0;32m     74\u001b[0m     \u001b[38;5;28;01mfrom\u001b[39;00m\u001b[38;5;250m \u001b[39m\u001b[38;5;21;01mcollections\u001b[39;00m\u001b[38;5;21;01m.\u001b[39;00m\u001b[38;5;21;01mabc\u001b[39;00m\u001b[38;5;250m \u001b[39m\u001b[38;5;28;01mimport\u001b[39;00m (\n\u001b[0;32m     75\u001b[0m         Hashable,\n\u001b[0;32m     76\u001b[0m         Mapping,\n\u001b[0;32m     77\u001b[0m     )\n",
      "File \u001b[1;32mc:\\Users\\Pc\\.conda\\envs\\GPU\\lib\\site-packages\\pandas\\io\\parsers\\__init__.py:1\u001b[0m\n\u001b[1;32m----> 1\u001b[0m \u001b[38;5;28;01mfrom\u001b[39;00m\u001b[38;5;250m \u001b[39m\u001b[38;5;21;01mpandas\u001b[39;00m\u001b[38;5;21;01m.\u001b[39;00m\u001b[38;5;21;01mio\u001b[39;00m\u001b[38;5;21;01m.\u001b[39;00m\u001b[38;5;21;01mparsers\u001b[39;00m\u001b[38;5;21;01m.\u001b[39;00m\u001b[38;5;21;01mreaders\u001b[39;00m\u001b[38;5;250m \u001b[39m\u001b[38;5;28;01mimport\u001b[39;00m (\n\u001b[0;32m      2\u001b[0m     TextFileReader,\n\u001b[0;32m      3\u001b[0m     TextParser,\n\u001b[0;32m      4\u001b[0m     read_csv,\n\u001b[0;32m      5\u001b[0m     read_fwf,\n\u001b[0;32m      6\u001b[0m     read_table,\n\u001b[0;32m      7\u001b[0m )\n\u001b[0;32m      9\u001b[0m __all__ \u001b[38;5;241m=\u001b[39m [\u001b[38;5;124m\"\u001b[39m\u001b[38;5;124mTextFileReader\u001b[39m\u001b[38;5;124m\"\u001b[39m, \u001b[38;5;124m\"\u001b[39m\u001b[38;5;124mTextParser\u001b[39m\u001b[38;5;124m\"\u001b[39m, \u001b[38;5;124m\"\u001b[39m\u001b[38;5;124mread_csv\u001b[39m\u001b[38;5;124m\"\u001b[39m, \u001b[38;5;124m\"\u001b[39m\u001b[38;5;124mread_fwf\u001b[39m\u001b[38;5;124m\"\u001b[39m, \u001b[38;5;124m\"\u001b[39m\u001b[38;5;124mread_table\u001b[39m\u001b[38;5;124m\"\u001b[39m]\n",
      "File \u001b[1;32mc:\\Users\\Pc\\.conda\\envs\\GPU\\lib\\site-packages\\pandas\\io\\parsers\\readers.py:32\u001b[0m\n\u001b[0;32m     29\u001b[0m \u001b[38;5;28;01mfrom\u001b[39;00m\u001b[38;5;250m \u001b[39m\u001b[38;5;21;01mpandas\u001b[39;00m\u001b[38;5;21;01m.\u001b[39;00m\u001b[38;5;21;01m_config\u001b[39;00m\u001b[38;5;250m \u001b[39m\u001b[38;5;28;01mimport\u001b[39;00m using_copy_on_write\n\u001b[0;32m     31\u001b[0m \u001b[38;5;28;01mfrom\u001b[39;00m\u001b[38;5;250m \u001b[39m\u001b[38;5;21;01mpandas\u001b[39;00m\u001b[38;5;21;01m.\u001b[39;00m\u001b[38;5;21;01m_libs\u001b[39;00m\u001b[38;5;250m \u001b[39m\u001b[38;5;28;01mimport\u001b[39;00m lib\n\u001b[1;32m---> 32\u001b[0m \u001b[38;5;28;01mfrom\u001b[39;00m\u001b[38;5;250m \u001b[39m\u001b[38;5;21;01mpandas\u001b[39;00m\u001b[38;5;21;01m.\u001b[39;00m\u001b[38;5;21;01m_libs\u001b[39;00m\u001b[38;5;21;01m.\u001b[39;00m\u001b[38;5;21;01mparsers\u001b[39;00m\u001b[38;5;250m \u001b[39m\u001b[38;5;28;01mimport\u001b[39;00m STR_NA_VALUES\n\u001b[0;32m     33\u001b[0m \u001b[38;5;28;01mfrom\u001b[39;00m\u001b[38;5;250m \u001b[39m\u001b[38;5;21;01mpandas\u001b[39;00m\u001b[38;5;21;01m.\u001b[39;00m\u001b[38;5;21;01merrors\u001b[39;00m\u001b[38;5;250m \u001b[39m\u001b[38;5;28;01mimport\u001b[39;00m (\n\u001b[0;32m     34\u001b[0m     AbstractMethodError,\n\u001b[0;32m     35\u001b[0m     ParserWarning,\n\u001b[0;32m     36\u001b[0m )\n\u001b[0;32m     37\u001b[0m \u001b[38;5;28;01mfrom\u001b[39;00m\u001b[38;5;250m \u001b[39m\u001b[38;5;21;01mpandas\u001b[39;00m\u001b[38;5;21;01m.\u001b[39;00m\u001b[38;5;21;01mutil\u001b[39;00m\u001b[38;5;21;01m.\u001b[39;00m\u001b[38;5;21;01m_decorators\u001b[39;00m\u001b[38;5;250m \u001b[39m\u001b[38;5;28;01mimport\u001b[39;00m Appender\n",
      "File \u001b[1;32m<frozen importlib._bootstrap>:404\u001b[0m, in \u001b[0;36mparent\u001b[1;34m(self)\u001b[0m\n",
      "\u001b[1;31mKeyboardInterrupt\u001b[0m: "
     ]
    }
   ],
   "source": [
    "\n",
    "# import cv2\n",
    "# import numpy as np\n",
    "# import pandas as pd\n",
    "# from openpyxl import Workbook\n",
    "# from openpyxl.chart import BarChart, Reference\n",
    "# from openpyxl.utils.dataframe import dataframe_to_rows\n",
    "# from typing import List\n",
    "# from tqdm import tqdm\n",
    "# import numpy as np\n",
    "# np.float = float  # Parche para compatibilidad\n",
    "\n",
    "\n",
    "# from ultralytics import YOLO\n",
    "# import torch\n",
    "\n",
    "# # Configuración óptima del dispositivo (prioriza CUDA, luego MPS, luego CPU)\n",
    "# if torch.cuda.is_available():\n",
    "#     device = torch.device(\"cuda\")\n",
    "#     print(f\"Usando GPU NVIDIA: {torch.cuda.get_device_name(0)}\")\n",
    "# elif torch.backends.mps.is_available():\n",
    "#     device = torch.device(\"mps\")\n",
    "#     print(\"Usando Apple Silicon (MPS)\")\n",
    "# else:\n",
    "#     device = torch.device(\"cpu\")\n",
    "#     print(\"Usando CPU\")\n",
    "\n",
    "# # Carga del modelo\n",
    "# model = YOLO(\"C:/Users/Pc/Downloads/Proyecto Envase/SCA-V2.pt\").to(device)\n",
    "\n",
    "# # Verificación final\n",
    "# print(\"\\nEstado de dispositivos:\")\n",
    "# print(f\"PyTorch version: {torch.__version__}\")\n",
    "# print(f\"CUDA disponible: {torch.cuda.is_available()}\")\n",
    "# print(f\"MPS disponible: {torch.backends.mps.is_available()}\")\n",
    "# print(f\"Dispositivo seleccionado: {device}\")\n",
    "\n",
    "# # device = 'cuda' if torch.cuda.is_available() else 'cpu'\n",
    "# # print(f\"Usando dispositivo: {device}\")\n",
    "\n",
    "\n",
    "# # Inicialización de contadores\n",
    "# contador_selvalegre = 0\n",
    "# contador_campeon = 0\n",
    "# contador_armaduro = 0\n",
    "# data = []\n",
    "# result_df = pd.DataFrame()\n",
    "\n",
    "# # Instancias de tracking y anotación\n",
    "# byte_tracker = BYTETracker(BYTETrackerArgs())\n",
    "\n",
    " \n",
    "# box_annotator = BoxAnnotator(color=ColorPalette(), thickness=4, text_thickness=4, text_scale=2)\n",
    "\n",
    "\n",
    "# # Reemplazar la fuente del video por la cámara en vivo\n",
    "# cap = cv2.VideoCapture(0)  # 0 es el índice de la cámara por defecto. Cambia si tienes más de una cámara.\n",
    "\n",
    "# # Verificar si la cámara se abrió correctamente\n",
    "# if not cap.isOpened():\n",
    "#     print(\"Error: No se pudo abrir la cámara.\")\n",
    "#     exit()\n",
    "\n",
    "# # Obtener las dimensiones del primer frame\n",
    "# ret, frame = cap.read()\n",
    "# if not ret:\n",
    "#     print(\"Error: No se pudo capturar el primer frame.\")\n",
    "#     exit()\n",
    "\n",
    "# h, w = frame.shape[:2]\n",
    "# linea_conteo = w // 2\n",
    "# start_point = (linea_conteo, 0)\n",
    "# end_point = (linea_conteo, h)\n",
    "\n",
    "# # Excel Workbook\n",
    "# wb = Workbook()\n",
    "# ws = wb.active\n",
    "# ws.title = 'Contadores'\n",
    "\n",
    "# # Procesamiento en tiempo real desde la cámara\n",
    "# while True:\n",
    "#     ret, frame = cap.read()\n",
    "#     if not ret:\n",
    "#         print(\"Error: No se pudo capturar el frame.\")\n",
    "#         break\n",
    "\n",
    "#     # Procesamiento del frame\n",
    "#     results = model(frame)  # Asumiendo que 'model' es el modelo de detección\n",
    "#     detections = Detections(\n",
    "#         xyxy=results[0].boxes.xyxy.cpu().numpy(),\n",
    "#         confidence=results[0].boxes.conf.cpu().numpy(),\n",
    "#         class_id=results[0].boxes.cls.cpu().numpy().astype(int)\n",
    "#     )\n",
    "\n",
    "\n",
    "#     # detections = Detections(\n",
    "#     #     xyxy=results[0].boxes.xyxy.to(device),  # Mover a GPU\n",
    "#     #     confidence=results[0].boxes.conf.to(device),\n",
    "#     #     class_id=results[0].boxes.cls.to(device).int()\n",
    "#     # )\n",
    "\n",
    "\n",
    "#     # Filtrado\n",
    "#     mask = np.array([class_id in CLASS_ID for class_id in detections.class_id], dtype=bool)\n",
    "#     detections.filter(mask=mask, inplace=True)\n",
    "\n",
    "#     # Tracking\n",
    "#     tracks = byte_tracker.update(\n",
    "#         output_results=detections2boxes(detections),\n",
    "#         img_info=frame.shape,\n",
    "#         img_size=frame.shape\n",
    "#     )\n",
    "\n",
    "#     tracker_id = match_detections_with_tracks(detections, tracks)\n",
    "#     detections.tracker_id = np.array(tracker_id)\n",
    "\n",
    "#     # Asegurar que sea tipo booleano\n",
    "#     mask = np.array([t is not None for t in detections.tracker_id], dtype=bool)\n",
    "#     detections.filter(mask=mask, inplace=True)\n",
    "\n",
    "#     # Etiquetas\n",
    "#     labels = [f\" {CLASS_NAMES_DICT[class_id]}\" for _, conf, class_id, tracker_id in detections]\n",
    "\n",
    "#     # Línea de conteo\n",
    "#     frame_with_line = cv2.line(frame, start_point, end_point, (255, 255, 255), 2)\n",
    "\n",
    "#     # Conteo personalizado\n",
    "#     for class_id, xyxy, tracker_id in zip(detections.class_id, detections.xyxy, detections.tracker_id):\n",
    "#         x_center = int(xyxy[0] + (xyxy[2] - xyxy[0]) / 2)\n",
    "#         if x_center >= linea_conteo:\n",
    "#             if tracker_id not in data:\n",
    "#                 data.append(tracker_id)\n",
    "#                 if CLASS_NAMES_DICT[class_id] == \"Selvalegre\":\n",
    "#                     contador_selvalegre += 1\n",
    "#                 elif CLASS_NAMES_DICT[class_id] == \"Campeon\":\n",
    "#                     contador_campeon += 1\n",
    "#                 elif CLASS_NAMES_DICT[class_id] == \"Armaduro\":\n",
    "#                     contador_armaduro += 1\n",
    "\n",
    "#     # Mostrar los contadores en el frame\n",
    "#     cv2.putText(frame, f'Selvalegre:'+str(contador_selvalegre), (20,30), cv2.FONT_HERSHEY_SIMPLEX, 0.9, (255,255,255), 2, cv2.LINE_AA)\n",
    "#     cv2.putText(frame, f'Campeon:'+str(contador_campeon), (20,60), cv2.FONT_HERSHEY_SIMPLEX, 0.9, (255,255,255), 2, cv2.LINE_AA)\n",
    "#     cv2.putText(frame, f'Armaduro:'+str(contador_armaduro), (20,90), cv2.FONT_HERSHEY_SIMPLEX, 0.9, (255,255,255), 2, cv2.LINE_AA)\n",
    "\n",
    "#     # Mostrar el frame procesado\n",
    "#     frame = box_annotator.annotate(frame=frame, detections=detections, labels=labels)\n",
    "\n",
    "#     # Mostrar el frame en una ventana\n",
    "#     cv2.imshow(\"Frame Procesado\", frame)\n",
    "\n",
    "#     print(torch.cuda.memory_allocated()/1e9, \"GB usados en GPU\")\n",
    "\n",
    "#     # Salir si se presiona la tecla 'q'\n",
    "#     if cv2.waitKey(1) & 0xFF == ord('q'):\n",
    "#         break\n",
    "\n",
    "\n",
    "\n",
    "# # Liberar la cámara y cerrar todas las ventanas\n",
    "# cap.release()\n",
    "# cv2.destroyAllWindows()\n",
    "\n",
    "# # Guardar el conteo en Excel\n",
    "# result_df = pd.concat([result_df, pd.DataFrame({'Tipo': 'Selvalegre', 'Conteo Total': [contador_selvalegre]})], ignore_index=True)\n",
    "# result_df = pd.concat([result_df, pd.DataFrame({'Tipo': 'Campeón', 'Conteo Total': [contador_campeon]})], ignore_index=True)\n",
    "# result_df = pd.concat([result_df, pd.DataFrame({'Tipo': 'Armaduro', 'Conteo Total': [contador_armaduro]})], ignore_index=True)\n",
    "\n",
    "# # Guardar el archivo de Excel\n",
    "# for row in dataframe_to_rows(result_df, index=False, header=True):\n",
    "#     ws.append(row)\n",
    "\n",
    "# chart = BarChart()\n",
    "# chart.title = \"Conteos Totales\"\n",
    "# chart.x_axis.title = 'Tipo'\n",
    "# chart.y_axis.title = 'Contadores'\n",
    "# data_ref = Reference(ws, min_col=2, min_row=1, max_row=result_df.shape[0]+1)\n",
    "# labels = Reference(ws, min_col=1, min_row=2, max_row=result_df.shape[0]+1)\n",
    "# chart.add_data(data_ref, titles_from_data=True)\n",
    "# chart.set_categories(labels)\n",
    "# ws.add_chart(chart, \"D1\")\n",
    "\n",
    "# wb.save(\"Conteo_total_camara.xlsx\")\n"
   ]
  },
  {
   "cell_type": "code",
   "execution_count": 10,
   "id": "d92fedb8",
   "metadata": {},
   "outputs": [
    {
     "name": "stdout",
     "output_type": "stream",
     "text": [
      "Usando GPU NVIDIA: NVIDIA GeForce RTX 3050\n",
      "\n",
      "Estado de dispositivos:\n",
      "PyTorch version: 2.7.1+cu118\n",
      "CUDA disponible: True\n",
      "MPS disponible: False\n",
      "Dispositivo seleccionado: cuda\n"
     ]
    },
    {
     "name": "stderr",
     "output_type": "stream",
     "text": [
      "  0%|          | 0/2158 [00:00<?, ?it/s]"
     ]
    },
    {
     "name": "stdout",
     "output_type": "stream",
     "text": [
      "\n",
      "0: 384x640 1 Armaduro, 35.7ms\n",
      "Speed: 0.7ms preprocess, 35.7ms inference, 1.0ms postprocess per image at shape (1, 3, 384, 640)\n"
     ]
    },
    {
     "name": "stderr",
     "output_type": "stream",
     "text": [
      "  0%|          | 1/2158 [00:00<11:47,  3.05it/s]"
     ]
    },
    {
     "name": "stdout",
     "output_type": "stream",
     "text": [
      "\n",
      "0: 384x640 1 Armaduro, 34.9ms\n",
      "Speed: 0.5ms preprocess, 34.9ms inference, 1.5ms postprocess per image at shape (1, 3, 384, 640)\n",
      "\n",
      "0: 384x640 1 Armaduro, 35.0ms\n",
      "Speed: 0.7ms preprocess, 35.0ms inference, 1.0ms postprocess per image at shape (1, 3, 384, 640)\n",
      "\n",
      "0: 384x640 1 Armaduro, 33.3ms\n",
      "Speed: 0.6ms preprocess, 33.3ms inference, 1.0ms postprocess per image at shape (1, 3, 384, 640)\n"
     ]
    },
    {
     "name": "stderr",
     "output_type": "stream",
     "text": [
      "  0%|          | 4/2158 [00:00<03:24, 10.53it/s]"
     ]
    },
    {
     "name": "stdout",
     "output_type": "stream",
     "text": [
      "\n",
      "0: 384x640 1 Armaduro, 32.8ms\n",
      "Speed: 0.6ms preprocess, 32.8ms inference, 1.0ms postprocess per image at shape (1, 3, 384, 640)\n",
      "\n",
      "0: 384x640 1 Armaduro, 33.3ms\n",
      "Speed: 0.6ms preprocess, 33.3ms inference, 1.0ms postprocess per image at shape (1, 3, 384, 640)\n",
      "\n",
      "0: 384x640 1 Armaduro, 33.0ms\n",
      "Speed: 0.6ms preprocess, 33.0ms inference, 1.3ms postprocess per image at shape (1, 3, 384, 640)\n"
     ]
    },
    {
     "name": "stderr",
     "output_type": "stream",
     "text": [
      "  0%|          | 7/2158 [00:00<02:19, 15.44it/s]"
     ]
    },
    {
     "name": "stdout",
     "output_type": "stream",
     "text": [
      "\n",
      "0: 384x640 1 Armaduro, 32.7ms\n",
      "Speed: 0.7ms preprocess, 32.7ms inference, 1.2ms postprocess per image at shape (1, 3, 384, 640)\n",
      "\n",
      "0: 384x640 1 Armaduro, 32.6ms\n",
      "Speed: 0.8ms preprocess, 32.6ms inference, 1.0ms postprocess per image at shape (1, 3, 384, 640)\n",
      "\n",
      "0: 384x640 (no detections), 32.5ms\n",
      "Speed: 0.6ms preprocess, 32.5ms inference, 0.5ms postprocess per image at shape (1, 3, 384, 640)\n"
     ]
    },
    {
     "name": "stderr",
     "output_type": "stream",
     "text": [
      "  0%|          | 10/2158 [00:00<01:55, 18.67it/s]"
     ]
    },
    {
     "name": "stdout",
     "output_type": "stream",
     "text": [
      "\n",
      "0: 384x640 1 Armaduro, 32.4ms\n",
      "Speed: 0.6ms preprocess, 32.4ms inference, 1.0ms postprocess per image at shape (1, 3, 384, 640)\n",
      "\n",
      "0: 384x640 (no detections), 32.5ms\n",
      "Speed: 0.6ms preprocess, 32.5ms inference, 0.5ms postprocess per image at shape (1, 3, 384, 640)\n",
      "\n",
      "0: 384x640 (no detections), 32.5ms\n",
      "Speed: 0.6ms preprocess, 32.5ms inference, 0.5ms postprocess per image at shape (1, 3, 384, 640)\n"
     ]
    },
    {
     "name": "stderr",
     "output_type": "stream",
     "text": [
      "  1%|          | 13/2158 [00:00<01:41, 21.06it/s]"
     ]
    },
    {
     "name": "stdout",
     "output_type": "stream",
     "text": [
      "\n",
      "0: 384x640 (no detections), 32.8ms\n",
      "Speed: 0.6ms preprocess, 32.8ms inference, 0.8ms postprocess per image at shape (1, 3, 384, 640)\n",
      "\n",
      "0: 384x640 (no detections), 32.5ms\n",
      "Speed: 0.7ms preprocess, 32.5ms inference, 0.5ms postprocess per image at shape (1, 3, 384, 640)\n",
      "\n",
      "0: 384x640 (no detections), 32.7ms\n",
      "Speed: 0.6ms preprocess, 32.7ms inference, 0.5ms postprocess per image at shape (1, 3, 384, 640)\n"
     ]
    },
    {
     "name": "stderr",
     "output_type": "stream",
     "text": [
      "  1%|          | 16/2158 [00:00<01:33, 22.79it/s]"
     ]
    },
    {
     "name": "stdout",
     "output_type": "stream",
     "text": [
      "\n",
      "0: 384x640 (no detections), 32.5ms\n",
      "Speed: 0.6ms preprocess, 32.5ms inference, 0.5ms postprocess per image at shape (1, 3, 384, 640)\n",
      "\n",
      "0: 384x640 (no detections), 33.0ms\n",
      "Speed: 0.7ms preprocess, 33.0ms inference, 0.5ms postprocess per image at shape (1, 3, 384, 640)\n",
      "\n",
      "0: 384x640 (no detections), 32.6ms\n",
      "Speed: 0.8ms preprocess, 32.6ms inference, 0.6ms postprocess per image at shape (1, 3, 384, 640)\n"
     ]
    },
    {
     "name": "stderr",
     "output_type": "stream",
     "text": [
      "  1%|          | 19/2158 [00:01<01:29, 24.01it/s]"
     ]
    },
    {
     "name": "stdout",
     "output_type": "stream",
     "text": [
      "\n",
      "0: 384x640 (no detections), 32.7ms\n",
      "Speed: 0.7ms preprocess, 32.7ms inference, 0.5ms postprocess per image at shape (1, 3, 384, 640)\n",
      "\n",
      "0: 384x640 1 Armaduro, 32.6ms\n",
      "Speed: 0.6ms preprocess, 32.6ms inference, 1.0ms postprocess per image at shape (1, 3, 384, 640)\n",
      "\n",
      "0: 384x640 (no detections), 32.9ms\n",
      "Speed: 0.6ms preprocess, 32.9ms inference, 0.5ms postprocess per image at shape (1, 3, 384, 640)\n"
     ]
    },
    {
     "name": "stderr",
     "output_type": "stream",
     "text": [
      "  1%|          | 22/2158 [00:01<01:26, 24.78it/s]"
     ]
    },
    {
     "name": "stdout",
     "output_type": "stream",
     "text": [
      "\n",
      "0: 384x640 (no detections), 32.6ms\n",
      "Speed: 0.7ms preprocess, 32.6ms inference, 0.8ms postprocess per image at shape (1, 3, 384, 640)\n",
      "\n",
      "0: 384x640 (no detections), 32.6ms\n",
      "Speed: 0.6ms preprocess, 32.6ms inference, 0.5ms postprocess per image at shape (1, 3, 384, 640)\n",
      "\n",
      "0: 384x640 1 Armaduro, 32.4ms\n",
      "Speed: 0.6ms preprocess, 32.4ms inference, 0.9ms postprocess per image at shape (1, 3, 384, 640)\n"
     ]
    },
    {
     "name": "stderr",
     "output_type": "stream",
     "text": [
      "  1%|          | 25/2158 [00:01<01:24, 25.33it/s]"
     ]
    },
    {
     "name": "stdout",
     "output_type": "stream",
     "text": [
      "\n",
      "0: 384x640 1 Armaduro, 32.5ms\n",
      "Speed: 0.5ms preprocess, 32.5ms inference, 1.0ms postprocess per image at shape (1, 3, 384, 640)\n",
      "\n",
      "0: 384x640 1 Armaduro, 32.5ms\n",
      "Speed: 0.7ms preprocess, 32.5ms inference, 1.8ms postprocess per image at shape (1, 3, 384, 640)\n",
      "\n",
      "0: 384x640 (no detections), 32.5ms\n",
      "Speed: 0.6ms preprocess, 32.5ms inference, 0.5ms postprocess per image at shape (1, 3, 384, 640)\n"
     ]
    },
    {
     "name": "stderr",
     "output_type": "stream",
     "text": [
      "  1%|▏         | 28/2158 [00:01<01:23, 25.64it/s]"
     ]
    },
    {
     "name": "stdout",
     "output_type": "stream",
     "text": [
      "\n",
      "0: 384x640 1 Armaduro, 32.5ms\n",
      "Speed: 0.7ms preprocess, 32.5ms inference, 1.0ms postprocess per image at shape (1, 3, 384, 640)\n",
      "\n",
      "0: 384x640 1 Armaduro, 32.5ms\n",
      "Speed: 0.6ms preprocess, 32.5ms inference, 1.0ms postprocess per image at shape (1, 3, 384, 640)\n",
      "\n",
      "0: 384x640 1 Armaduro, 32.7ms\n",
      "Speed: 0.7ms preprocess, 32.7ms inference, 1.0ms postprocess per image at shape (1, 3, 384, 640)\n"
     ]
    },
    {
     "name": "stderr",
     "output_type": "stream",
     "text": [
      "  1%|▏         | 31/2158 [00:01<01:22, 25.79it/s]"
     ]
    },
    {
     "name": "stdout",
     "output_type": "stream",
     "text": [
      "\n",
      "0: 384x640 1 Armaduro, 32.7ms\n",
      "Speed: 0.6ms preprocess, 32.7ms inference, 1.0ms postprocess per image at shape (1, 3, 384, 640)\n",
      "\n",
      "0: 384x640 (no detections), 32.6ms\n",
      "Speed: 0.5ms preprocess, 32.6ms inference, 0.5ms postprocess per image at shape (1, 3, 384, 640)\n",
      "\n",
      "0: 384x640 (no detections), 32.8ms\n",
      "Speed: 0.7ms preprocess, 32.8ms inference, 0.6ms postprocess per image at shape (1, 3, 384, 640)\n"
     ]
    },
    {
     "name": "stderr",
     "output_type": "stream",
     "text": [
      "  2%|▏         | 34/2158 [00:01<01:21, 26.03it/s]"
     ]
    },
    {
     "name": "stdout",
     "output_type": "stream",
     "text": [
      "\n",
      "0: 384x640 (no detections), 32.6ms\n",
      "Speed: 0.6ms preprocess, 32.6ms inference, 0.5ms postprocess per image at shape (1, 3, 384, 640)\n",
      "\n",
      "0: 384x640 (no detections), 32.4ms\n",
      "Speed: 0.6ms preprocess, 32.4ms inference, 0.5ms postprocess per image at shape (1, 3, 384, 640)\n",
      "\n",
      "0: 384x640 (no detections), 32.5ms\n",
      "Speed: 0.5ms preprocess, 32.5ms inference, 0.5ms postprocess per image at shape (1, 3, 384, 640)\n"
     ]
    },
    {
     "name": "stderr",
     "output_type": "stream",
     "text": [
      "  2%|▏         | 37/2158 [00:01<01:20, 26.31it/s]"
     ]
    },
    {
     "name": "stdout",
     "output_type": "stream",
     "text": [
      "\n",
      "0: 384x640 (no detections), 32.2ms\n",
      "Speed: 0.7ms preprocess, 32.2ms inference, 0.5ms postprocess per image at shape (1, 3, 384, 640)\n",
      "\n",
      "0: 384x640 (no detections), 32.5ms\n",
      "Speed: 0.7ms preprocess, 32.5ms inference, 0.5ms postprocess per image at shape (1, 3, 384, 640)\n",
      "\n",
      "0: 384x640 (no detections), 32.5ms\n",
      "Speed: 0.6ms preprocess, 32.5ms inference, 0.7ms postprocess per image at shape (1, 3, 384, 640)\n"
     ]
    },
    {
     "name": "stderr",
     "output_type": "stream",
     "text": [
      "  2%|▏         | 40/2158 [00:01<01:19, 26.50it/s]"
     ]
    },
    {
     "name": "stdout",
     "output_type": "stream",
     "text": [
      "\n",
      "0: 384x640 (no detections), 32.5ms\n",
      "Speed: 0.6ms preprocess, 32.5ms inference, 0.5ms postprocess per image at shape (1, 3, 384, 640)\n",
      "\n",
      "0: 384x640 1 Armaduro, 32.6ms\n",
      "Speed: 0.5ms preprocess, 32.6ms inference, 1.0ms postprocess per image at shape (1, 3, 384, 640)\n",
      "\n",
      "0: 384x640 1 Armaduro, 32.5ms\n",
      "Speed: 0.7ms preprocess, 32.5ms inference, 1.0ms postprocess per image at shape (1, 3, 384, 640)\n"
     ]
    },
    {
     "name": "stderr",
     "output_type": "stream",
     "text": [
      "  2%|▏         | 43/2158 [00:01<01:19, 26.49it/s]"
     ]
    },
    {
     "name": "stdout",
     "output_type": "stream",
     "text": [
      "\n",
      "0: 384x640 1 Armaduro, 32.6ms\n",
      "Speed: 0.6ms preprocess, 32.6ms inference, 1.1ms postprocess per image at shape (1, 3, 384, 640)\n",
      "\n",
      "0: 384x640 1 Armaduro, 32.6ms\n",
      "Speed: 0.6ms preprocess, 32.6ms inference, 1.0ms postprocess per image at shape (1, 3, 384, 640)\n",
      "\n",
      "0: 384x640 1 Armaduro, 32.6ms\n",
      "Speed: 0.8ms preprocess, 32.6ms inference, 1.4ms postprocess per image at shape (1, 3, 384, 640)\n"
     ]
    },
    {
     "name": "stderr",
     "output_type": "stream",
     "text": [
      "  2%|▏         | 46/2158 [00:02<01:20, 26.37it/s]"
     ]
    },
    {
     "name": "stdout",
     "output_type": "stream",
     "text": [
      "\n",
      "0: 384x640 1 Armaduro, 32.6ms\n",
      "Speed: 0.5ms preprocess, 32.6ms inference, 1.1ms postprocess per image at shape (1, 3, 384, 640)\n",
      "\n",
      "0: 384x640 1 Armaduro, 32.7ms\n",
      "Speed: 0.6ms preprocess, 32.7ms inference, 1.0ms postprocess per image at shape (1, 3, 384, 640)\n",
      "\n",
      "0: 384x640 1 Armaduro, 32.4ms\n",
      "Speed: 0.6ms preprocess, 32.4ms inference, 1.0ms postprocess per image at shape (1, 3, 384, 640)\n"
     ]
    },
    {
     "name": "stderr",
     "output_type": "stream",
     "text": [
      "  2%|▏         | 49/2158 [00:02<01:20, 26.25it/s]"
     ]
    },
    {
     "name": "stdout",
     "output_type": "stream",
     "text": [
      "\n",
      "0: 384x640 1 Armaduro, 32.6ms\n",
      "Speed: 0.6ms preprocess, 32.6ms inference, 1.0ms postprocess per image at shape (1, 3, 384, 640)\n",
      "\n",
      "0: 384x640 1 Armaduro, 32.6ms\n",
      "Speed: 0.6ms preprocess, 32.6ms inference, 1.0ms postprocess per image at shape (1, 3, 384, 640)\n",
      "\n",
      "0: 384x640 1 Armaduro, 32.6ms\n",
      "Speed: 0.6ms preprocess, 32.6ms inference, 1.0ms postprocess per image at shape (1, 3, 384, 640)\n"
     ]
    },
    {
     "name": "stderr",
     "output_type": "stream",
     "text": [
      "  2%|▏         | 52/2158 [00:02<01:20, 26.20it/s]"
     ]
    },
    {
     "name": "stdout",
     "output_type": "stream",
     "text": [
      "\n",
      "0: 384x640 1 Armaduro, 32.6ms\n",
      "Speed: 0.7ms preprocess, 32.6ms inference, 1.0ms postprocess per image at shape (1, 3, 384, 640)\n",
      "\n",
      "0: 384x640 1 Armaduro, 32.6ms\n",
      "Speed: 0.6ms preprocess, 32.6ms inference, 1.0ms postprocess per image at shape (1, 3, 384, 640)\n",
      "\n",
      "0: 384x640 (no detections), 32.6ms\n",
      "Speed: 0.5ms preprocess, 32.6ms inference, 0.5ms postprocess per image at shape (1, 3, 384, 640)\n"
     ]
    },
    {
     "name": "stderr",
     "output_type": "stream",
     "text": [
      "  3%|▎         | 55/2158 [00:02<01:20, 26.27it/s]"
     ]
    },
    {
     "name": "stdout",
     "output_type": "stream",
     "text": [
      "\n",
      "0: 384x640 (no detections), 32.4ms\n",
      "Speed: 0.8ms preprocess, 32.4ms inference, 1.2ms postprocess per image at shape (1, 3, 384, 640)\n",
      "\n",
      "0: 384x640 (no detections), 32.8ms\n",
      "Speed: 0.6ms preprocess, 32.8ms inference, 0.5ms postprocess per image at shape (1, 3, 384, 640)\n",
      "\n",
      "0: 384x640 (no detections), 32.5ms\n",
      "Speed: 0.6ms preprocess, 32.5ms inference, 0.5ms postprocess per image at shape (1, 3, 384, 640)\n"
     ]
    },
    {
     "name": "stderr",
     "output_type": "stream",
     "text": [
      "  3%|▎         | 58/2158 [00:02<01:19, 26.43it/s]"
     ]
    },
    {
     "name": "stdout",
     "output_type": "stream",
     "text": [
      "\n",
      "0: 384x640 (no detections), 32.5ms\n",
      "Speed: 0.5ms preprocess, 32.5ms inference, 0.5ms postprocess per image at shape (1, 3, 384, 640)\n",
      "\n",
      "0: 384x640 (no detections), 32.7ms\n",
      "Speed: 0.5ms preprocess, 32.7ms inference, 0.5ms postprocess per image at shape (1, 3, 384, 640)\n",
      "\n",
      "0: 384x640 (no detections), 32.6ms\n",
      "Speed: 0.6ms preprocess, 32.6ms inference, 0.5ms postprocess per image at shape (1, 3, 384, 640)\n"
     ]
    },
    {
     "name": "stderr",
     "output_type": "stream",
     "text": [
      "  3%|▎         | 61/2158 [00:02<01:18, 26.57it/s]"
     ]
    },
    {
     "name": "stdout",
     "output_type": "stream",
     "text": [
      "\n",
      "0: 384x640 (no detections), 32.6ms\n",
      "Speed: 0.6ms preprocess, 32.6ms inference, 0.5ms postprocess per image at shape (1, 3, 384, 640)\n",
      "\n",
      "0: 384x640 (no detections), 32.6ms\n",
      "Speed: 0.5ms preprocess, 32.6ms inference, 0.5ms postprocess per image at shape (1, 3, 384, 640)\n",
      "\n",
      "0: 384x640 (no detections), 32.6ms\n",
      "Speed: 0.5ms preprocess, 32.6ms inference, 0.5ms postprocess per image at shape (1, 3, 384, 640)\n"
     ]
    },
    {
     "name": "stderr",
     "output_type": "stream",
     "text": [
      "  3%|▎         | 64/2158 [00:02<01:18, 26.73it/s]"
     ]
    },
    {
     "name": "stdout",
     "output_type": "stream",
     "text": [
      "\n",
      "0: 384x640 (no detections), 32.6ms\n",
      "Speed: 0.7ms preprocess, 32.6ms inference, 0.6ms postprocess per image at shape (1, 3, 384, 640)\n",
      "\n",
      "0: 384x640 (no detections), 32.6ms\n",
      "Speed: 0.6ms preprocess, 32.6ms inference, 0.5ms postprocess per image at shape (1, 3, 384, 640)\n",
      "\n",
      "0: 384x640 (no detections), 32.6ms\n",
      "Speed: 0.7ms preprocess, 32.6ms inference, 0.5ms postprocess per image at shape (1, 3, 384, 640)\n"
     ]
    },
    {
     "name": "stderr",
     "output_type": "stream",
     "text": [
      "  3%|▎         | 67/2158 [00:02<01:18, 26.79it/s]"
     ]
    },
    {
     "name": "stdout",
     "output_type": "stream",
     "text": [
      "\n",
      "0: 384x640 (no detections), 32.6ms\n",
      "Speed: 0.6ms preprocess, 32.6ms inference, 0.5ms postprocess per image at shape (1, 3, 384, 640)\n",
      "\n",
      "0: 384x640 (no detections), 32.6ms\n",
      "Speed: 0.5ms preprocess, 32.6ms inference, 0.5ms postprocess per image at shape (1, 3, 384, 640)\n",
      "\n",
      "0: 384x640 (no detections), 32.5ms\n",
      "Speed: 0.7ms preprocess, 32.5ms inference, 0.5ms postprocess per image at shape (1, 3, 384, 640)\n"
     ]
    },
    {
     "name": "stderr",
     "output_type": "stream",
     "text": [
      "  3%|▎         | 70/2158 [00:02<01:17, 26.87it/s]"
     ]
    },
    {
     "name": "stdout",
     "output_type": "stream",
     "text": [
      "\n",
      "0: 384x640 (no detections), 32.5ms\n",
      "Speed: 0.6ms preprocess, 32.5ms inference, 0.5ms postprocess per image at shape (1, 3, 384, 640)\n",
      "\n",
      "0: 384x640 (no detections), 33.0ms\n",
      "Speed: 0.6ms preprocess, 33.0ms inference, 0.5ms postprocess per image at shape (1, 3, 384, 640)\n",
      "\n",
      "0: 384x640 (no detections), 33.3ms\n",
      "Speed: 0.7ms preprocess, 33.3ms inference, 0.5ms postprocess per image at shape (1, 3, 384, 640)\n"
     ]
    },
    {
     "name": "stderr",
     "output_type": "stream",
     "text": [
      "  3%|▎         | 73/2158 [00:03<01:17, 26.83it/s]"
     ]
    },
    {
     "name": "stdout",
     "output_type": "stream",
     "text": [
      "\n",
      "0: 384x640 (no detections), 32.7ms\n",
      "Speed: 0.6ms preprocess, 32.7ms inference, 0.5ms postprocess per image at shape (1, 3, 384, 640)\n",
      "\n",
      "0: 384x640 (no detections), 32.7ms\n",
      "Speed: 0.6ms preprocess, 32.7ms inference, 0.5ms postprocess per image at shape (1, 3, 384, 640)\n",
      "\n",
      "0: 384x640 (no detections), 32.7ms\n",
      "Speed: 0.6ms preprocess, 32.7ms inference, 0.6ms postprocess per image at shape (1, 3, 384, 640)\n"
     ]
    },
    {
     "name": "stderr",
     "output_type": "stream",
     "text": [
      "  4%|▎         | 76/2158 [00:03<01:17, 26.82it/s]"
     ]
    },
    {
     "name": "stdout",
     "output_type": "stream",
     "text": [
      "\n",
      "0: 384x640 (no detections), 32.6ms\n",
      "Speed: 0.6ms preprocess, 32.6ms inference, 0.6ms postprocess per image at shape (1, 3, 384, 640)\n",
      "\n",
      "0: 384x640 (no detections), 32.7ms\n",
      "Speed: 0.6ms preprocess, 32.7ms inference, 0.5ms postprocess per image at shape (1, 3, 384, 640)\n",
      "\n",
      "0: 384x640 (no detections), 32.6ms\n",
      "Speed: 0.6ms preprocess, 32.6ms inference, 0.5ms postprocess per image at shape (1, 3, 384, 640)\n"
     ]
    },
    {
     "name": "stderr",
     "output_type": "stream",
     "text": [
      "  4%|▎         | 79/2158 [00:03<01:17, 26.87it/s]"
     ]
    },
    {
     "name": "stdout",
     "output_type": "stream",
     "text": [
      "\n",
      "0: 384x640 1 Armaduro, 32.6ms\n",
      "Speed: 0.5ms preprocess, 32.6ms inference, 1.0ms postprocess per image at shape (1, 3, 384, 640)\n",
      "\n",
      "0: 384x640 (no detections), 32.7ms\n",
      "Speed: 0.6ms preprocess, 32.7ms inference, 0.5ms postprocess per image at shape (1, 3, 384, 640)\n",
      "\n",
      "0: 384x640 1 Armaduro, 32.4ms\n",
      "Speed: 0.7ms preprocess, 32.4ms inference, 1.4ms postprocess per image at shape (1, 3, 384, 640)\n"
     ]
    },
    {
     "name": "stderr",
     "output_type": "stream",
     "text": [
      "  4%|▍         | 82/2158 [00:03<01:17, 26.77it/s]"
     ]
    },
    {
     "name": "stdout",
     "output_type": "stream",
     "text": [
      "\n",
      "0: 384x640 1 Armaduro, 32.6ms\n",
      "Speed: 0.5ms preprocess, 32.6ms inference, 1.2ms postprocess per image at shape (1, 3, 384, 640)\n",
      "\n",
      "0: 384x640 1 Armaduro, 32.8ms\n",
      "Speed: 0.6ms preprocess, 32.8ms inference, 0.9ms postprocess per image at shape (1, 3, 384, 640)\n",
      "\n",
      "0: 384x640 1 Armaduro, 32.7ms\n",
      "Speed: 0.5ms preprocess, 32.7ms inference, 1.0ms postprocess per image at shape (1, 3, 384, 640)\n"
     ]
    },
    {
     "name": "stderr",
     "output_type": "stream",
     "text": [
      "  4%|▍         | 85/2158 [00:03<01:18, 26.48it/s]"
     ]
    },
    {
     "name": "stdout",
     "output_type": "stream",
     "text": [
      "\n",
      "0: 384x640 1 Armaduro, 32.7ms\n",
      "Speed: 0.8ms preprocess, 32.7ms inference, 1.0ms postprocess per image at shape (1, 3, 384, 640)\n",
      "\n",
      "0: 384x640 1 Armaduro, 32.7ms\n",
      "Speed: 0.5ms preprocess, 32.7ms inference, 1.0ms postprocess per image at shape (1, 3, 384, 640)\n",
      "\n",
      "0: 384x640 1 Armaduro, 32.7ms\n",
      "Speed: 0.5ms preprocess, 32.7ms inference, 0.9ms postprocess per image at shape (1, 3, 384, 640)\n"
     ]
    },
    {
     "name": "stderr",
     "output_type": "stream",
     "text": [
      "  4%|▍         | 88/2158 [00:03<01:18, 26.28it/s]"
     ]
    },
    {
     "name": "stdout",
     "output_type": "stream",
     "text": [
      "\n",
      "0: 384x640 (no detections), 32.6ms\n",
      "Speed: 0.6ms preprocess, 32.6ms inference, 0.5ms postprocess per image at shape (1, 3, 384, 640)\n",
      "\n",
      "0: 384x640 (no detections), 32.7ms\n",
      "Speed: 0.6ms preprocess, 32.7ms inference, 0.5ms postprocess per image at shape (1, 3, 384, 640)\n",
      "\n",
      "0: 384x640 (no detections), 32.6ms\n",
      "Speed: 0.6ms preprocess, 32.6ms inference, 0.6ms postprocess per image at shape (1, 3, 384, 640)\n"
     ]
    },
    {
     "name": "stderr",
     "output_type": "stream",
     "text": [
      "  4%|▍         | 91/2158 [00:03<01:18, 26.48it/s]"
     ]
    },
    {
     "name": "stdout",
     "output_type": "stream",
     "text": [
      "\n",
      "0: 384x640 (no detections), 32.9ms\n",
      "Speed: 0.6ms preprocess, 32.9ms inference, 0.8ms postprocess per image at shape (1, 3, 384, 640)\n",
      "\n",
      "0: 384x640 (no detections), 33.0ms\n",
      "Speed: 0.6ms preprocess, 33.0ms inference, 0.5ms postprocess per image at shape (1, 3, 384, 640)\n",
      "\n",
      "0: 384x640 (no detections), 33.0ms\n",
      "Speed: 0.7ms preprocess, 33.0ms inference, 0.5ms postprocess per image at shape (1, 3, 384, 640)\n"
     ]
    },
    {
     "name": "stderr",
     "output_type": "stream",
     "text": [
      "  4%|▍         | 94/2158 [00:03<01:17, 26.47it/s]"
     ]
    },
    {
     "name": "stdout",
     "output_type": "stream",
     "text": [
      "\n",
      "0: 384x640 (no detections), 32.6ms\n",
      "Speed: 0.6ms preprocess, 32.6ms inference, 0.6ms postprocess per image at shape (1, 3, 384, 640)\n",
      "\n",
      "0: 384x640 (no detections), 32.7ms\n",
      "Speed: 0.6ms preprocess, 32.7ms inference, 0.6ms postprocess per image at shape (1, 3, 384, 640)\n",
      "\n",
      "0: 384x640 (no detections), 32.6ms\n",
      "Speed: 0.7ms preprocess, 32.6ms inference, 0.5ms postprocess per image at shape (1, 3, 384, 640)\n"
     ]
    },
    {
     "name": "stderr",
     "output_type": "stream",
     "text": [
      "  4%|▍         | 97/2158 [00:03<01:17, 26.59it/s]"
     ]
    },
    {
     "name": "stdout",
     "output_type": "stream",
     "text": [
      "\n",
      "0: 384x640 (no detections), 32.5ms\n",
      "Speed: 0.6ms preprocess, 32.5ms inference, 0.6ms postprocess per image at shape (1, 3, 384, 640)\n",
      "\n",
      "0: 384x640 (no detections), 32.6ms\n",
      "Speed: 0.6ms preprocess, 32.6ms inference, 0.6ms postprocess per image at shape (1, 3, 384, 640)\n",
      "\n",
      "0: 384x640 (no detections), 32.6ms\n",
      "Speed: 0.6ms preprocess, 32.6ms inference, 0.5ms postprocess per image at shape (1, 3, 384, 640)\n"
     ]
    },
    {
     "name": "stderr",
     "output_type": "stream",
     "text": [
      "  5%|▍         | 100/2158 [00:04<01:17, 26.70it/s]"
     ]
    },
    {
     "name": "stdout",
     "output_type": "stream",
     "text": [
      "\n",
      "0: 384x640 (no detections), 32.6ms\n",
      "Speed: 0.7ms preprocess, 32.6ms inference, 0.7ms postprocess per image at shape (1, 3, 384, 640)\n",
      "\n",
      "0: 384x640 (no detections), 32.6ms\n",
      "Speed: 0.8ms preprocess, 32.6ms inference, 0.8ms postprocess per image at shape (1, 3, 384, 640)\n",
      "\n",
      "0: 384x640 (no detections), 32.6ms\n",
      "Speed: 0.5ms preprocess, 32.6ms inference, 0.5ms postprocess per image at shape (1, 3, 384, 640)\n"
     ]
    },
    {
     "name": "stderr",
     "output_type": "stream",
     "text": [
      "  5%|▍         | 103/2158 [00:04<01:16, 26.70it/s]"
     ]
    },
    {
     "name": "stdout",
     "output_type": "stream",
     "text": [
      "\n",
      "0: 384x640 (no detections), 32.6ms\n",
      "Speed: 0.5ms preprocess, 32.6ms inference, 0.5ms postprocess per image at shape (1, 3, 384, 640)\n",
      "\n",
      "0: 384x640 (no detections), 32.4ms\n",
      "Speed: 0.7ms preprocess, 32.4ms inference, 0.8ms postprocess per image at shape (1, 3, 384, 640)\n",
      "\n",
      "0: 384x640 (no detections), 32.6ms\n",
      "Speed: 0.5ms preprocess, 32.6ms inference, 0.5ms postprocess per image at shape (1, 3, 384, 640)\n"
     ]
    },
    {
     "name": "stderr",
     "output_type": "stream",
     "text": [
      "  5%|▍         | 106/2158 [00:04<01:16, 26.79it/s]"
     ]
    },
    {
     "name": "stdout",
     "output_type": "stream",
     "text": [
      "\n",
      "0: 384x640 (no detections), 32.6ms\n",
      "Speed: 0.6ms preprocess, 32.6ms inference, 0.8ms postprocess per image at shape (1, 3, 384, 640)\n",
      "\n",
      "0: 384x640 (no detections), 32.7ms\n",
      "Speed: 0.5ms preprocess, 32.7ms inference, 0.6ms postprocess per image at shape (1, 3, 384, 640)\n",
      "\n",
      "0: 384x640 (no detections), 32.7ms\n",
      "Speed: 0.6ms preprocess, 32.7ms inference, 0.8ms postprocess per image at shape (1, 3, 384, 640)\n"
     ]
    },
    {
     "name": "stderr",
     "output_type": "stream",
     "text": [
      "  5%|▌         | 109/2158 [00:04<01:16, 26.75it/s]"
     ]
    },
    {
     "name": "stdout",
     "output_type": "stream",
     "text": [
      "\n",
      "0: 384x640 (no detections), 32.7ms\n",
      "Speed: 0.7ms preprocess, 32.7ms inference, 0.6ms postprocess per image at shape (1, 3, 384, 640)\n",
      "\n",
      "0: 384x640 (no detections), 32.6ms\n",
      "Speed: 0.6ms preprocess, 32.6ms inference, 0.6ms postprocess per image at shape (1, 3, 384, 640)\n",
      "\n",
      "0: 384x640 (no detections), 32.7ms\n",
      "Speed: 0.6ms preprocess, 32.7ms inference, 0.6ms postprocess per image at shape (1, 3, 384, 640)\n"
     ]
    },
    {
     "name": "stderr",
     "output_type": "stream",
     "text": [
      "  5%|▌         | 112/2158 [00:04<01:16, 26.76it/s]"
     ]
    },
    {
     "name": "stdout",
     "output_type": "stream",
     "text": [
      "\n",
      "0: 384x640 (no detections), 32.8ms\n",
      "Speed: 0.6ms preprocess, 32.8ms inference, 1.0ms postprocess per image at shape (1, 3, 384, 640)\n",
      "\n",
      "0: 384x640 (no detections), 33.0ms\n",
      "Speed: 0.6ms preprocess, 33.0ms inference, 0.6ms postprocess per image at shape (1, 3, 384, 640)\n",
      "\n",
      "0: 384x640 (no detections), 32.7ms\n",
      "Speed: 0.6ms preprocess, 32.7ms inference, 0.6ms postprocess per image at shape (1, 3, 384, 640)\n"
     ]
    },
    {
     "name": "stderr",
     "output_type": "stream",
     "text": [
      "  5%|▌         | 115/2158 [00:04<01:16, 26.72it/s]"
     ]
    },
    {
     "name": "stdout",
     "output_type": "stream",
     "text": [
      "\n",
      "0: 384x640 (no detections), 32.9ms\n",
      "Speed: 0.6ms preprocess, 32.9ms inference, 0.5ms postprocess per image at shape (1, 3, 384, 640)\n",
      "\n",
      "0: 384x640 (no detections), 32.8ms\n",
      "Speed: 0.7ms preprocess, 32.8ms inference, 0.6ms postprocess per image at shape (1, 3, 384, 640)\n",
      "\n",
      "0: 384x640 (no detections), 32.6ms\n",
      "Speed: 0.7ms preprocess, 32.6ms inference, 0.6ms postprocess per image at shape (1, 3, 384, 640)\n"
     ]
    },
    {
     "name": "stderr",
     "output_type": "stream",
     "text": [
      "  5%|▌         | 118/2158 [00:04<01:16, 26.77it/s]"
     ]
    },
    {
     "name": "stdout",
     "output_type": "stream",
     "text": [
      "\n",
      "0: 384x640 (no detections), 32.7ms\n",
      "Speed: 0.6ms preprocess, 32.7ms inference, 0.8ms postprocess per image at shape (1, 3, 384, 640)\n",
      "\n",
      "0: 384x640 (no detections), 32.8ms\n",
      "Speed: 1.2ms preprocess, 32.8ms inference, 0.8ms postprocess per image at shape (1, 3, 384, 640)\n",
      "\n",
      "0: 384x640 (no detections), 32.6ms\n",
      "Speed: 0.8ms preprocess, 32.6ms inference, 0.5ms postprocess per image at shape (1, 3, 384, 640)\n"
     ]
    },
    {
     "name": "stderr",
     "output_type": "stream",
     "text": [
      "  6%|▌         | 121/2158 [00:04<01:16, 26.56it/s]"
     ]
    },
    {
     "name": "stdout",
     "output_type": "stream",
     "text": [
      "\n",
      "0: 384x640 (no detections), 33.0ms\n",
      "Speed: 0.6ms preprocess, 33.0ms inference, 0.6ms postprocess per image at shape (1, 3, 384, 640)\n",
      "\n",
      "0: 384x640 (no detections), 32.8ms\n",
      "Speed: 0.5ms preprocess, 32.8ms inference, 0.5ms postprocess per image at shape (1, 3, 384, 640)\n",
      "\n",
      "0: 384x640 (no detections), 32.9ms\n",
      "Speed: 0.6ms preprocess, 32.9ms inference, 0.5ms postprocess per image at shape (1, 3, 384, 640)\n"
     ]
    },
    {
     "name": "stderr",
     "output_type": "stream",
     "text": [
      "  6%|▌         | 124/2158 [00:04<01:16, 26.68it/s]"
     ]
    },
    {
     "name": "stdout",
     "output_type": "stream",
     "text": [
      "\n",
      "0: 384x640 (no detections), 32.6ms\n",
      "Speed: 0.7ms preprocess, 32.6ms inference, 0.8ms postprocess per image at shape (1, 3, 384, 640)\n",
      "\n",
      "0: 384x640 (no detections), 32.7ms\n",
      "Speed: 0.6ms preprocess, 32.7ms inference, 0.5ms postprocess per image at shape (1, 3, 384, 640)\n",
      "\n",
      "0: 384x640 (no detections), 32.5ms\n",
      "Speed: 0.6ms preprocess, 32.5ms inference, 0.6ms postprocess per image at shape (1, 3, 384, 640)\n"
     ]
    },
    {
     "name": "stderr",
     "output_type": "stream",
     "text": [
      "  6%|▌         | 127/2158 [00:05<01:15, 26.78it/s]"
     ]
    },
    {
     "name": "stdout",
     "output_type": "stream",
     "text": [
      "\n",
      "0: 384x640 (no detections), 32.6ms\n",
      "Speed: 0.6ms preprocess, 32.6ms inference, 0.6ms postprocess per image at shape (1, 3, 384, 640)\n",
      "\n",
      "0: 384x640 (no detections), 32.6ms\n",
      "Speed: 0.6ms preprocess, 32.6ms inference, 0.5ms postprocess per image at shape (1, 3, 384, 640)\n",
      "\n",
      "0: 384x640 (no detections), 32.6ms\n",
      "Speed: 0.8ms preprocess, 32.6ms inference, 0.5ms postprocess per image at shape (1, 3, 384, 640)\n"
     ]
    },
    {
     "name": "stderr",
     "output_type": "stream",
     "text": [
      "  6%|▌         | 130/2158 [00:05<01:15, 26.85it/s]"
     ]
    },
    {
     "name": "stdout",
     "output_type": "stream",
     "text": [
      "\n",
      "0: 384x640 (no detections), 32.6ms\n",
      "Speed: 0.6ms preprocess, 32.6ms inference, 0.5ms postprocess per image at shape (1, 3, 384, 640)\n",
      "\n",
      "0: 384x640 (no detections), 32.8ms\n",
      "Speed: 0.6ms preprocess, 32.8ms inference, 0.5ms postprocess per image at shape (1, 3, 384, 640)\n",
      "\n",
      "0: 384x640 (no detections), 32.7ms\n",
      "Speed: 0.6ms preprocess, 32.7ms inference, 0.6ms postprocess per image at shape (1, 3, 384, 640)\n"
     ]
    },
    {
     "name": "stderr",
     "output_type": "stream",
     "text": [
      "  6%|▌         | 133/2158 [00:05<01:15, 26.86it/s]"
     ]
    },
    {
     "name": "stdout",
     "output_type": "stream",
     "text": [
      "\n",
      "0: 384x640 (no detections), 32.6ms\n",
      "Speed: 0.7ms preprocess, 32.6ms inference, 1.0ms postprocess per image at shape (1, 3, 384, 640)\n",
      "\n",
      "0: 384x640 (no detections), 32.7ms\n",
      "Speed: 0.6ms preprocess, 32.7ms inference, 0.5ms postprocess per image at shape (1, 3, 384, 640)\n",
      "\n",
      "0: 384x640 (no detections), 32.6ms\n",
      "Speed: 0.5ms preprocess, 32.6ms inference, 0.7ms postprocess per image at shape (1, 3, 384, 640)\n"
     ]
    },
    {
     "name": "stderr",
     "output_type": "stream",
     "text": [
      "  6%|▋         | 136/2158 [00:05<01:15, 26.85it/s]"
     ]
    },
    {
     "name": "stdout",
     "output_type": "stream",
     "text": [
      "\n",
      "0: 384x640 (no detections), 32.7ms\n",
      "Speed: 0.6ms preprocess, 32.7ms inference, 0.5ms postprocess per image at shape (1, 3, 384, 640)\n",
      "\n",
      "0: 384x640 (no detections), 32.7ms\n",
      "Speed: 0.5ms preprocess, 32.7ms inference, 0.7ms postprocess per image at shape (1, 3, 384, 640)\n",
      "\n",
      "0: 384x640 (no detections), 32.5ms\n",
      "Speed: 0.7ms preprocess, 32.5ms inference, 0.5ms postprocess per image at shape (1, 3, 384, 640)\n"
     ]
    },
    {
     "name": "stderr",
     "output_type": "stream",
     "text": [
      "  6%|▋         | 139/2158 [00:05<01:15, 26.88it/s]"
     ]
    },
    {
     "name": "stdout",
     "output_type": "stream",
     "text": [
      "\n",
      "0: 384x640 (no detections), 32.5ms\n",
      "Speed: 0.5ms preprocess, 32.5ms inference, 0.6ms postprocess per image at shape (1, 3, 384, 640)\n",
      "\n",
      "0: 384x640 (no detections), 32.9ms\n",
      "Speed: 0.6ms preprocess, 32.9ms inference, 0.5ms postprocess per image at shape (1, 3, 384, 640)\n",
      "\n",
      "0: 384x640 (no detections), 32.7ms\n",
      "Speed: 0.6ms preprocess, 32.7ms inference, 0.5ms postprocess per image at shape (1, 3, 384, 640)\n"
     ]
    },
    {
     "name": "stderr",
     "output_type": "stream",
     "text": [
      "  7%|▋         | 142/2158 [00:05<01:14, 26.93it/s]"
     ]
    },
    {
     "name": "stdout",
     "output_type": "stream",
     "text": [
      "\n",
      "0: 384x640 (no detections), 33.0ms\n",
      "Speed: 0.6ms preprocess, 33.0ms inference, 0.8ms postprocess per image at shape (1, 3, 384, 640)\n",
      "\n",
      "0: 384x640 (no detections), 33.0ms\n",
      "Speed: 0.6ms preprocess, 33.0ms inference, 0.5ms postprocess per image at shape (1, 3, 384, 640)\n",
      "\n",
      "0: 384x640 (no detections), 32.7ms\n",
      "Speed: 0.6ms preprocess, 32.7ms inference, 0.5ms postprocess per image at shape (1, 3, 384, 640)\n"
     ]
    },
    {
     "name": "stderr",
     "output_type": "stream",
     "text": [
      "  7%|▋         | 145/2158 [00:05<01:14, 26.85it/s]"
     ]
    },
    {
     "name": "stdout",
     "output_type": "stream",
     "text": [
      "\n",
      "0: 384x640 (no detections), 32.7ms\n",
      "Speed: 0.5ms preprocess, 32.7ms inference, 0.5ms postprocess per image at shape (1, 3, 384, 640)\n",
      "\n",
      "0: 384x640 (no detections), 32.7ms\n",
      "Speed: 0.6ms preprocess, 32.7ms inference, 0.6ms postprocess per image at shape (1, 3, 384, 640)\n",
      "\n",
      "0: 384x640 (no detections), 32.7ms\n",
      "Speed: 0.5ms preprocess, 32.7ms inference, 0.5ms postprocess per image at shape (1, 3, 384, 640)\n"
     ]
    },
    {
     "name": "stderr",
     "output_type": "stream",
     "text": [
      "  7%|▋         | 148/2158 [00:05<01:14, 26.87it/s]"
     ]
    },
    {
     "name": "stdout",
     "output_type": "stream",
     "text": [
      "\n",
      "0: 384x640 (no detections), 32.6ms\n",
      "Speed: 0.6ms preprocess, 32.6ms inference, 0.5ms postprocess per image at shape (1, 3, 384, 640)\n",
      "\n",
      "0: 384x640 (no detections), 32.7ms\n",
      "Speed: 0.7ms preprocess, 32.7ms inference, 0.5ms postprocess per image at shape (1, 3, 384, 640)\n",
      "\n",
      "0: 384x640 1 Armaduro, 32.6ms\n",
      "Speed: 0.6ms preprocess, 32.6ms inference, 1.0ms postprocess per image at shape (1, 3, 384, 640)\n"
     ]
    },
    {
     "name": "stderr",
     "output_type": "stream",
     "text": [
      "  7%|▋         | 151/2158 [00:05<01:14, 26.80it/s]"
     ]
    },
    {
     "name": "stdout",
     "output_type": "stream",
     "text": [
      "\n",
      "0: 384x640 1 Armaduro, 32.6ms\n",
      "Speed: 0.5ms preprocess, 32.6ms inference, 1.0ms postprocess per image at shape (1, 3, 384, 640)\n",
      "\n",
      "0: 384x640 1 Armaduro, 32.5ms\n",
      "Speed: 0.6ms preprocess, 32.5ms inference, 1.8ms postprocess per image at shape (1, 3, 384, 640)\n",
      "\n",
      "0: 384x640 1 Selvalegre, 32.7ms\n",
      "Speed: 0.6ms preprocess, 32.7ms inference, 1.0ms postprocess per image at shape (1, 3, 384, 640)\n"
     ]
    },
    {
     "name": "stderr",
     "output_type": "stream",
     "text": [
      "  7%|▋         | 154/2158 [00:06<01:15, 26.52it/s]"
     ]
    },
    {
     "name": "stdout",
     "output_type": "stream",
     "text": [
      "\n",
      "0: 384x640 1 Armaduro, 1 Selvalegre, 32.7ms\n",
      "Speed: 0.6ms preprocess, 32.7ms inference, 1.7ms postprocess per image at shape (1, 3, 384, 640)\n",
      "\n",
      "0: 384x640 1 Armaduro, 32.6ms\n",
      "Speed: 0.6ms preprocess, 32.6ms inference, 1.0ms postprocess per image at shape (1, 3, 384, 640)\n",
      "\n",
      "0: 384x640 1 Armaduro, 32.6ms\n",
      "Speed: 0.7ms preprocess, 32.6ms inference, 0.9ms postprocess per image at shape (1, 3, 384, 640)\n"
     ]
    },
    {
     "name": "stderr",
     "output_type": "stream",
     "text": [
      "  7%|▋         | 157/2158 [00:06<01:16, 26.22it/s]"
     ]
    },
    {
     "name": "stdout",
     "output_type": "stream",
     "text": [
      "\n",
      "0: 384x640 1 Armaduro, 32.6ms\n",
      "Speed: 0.6ms preprocess, 32.6ms inference, 1.0ms postprocess per image at shape (1, 3, 384, 640)\n",
      "\n",
      "0: 384x640 1 Armaduro, 32.7ms\n",
      "Speed: 0.6ms preprocess, 32.7ms inference, 1.0ms postprocess per image at shape (1, 3, 384, 640)\n",
      "\n",
      "0: 384x640 1 Armaduro, 32.6ms\n",
      "Speed: 0.7ms preprocess, 32.6ms inference, 1.0ms postprocess per image at shape (1, 3, 384, 640)\n"
     ]
    },
    {
     "name": "stderr",
     "output_type": "stream",
     "text": [
      "  7%|▋         | 160/2158 [00:06<01:16, 26.21it/s]"
     ]
    },
    {
     "name": "stdout",
     "output_type": "stream",
     "text": [
      "\n",
      "0: 384x640 1 Armaduro, 1 Selvalegre, 32.6ms\n",
      "Speed: 0.7ms preprocess, 32.6ms inference, 1.3ms postprocess per image at shape (1, 3, 384, 640)\n",
      "\n",
      "0: 384x640 (no detections), 32.6ms\n",
      "Speed: 0.6ms preprocess, 32.6ms inference, 0.5ms postprocess per image at shape (1, 3, 384, 640)\n",
      "\n",
      "0: 384x640 (no detections), 32.6ms\n",
      "Speed: 0.5ms preprocess, 32.6ms inference, 0.5ms postprocess per image at shape (1, 3, 384, 640)\n"
     ]
    },
    {
     "name": "stderr",
     "output_type": "stream",
     "text": [
      "  8%|▊         | 163/2158 [00:06<01:15, 26.30it/s]"
     ]
    },
    {
     "name": "stdout",
     "output_type": "stream",
     "text": [
      "\n",
      "0: 384x640 (no detections), 32.7ms\n",
      "Speed: 0.5ms preprocess, 32.7ms inference, 0.6ms postprocess per image at shape (1, 3, 384, 640)\n",
      "\n",
      "0: 384x640 (no detections), 32.6ms\n",
      "Speed: 0.6ms preprocess, 32.6ms inference, 0.5ms postprocess per image at shape (1, 3, 384, 640)\n",
      "\n",
      "0: 384x640 (no detections), 32.7ms\n",
      "Speed: 0.5ms preprocess, 32.7ms inference, 0.5ms postprocess per image at shape (1, 3, 384, 640)\n"
     ]
    },
    {
     "name": "stderr",
     "output_type": "stream",
     "text": [
      "  8%|▊         | 166/2158 [00:06<01:15, 26.48it/s]"
     ]
    },
    {
     "name": "stdout",
     "output_type": "stream",
     "text": [
      "\n",
      "0: 384x640 (no detections), 33.0ms\n",
      "Speed: 0.6ms preprocess, 33.0ms inference, 0.5ms postprocess per image at shape (1, 3, 384, 640)\n",
      "\n",
      "0: 384x640 (no detections), 32.8ms\n",
      "Speed: 0.7ms preprocess, 32.8ms inference, 0.5ms postprocess per image at shape (1, 3, 384, 640)\n",
      "\n",
      "0: 384x640 (no detections), 32.7ms\n",
      "Speed: 0.7ms preprocess, 32.7ms inference, 0.5ms postprocess per image at shape (1, 3, 384, 640)\n"
     ]
    },
    {
     "name": "stderr",
     "output_type": "stream",
     "text": [
      "  8%|▊         | 169/2158 [00:06<01:14, 26.54it/s]"
     ]
    },
    {
     "name": "stdout",
     "output_type": "stream",
     "text": [
      "\n",
      "0: 384x640 (no detections), 32.8ms\n",
      "Speed: 0.6ms preprocess, 32.8ms inference, 0.6ms postprocess per image at shape (1, 3, 384, 640)\n",
      "\n",
      "0: 384x640 (no detections), 32.8ms\n",
      "Speed: 0.6ms preprocess, 32.8ms inference, 0.8ms postprocess per image at shape (1, 3, 384, 640)\n",
      "\n",
      "0: 384x640 (no detections), 32.9ms\n",
      "Speed: 0.5ms preprocess, 32.9ms inference, 0.5ms postprocess per image at shape (1, 3, 384, 640)\n"
     ]
    },
    {
     "name": "stderr",
     "output_type": "stream",
     "text": [
      "  8%|▊         | 172/2158 [00:06<01:14, 26.60it/s]"
     ]
    },
    {
     "name": "stdout",
     "output_type": "stream",
     "text": [
      "\n",
      "0: 384x640 (no detections), 33.1ms\n",
      "Speed: 0.9ms preprocess, 33.1ms inference, 0.6ms postprocess per image at shape (1, 3, 384, 640)\n",
      "\n",
      "0: 384x640 (no detections), 33.6ms\n",
      "Speed: 0.6ms preprocess, 33.6ms inference, 0.8ms postprocess per image at shape (1, 3, 384, 640)\n",
      "\n",
      "0: 384x640 (no detections), 33.7ms\n",
      "Speed: 0.6ms preprocess, 33.7ms inference, 0.5ms postprocess per image at shape (1, 3, 384, 640)\n"
     ]
    },
    {
     "name": "stderr",
     "output_type": "stream",
     "text": [
      "  8%|▊         | 175/2158 [00:06<01:14, 26.48it/s]"
     ]
    },
    {
     "name": "stdout",
     "output_type": "stream",
     "text": [
      "\n",
      "0: 384x640 (no detections), 33.4ms\n",
      "Speed: 0.6ms preprocess, 33.4ms inference, 0.7ms postprocess per image at shape (1, 3, 384, 640)\n",
      "\n",
      "0: 384x640 (no detections), 32.7ms\n",
      "Speed: 0.6ms preprocess, 32.7ms inference, 0.7ms postprocess per image at shape (1, 3, 384, 640)\n",
      "\n",
      "0: 384x640 (no detections), 32.7ms\n",
      "Speed: 0.6ms preprocess, 32.7ms inference, 0.5ms postprocess per image at shape (1, 3, 384, 640)\n"
     ]
    },
    {
     "name": "stderr",
     "output_type": "stream",
     "text": [
      "  8%|▊         | 178/2158 [00:06<01:14, 26.55it/s]"
     ]
    },
    {
     "name": "stdout",
     "output_type": "stream",
     "text": [
      "\n",
      "0: 384x640 (no detections), 32.7ms\n",
      "Speed: 0.6ms preprocess, 32.7ms inference, 0.5ms postprocess per image at shape (1, 3, 384, 640)\n",
      "\n",
      "0: 384x640 (no detections), 32.8ms\n",
      "Speed: 0.6ms preprocess, 32.8ms inference, 0.5ms postprocess per image at shape (1, 3, 384, 640)\n",
      "\n",
      "0: 384x640 (no detections), 32.8ms\n",
      "Speed: 0.7ms preprocess, 32.8ms inference, 0.5ms postprocess per image at shape (1, 3, 384, 640)\n"
     ]
    },
    {
     "name": "stderr",
     "output_type": "stream",
     "text": [
      "  8%|▊         | 181/2158 [00:07<01:14, 26.59it/s]"
     ]
    },
    {
     "name": "stdout",
     "output_type": "stream",
     "text": [
      "\n",
      "0: 384x640 (no detections), 32.6ms\n",
      "Speed: 0.6ms preprocess, 32.6ms inference, 0.5ms postprocess per image at shape (1, 3, 384, 640)\n",
      "\n",
      "0: 384x640 (no detections), 32.8ms\n",
      "Speed: 0.7ms preprocess, 32.8ms inference, 0.5ms postprocess per image at shape (1, 3, 384, 640)\n",
      "\n",
      "0: 384x640 (no detections), 32.8ms\n",
      "Speed: 0.6ms preprocess, 32.8ms inference, 0.5ms postprocess per image at shape (1, 3, 384, 640)\n"
     ]
    },
    {
     "name": "stderr",
     "output_type": "stream",
     "text": [
      "  9%|▊         | 184/2158 [00:07<01:14, 26.67it/s]"
     ]
    },
    {
     "name": "stdout",
     "output_type": "stream",
     "text": [
      "\n",
      "0: 384x640 (no detections), 33.8ms\n",
      "Speed: 0.8ms preprocess, 33.8ms inference, 0.5ms postprocess per image at shape (1, 3, 384, 640)\n",
      "\n",
      "0: 384x640 (no detections), 33.5ms\n",
      "Speed: 0.6ms preprocess, 33.5ms inference, 0.5ms postprocess per image at shape (1, 3, 384, 640)\n",
      "\n",
      "0: 384x640 (no detections), 33.7ms\n",
      "Speed: 0.6ms preprocess, 33.7ms inference, 0.5ms postprocess per image at shape (1, 3, 384, 640)\n"
     ]
    },
    {
     "name": "stderr",
     "output_type": "stream",
     "text": [
      "  9%|▊         | 187/2158 [00:07<01:14, 26.52it/s]"
     ]
    },
    {
     "name": "stdout",
     "output_type": "stream",
     "text": [
      "\n",
      "0: 384x640 (no detections), 33.6ms\n",
      "Speed: 0.8ms preprocess, 33.6ms inference, 0.6ms postprocess per image at shape (1, 3, 384, 640)\n",
      "\n",
      "0: 384x640 (no detections), 33.6ms\n",
      "Speed: 0.7ms preprocess, 33.6ms inference, 0.5ms postprocess per image at shape (1, 3, 384, 640)\n",
      "\n",
      "0: 384x640 1 Armaduro, 33.8ms\n",
      "Speed: 0.7ms preprocess, 33.8ms inference, 1.1ms postprocess per image at shape (1, 3, 384, 640)\n"
     ]
    },
    {
     "name": "stderr",
     "output_type": "stream",
     "text": [
      "  9%|▉         | 190/2158 [00:07<01:14, 26.35it/s]"
     ]
    },
    {
     "name": "stdout",
     "output_type": "stream",
     "text": [
      "\n",
      "0: 384x640 (no detections), 33.9ms\n",
      "Speed: 0.5ms preprocess, 33.9ms inference, 1.6ms postprocess per image at shape (1, 3, 384, 640)\n",
      "\n",
      "0: 384x640 (no detections), 33.4ms\n",
      "Speed: 0.8ms preprocess, 33.4ms inference, 0.5ms postprocess per image at shape (1, 3, 384, 640)\n",
      "\n",
      "0: 384x640 (no detections), 33.5ms\n",
      "Speed: 0.6ms preprocess, 33.5ms inference, 0.8ms postprocess per image at shape (1, 3, 384, 640)\n"
     ]
    },
    {
     "name": "stderr",
     "output_type": "stream",
     "text": [
      "  9%|▉         | 193/2158 [00:07<01:15, 26.09it/s]"
     ]
    },
    {
     "name": "stdout",
     "output_type": "stream",
     "text": [
      "\n",
      "0: 384x640 (no detections), 34.8ms\n",
      "Speed: 0.7ms preprocess, 34.8ms inference, 0.5ms postprocess per image at shape (1, 3, 384, 640)\n",
      "\n",
      "0: 384x640 1 Armaduro, 33.1ms\n",
      "Speed: 0.6ms preprocess, 33.1ms inference, 1.0ms postprocess per image at shape (1, 3, 384, 640)\n",
      "\n",
      "0: 384x640 1 Armaduro, 33.5ms\n",
      "Speed: 0.7ms preprocess, 33.5ms inference, 1.0ms postprocess per image at shape (1, 3, 384, 640)\n"
     ]
    },
    {
     "name": "stderr",
     "output_type": "stream",
     "text": [
      "  9%|▉         | 196/2158 [00:07<01:15, 25.98it/s]"
     ]
    },
    {
     "name": "stdout",
     "output_type": "stream",
     "text": [
      "\n",
      "0: 384x640 1 Armaduro, 34.6ms\n",
      "Speed: 0.7ms preprocess, 34.6ms inference, 1.1ms postprocess per image at shape (1, 3, 384, 640)\n",
      "\n",
      "0: 384x640 1 Armaduro, 34.7ms\n",
      "Speed: 0.7ms preprocess, 34.7ms inference, 1.1ms postprocess per image at shape (1, 3, 384, 640)\n",
      "\n",
      "0: 384x640 1 Armaduro, 33.5ms\n",
      "Speed: 0.6ms preprocess, 33.5ms inference, 1.0ms postprocess per image at shape (1, 3, 384, 640)\n"
     ]
    },
    {
     "name": "stderr",
     "output_type": "stream",
     "text": [
      "  9%|▉         | 199/2158 [00:07<01:16, 25.63it/s]"
     ]
    },
    {
     "name": "stdout",
     "output_type": "stream",
     "text": [
      "\n",
      "0: 384x640 (no detections), 33.2ms\n",
      "Speed: 0.6ms preprocess, 33.2ms inference, 0.8ms postprocess per image at shape (1, 3, 384, 640)\n",
      "\n",
      "0: 384x640 (no detections), 33.3ms\n",
      "Speed: 0.6ms preprocess, 33.3ms inference, 0.8ms postprocess per image at shape (1, 3, 384, 640)\n",
      "\n",
      "0: 384x640 (no detections), 33.2ms\n",
      "Speed: 0.6ms preprocess, 33.2ms inference, 0.5ms postprocess per image at shape (1, 3, 384, 640)\n"
     ]
    },
    {
     "name": "stderr",
     "output_type": "stream",
     "text": [
      "  9%|▉         | 202/2158 [00:07<01:15, 25.81it/s]"
     ]
    },
    {
     "name": "stdout",
     "output_type": "stream",
     "text": [
      "\n",
      "0: 384x640 (no detections), 33.1ms\n",
      "Speed: 0.7ms preprocess, 33.1ms inference, 0.5ms postprocess per image at shape (1, 3, 384, 640)\n",
      "\n",
      "0: 384x640 (no detections), 33.3ms\n",
      "Speed: 0.7ms preprocess, 33.3ms inference, 0.5ms postprocess per image at shape (1, 3, 384, 640)\n",
      "\n",
      "0: 384x640 (no detections), 33.4ms\n",
      "Speed: 0.6ms preprocess, 33.4ms inference, 0.5ms postprocess per image at shape (1, 3, 384, 640)\n"
     ]
    },
    {
     "name": "stderr",
     "output_type": "stream",
     "text": [
      "  9%|▉         | 205/2158 [00:08<01:15, 25.94it/s]"
     ]
    },
    {
     "name": "stdout",
     "output_type": "stream",
     "text": [
      "\n",
      "0: 384x640 (no detections), 33.5ms\n",
      "Speed: 0.5ms preprocess, 33.5ms inference, 0.5ms postprocess per image at shape (1, 3, 384, 640)\n",
      "\n",
      "0: 384x640 (no detections), 33.3ms\n",
      "Speed: 0.7ms preprocess, 33.3ms inference, 0.5ms postprocess per image at shape (1, 3, 384, 640)\n",
      "\n",
      "0: 384x640 (no detections), 33.3ms\n",
      "Speed: 0.6ms preprocess, 33.3ms inference, 0.8ms postprocess per image at shape (1, 3, 384, 640)\n"
     ]
    },
    {
     "name": "stderr",
     "output_type": "stream",
     "text": [
      " 10%|▉         | 208/2158 [00:08<01:14, 26.01it/s]"
     ]
    },
    {
     "name": "stdout",
     "output_type": "stream",
     "text": [
      "\n",
      "0: 384x640 (no detections), 33.5ms\n",
      "Speed: 0.5ms preprocess, 33.5ms inference, 0.8ms postprocess per image at shape (1, 3, 384, 640)\n",
      "\n",
      "0: 384x640 (no detections), 33.5ms\n",
      "Speed: 0.7ms preprocess, 33.5ms inference, 0.5ms postprocess per image at shape (1, 3, 384, 640)\n",
      "\n",
      "0: 384x640 (no detections), 32.7ms\n",
      "Speed: 0.6ms preprocess, 32.7ms inference, 0.6ms postprocess per image at shape (1, 3, 384, 640)\n"
     ]
    },
    {
     "name": "stderr",
     "output_type": "stream",
     "text": [
      " 10%|▉         | 211/2158 [00:08<01:14, 26.13it/s]"
     ]
    },
    {
     "name": "stdout",
     "output_type": "stream",
     "text": [
      "\n",
      "0: 384x640 (no detections), 32.7ms\n",
      "Speed: 0.6ms preprocess, 32.7ms inference, 0.8ms postprocess per image at shape (1, 3, 384, 640)\n",
      "\n",
      "0: 384x640 (no detections), 32.7ms\n",
      "Speed: 0.7ms preprocess, 32.7ms inference, 0.5ms postprocess per image at shape (1, 3, 384, 640)\n",
      "\n",
      "0: 384x640 1 Armaduro, 32.6ms\n",
      "Speed: 0.7ms preprocess, 32.6ms inference, 1.0ms postprocess per image at shape (1, 3, 384, 640)\n"
     ]
    },
    {
     "name": "stderr",
     "output_type": "stream",
     "text": [
      " 10%|▉         | 214/2158 [00:08<01:14, 26.21it/s]"
     ]
    },
    {
     "name": "stdout",
     "output_type": "stream",
     "text": [
      "\n",
      "0: 384x640 (no detections), 33.1ms\n",
      "Speed: 0.5ms preprocess, 33.1ms inference, 0.5ms postprocess per image at shape (1, 3, 384, 640)\n",
      "\n",
      "0: 384x640 (no detections), 32.8ms\n",
      "Speed: 0.6ms preprocess, 32.8ms inference, 0.5ms postprocess per image at shape (1, 3, 384, 640)\n",
      "\n",
      "0: 384x640 1 Armaduro, 32.7ms\n",
      "Speed: 0.6ms preprocess, 32.7ms inference, 1.1ms postprocess per image at shape (1, 3, 384, 640)\n"
     ]
    },
    {
     "name": "stderr",
     "output_type": "stream",
     "text": [
      " 10%|█         | 217/2158 [00:08<01:13, 26.29it/s]"
     ]
    },
    {
     "name": "stdout",
     "output_type": "stream",
     "text": [
      "\n",
      "0: 384x640 1 Armaduro, 33.6ms\n",
      "Speed: 0.6ms preprocess, 33.6ms inference, 1.8ms postprocess per image at shape (1, 3, 384, 640)\n",
      "\n",
      "0: 384x640 1 Armaduro, 32.8ms\n",
      "Speed: 0.6ms preprocess, 32.8ms inference, 1.8ms postprocess per image at shape (1, 3, 384, 640)\n",
      "\n",
      "0: 384x640 1 Armaduro, 32.8ms\n",
      "Speed: 0.5ms preprocess, 32.8ms inference, 1.0ms postprocess per image at shape (1, 3, 384, 640)\n"
     ]
    },
    {
     "name": "stderr",
     "output_type": "stream",
     "text": [
      " 10%|█         | 220/2158 [00:08<01:14, 26.01it/s]"
     ]
    },
    {
     "name": "stdout",
     "output_type": "stream",
     "text": [
      "\n",
      "0: 384x640 (no detections), 32.7ms\n",
      "Speed: 0.7ms preprocess, 32.7ms inference, 0.5ms postprocess per image at shape (1, 3, 384, 640)\n",
      "\n",
      "0: 384x640 (no detections), 32.6ms\n",
      "Speed: 0.6ms preprocess, 32.6ms inference, 0.5ms postprocess per image at shape (1, 3, 384, 640)\n",
      "\n",
      "0: 384x640 (no detections), 32.6ms\n",
      "Speed: 0.5ms preprocess, 32.6ms inference, 0.5ms postprocess per image at shape (1, 3, 384, 640)\n"
     ]
    },
    {
     "name": "stderr",
     "output_type": "stream",
     "text": [
      " 10%|█         | 223/2158 [00:08<01:13, 26.26it/s]"
     ]
    },
    {
     "name": "stdout",
     "output_type": "stream",
     "text": [
      "\n",
      "0: 384x640 (no detections), 32.8ms\n",
      "Speed: 0.7ms preprocess, 32.8ms inference, 0.6ms postprocess per image at shape (1, 3, 384, 640)\n",
      "\n",
      "0: 384x640 (no detections), 32.7ms\n",
      "Speed: 0.7ms preprocess, 32.7ms inference, 0.5ms postprocess per image at shape (1, 3, 384, 640)\n",
      "\n",
      "0: 384x640 (no detections), 32.8ms\n",
      "Speed: 0.5ms preprocess, 32.8ms inference, 0.6ms postprocess per image at shape (1, 3, 384, 640)\n"
     ]
    },
    {
     "name": "stderr",
     "output_type": "stream",
     "text": [
      " 10%|█         | 226/2158 [00:08<01:13, 26.39it/s]"
     ]
    },
    {
     "name": "stdout",
     "output_type": "stream",
     "text": [
      "\n",
      "0: 384x640 (no detections), 32.8ms\n",
      "Speed: 0.5ms preprocess, 32.8ms inference, 0.5ms postprocess per image at shape (1, 3, 384, 640)\n",
      "\n",
      "0: 384x640 (no detections), 32.7ms\n",
      "Speed: 0.6ms preprocess, 32.7ms inference, 0.6ms postprocess per image at shape (1, 3, 384, 640)\n",
      "\n",
      "0: 384x640 1 Selvalegre, 32.6ms\n",
      "Speed: 0.7ms preprocess, 32.6ms inference, 1.1ms postprocess per image at shape (1, 3, 384, 640)\n"
     ]
    },
    {
     "name": "stderr",
     "output_type": "stream",
     "text": [
      " 11%|█         | 229/2158 [00:08<01:13, 26.40it/s]"
     ]
    },
    {
     "name": "stdout",
     "output_type": "stream",
     "text": [
      "\n",
      "0: 384x640 (no detections), 32.6ms\n",
      "Speed: 0.5ms preprocess, 32.6ms inference, 0.5ms postprocess per image at shape (1, 3, 384, 640)\n",
      "\n",
      "0: 384x640 (no detections), 32.6ms\n",
      "Speed: 0.5ms preprocess, 32.6ms inference, 0.5ms postprocess per image at shape (1, 3, 384, 640)\n",
      "\n",
      "0: 384x640 (no detections), 32.7ms\n",
      "Speed: 0.8ms preprocess, 32.7ms inference, 0.5ms postprocess per image at shape (1, 3, 384, 640)\n"
     ]
    },
    {
     "name": "stderr",
     "output_type": "stream",
     "text": [
      " 11%|█         | 232/2158 [00:09<01:12, 26.54it/s]"
     ]
    },
    {
     "name": "stdout",
     "output_type": "stream",
     "text": [
      "\n",
      "0: 384x640 (no detections), 32.5ms\n",
      "Speed: 0.7ms preprocess, 32.5ms inference, 0.5ms postprocess per image at shape (1, 3, 384, 640)\n",
      "\n",
      "0: 384x640 (no detections), 32.6ms\n",
      "Speed: 0.6ms preprocess, 32.6ms inference, 0.5ms postprocess per image at shape (1, 3, 384, 640)\n",
      "\n",
      "0: 384x640 (no detections), 32.6ms\n",
      "Speed: 0.6ms preprocess, 32.6ms inference, 0.6ms postprocess per image at shape (1, 3, 384, 640)\n"
     ]
    },
    {
     "name": "stderr",
     "output_type": "stream",
     "text": [
      " 11%|█         | 235/2158 [00:09<01:12, 26.65it/s]"
     ]
    },
    {
     "name": "stdout",
     "output_type": "stream",
     "text": [
      "\n",
      "0: 384x640 (no detections), 33.1ms\n",
      "Speed: 0.7ms preprocess, 33.1ms inference, 0.6ms postprocess per image at shape (1, 3, 384, 640)\n",
      "\n",
      "0: 384x640 (no detections), 32.7ms\n",
      "Speed: 0.8ms preprocess, 32.7ms inference, 0.5ms postprocess per image at shape (1, 3, 384, 640)\n",
      "\n",
      "0: 384x640 1 Armaduro, 32.6ms\n",
      "Speed: 0.6ms preprocess, 32.6ms inference, 1.1ms postprocess per image at shape (1, 3, 384, 640)\n"
     ]
    },
    {
     "name": "stderr",
     "output_type": "stream",
     "text": [
      " 11%|█         | 238/2158 [00:09<01:12, 26.52it/s]"
     ]
    },
    {
     "name": "stdout",
     "output_type": "stream",
     "text": [
      "\n",
      "0: 384x640 (no detections), 32.6ms\n",
      "Speed: 0.5ms preprocess, 32.6ms inference, 0.5ms postprocess per image at shape (1, 3, 384, 640)\n",
      "\n",
      "0: 384x640 (no detections), 32.7ms\n",
      "Speed: 0.7ms preprocess, 32.7ms inference, 0.6ms postprocess per image at shape (1, 3, 384, 640)\n",
      "\n",
      "0: 384x640 1 Armaduro, 32.6ms\n",
      "Speed: 0.7ms preprocess, 32.6ms inference, 1.0ms postprocess per image at shape (1, 3, 384, 640)\n"
     ]
    },
    {
     "name": "stderr",
     "output_type": "stream",
     "text": [
      " 11%|█         | 241/2158 [00:09<01:12, 26.51it/s]"
     ]
    },
    {
     "name": "stdout",
     "output_type": "stream",
     "text": [
      "\n",
      "0: 384x640 1 Armaduro, 32.5ms\n",
      "Speed: 0.6ms preprocess, 32.5ms inference, 1.1ms postprocess per image at shape (1, 3, 384, 640)\n",
      "\n",
      "0: 384x640 1 Armaduro, 32.6ms\n",
      "Speed: 0.6ms preprocess, 32.6ms inference, 1.0ms postprocess per image at shape (1, 3, 384, 640)\n",
      "\n",
      "0: 384x640 1 Armaduro, 32.6ms\n",
      "Speed: 0.6ms preprocess, 32.6ms inference, 1.0ms postprocess per image at shape (1, 3, 384, 640)\n"
     ]
    },
    {
     "name": "stderr",
     "output_type": "stream",
     "text": [
      " 11%|█▏        | 244/2158 [00:09<01:12, 26.39it/s]"
     ]
    },
    {
     "name": "stdout",
     "output_type": "stream",
     "text": [
      "\n",
      "0: 384x640 1 Armaduro, 32.6ms\n",
      "Speed: 0.5ms preprocess, 32.6ms inference, 1.0ms postprocess per image at shape (1, 3, 384, 640)\n",
      "\n",
      "0: 384x640 1 Armaduro, 32.6ms\n",
      "Speed: 0.5ms preprocess, 32.6ms inference, 1.8ms postprocess per image at shape (1, 3, 384, 640)\n",
      "\n",
      "0: 384x640 1 Armaduro, 32.5ms\n",
      "Speed: 0.7ms preprocess, 32.5ms inference, 1.0ms postprocess per image at shape (1, 3, 384, 640)\n"
     ]
    },
    {
     "name": "stderr",
     "output_type": "stream",
     "text": [
      " 11%|█▏        | 247/2158 [00:09<01:12, 26.23it/s]"
     ]
    },
    {
     "name": "stdout",
     "output_type": "stream",
     "text": [
      "\n",
      "0: 384x640 1 Armaduro, 32.7ms\n",
      "Speed: 0.6ms preprocess, 32.7ms inference, 1.1ms postprocess per image at shape (1, 3, 384, 640)\n",
      "\n",
      "0: 384x640 1 Armaduro, 32.7ms\n",
      "Speed: 0.6ms preprocess, 32.7ms inference, 1.0ms postprocess per image at shape (1, 3, 384, 640)\n",
      "\n",
      "0: 384x640 1 Armaduro, 32.4ms\n",
      "Speed: 0.6ms preprocess, 32.4ms inference, 1.3ms postprocess per image at shape (1, 3, 384, 640)\n"
     ]
    },
    {
     "name": "stderr",
     "output_type": "stream",
     "text": [
      " 12%|█▏        | 250/2158 [00:09<01:12, 26.16it/s]"
     ]
    },
    {
     "name": "stdout",
     "output_type": "stream",
     "text": [
      "\n",
      "0: 384x640 (no detections), 32.8ms\n",
      "Speed: 0.5ms preprocess, 32.8ms inference, 0.5ms postprocess per image at shape (1, 3, 384, 640)\n",
      "\n",
      "0: 384x640 (no detections), 32.6ms\n",
      "Speed: 0.6ms preprocess, 32.6ms inference, 0.5ms postprocess per image at shape (1, 3, 384, 640)\n",
      "\n",
      "0: 384x640 (no detections), 32.7ms\n",
      "Speed: 0.6ms preprocess, 32.7ms inference, 0.5ms postprocess per image at shape (1, 3, 384, 640)\n"
     ]
    },
    {
     "name": "stderr",
     "output_type": "stream",
     "text": [
      " 12%|█▏        | 253/2158 [00:09<01:12, 26.32it/s]"
     ]
    },
    {
     "name": "stdout",
     "output_type": "stream",
     "text": [
      "\n",
      "0: 384x640 (no detections), 32.4ms\n",
      "Speed: 0.6ms preprocess, 32.4ms inference, 0.5ms postprocess per image at shape (1, 3, 384, 640)\n",
      "\n",
      "0: 384x640 (no detections), 33.1ms\n",
      "Speed: 0.7ms preprocess, 33.1ms inference, 0.5ms postprocess per image at shape (1, 3, 384, 640)\n",
      "\n",
      "0: 384x640 (no detections), 32.7ms\n",
      "Speed: 0.6ms preprocess, 32.7ms inference, 0.5ms postprocess per image at shape (1, 3, 384, 640)\n"
     ]
    },
    {
     "name": "stderr",
     "output_type": "stream",
     "text": [
      " 12%|█▏        | 256/2158 [00:09<01:11, 26.48it/s]"
     ]
    },
    {
     "name": "stdout",
     "output_type": "stream",
     "text": [
      "\n",
      "0: 384x640 (no detections), 32.6ms\n",
      "Speed: 0.5ms preprocess, 32.6ms inference, 0.5ms postprocess per image at shape (1, 3, 384, 640)\n",
      "\n",
      "0: 384x640 (no detections), 33.7ms\n",
      "Speed: 0.8ms preprocess, 33.7ms inference, 0.8ms postprocess per image at shape (1, 3, 384, 640)\n",
      "\n",
      "0: 384x640 (no detections), 33.0ms\n",
      "Speed: 0.5ms preprocess, 33.0ms inference, 0.5ms postprocess per image at shape (1, 3, 384, 640)\n"
     ]
    },
    {
     "name": "stderr",
     "output_type": "stream",
     "text": [
      " 12%|█▏        | 259/2158 [00:10<01:11, 26.46it/s]"
     ]
    },
    {
     "name": "stdout",
     "output_type": "stream",
     "text": [
      "\n",
      "0: 384x640 (no detections), 33.1ms\n",
      "Speed: 0.6ms preprocess, 33.1ms inference, 0.6ms postprocess per image at shape (1, 3, 384, 640)\n",
      "\n",
      "0: 384x640 (no detections), 33.7ms\n",
      "Speed: 0.6ms preprocess, 33.7ms inference, 0.7ms postprocess per image at shape (1, 3, 384, 640)\n",
      "\n",
      "0: 384x640 (no detections), 33.3ms\n",
      "Speed: 0.6ms preprocess, 33.3ms inference, 0.5ms postprocess per image at shape (1, 3, 384, 640)\n"
     ]
    },
    {
     "name": "stderr",
     "output_type": "stream",
     "text": [
      " 12%|█▏        | 262/2158 [00:10<01:11, 26.41it/s]"
     ]
    },
    {
     "name": "stdout",
     "output_type": "stream",
     "text": [
      "\n",
      "0: 384x640 (no detections), 32.9ms\n",
      "Speed: 0.6ms preprocess, 32.9ms inference, 0.5ms postprocess per image at shape (1, 3, 384, 640)\n",
      "\n",
      "0: 384x640 1 Armaduro, 32.7ms\n",
      "Speed: 0.6ms preprocess, 32.7ms inference, 1.7ms postprocess per image at shape (1, 3, 384, 640)\n",
      "\n",
      "0: 384x640 (no detections), 32.4ms\n",
      "Speed: 0.8ms preprocess, 32.4ms inference, 0.5ms postprocess per image at shape (1, 3, 384, 640)\n"
     ]
    },
    {
     "name": "stderr",
     "output_type": "stream",
     "text": [
      " 12%|█▏        | 265/2158 [00:10<01:11, 26.37it/s]"
     ]
    },
    {
     "name": "stdout",
     "output_type": "stream",
     "text": [
      "\n",
      "0: 384x640 (no detections), 32.7ms\n",
      "Speed: 0.6ms preprocess, 32.7ms inference, 0.5ms postprocess per image at shape (1, 3, 384, 640)\n",
      "\n",
      "0: 384x640 (no detections), 32.7ms\n",
      "Speed: 0.6ms preprocess, 32.7ms inference, 0.5ms postprocess per image at shape (1, 3, 384, 640)\n",
      "\n",
      "0: 384x640 1 Armaduro, 32.5ms\n",
      "Speed: 0.6ms preprocess, 32.5ms inference, 1.0ms postprocess per image at shape (1, 3, 384, 640)\n"
     ]
    },
    {
     "name": "stderr",
     "output_type": "stream",
     "text": [
      " 12%|█▏        | 268/2158 [00:10<01:11, 26.48it/s]"
     ]
    },
    {
     "name": "stdout",
     "output_type": "stream",
     "text": [
      "\n",
      "0: 384x640 1 Armaduro, 32.7ms\n",
      "Speed: 0.7ms preprocess, 32.7ms inference, 1.2ms postprocess per image at shape (1, 3, 384, 640)\n",
      "\n",
      "0: 384x640 (no detections), 32.8ms\n",
      "Speed: 0.7ms preprocess, 32.8ms inference, 0.8ms postprocess per image at shape (1, 3, 384, 640)\n",
      "\n",
      "0: 384x640 1 Armaduro, 32.9ms\n",
      "Speed: 0.5ms preprocess, 32.9ms inference, 1.0ms postprocess per image at shape (1, 3, 384, 640)\n"
     ]
    },
    {
     "name": "stderr",
     "output_type": "stream",
     "text": [
      " 13%|█▎        | 271/2158 [00:10<01:11, 26.36it/s]"
     ]
    },
    {
     "name": "stdout",
     "output_type": "stream",
     "text": [
      "\n",
      "0: 384x640 1 Armaduro, 32.7ms\n",
      "Speed: 0.6ms preprocess, 32.7ms inference, 1.1ms postprocess per image at shape (1, 3, 384, 640)\n",
      "\n",
      "0: 384x640 (no detections), 32.7ms\n",
      "Speed: 0.7ms preprocess, 32.7ms inference, 0.5ms postprocess per image at shape (1, 3, 384, 640)\n",
      "\n",
      "0: 384x640 (no detections), 32.8ms\n",
      "Speed: 0.5ms preprocess, 32.8ms inference, 0.5ms postprocess per image at shape (1, 3, 384, 640)\n"
     ]
    },
    {
     "name": "stderr",
     "output_type": "stream",
     "text": [
      " 13%|█▎        | 274/2158 [00:10<01:11, 26.44it/s]"
     ]
    },
    {
     "name": "stdout",
     "output_type": "stream",
     "text": [
      "\n",
      "0: 384x640 (no detections), 32.7ms\n",
      "Speed: 0.6ms preprocess, 32.7ms inference, 0.5ms postprocess per image at shape (1, 3, 384, 640)\n",
      "\n",
      "0: 384x640 (no detections), 32.8ms\n",
      "Speed: 0.6ms preprocess, 32.8ms inference, 0.5ms postprocess per image at shape (1, 3, 384, 640)\n",
      "\n",
      "0: 384x640 1 Armaduro, 32.7ms\n",
      "Speed: 0.7ms preprocess, 32.7ms inference, 1.0ms postprocess per image at shape (1, 3, 384, 640)\n"
     ]
    },
    {
     "name": "stderr",
     "output_type": "stream",
     "text": [
      " 13%|█▎        | 277/2158 [00:10<01:11, 26.46it/s]"
     ]
    },
    {
     "name": "stdout",
     "output_type": "stream",
     "text": [
      "\n",
      "0: 384x640 (no detections), 32.7ms\n",
      "Speed: 0.6ms preprocess, 32.7ms inference, 0.5ms postprocess per image at shape (1, 3, 384, 640)\n",
      "\n",
      "0: 384x640 (no detections), 32.7ms\n",
      "Speed: 0.6ms preprocess, 32.7ms inference, 0.5ms postprocess per image at shape (1, 3, 384, 640)\n",
      "\n",
      "0: 384x640 (no detections), 32.7ms\n",
      "Speed: 0.7ms preprocess, 32.7ms inference, 0.7ms postprocess per image at shape (1, 3, 384, 640)\n"
     ]
    },
    {
     "name": "stderr",
     "output_type": "stream",
     "text": [
      " 13%|█▎        | 280/2158 [00:10<01:10, 26.56it/s]"
     ]
    },
    {
     "name": "stdout",
     "output_type": "stream",
     "text": [
      "\n",
      "0: 384x640 (no detections), 32.6ms\n",
      "Speed: 0.6ms preprocess, 32.6ms inference, 0.5ms postprocess per image at shape (1, 3, 384, 640)\n",
      "\n",
      "0: 384x640 (no detections), 33.1ms\n",
      "Speed: 0.6ms preprocess, 33.1ms inference, 0.8ms postprocess per image at shape (1, 3, 384, 640)\n",
      "\n",
      "0: 384x640 (no detections), 32.7ms\n",
      "Speed: 0.5ms preprocess, 32.7ms inference, 0.5ms postprocess per image at shape (1, 3, 384, 640)\n"
     ]
    },
    {
     "name": "stderr",
     "output_type": "stream",
     "text": [
      " 13%|█▎        | 283/2158 [00:10<01:10, 26.63it/s]"
     ]
    },
    {
     "name": "stdout",
     "output_type": "stream",
     "text": [
      "\n",
      "0: 384x640 (no detections), 32.9ms\n",
      "Speed: 0.7ms preprocess, 32.9ms inference, 0.6ms postprocess per image at shape (1, 3, 384, 640)\n",
      "\n",
      "0: 384x640 (no detections), 32.7ms\n",
      "Speed: 0.6ms preprocess, 32.7ms inference, 0.5ms postprocess per image at shape (1, 3, 384, 640)\n",
      "\n",
      "0: 384x640 (no detections), 32.7ms\n",
      "Speed: 0.6ms preprocess, 32.7ms inference, 0.5ms postprocess per image at shape (1, 3, 384, 640)\n"
     ]
    },
    {
     "name": "stderr",
     "output_type": "stream",
     "text": [
      " 13%|█▎        | 286/2158 [00:11<01:10, 26.66it/s]"
     ]
    },
    {
     "name": "stdout",
     "output_type": "stream",
     "text": [
      "\n",
      "0: 384x640 (no detections), 32.8ms\n",
      "Speed: 0.6ms preprocess, 32.8ms inference, 0.5ms postprocess per image at shape (1, 3, 384, 640)\n",
      "\n",
      "0: 384x640 (no detections), 32.7ms\n",
      "Speed: 0.6ms preprocess, 32.7ms inference, 0.5ms postprocess per image at shape (1, 3, 384, 640)\n",
      "\n",
      "0: 384x640 (no detections), 32.6ms\n",
      "Speed: 0.6ms preprocess, 32.6ms inference, 0.5ms postprocess per image at shape (1, 3, 384, 640)\n"
     ]
    },
    {
     "name": "stderr",
     "output_type": "stream",
     "text": [
      " 13%|█▎        | 289/2158 [00:11<01:10, 26.70it/s]"
     ]
    },
    {
     "name": "stdout",
     "output_type": "stream",
     "text": [
      "\n",
      "0: 384x640 (no detections), 32.7ms\n",
      "Speed: 0.5ms preprocess, 32.7ms inference, 0.5ms postprocess per image at shape (1, 3, 384, 640)\n",
      "\n",
      "0: 384x640 (no detections), 32.6ms\n",
      "Speed: 0.6ms preprocess, 32.6ms inference, 0.5ms postprocess per image at shape (1, 3, 384, 640)\n",
      "\n",
      "0: 384x640 (no detections), 32.7ms\n",
      "Speed: 0.6ms preprocess, 32.7ms inference, 0.5ms postprocess per image at shape (1, 3, 384, 640)\n"
     ]
    },
    {
     "name": "stderr",
     "output_type": "stream",
     "text": [
      " 14%|█▎        | 292/2158 [00:11<01:09, 26.80it/s]"
     ]
    },
    {
     "name": "stdout",
     "output_type": "stream",
     "text": [
      "\n",
      "0: 384x640 (no detections), 32.4ms\n",
      "Speed: 0.7ms preprocess, 32.4ms inference, 1.5ms postprocess per image at shape (1, 3, 384, 640)\n",
      "\n",
      "0: 384x640 (no detections), 32.7ms\n",
      "Speed: 0.7ms preprocess, 32.7ms inference, 0.5ms postprocess per image at shape (1, 3, 384, 640)\n",
      "\n",
      "0: 384x640 1 Armaduro, 32.7ms\n",
      "Speed: 0.6ms preprocess, 32.7ms inference, 1.0ms postprocess per image at shape (1, 3, 384, 640)\n"
     ]
    },
    {
     "name": "stderr",
     "output_type": "stream",
     "text": [
      " 14%|█▎        | 295/2158 [00:11<01:10, 26.55it/s]"
     ]
    },
    {
     "name": "stdout",
     "output_type": "stream",
     "text": [
      "\n",
      "0: 384x640 (no detections), 32.7ms\n",
      "Speed: 0.5ms preprocess, 32.7ms inference, 0.6ms postprocess per image at shape (1, 3, 384, 640)\n",
      "\n",
      "0: 384x640 (no detections), 32.7ms\n",
      "Speed: 0.6ms preprocess, 32.7ms inference, 0.5ms postprocess per image at shape (1, 3, 384, 640)\n",
      "\n",
      "0: 384x640 1 Armaduro, 32.7ms\n",
      "Speed: 0.6ms preprocess, 32.7ms inference, 1.1ms postprocess per image at shape (1, 3, 384, 640)\n"
     ]
    },
    {
     "name": "stderr",
     "output_type": "stream",
     "text": [
      " 14%|█▍        | 298/2158 [00:11<01:09, 26.58it/s]"
     ]
    },
    {
     "name": "stdout",
     "output_type": "stream",
     "text": [
      "\n",
      "0: 384x640 1 Armaduro, 32.7ms\n",
      "Speed: 0.6ms preprocess, 32.7ms inference, 1.8ms postprocess per image at shape (1, 3, 384, 640)\n",
      "\n",
      "0: 384x640 1 Armaduro, 32.7ms\n",
      "Speed: 0.6ms preprocess, 32.7ms inference, 1.1ms postprocess per image at shape (1, 3, 384, 640)\n",
      "\n",
      "0: 384x640 1 Selvalegre, 32.6ms\n",
      "Speed: 0.6ms preprocess, 32.6ms inference, 1.0ms postprocess per image at shape (1, 3, 384, 640)\n"
     ]
    },
    {
     "name": "stderr",
     "output_type": "stream",
     "text": [
      " 14%|█▍        | 301/2158 [00:11<01:10, 26.30it/s]"
     ]
    },
    {
     "name": "stdout",
     "output_type": "stream",
     "text": [
      "\n",
      "0: 384x640 1 Armaduro, 32.7ms\n",
      "Speed: 0.6ms preprocess, 32.7ms inference, 1.0ms postprocess per image at shape (1, 3, 384, 640)\n",
      "\n",
      "0: 384x640 1 Armaduro, 32.7ms\n",
      "Speed: 0.6ms preprocess, 32.7ms inference, 1.1ms postprocess per image at shape (1, 3, 384, 640)\n",
      "\n",
      "0: 384x640 1 Armaduro, 32.6ms\n",
      "Speed: 0.6ms preprocess, 32.6ms inference, 1.7ms postprocess per image at shape (1, 3, 384, 640)\n"
     ]
    },
    {
     "name": "stderr",
     "output_type": "stream",
     "text": [
      " 14%|█▍        | 304/2158 [00:11<01:10, 26.15it/s]"
     ]
    },
    {
     "name": "stdout",
     "output_type": "stream",
     "text": [
      "\n",
      "0: 384x640 (no detections), 32.7ms\n",
      "Speed: 0.5ms preprocess, 32.7ms inference, 0.5ms postprocess per image at shape (1, 3, 384, 640)\n",
      "\n",
      "0: 384x640 (no detections), 32.6ms\n",
      "Speed: 0.6ms preprocess, 32.6ms inference, 0.7ms postprocess per image at shape (1, 3, 384, 640)\n",
      "\n",
      "0: 384x640 (no detections), 32.5ms\n",
      "Speed: 0.6ms preprocess, 32.5ms inference, 0.5ms postprocess per image at shape (1, 3, 384, 640)\n"
     ]
    },
    {
     "name": "stderr",
     "output_type": "stream",
     "text": [
      " 14%|█▍        | 307/2158 [00:11<01:10, 26.35it/s]"
     ]
    },
    {
     "name": "stdout",
     "output_type": "stream",
     "text": [
      "\n",
      "0: 384x640 1 Armaduro, 32.7ms\n",
      "Speed: 0.6ms preprocess, 32.7ms inference, 1.0ms postprocess per image at shape (1, 3, 384, 640)\n",
      "\n",
      "0: 384x640 1 Armaduro, 32.7ms\n",
      "Speed: 0.5ms preprocess, 32.7ms inference, 1.0ms postprocess per image at shape (1, 3, 384, 640)\n",
      "\n",
      "0: 384x640 1 Armaduro, 33.1ms\n",
      "Speed: 0.5ms preprocess, 33.1ms inference, 1.3ms postprocess per image at shape (1, 3, 384, 640)\n"
     ]
    },
    {
     "name": "stderr",
     "output_type": "stream",
     "text": [
      " 14%|█▍        | 310/2158 [00:12<01:10, 26.24it/s]"
     ]
    },
    {
     "name": "stdout",
     "output_type": "stream",
     "text": [
      "\n",
      "0: 384x640 1 Armaduro, 32.8ms\n",
      "Speed: 0.5ms preprocess, 32.8ms inference, 1.0ms postprocess per image at shape (1, 3, 384, 640)\n",
      "\n",
      "0: 384x640 (no detections), 34.3ms\n",
      "Speed: 0.6ms preprocess, 34.3ms inference, 0.6ms postprocess per image at shape (1, 3, 384, 640)\n",
      "\n",
      "0: 384x640 (no detections), 38.7ms\n",
      "Speed: 1.0ms preprocess, 38.7ms inference, 0.6ms postprocess per image at shape (1, 3, 384, 640)\n"
     ]
    },
    {
     "name": "stderr",
     "output_type": "stream",
     "text": [
      " 15%|█▍        | 313/2158 [00:12<01:11, 25.66it/s]"
     ]
    },
    {
     "name": "stdout",
     "output_type": "stream",
     "text": [
      "\n",
      "0: 384x640 (no detections), 35.3ms\n",
      "Speed: 0.6ms preprocess, 35.3ms inference, 0.6ms postprocess per image at shape (1, 3, 384, 640)\n",
      "\n",
      "0: 384x640 (no detections), 34.1ms\n",
      "Speed: 0.7ms preprocess, 34.1ms inference, 0.5ms postprocess per image at shape (1, 3, 384, 640)\n",
      "\n",
      "0: 384x640 (no detections), 33.9ms\n",
      "Speed: 0.6ms preprocess, 33.9ms inference, 0.6ms postprocess per image at shape (1, 3, 384, 640)\n"
     ]
    },
    {
     "name": "stderr",
     "output_type": "stream",
     "text": [
      " 15%|█▍        | 316/2158 [00:12<01:11, 25.61it/s]"
     ]
    },
    {
     "name": "stdout",
     "output_type": "stream",
     "text": [
      "\n",
      "0: 384x640 (no detections), 33.8ms\n",
      "Speed: 0.5ms preprocess, 33.8ms inference, 0.5ms postprocess per image at shape (1, 3, 384, 640)\n",
      "\n",
      "0: 384x640 (no detections), 33.7ms\n",
      "Speed: 0.7ms preprocess, 33.7ms inference, 0.6ms postprocess per image at shape (1, 3, 384, 640)\n",
      "\n",
      "0: 384x640 (no detections), 33.4ms\n",
      "Speed: 0.6ms preprocess, 33.4ms inference, 0.5ms postprocess per image at shape (1, 3, 384, 640)\n"
     ]
    },
    {
     "name": "stderr",
     "output_type": "stream",
     "text": [
      " 15%|█▍        | 319/2158 [00:12<01:11, 25.76it/s]"
     ]
    },
    {
     "name": "stdout",
     "output_type": "stream",
     "text": [
      "\n",
      "0: 384x640 (no detections), 33.4ms\n",
      "Speed: 0.5ms preprocess, 33.4ms inference, 0.5ms postprocess per image at shape (1, 3, 384, 640)\n",
      "\n",
      "0: 384x640 (no detections), 33.8ms\n",
      "Speed: 0.9ms preprocess, 33.8ms inference, 0.5ms postprocess per image at shape (1, 3, 384, 640)\n",
      "\n",
      "0: 384x640 (no detections), 33.5ms\n",
      "Speed: 0.6ms preprocess, 33.5ms inference, 0.6ms postprocess per image at shape (1, 3, 384, 640)\n"
     ]
    },
    {
     "name": "stderr",
     "output_type": "stream",
     "text": [
      " 15%|█▍        | 322/2158 [00:12<01:10, 25.88it/s]"
     ]
    },
    {
     "name": "stdout",
     "output_type": "stream",
     "text": [
      "\n",
      "0: 384x640 (no detections), 33.5ms\n",
      "Speed: 0.5ms preprocess, 33.5ms inference, 0.5ms postprocess per image at shape (1, 3, 384, 640)\n",
      "\n",
      "0: 384x640 (no detections), 33.7ms\n",
      "Speed: 0.7ms preprocess, 33.7ms inference, 0.5ms postprocess per image at shape (1, 3, 384, 640)\n",
      "\n",
      "0: 384x640 (no detections), 33.5ms\n",
      "Speed: 0.7ms preprocess, 33.5ms inference, 0.8ms postprocess per image at shape (1, 3, 384, 640)\n"
     ]
    },
    {
     "name": "stderr",
     "output_type": "stream",
     "text": [
      " 15%|█▌        | 325/2158 [00:12<01:10, 25.94it/s]"
     ]
    },
    {
     "name": "stdout",
     "output_type": "stream",
     "text": [
      "\n",
      "0: 384x640 (no detections), 33.6ms\n",
      "Speed: 0.6ms preprocess, 33.6ms inference, 0.9ms postprocess per image at shape (1, 3, 384, 640)\n",
      "\n",
      "0: 384x640 (no detections), 33.6ms\n",
      "Speed: 0.8ms preprocess, 33.6ms inference, 0.5ms postprocess per image at shape (1, 3, 384, 640)\n",
      "\n",
      "0: 384x640 (no detections), 33.4ms\n",
      "Speed: 0.7ms preprocess, 33.4ms inference, 0.5ms postprocess per image at shape (1, 3, 384, 640)\n"
     ]
    },
    {
     "name": "stderr",
     "output_type": "stream",
     "text": [
      " 15%|█▌        | 328/2158 [00:12<01:10, 25.86it/s]"
     ]
    },
    {
     "name": "stdout",
     "output_type": "stream",
     "text": [
      "\n",
      "0: 384x640 (no detections), 33.4ms\n",
      "Speed: 0.6ms preprocess, 33.4ms inference, 0.5ms postprocess per image at shape (1, 3, 384, 640)\n",
      "\n",
      "0: 384x640 (no detections), 33.6ms\n",
      "Speed: 0.6ms preprocess, 33.6ms inference, 0.5ms postprocess per image at shape (1, 3, 384, 640)\n",
      "\n",
      "0: 384x640 (no detections), 32.9ms\n",
      "Speed: 1.0ms preprocess, 32.9ms inference, 0.5ms postprocess per image at shape (1, 3, 384, 640)\n"
     ]
    },
    {
     "name": "stderr",
     "output_type": "stream",
     "text": [
      " 15%|█▌        | 331/2158 [00:12<01:10, 26.01it/s]"
     ]
    },
    {
     "name": "stdout",
     "output_type": "stream",
     "text": [
      "\n",
      "0: 384x640 (no detections), 32.6ms\n",
      "Speed: 0.5ms preprocess, 32.6ms inference, 0.6ms postprocess per image at shape (1, 3, 384, 640)\n",
      "\n",
      "0: 384x640 (no detections), 32.7ms\n",
      "Speed: 0.6ms preprocess, 32.7ms inference, 0.5ms postprocess per image at shape (1, 3, 384, 640)\n",
      "\n",
      "0: 384x640 1 Armaduro, 1 Selvalegre, 32.7ms\n",
      "Speed: 0.6ms preprocess, 32.7ms inference, 1.0ms postprocess per image at shape (1, 3, 384, 640)\n"
     ]
    },
    {
     "name": "stderr",
     "output_type": "stream",
     "text": [
      " 15%|█▌        | 334/2158 [00:12<01:09, 26.17it/s]"
     ]
    },
    {
     "name": "stdout",
     "output_type": "stream",
     "text": [
      "\n",
      "0: 384x640 1 Armaduro, 32.5ms\n",
      "Speed: 0.7ms preprocess, 32.5ms inference, 1.0ms postprocess per image at shape (1, 3, 384, 640)\n",
      "\n",
      "0: 384x640 1 Armaduro, 32.7ms\n",
      "Speed: 0.5ms preprocess, 32.7ms inference, 1.0ms postprocess per image at shape (1, 3, 384, 640)\n",
      "\n",
      "0: 384x640 1 Armaduro, 32.6ms\n",
      "Speed: 0.6ms preprocess, 32.6ms inference, 1.0ms postprocess per image at shape (1, 3, 384, 640)\n"
     ]
    },
    {
     "name": "stderr",
     "output_type": "stream",
     "text": [
      " 16%|█▌        | 337/2158 [00:13<01:09, 26.15it/s]"
     ]
    },
    {
     "name": "stdout",
     "output_type": "stream",
     "text": [
      "\n",
      "0: 384x640 1 Armaduro, 32.6ms\n",
      "Speed: 0.6ms preprocess, 32.6ms inference, 1.1ms postprocess per image at shape (1, 3, 384, 640)\n",
      "\n",
      "0: 384x640 1 Armaduro, 32.6ms\n",
      "Speed: 0.5ms preprocess, 32.6ms inference, 1.1ms postprocess per image at shape (1, 3, 384, 640)\n",
      "\n",
      "0: 384x640 1 Armaduro, 32.6ms\n",
      "Speed: 0.5ms preprocess, 32.6ms inference, 1.8ms postprocess per image at shape (1, 3, 384, 640)\n"
     ]
    },
    {
     "name": "stderr",
     "output_type": "stream",
     "text": [
      " 16%|█▌        | 340/2158 [00:13<01:09, 26.02it/s]"
     ]
    },
    {
     "name": "stdout",
     "output_type": "stream",
     "text": [
      "\n",
      "0: 384x640 1 Armaduro, 32.6ms\n",
      "Speed: 0.6ms preprocess, 32.6ms inference, 1.1ms postprocess per image at shape (1, 3, 384, 640)\n",
      "\n",
      "0: 384x640 1 Armaduro, 32.7ms\n",
      "Speed: 0.6ms preprocess, 32.7ms inference, 1.1ms postprocess per image at shape (1, 3, 384, 640)\n",
      "\n",
      "0: 384x640 (no detections), 32.6ms\n",
      "Speed: 0.5ms preprocess, 32.6ms inference, 0.5ms postprocess per image at shape (1, 3, 384, 640)\n"
     ]
    },
    {
     "name": "stderr",
     "output_type": "stream",
     "text": [
      " 16%|█▌        | 343/2158 [00:13<01:09, 26.10it/s]"
     ]
    },
    {
     "name": "stdout",
     "output_type": "stream",
     "text": [
      "\n",
      "0: 384x640 1 Armaduro, 32.7ms\n",
      "Speed: 0.6ms preprocess, 32.7ms inference, 1.0ms postprocess per image at shape (1, 3, 384, 640)\n",
      "\n",
      "0: 384x640 (no detections), 32.6ms\n",
      "Speed: 0.6ms preprocess, 32.6ms inference, 0.5ms postprocess per image at shape (1, 3, 384, 640)\n",
      "\n",
      "0: 384x640 (no detections), 32.7ms\n",
      "Speed: 0.6ms preprocess, 32.7ms inference, 0.5ms postprocess per image at shape (1, 3, 384, 640)\n"
     ]
    },
    {
     "name": "stderr",
     "output_type": "stream",
     "text": [
      " 16%|█▌        | 346/2158 [00:13<01:09, 26.24it/s]"
     ]
    },
    {
     "name": "stdout",
     "output_type": "stream",
     "text": [
      "\n",
      "0: 384x640 (no detections), 32.7ms\n",
      "Speed: 0.5ms preprocess, 32.7ms inference, 0.5ms postprocess per image at shape (1, 3, 384, 640)\n",
      "\n",
      "0: 384x640 (no detections), 32.6ms\n",
      "Speed: 0.6ms preprocess, 32.6ms inference, 0.5ms postprocess per image at shape (1, 3, 384, 640)\n",
      "\n",
      "0: 384x640 (no detections), 32.8ms\n",
      "Speed: 0.7ms preprocess, 32.8ms inference, 0.7ms postprocess per image at shape (1, 3, 384, 640)\n"
     ]
    },
    {
     "name": "stderr",
     "output_type": "stream",
     "text": [
      " 16%|█▌        | 349/2158 [00:13<01:08, 26.38it/s]"
     ]
    },
    {
     "name": "stdout",
     "output_type": "stream",
     "text": [
      "\n",
      "0: 384x640 (no detections), 32.6ms\n",
      "Speed: 0.6ms preprocess, 32.6ms inference, 0.6ms postprocess per image at shape (1, 3, 384, 640)\n",
      "\n",
      "0: 384x640 (no detections), 32.5ms\n",
      "Speed: 0.6ms preprocess, 32.5ms inference, 0.5ms postprocess per image at shape (1, 3, 384, 640)\n",
      "\n",
      "0: 384x640 (no detections), 32.5ms\n",
      "Speed: 0.5ms preprocess, 32.5ms inference, 0.5ms postprocess per image at shape (1, 3, 384, 640)\n"
     ]
    },
    {
     "name": "stderr",
     "output_type": "stream",
     "text": [
      " 16%|█▋        | 352/2158 [00:13<01:08, 26.53it/s]"
     ]
    },
    {
     "name": "stdout",
     "output_type": "stream",
     "text": [
      "\n",
      "0: 384x640 (no detections), 32.4ms\n",
      "Speed: 0.7ms preprocess, 32.4ms inference, 0.8ms postprocess per image at shape (1, 3, 384, 640)\n",
      "\n",
      "0: 384x640 (no detections), 32.7ms\n",
      "Speed: 0.6ms preprocess, 32.7ms inference, 0.5ms postprocess per image at shape (1, 3, 384, 640)\n",
      "\n",
      "0: 384x640 (no detections), 32.5ms\n",
      "Speed: 0.6ms preprocess, 32.5ms inference, 0.5ms postprocess per image at shape (1, 3, 384, 640)\n"
     ]
    },
    {
     "name": "stderr",
     "output_type": "stream",
     "text": [
      " 16%|█▋        | 355/2158 [00:13<01:07, 26.64it/s]"
     ]
    },
    {
     "name": "stdout",
     "output_type": "stream",
     "text": [
      "\n",
      "0: 384x640 (no detections), 32.5ms\n",
      "Speed: 0.6ms preprocess, 32.5ms inference, 0.5ms postprocess per image at shape (1, 3, 384, 640)\n",
      "\n",
      "0: 384x640 (no detections), 32.2ms\n",
      "Speed: 0.6ms preprocess, 32.2ms inference, 0.5ms postprocess per image at shape (1, 3, 384, 640)\n",
      "\n",
      "0: 384x640 (no detections), 32.4ms\n",
      "Speed: 0.7ms preprocess, 32.4ms inference, 0.7ms postprocess per image at shape (1, 3, 384, 640)\n"
     ]
    },
    {
     "name": "stderr",
     "output_type": "stream",
     "text": [
      " 17%|█▋        | 358/2158 [00:13<01:07, 26.74it/s]"
     ]
    },
    {
     "name": "stdout",
     "output_type": "stream",
     "text": [
      "\n",
      "0: 384x640 (no detections), 32.4ms\n",
      "Speed: 0.6ms preprocess, 32.4ms inference, 1.5ms postprocess per image at shape (1, 3, 384, 640)\n",
      "\n",
      "0: 384x640 (no detections), 32.5ms\n",
      "Speed: 1.1ms preprocess, 32.5ms inference, 0.5ms postprocess per image at shape (1, 3, 384, 640)\n",
      "\n",
      "0: 384x640 (no detections), 32.4ms\n",
      "Speed: 0.6ms preprocess, 32.4ms inference, 0.5ms postprocess per image at shape (1, 3, 384, 640)\n"
     ]
    },
    {
     "name": "stderr",
     "output_type": "stream",
     "text": [
      " 17%|█▋        | 361/2158 [00:13<01:07, 26.58it/s]"
     ]
    },
    {
     "name": "stdout",
     "output_type": "stream",
     "text": [
      "\n",
      "0: 384x640 (no detections), 32.4ms\n",
      "Speed: 0.6ms preprocess, 32.4ms inference, 0.5ms postprocess per image at shape (1, 3, 384, 640)\n",
      "\n",
      "0: 384x640 (no detections), 32.6ms\n",
      "Speed: 0.6ms preprocess, 32.6ms inference, 0.5ms postprocess per image at shape (1, 3, 384, 640)\n",
      "\n",
      "0: 384x640 (no detections), 32.7ms\n",
      "Speed: 0.6ms preprocess, 32.7ms inference, 0.5ms postprocess per image at shape (1, 3, 384, 640)\n"
     ]
    },
    {
     "name": "stderr",
     "output_type": "stream",
     "text": [
      " 17%|█▋        | 364/2158 [00:14<01:07, 26.68it/s]"
     ]
    },
    {
     "name": "stdout",
     "output_type": "stream",
     "text": [
      "\n",
      "0: 384x640 (no detections), 32.3ms\n",
      "Speed: 0.7ms preprocess, 32.3ms inference, 0.8ms postprocess per image at shape (1, 3, 384, 640)\n",
      "\n",
      "0: 384x640 (no detections), 32.6ms\n",
      "Speed: 0.6ms preprocess, 32.6ms inference, 0.5ms postprocess per image at shape (1, 3, 384, 640)\n",
      "\n",
      "0: 384x640 (no detections), 32.4ms\n",
      "Speed: 0.6ms preprocess, 32.4ms inference, 0.5ms postprocess per image at shape (1, 3, 384, 640)\n"
     ]
    },
    {
     "name": "stderr",
     "output_type": "stream",
     "text": [
      " 17%|█▋        | 367/2158 [00:14<01:06, 26.80it/s]"
     ]
    },
    {
     "name": "stdout",
     "output_type": "stream",
     "text": [
      "\n",
      "0: 384x640 (no detections), 32.4ms\n",
      "Speed: 0.6ms preprocess, 32.4ms inference, 0.5ms postprocess per image at shape (1, 3, 384, 640)\n",
      "\n",
      "0: 384x640 (no detections), 32.5ms\n",
      "Speed: 0.6ms preprocess, 32.5ms inference, 0.5ms postprocess per image at shape (1, 3, 384, 640)\n",
      "\n",
      "0: 384x640 (no detections), 32.5ms\n",
      "Speed: 0.7ms preprocess, 32.5ms inference, 0.5ms postprocess per image at shape (1, 3, 384, 640)\n"
     ]
    },
    {
     "name": "stderr",
     "output_type": "stream",
     "text": [
      " 17%|█▋        | 370/2158 [00:14<01:06, 26.86it/s]"
     ]
    },
    {
     "name": "stdout",
     "output_type": "stream",
     "text": [
      "\n",
      "0: 384x640 (no detections), 32.7ms\n",
      "Speed: 0.7ms preprocess, 32.7ms inference, 0.5ms postprocess per image at shape (1, 3, 384, 640)\n",
      "\n",
      "0: 384x640 (no detections), 32.6ms\n",
      "Speed: 0.6ms preprocess, 32.6ms inference, 0.5ms postprocess per image at shape (1, 3, 384, 640)\n",
      "\n",
      "0: 384x640 (no detections), 33.0ms\n",
      "Speed: 0.5ms preprocess, 33.0ms inference, 0.5ms postprocess per image at shape (1, 3, 384, 640)\n"
     ]
    },
    {
     "name": "stderr",
     "output_type": "stream",
     "text": [
      " 17%|█▋        | 373/2158 [00:14<01:06, 26.83it/s]"
     ]
    },
    {
     "name": "stdout",
     "output_type": "stream",
     "text": [
      "\n",
      "0: 384x640 (no detections), 32.6ms\n",
      "Speed: 0.7ms preprocess, 32.6ms inference, 0.6ms postprocess per image at shape (1, 3, 384, 640)\n",
      "\n",
      "0: 384x640 (no detections), 32.5ms\n",
      "Speed: 0.6ms preprocess, 32.5ms inference, 0.7ms postprocess per image at shape (1, 3, 384, 640)\n",
      "\n",
      "0: 384x640 (no detections), 32.5ms\n",
      "Speed: 0.6ms preprocess, 32.5ms inference, 0.5ms postprocess per image at shape (1, 3, 384, 640)\n"
     ]
    },
    {
     "name": "stderr",
     "output_type": "stream",
     "text": [
      " 17%|█▋        | 376/2158 [00:14<01:06, 26.84it/s]"
     ]
    },
    {
     "name": "stdout",
     "output_type": "stream",
     "text": [
      "\n",
      "0: 384x640 (no detections), 32.5ms\n",
      "Speed: 0.6ms preprocess, 32.5ms inference, 0.5ms postprocess per image at shape (1, 3, 384, 640)\n",
      "\n",
      "0: 384x640 (no detections), 32.6ms\n",
      "Speed: 0.6ms preprocess, 32.6ms inference, 0.5ms postprocess per image at shape (1, 3, 384, 640)\n",
      "\n",
      "0: 384x640 (no detections), 32.5ms\n",
      "Speed: 0.6ms preprocess, 32.5ms inference, 0.6ms postprocess per image at shape (1, 3, 384, 640)\n"
     ]
    },
    {
     "name": "stderr",
     "output_type": "stream",
     "text": [
      " 18%|█▊        | 379/2158 [00:14<01:06, 26.91it/s]"
     ]
    },
    {
     "name": "stdout",
     "output_type": "stream",
     "text": [
      "\n",
      "0: 384x640 (no detections), 32.6ms\n",
      "Speed: 0.6ms preprocess, 32.6ms inference, 0.8ms postprocess per image at shape (1, 3, 384, 640)\n",
      "\n",
      "0: 384x640 (no detections), 32.6ms\n",
      "Speed: 0.6ms preprocess, 32.6ms inference, 0.5ms postprocess per image at shape (1, 3, 384, 640)\n",
      "\n",
      "0: 384x640 (no detections), 32.6ms\n",
      "Speed: 0.6ms preprocess, 32.6ms inference, 0.5ms postprocess per image at shape (1, 3, 384, 640)\n"
     ]
    },
    {
     "name": "stderr",
     "output_type": "stream",
     "text": [
      " 18%|█▊        | 382/2158 [00:14<01:05, 26.94it/s]"
     ]
    },
    {
     "name": "stdout",
     "output_type": "stream",
     "text": [
      "\n",
      "0: 384x640 (no detections), 32.5ms\n",
      "Speed: 0.6ms preprocess, 32.5ms inference, 0.6ms postprocess per image at shape (1, 3, 384, 640)\n",
      "\n",
      "0: 384x640 (no detections), 32.4ms\n",
      "Speed: 0.6ms preprocess, 32.4ms inference, 0.5ms postprocess per image at shape (1, 3, 384, 640)\n",
      "\n",
      "0: 384x640 (no detections), 32.5ms\n",
      "Speed: 0.6ms preprocess, 32.5ms inference, 0.5ms postprocess per image at shape (1, 3, 384, 640)\n"
     ]
    },
    {
     "name": "stderr",
     "output_type": "stream",
     "text": [
      " 18%|█▊        | 385/2158 [00:14<01:05, 26.97it/s]"
     ]
    },
    {
     "name": "stdout",
     "output_type": "stream",
     "text": [
      "\n",
      "0: 384x640 (no detections), 32.5ms\n",
      "Speed: 0.6ms preprocess, 32.5ms inference, 0.5ms postprocess per image at shape (1, 3, 384, 640)\n",
      "\n",
      "0: 384x640 (no detections), 32.5ms\n",
      "Speed: 0.6ms preprocess, 32.5ms inference, 0.5ms postprocess per image at shape (1, 3, 384, 640)\n",
      "\n",
      "0: 384x640 (no detections), 32.4ms\n",
      "Speed: 0.7ms preprocess, 32.4ms inference, 0.7ms postprocess per image at shape (1, 3, 384, 640)\n"
     ]
    },
    {
     "name": "stderr",
     "output_type": "stream",
     "text": [
      " 18%|█▊        | 388/2158 [00:14<01:05, 26.99it/s]"
     ]
    },
    {
     "name": "stdout",
     "output_type": "stream",
     "text": [
      "\n",
      "0: 384x640 (no detections), 32.5ms\n",
      "Speed: 0.6ms preprocess, 32.5ms inference, 0.8ms postprocess per image at shape (1, 3, 384, 640)\n",
      "\n",
      "0: 384x640 (no detections), 32.5ms\n",
      "Speed: 0.7ms preprocess, 32.5ms inference, 0.5ms postprocess per image at shape (1, 3, 384, 640)\n",
      "\n",
      "0: 384x640 (no detections), 32.4ms\n",
      "Speed: 0.6ms preprocess, 32.4ms inference, 0.5ms postprocess per image at shape (1, 3, 384, 640)\n"
     ]
    },
    {
     "name": "stderr",
     "output_type": "stream",
     "text": [
      " 18%|█▊        | 391/2158 [00:15<01:05, 27.00it/s]"
     ]
    },
    {
     "name": "stdout",
     "output_type": "stream",
     "text": [
      "\n",
      "0: 384x640 (no detections), 32.2ms\n",
      "Speed: 0.7ms preprocess, 32.2ms inference, 0.6ms postprocess per image at shape (1, 3, 384, 640)\n",
      "\n",
      "0: 384x640 (no detections), 32.5ms\n",
      "Speed: 0.7ms preprocess, 32.5ms inference, 0.5ms postprocess per image at shape (1, 3, 384, 640)\n",
      "\n",
      "0: 384x640 (no detections), 32.5ms\n",
      "Speed: 0.6ms preprocess, 32.5ms inference, 0.5ms postprocess per image at shape (1, 3, 384, 640)\n"
     ]
    },
    {
     "name": "stderr",
     "output_type": "stream",
     "text": [
      " 18%|█▊        | 394/2158 [00:15<01:05, 27.03it/s]"
     ]
    },
    {
     "name": "stdout",
     "output_type": "stream",
     "text": [
      "\n",
      "0: 384x640 (no detections), 32.5ms\n",
      "Speed: 0.5ms preprocess, 32.5ms inference, 0.5ms postprocess per image at shape (1, 3, 384, 640)\n",
      "\n",
      "0: 384x640 (no detections), 32.5ms\n",
      "Speed: 0.6ms preprocess, 32.5ms inference, 0.5ms postprocess per image at shape (1, 3, 384, 640)\n",
      "\n",
      "0: 384x640 (no detections), 32.4ms\n",
      "Speed: 0.7ms preprocess, 32.4ms inference, 0.5ms postprocess per image at shape (1, 3, 384, 640)\n"
     ]
    },
    {
     "name": "stderr",
     "output_type": "stream",
     "text": [
      " 18%|█▊        | 397/2158 [00:15<01:05, 27.04it/s]"
     ]
    },
    {
     "name": "stdout",
     "output_type": "stream",
     "text": [
      "\n",
      "0: 384x640 (no detections), 32.4ms\n",
      "Speed: 0.6ms preprocess, 32.4ms inference, 0.5ms postprocess per image at shape (1, 3, 384, 640)\n",
      "\n",
      "0: 384x640 (no detections), 32.6ms\n",
      "Speed: 0.6ms preprocess, 32.6ms inference, 0.5ms postprocess per image at shape (1, 3, 384, 640)\n",
      "\n",
      "0: 384x640 (no detections), 32.6ms\n",
      "Speed: 0.6ms preprocess, 32.6ms inference, 0.5ms postprocess per image at shape (1, 3, 384, 640)\n"
     ]
    },
    {
     "name": "stderr",
     "output_type": "stream",
     "text": [
      " 19%|█▊        | 400/2158 [00:15<01:04, 27.07it/s]"
     ]
    },
    {
     "name": "stdout",
     "output_type": "stream",
     "text": [
      "\n",
      "0: 384x640 1 Armaduro, 32.3ms\n",
      "Speed: 0.6ms preprocess, 32.3ms inference, 1.3ms postprocess per image at shape (1, 3, 384, 640)\n",
      "\n",
      "0: 384x640 1 Armaduro, 32.6ms\n",
      "Speed: 0.5ms preprocess, 32.6ms inference, 1.8ms postprocess per image at shape (1, 3, 384, 640)\n",
      "\n",
      "0: 384x640 1 Armaduro, 32.4ms\n",
      "Speed: 0.5ms preprocess, 32.4ms inference, 1.0ms postprocess per image at shape (1, 3, 384, 640)\n"
     ]
    },
    {
     "name": "stderr",
     "output_type": "stream",
     "text": [
      " 19%|█▊        | 403/2158 [00:15<01:05, 26.73it/s]"
     ]
    },
    {
     "name": "stdout",
     "output_type": "stream",
     "text": [
      "\n",
      "0: 384x640 1 Armaduro, 32.4ms\n",
      "Speed: 0.6ms preprocess, 32.4ms inference, 1.0ms postprocess per image at shape (1, 3, 384, 640)\n",
      "\n",
      "0: 384x640 1 Armaduro, 32.6ms\n",
      "Speed: 0.7ms preprocess, 32.6ms inference, 1.0ms postprocess per image at shape (1, 3, 384, 640)\n",
      "\n",
      "0: 384x640 1 Armaduro, 32.5ms\n",
      "Speed: 0.5ms preprocess, 32.5ms inference, 1.0ms postprocess per image at shape (1, 3, 384, 640)\n"
     ]
    },
    {
     "name": "stderr",
     "output_type": "stream",
     "text": [
      " 19%|█▉        | 406/2158 [00:15<01:05, 26.56it/s]"
     ]
    },
    {
     "name": "stdout",
     "output_type": "stream",
     "text": [
      "\n",
      "0: 384x640 1 Armaduro, 32.6ms\n",
      "Speed: 0.5ms preprocess, 32.6ms inference, 1.0ms postprocess per image at shape (1, 3, 384, 640)\n",
      "\n",
      "0: 384x640 1 Armaduro, 32.5ms\n",
      "Speed: 0.7ms preprocess, 32.5ms inference, 1.1ms postprocess per image at shape (1, 3, 384, 640)\n",
      "\n",
      "0: 384x640 1 Armaduro, 32.5ms\n",
      "Speed: 0.5ms preprocess, 32.5ms inference, 1.0ms postprocess per image at shape (1, 3, 384, 640)\n"
     ]
    },
    {
     "name": "stderr",
     "output_type": "stream",
     "text": [
      " 19%|█▉        | 409/2158 [00:15<01:06, 26.43it/s]"
     ]
    },
    {
     "name": "stdout",
     "output_type": "stream",
     "text": [
      "\n",
      "0: 384x640 1 Armaduro, 32.4ms\n",
      "Speed: 0.6ms preprocess, 32.4ms inference, 1.0ms postprocess per image at shape (1, 3, 384, 640)\n",
      "\n",
      "0: 384x640 1 Armaduro, 32.4ms\n",
      "Speed: 0.6ms preprocess, 32.4ms inference, 2.1ms postprocess per image at shape (1, 3, 384, 640)\n",
      "\n",
      "0: 384x640 1 Armaduro, 32.4ms\n",
      "Speed: 0.6ms preprocess, 32.4ms inference, 1.0ms postprocess per image at shape (1, 3, 384, 640)\n"
     ]
    },
    {
     "name": "stderr",
     "output_type": "stream",
     "text": [
      " 19%|█▉        | 412/2158 [00:15<01:06, 26.32it/s]"
     ]
    },
    {
     "name": "stdout",
     "output_type": "stream",
     "text": [
      "\n",
      "0: 384x640 1 Armaduro, 32.5ms\n",
      "Speed: 0.6ms preprocess, 32.5ms inference, 1.9ms postprocess per image at shape (1, 3, 384, 640)\n",
      "\n",
      "0: 384x640 1 Armaduro, 32.4ms\n",
      "Speed: 0.5ms preprocess, 32.4ms inference, 1.0ms postprocess per image at shape (1, 3, 384, 640)\n",
      "\n",
      "0: 384x640 1 Armaduro, 32.4ms\n",
      "Speed: 0.7ms preprocess, 32.4ms inference, 1.1ms postprocess per image at shape (1, 3, 384, 640)\n"
     ]
    },
    {
     "name": "stderr",
     "output_type": "stream",
     "text": [
      " 19%|█▉        | 415/2158 [00:15<01:06, 26.22it/s]"
     ]
    },
    {
     "name": "stdout",
     "output_type": "stream",
     "text": [
      "\n",
      "0: 384x640 1 Armaduro, 32.4ms\n",
      "Speed: 0.5ms preprocess, 32.4ms inference, 1.1ms postprocess per image at shape (1, 3, 384, 640)\n",
      "\n",
      "0: 384x640 1 Armaduro, 32.4ms\n",
      "Speed: 0.5ms preprocess, 32.4ms inference, 1.0ms postprocess per image at shape (1, 3, 384, 640)\n",
      "\n",
      "0: 384x640 1 Armaduro, 32.2ms\n",
      "Speed: 0.7ms preprocess, 32.2ms inference, 1.2ms postprocess per image at shape (1, 3, 384, 640)\n"
     ]
    },
    {
     "name": "stderr",
     "output_type": "stream",
     "text": [
      " 19%|█▉        | 418/2158 [00:16<01:06, 26.25it/s]"
     ]
    },
    {
     "name": "stdout",
     "output_type": "stream",
     "text": [
      "\n",
      "0: 384x640 1 Armaduro, 32.5ms\n",
      "Speed: 0.6ms preprocess, 32.5ms inference, 1.7ms postprocess per image at shape (1, 3, 384, 640)\n",
      "\n",
      "0: 384x640 1 Armaduro, 32.5ms\n",
      "Speed: 0.7ms preprocess, 32.5ms inference, 1.0ms postprocess per image at shape (1, 3, 384, 640)\n",
      "\n",
      "0: 384x640 1 Armaduro, 32.5ms\n",
      "Speed: 0.5ms preprocess, 32.5ms inference, 1.0ms postprocess per image at shape (1, 3, 384, 640)\n"
     ]
    },
    {
     "name": "stderr",
     "output_type": "stream",
     "text": [
      " 20%|█▉        | 421/2158 [00:16<01:06, 26.22it/s]"
     ]
    },
    {
     "name": "stdout",
     "output_type": "stream",
     "text": [
      "\n",
      "0: 384x640 1 Armaduro, 32.4ms\n",
      "Speed: 0.6ms preprocess, 32.4ms inference, 1.0ms postprocess per image at shape (1, 3, 384, 640)\n",
      "\n",
      "0: 384x640 1 Armaduro, 32.4ms\n",
      "Speed: 0.5ms preprocess, 32.4ms inference, 1.0ms postprocess per image at shape (1, 3, 384, 640)\n",
      "\n",
      "0: 384x640 1 Armaduro, 32.4ms\n",
      "Speed: 0.5ms preprocess, 32.4ms inference, 1.0ms postprocess per image at shape (1, 3, 384, 640)\n"
     ]
    },
    {
     "name": "stderr",
     "output_type": "stream",
     "text": [
      " 20%|█▉        | 424/2158 [00:16<01:05, 26.30it/s]"
     ]
    },
    {
     "name": "stdout",
     "output_type": "stream",
     "text": [
      "\n",
      "0: 384x640 1 Armaduro, 32.4ms\n",
      "Speed: 0.8ms preprocess, 32.4ms inference, 1.0ms postprocess per image at shape (1, 3, 384, 640)\n",
      "\n",
      "0: 384x640 1 Armaduro, 32.4ms\n",
      "Speed: 0.7ms preprocess, 32.4ms inference, 1.8ms postprocess per image at shape (1, 3, 384, 640)\n",
      "\n",
      "0: 384x640 1 Armaduro, 32.4ms\n",
      "Speed: 0.5ms preprocess, 32.4ms inference, 1.0ms postprocess per image at shape (1, 3, 384, 640)\n"
     ]
    },
    {
     "name": "stderr",
     "output_type": "stream",
     "text": [
      " 20%|█▉        | 427/2158 [00:16<01:06, 26.19it/s]"
     ]
    },
    {
     "name": "stdout",
     "output_type": "stream",
     "text": [
      "\n",
      "0: 384x640 1 Armaduro, 32.5ms\n",
      "Speed: 0.5ms preprocess, 32.5ms inference, 1.0ms postprocess per image at shape (1, 3, 384, 640)\n",
      "\n",
      "0: 384x640 1 Armaduro, 32.4ms\n",
      "Speed: 0.6ms preprocess, 32.4ms inference, 1.0ms postprocess per image at shape (1, 3, 384, 640)\n",
      "\n",
      "0: 384x640 1 Armaduro, 32.4ms\n",
      "Speed: 0.5ms preprocess, 32.4ms inference, 1.0ms postprocess per image at shape (1, 3, 384, 640)\n"
     ]
    },
    {
     "name": "stderr",
     "output_type": "stream",
     "text": [
      " 20%|█▉        | 430/2158 [00:16<01:05, 26.23it/s]"
     ]
    },
    {
     "name": "stdout",
     "output_type": "stream",
     "text": [
      "\n",
      "0: 384x640 1 Armaduro, 32.5ms\n",
      "Speed: 0.6ms preprocess, 32.5ms inference, 1.0ms postprocess per image at shape (1, 3, 384, 640)\n",
      "\n",
      "0: 384x640 1 Armaduro, 32.4ms\n",
      "Speed: 0.7ms preprocess, 32.4ms inference, 1.1ms postprocess per image at shape (1, 3, 384, 640)\n",
      "\n",
      "0: 384x640 1 Armaduro, 32.4ms\n",
      "Speed: 0.6ms preprocess, 32.4ms inference, 1.8ms postprocess per image at shape (1, 3, 384, 640)\n"
     ]
    },
    {
     "name": "stderr",
     "output_type": "stream",
     "text": [
      " 20%|██        | 433/2158 [00:16<01:06, 26.08it/s]"
     ]
    },
    {
     "name": "stdout",
     "output_type": "stream",
     "text": [
      "\n",
      "0: 384x640 1 Armaduro, 32.4ms\n",
      "Speed: 0.6ms preprocess, 32.4ms inference, 1.0ms postprocess per image at shape (1, 3, 384, 640)\n",
      "\n",
      "0: 384x640 1 Armaduro, 32.6ms\n",
      "Speed: 0.7ms preprocess, 32.6ms inference, 1.8ms postprocess per image at shape (1, 3, 384, 640)\n",
      "\n",
      "0: 384x640 1 Armaduro, 32.5ms\n",
      "Speed: 0.5ms preprocess, 32.5ms inference, 1.8ms postprocess per image at shape (1, 3, 384, 640)\n"
     ]
    },
    {
     "name": "stderr",
     "output_type": "stream",
     "text": [
      " 20%|██        | 436/2158 [00:16<01:06, 26.01it/s]"
     ]
    },
    {
     "name": "stdout",
     "output_type": "stream",
     "text": [
      "\n",
      "0: 384x640 1 Armaduro, 32.5ms\n",
      "Speed: 0.6ms preprocess, 32.5ms inference, 1.9ms postprocess per image at shape (1, 3, 384, 640)\n",
      "\n",
      "0: 384x640 1 Armaduro, 32.4ms\n",
      "Speed: 0.7ms preprocess, 32.4ms inference, 1.0ms postprocess per image at shape (1, 3, 384, 640)\n",
      "\n",
      "0: 384x640 1 Armaduro, 32.4ms\n",
      "Speed: 0.6ms preprocess, 32.4ms inference, 1.0ms postprocess per image at shape (1, 3, 384, 640)\n"
     ]
    },
    {
     "name": "stderr",
     "output_type": "stream",
     "text": [
      " 20%|██        | 439/2158 [00:16<01:06, 26.01it/s]"
     ]
    },
    {
     "name": "stdout",
     "output_type": "stream",
     "text": [
      "\n",
      "0: 384x640 1 Armaduro, 32.4ms\n",
      "Speed: 0.6ms preprocess, 32.4ms inference, 1.0ms postprocess per image at shape (1, 3, 384, 640)\n",
      "\n",
      "0: 384x640 1 Armaduro, 32.5ms\n",
      "Speed: 0.5ms preprocess, 32.5ms inference, 1.0ms postprocess per image at shape (1, 3, 384, 640)\n",
      "\n",
      "0: 384x640 1 Armaduro, 32.5ms\n",
      "Speed: 0.7ms preprocess, 32.5ms inference, 1.0ms postprocess per image at shape (1, 3, 384, 640)\n"
     ]
    },
    {
     "name": "stderr",
     "output_type": "stream",
     "text": [
      " 20%|██        | 442/2158 [00:17<01:05, 26.11it/s]"
     ]
    },
    {
     "name": "stdout",
     "output_type": "stream",
     "text": [
      "\n",
      "0: 384x640 1 Armaduro, 32.4ms\n",
      "Speed: 0.5ms preprocess, 32.4ms inference, 1.0ms postprocess per image at shape (1, 3, 384, 640)\n",
      "\n",
      "0: 384x640 1 Armaduro, 32.5ms\n",
      "Speed: 0.6ms preprocess, 32.5ms inference, 1.0ms postprocess per image at shape (1, 3, 384, 640)\n",
      "\n",
      "0: 384x640 1 Armaduro, 32.2ms\n",
      "Speed: 0.7ms preprocess, 32.2ms inference, 1.1ms postprocess per image at shape (1, 3, 384, 640)\n"
     ]
    },
    {
     "name": "stderr",
     "output_type": "stream",
     "text": [
      " 21%|██        | 445/2158 [00:17<01:05, 26.13it/s]"
     ]
    },
    {
     "name": "stdout",
     "output_type": "stream",
     "text": [
      "\n",
      "0: 384x640 1 Armaduro, 32.5ms\n",
      "Speed: 0.6ms preprocess, 32.5ms inference, 1.8ms postprocess per image at shape (1, 3, 384, 640)\n",
      "\n",
      "0: 384x640 1 Armaduro, 32.3ms\n",
      "Speed: 0.5ms preprocess, 32.3ms inference, 1.0ms postprocess per image at shape (1, 3, 384, 640)\n",
      "\n",
      "0: 384x640 1 Armaduro, 32.4ms\n",
      "Speed: 0.6ms preprocess, 32.4ms inference, 1.2ms postprocess per image at shape (1, 3, 384, 640)\n"
     ]
    },
    {
     "name": "stderr",
     "output_type": "stream",
     "text": [
      " 21%|██        | 448/2158 [00:17<01:05, 26.10it/s]"
     ]
    },
    {
     "name": "stdout",
     "output_type": "stream",
     "text": [
      "\n",
      "0: 384x640 1 Armaduro, 32.6ms\n",
      "Speed: 0.6ms preprocess, 32.6ms inference, 1.8ms postprocess per image at shape (1, 3, 384, 640)\n",
      "\n",
      "0: 384x640 1 Armaduro, 32.5ms\n",
      "Speed: 0.7ms preprocess, 32.5ms inference, 1.0ms postprocess per image at shape (1, 3, 384, 640)\n",
      "\n",
      "0: 384x640 1 Armaduro, 32.4ms\n",
      "Speed: 0.5ms preprocess, 32.4ms inference, 0.9ms postprocess per image at shape (1, 3, 384, 640)\n"
     ]
    },
    {
     "name": "stderr",
     "output_type": "stream",
     "text": [
      " 21%|██        | 451/2158 [00:17<01:05, 26.06it/s]"
     ]
    },
    {
     "name": "stdout",
     "output_type": "stream",
     "text": [
      "\n",
      "0: 384x640 1 Armaduro, 32.4ms\n",
      "Speed: 0.8ms preprocess, 32.4ms inference, 1.0ms postprocess per image at shape (1, 3, 384, 640)\n",
      "\n",
      "0: 384x640 1 Armaduro, 32.4ms\n",
      "Speed: 0.6ms preprocess, 32.4ms inference, 1.8ms postprocess per image at shape (1, 3, 384, 640)\n",
      "\n",
      "0: 384x640 1 Armaduro, 32.6ms\n",
      "Speed: 0.6ms preprocess, 32.6ms inference, 1.8ms postprocess per image at shape (1, 3, 384, 640)\n"
     ]
    },
    {
     "name": "stderr",
     "output_type": "stream",
     "text": [
      " 21%|██        | 454/2158 [00:17<01:05, 25.94it/s]"
     ]
    },
    {
     "name": "stdout",
     "output_type": "stream",
     "text": [
      "\n",
      "0: 384x640 1 Armaduro, 32.6ms\n",
      "Speed: 0.9ms preprocess, 32.6ms inference, 1.2ms postprocess per image at shape (1, 3, 384, 640)\n",
      "\n",
      "0: 384x640 1 Armaduro, 32.4ms\n",
      "Speed: 0.6ms preprocess, 32.4ms inference, 1.8ms postprocess per image at shape (1, 3, 384, 640)\n",
      "\n",
      "0: 384x640 1 Armaduro, 32.4ms\n",
      "Speed: 0.5ms preprocess, 32.4ms inference, 1.0ms postprocess per image at shape (1, 3, 384, 640)\n"
     ]
    },
    {
     "name": "stderr",
     "output_type": "stream",
     "text": [
      " 21%|██        | 457/2158 [00:17<01:05, 25.89it/s]"
     ]
    },
    {
     "name": "stdout",
     "output_type": "stream",
     "text": [
      "\n",
      "0: 384x640 1 Armaduro, 32.5ms\n",
      "Speed: 0.6ms preprocess, 32.5ms inference, 1.1ms postprocess per image at shape (1, 3, 384, 640)\n",
      "\n",
      "0: 384x640 1 Armaduro, 32.4ms\n",
      "Speed: 0.5ms preprocess, 32.4ms inference, 1.0ms postprocess per image at shape (1, 3, 384, 640)\n",
      "\n",
      "0: 384x640 1 Armaduro, 32.5ms\n",
      "Speed: 0.5ms preprocess, 32.5ms inference, 1.0ms postprocess per image at shape (1, 3, 384, 640)\n"
     ]
    },
    {
     "name": "stderr",
     "output_type": "stream",
     "text": [
      " 21%|██▏       | 460/2158 [00:17<01:05, 26.03it/s]"
     ]
    },
    {
     "name": "stdout",
     "output_type": "stream",
     "text": [
      "\n",
      "0: 384x640 1 Armaduro, 32.4ms\n",
      "Speed: 0.6ms preprocess, 32.4ms inference, 1.0ms postprocess per image at shape (1, 3, 384, 640)\n",
      "\n",
      "0: 384x640 1 Armaduro, 32.4ms\n",
      "Speed: 0.6ms preprocess, 32.4ms inference, 1.0ms postprocess per image at shape (1, 3, 384, 640)\n",
      "\n",
      "0: 384x640 1 Armaduro, 32.4ms\n",
      "Speed: 0.5ms preprocess, 32.4ms inference, 1.8ms postprocess per image at shape (1, 3, 384, 640)\n"
     ]
    },
    {
     "name": "stderr",
     "output_type": "stream",
     "text": [
      " 21%|██▏       | 463/2158 [00:17<01:05, 26.03it/s]"
     ]
    },
    {
     "name": "stdout",
     "output_type": "stream",
     "text": [
      "\n",
      "0: 384x640 1 Armaduro, 32.6ms\n",
      "Speed: 0.5ms preprocess, 32.6ms inference, 1.1ms postprocess per image at shape (1, 3, 384, 640)\n",
      "\n",
      "0: 384x640 1 Armaduro, 32.5ms\n",
      "Speed: 0.6ms preprocess, 32.5ms inference, 1.0ms postprocess per image at shape (1, 3, 384, 640)\n",
      "\n",
      "0: 384x640 1 Armaduro, 32.4ms\n",
      "Speed: 0.5ms preprocess, 32.4ms inference, 1.0ms postprocess per image at shape (1, 3, 384, 640)\n"
     ]
    },
    {
     "name": "stderr",
     "output_type": "stream",
     "text": [
      " 22%|██▏       | 466/2158 [00:17<01:04, 26.11it/s]"
     ]
    },
    {
     "name": "stdout",
     "output_type": "stream",
     "text": [
      "\n",
      "0: 384x640 1 Armaduro, 32.4ms\n",
      "Speed: 0.6ms preprocess, 32.4ms inference, 1.0ms postprocess per image at shape (1, 3, 384, 640)\n",
      "\n",
      "0: 384x640 1 Armaduro, 32.4ms\n",
      "Speed: 0.6ms preprocess, 32.4ms inference, 1.0ms postprocess per image at shape (1, 3, 384, 640)\n",
      "\n",
      "0: 384x640 1 Armaduro, 32.5ms\n",
      "Speed: 0.6ms preprocess, 32.5ms inference, 1.0ms postprocess per image at shape (1, 3, 384, 640)\n"
     ]
    },
    {
     "name": "stderr",
     "output_type": "stream",
     "text": [
      " 22%|██▏       | 469/2158 [00:18<01:04, 26.13it/s]"
     ]
    },
    {
     "name": "stdout",
     "output_type": "stream",
     "text": [
      "\n",
      "0: 384x640 1 Armaduro, 32.4ms\n",
      "Speed: 0.5ms preprocess, 32.4ms inference, 1.8ms postprocess per image at shape (1, 3, 384, 640)\n",
      "\n",
      "0: 384x640 1 Armaduro, 32.2ms\n",
      "Speed: 0.8ms preprocess, 32.2ms inference, 1.1ms postprocess per image at shape (1, 3, 384, 640)\n",
      "\n",
      "0: 384x640 1 Armaduro, 32.5ms\n",
      "Speed: 0.5ms preprocess, 32.5ms inference, 1.0ms postprocess per image at shape (1, 3, 384, 640)\n"
     ]
    },
    {
     "name": "stderr",
     "output_type": "stream",
     "text": [
      " 22%|██▏       | 472/2158 [00:18<01:04, 26.13it/s]"
     ]
    },
    {
     "name": "stdout",
     "output_type": "stream",
     "text": [
      "\n",
      "0: 384x640 1 Armaduro, 32.5ms\n",
      "Speed: 0.5ms preprocess, 32.5ms inference, 1.8ms postprocess per image at shape (1, 3, 384, 640)\n",
      "\n",
      "0: 384x640 1 Armaduro, 32.5ms\n",
      "Speed: 0.5ms preprocess, 32.5ms inference, 1.0ms postprocess per image at shape (1, 3, 384, 640)\n",
      "\n",
      "0: 384x640 1 Armaduro, 32.4ms\n",
      "Speed: 0.6ms preprocess, 32.4ms inference, 1.0ms postprocess per image at shape (1, 3, 384, 640)\n"
     ]
    },
    {
     "name": "stderr",
     "output_type": "stream",
     "text": [
      " 22%|██▏       | 475/2158 [00:18<01:04, 26.15it/s]"
     ]
    },
    {
     "name": "stdout",
     "output_type": "stream",
     "text": [
      "\n",
      "0: 384x640 1 Armaduro, 32.6ms\n",
      "Speed: 0.5ms preprocess, 32.6ms inference, 1.1ms postprocess per image at shape (1, 3, 384, 640)\n",
      "\n",
      "0: 384x640 1 Armaduro, 32.4ms\n",
      "Speed: 0.6ms preprocess, 32.4ms inference, 0.9ms postprocess per image at shape (1, 3, 384, 640)\n",
      "\n",
      "0: 384x640 1 Armaduro, 32.5ms\n",
      "Speed: 0.6ms preprocess, 32.5ms inference, 0.9ms postprocess per image at shape (1, 3, 384, 640)\n"
     ]
    },
    {
     "name": "stderr",
     "output_type": "stream",
     "text": [
      " 22%|██▏       | 478/2158 [00:18<01:04, 26.25it/s]"
     ]
    },
    {
     "name": "stdout",
     "output_type": "stream",
     "text": [
      "\n",
      "0: 384x640 1 Armaduro, 32.4ms\n",
      "Speed: 0.5ms preprocess, 32.4ms inference, 1.5ms postprocess per image at shape (1, 3, 384, 640)\n",
      "\n",
      "0: 384x640 1 Armaduro, 32.5ms\n",
      "Speed: 0.6ms preprocess, 32.5ms inference, 1.0ms postprocess per image at shape (1, 3, 384, 640)\n",
      "\n",
      "0: 384x640 1 Armaduro, 32.5ms\n",
      "Speed: 0.5ms preprocess, 32.5ms inference, 1.0ms postprocess per image at shape (1, 3, 384, 640)\n"
     ]
    },
    {
     "name": "stderr",
     "output_type": "stream",
     "text": [
      " 22%|██▏       | 481/2158 [00:18<01:04, 26.06it/s]"
     ]
    },
    {
     "name": "stdout",
     "output_type": "stream",
     "text": [
      "\n",
      "0: 384x640 1 Armaduro, 32.5ms\n",
      "Speed: 0.6ms preprocess, 32.5ms inference, 1.1ms postprocess per image at shape (1, 3, 384, 640)\n",
      "\n",
      "0: 384x640 1 Armaduro, 32.5ms\n",
      "Speed: 0.5ms preprocess, 32.5ms inference, 1.0ms postprocess per image at shape (1, 3, 384, 640)\n",
      "\n",
      "0: 384x640 1 Armaduro, 32.6ms\n",
      "Speed: 0.6ms preprocess, 32.6ms inference, 1.0ms postprocess per image at shape (1, 3, 384, 640)\n"
     ]
    },
    {
     "name": "stderr",
     "output_type": "stream",
     "text": [
      " 22%|██▏       | 484/2158 [00:18<01:04, 26.09it/s]"
     ]
    },
    {
     "name": "stdout",
     "output_type": "stream",
     "text": [
      "\n",
      "0: 384x640 1 Armaduro, 32.4ms\n",
      "Speed: 0.6ms preprocess, 32.4ms inference, 1.0ms postprocess per image at shape (1, 3, 384, 640)\n",
      "\n",
      "0: 384x640 1 Armaduro, 32.4ms\n",
      "Speed: 0.5ms preprocess, 32.4ms inference, 0.9ms postprocess per image at shape (1, 3, 384, 640)\n",
      "\n",
      "0: 384x640 1 Armaduro, 32.4ms\n",
      "Speed: 0.5ms preprocess, 32.4ms inference, 1.0ms postprocess per image at shape (1, 3, 384, 640)\n"
     ]
    },
    {
     "name": "stderr",
     "output_type": "stream",
     "text": [
      " 23%|██▎       | 487/2158 [00:18<01:03, 26.19it/s]"
     ]
    },
    {
     "name": "stdout",
     "output_type": "stream",
     "text": [
      "\n",
      "0: 384x640 1 Armaduro, 32.5ms\n",
      "Speed: 0.5ms preprocess, 32.5ms inference, 1.0ms postprocess per image at shape (1, 3, 384, 640)\n",
      "\n",
      "0: 384x640 1 Armaduro, 32.5ms\n",
      "Speed: 0.6ms preprocess, 32.5ms inference, 1.0ms postprocess per image at shape (1, 3, 384, 640)\n",
      "\n",
      "0: 384x640 1 Armaduro, 32.4ms\n",
      "Speed: 0.6ms preprocess, 32.4ms inference, 1.0ms postprocess per image at shape (1, 3, 384, 640)\n"
     ]
    },
    {
     "name": "stderr",
     "output_type": "stream",
     "text": [
      " 23%|██▎       | 490/2158 [00:18<01:03, 26.24it/s]"
     ]
    },
    {
     "name": "stdout",
     "output_type": "stream",
     "text": [
      "\n",
      "0: 384x640 1 Armaduro, 32.6ms\n",
      "Speed: 0.6ms preprocess, 32.6ms inference, 1.0ms postprocess per image at shape (1, 3, 384, 640)\n",
      "\n",
      "0: 384x640 1 Armaduro, 32.4ms\n",
      "Speed: 0.6ms preprocess, 32.4ms inference, 1.2ms postprocess per image at shape (1, 3, 384, 640)\n",
      "\n",
      "0: 384x640 1 Armaduro, 32.4ms\n",
      "Speed: 0.5ms preprocess, 32.4ms inference, 1.8ms postprocess per image at shape (1, 3, 384, 640)\n"
     ]
    },
    {
     "name": "stderr",
     "output_type": "stream",
     "text": [
      " 23%|██▎       | 493/2158 [00:18<01:03, 26.15it/s]"
     ]
    },
    {
     "name": "stdout",
     "output_type": "stream",
     "text": [
      "\n",
      "0: 384x640 1 Armaduro, 32.5ms\n",
      "Speed: 0.5ms preprocess, 32.5ms inference, 1.0ms postprocess per image at shape (1, 3, 384, 640)\n",
      "\n",
      "0: 384x640 1 Armaduro, 32.2ms\n",
      "Speed: 1.0ms preprocess, 32.2ms inference, 1.4ms postprocess per image at shape (1, 3, 384, 640)\n",
      "\n",
      "0: 384x640 1 Armaduro, 32.5ms\n",
      "Speed: 0.6ms preprocess, 32.5ms inference, 1.0ms postprocess per image at shape (1, 3, 384, 640)\n"
     ]
    },
    {
     "name": "stderr",
     "output_type": "stream",
     "text": [
      " 23%|██▎       | 496/2158 [00:19<01:03, 26.17it/s]"
     ]
    },
    {
     "name": "stdout",
     "output_type": "stream",
     "text": [
      "\n",
      "0: 384x640 1 Armaduro, 32.5ms\n",
      "Speed: 0.5ms preprocess, 32.5ms inference, 1.0ms postprocess per image at shape (1, 3, 384, 640)\n",
      "\n",
      "0: 384x640 1 Armaduro, 32.8ms\n",
      "Speed: 0.6ms preprocess, 32.8ms inference, 1.0ms postprocess per image at shape (1, 3, 384, 640)\n",
      "\n",
      "0: 384x640 1 Armaduro, 32.4ms\n",
      "Speed: 0.6ms preprocess, 32.4ms inference, 1.0ms postprocess per image at shape (1, 3, 384, 640)\n"
     ]
    },
    {
     "name": "stderr",
     "output_type": "stream",
     "text": [
      " 23%|██▎       | 499/2158 [00:19<01:03, 26.15it/s]"
     ]
    },
    {
     "name": "stdout",
     "output_type": "stream",
     "text": [
      "\n",
      "0: 384x640 1 Armaduro, 32.5ms\n",
      "Speed: 0.6ms preprocess, 32.5ms inference, 1.8ms postprocess per image at shape (1, 3, 384, 640)\n",
      "\n",
      "0: 384x640 1 Armaduro, 32.5ms\n",
      "Speed: 0.6ms preprocess, 32.5ms inference, 0.9ms postprocess per image at shape (1, 3, 384, 640)\n",
      "\n",
      "0: 384x640 1 Armaduro, 32.5ms\n",
      "Speed: 0.7ms preprocess, 32.5ms inference, 1.0ms postprocess per image at shape (1, 3, 384, 640)\n"
     ]
    },
    {
     "name": "stderr",
     "output_type": "stream",
     "text": [
      " 23%|██▎       | 502/2158 [00:19<01:03, 26.10it/s]"
     ]
    },
    {
     "name": "stdout",
     "output_type": "stream",
     "text": [
      "\n",
      "0: 384x640 1 Armaduro, 32.6ms\n",
      "Speed: 0.5ms preprocess, 32.6ms inference, 1.0ms postprocess per image at shape (1, 3, 384, 640)\n",
      "\n",
      "0: 384x640 1 Armaduro, 32.5ms\n",
      "Speed: 0.5ms preprocess, 32.5ms inference, 1.0ms postprocess per image at shape (1, 3, 384, 640)\n",
      "\n",
      "0: 384x640 1 Armaduro, 32.5ms\n",
      "Speed: 0.5ms preprocess, 32.5ms inference, 1.1ms postprocess per image at shape (1, 3, 384, 640)\n"
     ]
    },
    {
     "name": "stderr",
     "output_type": "stream",
     "text": [
      " 23%|██▎       | 505/2158 [00:19<01:03, 26.13it/s]"
     ]
    },
    {
     "name": "stdout",
     "output_type": "stream",
     "text": [
      "\n",
      "0: 384x640 1 Armaduro, 32.4ms\n",
      "Speed: 0.6ms preprocess, 32.4ms inference, 1.0ms postprocess per image at shape (1, 3, 384, 640)\n",
      "\n",
      "0: 384x640 1 Armaduro, 32.4ms\n",
      "Speed: 0.6ms preprocess, 32.4ms inference, 0.9ms postprocess per image at shape (1, 3, 384, 640)\n",
      "\n",
      "0: 384x640 1 Armaduro, 32.4ms\n",
      "Speed: 0.6ms preprocess, 32.4ms inference, 1.0ms postprocess per image at shape (1, 3, 384, 640)\n"
     ]
    },
    {
     "name": "stderr",
     "output_type": "stream",
     "text": [
      " 24%|██▎       | 508/2158 [00:19<01:03, 26.18it/s]"
     ]
    },
    {
     "name": "stdout",
     "output_type": "stream",
     "text": [
      "\n",
      "0: 384x640 1 Armaduro, 32.6ms\n",
      "Speed: 0.7ms preprocess, 32.6ms inference, 1.0ms postprocess per image at shape (1, 3, 384, 640)\n",
      "\n",
      "0: 384x640 1 Armaduro, 32.5ms\n",
      "Speed: 0.8ms preprocess, 32.5ms inference, 1.0ms postprocess per image at shape (1, 3, 384, 640)\n",
      "\n",
      "0: 384x640 1 Armaduro, 32.6ms\n",
      "Speed: 0.6ms preprocess, 32.6ms inference, 0.9ms postprocess per image at shape (1, 3, 384, 640)\n"
     ]
    },
    {
     "name": "stderr",
     "output_type": "stream",
     "text": [
      " 24%|██▎       | 511/2158 [00:19<01:03, 26.13it/s]"
     ]
    },
    {
     "name": "stdout",
     "output_type": "stream",
     "text": [
      "\n",
      "0: 384x640 1 Armaduro, 32.6ms\n",
      "Speed: 0.7ms preprocess, 32.6ms inference, 1.0ms postprocess per image at shape (1, 3, 384, 640)\n",
      "\n",
      "0: 384x640 1 Armaduro, 32.6ms\n",
      "Speed: 0.6ms preprocess, 32.6ms inference, 1.0ms postprocess per image at shape (1, 3, 384, 640)\n",
      "\n",
      "0: 384x640 1 Armaduro, 32.5ms\n",
      "Speed: 0.5ms preprocess, 32.5ms inference, 1.0ms postprocess per image at shape (1, 3, 384, 640)\n"
     ]
    },
    {
     "name": "stderr",
     "output_type": "stream",
     "text": [
      " 24%|██▍       | 514/2158 [00:19<01:02, 26.16it/s]"
     ]
    },
    {
     "name": "stdout",
     "output_type": "stream",
     "text": [
      "\n",
      "0: 384x640 1 Armaduro, 32.4ms\n",
      "Speed: 0.6ms preprocess, 32.4ms inference, 1.0ms postprocess per image at shape (1, 3, 384, 640)\n",
      "\n",
      "0: 384x640 1 Armaduro, 32.4ms\n",
      "Speed: 0.7ms preprocess, 32.4ms inference, 1.8ms postprocess per image at shape (1, 3, 384, 640)\n",
      "\n",
      "0: 384x640 1 Armaduro, 32.4ms\n",
      "Speed: 0.5ms preprocess, 32.4ms inference, 1.0ms postprocess per image at shape (1, 3, 384, 640)\n"
     ]
    },
    {
     "name": "stderr",
     "output_type": "stream",
     "text": [
      " 24%|██▍       | 517/2158 [00:19<01:02, 26.10it/s]"
     ]
    },
    {
     "name": "stdout",
     "output_type": "stream",
     "text": [
      "\n",
      "0: 384x640 1 Armaduro, 32.3ms\n",
      "Speed: 0.5ms preprocess, 32.3ms inference, 1.0ms postprocess per image at shape (1, 3, 384, 640)\n",
      "\n",
      "0: 384x640 1 Armaduro, 32.4ms\n",
      "Speed: 0.7ms preprocess, 32.4ms inference, 1.0ms postprocess per image at shape (1, 3, 384, 640)\n",
      "\n",
      "0: 384x640 1 Armaduro, 32.5ms\n",
      "Speed: 0.6ms preprocess, 32.5ms inference, 1.0ms postprocess per image at shape (1, 3, 384, 640)\n"
     ]
    },
    {
     "name": "stderr",
     "output_type": "stream",
     "text": [
      " 24%|██▍       | 520/2158 [00:19<01:02, 26.20it/s]"
     ]
    },
    {
     "name": "stdout",
     "output_type": "stream",
     "text": [
      "\n",
      "0: 384x640 1 Armaduro, 32.4ms\n",
      "Speed: 0.6ms preprocess, 32.4ms inference, 1.0ms postprocess per image at shape (1, 3, 384, 640)\n",
      "\n",
      "0: 384x640 1 Armaduro, 32.4ms\n",
      "Speed: 0.5ms preprocess, 32.4ms inference, 1.0ms postprocess per image at shape (1, 3, 384, 640)\n",
      "\n",
      "0: 384x640 1 Armaduro, 32.4ms\n",
      "Speed: 0.7ms preprocess, 32.4ms inference, 1.0ms postprocess per image at shape (1, 3, 384, 640)\n"
     ]
    },
    {
     "name": "stderr",
     "output_type": "stream",
     "text": [
      " 24%|██▍       | 523/2158 [00:20<01:02, 26.23it/s]"
     ]
    },
    {
     "name": "stdout",
     "output_type": "stream",
     "text": [
      "\n",
      "0: 384x640 1 Armaduro, 32.4ms\n",
      "Speed: 0.6ms preprocess, 32.4ms inference, 1.0ms postprocess per image at shape (1, 3, 384, 640)\n",
      "\n",
      "0: 384x640 1 Armaduro, 32.5ms\n",
      "Speed: 0.5ms preprocess, 32.5ms inference, 1.0ms postprocess per image at shape (1, 3, 384, 640)\n",
      "\n",
      "0: 384x640 1 Armaduro, 32.4ms\n",
      "Speed: 0.7ms preprocess, 32.4ms inference, 1.0ms postprocess per image at shape (1, 3, 384, 640)\n"
     ]
    },
    {
     "name": "stderr",
     "output_type": "stream",
     "text": [
      " 24%|██▍       | 526/2158 [00:20<01:02, 26.24it/s]"
     ]
    },
    {
     "name": "stdout",
     "output_type": "stream",
     "text": [
      "\n",
      "0: 384x640 1 Armaduro, 32.4ms\n",
      "Speed: 0.6ms preprocess, 32.4ms inference, 1.0ms postprocess per image at shape (1, 3, 384, 640)\n",
      "\n",
      "0: 384x640 1 Armaduro, 32.4ms\n",
      "Speed: 0.6ms preprocess, 32.4ms inference, 1.0ms postprocess per image at shape (1, 3, 384, 640)\n",
      "\n",
      "0: 384x640 1 Armaduro, 32.4ms\n",
      "Speed: 0.5ms preprocess, 32.4ms inference, 1.0ms postprocess per image at shape (1, 3, 384, 640)\n"
     ]
    },
    {
     "name": "stderr",
     "output_type": "stream",
     "text": [
      " 25%|██▍       | 529/2158 [00:20<01:02, 26.25it/s]"
     ]
    },
    {
     "name": "stdout",
     "output_type": "stream",
     "text": [
      "\n",
      "0: 384x640 1 Armaduro, 32.5ms\n",
      "Speed: 0.6ms preprocess, 32.5ms inference, 1.0ms postprocess per image at shape (1, 3, 384, 640)\n",
      "\n",
      "0: 384x640 1 Armaduro, 32.4ms\n",
      "Speed: 0.6ms preprocess, 32.4ms inference, 0.9ms postprocess per image at shape (1, 3, 384, 640)\n",
      "\n",
      "0: 384x640 1 Armaduro, 32.4ms\n",
      "Speed: 0.6ms preprocess, 32.4ms inference, 1.0ms postprocess per image at shape (1, 3, 384, 640)\n"
     ]
    },
    {
     "name": "stderr",
     "output_type": "stream",
     "text": [
      " 25%|██▍       | 532/2158 [00:20<01:01, 26.30it/s]"
     ]
    },
    {
     "name": "stdout",
     "output_type": "stream",
     "text": [
      "\n",
      "0: 384x640 1 Armaduro, 32.1ms\n",
      "Speed: 0.6ms preprocess, 32.1ms inference, 1.2ms postprocess per image at shape (1, 3, 384, 640)\n",
      "\n",
      "0: 384x640 1 Armaduro, 32.4ms\n",
      "Speed: 0.6ms preprocess, 32.4ms inference, 1.0ms postprocess per image at shape (1, 3, 384, 640)\n",
      "\n",
      "0: 384x640 1 Armaduro, 32.5ms\n",
      "Speed: 0.5ms preprocess, 32.5ms inference, 1.0ms postprocess per image at shape (1, 3, 384, 640)\n"
     ]
    },
    {
     "name": "stderr",
     "output_type": "stream",
     "text": [
      " 25%|██▍       | 535/2158 [00:20<01:01, 26.30it/s]"
     ]
    },
    {
     "name": "stdout",
     "output_type": "stream",
     "text": [
      "\n",
      "0: 384x640 1 Armaduro, 32.5ms\n",
      "Speed: 0.6ms preprocess, 32.5ms inference, 1.0ms postprocess per image at shape (1, 3, 384, 640)\n",
      "\n",
      "0: 384x640 1 Armaduro, 32.5ms\n",
      "Speed: 0.7ms preprocess, 32.5ms inference, 1.0ms postprocess per image at shape (1, 3, 384, 640)\n",
      "\n",
      "0: 384x640 1 Armaduro, 32.5ms\n",
      "Speed: 0.5ms preprocess, 32.5ms inference, 1.0ms postprocess per image at shape (1, 3, 384, 640)\n"
     ]
    },
    {
     "name": "stderr",
     "output_type": "stream",
     "text": [
      " 25%|██▍       | 538/2158 [00:20<01:01, 26.31it/s]"
     ]
    },
    {
     "name": "stdout",
     "output_type": "stream",
     "text": [
      "\n",
      "0: 384x640 1 Armaduro, 32.4ms\n",
      "Speed: 0.6ms preprocess, 32.4ms inference, 1.7ms postprocess per image at shape (1, 3, 384, 640)\n",
      "\n",
      "0: 384x640 1 Armaduro, 32.5ms\n",
      "Speed: 1.1ms preprocess, 32.5ms inference, 1.0ms postprocess per image at shape (1, 3, 384, 640)\n",
      "\n",
      "0: 384x640 1 Armaduro, 32.4ms\n",
      "Speed: 0.5ms preprocess, 32.4ms inference, 1.0ms postprocess per image at shape (1, 3, 384, 640)\n"
     ]
    },
    {
     "name": "stderr",
     "output_type": "stream",
     "text": [
      " 25%|██▌       | 541/2158 [00:20<01:01, 26.10it/s]"
     ]
    },
    {
     "name": "stdout",
     "output_type": "stream",
     "text": [
      "\n",
      "0: 384x640 1 Armaduro, 32.4ms\n",
      "Speed: 0.5ms preprocess, 32.4ms inference, 1.0ms postprocess per image at shape (1, 3, 384, 640)\n",
      "\n",
      "0: 384x640 1 Armaduro, 32.4ms\n",
      "Speed: 0.5ms preprocess, 32.4ms inference, 1.1ms postprocess per image at shape (1, 3, 384, 640)\n",
      "\n",
      "0: 384x640 1 Armaduro, 32.8ms\n",
      "Speed: 0.6ms preprocess, 32.8ms inference, 1.1ms postprocess per image at shape (1, 3, 384, 640)\n"
     ]
    },
    {
     "name": "stderr",
     "output_type": "stream",
     "text": [
      " 25%|██▌       | 544/2158 [00:20<01:01, 26.15it/s]"
     ]
    },
    {
     "name": "stdout",
     "output_type": "stream",
     "text": [
      "\n",
      "0: 384x640 1 Armaduro, 32.6ms\n",
      "Speed: 0.5ms preprocess, 32.6ms inference, 1.1ms postprocess per image at shape (1, 3, 384, 640)\n",
      "\n",
      "0: 384x640 1 Armaduro, 32.7ms\n",
      "Speed: 0.6ms preprocess, 32.7ms inference, 1.0ms postprocess per image at shape (1, 3, 384, 640)\n",
      "\n",
      "0: 384x640 1 Armaduro, 32.5ms\n",
      "Speed: 0.6ms preprocess, 32.5ms inference, 1.0ms postprocess per image at shape (1, 3, 384, 640)\n"
     ]
    },
    {
     "name": "stderr",
     "output_type": "stream",
     "text": [
      " 25%|██▌       | 547/2158 [00:21<01:01, 26.13it/s]"
     ]
    },
    {
     "name": "stdout",
     "output_type": "stream",
     "text": [
      "\n",
      "0: 384x640 (no detections), 32.4ms\n",
      "Speed: 0.6ms preprocess, 32.4ms inference, 0.6ms postprocess per image at shape (1, 3, 384, 640)\n",
      "\n",
      "0: 384x640 (no detections), 32.4ms\n",
      "Speed: 0.6ms preprocess, 32.4ms inference, 0.5ms postprocess per image at shape (1, 3, 384, 640)\n",
      "\n",
      "0: 384x640 (no detections), 32.5ms\n",
      "Speed: 0.6ms preprocess, 32.5ms inference, 0.5ms postprocess per image at shape (1, 3, 384, 640)\n"
     ]
    },
    {
     "name": "stderr",
     "output_type": "stream",
     "text": [
      " 25%|██▌       | 550/2158 [00:21<01:00, 26.40it/s]"
     ]
    },
    {
     "name": "stdout",
     "output_type": "stream",
     "text": [
      "\n",
      "0: 384x640 (no detections), 32.5ms\n",
      "Speed: 0.7ms preprocess, 32.5ms inference, 0.7ms postprocess per image at shape (1, 3, 384, 640)\n",
      "\n",
      "0: 384x640 (no detections), 32.5ms\n",
      "Speed: 0.6ms preprocess, 32.5ms inference, 0.5ms postprocess per image at shape (1, 3, 384, 640)\n",
      "\n",
      "0: 384x640 (no detections), 32.4ms\n",
      "Speed: 0.6ms preprocess, 32.4ms inference, 0.5ms postprocess per image at shape (1, 3, 384, 640)\n"
     ]
    },
    {
     "name": "stderr",
     "output_type": "stream",
     "text": [
      " 26%|██▌       | 553/2158 [00:21<01:00, 26.53it/s]"
     ]
    },
    {
     "name": "stdout",
     "output_type": "stream",
     "text": [
      "\n",
      "0: 384x640 (no detections), 32.4ms\n",
      "Speed: 0.5ms preprocess, 32.4ms inference, 0.5ms postprocess per image at shape (1, 3, 384, 640)\n",
      "\n",
      "0: 384x640 (no detections), 32.1ms\n",
      "Speed: 0.8ms preprocess, 32.1ms inference, 0.9ms postprocess per image at shape (1, 3, 384, 640)\n",
      "\n",
      "0: 384x640 (no detections), 32.7ms\n",
      "Speed: 0.7ms preprocess, 32.7ms inference, 0.5ms postprocess per image at shape (1, 3, 384, 640)\n"
     ]
    },
    {
     "name": "stderr",
     "output_type": "stream",
     "text": [
      " 26%|██▌       | 556/2158 [00:21<01:00, 26.68it/s]"
     ]
    },
    {
     "name": "stdout",
     "output_type": "stream",
     "text": [
      "\n",
      "0: 384x640 (no detections), 32.6ms\n",
      "Speed: 0.6ms preprocess, 32.6ms inference, 0.5ms postprocess per image at shape (1, 3, 384, 640)\n",
      "\n",
      "0: 384x640 (no detections), 32.5ms\n",
      "Speed: 0.6ms preprocess, 32.5ms inference, 0.5ms postprocess per image at shape (1, 3, 384, 640)\n",
      "\n",
      "0: 384x640 (no detections), 32.5ms\n",
      "Speed: 0.5ms preprocess, 32.5ms inference, 0.5ms postprocess per image at shape (1, 3, 384, 640)\n"
     ]
    },
    {
     "name": "stderr",
     "output_type": "stream",
     "text": [
      " 26%|██▌       | 559/2158 [00:21<00:59, 26.81it/s]"
     ]
    },
    {
     "name": "stdout",
     "output_type": "stream",
     "text": [
      "\n",
      "0: 384x640 (no detections), 32.5ms\n",
      "Speed: 0.7ms preprocess, 32.5ms inference, 0.6ms postprocess per image at shape (1, 3, 384, 640)\n",
      "\n",
      "0: 384x640 (no detections), 32.5ms\n",
      "Speed: 0.6ms preprocess, 32.5ms inference, 0.5ms postprocess per image at shape (1, 3, 384, 640)\n",
      "\n",
      "0: 384x640 (no detections), 32.4ms\n",
      "Speed: 0.6ms preprocess, 32.4ms inference, 0.5ms postprocess per image at shape (1, 3, 384, 640)\n"
     ]
    },
    {
     "name": "stderr",
     "output_type": "stream",
     "text": [
      " 26%|██▌       | 562/2158 [00:21<00:59, 26.88it/s]"
     ]
    },
    {
     "name": "stdout",
     "output_type": "stream",
     "text": [
      "\n",
      "0: 384x640 (no detections), 32.5ms\n",
      "Speed: 0.6ms preprocess, 32.5ms inference, 0.5ms postprocess per image at shape (1, 3, 384, 640)\n",
      "\n",
      "0: 384x640 (no detections), 32.1ms\n",
      "Speed: 0.8ms preprocess, 32.1ms inference, 0.5ms postprocess per image at shape (1, 3, 384, 640)\n",
      "\n",
      "0: 384x640 (no detections), 32.4ms\n",
      "Speed: 0.7ms preprocess, 32.4ms inference, 0.5ms postprocess per image at shape (1, 3, 384, 640)\n"
     ]
    },
    {
     "name": "stderr",
     "output_type": "stream",
     "text": [
      " 26%|██▌       | 565/2158 [00:21<00:59, 26.92it/s]"
     ]
    },
    {
     "name": "stdout",
     "output_type": "stream",
     "text": [
      "\n",
      "0: 384x640 (no detections), 32.4ms\n",
      "Speed: 0.6ms preprocess, 32.4ms inference, 0.5ms postprocess per image at shape (1, 3, 384, 640)\n",
      "\n",
      "0: 384x640 (no detections), 32.4ms\n",
      "Speed: 0.6ms preprocess, 32.4ms inference, 0.5ms postprocess per image at shape (1, 3, 384, 640)\n",
      "\n",
      "0: 384x640 (no detections), 32.3ms\n",
      "Speed: 0.6ms preprocess, 32.3ms inference, 0.5ms postprocess per image at shape (1, 3, 384, 640)\n"
     ]
    },
    {
     "name": "stderr",
     "output_type": "stream",
     "text": [
      " 26%|██▋       | 568/2158 [00:21<00:58, 27.02it/s]"
     ]
    },
    {
     "name": "stdout",
     "output_type": "stream",
     "text": [
      "\n",
      "0: 384x640 (no detections), 32.5ms\n",
      "Speed: 0.7ms preprocess, 32.5ms inference, 0.6ms postprocess per image at shape (1, 3, 384, 640)\n",
      "\n",
      "0: 384x640 (no detections), 32.6ms\n",
      "Speed: 1.2ms preprocess, 32.6ms inference, 0.6ms postprocess per image at shape (1, 3, 384, 640)\n",
      "\n",
      "0: 384x640 (no detections), 32.5ms\n",
      "Speed: 0.5ms preprocess, 32.5ms inference, 0.5ms postprocess per image at shape (1, 3, 384, 640)\n"
     ]
    },
    {
     "name": "stderr",
     "output_type": "stream",
     "text": [
      " 26%|██▋       | 571/2158 [00:21<00:58, 26.96it/s]"
     ]
    },
    {
     "name": "stdout",
     "output_type": "stream",
     "text": [
      "\n",
      "0: 384x640 (no detections), 33.3ms\n",
      "Speed: 0.6ms preprocess, 33.3ms inference, 0.8ms postprocess per image at shape (1, 3, 384, 640)\n",
      "\n",
      "0: 384x640 (no detections), 32.4ms\n",
      "Speed: 0.7ms preprocess, 32.4ms inference, 0.5ms postprocess per image at shape (1, 3, 384, 640)\n",
      "\n",
      "0: 384x640 (no detections), 32.5ms\n",
      "Speed: 0.6ms preprocess, 32.5ms inference, 0.5ms postprocess per image at shape (1, 3, 384, 640)\n"
     ]
    },
    {
     "name": "stderr",
     "output_type": "stream",
     "text": [
      " 27%|██▋       | 574/2158 [00:22<00:59, 26.82it/s]"
     ]
    },
    {
     "name": "stdout",
     "output_type": "stream",
     "text": [
      "\n",
      "0: 384x640 (no detections), 32.4ms\n",
      "Speed: 0.6ms preprocess, 32.4ms inference, 0.5ms postprocess per image at shape (1, 3, 384, 640)\n",
      "\n",
      "0: 384x640 (no detections), 32.5ms\n",
      "Speed: 0.5ms preprocess, 32.5ms inference, 0.5ms postprocess per image at shape (1, 3, 384, 640)\n",
      "\n",
      "0: 384x640 (no detections), 32.6ms\n",
      "Speed: 0.5ms preprocess, 32.6ms inference, 0.5ms postprocess per image at shape (1, 3, 384, 640)\n"
     ]
    },
    {
     "name": "stderr",
     "output_type": "stream",
     "text": [
      " 27%|██▋       | 577/2158 [00:22<00:58, 26.90it/s]"
     ]
    },
    {
     "name": "stdout",
     "output_type": "stream",
     "text": [
      "\n",
      "0: 384x640 (no detections), 32.5ms\n",
      "Speed: 0.7ms preprocess, 32.5ms inference, 0.5ms postprocess per image at shape (1, 3, 384, 640)\n",
      "\n",
      "0: 384x640 (no detections), 32.6ms\n",
      "Speed: 0.6ms preprocess, 32.6ms inference, 0.5ms postprocess per image at shape (1, 3, 384, 640)\n",
      "\n",
      "0: 384x640 (no detections), 32.6ms\n",
      "Speed: 0.6ms preprocess, 32.6ms inference, 0.8ms postprocess per image at shape (1, 3, 384, 640)\n"
     ]
    },
    {
     "name": "stderr",
     "output_type": "stream",
     "text": [
      " 27%|██▋       | 580/2158 [00:22<00:58, 26.93it/s]"
     ]
    },
    {
     "name": "stdout",
     "output_type": "stream",
     "text": [
      "\n",
      "0: 384x640 (no detections), 32.6ms\n",
      "Speed: 0.5ms preprocess, 32.6ms inference, 0.5ms postprocess per image at shape (1, 3, 384, 640)\n",
      "\n",
      "0: 384x640 (no detections), 32.4ms\n",
      "Speed: 0.7ms preprocess, 32.4ms inference, 0.5ms postprocess per image at shape (1, 3, 384, 640)\n",
      "\n",
      "0: 384x640 (no detections), 32.5ms\n",
      "Speed: 0.6ms preprocess, 32.5ms inference, 0.5ms postprocess per image at shape (1, 3, 384, 640)\n"
     ]
    },
    {
     "name": "stderr",
     "output_type": "stream",
     "text": [
      " 27%|██▋       | 583/2158 [00:22<00:58, 26.97it/s]"
     ]
    },
    {
     "name": "stdout",
     "output_type": "stream",
     "text": [
      "\n",
      "0: 384x640 (no detections), 32.4ms\n",
      "Speed: 0.6ms preprocess, 32.4ms inference, 0.5ms postprocess per image at shape (1, 3, 384, 640)\n",
      "\n",
      "0: 384x640 (no detections), 32.5ms\n",
      "Speed: 0.6ms preprocess, 32.5ms inference, 0.7ms postprocess per image at shape (1, 3, 384, 640)\n",
      "\n",
      "0: 384x640 (no detections), 32.4ms\n",
      "Speed: 0.6ms preprocess, 32.4ms inference, 0.5ms postprocess per image at shape (1, 3, 384, 640)\n"
     ]
    },
    {
     "name": "stderr",
     "output_type": "stream",
     "text": [
      " 27%|██▋       | 586/2158 [00:22<00:58, 27.03it/s]"
     ]
    },
    {
     "name": "stdout",
     "output_type": "stream",
     "text": [
      "\n",
      "0: 384x640 (no detections), 32.4ms\n",
      "Speed: 0.8ms preprocess, 32.4ms inference, 0.6ms postprocess per image at shape (1, 3, 384, 640)\n",
      "\n",
      "0: 384x640 (no detections), 32.4ms\n",
      "Speed: 0.5ms preprocess, 32.4ms inference, 0.5ms postprocess per image at shape (1, 3, 384, 640)\n",
      "\n",
      "0: 384x640 (no detections), 32.3ms\n",
      "Speed: 0.6ms preprocess, 32.3ms inference, 0.5ms postprocess per image at shape (1, 3, 384, 640)\n"
     ]
    },
    {
     "name": "stderr",
     "output_type": "stream",
     "text": [
      " 27%|██▋       | 589/2158 [00:22<00:57, 27.06it/s]"
     ]
    },
    {
     "name": "stdout",
     "output_type": "stream",
     "text": [
      "\n",
      "0: 384x640 (no detections), 32.5ms\n",
      "Speed: 0.5ms preprocess, 32.5ms inference, 0.5ms postprocess per image at shape (1, 3, 384, 640)\n",
      "\n",
      "0: 384x640 (no detections), 32.5ms\n",
      "Speed: 0.6ms preprocess, 32.5ms inference, 0.5ms postprocess per image at shape (1, 3, 384, 640)\n",
      "\n",
      "0: 384x640 (no detections), 32.4ms\n",
      "Speed: 0.6ms preprocess, 32.4ms inference, 0.6ms postprocess per image at shape (1, 3, 384, 640)\n"
     ]
    },
    {
     "name": "stderr",
     "output_type": "stream",
     "text": [
      " 27%|██▋       | 592/2158 [00:22<00:57, 27.08it/s]"
     ]
    },
    {
     "name": "stdout",
     "output_type": "stream",
     "text": [
      "\n",
      "0: 384x640 (no detections), 32.4ms\n",
      "Speed: 0.5ms preprocess, 32.4ms inference, 0.8ms postprocess per image at shape (1, 3, 384, 640)\n",
      "\n",
      "0: 384x640 (no detections), 32.5ms\n",
      "Speed: 0.6ms preprocess, 32.5ms inference, 0.5ms postprocess per image at shape (1, 3, 384, 640)\n",
      "\n",
      "0: 384x640 (no detections), 32.6ms\n",
      "Speed: 0.6ms preprocess, 32.6ms inference, 0.6ms postprocess per image at shape (1, 3, 384, 640)\n"
     ]
    },
    {
     "name": "stderr",
     "output_type": "stream",
     "text": [
      " 28%|██▊       | 595/2158 [00:22<00:57, 27.13it/s]"
     ]
    },
    {
     "name": "stdout",
     "output_type": "stream",
     "text": [
      "\n",
      "0: 384x640 (no detections), 32.4ms\n",
      "Speed: 0.7ms preprocess, 32.4ms inference, 0.6ms postprocess per image at shape (1, 3, 384, 640)\n",
      "\n",
      "0: 384x640 (no detections), 32.4ms\n",
      "Speed: 0.6ms preprocess, 32.4ms inference, 0.5ms postprocess per image at shape (1, 3, 384, 640)\n",
      "\n",
      "0: 384x640 1 Armaduro, 32.5ms\n",
      "Speed: 0.6ms preprocess, 32.5ms inference, 1.2ms postprocess per image at shape (1, 3, 384, 640)\n"
     ]
    },
    {
     "name": "stderr",
     "output_type": "stream",
     "text": [
      " 28%|██▊       | 598/2158 [00:22<00:57, 27.02it/s]"
     ]
    },
    {
     "name": "stdout",
     "output_type": "stream",
     "text": [
      "\n",
      "0: 384x640 1 Armaduro, 32.4ms\n",
      "Speed: 0.5ms preprocess, 32.4ms inference, 1.0ms postprocess per image at shape (1, 3, 384, 640)\n",
      "\n",
      "0: 384x640 1 Armaduro, 32.4ms\n",
      "Speed: 0.7ms preprocess, 32.4ms inference, 1.6ms postprocess per image at shape (1, 3, 384, 640)\n",
      "\n",
      "0: 384x640 1 Armaduro, 32.4ms\n",
      "Speed: 0.5ms preprocess, 32.4ms inference, 1.0ms postprocess per image at shape (1, 3, 384, 640)\n"
     ]
    },
    {
     "name": "stderr",
     "output_type": "stream",
     "text": [
      " 28%|██▊       | 601/2158 [00:23<00:58, 26.80it/s]"
     ]
    },
    {
     "name": "stdout",
     "output_type": "stream",
     "text": [
      "\n",
      "0: 384x640 1 Armaduro, 32.3ms\n",
      "Speed: 0.6ms preprocess, 32.3ms inference, 0.9ms postprocess per image at shape (1, 3, 384, 640)\n",
      "\n",
      "0: 384x640 1 Armaduro, 32.5ms\n",
      "Speed: 0.6ms preprocess, 32.5ms inference, 0.9ms postprocess per image at shape (1, 3, 384, 640)\n",
      "\n",
      "0: 384x640 1 Armaduro, 32.4ms\n",
      "Speed: 0.6ms preprocess, 32.4ms inference, 1.1ms postprocess per image at shape (1, 3, 384, 640)\n"
     ]
    },
    {
     "name": "stderr",
     "output_type": "stream",
     "text": [
      " 28%|██▊       | 604/2158 [00:23<00:58, 26.72it/s]"
     ]
    },
    {
     "name": "stdout",
     "output_type": "stream",
     "text": [
      "\n",
      "0: 384x640 1 Armaduro, 32.5ms\n",
      "Speed: 0.5ms preprocess, 32.5ms inference, 1.0ms postprocess per image at shape (1, 3, 384, 640)\n",
      "\n",
      "0: 384x640 1 Armaduro, 32.3ms\n",
      "Speed: 0.5ms preprocess, 32.3ms inference, 1.0ms postprocess per image at shape (1, 3, 384, 640)\n",
      "\n",
      "0: 384x640 1 Armaduro, 32.4ms\n",
      "Speed: 0.6ms preprocess, 32.4ms inference, 0.9ms postprocess per image at shape (1, 3, 384, 640)\n"
     ]
    },
    {
     "name": "stderr",
     "output_type": "stream",
     "text": [
      " 28%|██▊       | 607/2158 [00:23<00:58, 26.72it/s]"
     ]
    },
    {
     "name": "stdout",
     "output_type": "stream",
     "text": [
      "\n",
      "0: 384x640 1 Armaduro, 32.4ms\n",
      "Speed: 0.6ms preprocess, 32.4ms inference, 1.1ms postprocess per image at shape (1, 3, 384, 640)\n",
      "\n",
      "0: 384x640 1 Armaduro, 32.4ms\n",
      "Speed: 0.6ms preprocess, 32.4ms inference, 1.0ms postprocess per image at shape (1, 3, 384, 640)\n",
      "\n",
      "0: 384x640 1 Armaduro, 32.4ms\n",
      "Speed: 0.5ms preprocess, 32.4ms inference, 1.0ms postprocess per image at shape (1, 3, 384, 640)\n"
     ]
    },
    {
     "name": "stderr",
     "output_type": "stream",
     "text": [
      " 28%|██▊       | 610/2158 [00:23<00:57, 26.70it/s]"
     ]
    },
    {
     "name": "stdout",
     "output_type": "stream",
     "text": [
      "\n",
      "0: 384x640 1 Armaduro, 32.4ms\n",
      "Speed: 0.5ms preprocess, 32.4ms inference, 1.0ms postprocess per image at shape (1, 3, 384, 640)\n",
      "\n",
      "0: 384x640 1 Armaduro, 32.4ms\n",
      "Speed: 0.7ms preprocess, 32.4ms inference, 1.3ms postprocess per image at shape (1, 3, 384, 640)\n",
      "\n",
      "0: 384x640 1 Armaduro, 32.4ms\n",
      "Speed: 0.6ms preprocess, 32.4ms inference, 1.0ms postprocess per image at shape (1, 3, 384, 640)\n"
     ]
    },
    {
     "name": "stderr",
     "output_type": "stream",
     "text": [
      " 28%|██▊       | 613/2158 [00:23<00:58, 26.63it/s]"
     ]
    },
    {
     "name": "stdout",
     "output_type": "stream",
     "text": [
      "\n",
      "0: 384x640 1 Armaduro, 32.4ms\n",
      "Speed: 0.5ms preprocess, 32.4ms inference, 1.0ms postprocess per image at shape (1, 3, 384, 640)\n",
      "\n",
      "0: 384x640 1 Armaduro, 32.4ms\n",
      "Speed: 0.6ms preprocess, 32.4ms inference, 1.0ms postprocess per image at shape (1, 3, 384, 640)\n",
      "\n",
      "0: 384x640 1 Armaduro, 32.4ms\n",
      "Speed: 0.6ms preprocess, 32.4ms inference, 1.0ms postprocess per image at shape (1, 3, 384, 640)\n"
     ]
    },
    {
     "name": "stderr",
     "output_type": "stream",
     "text": [
      " 29%|██▊       | 616/2158 [00:23<00:58, 26.58it/s]"
     ]
    },
    {
     "name": "stdout",
     "output_type": "stream",
     "text": [
      "\n",
      "0: 384x640 1 Armaduro, 32.5ms\n",
      "Speed: 0.5ms preprocess, 32.5ms inference, 1.0ms postprocess per image at shape (1, 3, 384, 640)\n",
      "\n",
      "0: 384x640 1 Armaduro, 32.3ms\n",
      "Speed: 0.6ms preprocess, 32.3ms inference, 1.0ms postprocess per image at shape (1, 3, 384, 640)\n",
      "\n",
      "0: 384x640 1 Armaduro, 32.4ms\n",
      "Speed: 0.6ms preprocess, 32.4ms inference, 0.9ms postprocess per image at shape (1, 3, 384, 640)\n"
     ]
    },
    {
     "name": "stderr",
     "output_type": "stream",
     "text": [
      " 29%|██▊       | 619/2158 [00:23<00:57, 26.61it/s]"
     ]
    },
    {
     "name": "stdout",
     "output_type": "stream",
     "text": [
      "\n",
      "0: 384x640 1 Armaduro, 32.4ms\n",
      "Speed: 0.7ms preprocess, 32.4ms inference, 1.1ms postprocess per image at shape (1, 3, 384, 640)\n",
      "\n",
      "0: 384x640 1 Armaduro, 32.4ms\n",
      "Speed: 0.5ms preprocess, 32.4ms inference, 1.0ms postprocess per image at shape (1, 3, 384, 640)\n",
      "\n",
      "0: 384x640 1 Armaduro, 32.4ms\n",
      "Speed: 0.5ms preprocess, 32.4ms inference, 1.0ms postprocess per image at shape (1, 3, 384, 640)\n"
     ]
    },
    {
     "name": "stderr",
     "output_type": "stream",
     "text": [
      " 29%|██▉       | 622/2158 [00:23<00:57, 26.61it/s]"
     ]
    },
    {
     "name": "stdout",
     "output_type": "stream",
     "text": [
      "\n",
      "0: 384x640 1 Armaduro, 32.4ms\n",
      "Speed: 0.5ms preprocess, 32.4ms inference, 0.9ms postprocess per image at shape (1, 3, 384, 640)\n",
      "\n",
      "0: 384x640 1 Armaduro, 32.4ms\n",
      "Speed: 0.5ms preprocess, 32.4ms inference, 1.8ms postprocess per image at shape (1, 3, 384, 640)\n",
      "\n",
      "0: 384x640 1 Armaduro, 32.3ms\n",
      "Speed: 0.5ms preprocess, 32.3ms inference, 1.0ms postprocess per image at shape (1, 3, 384, 640)\n"
     ]
    },
    {
     "name": "stderr",
     "output_type": "stream",
     "text": [
      " 29%|██▉       | 625/2158 [00:23<00:57, 26.52it/s]"
     ]
    },
    {
     "name": "stdout",
     "output_type": "stream",
     "text": [
      "\n",
      "0: 384x640 1 Armaduro, 32.5ms\n",
      "Speed: 0.5ms preprocess, 32.5ms inference, 1.0ms postprocess per image at shape (1, 3, 384, 640)\n",
      "\n",
      "0: 384x640 1 Armaduro, 32.4ms\n",
      "Speed: 0.6ms preprocess, 32.4ms inference, 1.1ms postprocess per image at shape (1, 3, 384, 640)\n",
      "\n",
      "0: 384x640 1 Armaduro, 32.4ms\n",
      "Speed: 0.5ms preprocess, 32.4ms inference, 1.0ms postprocess per image at shape (1, 3, 384, 640)\n"
     ]
    },
    {
     "name": "stderr",
     "output_type": "stream",
     "text": [
      " 29%|██▉       | 628/2158 [00:24<00:57, 26.45it/s]"
     ]
    },
    {
     "name": "stdout",
     "output_type": "stream",
     "text": [
      "\n",
      "0: 384x640 1 Armaduro, 32.5ms\n",
      "Speed: 0.6ms preprocess, 32.5ms inference, 1.0ms postprocess per image at shape (1, 3, 384, 640)\n",
      "\n",
      "0: 384x640 1 Armaduro, 32.4ms\n",
      "Speed: 0.5ms preprocess, 32.4ms inference, 0.9ms postprocess per image at shape (1, 3, 384, 640)\n",
      "\n",
      "0: 384x640 1 Armaduro, 32.4ms\n",
      "Speed: 0.6ms preprocess, 32.4ms inference, 1.0ms postprocess per image at shape (1, 3, 384, 640)\n"
     ]
    },
    {
     "name": "stderr",
     "output_type": "stream",
     "text": [
      " 29%|██▉       | 631/2158 [00:24<00:57, 26.48it/s]"
     ]
    },
    {
     "name": "stdout",
     "output_type": "stream",
     "text": [
      "\n",
      "0: 384x640 1 Armaduro, 32.4ms\n",
      "Speed: 0.6ms preprocess, 32.4ms inference, 1.0ms postprocess per image at shape (1, 3, 384, 640)\n",
      "\n",
      "0: 384x640 1 Armaduro, 32.4ms\n",
      "Speed: 0.5ms preprocess, 32.4ms inference, 1.0ms postprocess per image at shape (1, 3, 384, 640)\n",
      "\n",
      "0: 384x640 1 Armaduro, 32.4ms\n",
      "Speed: 0.5ms preprocess, 32.4ms inference, 1.0ms postprocess per image at shape (1, 3, 384, 640)\n"
     ]
    },
    {
     "name": "stderr",
     "output_type": "stream",
     "text": [
      " 29%|██▉       | 634/2158 [00:24<00:57, 26.55it/s]"
     ]
    },
    {
     "name": "stdout",
     "output_type": "stream",
     "text": [
      "\n",
      "0: 384x640 1 Armaduro, 32.4ms\n",
      "Speed: 0.6ms preprocess, 32.4ms inference, 1.3ms postprocess per image at shape (1, 3, 384, 640)\n",
      "\n",
      "0: 384x640 1 Armaduro, 32.4ms\n",
      "Speed: 0.6ms preprocess, 32.4ms inference, 1.0ms postprocess per image at shape (1, 3, 384, 640)\n",
      "\n",
      "0: 384x640 1 Armaduro, 32.4ms\n",
      "Speed: 0.5ms preprocess, 32.4ms inference, 1.0ms postprocess per image at shape (1, 3, 384, 640)\n"
     ]
    },
    {
     "name": "stderr",
     "output_type": "stream",
     "text": [
      " 30%|██▉       | 637/2158 [00:24<00:57, 26.52it/s]"
     ]
    },
    {
     "name": "stdout",
     "output_type": "stream",
     "text": [
      "\n",
      "0: 384x640 1 Armaduro, 32.3ms\n",
      "Speed: 0.7ms preprocess, 32.3ms inference, 1.6ms postprocess per image at shape (1, 3, 384, 640)\n",
      "\n",
      "0: 384x640 1 Armaduro, 32.4ms\n",
      "Speed: 0.5ms preprocess, 32.4ms inference, 1.0ms postprocess per image at shape (1, 3, 384, 640)\n",
      "\n",
      "0: 384x640 1 Armaduro, 32.4ms\n",
      "Speed: 0.5ms preprocess, 32.4ms inference, 1.0ms postprocess per image at shape (1, 3, 384, 640)\n"
     ]
    },
    {
     "name": "stderr",
     "output_type": "stream",
     "text": [
      " 30%|██▉       | 640/2158 [00:24<00:57, 26.51it/s]"
     ]
    },
    {
     "name": "stdout",
     "output_type": "stream",
     "text": [
      "\n",
      "0: 384x640 1 Armaduro, 32.5ms\n",
      "Speed: 0.6ms preprocess, 32.5ms inference, 0.9ms postprocess per image at shape (1, 3, 384, 640)\n",
      "\n",
      "0: 384x640 1 Armaduro, 32.3ms\n",
      "Speed: 0.6ms preprocess, 32.3ms inference, 1.0ms postprocess per image at shape (1, 3, 384, 640)\n",
      "\n",
      "0: 384x640 1 Armaduro, 32.4ms\n",
      "Speed: 0.5ms preprocess, 32.4ms inference, 1.0ms postprocess per image at shape (1, 3, 384, 640)\n"
     ]
    },
    {
     "name": "stderr",
     "output_type": "stream",
     "text": [
      " 30%|██▉       | 643/2158 [00:24<00:57, 26.53it/s]"
     ]
    },
    {
     "name": "stdout",
     "output_type": "stream",
     "text": [
      "\n",
      "0: 384x640 1 Armaduro, 32.4ms\n",
      "Speed: 0.5ms preprocess, 32.4ms inference, 1.0ms postprocess per image at shape (1, 3, 384, 640)\n",
      "\n",
      "0: 384x640 1 Armaduro, 32.5ms\n",
      "Speed: 0.5ms preprocess, 32.5ms inference, 0.9ms postprocess per image at shape (1, 3, 384, 640)\n",
      "\n",
      "0: 384x640 1 Armaduro, 32.3ms\n",
      "Speed: 0.7ms preprocess, 32.3ms inference, 1.0ms postprocess per image at shape (1, 3, 384, 640)\n"
     ]
    },
    {
     "name": "stderr",
     "output_type": "stream",
     "text": [
      " 30%|██▉       | 646/2158 [00:24<00:56, 26.59it/s]"
     ]
    },
    {
     "name": "stdout",
     "output_type": "stream",
     "text": [
      "\n",
      "0: 384x640 1 Armaduro, 32.4ms\n",
      "Speed: 0.5ms preprocess, 32.4ms inference, 1.8ms postprocess per image at shape (1, 3, 384, 640)\n",
      "\n",
      "0: 384x640 (no detections), 32.4ms\n",
      "Speed: 0.6ms preprocess, 32.4ms inference, 0.5ms postprocess per image at shape (1, 3, 384, 640)\n",
      "\n",
      "0: 384x640 (no detections), 32.6ms\n",
      "Speed: 0.5ms preprocess, 32.6ms inference, 0.7ms postprocess per image at shape (1, 3, 384, 640)\n"
     ]
    },
    {
     "name": "stderr",
     "output_type": "stream",
     "text": [
      " 30%|███       | 649/2158 [00:24<00:56, 26.60it/s]"
     ]
    },
    {
     "name": "stdout",
     "output_type": "stream",
     "text": [
      "\n",
      "0: 384x640 (no detections), 32.1ms\n",
      "Speed: 0.7ms preprocess, 32.1ms inference, 0.6ms postprocess per image at shape (1, 3, 384, 640)\n",
      "\n",
      "0: 384x640 (no detections), 32.4ms\n",
      "Speed: 0.6ms preprocess, 32.4ms inference, 0.5ms postprocess per image at shape (1, 3, 384, 640)\n",
      "\n",
      "0: 384x640 (no detections), 32.4ms\n",
      "Speed: 0.6ms preprocess, 32.4ms inference, 0.5ms postprocess per image at shape (1, 3, 384, 640)\n"
     ]
    },
    {
     "name": "stderr",
     "output_type": "stream",
     "text": [
      " 30%|███       | 652/2158 [00:24<00:56, 26.76it/s]"
     ]
    },
    {
     "name": "stdout",
     "output_type": "stream",
     "text": [
      "\n",
      "0: 384x640 (no detections), 32.4ms\n",
      "Speed: 0.5ms preprocess, 32.4ms inference, 0.6ms postprocess per image at shape (1, 3, 384, 640)\n",
      "\n",
      "0: 384x640 (no detections), 32.5ms\n",
      "Speed: 1.4ms preprocess, 32.5ms inference, 0.5ms postprocess per image at shape (1, 3, 384, 640)\n",
      "\n",
      "0: 384x640 (no detections), 32.5ms\n",
      "Speed: 0.6ms preprocess, 32.5ms inference, 0.5ms postprocess per image at shape (1, 3, 384, 640)\n"
     ]
    },
    {
     "name": "stderr",
     "output_type": "stream",
     "text": [
      " 30%|███       | 655/2158 [00:25<00:56, 26.64it/s]"
     ]
    },
    {
     "name": "stdout",
     "output_type": "stream",
     "text": [
      "\n",
      "0: 384x640 (no detections), 32.3ms\n",
      "Speed: 0.6ms preprocess, 32.3ms inference, 0.5ms postprocess per image at shape (1, 3, 384, 640)\n",
      "\n",
      "0: 384x640 (no detections), 32.3ms\n",
      "Speed: 0.6ms preprocess, 32.3ms inference, 0.5ms postprocess per image at shape (1, 3, 384, 640)\n",
      "\n",
      "0: 384x640 (no detections), 32.4ms\n",
      "Speed: 0.6ms preprocess, 32.4ms inference, 0.4ms postprocess per image at shape (1, 3, 384, 640)\n"
     ]
    },
    {
     "name": "stderr",
     "output_type": "stream",
     "text": [
      " 30%|███       | 658/2158 [00:25<00:55, 26.85it/s]"
     ]
    },
    {
     "name": "stdout",
     "output_type": "stream",
     "text": [
      "\n",
      "0: 384x640 (no detections), 32.3ms\n",
      "Speed: 0.7ms preprocess, 32.3ms inference, 0.6ms postprocess per image at shape (1, 3, 384, 640)\n",
      "\n",
      "0: 384x640 (no detections), 32.5ms\n",
      "Speed: 0.6ms preprocess, 32.5ms inference, 0.5ms postprocess per image at shape (1, 3, 384, 640)\n",
      "\n",
      "0: 384x640 (no detections), 32.4ms\n",
      "Speed: 0.5ms preprocess, 32.4ms inference, 0.5ms postprocess per image at shape (1, 3, 384, 640)\n"
     ]
    },
    {
     "name": "stderr",
     "output_type": "stream",
     "text": [
      " 31%|███       | 661/2158 [00:25<00:55, 26.90it/s]"
     ]
    },
    {
     "name": "stdout",
     "output_type": "stream",
     "text": [
      "\n",
      "0: 384x640 (no detections), 32.5ms\n",
      "Speed: 0.6ms preprocess, 32.5ms inference, 0.5ms postprocess per image at shape (1, 3, 384, 640)\n",
      "\n",
      "0: 384x640 (no detections), 32.4ms\n",
      "Speed: 0.5ms preprocess, 32.4ms inference, 0.5ms postprocess per image at shape (1, 3, 384, 640)\n",
      "\n",
      "0: 384x640 (no detections), 32.5ms\n",
      "Speed: 0.7ms preprocess, 32.5ms inference, 0.5ms postprocess per image at shape (1, 3, 384, 640)\n"
     ]
    },
    {
     "name": "stderr",
     "output_type": "stream",
     "text": [
      " 31%|███       | 664/2158 [00:25<00:55, 26.94it/s]"
     ]
    },
    {
     "name": "stdout",
     "output_type": "stream",
     "text": [
      "\n",
      "0: 384x640 (no detections), 32.4ms\n",
      "Speed: 0.7ms preprocess, 32.4ms inference, 0.5ms postprocess per image at shape (1, 3, 384, 640)\n",
      "\n",
      "0: 384x640 (no detections), 32.4ms\n",
      "Speed: 0.6ms preprocess, 32.4ms inference, 0.8ms postprocess per image at shape (1, 3, 384, 640)\n",
      "\n",
      "0: 384x640 (no detections), 32.4ms\n",
      "Speed: 0.5ms preprocess, 32.4ms inference, 0.5ms postprocess per image at shape (1, 3, 384, 640)\n"
     ]
    },
    {
     "name": "stderr",
     "output_type": "stream",
     "text": [
      " 31%|███       | 667/2158 [00:25<00:55, 27.02it/s]"
     ]
    },
    {
     "name": "stdout",
     "output_type": "stream",
     "text": [
      "\n",
      "0: 384x640 (no detections), 32.2ms\n",
      "Speed: 0.6ms preprocess, 32.2ms inference, 0.7ms postprocess per image at shape (1, 3, 384, 640)\n",
      "\n",
      "0: 384x640 (no detections), 32.4ms\n",
      "Speed: 0.8ms preprocess, 32.4ms inference, 0.5ms postprocess per image at shape (1, 3, 384, 640)\n",
      "\n",
      "0: 384x640 (no detections), 32.4ms\n",
      "Speed: 0.7ms preprocess, 32.4ms inference, 0.5ms postprocess per image at shape (1, 3, 384, 640)\n"
     ]
    },
    {
     "name": "stderr",
     "output_type": "stream",
     "text": [
      " 31%|███       | 670/2158 [00:25<00:55, 27.05it/s]"
     ]
    },
    {
     "name": "stdout",
     "output_type": "stream",
     "text": [
      "\n",
      "0: 384x640 (no detections), 32.4ms\n",
      "Speed: 0.7ms preprocess, 32.4ms inference, 0.5ms postprocess per image at shape (1, 3, 384, 640)\n",
      "\n",
      "0: 384x640 (no detections), 32.4ms\n",
      "Speed: 0.5ms preprocess, 32.4ms inference, 0.5ms postprocess per image at shape (1, 3, 384, 640)\n",
      "\n",
      "0: 384x640 (no detections), 32.4ms\n",
      "Speed: 0.7ms preprocess, 32.4ms inference, 0.8ms postprocess per image at shape (1, 3, 384, 640)\n"
     ]
    },
    {
     "name": "stderr",
     "output_type": "stream",
     "text": [
      " 31%|███       | 673/2158 [00:25<00:55, 26.99it/s]"
     ]
    },
    {
     "name": "stdout",
     "output_type": "stream",
     "text": [
      "\n",
      "0: 384x640 (no detections), 32.4ms\n",
      "Speed: 0.6ms preprocess, 32.4ms inference, 0.5ms postprocess per image at shape (1, 3, 384, 640)\n",
      "\n",
      "0: 384x640 (no detections), 32.3ms\n",
      "Speed: 0.6ms preprocess, 32.3ms inference, 0.4ms postprocess per image at shape (1, 3, 384, 640)\n",
      "\n",
      "0: 384x640 (no detections), 32.4ms\n",
      "Speed: 0.5ms preprocess, 32.4ms inference, 0.5ms postprocess per image at shape (1, 3, 384, 640)\n"
     ]
    },
    {
     "name": "stderr",
     "output_type": "stream",
     "text": [
      " 31%|███▏      | 676/2158 [00:25<00:54, 27.09it/s]"
     ]
    },
    {
     "name": "stdout",
     "output_type": "stream",
     "text": [
      "\n",
      "0: 384x640 (no detections), 32.4ms\n",
      "Speed: 0.5ms preprocess, 32.4ms inference, 0.5ms postprocess per image at shape (1, 3, 384, 640)\n",
      "\n",
      "0: 384x640 (no detections), 32.4ms\n",
      "Speed: 0.7ms preprocess, 32.4ms inference, 0.6ms postprocess per image at shape (1, 3, 384, 640)\n",
      "\n",
      "0: 384x640 (no detections), 32.4ms\n",
      "Speed: 0.6ms preprocess, 32.4ms inference, 0.5ms postprocess per image at shape (1, 3, 384, 640)\n"
     ]
    },
    {
     "name": "stderr",
     "output_type": "stream",
     "text": [
      " 31%|███▏      | 679/2158 [00:25<00:54, 27.12it/s]"
     ]
    },
    {
     "name": "stdout",
     "output_type": "stream",
     "text": [
      "\n",
      "0: 384x640 (no detections), 32.7ms\n",
      "Speed: 0.5ms preprocess, 32.7ms inference, 0.7ms postprocess per image at shape (1, 3, 384, 640)\n",
      "\n",
      "0: 384x640 (no detections), 32.5ms\n",
      "Speed: 1.2ms preprocess, 32.5ms inference, 0.8ms postprocess per image at shape (1, 3, 384, 640)\n",
      "\n",
      "0: 384x640 (no detections), 32.4ms\n",
      "Speed: 0.7ms preprocess, 32.4ms inference, 0.5ms postprocess per image at shape (1, 3, 384, 640)\n"
     ]
    },
    {
     "name": "stderr",
     "output_type": "stream",
     "text": [
      " 32%|███▏      | 682/2158 [00:26<00:54, 26.91it/s]"
     ]
    },
    {
     "name": "stdout",
     "output_type": "stream",
     "text": [
      "\n",
      "0: 384x640 (no detections), 32.5ms\n",
      "Speed: 0.6ms preprocess, 32.5ms inference, 0.5ms postprocess per image at shape (1, 3, 384, 640)\n",
      "\n",
      "0: 384x640 (no detections), 32.4ms\n",
      "Speed: 0.6ms preprocess, 32.4ms inference, 0.6ms postprocess per image at shape (1, 3, 384, 640)\n",
      "\n",
      "0: 384x640 (no detections), 32.5ms\n",
      "Speed: 0.5ms preprocess, 32.5ms inference, 0.5ms postprocess per image at shape (1, 3, 384, 640)\n"
     ]
    },
    {
     "name": "stderr",
     "output_type": "stream",
     "text": [
      " 32%|███▏      | 685/2158 [00:26<00:54, 26.98it/s]"
     ]
    },
    {
     "name": "stdout",
     "output_type": "stream",
     "text": [
      "\n",
      "0: 384x640 (no detections), 32.3ms\n",
      "Speed: 0.7ms preprocess, 32.3ms inference, 0.8ms postprocess per image at shape (1, 3, 384, 640)\n",
      "\n",
      "0: 384x640 (no detections), 32.5ms\n",
      "Speed: 0.6ms preprocess, 32.5ms inference, 0.5ms postprocess per image at shape (1, 3, 384, 640)\n",
      "\n",
      "0: 384x640 (no detections), 32.5ms\n",
      "Speed: 0.6ms preprocess, 32.5ms inference, 0.5ms postprocess per image at shape (1, 3, 384, 640)\n"
     ]
    },
    {
     "name": "stderr",
     "output_type": "stream",
     "text": [
      " 32%|███▏      | 688/2158 [00:26<00:54, 27.06it/s]"
     ]
    },
    {
     "name": "stdout",
     "output_type": "stream",
     "text": [
      "\n",
      "0: 384x640 (no detections), 32.4ms\n",
      "Speed: 0.6ms preprocess, 32.4ms inference, 0.5ms postprocess per image at shape (1, 3, 384, 640)\n",
      "\n",
      "0: 384x640 (no detections), 32.5ms\n",
      "Speed: 0.6ms preprocess, 32.5ms inference, 0.6ms postprocess per image at shape (1, 3, 384, 640)\n",
      "\n",
      "0: 384x640 (no detections), 32.4ms\n",
      "Speed: 0.7ms preprocess, 32.4ms inference, 0.5ms postprocess per image at shape (1, 3, 384, 640)\n"
     ]
    },
    {
     "name": "stderr",
     "output_type": "stream",
     "text": [
      " 32%|███▏      | 691/2158 [00:26<00:54, 27.04it/s]"
     ]
    },
    {
     "name": "stdout",
     "output_type": "stream",
     "text": [
      "\n",
      "0: 384x640 (no detections), 32.5ms\n",
      "Speed: 0.6ms preprocess, 32.5ms inference, 0.5ms postprocess per image at shape (1, 3, 384, 640)\n",
      "\n",
      "0: 384x640 (no detections), 32.4ms\n",
      "Speed: 0.5ms preprocess, 32.4ms inference, 0.5ms postprocess per image at shape (1, 3, 384, 640)\n",
      "\n",
      "0: 384x640 (no detections), 32.4ms\n",
      "Speed: 0.6ms preprocess, 32.4ms inference, 0.5ms postprocess per image at shape (1, 3, 384, 640)\n"
     ]
    },
    {
     "name": "stderr",
     "output_type": "stream",
     "text": [
      " 32%|███▏      | 694/2158 [00:26<00:53, 27.13it/s]"
     ]
    },
    {
     "name": "stdout",
     "output_type": "stream",
     "text": [
      "\n",
      "0: 384x640 (no detections), 32.4ms\n",
      "Speed: 0.5ms preprocess, 32.4ms inference, 0.5ms postprocess per image at shape (1, 3, 384, 640)\n",
      "\n",
      "0: 384x640 (no detections), 32.4ms\n",
      "Speed: 0.6ms preprocess, 32.4ms inference, 0.7ms postprocess per image at shape (1, 3, 384, 640)\n",
      "\n",
      "0: 384x640 (no detections), 32.4ms\n",
      "Speed: 0.6ms preprocess, 32.4ms inference, 0.6ms postprocess per image at shape (1, 3, 384, 640)\n"
     ]
    },
    {
     "name": "stderr",
     "output_type": "stream",
     "text": [
      " 32%|███▏      | 697/2158 [00:26<00:53, 27.09it/s]"
     ]
    },
    {
     "name": "stdout",
     "output_type": "stream",
     "text": [
      "\n",
      "0: 384x640 (no detections), 32.4ms\n",
      "Speed: 0.6ms preprocess, 32.4ms inference, 0.5ms postprocess per image at shape (1, 3, 384, 640)\n",
      "\n",
      "0: 384x640 (no detections), 32.6ms\n",
      "Speed: 0.5ms preprocess, 32.6ms inference, 0.5ms postprocess per image at shape (1, 3, 384, 640)\n",
      "\n",
      "0: 384x640 (no detections), 32.5ms\n",
      "Speed: 0.6ms preprocess, 32.5ms inference, 0.5ms postprocess per image at shape (1, 3, 384, 640)\n"
     ]
    },
    {
     "name": "stderr",
     "output_type": "stream",
     "text": [
      " 32%|███▏      | 700/2158 [00:26<00:53, 27.14it/s]"
     ]
    },
    {
     "name": "stdout",
     "output_type": "stream",
     "text": [
      "\n",
      "0: 384x640 (no detections), 32.4ms\n",
      "Speed: 0.7ms preprocess, 32.4ms inference, 0.6ms postprocess per image at shape (1, 3, 384, 640)\n",
      "\n",
      "0: 384x640 (no detections), 32.5ms\n",
      "Speed: 0.6ms preprocess, 32.5ms inference, 0.5ms postprocess per image at shape (1, 3, 384, 640)\n",
      "\n",
      "0: 384x640 (no detections), 32.5ms\n",
      "Speed: 0.5ms preprocess, 32.5ms inference, 0.5ms postprocess per image at shape (1, 3, 384, 640)\n"
     ]
    },
    {
     "name": "stderr",
     "output_type": "stream",
     "text": [
      " 33%|███▎      | 703/2158 [00:26<00:53, 27.13it/s]"
     ]
    },
    {
     "name": "stdout",
     "output_type": "stream",
     "text": [
      "\n",
      "0: 384x640 (no detections), 32.5ms\n",
      "Speed: 0.5ms preprocess, 32.5ms inference, 0.5ms postprocess per image at shape (1, 3, 384, 640)\n",
      "\n",
      "0: 384x640 (no detections), 32.4ms\n",
      "Speed: 0.5ms preprocess, 32.4ms inference, 0.5ms postprocess per image at shape (1, 3, 384, 640)\n",
      "\n",
      "0: 384x640 (no detections), 32.4ms\n",
      "Speed: 0.7ms preprocess, 32.4ms inference, 0.7ms postprocess per image at shape (1, 3, 384, 640)\n"
     ]
    },
    {
     "name": "stderr",
     "output_type": "stream",
     "text": [
      " 33%|███▎      | 706/2158 [00:26<00:53, 27.09it/s]"
     ]
    },
    {
     "name": "stdout",
     "output_type": "stream",
     "text": [
      "\n",
      "0: 384x640 (no detections), 32.5ms\n",
      "Speed: 0.6ms preprocess, 32.5ms inference, 0.8ms postprocess per image at shape (1, 3, 384, 640)\n",
      "\n",
      "0: 384x640 (no detections), 32.6ms\n",
      "Speed: 1.0ms preprocess, 32.6ms inference, 0.5ms postprocess per image at shape (1, 3, 384, 640)\n",
      "\n",
      "0: 384x640 (no detections), 32.3ms\n",
      "Speed: 0.5ms preprocess, 32.3ms inference, 0.5ms postprocess per image at shape (1, 3, 384, 640)\n"
     ]
    },
    {
     "name": "stderr",
     "output_type": "stream",
     "text": [
      " 33%|███▎      | 709/2158 [00:27<00:53, 26.94it/s]"
     ]
    },
    {
     "name": "stdout",
     "output_type": "stream",
     "text": [
      "\n",
      "0: 384x640 (no detections), 32.5ms\n",
      "Speed: 0.6ms preprocess, 32.5ms inference, 0.6ms postprocess per image at shape (1, 3, 384, 640)\n",
      "\n",
      "0: 384x640 (no detections), 32.5ms\n",
      "Speed: 0.5ms preprocess, 32.5ms inference, 0.5ms postprocess per image at shape (1, 3, 384, 640)\n",
      "\n",
      "0: 384x640 (no detections), 32.4ms\n",
      "Speed: 0.6ms preprocess, 32.4ms inference, 0.5ms postprocess per image at shape (1, 3, 384, 640)\n"
     ]
    },
    {
     "name": "stderr",
     "output_type": "stream",
     "text": [
      " 33%|███▎      | 712/2158 [00:27<00:53, 27.02it/s]"
     ]
    },
    {
     "name": "stdout",
     "output_type": "stream",
     "text": [
      "\n",
      "0: 384x640 (no detections), 32.3ms\n",
      "Speed: 0.6ms preprocess, 32.3ms inference, 0.5ms postprocess per image at shape (1, 3, 384, 640)\n",
      "\n",
      "0: 384x640 (no detections), 32.3ms\n",
      "Speed: 0.7ms preprocess, 32.3ms inference, 0.7ms postprocess per image at shape (1, 3, 384, 640)\n",
      "\n",
      "0: 384x640 (no detections), 32.4ms\n",
      "Speed: 0.7ms preprocess, 32.4ms inference, 0.7ms postprocess per image at shape (1, 3, 384, 640)\n"
     ]
    },
    {
     "name": "stderr",
     "output_type": "stream",
     "text": [
      " 33%|███▎      | 715/2158 [00:27<00:53, 27.05it/s]"
     ]
    },
    {
     "name": "stdout",
     "output_type": "stream",
     "text": [
      "\n",
      "0: 384x640 (no detections), 32.4ms\n",
      "Speed: 0.6ms preprocess, 32.4ms inference, 0.5ms postprocess per image at shape (1, 3, 384, 640)\n",
      "\n",
      "0: 384x640 (no detections), 32.4ms\n",
      "Speed: 0.6ms preprocess, 32.4ms inference, 0.5ms postprocess per image at shape (1, 3, 384, 640)\n",
      "\n",
      "0: 384x640 (no detections), 32.4ms\n",
      "Speed: 0.6ms preprocess, 32.4ms inference, 0.5ms postprocess per image at shape (1, 3, 384, 640)\n"
     ]
    },
    {
     "name": "stderr",
     "output_type": "stream",
     "text": [
      " 33%|███▎      | 718/2158 [00:27<00:53, 27.14it/s]"
     ]
    },
    {
     "name": "stdout",
     "output_type": "stream",
     "text": [
      "\n",
      "0: 384x640 (no detections), 32.4ms\n",
      "Speed: 0.8ms preprocess, 32.4ms inference, 0.8ms postprocess per image at shape (1, 3, 384, 640)\n",
      "\n",
      "0: 384x640 (no detections), 32.4ms\n",
      "Speed: 0.5ms preprocess, 32.4ms inference, 0.5ms postprocess per image at shape (1, 3, 384, 640)\n",
      "\n",
      "0: 384x640 (no detections), 32.4ms\n",
      "Speed: 0.6ms preprocess, 32.4ms inference, 0.5ms postprocess per image at shape (1, 3, 384, 640)\n"
     ]
    },
    {
     "name": "stderr",
     "output_type": "stream",
     "text": [
      " 33%|███▎      | 721/2158 [00:27<00:53, 27.10it/s]"
     ]
    },
    {
     "name": "stdout",
     "output_type": "stream",
     "text": [
      "\n",
      "0: 384x640 (no detections), 32.4ms\n",
      "Speed: 0.6ms preprocess, 32.4ms inference, 0.5ms postprocess per image at shape (1, 3, 384, 640)\n",
      "\n",
      "0: 384x640 (no detections), 32.6ms\n",
      "Speed: 0.6ms preprocess, 32.6ms inference, 0.5ms postprocess per image at shape (1, 3, 384, 640)\n",
      "\n",
      "0: 384x640 (no detections), 32.4ms\n",
      "Speed: 0.7ms preprocess, 32.4ms inference, 0.5ms postprocess per image at shape (1, 3, 384, 640)\n"
     ]
    },
    {
     "name": "stderr",
     "output_type": "stream",
     "text": [
      " 34%|███▎      | 724/2158 [00:27<00:52, 27.13it/s]"
     ]
    },
    {
     "name": "stdout",
     "output_type": "stream",
     "text": [
      "\n",
      "0: 384x640 (no detections), 32.4ms\n",
      "Speed: 0.6ms preprocess, 32.4ms inference, 0.5ms postprocess per image at shape (1, 3, 384, 640)\n",
      "\n",
      "0: 384x640 (no detections), 32.4ms\n",
      "Speed: 0.5ms preprocess, 32.4ms inference, 0.5ms postprocess per image at shape (1, 3, 384, 640)\n",
      "\n",
      "0: 384x640 (no detections), 32.4ms\n",
      "Speed: 0.6ms preprocess, 32.4ms inference, 0.5ms postprocess per image at shape (1, 3, 384, 640)\n"
     ]
    },
    {
     "name": "stderr",
     "output_type": "stream",
     "text": [
      " 34%|███▎      | 727/2158 [00:27<00:52, 27.19it/s]"
     ]
    },
    {
     "name": "stdout",
     "output_type": "stream",
     "text": [
      "\n",
      "0: 384x640 (no detections), 32.5ms\n",
      "Speed: 0.6ms preprocess, 32.5ms inference, 0.5ms postprocess per image at shape (1, 3, 384, 640)\n",
      "\n",
      "0: 384x640 (no detections), 32.4ms\n",
      "Speed: 0.7ms preprocess, 32.4ms inference, 0.5ms postprocess per image at shape (1, 3, 384, 640)\n",
      "\n",
      "0: 384x640 (no detections), 32.4ms\n",
      "Speed: 0.6ms preprocess, 32.4ms inference, 0.5ms postprocess per image at shape (1, 3, 384, 640)\n"
     ]
    },
    {
     "name": "stderr",
     "output_type": "stream",
     "text": [
      " 34%|███▍      | 730/2158 [00:27<00:52, 27.10it/s]"
     ]
    },
    {
     "name": "stdout",
     "output_type": "stream",
     "text": [
      "\n",
      "0: 384x640 (no detections), 32.4ms\n",
      "Speed: 0.5ms preprocess, 32.4ms inference, 0.6ms postprocess per image at shape (1, 3, 384, 640)\n",
      "\n",
      "0: 384x640 (no detections), 32.4ms\n",
      "Speed: 0.6ms preprocess, 32.4ms inference, 0.5ms postprocess per image at shape (1, 3, 384, 640)\n",
      "\n",
      "0: 384x640 (no detections), 32.2ms\n",
      "Speed: 0.7ms preprocess, 32.2ms inference, 0.5ms postprocess per image at shape (1, 3, 384, 640)\n"
     ]
    },
    {
     "name": "stderr",
     "output_type": "stream",
     "text": [
      " 34%|███▍      | 733/2158 [00:27<00:52, 27.11it/s]"
     ]
    },
    {
     "name": "stdout",
     "output_type": "stream",
     "text": [
      "\n",
      "0: 384x640 (no detections), 32.5ms\n",
      "Speed: 0.7ms preprocess, 32.5ms inference, 0.8ms postprocess per image at shape (1, 3, 384, 640)\n",
      "\n",
      "0: 384x640 (no detections), 32.5ms\n",
      "Speed: 1.4ms preprocess, 32.5ms inference, 0.5ms postprocess per image at shape (1, 3, 384, 640)\n",
      "\n",
      "0: 384x640 (no detections), 32.4ms\n",
      "Speed: 0.6ms preprocess, 32.4ms inference, 0.5ms postprocess per image at shape (1, 3, 384, 640)\n"
     ]
    },
    {
     "name": "stderr",
     "output_type": "stream",
     "text": [
      " 34%|███▍      | 736/2158 [00:28<00:52, 26.94it/s]"
     ]
    },
    {
     "name": "stdout",
     "output_type": "stream",
     "text": [
      "\n",
      "0: 384x640 (no detections), 32.2ms\n",
      "Speed: 0.6ms preprocess, 32.2ms inference, 0.7ms postprocess per image at shape (1, 3, 384, 640)\n",
      "\n",
      "0: 384x640 (no detections), 32.5ms\n",
      "Speed: 0.7ms preprocess, 32.5ms inference, 0.6ms postprocess per image at shape (1, 3, 384, 640)\n",
      "\n",
      "0: 384x640 (no detections), 32.4ms\n",
      "Speed: 0.6ms preprocess, 32.4ms inference, 0.5ms postprocess per image at shape (1, 3, 384, 640)\n"
     ]
    },
    {
     "name": "stderr",
     "output_type": "stream",
     "text": [
      " 34%|███▍      | 739/2158 [00:28<00:52, 27.01it/s]"
     ]
    },
    {
     "name": "stdout",
     "output_type": "stream",
     "text": [
      "\n",
      "0: 384x640 (no detections), 32.4ms\n",
      "Speed: 0.7ms preprocess, 32.4ms inference, 0.5ms postprocess per image at shape (1, 3, 384, 640)\n",
      "\n",
      "0: 384x640 (no detections), 32.4ms\n",
      "Speed: 0.6ms preprocess, 32.4ms inference, 0.7ms postprocess per image at shape (1, 3, 384, 640)\n",
      "\n",
      "0: 384x640 (no detections), 32.3ms\n",
      "Speed: 0.8ms preprocess, 32.3ms inference, 0.5ms postprocess per image at shape (1, 3, 384, 640)\n"
     ]
    },
    {
     "name": "stderr",
     "output_type": "stream",
     "text": [
      " 34%|███▍      | 742/2158 [00:28<00:52, 27.03it/s]"
     ]
    },
    {
     "name": "stdout",
     "output_type": "stream",
     "text": [
      "\n",
      "0: 384x640 (no detections), 32.4ms\n",
      "Speed: 0.6ms preprocess, 32.4ms inference, 0.5ms postprocess per image at shape (1, 3, 384, 640)\n",
      "\n",
      "0: 384x640 (no detections), 32.4ms\n",
      "Speed: 0.6ms preprocess, 32.4ms inference, 0.5ms postprocess per image at shape (1, 3, 384, 640)\n",
      "\n",
      "0: 384x640 (no detections), 32.4ms\n",
      "Speed: 0.5ms preprocess, 32.4ms inference, 0.5ms postprocess per image at shape (1, 3, 384, 640)\n"
     ]
    },
    {
     "name": "stderr",
     "output_type": "stream",
     "text": [
      " 35%|███▍      | 745/2158 [00:28<00:52, 27.10it/s]"
     ]
    },
    {
     "name": "stdout",
     "output_type": "stream",
     "text": [
      "\n",
      "0: 384x640 (no detections), 32.4ms\n",
      "Speed: 0.6ms preprocess, 32.4ms inference, 0.5ms postprocess per image at shape (1, 3, 384, 640)\n",
      "\n",
      "0: 384x640 (no detections), 32.4ms\n",
      "Speed: 0.7ms preprocess, 32.4ms inference, 0.5ms postprocess per image at shape (1, 3, 384, 640)\n",
      "\n",
      "0: 384x640 (no detections), 32.4ms\n",
      "Speed: 0.6ms preprocess, 32.4ms inference, 0.5ms postprocess per image at shape (1, 3, 384, 640)\n"
     ]
    },
    {
     "name": "stderr",
     "output_type": "stream",
     "text": [
      " 35%|███▍      | 748/2158 [00:28<00:51, 27.13it/s]"
     ]
    },
    {
     "name": "stdout",
     "output_type": "stream",
     "text": [
      "\n",
      "0: 384x640 (no detections), 32.4ms\n",
      "Speed: 0.6ms preprocess, 32.4ms inference, 0.5ms postprocess per image at shape (1, 3, 384, 640)\n",
      "\n",
      "0: 384x640 (no detections), 32.5ms\n",
      "Speed: 0.5ms preprocess, 32.5ms inference, 0.4ms postprocess per image at shape (1, 3, 384, 640)\n",
      "\n",
      "0: 384x640 (no detections), 32.4ms\n",
      "Speed: 0.6ms preprocess, 32.4ms inference, 0.4ms postprocess per image at shape (1, 3, 384, 640)\n"
     ]
    },
    {
     "name": "stderr",
     "output_type": "stream",
     "text": [
      " 35%|███▍      | 751/2158 [00:28<00:51, 27.20it/s]"
     ]
    },
    {
     "name": "stdout",
     "output_type": "stream",
     "text": [
      "\n",
      "0: 384x640 (no detections), 32.4ms\n",
      "Speed: 0.7ms preprocess, 32.4ms inference, 0.6ms postprocess per image at shape (1, 3, 384, 640)\n",
      "\n",
      "0: 384x640 (no detections), 32.4ms\n",
      "Speed: 0.5ms preprocess, 32.4ms inference, 0.5ms postprocess per image at shape (1, 3, 384, 640)\n",
      "\n",
      "0: 384x640 (no detections), 32.4ms\n",
      "Speed: 0.5ms preprocess, 32.4ms inference, 0.5ms postprocess per image at shape (1, 3, 384, 640)\n"
     ]
    },
    {
     "name": "stderr",
     "output_type": "stream",
     "text": [
      " 35%|███▍      | 754/2158 [00:28<00:51, 27.25it/s]"
     ]
    },
    {
     "name": "stdout",
     "output_type": "stream",
     "text": [
      "\n",
      "0: 384x640 (no detections), 32.4ms\n",
      "Speed: 0.6ms preprocess, 32.4ms inference, 0.5ms postprocess per image at shape (1, 3, 384, 640)\n",
      "\n",
      "0: 384x640 (no detections), 32.4ms\n",
      "Speed: 0.6ms preprocess, 32.4ms inference, 0.4ms postprocess per image at shape (1, 3, 384, 640)\n",
      "\n",
      "0: 384x640 (no detections), 32.1ms\n",
      "Speed: 0.6ms preprocess, 32.1ms inference, 0.6ms postprocess per image at shape (1, 3, 384, 640)\n"
     ]
    },
    {
     "name": "stderr",
     "output_type": "stream",
     "text": [
      " 35%|███▌      | 757/2158 [00:28<00:51, 27.25it/s]"
     ]
    },
    {
     "name": "stdout",
     "output_type": "stream",
     "text": [
      "\n",
      "0: 384x640 (no detections), 32.4ms\n",
      "Speed: 0.6ms preprocess, 32.4ms inference, 0.7ms postprocess per image at shape (1, 3, 384, 640)\n",
      "\n",
      "0: 384x640 (no detections), 32.3ms\n",
      "Speed: 0.6ms preprocess, 32.3ms inference, 0.5ms postprocess per image at shape (1, 3, 384, 640)\n",
      "\n",
      "0: 384x640 (no detections), 32.4ms\n",
      "Speed: 0.5ms preprocess, 32.4ms inference, 0.5ms postprocess per image at shape (1, 3, 384, 640)\n"
     ]
    },
    {
     "name": "stderr",
     "output_type": "stream",
     "text": [
      " 35%|███▌      | 760/2158 [00:28<00:51, 27.29it/s]"
     ]
    },
    {
     "name": "stdout",
     "output_type": "stream",
     "text": [
      "\n",
      "0: 384x640 (no detections), 32.4ms\n",
      "Speed: 0.6ms preprocess, 32.4ms inference, 0.5ms postprocess per image at shape (1, 3, 384, 640)\n",
      "\n",
      "0: 384x640 (no detections), 32.1ms\n",
      "Speed: 0.8ms preprocess, 32.1ms inference, 0.7ms postprocess per image at shape (1, 3, 384, 640)\n",
      "\n",
      "0: 384x640 (no detections), 32.4ms\n",
      "Speed: 0.5ms preprocess, 32.4ms inference, 0.5ms postprocess per image at shape (1, 3, 384, 640)\n"
     ]
    },
    {
     "name": "stderr",
     "output_type": "stream",
     "text": [
      " 35%|███▌      | 763/2158 [00:29<00:51, 27.32it/s]"
     ]
    },
    {
     "name": "stdout",
     "output_type": "stream",
     "text": [
      "\n",
      "0: 384x640 (no detections), 32.5ms\n",
      "Speed: 0.6ms preprocess, 32.5ms inference, 0.5ms postprocess per image at shape (1, 3, 384, 640)\n",
      "\n",
      "0: 384x640 (no detections), 32.4ms\n",
      "Speed: 0.5ms preprocess, 32.4ms inference, 0.5ms postprocess per image at shape (1, 3, 384, 640)\n",
      "\n",
      "0: 384x640 (no detections), 32.5ms\n",
      "Speed: 0.6ms preprocess, 32.5ms inference, 0.4ms postprocess per image at shape (1, 3, 384, 640)\n"
     ]
    },
    {
     "name": "stderr",
     "output_type": "stream",
     "text": [
      " 35%|███▌      | 766/2158 [00:29<00:50, 27.31it/s]"
     ]
    },
    {
     "name": "stdout",
     "output_type": "stream",
     "text": [
      "\n",
      "0: 384x640 (no detections), 32.3ms\n",
      "Speed: 0.8ms preprocess, 32.3ms inference, 0.9ms postprocess per image at shape (1, 3, 384, 640)\n",
      "\n",
      "0: 384x640 (no detections), 32.6ms\n",
      "Speed: 0.6ms preprocess, 32.6ms inference, 0.5ms postprocess per image at shape (1, 3, 384, 640)\n",
      "\n",
      "0: 384x640 (no detections), 32.5ms\n",
      "Speed: 0.6ms preprocess, 32.5ms inference, 0.5ms postprocess per image at shape (1, 3, 384, 640)\n"
     ]
    },
    {
     "name": "stderr",
     "output_type": "stream",
     "text": [
      " 36%|███▌      | 769/2158 [00:29<00:51, 27.23it/s]"
     ]
    },
    {
     "name": "stdout",
     "output_type": "stream",
     "text": [
      "\n",
      "0: 384x640 (no detections), 32.4ms\n",
      "Speed: 0.6ms preprocess, 32.4ms inference, 0.5ms postprocess per image at shape (1, 3, 384, 640)\n",
      "\n",
      "0: 384x640 (no detections), 32.6ms\n",
      "Speed: 0.6ms preprocess, 32.6ms inference, 0.5ms postprocess per image at shape (1, 3, 384, 640)\n",
      "\n",
      "0: 384x640 (no detections), 32.4ms\n",
      "Speed: 0.7ms preprocess, 32.4ms inference, 0.6ms postprocess per image at shape (1, 3, 384, 640)\n"
     ]
    },
    {
     "name": "stderr",
     "output_type": "stream",
     "text": [
      " 36%|███▌      | 772/2158 [00:29<00:50, 27.25it/s]"
     ]
    },
    {
     "name": "stdout",
     "output_type": "stream",
     "text": [
      "\n",
      "0: 384x640 (no detections), 32.4ms\n",
      "Speed: 0.6ms preprocess, 32.4ms inference, 0.5ms postprocess per image at shape (1, 3, 384, 640)\n",
      "\n",
      "0: 384x640 (no detections), 32.4ms\n",
      "Speed: 0.7ms preprocess, 32.4ms inference, 0.5ms postprocess per image at shape (1, 3, 384, 640)\n",
      "\n",
      "0: 384x640 (no detections), 32.4ms\n",
      "Speed: 0.5ms preprocess, 32.4ms inference, 0.5ms postprocess per image at shape (1, 3, 384, 640)\n"
     ]
    },
    {
     "name": "stderr",
     "output_type": "stream",
     "text": [
      " 36%|███▌      | 775/2158 [00:29<00:50, 27.25it/s]"
     ]
    },
    {
     "name": "stdout",
     "output_type": "stream",
     "text": [
      "\n",
      "0: 384x640 (no detections), 32.4ms\n",
      "Speed: 0.5ms preprocess, 32.4ms inference, 0.5ms postprocess per image at shape (1, 3, 384, 640)\n",
      "\n",
      "0: 384x640 (no detections), 32.3ms\n",
      "Speed: 0.6ms preprocess, 32.3ms inference, 0.5ms postprocess per image at shape (1, 3, 384, 640)\n",
      "\n",
      "0: 384x640 (no detections), 32.4ms\n",
      "Speed: 0.5ms preprocess, 32.4ms inference, 0.5ms postprocess per image at shape (1, 3, 384, 640)\n"
     ]
    },
    {
     "name": "stderr",
     "output_type": "stream",
     "text": [
      " 36%|███▌      | 778/2158 [00:29<00:50, 27.29it/s]"
     ]
    },
    {
     "name": "stdout",
     "output_type": "stream",
     "text": [
      "\n",
      "0: 384x640 (no detections), 32.4ms\n",
      "Speed: 0.5ms preprocess, 32.4ms inference, 0.5ms postprocess per image at shape (1, 3, 384, 640)\n",
      "\n",
      "0: 384x640 (no detections), 32.5ms\n",
      "Speed: 0.5ms preprocess, 32.5ms inference, 0.5ms postprocess per image at shape (1, 3, 384, 640)\n",
      "\n",
      "0: 384x640 (no detections), 32.4ms\n",
      "Speed: 0.5ms preprocess, 32.4ms inference, 0.4ms postprocess per image at shape (1, 3, 384, 640)\n"
     ]
    },
    {
     "name": "stderr",
     "output_type": "stream",
     "text": [
      " 36%|███▌      | 781/2158 [00:29<00:50, 27.27it/s]"
     ]
    },
    {
     "name": "stdout",
     "output_type": "stream",
     "text": [
      "\n",
      "0: 384x640 (no detections), 32.4ms\n",
      "Speed: 0.7ms preprocess, 32.4ms inference, 0.5ms postprocess per image at shape (1, 3, 384, 640)\n",
      "\n",
      "0: 384x640 (no detections), 32.4ms\n",
      "Speed: 0.5ms preprocess, 32.4ms inference, 0.5ms postprocess per image at shape (1, 3, 384, 640)\n",
      "\n",
      "0: 384x640 (no detections), 32.5ms\n",
      "Speed: 0.5ms preprocess, 32.5ms inference, 0.5ms postprocess per image at shape (1, 3, 384, 640)\n"
     ]
    },
    {
     "name": "stderr",
     "output_type": "stream",
     "text": [
      " 36%|███▋      | 784/2158 [00:29<00:50, 27.27it/s]"
     ]
    },
    {
     "name": "stdout",
     "output_type": "stream",
     "text": [
      "\n",
      "0: 384x640 (no detections), 32.4ms\n",
      "Speed: 0.5ms preprocess, 32.4ms inference, 0.5ms postprocess per image at shape (1, 3, 384, 640)\n",
      "\n",
      "0: 384x640 (no detections), 32.4ms\n",
      "Speed: 0.5ms preprocess, 32.4ms inference, 0.5ms postprocess per image at shape (1, 3, 384, 640)\n",
      "\n",
      "0: 384x640 (no detections), 32.3ms\n",
      "Speed: 0.8ms preprocess, 32.3ms inference, 0.6ms postprocess per image at shape (1, 3, 384, 640)\n"
     ]
    },
    {
     "name": "stderr",
     "output_type": "stream",
     "text": [
      " 36%|███▋      | 787/2158 [00:29<00:50, 27.27it/s]"
     ]
    },
    {
     "name": "stdout",
     "output_type": "stream",
     "text": [
      "\n",
      "0: 384x640 (no detections), 32.4ms\n",
      "Speed: 0.5ms preprocess, 32.4ms inference, 0.5ms postprocess per image at shape (1, 3, 384, 640)\n",
      "\n",
      "0: 384x640 (no detections), 32.4ms\n",
      "Speed: 0.5ms preprocess, 32.4ms inference, 0.5ms postprocess per image at shape (1, 3, 384, 640)\n",
      "\n",
      "0: 384x640 (no detections), 32.4ms\n",
      "Speed: 0.6ms preprocess, 32.4ms inference, 0.5ms postprocess per image at shape (1, 3, 384, 640)\n"
     ]
    },
    {
     "name": "stderr",
     "output_type": "stream",
     "text": [
      " 37%|███▋      | 790/2158 [00:30<00:50, 27.31it/s]"
     ]
    },
    {
     "name": "stdout",
     "output_type": "stream",
     "text": [
      "\n",
      "0: 384x640 (no detections), 32.4ms\n",
      "Speed: 0.5ms preprocess, 32.4ms inference, 0.5ms postprocess per image at shape (1, 3, 384, 640)\n",
      "\n",
      "0: 384x640 (no detections), 32.1ms\n",
      "Speed: 0.7ms preprocess, 32.1ms inference, 0.4ms postprocess per image at shape (1, 3, 384, 640)\n",
      "\n",
      "0: 384x640 (no detections), 32.4ms\n",
      "Speed: 0.6ms preprocess, 32.4ms inference, 0.7ms postprocess per image at shape (1, 3, 384, 640)\n"
     ]
    },
    {
     "name": "stderr",
     "output_type": "stream",
     "text": [
      " 37%|███▋      | 793/2158 [00:30<00:50, 27.30it/s]"
     ]
    },
    {
     "name": "stdout",
     "output_type": "stream",
     "text": [
      "\n",
      "0: 384x640 (no detections), 32.5ms\n",
      "Speed: 0.5ms preprocess, 32.5ms inference, 0.5ms postprocess per image at shape (1, 3, 384, 640)\n",
      "\n",
      "0: 384x640 (no detections), 32.4ms\n",
      "Speed: 0.6ms preprocess, 32.4ms inference, 0.5ms postprocess per image at shape (1, 3, 384, 640)\n",
      "\n",
      "0: 384x640 (no detections), 32.5ms\n",
      "Speed: 0.5ms preprocess, 32.5ms inference, 0.5ms postprocess per image at shape (1, 3, 384, 640)\n"
     ]
    },
    {
     "name": "stderr",
     "output_type": "stream",
     "text": [
      " 37%|███▋      | 796/2158 [00:30<00:49, 27.33it/s]"
     ]
    },
    {
     "name": "stdout",
     "output_type": "stream",
     "text": [
      "\n",
      "0: 384x640 (no detections), 32.2ms\n",
      "Speed: 0.7ms preprocess, 32.2ms inference, 1.0ms postprocess per image at shape (1, 3, 384, 640)\n",
      "\n",
      "0: 384x640 (no detections), 32.4ms\n",
      "Speed: 0.5ms preprocess, 32.4ms inference, 0.4ms postprocess per image at shape (1, 3, 384, 640)\n",
      "\n",
      "0: 384x640 (no detections), 32.5ms\n",
      "Speed: 0.6ms preprocess, 32.5ms inference, 0.4ms postprocess per image at shape (1, 3, 384, 640)\n"
     ]
    },
    {
     "name": "stderr",
     "output_type": "stream",
     "text": [
      " 37%|███▋      | 799/2158 [00:30<00:49, 27.24it/s]"
     ]
    },
    {
     "name": "stdout",
     "output_type": "stream",
     "text": [
      "\n",
      "0: 384x640 (no detections), 32.4ms\n",
      "Speed: 0.5ms preprocess, 32.4ms inference, 0.5ms postprocess per image at shape (1, 3, 384, 640)\n",
      "\n",
      "0: 384x640 (no detections), 32.3ms\n",
      "Speed: 0.5ms preprocess, 32.3ms inference, 0.7ms postprocess per image at shape (1, 3, 384, 640)\n",
      "\n",
      "0: 384x640 (no detections), 32.3ms\n",
      "Speed: 0.7ms preprocess, 32.3ms inference, 0.5ms postprocess per image at shape (1, 3, 384, 640)\n"
     ]
    },
    {
     "name": "stderr",
     "output_type": "stream",
     "text": [
      " 37%|███▋      | 802/2158 [00:30<00:49, 27.26it/s]"
     ]
    },
    {
     "name": "stdout",
     "output_type": "stream",
     "text": [
      "\n",
      "0: 384x640 (no detections), 32.4ms\n",
      "Speed: 0.6ms preprocess, 32.4ms inference, 0.7ms postprocess per image at shape (1, 3, 384, 640)\n",
      "\n",
      "0: 384x640 (no detections), 32.4ms\n",
      "Speed: 0.6ms preprocess, 32.4ms inference, 0.5ms postprocess per image at shape (1, 3, 384, 640)\n",
      "\n",
      "0: 384x640 (no detections), 32.4ms\n",
      "Speed: 0.5ms preprocess, 32.4ms inference, 0.4ms postprocess per image at shape (1, 3, 384, 640)\n"
     ]
    },
    {
     "name": "stderr",
     "output_type": "stream",
     "text": [
      " 37%|███▋      | 805/2158 [00:30<00:49, 27.24it/s]"
     ]
    },
    {
     "name": "stdout",
     "output_type": "stream",
     "text": [
      "\n",
      "0: 384x640 (no detections), 32.4ms\n",
      "Speed: 0.5ms preprocess, 32.4ms inference, 0.7ms postprocess per image at shape (1, 3, 384, 640)\n",
      "\n",
      "0: 384x640 (no detections), 32.3ms\n",
      "Speed: 0.7ms preprocess, 32.3ms inference, 0.5ms postprocess per image at shape (1, 3, 384, 640)\n",
      "\n",
      "0: 384x640 (no detections), 32.3ms\n",
      "Speed: 0.5ms preprocess, 32.3ms inference, 0.5ms postprocess per image at shape (1, 3, 384, 640)\n"
     ]
    },
    {
     "name": "stderr",
     "output_type": "stream",
     "text": [
      " 37%|███▋      | 808/2158 [00:30<00:49, 27.22it/s]"
     ]
    },
    {
     "name": "stdout",
     "output_type": "stream",
     "text": [
      "\n",
      "0: 384x640 (no detections), 32.4ms\n",
      "Speed: 0.5ms preprocess, 32.4ms inference, 0.7ms postprocess per image at shape (1, 3, 384, 640)\n",
      "\n",
      "0: 384x640 (no detections), 32.4ms\n",
      "Speed: 0.6ms preprocess, 32.4ms inference, 0.4ms postprocess per image at shape (1, 3, 384, 640)\n",
      "\n",
      "0: 384x640 (no detections), 32.4ms\n",
      "Speed: 0.6ms preprocess, 32.4ms inference, 0.4ms postprocess per image at shape (1, 3, 384, 640)\n"
     ]
    },
    {
     "name": "stderr",
     "output_type": "stream",
     "text": [
      " 38%|███▊      | 811/2158 [00:30<00:49, 27.25it/s]"
     ]
    },
    {
     "name": "stdout",
     "output_type": "stream",
     "text": [
      "\n",
      "0: 384x640 (no detections), 32.4ms\n",
      "Speed: 0.7ms preprocess, 32.4ms inference, 0.5ms postprocess per image at shape (1, 3, 384, 640)\n",
      "\n",
      "0: 384x640 (no detections), 32.4ms\n",
      "Speed: 0.7ms preprocess, 32.4ms inference, 0.5ms postprocess per image at shape (1, 3, 384, 640)\n",
      "\n",
      "0: 384x640 (no detections), 32.4ms\n",
      "Speed: 0.7ms preprocess, 32.4ms inference, 0.7ms postprocess per image at shape (1, 3, 384, 640)\n"
     ]
    },
    {
     "name": "stderr",
     "output_type": "stream",
     "text": [
      " 38%|███▊      | 814/2158 [00:30<00:49, 27.15it/s]"
     ]
    },
    {
     "name": "stdout",
     "output_type": "stream",
     "text": [
      "\n",
      "0: 384x640 (no detections), 32.4ms\n",
      "Speed: 0.6ms preprocess, 32.4ms inference, 0.5ms postprocess per image at shape (1, 3, 384, 640)\n",
      "\n",
      "0: 384x640 (no detections), 32.4ms\n",
      "Speed: 0.6ms preprocess, 32.4ms inference, 0.4ms postprocess per image at shape (1, 3, 384, 640)\n",
      "\n",
      "0: 384x640 (no detections), 32.4ms\n",
      "Speed: 0.7ms preprocess, 32.4ms inference, 0.5ms postprocess per image at shape (1, 3, 384, 640)\n"
     ]
    },
    {
     "name": "stderr",
     "output_type": "stream",
     "text": [
      " 38%|███▊      | 817/2158 [00:31<00:49, 27.14it/s]"
     ]
    },
    {
     "name": "stdout",
     "output_type": "stream",
     "text": [
      "\n",
      "0: 384x640 (no detections), 32.4ms\n",
      "Speed: 0.6ms preprocess, 32.4ms inference, 0.5ms postprocess per image at shape (1, 3, 384, 640)\n",
      "\n",
      "0: 384x640 (no detections), 32.5ms\n",
      "Speed: 0.5ms preprocess, 32.5ms inference, 0.5ms postprocess per image at shape (1, 3, 384, 640)\n",
      "\n",
      "0: 384x640 (no detections), 32.4ms\n",
      "Speed: 0.5ms preprocess, 32.4ms inference, 0.7ms postprocess per image at shape (1, 3, 384, 640)\n"
     ]
    },
    {
     "name": "stderr",
     "output_type": "stream",
     "text": [
      " 38%|███▊      | 820/2158 [00:31<00:49, 27.23it/s]"
     ]
    },
    {
     "name": "stdout",
     "output_type": "stream",
     "text": [
      "\n",
      "0: 384x640 (no detections), 32.6ms\n",
      "Speed: 0.5ms preprocess, 32.6ms inference, 0.7ms postprocess per image at shape (1, 3, 384, 640)\n",
      "\n",
      "0: 384x640 (no detections), 32.3ms\n",
      "Speed: 0.6ms preprocess, 32.3ms inference, 0.5ms postprocess per image at shape (1, 3, 384, 640)\n",
      "\n",
      "0: 384x640 (no detections), 32.5ms\n",
      "Speed: 0.6ms preprocess, 32.5ms inference, 0.5ms postprocess per image at shape (1, 3, 384, 640)\n"
     ]
    },
    {
     "name": "stderr",
     "output_type": "stream",
     "text": [
      " 38%|███▊      | 823/2158 [00:31<00:49, 27.19it/s]"
     ]
    },
    {
     "name": "stdout",
     "output_type": "stream",
     "text": [
      "\n",
      "0: 384x640 (no detections), 32.5ms\n",
      "Speed: 0.6ms preprocess, 32.5ms inference, 0.5ms postprocess per image at shape (1, 3, 384, 640)\n",
      "\n",
      "0: 384x640 (no detections), 32.6ms\n",
      "Speed: 0.5ms preprocess, 32.6ms inference, 0.4ms postprocess per image at shape (1, 3, 384, 640)\n",
      "\n",
      "0: 384x640 (no detections), 32.6ms\n",
      "Speed: 0.5ms preprocess, 32.6ms inference, 0.4ms postprocess per image at shape (1, 3, 384, 640)\n"
     ]
    },
    {
     "name": "stderr",
     "output_type": "stream",
     "text": [
      " 38%|███▊      | 826/2158 [00:31<00:48, 27.23it/s]"
     ]
    },
    {
     "name": "stdout",
     "output_type": "stream",
     "text": [
      "\n",
      "0: 384x640 (no detections), 32.4ms\n",
      "Speed: 0.6ms preprocess, 32.4ms inference, 0.5ms postprocess per image at shape (1, 3, 384, 640)\n",
      "\n",
      "0: 384x640 (no detections), 32.5ms\n",
      "Speed: 0.5ms preprocess, 32.5ms inference, 0.5ms postprocess per image at shape (1, 3, 384, 640)\n",
      "\n",
      "0: 384x640 (no detections), 32.5ms\n",
      "Speed: 0.6ms preprocess, 32.5ms inference, 0.5ms postprocess per image at shape (1, 3, 384, 640)\n"
     ]
    },
    {
     "name": "stderr",
     "output_type": "stream",
     "text": [
      " 38%|███▊      | 829/2158 [00:31<00:48, 27.19it/s]"
     ]
    },
    {
     "name": "stdout",
     "output_type": "stream",
     "text": [
      "\n",
      "0: 384x640 (no detections), 32.5ms\n",
      "Speed: 0.6ms preprocess, 32.5ms inference, 0.5ms postprocess per image at shape (1, 3, 384, 640)\n",
      "\n",
      "0: 384x640 (no detections), 32.3ms\n",
      "Speed: 0.7ms preprocess, 32.3ms inference, 0.8ms postprocess per image at shape (1, 3, 384, 640)\n",
      "\n",
      "0: 384x640 (no detections), 32.6ms\n",
      "Speed: 0.5ms preprocess, 32.6ms inference, 0.5ms postprocess per image at shape (1, 3, 384, 640)\n"
     ]
    },
    {
     "name": "stderr",
     "output_type": "stream",
     "text": [
      " 39%|███▊      | 832/2158 [00:31<00:48, 27.18it/s]"
     ]
    },
    {
     "name": "stdout",
     "output_type": "stream",
     "text": [
      "\n",
      "0: 384x640 (no detections), 32.5ms\n",
      "Speed: 0.5ms preprocess, 32.5ms inference, 0.7ms postprocess per image at shape (1, 3, 384, 640)\n",
      "\n",
      "0: 384x640 (no detections), 32.5ms\n",
      "Speed: 0.5ms preprocess, 32.5ms inference, 0.5ms postprocess per image at shape (1, 3, 384, 640)\n",
      "\n",
      "0: 384x640 (no detections), 32.5ms\n",
      "Speed: 0.6ms preprocess, 32.5ms inference, 0.4ms postprocess per image at shape (1, 3, 384, 640)\n"
     ]
    },
    {
     "name": "stderr",
     "output_type": "stream",
     "text": [
      " 39%|███▊      | 835/2158 [00:31<00:48, 27.24it/s]"
     ]
    },
    {
     "name": "stdout",
     "output_type": "stream",
     "text": [
      "\n",
      "0: 384x640 (no detections), 32.3ms\n",
      "Speed: 0.6ms preprocess, 32.3ms inference, 0.6ms postprocess per image at shape (1, 3, 384, 640)\n",
      "\n",
      "0: 384x640 (no detections), 32.5ms\n",
      "Speed: 0.6ms preprocess, 32.5ms inference, 0.7ms postprocess per image at shape (1, 3, 384, 640)\n",
      "\n",
      "0: 384x640 (no detections), 32.5ms\n",
      "Speed: 0.6ms preprocess, 32.5ms inference, 0.7ms postprocess per image at shape (1, 3, 384, 640)\n"
     ]
    },
    {
     "name": "stderr",
     "output_type": "stream",
     "text": [
      " 39%|███▉      | 838/2158 [00:31<00:48, 27.19it/s]"
     ]
    },
    {
     "name": "stdout",
     "output_type": "stream",
     "text": [
      "\n",
      "0: 384x640 (no detections), 32.5ms\n",
      "Speed: 0.6ms preprocess, 32.5ms inference, 0.7ms postprocess per image at shape (1, 3, 384, 640)\n",
      "\n",
      "0: 384x640 (no detections), 32.5ms\n",
      "Speed: 0.6ms preprocess, 32.5ms inference, 0.7ms postprocess per image at shape (1, 3, 384, 640)\n",
      "\n",
      "0: 384x640 (no detections), 32.4ms\n",
      "Speed: 0.7ms preprocess, 32.4ms inference, 0.4ms postprocess per image at shape (1, 3, 384, 640)\n"
     ]
    },
    {
     "name": "stderr",
     "output_type": "stream",
     "text": [
      " 39%|███▉      | 841/2158 [00:31<00:48, 27.11it/s]"
     ]
    },
    {
     "name": "stdout",
     "output_type": "stream",
     "text": [
      "\n",
      "0: 384x640 (no detections), 32.5ms\n",
      "Speed: 0.6ms preprocess, 32.5ms inference, 0.7ms postprocess per image at shape (1, 3, 384, 640)\n",
      "\n",
      "0: 384x640 (no detections), 32.5ms\n",
      "Speed: 0.5ms preprocess, 32.5ms inference, 0.7ms postprocess per image at shape (1, 3, 384, 640)\n",
      "\n",
      "0: 384x640 (no detections), 32.6ms\n",
      "Speed: 0.6ms preprocess, 32.6ms inference, 0.7ms postprocess per image at shape (1, 3, 384, 640)\n"
     ]
    },
    {
     "name": "stderr",
     "output_type": "stream",
     "text": [
      " 39%|███▉      | 844/2158 [00:32<00:48, 27.12it/s]"
     ]
    },
    {
     "name": "stdout",
     "output_type": "stream",
     "text": [
      "\n",
      "0: 384x640 (no detections), 32.3ms\n",
      "Speed: 0.7ms preprocess, 32.3ms inference, 0.8ms postprocess per image at shape (1, 3, 384, 640)\n",
      "\n",
      "0: 384x640 (no detections), 32.5ms\n",
      "Speed: 0.6ms preprocess, 32.5ms inference, 0.5ms postprocess per image at shape (1, 3, 384, 640)\n",
      "\n",
      "0: 384x640 (no detections), 32.6ms\n",
      "Speed: 0.6ms preprocess, 32.6ms inference, 0.7ms postprocess per image at shape (1, 3, 384, 640)\n"
     ]
    },
    {
     "name": "stderr",
     "output_type": "stream",
     "text": [
      " 39%|███▉      | 847/2158 [00:32<00:48, 27.11it/s]"
     ]
    },
    {
     "name": "stdout",
     "output_type": "stream",
     "text": [
      "\n",
      "0: 384x640 (no detections), 32.5ms\n",
      "Speed: 0.6ms preprocess, 32.5ms inference, 0.7ms postprocess per image at shape (1, 3, 384, 640)\n",
      "\n",
      "0: 384x640 (no detections), 32.5ms\n",
      "Speed: 0.6ms preprocess, 32.5ms inference, 0.7ms postprocess per image at shape (1, 3, 384, 640)\n",
      "\n",
      "0: 384x640 (no detections), 32.4ms\n",
      "Speed: 0.6ms preprocess, 32.4ms inference, 0.7ms postprocess per image at shape (1, 3, 384, 640)\n"
     ]
    },
    {
     "name": "stderr",
     "output_type": "stream",
     "text": [
      " 39%|███▉      | 850/2158 [00:32<00:48, 27.09it/s]"
     ]
    },
    {
     "name": "stdout",
     "output_type": "stream",
     "text": [
      "\n",
      "0: 384x640 (no detections), 32.5ms\n",
      "Speed: 0.5ms preprocess, 32.5ms inference, 0.5ms postprocess per image at shape (1, 3, 384, 640)\n",
      "\n",
      "0: 384x640 (no detections), 32.5ms\n",
      "Speed: 0.6ms preprocess, 32.5ms inference, 0.5ms postprocess per image at shape (1, 3, 384, 640)\n",
      "\n",
      "0: 384x640 (no detections), 32.5ms\n",
      "Speed: 0.5ms preprocess, 32.5ms inference, 0.5ms postprocess per image at shape (1, 3, 384, 640)\n"
     ]
    },
    {
     "name": "stderr",
     "output_type": "stream",
     "text": [
      " 40%|███▉      | 853/2158 [00:32<00:48, 27.15it/s]"
     ]
    },
    {
     "name": "stdout",
     "output_type": "stream",
     "text": [
      "\n",
      "0: 384x640 (no detections), 32.6ms\n",
      "Speed: 0.6ms preprocess, 32.6ms inference, 2.5ms postprocess per image at shape (1, 3, 384, 640)\n",
      "\n",
      "0: 384x640 (no detections), 32.6ms\n",
      "Speed: 0.7ms preprocess, 32.6ms inference, 0.5ms postprocess per image at shape (1, 3, 384, 640)\n",
      "\n",
      "0: 384x640 (no detections), 32.4ms\n",
      "Speed: 0.5ms preprocess, 32.4ms inference, 0.4ms postprocess per image at shape (1, 3, 384, 640)\n"
     ]
    },
    {
     "name": "stderr",
     "output_type": "stream",
     "text": [
      " 40%|███▉      | 856/2158 [00:32<00:48, 26.96it/s]"
     ]
    },
    {
     "name": "stdout",
     "output_type": "stream",
     "text": [
      "\n",
      "0: 384x640 (no detections), 32.6ms\n",
      "Speed: 0.6ms preprocess, 32.6ms inference, 0.5ms postprocess per image at shape (1, 3, 384, 640)\n",
      "\n",
      "0: 384x640 (no detections), 32.5ms\n",
      "Speed: 0.5ms preprocess, 32.5ms inference, 0.4ms postprocess per image at shape (1, 3, 384, 640)\n",
      "\n",
      "0: 384x640 (no detections), 32.3ms\n",
      "Speed: 0.7ms preprocess, 32.3ms inference, 0.5ms postprocess per image at shape (1, 3, 384, 640)\n"
     ]
    },
    {
     "name": "stderr",
     "output_type": "stream",
     "text": [
      " 40%|███▉      | 859/2158 [00:32<00:47, 27.09it/s]"
     ]
    },
    {
     "name": "stdout",
     "output_type": "stream",
     "text": [
      "\n",
      "0: 384x640 (no detections), 32.5ms\n",
      "Speed: 0.6ms preprocess, 32.5ms inference, 0.5ms postprocess per image at shape (1, 3, 384, 640)\n",
      "\n",
      "0: 384x640 (no detections), 32.5ms\n",
      "Speed: 0.6ms preprocess, 32.5ms inference, 0.5ms postprocess per image at shape (1, 3, 384, 640)\n",
      "\n",
      "0: 384x640 (no detections), 32.6ms\n",
      "Speed: 0.5ms preprocess, 32.6ms inference, 0.5ms postprocess per image at shape (1, 3, 384, 640)\n"
     ]
    },
    {
     "name": "stderr",
     "output_type": "stream",
     "text": [
      " 40%|███▉      | 862/2158 [00:32<00:47, 27.18it/s]"
     ]
    },
    {
     "name": "stdout",
     "output_type": "stream",
     "text": [
      "\n",
      "0: 384x640 (no detections), 32.5ms\n",
      "Speed: 0.6ms preprocess, 32.5ms inference, 0.7ms postprocess per image at shape (1, 3, 384, 640)\n",
      "\n",
      "0: 384x640 (no detections), 32.6ms\n",
      "Speed: 0.6ms preprocess, 32.6ms inference, 0.6ms postprocess per image at shape (1, 3, 384, 640)\n",
      "\n",
      "0: 384x640 (no detections), 32.2ms\n",
      "Speed: 0.6ms preprocess, 32.2ms inference, 0.5ms postprocess per image at shape (1, 3, 384, 640)\n"
     ]
    },
    {
     "name": "stderr",
     "output_type": "stream",
     "text": [
      " 40%|████      | 865/2158 [00:32<00:47, 27.15it/s]"
     ]
    },
    {
     "name": "stdout",
     "output_type": "stream",
     "text": [
      "\n",
      "0: 384x640 (no detections), 32.5ms\n",
      "Speed: 0.6ms preprocess, 32.5ms inference, 0.7ms postprocess per image at shape (1, 3, 384, 640)\n",
      "\n",
      "0: 384x640 (no detections), 32.3ms\n",
      "Speed: 0.6ms preprocess, 32.3ms inference, 0.5ms postprocess per image at shape (1, 3, 384, 640)\n",
      "\n",
      "0: 384x640 (no detections), 32.5ms\n",
      "Speed: 0.6ms preprocess, 32.5ms inference, 0.7ms postprocess per image at shape (1, 3, 384, 640)\n"
     ]
    },
    {
     "name": "stderr",
     "output_type": "stream",
     "text": [
      " 40%|████      | 868/2158 [00:32<00:47, 27.16it/s]"
     ]
    },
    {
     "name": "stdout",
     "output_type": "stream",
     "text": [
      "\n",
      "0: 384x640 (no detections), 32.3ms\n",
      "Speed: 0.7ms preprocess, 32.3ms inference, 0.7ms postprocess per image at shape (1, 3, 384, 640)\n",
      "\n",
      "0: 384x640 (no detections), 32.3ms\n",
      "Speed: 0.7ms preprocess, 32.3ms inference, 0.5ms postprocess per image at shape (1, 3, 384, 640)\n",
      "\n",
      "0: 384x640 (no detections), 32.5ms\n",
      "Speed: 0.6ms preprocess, 32.5ms inference, 0.5ms postprocess per image at shape (1, 3, 384, 640)\n"
     ]
    },
    {
     "name": "stderr",
     "output_type": "stream",
     "text": [
      " 40%|████      | 871/2158 [00:33<00:47, 27.21it/s]"
     ]
    },
    {
     "name": "stdout",
     "output_type": "stream",
     "text": [
      "\n",
      "0: 384x640 (no detections), 32.5ms\n",
      "Speed: 0.7ms preprocess, 32.5ms inference, 0.7ms postprocess per image at shape (1, 3, 384, 640)\n",
      "\n",
      "0: 384x640 (no detections), 32.2ms\n",
      "Speed: 0.6ms preprocess, 32.2ms inference, 0.4ms postprocess per image at shape (1, 3, 384, 640)\n",
      "\n",
      "0: 384x640 (no detections), 32.3ms\n",
      "Speed: 0.7ms preprocess, 32.3ms inference, 0.5ms postprocess per image at shape (1, 3, 384, 640)\n"
     ]
    },
    {
     "name": "stderr",
     "output_type": "stream",
     "text": [
      " 41%|████      | 874/2158 [00:33<00:47, 27.23it/s]"
     ]
    },
    {
     "name": "stdout",
     "output_type": "stream",
     "text": [
      "\n",
      "0: 384x640 (no detections), 32.3ms\n",
      "Speed: 0.6ms preprocess, 32.3ms inference, 0.7ms postprocess per image at shape (1, 3, 384, 640)\n",
      "\n",
      "0: 384x640 (no detections), 33.0ms\n",
      "Speed: 0.6ms preprocess, 33.0ms inference, 0.5ms postprocess per image at shape (1, 3, 384, 640)\n",
      "\n",
      "0: 384x640 (no detections), 32.4ms\n",
      "Speed: 0.6ms preprocess, 32.4ms inference, 0.5ms postprocess per image at shape (1, 3, 384, 640)\n"
     ]
    },
    {
     "name": "stderr",
     "output_type": "stream",
     "text": [
      " 41%|████      | 877/2158 [00:33<00:47, 27.20it/s]"
     ]
    },
    {
     "name": "stdout",
     "output_type": "stream",
     "text": [
      "\n",
      "0: 384x640 (no detections), 32.3ms\n",
      "Speed: 0.5ms preprocess, 32.3ms inference, 0.5ms postprocess per image at shape (1, 3, 384, 640)\n",
      "\n",
      "0: 384x640 (no detections), 32.5ms\n",
      "Speed: 0.5ms preprocess, 32.5ms inference, 0.5ms postprocess per image at shape (1, 3, 384, 640)\n",
      "\n",
      "0: 384x640 (no detections), 32.4ms\n",
      "Speed: 0.6ms preprocess, 32.4ms inference, 0.4ms postprocess per image at shape (1, 3, 384, 640)\n"
     ]
    },
    {
     "name": "stderr",
     "output_type": "stream",
     "text": [
      " 41%|████      | 880/2158 [00:33<00:46, 27.22it/s]"
     ]
    },
    {
     "name": "stdout",
     "output_type": "stream",
     "text": [
      "\n",
      "0: 384x640 (no detections), 32.3ms\n",
      "Speed: 0.6ms preprocess, 32.3ms inference, 0.7ms postprocess per image at shape (1, 3, 384, 640)\n",
      "\n",
      "0: 384x640 (no detections), 32.5ms\n",
      "Speed: 0.6ms preprocess, 32.5ms inference, 0.5ms postprocess per image at shape (1, 3, 384, 640)\n",
      "\n",
      "0: 384x640 (no detections), 32.5ms\n",
      "Speed: 0.6ms preprocess, 32.5ms inference, 0.4ms postprocess per image at shape (1, 3, 384, 640)\n"
     ]
    },
    {
     "name": "stderr",
     "output_type": "stream",
     "text": [
      " 41%|████      | 883/2158 [00:33<00:46, 27.26it/s]"
     ]
    },
    {
     "name": "stdout",
     "output_type": "stream",
     "text": [
      "\n",
      "0: 384x640 (no detections), 32.3ms\n",
      "Speed: 0.6ms preprocess, 32.3ms inference, 0.5ms postprocess per image at shape (1, 3, 384, 640)\n",
      "\n",
      "0: 384x640 (no detections), 32.5ms\n",
      "Speed: 0.8ms preprocess, 32.5ms inference, 0.5ms postprocess per image at shape (1, 3, 384, 640)\n",
      "\n",
      "0: 384x640 (no detections), 32.2ms\n",
      "Speed: 0.5ms preprocess, 32.2ms inference, 0.5ms postprocess per image at shape (1, 3, 384, 640)\n"
     ]
    },
    {
     "name": "stderr",
     "output_type": "stream",
     "text": [
      " 41%|████      | 886/2158 [00:33<00:46, 27.29it/s]"
     ]
    },
    {
     "name": "stdout",
     "output_type": "stream",
     "text": [
      "\n",
      "0: 384x640 (no detections), 32.4ms\n",
      "Speed: 0.6ms preprocess, 32.4ms inference, 0.5ms postprocess per image at shape (1, 3, 384, 640)\n",
      "\n",
      "0: 384x640 (no detections), 32.5ms\n",
      "Speed: 0.6ms preprocess, 32.5ms inference, 0.4ms postprocess per image at shape (1, 3, 384, 640)\n",
      "\n",
      "0: 384x640 (no detections), 32.3ms\n",
      "Speed: 0.7ms preprocess, 32.3ms inference, 0.5ms postprocess per image at shape (1, 3, 384, 640)\n"
     ]
    },
    {
     "name": "stderr",
     "output_type": "stream",
     "text": [
      " 41%|████      | 889/2158 [00:33<00:46, 27.27it/s]"
     ]
    },
    {
     "name": "stdout",
     "output_type": "stream",
     "text": [
      "\n",
      "0: 384x640 (no detections), 32.5ms\n",
      "Speed: 0.6ms preprocess, 32.5ms inference, 0.5ms postprocess per image at shape (1, 3, 384, 640)\n",
      "\n",
      "0: 384x640 (no detections), 32.5ms\n",
      "Speed: 0.5ms preprocess, 32.5ms inference, 0.5ms postprocess per image at shape (1, 3, 384, 640)\n",
      "\n",
      "0: 384x640 (no detections), 32.3ms\n",
      "Speed: 0.6ms preprocess, 32.3ms inference, 0.6ms postprocess per image at shape (1, 3, 384, 640)\n"
     ]
    },
    {
     "name": "stderr",
     "output_type": "stream",
     "text": [
      " 41%|████▏     | 892/2158 [00:33<00:46, 27.26it/s]"
     ]
    },
    {
     "name": "stdout",
     "output_type": "stream",
     "text": [
      "\n",
      "0: 384x640 (no detections), 32.5ms\n",
      "Speed: 0.6ms preprocess, 32.5ms inference, 0.5ms postprocess per image at shape (1, 3, 384, 640)\n",
      "\n",
      "0: 384x640 (no detections), 32.5ms\n",
      "Speed: 0.6ms preprocess, 32.5ms inference, 0.5ms postprocess per image at shape (1, 3, 384, 640)\n",
      "\n",
      "0: 384x640 (no detections), 32.4ms\n",
      "Speed: 0.5ms preprocess, 32.4ms inference, 0.5ms postprocess per image at shape (1, 3, 384, 640)\n"
     ]
    },
    {
     "name": "stderr",
     "output_type": "stream",
     "text": [
      " 41%|████▏     | 895/2158 [00:33<00:46, 27.25it/s]"
     ]
    },
    {
     "name": "stdout",
     "output_type": "stream",
     "text": [
      "\n",
      "0: 384x640 (no detections), 32.4ms\n",
      "Speed: 0.6ms preprocess, 32.4ms inference, 0.5ms postprocess per image at shape (1, 3, 384, 640)\n",
      "\n",
      "0: 384x640 (no detections), 32.5ms\n",
      "Speed: 0.6ms preprocess, 32.5ms inference, 0.5ms postprocess per image at shape (1, 3, 384, 640)\n",
      "\n",
      "0: 384x640 (no detections), 32.6ms\n",
      "Speed: 0.6ms preprocess, 32.6ms inference, 0.5ms postprocess per image at shape (1, 3, 384, 640)\n"
     ]
    },
    {
     "name": "stderr",
     "output_type": "stream",
     "text": [
      " 42%|████▏     | 898/2158 [00:34<00:46, 27.20it/s]"
     ]
    },
    {
     "name": "stdout",
     "output_type": "stream",
     "text": [
      "\n",
      "0: 384x640 1 Armaduro, 32.3ms\n",
      "Speed: 0.7ms preprocess, 32.3ms inference, 1.9ms postprocess per image at shape (1, 3, 384, 640)\n",
      "\n",
      "0: 384x640 (no detections), 32.4ms\n",
      "Speed: 0.6ms preprocess, 32.4ms inference, 0.5ms postprocess per image at shape (1, 3, 384, 640)\n",
      "\n",
      "0: 384x640 1 Armaduro, 32.6ms\n",
      "Speed: 0.5ms preprocess, 32.6ms inference, 0.9ms postprocess per image at shape (1, 3, 384, 640)\n"
     ]
    },
    {
     "name": "stderr",
     "output_type": "stream",
     "text": [
      " 42%|████▏     | 901/2158 [00:34<00:46, 27.04it/s]"
     ]
    },
    {
     "name": "stdout",
     "output_type": "stream",
     "text": [
      "\n",
      "0: 384x640 1 Armaduro, 32.5ms\n",
      "Speed: 0.5ms preprocess, 32.5ms inference, 0.9ms postprocess per image at shape (1, 3, 384, 640)\n",
      "\n",
      "0: 384x640 (no detections), 32.5ms\n",
      "Speed: 0.6ms preprocess, 32.5ms inference, 0.7ms postprocess per image at shape (1, 3, 384, 640)\n",
      "\n",
      "0: 384x640 (no detections), 32.5ms\n",
      "Speed: 0.6ms preprocess, 32.5ms inference, 0.5ms postprocess per image at shape (1, 3, 384, 640)\n"
     ]
    },
    {
     "name": "stderr",
     "output_type": "stream",
     "text": [
      " 42%|████▏     | 904/2158 [00:34<00:46, 27.06it/s]"
     ]
    },
    {
     "name": "stdout",
     "output_type": "stream",
     "text": [
      "\n",
      "0: 384x640 (no detections), 32.6ms\n",
      "Speed: 0.6ms preprocess, 32.6ms inference, 0.5ms postprocess per image at shape (1, 3, 384, 640)\n",
      "\n",
      "0: 384x640 1 Armaduro, 32.6ms\n",
      "Speed: 0.6ms preprocess, 32.6ms inference, 0.8ms postprocess per image at shape (1, 3, 384, 640)\n",
      "\n",
      "0: 384x640 1 Armaduro, 32.6ms\n",
      "Speed: 0.7ms preprocess, 32.6ms inference, 1.5ms postprocess per image at shape (1, 3, 384, 640)\n"
     ]
    },
    {
     "name": "stderr",
     "output_type": "stream",
     "text": [
      " 42%|████▏     | 907/2158 [00:34<00:46, 26.95it/s]"
     ]
    },
    {
     "name": "stdout",
     "output_type": "stream",
     "text": [
      "\n",
      "0: 384x640 1 Armaduro, 32.2ms\n",
      "Speed: 0.6ms preprocess, 32.2ms inference, 0.9ms postprocess per image at shape (1, 3, 384, 640)\n",
      "\n",
      "0: 384x640 1 Armaduro, 32.5ms\n",
      "Speed: 0.5ms preprocess, 32.5ms inference, 0.9ms postprocess per image at shape (1, 3, 384, 640)\n",
      "\n",
      "0: 384x640 1 Armaduro, 32.6ms\n",
      "Speed: 0.5ms preprocess, 32.6ms inference, 0.8ms postprocess per image at shape (1, 3, 384, 640)\n"
     ]
    },
    {
     "name": "stderr",
     "output_type": "stream",
     "text": [
      " 42%|████▏     | 910/2158 [00:34<00:46, 26.91it/s]"
     ]
    },
    {
     "name": "stdout",
     "output_type": "stream",
     "text": [
      "\n",
      "0: 384x640 1 Armaduro, 32.3ms\n",
      "Speed: 0.7ms preprocess, 32.3ms inference, 1.9ms postprocess per image at shape (1, 3, 384, 640)\n",
      "\n",
      "0: 384x640 1 Armaduro, 32.4ms\n",
      "Speed: 0.6ms preprocess, 32.4ms inference, 0.9ms postprocess per image at shape (1, 3, 384, 640)\n",
      "\n",
      "0: 384x640 1 Armaduro, 32.2ms\n",
      "Speed: 0.6ms preprocess, 32.2ms inference, 0.9ms postprocess per image at shape (1, 3, 384, 640)\n"
     ]
    },
    {
     "name": "stderr",
     "output_type": "stream",
     "text": [
      " 42%|████▏     | 913/2158 [00:34<00:46, 26.74it/s]"
     ]
    },
    {
     "name": "stdout",
     "output_type": "stream",
     "text": [
      "\n",
      "0: 384x640 1 Armaduro, 32.5ms\n",
      "Speed: 0.6ms preprocess, 32.5ms inference, 1.7ms postprocess per image at shape (1, 3, 384, 640)\n",
      "\n",
      "0: 384x640 1 Armaduro, 32.6ms\n",
      "Speed: 0.6ms preprocess, 32.6ms inference, 1.7ms postprocess per image at shape (1, 3, 384, 640)\n",
      "\n",
      "0: 384x640 1 Armaduro, 32.2ms\n",
      "Speed: 0.6ms preprocess, 32.2ms inference, 0.9ms postprocess per image at shape (1, 3, 384, 640)\n"
     ]
    },
    {
     "name": "stderr",
     "output_type": "stream",
     "text": [
      " 42%|████▏     | 916/2158 [00:34<00:46, 26.60it/s]"
     ]
    },
    {
     "name": "stdout",
     "output_type": "stream",
     "text": [
      "\n",
      "0: 384x640 1 Armaduro, 32.5ms\n",
      "Speed: 0.5ms preprocess, 32.5ms inference, 0.9ms postprocess per image at shape (1, 3, 384, 640)\n",
      "\n",
      "0: 384x640 1 Armaduro, 32.6ms\n",
      "Speed: 0.5ms preprocess, 32.6ms inference, 0.9ms postprocess per image at shape (1, 3, 384, 640)\n",
      "\n",
      "0: 384x640 1 Armaduro, 32.5ms\n",
      "Speed: 0.6ms preprocess, 32.5ms inference, 0.9ms postprocess per image at shape (1, 3, 384, 640)\n"
     ]
    },
    {
     "name": "stderr",
     "output_type": "stream",
     "text": [
      " 43%|████▎     | 919/2158 [00:34<00:46, 26.61it/s]"
     ]
    },
    {
     "name": "stdout",
     "output_type": "stream",
     "text": [
      "\n",
      "0: 384x640 1 Armaduro, 32.5ms\n",
      "Speed: 0.5ms preprocess, 32.5ms inference, 0.9ms postprocess per image at shape (1, 3, 384, 640)\n",
      "\n",
      "0: 384x640 1 Armaduro, 32.5ms\n",
      "Speed: 0.6ms preprocess, 32.5ms inference, 0.9ms postprocess per image at shape (1, 3, 384, 640)\n",
      "\n",
      "0: 384x640 1 Armaduro, 32.6ms\n",
      "Speed: 0.5ms preprocess, 32.6ms inference, 0.9ms postprocess per image at shape (1, 3, 384, 640)\n"
     ]
    },
    {
     "name": "stderr",
     "output_type": "stream",
     "text": [
      " 43%|████▎     | 922/2158 [00:34<00:46, 26.64it/s]"
     ]
    },
    {
     "name": "stdout",
     "output_type": "stream",
     "text": [
      "\n",
      "0: 384x640 1 Armaduro, 32.2ms\n",
      "Speed: 0.6ms preprocess, 32.2ms inference, 0.9ms postprocess per image at shape (1, 3, 384, 640)\n",
      "\n",
      "0: 384x640 1 Armaduro, 32.3ms\n",
      "Speed: 0.7ms preprocess, 32.3ms inference, 1.7ms postprocess per image at shape (1, 3, 384, 640)\n",
      "\n",
      "0: 384x640 1 Armaduro, 32.5ms\n",
      "Speed: 0.5ms preprocess, 32.5ms inference, 0.9ms postprocess per image at shape (1, 3, 384, 640)\n"
     ]
    },
    {
     "name": "stderr",
     "output_type": "stream",
     "text": [
      " 43%|████▎     | 925/2158 [00:35<00:46, 26.60it/s]"
     ]
    },
    {
     "name": "stdout",
     "output_type": "stream",
     "text": [
      "\n",
      "0: 384x640 1 Armaduro, 32.5ms\n",
      "Speed: 0.7ms preprocess, 32.5ms inference, 1.2ms postprocess per image at shape (1, 3, 384, 640)\n",
      "\n",
      "0: 384x640 1 Armaduro, 32.4ms\n",
      "Speed: 0.7ms preprocess, 32.4ms inference, 0.9ms postprocess per image at shape (1, 3, 384, 640)\n",
      "\n",
      "0: 384x640 1 Armaduro, 32.5ms\n",
      "Speed: 0.5ms preprocess, 32.5ms inference, 0.8ms postprocess per image at shape (1, 3, 384, 640)\n"
     ]
    },
    {
     "name": "stderr",
     "output_type": "stream",
     "text": [
      " 43%|████▎     | 928/2158 [00:35<00:46, 26.58it/s]"
     ]
    },
    {
     "name": "stdout",
     "output_type": "stream",
     "text": [
      "\n",
      "0: 384x640 1 Armaduro, 32.3ms\n",
      "Speed: 0.6ms preprocess, 32.3ms inference, 0.9ms postprocess per image at shape (1, 3, 384, 640)\n",
      "\n",
      "0: 384x640 1 Armaduro, 32.5ms\n",
      "Speed: 0.5ms preprocess, 32.5ms inference, 0.9ms postprocess per image at shape (1, 3, 384, 640)\n",
      "\n",
      "0: 384x640 1 Armaduro, 32.4ms\n",
      "Speed: 0.7ms preprocess, 32.4ms inference, 0.9ms postprocess per image at shape (1, 3, 384, 640)\n"
     ]
    },
    {
     "name": "stderr",
     "output_type": "stream",
     "text": [
      " 43%|████▎     | 931/2158 [00:35<00:46, 26.61it/s]"
     ]
    },
    {
     "name": "stdout",
     "output_type": "stream",
     "text": [
      "\n",
      "0: 384x640 1 Armaduro, 32.4ms\n",
      "Speed: 0.6ms preprocess, 32.4ms inference, 0.9ms postprocess per image at shape (1, 3, 384, 640)\n",
      "\n",
      "0: 384x640 1 Armaduro, 32.7ms\n",
      "Speed: 0.5ms preprocess, 32.7ms inference, 1.1ms postprocess per image at shape (1, 3, 384, 640)\n",
      "\n",
      "0: 384x640 1 Armaduro, 32.6ms\n",
      "Speed: 0.9ms preprocess, 32.6ms inference, 1.6ms postprocess per image at shape (1, 3, 384, 640)\n"
     ]
    },
    {
     "name": "stderr",
     "output_type": "stream",
     "text": [
      " 43%|████▎     | 934/2158 [00:35<00:46, 26.52it/s]"
     ]
    },
    {
     "name": "stdout",
     "output_type": "stream",
     "text": [
      "\n",
      "0: 384x640 1 Armaduro, 32.6ms\n",
      "Speed: 0.5ms preprocess, 32.6ms inference, 0.9ms postprocess per image at shape (1, 3, 384, 640)\n",
      "\n",
      "0: 384x640 1 Armaduro, 32.6ms\n",
      "Speed: 0.5ms preprocess, 32.6ms inference, 1.0ms postprocess per image at shape (1, 3, 384, 640)\n",
      "\n",
      "0: 384x640 1 Armaduro, 32.3ms\n",
      "Speed: 0.5ms preprocess, 32.3ms inference, 0.9ms postprocess per image at shape (1, 3, 384, 640)\n"
     ]
    },
    {
     "name": "stderr",
     "output_type": "stream",
     "text": [
      " 43%|████▎     | 937/2158 [00:35<00:45, 26.55it/s]"
     ]
    },
    {
     "name": "stdout",
     "output_type": "stream",
     "text": [
      "\n",
      "0: 384x640 1 Armaduro, 32.3ms\n",
      "Speed: 0.6ms preprocess, 32.3ms inference, 1.0ms postprocess per image at shape (1, 3, 384, 640)\n",
      "\n",
      "0: 384x640 1 Armaduro, 32.6ms\n",
      "Speed: 0.5ms preprocess, 32.6ms inference, 0.9ms postprocess per image at shape (1, 3, 384, 640)\n",
      "\n",
      "0: 384x640 1 Armaduro, 32.3ms\n",
      "Speed: 0.6ms preprocess, 32.3ms inference, 0.8ms postprocess per image at shape (1, 3, 384, 640)\n"
     ]
    },
    {
     "name": "stderr",
     "output_type": "stream",
     "text": [
      " 44%|████▎     | 940/2158 [00:35<00:45, 26.62it/s]"
     ]
    },
    {
     "name": "stdout",
     "output_type": "stream",
     "text": [
      "\n",
      "0: 384x640 1 Armaduro, 32.6ms\n",
      "Speed: 0.5ms preprocess, 32.6ms inference, 0.9ms postprocess per image at shape (1, 3, 384, 640)\n",
      "\n",
      "0: 384x640 1 Armaduro, 32.5ms\n",
      "Speed: 0.5ms preprocess, 32.5ms inference, 1.6ms postprocess per image at shape (1, 3, 384, 640)\n",
      "\n",
      "0: 384x640 1 Armaduro, 32.5ms\n",
      "Speed: 0.6ms preprocess, 32.5ms inference, 0.8ms postprocess per image at shape (1, 3, 384, 640)\n"
     ]
    },
    {
     "name": "stderr",
     "output_type": "stream",
     "text": [
      " 44%|████▎     | 943/2158 [00:35<00:45, 26.60it/s]"
     ]
    },
    {
     "name": "stdout",
     "output_type": "stream",
     "text": [
      "\n",
      "0: 384x640 1 Armaduro, 32.5ms\n",
      "Speed: 0.5ms preprocess, 32.5ms inference, 1.8ms postprocess per image at shape (1, 3, 384, 640)\n",
      "\n",
      "0: 384x640 1 Armaduro, 32.6ms\n",
      "Speed: 0.6ms preprocess, 32.6ms inference, 1.7ms postprocess per image at shape (1, 3, 384, 640)\n",
      "\n",
      "0: 384x640 1 Armaduro, 32.4ms\n",
      "Speed: 0.6ms preprocess, 32.4ms inference, 0.9ms postprocess per image at shape (1, 3, 384, 640)\n"
     ]
    },
    {
     "name": "stderr",
     "output_type": "stream",
     "text": [
      " 44%|████▍     | 946/2158 [00:35<00:45, 26.45it/s]"
     ]
    },
    {
     "name": "stdout",
     "output_type": "stream",
     "text": [
      "\n",
      "0: 384x640 1 Armaduro, 32.5ms\n",
      "Speed: 0.5ms preprocess, 32.5ms inference, 0.9ms postprocess per image at shape (1, 3, 384, 640)\n",
      "\n",
      "0: 384x640 (no detections), 32.3ms\n",
      "Speed: 0.5ms preprocess, 32.3ms inference, 0.4ms postprocess per image at shape (1, 3, 384, 640)\n",
      "\n",
      "0: 384x640 (no detections), 32.5ms\n",
      "Speed: 0.5ms preprocess, 32.5ms inference, 0.7ms postprocess per image at shape (1, 3, 384, 640)\n"
     ]
    },
    {
     "name": "stderr",
     "output_type": "stream",
     "text": [
      " 44%|████▍     | 949/2158 [00:35<00:45, 26.60it/s]"
     ]
    },
    {
     "name": "stdout",
     "output_type": "stream",
     "text": [
      "\n",
      "0: 384x640 (no detections), 32.2ms\n",
      "Speed: 0.9ms preprocess, 32.2ms inference, 0.5ms postprocess per image at shape (1, 3, 384, 640)\n",
      "\n",
      "0: 384x640 (no detections), 32.5ms\n",
      "Speed: 0.6ms preprocess, 32.5ms inference, 0.5ms postprocess per image at shape (1, 3, 384, 640)\n",
      "\n",
      "0: 384x640 (no detections), 32.5ms\n",
      "Speed: 0.6ms preprocess, 32.5ms inference, 0.4ms postprocess per image at shape (1, 3, 384, 640)\n"
     ]
    },
    {
     "name": "stderr",
     "output_type": "stream",
     "text": [
      " 44%|████▍     | 952/2158 [00:36<00:45, 26.80it/s]"
     ]
    },
    {
     "name": "stdout",
     "output_type": "stream",
     "text": [
      "\n",
      "0: 384x640 (no detections), 32.4ms\n",
      "Speed: 0.6ms preprocess, 32.4ms inference, 0.5ms postprocess per image at shape (1, 3, 384, 640)\n",
      "\n",
      "0: 384x640 (no detections), 32.3ms\n",
      "Speed: 0.6ms preprocess, 32.3ms inference, 0.7ms postprocess per image at shape (1, 3, 384, 640)\n",
      "\n",
      "0: 384x640 (no detections), 32.4ms\n",
      "Speed: 0.7ms preprocess, 32.4ms inference, 0.6ms postprocess per image at shape (1, 3, 384, 640)\n"
     ]
    },
    {
     "name": "stderr",
     "output_type": "stream",
     "text": [
      " 44%|████▍     | 955/2158 [00:36<00:44, 26.91it/s]"
     ]
    },
    {
     "name": "stdout",
     "output_type": "stream",
     "text": [
      "\n",
      "0: 384x640 (no detections), 32.5ms\n",
      "Speed: 0.6ms preprocess, 32.5ms inference, 0.5ms postprocess per image at shape (1, 3, 384, 640)\n",
      "\n",
      "0: 384x640 (no detections), 32.5ms\n",
      "Speed: 0.5ms preprocess, 32.5ms inference, 0.5ms postprocess per image at shape (1, 3, 384, 640)\n",
      "\n",
      "0: 384x640 (no detections), 32.5ms\n",
      "Speed: 0.6ms preprocess, 32.5ms inference, 0.4ms postprocess per image at shape (1, 3, 384, 640)\n"
     ]
    },
    {
     "name": "stderr",
     "output_type": "stream",
     "text": [
      " 44%|████▍     | 958/2158 [00:36<00:44, 27.03it/s]"
     ]
    },
    {
     "name": "stdout",
     "output_type": "stream",
     "text": [
      "\n",
      "0: 384x640 (no detections), 32.5ms\n",
      "Speed: 0.7ms preprocess, 32.5ms inference, 0.8ms postprocess per image at shape (1, 3, 384, 640)\n",
      "\n",
      "0: 384x640 (no detections), 32.5ms\n",
      "Speed: 0.6ms preprocess, 32.5ms inference, 0.7ms postprocess per image at shape (1, 3, 384, 640)\n",
      "\n",
      "0: 384x640 (no detections), 32.5ms\n",
      "Speed: 0.6ms preprocess, 32.5ms inference, 0.5ms postprocess per image at shape (1, 3, 384, 640)\n"
     ]
    },
    {
     "name": "stderr",
     "output_type": "stream",
     "text": [
      " 45%|████▍     | 961/2158 [00:36<00:44, 27.01it/s]"
     ]
    },
    {
     "name": "stdout",
     "output_type": "stream",
     "text": [
      "\n",
      "0: 384x640 (no detections), 32.5ms\n",
      "Speed: 0.6ms preprocess, 32.5ms inference, 0.5ms postprocess per image at shape (1, 3, 384, 640)\n",
      "\n",
      "0: 384x640 (no detections), 32.5ms\n",
      "Speed: 0.5ms preprocess, 32.5ms inference, 0.5ms postprocess per image at shape (1, 3, 384, 640)\n",
      "\n",
      "0: 384x640 (no detections), 32.2ms\n",
      "Speed: 0.8ms preprocess, 32.2ms inference, 0.6ms postprocess per image at shape (1, 3, 384, 640)\n"
     ]
    },
    {
     "name": "stderr",
     "output_type": "stream",
     "text": [
      " 45%|████▍     | 964/2158 [00:36<00:44, 27.09it/s]"
     ]
    },
    {
     "name": "stdout",
     "output_type": "stream",
     "text": [
      "\n",
      "0: 384x640 (no detections), 32.4ms\n",
      "Speed: 0.6ms preprocess, 32.4ms inference, 0.5ms postprocess per image at shape (1, 3, 384, 640)\n",
      "\n",
      "0: 384x640 (no detections), 32.6ms\n",
      "Speed: 0.5ms preprocess, 32.6ms inference, 0.5ms postprocess per image at shape (1, 3, 384, 640)\n",
      "\n",
      "0: 384x640 (no detections), 32.5ms\n",
      "Speed: 0.5ms preprocess, 32.5ms inference, 0.7ms postprocess per image at shape (1, 3, 384, 640)\n"
     ]
    },
    {
     "name": "stderr",
     "output_type": "stream",
     "text": [
      " 45%|████▍     | 967/2158 [00:36<00:43, 27.12it/s]"
     ]
    },
    {
     "name": "stdout",
     "output_type": "stream",
     "text": [
      "\n",
      "0: 384x640 (no detections), 32.5ms\n",
      "Speed: 0.6ms preprocess, 32.5ms inference, 0.5ms postprocess per image at shape (1, 3, 384, 640)\n",
      "\n",
      "0: 384x640 (no detections), 32.8ms\n",
      "Speed: 0.6ms preprocess, 32.8ms inference, 0.5ms postprocess per image at shape (1, 3, 384, 640)\n",
      "\n",
      "0: 384x640 (no detections), 32.5ms\n",
      "Speed: 0.6ms preprocess, 32.5ms inference, 0.5ms postprocess per image at shape (1, 3, 384, 640)\n"
     ]
    },
    {
     "name": "stderr",
     "output_type": "stream",
     "text": [
      " 45%|████▍     | 970/2158 [00:36<00:43, 27.11it/s]"
     ]
    },
    {
     "name": "stdout",
     "output_type": "stream",
     "text": [
      "\n",
      "0: 384x640 (no detections), 32.5ms\n",
      "Speed: 0.6ms preprocess, 32.5ms inference, 0.5ms postprocess per image at shape (1, 3, 384, 640)\n",
      "\n",
      "0: 384x640 (no detections), 32.6ms\n",
      "Speed: 0.6ms preprocess, 32.6ms inference, 0.7ms postprocess per image at shape (1, 3, 384, 640)\n",
      "\n",
      "0: 384x640 (no detections), 32.6ms\n",
      "Speed: 0.5ms preprocess, 32.6ms inference, 0.7ms postprocess per image at shape (1, 3, 384, 640)\n"
     ]
    },
    {
     "name": "stderr",
     "output_type": "stream",
     "text": [
      " 45%|████▌     | 973/2158 [00:36<00:43, 27.07it/s]"
     ]
    },
    {
     "name": "stdout",
     "output_type": "stream",
     "text": [
      "\n",
      "0: 384x640 (no detections), 32.5ms\n",
      "Speed: 0.7ms preprocess, 32.5ms inference, 0.5ms postprocess per image at shape (1, 3, 384, 640)\n",
      "\n",
      "0: 384x640 (no detections), 32.6ms\n",
      "Speed: 0.6ms preprocess, 32.6ms inference, 1.0ms postprocess per image at shape (1, 3, 384, 640)\n",
      "\n",
      "0: 384x640 (no detections), 32.5ms\n",
      "Speed: 0.6ms preprocess, 32.5ms inference, 0.8ms postprocess per image at shape (1, 3, 384, 640)\n"
     ]
    },
    {
     "name": "stderr",
     "output_type": "stream",
     "text": [
      " 45%|████▌     | 976/2158 [00:36<00:43, 27.00it/s]"
     ]
    },
    {
     "name": "stdout",
     "output_type": "stream",
     "text": [
      "\n",
      "0: 384x640 (no detections), 32.6ms\n",
      "Speed: 0.6ms preprocess, 32.6ms inference, 0.5ms postprocess per image at shape (1, 3, 384, 640)\n",
      "\n",
      "0: 384x640 (no detections), 32.3ms\n",
      "Speed: 0.6ms preprocess, 32.3ms inference, 0.5ms postprocess per image at shape (1, 3, 384, 640)\n",
      "\n",
      "0: 384x640 (no detections), 32.4ms\n",
      "Speed: 0.6ms preprocess, 32.4ms inference, 0.5ms postprocess per image at shape (1, 3, 384, 640)\n"
     ]
    },
    {
     "name": "stderr",
     "output_type": "stream",
     "text": [
      " 45%|████▌     | 979/2158 [00:37<00:43, 27.09it/s]"
     ]
    },
    {
     "name": "stdout",
     "output_type": "stream",
     "text": [
      "\n",
      "0: 384x640 (no detections), 32.3ms\n",
      "Speed: 0.6ms preprocess, 32.3ms inference, 0.7ms postprocess per image at shape (1, 3, 384, 640)\n",
      "\n",
      "0: 384x640 (no detections), 32.5ms\n",
      "Speed: 0.5ms preprocess, 32.5ms inference, 0.5ms postprocess per image at shape (1, 3, 384, 640)\n",
      "\n",
      "0: 384x640 (no detections), 32.5ms\n",
      "Speed: 0.6ms preprocess, 32.5ms inference, 0.4ms postprocess per image at shape (1, 3, 384, 640)\n"
     ]
    },
    {
     "name": "stderr",
     "output_type": "stream",
     "text": [
      " 46%|████▌     | 982/2158 [00:37<00:43, 27.12it/s]"
     ]
    },
    {
     "name": "stdout",
     "output_type": "stream",
     "text": [
      "\n",
      "0: 384x640 (no detections), 32.0ms\n",
      "Speed: 0.7ms preprocess, 32.0ms inference, 0.5ms postprocess per image at shape (1, 3, 384, 640)\n",
      "\n",
      "0: 384x640 (no detections), 32.9ms\n",
      "Speed: 0.6ms preprocess, 32.9ms inference, 0.5ms postprocess per image at shape (1, 3, 384, 640)\n",
      "\n",
      "0: 384x640 (no detections), 32.4ms\n",
      "Speed: 0.6ms preprocess, 32.4ms inference, 0.4ms postprocess per image at shape (1, 3, 384, 640)\n"
     ]
    },
    {
     "name": "stderr",
     "output_type": "stream",
     "text": [
      " 46%|████▌     | 985/2158 [00:37<00:43, 27.13it/s]"
     ]
    },
    {
     "name": "stdout",
     "output_type": "stream",
     "text": [
      "\n",
      "0: 384x640 (no detections), 32.6ms\n",
      "Speed: 0.6ms preprocess, 32.6ms inference, 0.5ms postprocess per image at shape (1, 3, 384, 640)\n",
      "\n",
      "0: 384x640 (no detections), 32.6ms\n",
      "Speed: 0.6ms preprocess, 32.6ms inference, 0.4ms postprocess per image at shape (1, 3, 384, 640)\n",
      "\n",
      "0: 384x640 (no detections), 32.5ms\n",
      "Speed: 0.6ms preprocess, 32.5ms inference, 0.7ms postprocess per image at shape (1, 3, 384, 640)\n"
     ]
    },
    {
     "name": "stderr",
     "output_type": "stream",
     "text": [
      " 46%|████▌     | 988/2158 [00:37<00:43, 27.16it/s]"
     ]
    },
    {
     "name": "stdout",
     "output_type": "stream",
     "text": [
      "\n",
      "0: 384x640 (no detections), 32.2ms\n",
      "Speed: 0.6ms preprocess, 32.2ms inference, 0.5ms postprocess per image at shape (1, 3, 384, 640)\n",
      "\n",
      "0: 384x640 (no detections), 32.5ms\n",
      "Speed: 0.6ms preprocess, 32.5ms inference, 0.5ms postprocess per image at shape (1, 3, 384, 640)\n",
      "\n",
      "0: 384x640 (no detections), 32.3ms\n",
      "Speed: 0.5ms preprocess, 32.3ms inference, 0.4ms postprocess per image at shape (1, 3, 384, 640)\n"
     ]
    },
    {
     "name": "stderr",
     "output_type": "stream",
     "text": [
      " 46%|████▌     | 991/2158 [00:37<00:42, 27.25it/s]"
     ]
    },
    {
     "name": "stdout",
     "output_type": "stream",
     "text": [
      "\n",
      "0: 384x640 (no detections), 32.5ms\n",
      "Speed: 0.6ms preprocess, 32.5ms inference, 0.5ms postprocess per image at shape (1, 3, 384, 640)\n",
      "\n",
      "0: 384x640 (no detections), 32.5ms\n",
      "Speed: 0.6ms preprocess, 32.5ms inference, 0.5ms postprocess per image at shape (1, 3, 384, 640)\n",
      "\n",
      "0: 384x640 (no detections), 32.2ms\n",
      "Speed: 0.5ms preprocess, 32.2ms inference, 0.5ms postprocess per image at shape (1, 3, 384, 640)\n"
     ]
    },
    {
     "name": "stderr",
     "output_type": "stream",
     "text": [
      " 46%|████▌     | 994/2158 [00:37<00:42, 27.28it/s]"
     ]
    },
    {
     "name": "stdout",
     "output_type": "stream",
     "text": [
      "\n",
      "0: 384x640 (no detections), 32.6ms\n",
      "Speed: 0.5ms preprocess, 32.6ms inference, 0.5ms postprocess per image at shape (1, 3, 384, 640)\n",
      "\n",
      "0: 384x640 (no detections), 32.5ms\n",
      "Speed: 0.5ms preprocess, 32.5ms inference, 0.4ms postprocess per image at shape (1, 3, 384, 640)\n",
      "\n",
      "0: 384x640 (no detections), 32.3ms\n",
      "Speed: 0.5ms preprocess, 32.3ms inference, 0.4ms postprocess per image at shape (1, 3, 384, 640)\n"
     ]
    },
    {
     "name": "stderr",
     "output_type": "stream",
     "text": [
      " 46%|████▌     | 997/2158 [00:37<00:42, 27.28it/s]"
     ]
    },
    {
     "name": "stdout",
     "output_type": "stream",
     "text": [
      "\n",
      "0: 384x640 (no detections), 32.2ms\n",
      "Speed: 0.6ms preprocess, 32.2ms inference, 0.5ms postprocess per image at shape (1, 3, 384, 640)\n",
      "\n",
      "0: 384x640 (no detections), 32.2ms\n",
      "Speed: 0.6ms preprocess, 32.2ms inference, 0.7ms postprocess per image at shape (1, 3, 384, 640)\n",
      "\n",
      "0: 384x640 (no detections), 32.5ms\n",
      "Speed: 0.7ms preprocess, 32.5ms inference, 0.5ms postprocess per image at shape (1, 3, 384, 640)\n"
     ]
    },
    {
     "name": "stderr",
     "output_type": "stream",
     "text": [
      " 46%|████▋     | 1000/2158 [00:37<00:42, 27.25it/s]"
     ]
    },
    {
     "name": "stdout",
     "output_type": "stream",
     "text": [
      "\n",
      "0: 384x640 (no detections), 32.6ms\n",
      "Speed: 0.7ms preprocess, 32.6ms inference, 0.7ms postprocess per image at shape (1, 3, 384, 640)\n",
      "\n",
      "0: 384x640 (no detections), 32.6ms\n",
      "Speed: 0.6ms preprocess, 32.6ms inference, 0.7ms postprocess per image at shape (1, 3, 384, 640)\n",
      "\n",
      "0: 384x640 (no detections), 32.4ms\n",
      "Speed: 0.7ms preprocess, 32.4ms inference, 0.4ms postprocess per image at shape (1, 3, 384, 640)\n"
     ]
    },
    {
     "name": "stderr",
     "output_type": "stream",
     "text": [
      " 46%|████▋     | 1003/2158 [00:37<00:42, 27.19it/s]"
     ]
    },
    {
     "name": "stdout",
     "output_type": "stream",
     "text": [
      "\n",
      "0: 384x640 (no detections), 32.4ms\n",
      "Speed: 0.6ms preprocess, 32.4ms inference, 0.5ms postprocess per image at shape (1, 3, 384, 640)\n",
      "\n",
      "0: 384x640 (no detections), 32.2ms\n",
      "Speed: 0.6ms preprocess, 32.2ms inference, 0.4ms postprocess per image at shape (1, 3, 384, 640)\n",
      "\n",
      "0: 384x640 (no detections), 32.6ms\n",
      "Speed: 0.6ms preprocess, 32.6ms inference, 0.7ms postprocess per image at shape (1, 3, 384, 640)\n"
     ]
    },
    {
     "name": "stderr",
     "output_type": "stream",
     "text": [
      " 47%|████▋     | 1006/2158 [00:38<00:42, 27.23it/s]"
     ]
    },
    {
     "name": "stdout",
     "output_type": "stream",
     "text": [
      "\n",
      "0: 384x640 (no detections), 32.5ms\n",
      "Speed: 0.6ms preprocess, 32.5ms inference, 0.7ms postprocess per image at shape (1, 3, 384, 640)\n",
      "\n",
      "0: 384x640 (no detections), 32.5ms\n",
      "Speed: 0.6ms preprocess, 32.5ms inference, 0.5ms postprocess per image at shape (1, 3, 384, 640)\n",
      "\n",
      "0: 384x640 (no detections), 32.5ms\n",
      "Speed: 0.6ms preprocess, 32.5ms inference, 0.5ms postprocess per image at shape (1, 3, 384, 640)\n"
     ]
    },
    {
     "name": "stderr",
     "output_type": "stream",
     "text": [
      " 47%|████▋     | 1009/2158 [00:38<00:42, 27.16it/s]"
     ]
    },
    {
     "name": "stdout",
     "output_type": "stream",
     "text": [
      "\n",
      "0: 384x640 (no detections), 32.6ms\n",
      "Speed: 0.5ms preprocess, 32.6ms inference, 0.5ms postprocess per image at shape (1, 3, 384, 640)\n",
      "\n",
      "0: 384x640 (no detections), 32.3ms\n",
      "Speed: 0.5ms preprocess, 32.3ms inference, 0.4ms postprocess per image at shape (1, 3, 384, 640)\n",
      "\n",
      "0: 384x640 (no detections), 32.6ms\n",
      "Speed: 0.7ms preprocess, 32.6ms inference, 0.4ms postprocess per image at shape (1, 3, 384, 640)\n"
     ]
    },
    {
     "name": "stderr",
     "output_type": "stream",
     "text": [
      " 47%|████▋     | 1012/2158 [00:38<00:42, 27.21it/s]"
     ]
    },
    {
     "name": "stdout",
     "output_type": "stream",
     "text": [
      "\n",
      "0: 384x640 (no detections), 32.2ms\n",
      "Speed: 0.6ms preprocess, 32.2ms inference, 0.5ms postprocess per image at shape (1, 3, 384, 640)\n",
      "\n",
      "0: 384x640 (no detections), 32.5ms\n",
      "Speed: 0.6ms preprocess, 32.5ms inference, 0.5ms postprocess per image at shape (1, 3, 384, 640)\n",
      "\n",
      "0: 384x640 (no detections), 32.5ms\n",
      "Speed: 0.6ms preprocess, 32.5ms inference, 0.7ms postprocess per image at shape (1, 3, 384, 640)\n"
     ]
    },
    {
     "name": "stderr",
     "output_type": "stream",
     "text": [
      " 47%|████▋     | 1015/2158 [00:38<00:42, 27.18it/s]"
     ]
    },
    {
     "name": "stdout",
     "output_type": "stream",
     "text": [
      "\n",
      "0: 384x640 (no detections), 32.5ms\n",
      "Speed: 0.5ms preprocess, 32.5ms inference, 0.5ms postprocess per image at shape (1, 3, 384, 640)\n",
      "\n",
      "0: 384x640 (no detections), 32.4ms\n",
      "Speed: 0.6ms preprocess, 32.4ms inference, 0.6ms postprocess per image at shape (1, 3, 384, 640)\n",
      "\n",
      "0: 384x640 (no detections), 32.4ms\n",
      "Speed: 0.6ms preprocess, 32.4ms inference, 0.5ms postprocess per image at shape (1, 3, 384, 640)\n"
     ]
    },
    {
     "name": "stderr",
     "output_type": "stream",
     "text": [
      " 47%|████▋     | 1018/2158 [00:38<00:41, 27.22it/s]"
     ]
    },
    {
     "name": "stdout",
     "output_type": "stream",
     "text": [
      "\n",
      "0: 384x640 (no detections), 32.5ms\n",
      "Speed: 0.6ms preprocess, 32.5ms inference, 0.7ms postprocess per image at shape (1, 3, 384, 640)\n",
      "\n",
      "0: 384x640 (no detections), 32.5ms\n",
      "Speed: 0.6ms preprocess, 32.5ms inference, 0.7ms postprocess per image at shape (1, 3, 384, 640)\n",
      "\n",
      "0: 384x640 (no detections), 32.6ms\n",
      "Speed: 0.6ms preprocess, 32.6ms inference, 0.5ms postprocess per image at shape (1, 3, 384, 640)\n"
     ]
    },
    {
     "name": "stderr",
     "output_type": "stream",
     "text": [
      " 47%|████▋     | 1021/2158 [00:38<00:41, 27.21it/s]"
     ]
    },
    {
     "name": "stdout",
     "output_type": "stream",
     "text": [
      "\n",
      "0: 384x640 (no detections), 32.3ms\n",
      "Speed: 0.7ms preprocess, 32.3ms inference, 0.7ms postprocess per image at shape (1, 3, 384, 640)\n",
      "\n",
      "0: 384x640 (no detections), 32.5ms\n",
      "Speed: 0.6ms preprocess, 32.5ms inference, 0.5ms postprocess per image at shape (1, 3, 384, 640)\n",
      "\n",
      "0: 384x640 (no detections), 32.3ms\n",
      "Speed: 0.7ms preprocess, 32.3ms inference, 0.5ms postprocess per image at shape (1, 3, 384, 640)\n"
     ]
    },
    {
     "name": "stderr",
     "output_type": "stream",
     "text": [
      " 47%|████▋     | 1024/2158 [00:38<00:41, 27.23it/s]"
     ]
    },
    {
     "name": "stdout",
     "output_type": "stream",
     "text": [
      "\n",
      "0: 384x640 (no detections), 32.5ms\n",
      "Speed: 0.5ms preprocess, 32.5ms inference, 0.5ms postprocess per image at shape (1, 3, 384, 640)\n",
      "\n",
      "0: 384x640 (no detections), 32.5ms\n",
      "Speed: 0.5ms preprocess, 32.5ms inference, 0.5ms postprocess per image at shape (1, 3, 384, 640)\n",
      "\n",
      "0: 384x640 (no detections), 32.3ms\n",
      "Speed: 0.5ms preprocess, 32.3ms inference, 0.5ms postprocess per image at shape (1, 3, 384, 640)\n"
     ]
    },
    {
     "name": "stderr",
     "output_type": "stream",
     "text": [
      " 48%|████▊     | 1027/2158 [00:38<00:41, 27.25it/s]"
     ]
    },
    {
     "name": "stdout",
     "output_type": "stream",
     "text": [
      "\n",
      "0: 384x640 (no detections), 32.5ms\n",
      "Speed: 0.7ms preprocess, 32.5ms inference, 0.6ms postprocess per image at shape (1, 3, 384, 640)\n",
      "\n",
      "0: 384x640 (no detections), 32.3ms\n",
      "Speed: 0.6ms preprocess, 32.3ms inference, 0.7ms postprocess per image at shape (1, 3, 384, 640)\n",
      "\n",
      "0: 384x640 (no detections), 32.5ms\n",
      "Speed: 0.5ms preprocess, 32.5ms inference, 0.7ms postprocess per image at shape (1, 3, 384, 640)\n"
     ]
    },
    {
     "name": "stderr",
     "output_type": "stream",
     "text": [
      " 48%|████▊     | 1030/2158 [00:38<00:41, 27.15it/s]"
     ]
    },
    {
     "name": "stdout",
     "output_type": "stream",
     "text": [
      "\n",
      "0: 384x640 (no detections), 32.5ms\n",
      "Speed: 0.6ms preprocess, 32.5ms inference, 0.5ms postprocess per image at shape (1, 3, 384, 640)\n",
      "\n",
      "0: 384x640 (no detections), 32.2ms\n",
      "Speed: 0.7ms preprocess, 32.2ms inference, 0.5ms postprocess per image at shape (1, 3, 384, 640)\n",
      "\n",
      "0: 384x640 (no detections), 32.6ms\n",
      "Speed: 0.7ms preprocess, 32.6ms inference, 0.7ms postprocess per image at shape (1, 3, 384, 640)\n"
     ]
    },
    {
     "name": "stderr",
     "output_type": "stream",
     "text": [
      " 48%|████▊     | 1033/2158 [00:39<00:41, 27.11it/s]"
     ]
    },
    {
     "name": "stdout",
     "output_type": "stream",
     "text": [
      "\n",
      "0: 384x640 (no detections), 32.5ms\n",
      "Speed: 0.6ms preprocess, 32.5ms inference, 0.5ms postprocess per image at shape (1, 3, 384, 640)\n",
      "\n",
      "0: 384x640 (no detections), 32.2ms\n",
      "Speed: 0.6ms preprocess, 32.2ms inference, 0.4ms postprocess per image at shape (1, 3, 384, 640)\n",
      "\n",
      "0: 384x640 (no detections), 32.8ms\n",
      "Speed: 0.6ms preprocess, 32.8ms inference, 0.4ms postprocess per image at shape (1, 3, 384, 640)\n"
     ]
    },
    {
     "name": "stderr",
     "output_type": "stream",
     "text": [
      " 48%|████▊     | 1036/2158 [00:39<00:41, 27.12it/s]"
     ]
    },
    {
     "name": "stdout",
     "output_type": "stream",
     "text": [
      "\n",
      "0: 384x640 (no detections), 32.3ms\n",
      "Speed: 0.6ms preprocess, 32.3ms inference, 0.5ms postprocess per image at shape (1, 3, 384, 640)\n",
      "\n",
      "0: 384x640 (no detections), 32.5ms\n",
      "Speed: 0.5ms preprocess, 32.5ms inference, 0.5ms postprocess per image at shape (1, 3, 384, 640)\n",
      "\n",
      "0: 384x640 (no detections), 32.6ms\n",
      "Speed: 0.5ms preprocess, 32.6ms inference, 0.7ms postprocess per image at shape (1, 3, 384, 640)\n"
     ]
    },
    {
     "name": "stderr",
     "output_type": "stream",
     "text": [
      " 48%|████▊     | 1039/2158 [00:39<00:41, 27.17it/s]"
     ]
    },
    {
     "name": "stdout",
     "output_type": "stream",
     "text": [
      "\n",
      "0: 384x640 (no detections), 32.5ms\n",
      "Speed: 0.6ms preprocess, 32.5ms inference, 0.5ms postprocess per image at shape (1, 3, 384, 640)\n",
      "\n",
      "0: 384x640 (no detections), 32.5ms\n",
      "Speed: 0.7ms preprocess, 32.5ms inference, 0.5ms postprocess per image at shape (1, 3, 384, 640)\n",
      "\n",
      "0: 384x640 (no detections), 32.4ms\n",
      "Speed: 0.8ms preprocess, 32.4ms inference, 0.5ms postprocess per image at shape (1, 3, 384, 640)\n"
     ]
    },
    {
     "name": "stderr",
     "output_type": "stream",
     "text": [
      " 48%|████▊     | 1042/2158 [00:39<00:41, 27.19it/s]"
     ]
    },
    {
     "name": "stdout",
     "output_type": "stream",
     "text": [
      "\n",
      "0: 384x640 (no detections), 32.3ms\n",
      "Speed: 0.5ms preprocess, 32.3ms inference, 0.7ms postprocess per image at shape (1, 3, 384, 640)\n",
      "\n",
      "0: 384x640 (no detections), 32.6ms\n",
      "Speed: 0.5ms preprocess, 32.6ms inference, 0.7ms postprocess per image at shape (1, 3, 384, 640)\n",
      "\n",
      "0: 384x640 (no detections), 32.6ms\n",
      "Speed: 0.6ms preprocess, 32.6ms inference, 0.7ms postprocess per image at shape (1, 3, 384, 640)\n"
     ]
    },
    {
     "name": "stderr",
     "output_type": "stream",
     "text": [
      " 48%|████▊     | 1045/2158 [00:39<00:41, 27.12it/s]"
     ]
    },
    {
     "name": "stdout",
     "output_type": "stream",
     "text": [
      "\n",
      "0: 384x640 (no detections), 32.9ms\n",
      "Speed: 0.6ms preprocess, 32.9ms inference, 0.5ms postprocess per image at shape (1, 3, 384, 640)\n",
      "\n",
      "0: 384x640 (no detections), 32.5ms\n",
      "Speed: 0.6ms preprocess, 32.5ms inference, 0.5ms postprocess per image at shape (1, 3, 384, 640)\n",
      "\n",
      "0: 384x640 (no detections), 32.5ms\n",
      "Speed: 0.5ms preprocess, 32.5ms inference, 0.5ms postprocess per image at shape (1, 3, 384, 640)\n"
     ]
    },
    {
     "name": "stderr",
     "output_type": "stream",
     "text": [
      " 49%|████▊     | 1048/2158 [00:39<00:40, 27.11it/s]"
     ]
    },
    {
     "name": "stdout",
     "output_type": "stream",
     "text": [
      "\n",
      "0: 384x640 (no detections), 32.2ms\n",
      "Speed: 0.6ms preprocess, 32.2ms inference, 0.5ms postprocess per image at shape (1, 3, 384, 640)\n",
      "\n",
      "0: 384x640 (no detections), 34.4ms\n",
      "Speed: 0.5ms preprocess, 34.4ms inference, 0.8ms postprocess per image at shape (1, 3, 384, 640)\n",
      "\n",
      "0: 384x640 (no detections), 32.6ms\n",
      "Speed: 0.8ms preprocess, 32.6ms inference, 0.8ms postprocess per image at shape (1, 3, 384, 640)\n"
     ]
    },
    {
     "name": "stderr",
     "output_type": "stream",
     "text": [
      " 49%|████▊     | 1051/2158 [00:39<00:41, 26.88it/s]"
     ]
    },
    {
     "name": "stdout",
     "output_type": "stream",
     "text": [
      "\n",
      "0: 384x640 (no detections), 32.6ms\n",
      "Speed: 0.6ms preprocess, 32.6ms inference, 0.7ms postprocess per image at shape (1, 3, 384, 640)\n",
      "\n",
      "0: 384x640 (no detections), 32.5ms\n",
      "Speed: 0.6ms preprocess, 32.5ms inference, 0.5ms postprocess per image at shape (1, 3, 384, 640)\n",
      "\n",
      "0: 384x640 (no detections), 32.6ms\n",
      "Speed: 0.5ms preprocess, 32.6ms inference, 0.4ms postprocess per image at shape (1, 3, 384, 640)\n"
     ]
    },
    {
     "name": "stderr",
     "output_type": "stream",
     "text": [
      " 49%|████▉     | 1054/2158 [00:39<00:40, 26.99it/s]"
     ]
    },
    {
     "name": "stdout",
     "output_type": "stream",
     "text": [
      "\n",
      "0: 384x640 (no detections), 32.3ms\n",
      "Speed: 0.6ms preprocess, 32.3ms inference, 0.5ms postprocess per image at shape (1, 3, 384, 640)\n",
      "\n",
      "0: 384x640 (no detections), 32.2ms\n",
      "Speed: 0.6ms preprocess, 32.2ms inference, 0.5ms postprocess per image at shape (1, 3, 384, 640)\n",
      "\n",
      "0: 384x640 (no detections), 32.4ms\n",
      "Speed: 0.6ms preprocess, 32.4ms inference, 0.4ms postprocess per image at shape (1, 3, 384, 640)\n"
     ]
    },
    {
     "name": "stderr",
     "output_type": "stream",
     "text": [
      " 49%|████▉     | 1057/2158 [00:39<00:40, 27.08it/s]"
     ]
    },
    {
     "name": "stdout",
     "output_type": "stream",
     "text": [
      "\n",
      "0: 384x640 (no detections), 32.6ms\n",
      "Speed: 0.6ms preprocess, 32.6ms inference, 0.7ms postprocess per image at shape (1, 3, 384, 640)\n",
      "\n",
      "0: 384x640 (no detections), 32.2ms\n",
      "Speed: 1.0ms preprocess, 32.2ms inference, 0.7ms postprocess per image at shape (1, 3, 384, 640)\n",
      "\n",
      "0: 384x640 (no detections), 32.5ms\n",
      "Speed: 0.7ms preprocess, 32.5ms inference, 0.4ms postprocess per image at shape (1, 3, 384, 640)\n"
     ]
    },
    {
     "name": "stderr",
     "output_type": "stream",
     "text": [
      " 49%|████▉     | 1060/2158 [00:40<00:40, 27.09it/s]"
     ]
    },
    {
     "name": "stdout",
     "output_type": "stream",
     "text": [
      "\n",
      "0: 384x640 (no detections), 32.5ms\n",
      "Speed: 0.6ms preprocess, 32.5ms inference, 0.5ms postprocess per image at shape (1, 3, 384, 640)\n",
      "\n",
      "0: 384x640 (no detections), 32.6ms\n",
      "Speed: 0.6ms preprocess, 32.6ms inference, 0.4ms postprocess per image at shape (1, 3, 384, 640)\n",
      "\n",
      "0: 384x640 (no detections), 32.5ms\n",
      "Speed: 0.6ms preprocess, 32.5ms inference, 0.5ms postprocess per image at shape (1, 3, 384, 640)\n"
     ]
    },
    {
     "name": "stderr",
     "output_type": "stream",
     "text": [
      " 49%|████▉     | 1063/2158 [00:40<00:40, 27.16it/s]"
     ]
    },
    {
     "name": "stdout",
     "output_type": "stream",
     "text": [
      "\n",
      "0: 384x640 (no detections), 32.4ms\n",
      "Speed: 0.7ms preprocess, 32.4ms inference, 0.7ms postprocess per image at shape (1, 3, 384, 640)\n",
      "\n",
      "0: 384x640 (no detections), 32.2ms\n",
      "Speed: 0.7ms preprocess, 32.2ms inference, 0.4ms postprocess per image at shape (1, 3, 384, 640)\n",
      "\n",
      "0: 384x640 (no detections), 32.5ms\n",
      "Speed: 0.6ms preprocess, 32.5ms inference, 0.5ms postprocess per image at shape (1, 3, 384, 640)\n"
     ]
    },
    {
     "name": "stderr",
     "output_type": "stream",
     "text": [
      " 49%|████▉     | 1066/2158 [00:40<00:40, 27.17it/s]"
     ]
    },
    {
     "name": "stdout",
     "output_type": "stream",
     "text": [
      "\n",
      "0: 384x640 (no detections), 32.3ms\n",
      "Speed: 0.6ms preprocess, 32.3ms inference, 0.5ms postprocess per image at shape (1, 3, 384, 640)\n",
      "\n",
      "0: 384x640 (no detections), 32.6ms\n",
      "Speed: 0.6ms preprocess, 32.6ms inference, 0.4ms postprocess per image at shape (1, 3, 384, 640)\n",
      "\n",
      "0: 384x640 (no detections), 32.4ms\n",
      "Speed: 0.6ms preprocess, 32.4ms inference, 0.5ms postprocess per image at shape (1, 3, 384, 640)\n"
     ]
    },
    {
     "name": "stderr",
     "output_type": "stream",
     "text": [
      " 50%|████▉     | 1069/2158 [00:40<00:40, 27.16it/s]"
     ]
    },
    {
     "name": "stdout",
     "output_type": "stream",
     "text": [
      "\n",
      "0: 384x640 (no detections), 32.5ms\n",
      "Speed: 0.6ms preprocess, 32.5ms inference, 0.5ms postprocess per image at shape (1, 3, 384, 640)\n",
      "\n",
      "0: 384x640 (no detections), 32.5ms\n",
      "Speed: 0.5ms preprocess, 32.5ms inference, 0.4ms postprocess per image at shape (1, 3, 384, 640)\n",
      "\n",
      "0: 384x640 (no detections), 32.5ms\n",
      "Speed: 0.6ms preprocess, 32.5ms inference, 0.7ms postprocess per image at shape (1, 3, 384, 640)\n"
     ]
    },
    {
     "name": "stderr",
     "output_type": "stream",
     "text": [
      " 50%|████▉     | 1072/2158 [00:40<00:39, 27.21it/s]"
     ]
    },
    {
     "name": "stdout",
     "output_type": "stream",
     "text": [
      "\n",
      "0: 384x640 (no detections), 32.5ms\n",
      "Speed: 0.5ms preprocess, 32.5ms inference, 0.7ms postprocess per image at shape (1, 3, 384, 640)\n",
      "\n",
      "0: 384x640 (no detections), 32.5ms\n",
      "Speed: 0.6ms preprocess, 32.5ms inference, 0.5ms postprocess per image at shape (1, 3, 384, 640)\n",
      "\n",
      "0: 384x640 (no detections), 32.4ms\n",
      "Speed: 0.5ms preprocess, 32.4ms inference, 0.5ms postprocess per image at shape (1, 3, 384, 640)\n"
     ]
    },
    {
     "name": "stderr",
     "output_type": "stream",
     "text": [
      " 50%|████▉     | 1075/2158 [00:40<00:39, 27.18it/s]"
     ]
    },
    {
     "name": "stdout",
     "output_type": "stream",
     "text": [
      "\n",
      "0: 384x640 (no detections), 32.5ms\n",
      "Speed: 0.6ms preprocess, 32.5ms inference, 0.5ms postprocess per image at shape (1, 3, 384, 640)\n",
      "\n",
      "0: 384x640 (no detections), 32.4ms\n",
      "Speed: 0.5ms preprocess, 32.4ms inference, 0.5ms postprocess per image at shape (1, 3, 384, 640)\n",
      "\n",
      "0: 384x640 (no detections), 32.5ms\n",
      "Speed: 0.6ms preprocess, 32.5ms inference, 0.5ms postprocess per image at shape (1, 3, 384, 640)\n"
     ]
    },
    {
     "name": "stderr",
     "output_type": "stream",
     "text": [
      " 50%|████▉     | 1078/2158 [00:40<00:39, 27.23it/s]"
     ]
    },
    {
     "name": "stdout",
     "output_type": "stream",
     "text": [
      "\n",
      "0: 384x640 (no detections), 32.2ms\n",
      "Speed: 0.7ms preprocess, 32.2ms inference, 0.5ms postprocess per image at shape (1, 3, 384, 640)\n",
      "\n",
      "0: 384x640 (no detections), 32.5ms\n",
      "Speed: 0.6ms preprocess, 32.5ms inference, 0.4ms postprocess per image at shape (1, 3, 384, 640)\n",
      "\n",
      "0: 384x640 (no detections), 32.5ms\n",
      "Speed: 0.5ms preprocess, 32.5ms inference, 0.7ms postprocess per image at shape (1, 3, 384, 640)\n"
     ]
    },
    {
     "name": "stderr",
     "output_type": "stream",
     "text": [
      " 50%|█████     | 1081/2158 [00:40<00:39, 27.22it/s]"
     ]
    },
    {
     "name": "stdout",
     "output_type": "stream",
     "text": [
      "\n",
      "0: 384x640 (no detections), 32.5ms\n",
      "Speed: 0.5ms preprocess, 32.5ms inference, 0.5ms postprocess per image at shape (1, 3, 384, 640)\n",
      "\n",
      "0: 384x640 (no detections), 32.4ms\n",
      "Speed: 0.5ms preprocess, 32.4ms inference, 0.5ms postprocess per image at shape (1, 3, 384, 640)\n",
      "\n",
      "0: 384x640 (no detections), 32.3ms\n",
      "Speed: 0.6ms preprocess, 32.3ms inference, 0.8ms postprocess per image at shape (1, 3, 384, 640)\n"
     ]
    },
    {
     "name": "stderr",
     "output_type": "stream",
     "text": [
      " 50%|█████     | 1084/2158 [00:40<00:39, 27.23it/s]"
     ]
    },
    {
     "name": "stdout",
     "output_type": "stream",
     "text": [
      "\n",
      "0: 384x640 (no detections), 32.4ms\n",
      "Speed: 0.8ms preprocess, 32.4ms inference, 0.5ms postprocess per image at shape (1, 3, 384, 640)\n",
      "\n",
      "0: 384x640 (no detections), 32.2ms\n",
      "Speed: 0.6ms preprocess, 32.2ms inference, 0.5ms postprocess per image at shape (1, 3, 384, 640)\n",
      "\n",
      "0: 384x640 (no detections), 32.6ms\n",
      "Speed: 0.5ms preprocess, 32.6ms inference, 0.6ms postprocess per image at shape (1, 3, 384, 640)\n"
     ]
    },
    {
     "name": "stderr",
     "output_type": "stream",
     "text": [
      " 50%|█████     | 1087/2158 [00:40<00:39, 27.22it/s]"
     ]
    },
    {
     "name": "stdout",
     "output_type": "stream",
     "text": [
      "\n",
      "0: 384x640 (no detections), 32.6ms\n",
      "Speed: 0.5ms preprocess, 32.6ms inference, 0.4ms postprocess per image at shape (1, 3, 384, 640)\n",
      "\n",
      "0: 384x640 (no detections), 32.3ms\n",
      "Speed: 0.5ms preprocess, 32.3ms inference, 0.5ms postprocess per image at shape (1, 3, 384, 640)\n",
      "\n",
      "0: 384x640 (no detections), 32.5ms\n",
      "Speed: 0.6ms preprocess, 32.5ms inference, 0.5ms postprocess per image at shape (1, 3, 384, 640)\n"
     ]
    },
    {
     "name": "stderr",
     "output_type": "stream",
     "text": [
      " 51%|█████     | 1090/2158 [00:41<00:39, 27.24it/s]"
     ]
    },
    {
     "name": "stdout",
     "output_type": "stream",
     "text": [
      "\n",
      "0: 384x640 (no detections), 32.5ms\n",
      "Speed: 0.6ms preprocess, 32.5ms inference, 0.5ms postprocess per image at shape (1, 3, 384, 640)\n",
      "\n",
      "0: 384x640 (no detections), 32.4ms\n",
      "Speed: 0.5ms preprocess, 32.4ms inference, 0.5ms postprocess per image at shape (1, 3, 384, 640)\n",
      "\n",
      "0: 384x640 (no detections), 32.5ms\n",
      "Speed: 0.6ms preprocess, 32.5ms inference, 0.5ms postprocess per image at shape (1, 3, 384, 640)\n"
     ]
    },
    {
     "name": "stderr",
     "output_type": "stream",
     "text": [
      " 51%|█████     | 1093/2158 [00:41<00:39, 27.19it/s]"
     ]
    },
    {
     "name": "stdout",
     "output_type": "stream",
     "text": [
      "\n",
      "0: 384x640 (no detections), 32.3ms\n",
      "Speed: 0.7ms preprocess, 32.3ms inference, 0.5ms postprocess per image at shape (1, 3, 384, 640)\n",
      "\n",
      "0: 384x640 (no detections), 32.5ms\n",
      "Speed: 0.6ms preprocess, 32.5ms inference, 0.5ms postprocess per image at shape (1, 3, 384, 640)\n",
      "\n",
      "0: 384x640 (no detections), 32.5ms\n",
      "Speed: 0.7ms preprocess, 32.5ms inference, 0.5ms postprocess per image at shape (1, 3, 384, 640)\n"
     ]
    },
    {
     "name": "stderr",
     "output_type": "stream",
     "text": [
      " 51%|█████     | 1096/2158 [00:41<00:39, 27.19it/s]"
     ]
    },
    {
     "name": "stdout",
     "output_type": "stream",
     "text": [
      "\n",
      "0: 384x640 (no detections), 32.2ms\n",
      "Speed: 0.5ms preprocess, 32.2ms inference, 0.5ms postprocess per image at shape (1, 3, 384, 640)\n",
      "\n",
      "0: 384x640 (no detections), 32.6ms\n",
      "Speed: 0.7ms preprocess, 32.6ms inference, 0.5ms postprocess per image at shape (1, 3, 384, 640)\n",
      "\n",
      "0: 384x640 (no detections), 32.6ms\n",
      "Speed: 1.6ms preprocess, 32.6ms inference, 0.5ms postprocess per image at shape (1, 3, 384, 640)\n"
     ]
    },
    {
     "name": "stderr",
     "output_type": "stream",
     "text": [
      " 51%|█████     | 1099/2158 [00:41<00:39, 27.11it/s]"
     ]
    },
    {
     "name": "stdout",
     "output_type": "stream",
     "text": [
      "\n",
      "0: 384x640 (no detections), 32.3ms\n",
      "Speed: 0.6ms preprocess, 32.3ms inference, 0.5ms postprocess per image at shape (1, 3, 384, 640)\n",
      "\n",
      "0: 384x640 (no detections), 32.6ms\n",
      "Speed: 0.5ms preprocess, 32.6ms inference, 0.5ms postprocess per image at shape (1, 3, 384, 640)\n",
      "\n",
      "0: 384x640 (no detections), 32.4ms\n",
      "Speed: 0.6ms preprocess, 32.4ms inference, 0.4ms postprocess per image at shape (1, 3, 384, 640)\n"
     ]
    },
    {
     "name": "stderr",
     "output_type": "stream",
     "text": [
      " 51%|█████     | 1102/2158 [00:41<00:38, 27.19it/s]"
     ]
    },
    {
     "name": "stdout",
     "output_type": "stream",
     "text": [
      "\n",
      "0: 384x640 (no detections), 32.2ms\n",
      "Speed: 0.7ms preprocess, 32.2ms inference, 0.5ms postprocess per image at shape (1, 3, 384, 640)\n",
      "\n",
      "0: 384x640 (no detections), 32.4ms\n",
      "Speed: 0.6ms preprocess, 32.4ms inference, 0.5ms postprocess per image at shape (1, 3, 384, 640)\n",
      "\n",
      "0: 384x640 (no detections), 32.4ms\n",
      "Speed: 0.6ms preprocess, 32.4ms inference, 0.5ms postprocess per image at shape (1, 3, 384, 640)\n"
     ]
    },
    {
     "name": "stderr",
     "output_type": "stream",
     "text": [
      " 51%|█████     | 1105/2158 [00:41<00:38, 27.17it/s]"
     ]
    },
    {
     "name": "stdout",
     "output_type": "stream",
     "text": [
      "\n",
      "0: 384x640 (no detections), 32.4ms\n",
      "Speed: 0.7ms preprocess, 32.4ms inference, 0.5ms postprocess per image at shape (1, 3, 384, 640)\n",
      "\n",
      "0: 384x640 (no detections), 32.5ms\n",
      "Speed: 0.6ms preprocess, 32.5ms inference, 0.6ms postprocess per image at shape (1, 3, 384, 640)\n",
      "\n",
      "0: 384x640 (no detections), 32.5ms\n",
      "Speed: 0.7ms preprocess, 32.5ms inference, 0.5ms postprocess per image at shape (1, 3, 384, 640)\n"
     ]
    },
    {
     "name": "stderr",
     "output_type": "stream",
     "text": [
      " 51%|█████▏    | 1108/2158 [00:41<00:38, 27.13it/s]"
     ]
    },
    {
     "name": "stdout",
     "output_type": "stream",
     "text": [
      "\n",
      "0: 384x640 (no detections), 32.5ms\n",
      "Speed: 0.7ms preprocess, 32.5ms inference, 0.5ms postprocess per image at shape (1, 3, 384, 640)\n",
      "\n",
      "0: 384x640 (no detections), 32.6ms\n",
      "Speed: 0.5ms preprocess, 32.6ms inference, 0.5ms postprocess per image at shape (1, 3, 384, 640)\n",
      "\n",
      "0: 384x640 (no detections), 32.3ms\n",
      "Speed: 0.5ms preprocess, 32.3ms inference, 0.4ms postprocess per image at shape (1, 3, 384, 640)\n"
     ]
    },
    {
     "name": "stderr",
     "output_type": "stream",
     "text": [
      " 51%|█████▏    | 1111/2158 [00:41<00:38, 27.21it/s]"
     ]
    },
    {
     "name": "stdout",
     "output_type": "stream",
     "text": [
      "\n",
      "0: 384x640 (no detections), 32.6ms\n",
      "Speed: 0.6ms preprocess, 32.6ms inference, 0.5ms postprocess per image at shape (1, 3, 384, 640)\n",
      "\n",
      "0: 384x640 (no detections), 32.8ms\n",
      "Speed: 0.6ms preprocess, 32.8ms inference, 0.7ms postprocess per image at shape (1, 3, 384, 640)\n",
      "\n",
      "0: 384x640 (no detections), 32.3ms\n",
      "Speed: 0.6ms preprocess, 32.3ms inference, 0.4ms postprocess per image at shape (1, 3, 384, 640)\n"
     ]
    },
    {
     "name": "stderr",
     "output_type": "stream",
     "text": [
      " 52%|█████▏    | 1114/2158 [00:41<00:38, 27.18it/s]"
     ]
    },
    {
     "name": "stdout",
     "output_type": "stream",
     "text": [
      "\n",
      "0: 384x640 (no detections), 32.5ms\n",
      "Speed: 0.6ms preprocess, 32.5ms inference, 0.5ms postprocess per image at shape (1, 3, 384, 640)\n",
      "\n",
      "0: 384x640 (no detections), 32.5ms\n",
      "Speed: 0.5ms preprocess, 32.5ms inference, 0.4ms postprocess per image at shape (1, 3, 384, 640)\n",
      "\n",
      "0: 384x640 (no detections), 32.6ms\n",
      "Speed: 0.6ms preprocess, 32.6ms inference, 0.7ms postprocess per image at shape (1, 3, 384, 640)\n"
     ]
    },
    {
     "name": "stderr",
     "output_type": "stream",
     "text": [
      " 52%|█████▏    | 1117/2158 [00:42<00:38, 27.12it/s]"
     ]
    },
    {
     "name": "stdout",
     "output_type": "stream",
     "text": [
      "\n",
      "0: 384x640 (no detections), 32.2ms\n",
      "Speed: 0.6ms preprocess, 32.2ms inference, 0.6ms postprocess per image at shape (1, 3, 384, 640)\n",
      "\n",
      "0: 384x640 (no detections), 32.5ms\n",
      "Speed: 0.7ms preprocess, 32.5ms inference, 0.5ms postprocess per image at shape (1, 3, 384, 640)\n",
      "\n",
      "0: 384x640 (no detections), 32.4ms\n",
      "Speed: 0.6ms preprocess, 32.4ms inference, 0.5ms postprocess per image at shape (1, 3, 384, 640)\n"
     ]
    },
    {
     "name": "stderr",
     "output_type": "stream",
     "text": [
      " 52%|█████▏    | 1120/2158 [00:42<00:38, 27.19it/s]"
     ]
    },
    {
     "name": "stdout",
     "output_type": "stream",
     "text": [
      "\n",
      "0: 384x640 (no detections), 32.5ms\n",
      "Speed: 0.5ms preprocess, 32.5ms inference, 0.5ms postprocess per image at shape (1, 3, 384, 640)\n",
      "\n",
      "0: 384x640 (no detections), 32.5ms\n",
      "Speed: 0.6ms preprocess, 32.5ms inference, 0.5ms postprocess per image at shape (1, 3, 384, 640)\n",
      "\n",
      "0: 384x640 (no detections), 32.4ms\n",
      "Speed: 0.5ms preprocess, 32.4ms inference, 0.4ms postprocess per image at shape (1, 3, 384, 640)\n"
     ]
    },
    {
     "name": "stderr",
     "output_type": "stream",
     "text": [
      " 52%|█████▏    | 1123/2158 [00:42<00:38, 27.16it/s]"
     ]
    },
    {
     "name": "stdout",
     "output_type": "stream",
     "text": [
      "\n",
      "0: 384x640 (no detections), 32.2ms\n",
      "Speed: 0.6ms preprocess, 32.2ms inference, 0.5ms postprocess per image at shape (1, 3, 384, 640)\n",
      "\n",
      "0: 384x640 (no detections), 32.5ms\n",
      "Speed: 0.6ms preprocess, 32.5ms inference, 0.4ms postprocess per image at shape (1, 3, 384, 640)\n",
      "\n",
      "0: 384x640 (no detections), 32.6ms\n",
      "Speed: 0.7ms preprocess, 32.6ms inference, 0.4ms postprocess per image at shape (1, 3, 384, 640)\n"
     ]
    },
    {
     "name": "stderr",
     "output_type": "stream",
     "text": [
      " 52%|█████▏    | 1126/2158 [00:42<00:37, 27.21it/s]"
     ]
    },
    {
     "name": "stdout",
     "output_type": "stream",
     "text": [
      "\n",
      "0: 384x640 (no detections), 32.5ms\n",
      "Speed: 0.7ms preprocess, 32.5ms inference, 0.5ms postprocess per image at shape (1, 3, 384, 640)\n",
      "\n",
      "0: 384x640 (no detections), 32.4ms\n",
      "Speed: 0.7ms preprocess, 32.4ms inference, 0.5ms postprocess per image at shape (1, 3, 384, 640)\n",
      "\n",
      "0: 384x640 (no detections), 32.5ms\n",
      "Speed: 0.6ms preprocess, 32.5ms inference, 0.4ms postprocess per image at shape (1, 3, 384, 640)\n"
     ]
    },
    {
     "name": "stderr",
     "output_type": "stream",
     "text": [
      " 52%|█████▏    | 1129/2158 [00:42<00:37, 27.16it/s]"
     ]
    },
    {
     "name": "stdout",
     "output_type": "stream",
     "text": [
      "\n",
      "0: 384x640 (no detections), 32.4ms\n",
      "Speed: 0.6ms preprocess, 32.4ms inference, 0.7ms postprocess per image at shape (1, 3, 384, 640)\n",
      "\n",
      "0: 384x640 (no detections), 32.5ms\n",
      "Speed: 0.6ms preprocess, 32.5ms inference, 0.4ms postprocess per image at shape (1, 3, 384, 640)\n",
      "\n",
      "0: 384x640 (no detections), 32.2ms\n",
      "Speed: 0.7ms preprocess, 32.2ms inference, 0.5ms postprocess per image at shape (1, 3, 384, 640)\n"
     ]
    },
    {
     "name": "stderr",
     "output_type": "stream",
     "text": [
      " 52%|█████▏    | 1132/2158 [00:42<00:37, 27.16it/s]"
     ]
    },
    {
     "name": "stdout",
     "output_type": "stream",
     "text": [
      "\n",
      "0: 384x640 (no detections), 32.5ms\n",
      "Speed: 0.7ms preprocess, 32.5ms inference, 0.7ms postprocess per image at shape (1, 3, 384, 640)\n",
      "\n",
      "0: 384x640 (no detections), 32.5ms\n",
      "Speed: 0.6ms preprocess, 32.5ms inference, 0.4ms postprocess per image at shape (1, 3, 384, 640)\n",
      "\n",
      "0: 384x640 (no detections), 32.6ms\n",
      "Speed: 0.5ms preprocess, 32.6ms inference, 0.7ms postprocess per image at shape (1, 3, 384, 640)\n"
     ]
    },
    {
     "name": "stderr",
     "output_type": "stream",
     "text": [
      " 53%|█████▎    | 1135/2158 [00:42<00:37, 27.17it/s]"
     ]
    },
    {
     "name": "stdout",
     "output_type": "stream",
     "text": [
      "\n",
      "0: 384x640 (no detections), 32.6ms\n",
      "Speed: 0.5ms preprocess, 32.6ms inference, 0.7ms postprocess per image at shape (1, 3, 384, 640)\n",
      "\n",
      "0: 384x640 (no detections), 32.5ms\n",
      "Speed: 0.7ms preprocess, 32.5ms inference, 0.7ms postprocess per image at shape (1, 3, 384, 640)\n",
      "\n",
      "0: 384x640 (no detections), 32.5ms\n",
      "Speed: 0.7ms preprocess, 32.5ms inference, 0.5ms postprocess per image at shape (1, 3, 384, 640)\n"
     ]
    },
    {
     "name": "stderr",
     "output_type": "stream",
     "text": [
      " 53%|█████▎    | 1138/2158 [00:42<00:37, 27.14it/s]"
     ]
    },
    {
     "name": "stdout",
     "output_type": "stream",
     "text": [
      "\n",
      "0: 384x640 (no detections), 32.5ms\n",
      "Speed: 0.6ms preprocess, 32.5ms inference, 0.7ms postprocess per image at shape (1, 3, 384, 640)\n",
      "\n",
      "0: 384x640 (no detections), 32.5ms\n",
      "Speed: 0.5ms preprocess, 32.5ms inference, 0.7ms postprocess per image at shape (1, 3, 384, 640)\n",
      "\n",
      "0: 384x640 (no detections), 32.3ms\n",
      "Speed: 0.7ms preprocess, 32.3ms inference, 0.5ms postprocess per image at shape (1, 3, 384, 640)\n"
     ]
    },
    {
     "name": "stderr",
     "output_type": "stream",
     "text": [
      " 53%|█████▎    | 1141/2158 [00:42<00:37, 27.09it/s]"
     ]
    },
    {
     "name": "stdout",
     "output_type": "stream",
     "text": [
      "\n",
      "0: 384x640 (no detections), 32.2ms\n",
      "Speed: 0.7ms preprocess, 32.2ms inference, 0.6ms postprocess per image at shape (1, 3, 384, 640)\n",
      "\n",
      "0: 384x640 (no detections), 32.3ms\n",
      "Speed: 0.6ms preprocess, 32.3ms inference, 0.7ms postprocess per image at shape (1, 3, 384, 640)\n",
      "\n",
      "0: 384x640 (no detections), 32.5ms\n",
      "Speed: 0.6ms preprocess, 32.5ms inference, 0.7ms postprocess per image at shape (1, 3, 384, 640)\n"
     ]
    },
    {
     "name": "stderr",
     "output_type": "stream",
     "text": [
      " 53%|█████▎    | 1144/2158 [00:43<00:37, 27.13it/s]"
     ]
    },
    {
     "name": "stdout",
     "output_type": "stream",
     "text": [
      "\n",
      "0: 384x640 (no detections), 32.5ms\n",
      "Speed: 0.5ms preprocess, 32.5ms inference, 0.7ms postprocess per image at shape (1, 3, 384, 640)\n",
      "\n",
      "0: 384x640 (no detections), 32.5ms\n",
      "Speed: 0.7ms preprocess, 32.5ms inference, 0.4ms postprocess per image at shape (1, 3, 384, 640)\n",
      "\n",
      "0: 384x640 (no detections), 32.5ms\n",
      "Speed: 0.6ms preprocess, 32.5ms inference, 0.7ms postprocess per image at shape (1, 3, 384, 640)\n"
     ]
    },
    {
     "name": "stderr",
     "output_type": "stream",
     "text": [
      " 53%|█████▎    | 1147/2158 [00:43<00:37, 27.11it/s]"
     ]
    },
    {
     "name": "stdout",
     "output_type": "stream",
     "text": [
      "\n",
      "0: 384x640 (no detections), 32.5ms\n",
      "Speed: 0.6ms preprocess, 32.5ms inference, 0.5ms postprocess per image at shape (1, 3, 384, 640)\n",
      "\n",
      "0: 384x640 (no detections), 32.3ms\n",
      "Speed: 0.6ms preprocess, 32.3ms inference, 0.4ms postprocess per image at shape (1, 3, 384, 640)\n",
      "\n",
      "0: 384x640 (no detections), 32.6ms\n",
      "Speed: 0.5ms preprocess, 32.6ms inference, 0.5ms postprocess per image at shape (1, 3, 384, 640)\n"
     ]
    },
    {
     "name": "stderr",
     "output_type": "stream",
     "text": [
      " 53%|█████▎    | 1150/2158 [00:43<00:37, 27.12it/s]"
     ]
    },
    {
     "name": "stdout",
     "output_type": "stream",
     "text": [
      "\n",
      "0: 384x640 (no detections), 32.2ms\n",
      "Speed: 0.6ms preprocess, 32.2ms inference, 0.5ms postprocess per image at shape (1, 3, 384, 640)\n",
      "\n",
      "0: 384x640 (no detections), 32.5ms\n",
      "Speed: 0.5ms preprocess, 32.5ms inference, 0.7ms postprocess per image at shape (1, 3, 384, 640)\n",
      "\n",
      "0: 384x640 (no detections), 32.5ms\n",
      "Speed: 0.5ms preprocess, 32.5ms inference, 0.7ms postprocess per image at shape (1, 3, 384, 640)\n"
     ]
    },
    {
     "name": "stderr",
     "output_type": "stream",
     "text": [
      " 53%|█████▎    | 1153/2158 [00:43<00:37, 27.11it/s]"
     ]
    },
    {
     "name": "stdout",
     "output_type": "stream",
     "text": [
      "\n",
      "0: 384x640 (no detections), 32.5ms\n",
      "Speed: 0.6ms preprocess, 32.5ms inference, 0.5ms postprocess per image at shape (1, 3, 384, 640)\n",
      "\n",
      "0: 384x640 (no detections), 32.4ms\n",
      "Speed: 0.6ms preprocess, 32.4ms inference, 0.7ms postprocess per image at shape (1, 3, 384, 640)\n",
      "\n",
      "0: 384x640 (no detections), 32.5ms\n",
      "Speed: 0.7ms preprocess, 32.5ms inference, 0.7ms postprocess per image at shape (1, 3, 384, 640)\n"
     ]
    },
    {
     "name": "stderr",
     "output_type": "stream",
     "text": [
      " 54%|█████▎    | 1156/2158 [00:43<00:36, 27.10it/s]"
     ]
    },
    {
     "name": "stdout",
     "output_type": "stream",
     "text": [
      "\n",
      "0: 384x640 (no detections), 32.3ms\n",
      "Speed: 0.7ms preprocess, 32.3ms inference, 0.5ms postprocess per image at shape (1, 3, 384, 640)\n",
      "\n",
      "0: 384x640 (no detections), 32.6ms\n",
      "Speed: 0.6ms preprocess, 32.6ms inference, 0.4ms postprocess per image at shape (1, 3, 384, 640)\n",
      "\n",
      "0: 384x640 (no detections), 32.5ms\n",
      "Speed: 0.5ms preprocess, 32.5ms inference, 0.5ms postprocess per image at shape (1, 3, 384, 640)\n"
     ]
    },
    {
     "name": "stderr",
     "output_type": "stream",
     "text": [
      " 54%|█████▎    | 1159/2158 [00:43<00:36, 27.02it/s]"
     ]
    },
    {
     "name": "stdout",
     "output_type": "stream",
     "text": [
      "\n",
      "0: 384x640 (no detections), 32.2ms\n",
      "Speed: 0.5ms preprocess, 32.2ms inference, 0.7ms postprocess per image at shape (1, 3, 384, 640)\n",
      "\n",
      "0: 384x640 (no detections), 32.6ms\n",
      "Speed: 0.6ms preprocess, 32.6ms inference, 0.5ms postprocess per image at shape (1, 3, 384, 640)\n",
      "\n",
      "0: 384x640 (no detections), 32.5ms\n",
      "Speed: 0.5ms preprocess, 32.5ms inference, 0.5ms postprocess per image at shape (1, 3, 384, 640)\n"
     ]
    },
    {
     "name": "stderr",
     "output_type": "stream",
     "text": [
      " 54%|█████▍    | 1162/2158 [00:43<00:36, 27.13it/s]"
     ]
    },
    {
     "name": "stdout",
     "output_type": "stream",
     "text": [
      "\n",
      "0: 384x640 (no detections), 32.5ms\n",
      "Speed: 0.6ms preprocess, 32.5ms inference, 0.5ms postprocess per image at shape (1, 3, 384, 640)\n",
      "\n",
      "0: 384x640 (no detections), 32.5ms\n",
      "Speed: 0.6ms preprocess, 32.5ms inference, 0.5ms postprocess per image at shape (1, 3, 384, 640)\n",
      "\n",
      "0: 384x640 (no detections), 32.5ms\n",
      "Speed: 0.5ms preprocess, 32.5ms inference, 0.4ms postprocess per image at shape (1, 3, 384, 640)\n"
     ]
    },
    {
     "name": "stderr",
     "output_type": "stream",
     "text": [
      " 54%|█████▍    | 1165/2158 [00:43<00:36, 27.14it/s]"
     ]
    },
    {
     "name": "stdout",
     "output_type": "stream",
     "text": [
      "\n",
      "0: 384x640 (no detections), 32.5ms\n",
      "Speed: 0.6ms preprocess, 32.5ms inference, 0.7ms postprocess per image at shape (1, 3, 384, 640)\n",
      "\n",
      "0: 384x640 (no detections), 32.5ms\n",
      "Speed: 0.6ms preprocess, 32.5ms inference, 0.5ms postprocess per image at shape (1, 3, 384, 640)\n",
      "\n",
      "0: 384x640 (no detections), 32.3ms\n",
      "Speed: 0.6ms preprocess, 32.3ms inference, 0.4ms postprocess per image at shape (1, 3, 384, 640)\n"
     ]
    },
    {
     "name": "stderr",
     "output_type": "stream",
     "text": [
      " 54%|█████▍    | 1168/2158 [00:43<00:36, 27.21it/s]"
     ]
    },
    {
     "name": "stdout",
     "output_type": "stream",
     "text": [
      "\n",
      "0: 384x640 (no detections), 32.4ms\n",
      "Speed: 0.6ms preprocess, 32.4ms inference, 0.7ms postprocess per image at shape (1, 3, 384, 640)\n",
      "\n",
      "0: 384x640 (no detections), 32.3ms\n",
      "Speed: 0.6ms preprocess, 32.3ms inference, 0.5ms postprocess per image at shape (1, 3, 384, 640)\n",
      "\n",
      "0: 384x640 (no detections), 32.5ms\n",
      "Speed: 0.5ms preprocess, 32.5ms inference, 0.5ms postprocess per image at shape (1, 3, 384, 640)\n"
     ]
    },
    {
     "name": "stderr",
     "output_type": "stream",
     "text": [
      " 54%|█████▍    | 1171/2158 [00:44<00:36, 27.18it/s]"
     ]
    },
    {
     "name": "stdout",
     "output_type": "stream",
     "text": [
      "\n",
      "0: 384x640 (no detections), 32.5ms\n",
      "Speed: 0.6ms preprocess, 32.5ms inference, 0.7ms postprocess per image at shape (1, 3, 384, 640)\n",
      "\n",
      "0: 384x640 (no detections), 32.4ms\n",
      "Speed: 0.6ms preprocess, 32.4ms inference, 0.4ms postprocess per image at shape (1, 3, 384, 640)\n",
      "\n",
      "0: 384x640 (no detections), 32.5ms\n",
      "Speed: 0.6ms preprocess, 32.5ms inference, 0.4ms postprocess per image at shape (1, 3, 384, 640)\n"
     ]
    },
    {
     "name": "stderr",
     "output_type": "stream",
     "text": [
      " 54%|█████▍    | 1174/2158 [00:44<00:36, 27.22it/s]"
     ]
    },
    {
     "name": "stdout",
     "output_type": "stream",
     "text": [
      "\n",
      "0: 384x640 (no detections), 32.3ms\n",
      "Speed: 0.6ms preprocess, 32.3ms inference, 0.7ms postprocess per image at shape (1, 3, 384, 640)\n",
      "\n",
      "0: 384x640 (no detections), 32.3ms\n",
      "Speed: 0.6ms preprocess, 32.3ms inference, 0.5ms postprocess per image at shape (1, 3, 384, 640)\n",
      "\n",
      "0: 384x640 (no detections), 32.4ms\n",
      "Speed: 0.5ms preprocess, 32.4ms inference, 0.5ms postprocess per image at shape (1, 3, 384, 640)\n"
     ]
    },
    {
     "name": "stderr",
     "output_type": "stream",
     "text": [
      " 55%|█████▍    | 1177/2158 [00:44<00:36, 27.25it/s]"
     ]
    },
    {
     "name": "stdout",
     "output_type": "stream",
     "text": [
      "\n",
      "0: 384x640 (no detections), 32.5ms\n",
      "Speed: 0.5ms preprocess, 32.5ms inference, 0.5ms postprocess per image at shape (1, 3, 384, 640)\n",
      "\n",
      "0: 384x640 (no detections), 32.5ms\n",
      "Speed: 0.5ms preprocess, 32.5ms inference, 0.4ms postprocess per image at shape (1, 3, 384, 640)\n",
      "\n",
      "0: 384x640 (no detections), 32.5ms\n",
      "Speed: 0.7ms preprocess, 32.5ms inference, 0.7ms postprocess per image at shape (1, 3, 384, 640)\n"
     ]
    },
    {
     "name": "stderr",
     "output_type": "stream",
     "text": [
      " 55%|█████▍    | 1180/2158 [00:44<00:35, 27.24it/s]"
     ]
    },
    {
     "name": "stdout",
     "output_type": "stream",
     "text": [
      "\n",
      "0: 384x640 (no detections), 32.5ms\n",
      "Speed: 0.6ms preprocess, 32.5ms inference, 0.5ms postprocess per image at shape (1, 3, 384, 640)\n",
      "\n",
      "0: 384x640 (no detections), 32.5ms\n",
      "Speed: 0.6ms preprocess, 32.5ms inference, 0.5ms postprocess per image at shape (1, 3, 384, 640)\n",
      "\n",
      "0: 384x640 (no detections), 32.5ms\n",
      "Speed: 0.6ms preprocess, 32.5ms inference, 0.7ms postprocess per image at shape (1, 3, 384, 640)\n"
     ]
    },
    {
     "name": "stderr",
     "output_type": "stream",
     "text": [
      " 55%|█████▍    | 1183/2158 [00:44<00:35, 27.25it/s]"
     ]
    },
    {
     "name": "stdout",
     "output_type": "stream",
     "text": [
      "\n",
      "0: 384x640 (no detections), 32.5ms\n",
      "Speed: 0.6ms preprocess, 32.5ms inference, 0.5ms postprocess per image at shape (1, 3, 384, 640)\n",
      "\n",
      "0: 384x640 (no detections), 32.5ms\n",
      "Speed: 0.7ms preprocess, 32.5ms inference, 0.5ms postprocess per image at shape (1, 3, 384, 640)\n",
      "\n",
      "0: 384x640 (no detections), 32.5ms\n",
      "Speed: 0.6ms preprocess, 32.5ms inference, 0.4ms postprocess per image at shape (1, 3, 384, 640)\n"
     ]
    },
    {
     "name": "stderr",
     "output_type": "stream",
     "text": [
      " 55%|█████▍    | 1186/2158 [00:44<00:35, 27.26it/s]"
     ]
    },
    {
     "name": "stdout",
     "output_type": "stream",
     "text": [
      "\n",
      "0: 384x640 (no detections), 32.7ms\n",
      "Speed: 0.6ms preprocess, 32.7ms inference, 0.6ms postprocess per image at shape (1, 3, 384, 640)\n",
      "\n",
      "0: 384x640 (no detections), 32.5ms\n",
      "Speed: 0.7ms preprocess, 32.5ms inference, 0.5ms postprocess per image at shape (1, 3, 384, 640)\n",
      "\n",
      "0: 384x640 (no detections), 32.5ms\n",
      "Speed: 0.7ms preprocess, 32.5ms inference, 0.4ms postprocess per image at shape (1, 3, 384, 640)\n"
     ]
    },
    {
     "name": "stderr",
     "output_type": "stream",
     "text": [
      " 55%|█████▌    | 1189/2158 [00:44<00:35, 27.12it/s]"
     ]
    },
    {
     "name": "stdout",
     "output_type": "stream",
     "text": [
      "\n",
      "0: 384x640 (no detections), 32.6ms\n",
      "Speed: 0.6ms preprocess, 32.6ms inference, 0.5ms postprocess per image at shape (1, 3, 384, 640)\n",
      "\n",
      "0: 384x640 (no detections), 32.6ms\n",
      "Speed: 0.5ms preprocess, 32.6ms inference, 0.7ms postprocess per image at shape (1, 3, 384, 640)\n",
      "\n",
      "0: 384x640 (no detections), 32.3ms\n",
      "Speed: 0.6ms preprocess, 32.3ms inference, 0.4ms postprocess per image at shape (1, 3, 384, 640)\n"
     ]
    },
    {
     "name": "stderr",
     "output_type": "stream",
     "text": [
      " 55%|█████▌    | 1192/2158 [00:44<00:35, 27.17it/s]"
     ]
    },
    {
     "name": "stdout",
     "output_type": "stream",
     "text": [
      "\n",
      "0: 384x640 (no detections), 32.6ms\n",
      "Speed: 0.5ms preprocess, 32.6ms inference, 0.5ms postprocess per image at shape (1, 3, 384, 640)\n",
      "\n",
      "0: 384x640 (no detections), 32.2ms\n",
      "Speed: 0.8ms preprocess, 32.2ms inference, 0.5ms postprocess per image at shape (1, 3, 384, 640)\n",
      "\n",
      "0: 384x640 (no detections), 32.3ms\n",
      "Speed: 0.7ms preprocess, 32.3ms inference, 0.5ms postprocess per image at shape (1, 3, 384, 640)\n"
     ]
    },
    {
     "name": "stderr",
     "output_type": "stream",
     "text": [
      " 55%|█████▌    | 1195/2158 [00:44<00:35, 27.22it/s]"
     ]
    },
    {
     "name": "stdout",
     "output_type": "stream",
     "text": [
      "\n",
      "0: 384x640 (no detections), 32.5ms\n",
      "Speed: 0.6ms preprocess, 32.5ms inference, 0.7ms postprocess per image at shape (1, 3, 384, 640)\n",
      "\n",
      "0: 384x640 (no detections), 32.6ms\n",
      "Speed: 0.7ms preprocess, 32.6ms inference, 0.7ms postprocess per image at shape (1, 3, 384, 640)\n",
      "\n",
      "0: 384x640 (no detections), 32.5ms\n",
      "Speed: 0.6ms preprocess, 32.5ms inference, 0.5ms postprocess per image at shape (1, 3, 384, 640)\n"
     ]
    },
    {
     "name": "stderr",
     "output_type": "stream",
     "text": [
      " 56%|█████▌    | 1198/2158 [00:45<00:35, 27.22it/s]"
     ]
    },
    {
     "name": "stdout",
     "output_type": "stream",
     "text": [
      "\n",
      "0: 384x640 (no detections), 32.5ms\n",
      "Speed: 0.6ms preprocess, 32.5ms inference, 0.5ms postprocess per image at shape (1, 3, 384, 640)\n",
      "\n",
      "0: 384x640 (no detections), 32.3ms\n",
      "Speed: 0.6ms preprocess, 32.3ms inference, 0.4ms postprocess per image at shape (1, 3, 384, 640)\n",
      "\n",
      "0: 384x640 (no detections), 32.5ms\n",
      "Speed: 0.5ms preprocess, 32.5ms inference, 0.5ms postprocess per image at shape (1, 3, 384, 640)\n"
     ]
    },
    {
     "name": "stderr",
     "output_type": "stream",
     "text": [
      " 56%|█████▌    | 1201/2158 [00:45<00:35, 27.22it/s]"
     ]
    },
    {
     "name": "stdout",
     "output_type": "stream",
     "text": [
      "\n",
      "0: 384x640 (no detections), 32.5ms\n",
      "Speed: 0.6ms preprocess, 32.5ms inference, 0.5ms postprocess per image at shape (1, 3, 384, 640)\n",
      "\n",
      "0: 384x640 (no detections), 32.3ms\n",
      "Speed: 0.6ms preprocess, 32.3ms inference, 0.4ms postprocess per image at shape (1, 3, 384, 640)\n",
      "\n",
      "0: 384x640 (no detections), 32.4ms\n",
      "Speed: 0.6ms preprocess, 32.4ms inference, 1.0ms postprocess per image at shape (1, 3, 384, 640)\n"
     ]
    },
    {
     "name": "stderr",
     "output_type": "stream",
     "text": [
      " 56%|█████▌    | 1204/2158 [00:45<00:35, 27.23it/s]"
     ]
    },
    {
     "name": "stdout",
     "output_type": "stream",
     "text": [
      "\n",
      "0: 384x640 (no detections), 32.4ms\n",
      "Speed: 0.5ms preprocess, 32.4ms inference, 0.5ms postprocess per image at shape (1, 3, 384, 640)\n",
      "\n",
      "0: 384x640 (no detections), 32.5ms\n",
      "Speed: 0.6ms preprocess, 32.5ms inference, 0.4ms postprocess per image at shape (1, 3, 384, 640)\n",
      "\n",
      "0: 384x640 (no detections), 32.5ms\n",
      "Speed: 0.5ms preprocess, 32.5ms inference, 0.5ms postprocess per image at shape (1, 3, 384, 640)\n"
     ]
    },
    {
     "name": "stderr",
     "output_type": "stream",
     "text": [
      " 56%|█████▌    | 1207/2158 [00:45<00:34, 27.26it/s]"
     ]
    },
    {
     "name": "stdout",
     "output_type": "stream",
     "text": [
      "\n",
      "0: 384x640 (no detections), 32.6ms\n",
      "Speed: 0.5ms preprocess, 32.6ms inference, 0.7ms postprocess per image at shape (1, 3, 384, 640)\n",
      "\n",
      "0: 384x640 (no detections), 32.2ms\n",
      "Speed: 0.6ms preprocess, 32.2ms inference, 0.5ms postprocess per image at shape (1, 3, 384, 640)\n",
      "\n",
      "0: 384x640 (no detections), 32.4ms\n",
      "Speed: 0.7ms preprocess, 32.4ms inference, 0.5ms postprocess per image at shape (1, 3, 384, 640)\n"
     ]
    },
    {
     "name": "stderr",
     "output_type": "stream",
     "text": [
      " 56%|█████▌    | 1210/2158 [00:45<00:34, 27.27it/s]"
     ]
    },
    {
     "name": "stdout",
     "output_type": "stream",
     "text": [
      "\n",
      "0: 384x640 (no detections), 32.5ms\n",
      "Speed: 0.6ms preprocess, 32.5ms inference, 0.5ms postprocess per image at shape (1, 3, 384, 640)\n",
      "\n",
      "0: 384x640 (no detections), 32.5ms\n",
      "Speed: 0.6ms preprocess, 32.5ms inference, 0.4ms postprocess per image at shape (1, 3, 384, 640)\n",
      "\n",
      "0: 384x640 (no detections), 32.4ms\n",
      "Speed: 0.6ms preprocess, 32.4ms inference, 0.5ms postprocess per image at shape (1, 3, 384, 640)\n"
     ]
    },
    {
     "name": "stderr",
     "output_type": "stream",
     "text": [
      " 56%|█████▌    | 1213/2158 [00:45<00:34, 27.27it/s]"
     ]
    },
    {
     "name": "stdout",
     "output_type": "stream",
     "text": [
      "\n",
      "0: 384x640 (no detections), 32.0ms\n",
      "Speed: 0.6ms preprocess, 32.0ms inference, 0.5ms postprocess per image at shape (1, 3, 384, 640)\n",
      "\n",
      "0: 384x640 (no detections), 32.5ms\n",
      "Speed: 0.6ms preprocess, 32.5ms inference, 0.5ms postprocess per image at shape (1, 3, 384, 640)\n",
      "\n",
      "0: 384x640 (no detections), 32.7ms\n",
      "Speed: 0.6ms preprocess, 32.7ms inference, 0.5ms postprocess per image at shape (1, 3, 384, 640)\n"
     ]
    },
    {
     "name": "stderr",
     "output_type": "stream",
     "text": [
      " 56%|█████▋    | 1216/2158 [00:45<00:34, 27.26it/s]"
     ]
    },
    {
     "name": "stdout",
     "output_type": "stream",
     "text": [
      "\n",
      "0: 384x640 (no detections), 32.5ms\n",
      "Speed: 0.6ms preprocess, 32.5ms inference, 0.5ms postprocess per image at shape (1, 3, 384, 640)\n",
      "\n",
      "0: 384x640 (no detections), 32.5ms\n",
      "Speed: 0.6ms preprocess, 32.5ms inference, 0.4ms postprocess per image at shape (1, 3, 384, 640)\n",
      "\n",
      "0: 384x640 (no detections), 32.5ms\n",
      "Speed: 0.6ms preprocess, 32.5ms inference, 0.4ms postprocess per image at shape (1, 3, 384, 640)\n"
     ]
    },
    {
     "name": "stderr",
     "output_type": "stream",
     "text": [
      " 56%|█████▋    | 1219/2158 [00:45<00:34, 27.28it/s]"
     ]
    },
    {
     "name": "stdout",
     "output_type": "stream",
     "text": [
      "\n",
      "0: 384x640 (no detections), 32.3ms\n",
      "Speed: 0.7ms preprocess, 32.3ms inference, 0.7ms postprocess per image at shape (1, 3, 384, 640)\n",
      "\n",
      "0: 384x640 (no detections), 32.4ms\n",
      "Speed: 0.6ms preprocess, 32.4ms inference, 0.6ms postprocess per image at shape (1, 3, 384, 640)\n",
      "\n",
      "0: 384x640 (no detections), 32.4ms\n",
      "Speed: 0.6ms preprocess, 32.4ms inference, 0.5ms postprocess per image at shape (1, 3, 384, 640)\n"
     ]
    },
    {
     "name": "stderr",
     "output_type": "stream",
     "text": [
      " 57%|█████▋    | 1222/2158 [00:45<00:34, 27.11it/s]"
     ]
    },
    {
     "name": "stdout",
     "output_type": "stream",
     "text": [
      "\n",
      "0: 384x640 (no detections), 32.6ms\n",
      "Speed: 0.6ms preprocess, 32.6ms inference, 0.8ms postprocess per image at shape (1, 3, 384, 640)\n",
      "\n",
      "0: 384x640 (no detections), 32.4ms\n",
      "Speed: 0.6ms preprocess, 32.4ms inference, 0.5ms postprocess per image at shape (1, 3, 384, 640)\n",
      "\n",
      "0: 384x640 (no detections), 32.5ms\n",
      "Speed: 0.5ms preprocess, 32.5ms inference, 0.5ms postprocess per image at shape (1, 3, 384, 640)\n"
     ]
    },
    {
     "name": "stderr",
     "output_type": "stream",
     "text": [
      " 57%|█████▋    | 1225/2158 [00:46<00:34, 27.11it/s]"
     ]
    },
    {
     "name": "stdout",
     "output_type": "stream",
     "text": [
      "\n",
      "0: 384x640 (no detections), 32.5ms\n",
      "Speed: 0.6ms preprocess, 32.5ms inference, 0.4ms postprocess per image at shape (1, 3, 384, 640)\n",
      "\n",
      "0: 384x640 (no detections), 32.6ms\n",
      "Speed: 0.5ms preprocess, 32.6ms inference, 0.4ms postprocess per image at shape (1, 3, 384, 640)\n",
      "\n",
      "0: 384x640 (no detections), 32.4ms\n",
      "Speed: 0.6ms preprocess, 32.4ms inference, 0.4ms postprocess per image at shape (1, 3, 384, 640)\n"
     ]
    },
    {
     "name": "stderr",
     "output_type": "stream",
     "text": [
      " 57%|█████▋    | 1228/2158 [00:46<00:34, 27.18it/s]"
     ]
    },
    {
     "name": "stdout",
     "output_type": "stream",
     "text": [
      "\n",
      "0: 384x640 (no detections), 32.4ms\n",
      "Speed: 0.7ms preprocess, 32.4ms inference, 0.5ms postprocess per image at shape (1, 3, 384, 640)\n",
      "\n",
      "0: 384x640 (no detections), 32.5ms\n",
      "Speed: 0.6ms preprocess, 32.5ms inference, 0.5ms postprocess per image at shape (1, 3, 384, 640)\n",
      "\n",
      "0: 384x640 (no detections), 32.3ms\n",
      "Speed: 0.5ms preprocess, 32.3ms inference, 0.7ms postprocess per image at shape (1, 3, 384, 640)\n"
     ]
    },
    {
     "name": "stderr",
     "output_type": "stream",
     "text": [
      " 57%|█████▋    | 1231/2158 [00:46<00:34, 27.26it/s]"
     ]
    },
    {
     "name": "stdout",
     "output_type": "stream",
     "text": [
      "\n",
      "0: 384x640 (no detections), 32.5ms\n",
      "Speed: 0.6ms preprocess, 32.5ms inference, 0.5ms postprocess per image at shape (1, 3, 384, 640)\n",
      "\n",
      "0: 384x640 (no detections), 32.4ms\n",
      "Speed: 0.6ms preprocess, 32.4ms inference, 0.4ms postprocess per image at shape (1, 3, 384, 640)\n",
      "\n",
      "0: 384x640 (no detections), 32.5ms\n",
      "Speed: 0.6ms preprocess, 32.5ms inference, 0.7ms postprocess per image at shape (1, 3, 384, 640)\n"
     ]
    },
    {
     "name": "stderr",
     "output_type": "stream",
     "text": [
      " 57%|█████▋    | 1234/2158 [00:46<00:33, 27.26it/s]"
     ]
    },
    {
     "name": "stdout",
     "output_type": "stream",
     "text": [
      "\n",
      "0: 384x640 (no detections), 32.5ms\n",
      "Speed: 0.6ms preprocess, 32.5ms inference, 0.7ms postprocess per image at shape (1, 3, 384, 640)\n",
      "\n",
      "0: 384x640 (no detections), 32.2ms\n",
      "Speed: 0.6ms preprocess, 32.2ms inference, 0.4ms postprocess per image at shape (1, 3, 384, 640)\n",
      "\n",
      "0: 384x640 (no detections), 32.6ms\n",
      "Speed: 0.5ms preprocess, 32.6ms inference, 0.4ms postprocess per image at shape (1, 3, 384, 640)\n"
     ]
    },
    {
     "name": "stderr",
     "output_type": "stream",
     "text": [
      " 57%|█████▋    | 1237/2158 [00:46<00:33, 27.26it/s]"
     ]
    },
    {
     "name": "stdout",
     "output_type": "stream",
     "text": [
      "\n",
      "0: 384x640 (no detections), 32.6ms\n",
      "Speed: 0.7ms preprocess, 32.6ms inference, 0.5ms postprocess per image at shape (1, 3, 384, 640)\n",
      "\n",
      "0: 384x640 (no detections), 32.6ms\n",
      "Speed: 0.7ms preprocess, 32.6ms inference, 0.5ms postprocess per image at shape (1, 3, 384, 640)\n",
      "\n",
      "0: 384x640 (no detections), 32.5ms\n",
      "Speed: 0.5ms preprocess, 32.5ms inference, 0.7ms postprocess per image at shape (1, 3, 384, 640)\n"
     ]
    },
    {
     "name": "stderr",
     "output_type": "stream",
     "text": [
      " 57%|█████▋    | 1240/2158 [00:46<00:33, 27.21it/s]"
     ]
    },
    {
     "name": "stdout",
     "output_type": "stream",
     "text": [
      "\n",
      "0: 384x640 (no detections), 32.4ms\n",
      "Speed: 0.7ms preprocess, 32.4ms inference, 0.5ms postprocess per image at shape (1, 3, 384, 640)\n",
      "\n",
      "0: 384x640 (no detections), 32.4ms\n",
      "Speed: 0.6ms preprocess, 32.4ms inference, 0.4ms postprocess per image at shape (1, 3, 384, 640)\n",
      "\n",
      "0: 384x640 (no detections), 32.3ms\n",
      "Speed: 0.9ms preprocess, 32.3ms inference, 0.8ms postprocess per image at shape (1, 3, 384, 640)\n"
     ]
    },
    {
     "name": "stderr",
     "output_type": "stream",
     "text": [
      " 58%|█████▊    | 1243/2158 [00:46<00:33, 27.17it/s]"
     ]
    },
    {
     "name": "stdout",
     "output_type": "stream",
     "text": [
      "\n",
      "0: 384x640 (no detections), 32.6ms\n",
      "Speed: 0.7ms preprocess, 32.6ms inference, 0.5ms postprocess per image at shape (1, 3, 384, 640)\n",
      "\n",
      "0: 384x640 (no detections), 32.5ms\n",
      "Speed: 0.6ms preprocess, 32.5ms inference, 0.7ms postprocess per image at shape (1, 3, 384, 640)\n",
      "\n",
      "0: 384x640 (no detections), 32.5ms\n",
      "Speed: 0.6ms preprocess, 32.5ms inference, 0.4ms postprocess per image at shape (1, 3, 384, 640)\n"
     ]
    },
    {
     "name": "stderr",
     "output_type": "stream",
     "text": [
      " 58%|█████▊    | 1246/2158 [00:46<00:33, 27.20it/s]"
     ]
    },
    {
     "name": "stdout",
     "output_type": "stream",
     "text": [
      "\n",
      "0: 384x640 (no detections), 32.2ms\n",
      "Speed: 0.5ms preprocess, 32.2ms inference, 0.5ms postprocess per image at shape (1, 3, 384, 640)\n",
      "\n",
      "0: 384x640 (no detections), 32.3ms\n",
      "Speed: 0.7ms preprocess, 32.3ms inference, 0.8ms postprocess per image at shape (1, 3, 384, 640)\n",
      "\n",
      "0: 384x640 (no detections), 32.3ms\n",
      "Speed: 0.5ms preprocess, 32.3ms inference, 0.4ms postprocess per image at shape (1, 3, 384, 640)\n"
     ]
    },
    {
     "name": "stderr",
     "output_type": "stream",
     "text": [
      " 58%|█████▊    | 1249/2158 [00:46<00:33, 27.17it/s]"
     ]
    },
    {
     "name": "stdout",
     "output_type": "stream",
     "text": [
      "\n",
      "0: 384x640 (no detections), 32.5ms\n",
      "Speed: 0.5ms preprocess, 32.5ms inference, 0.7ms postprocess per image at shape (1, 3, 384, 640)\n",
      "\n",
      "0: 384x640 (no detections), 32.6ms\n",
      "Speed: 0.6ms preprocess, 32.6ms inference, 0.4ms postprocess per image at shape (1, 3, 384, 640)\n",
      "\n",
      "0: 384x640 (no detections), 32.3ms\n",
      "Speed: 0.6ms preprocess, 32.3ms inference, 0.4ms postprocess per image at shape (1, 3, 384, 640)\n"
     ]
    },
    {
     "name": "stderr",
     "output_type": "stream",
     "text": [
      " 58%|█████▊    | 1252/2158 [00:47<00:33, 27.15it/s]"
     ]
    },
    {
     "name": "stdout",
     "output_type": "stream",
     "text": [
      "\n",
      "0: 384x640 (no detections), 32.5ms\n",
      "Speed: 0.7ms preprocess, 32.5ms inference, 0.9ms postprocess per image at shape (1, 3, 384, 640)\n",
      "\n",
      "0: 384x640 (no detections), 32.5ms\n",
      "Speed: 1.0ms preprocess, 32.5ms inference, 0.7ms postprocess per image at shape (1, 3, 384, 640)\n",
      "\n",
      "0: 384x640 (no detections), 32.3ms\n",
      "Speed: 0.6ms preprocess, 32.3ms inference, 0.6ms postprocess per image at shape (1, 3, 384, 640)\n"
     ]
    },
    {
     "name": "stderr",
     "output_type": "stream",
     "text": [
      " 58%|█████▊    | 1255/2158 [00:47<00:33, 26.99it/s]"
     ]
    },
    {
     "name": "stdout",
     "output_type": "stream",
     "text": [
      "\n",
      "0: 384x640 (no detections), 32.5ms\n",
      "Speed: 0.5ms preprocess, 32.5ms inference, 0.5ms postprocess per image at shape (1, 3, 384, 640)\n",
      "\n",
      "0: 384x640 (no detections), 32.6ms\n",
      "Speed: 0.5ms preprocess, 32.6ms inference, 0.5ms postprocess per image at shape (1, 3, 384, 640)\n",
      "\n",
      "0: 384x640 (no detections), 32.4ms\n",
      "Speed: 0.5ms preprocess, 32.4ms inference, 0.5ms postprocess per image at shape (1, 3, 384, 640)\n"
     ]
    },
    {
     "name": "stderr",
     "output_type": "stream",
     "text": [
      " 58%|█████▊    | 1258/2158 [00:47<00:33, 27.11it/s]"
     ]
    },
    {
     "name": "stdout",
     "output_type": "stream",
     "text": [
      "\n",
      "0: 384x640 (no detections), 32.5ms\n",
      "Speed: 0.5ms preprocess, 32.5ms inference, 0.7ms postprocess per image at shape (1, 3, 384, 640)\n",
      "\n",
      "0: 384x640 (no detections), 32.3ms\n",
      "Speed: 0.6ms preprocess, 32.3ms inference, 0.4ms postprocess per image at shape (1, 3, 384, 640)\n",
      "\n",
      "0: 384x640 (no detections), 32.6ms\n",
      "Speed: 0.5ms preprocess, 32.6ms inference, 0.5ms postprocess per image at shape (1, 3, 384, 640)\n"
     ]
    },
    {
     "name": "stderr",
     "output_type": "stream",
     "text": [
      " 58%|█████▊    | 1261/2158 [00:47<00:33, 27.13it/s]"
     ]
    },
    {
     "name": "stdout",
     "output_type": "stream",
     "text": [
      "\n",
      "0: 384x640 (no detections), 32.3ms\n",
      "Speed: 0.6ms preprocess, 32.3ms inference, 0.5ms postprocess per image at shape (1, 3, 384, 640)\n",
      "\n",
      "0: 384x640 (no detections), 32.2ms\n",
      "Speed: 0.7ms preprocess, 32.2ms inference, 0.4ms postprocess per image at shape (1, 3, 384, 640)\n",
      "\n",
      "0: 384x640 (no detections), 32.5ms\n",
      "Speed: 0.6ms preprocess, 32.5ms inference, 0.7ms postprocess per image at shape (1, 3, 384, 640)\n"
     ]
    },
    {
     "name": "stderr",
     "output_type": "stream",
     "text": [
      " 59%|█████▊    | 1264/2158 [00:47<00:32, 27.19it/s]"
     ]
    },
    {
     "name": "stdout",
     "output_type": "stream",
     "text": [
      "\n",
      "0: 384x640 (no detections), 32.5ms\n",
      "Speed: 0.6ms preprocess, 32.5ms inference, 0.7ms postprocess per image at shape (1, 3, 384, 640)\n",
      "\n",
      "0: 384x640 (no detections), 32.3ms\n",
      "Speed: 0.6ms preprocess, 32.3ms inference, 0.4ms postprocess per image at shape (1, 3, 384, 640)\n",
      "\n",
      "0: 384x640 (no detections), 32.5ms\n",
      "Speed: 0.6ms preprocess, 32.5ms inference, 0.5ms postprocess per image at shape (1, 3, 384, 640)\n"
     ]
    },
    {
     "name": "stderr",
     "output_type": "stream",
     "text": [
      " 59%|█████▊    | 1267/2158 [00:47<00:32, 27.17it/s]"
     ]
    },
    {
     "name": "stdout",
     "output_type": "stream",
     "text": [
      "\n",
      "0: 384x640 (no detections), 32.4ms\n",
      "Speed: 0.6ms preprocess, 32.4ms inference, 0.5ms postprocess per image at shape (1, 3, 384, 640)\n",
      "\n",
      "0: 384x640 (no detections), 32.2ms\n",
      "Speed: 0.6ms preprocess, 32.2ms inference, 0.7ms postprocess per image at shape (1, 3, 384, 640)\n",
      "\n",
      "0: 384x640 (no detections), 32.5ms\n",
      "Speed: 0.5ms preprocess, 32.5ms inference, 0.7ms postprocess per image at shape (1, 3, 384, 640)\n"
     ]
    },
    {
     "name": "stderr",
     "output_type": "stream",
     "text": [
      " 59%|█████▉    | 1270/2158 [00:47<00:32, 27.24it/s]"
     ]
    },
    {
     "name": "stdout",
     "output_type": "stream",
     "text": [
      "\n",
      "0: 384x640 (no detections), 32.5ms\n",
      "Speed: 0.5ms preprocess, 32.5ms inference, 0.5ms postprocess per image at shape (1, 3, 384, 640)\n",
      "\n",
      "0: 384x640 (no detections), 32.3ms\n",
      "Speed: 0.6ms preprocess, 32.3ms inference, 0.5ms postprocess per image at shape (1, 3, 384, 640)\n",
      "\n",
      "0: 384x640 (no detections), 32.5ms\n",
      "Speed: 0.7ms preprocess, 32.5ms inference, 0.7ms postprocess per image at shape (1, 3, 384, 640)\n"
     ]
    },
    {
     "name": "stderr",
     "output_type": "stream",
     "text": [
      " 59%|█████▉    | 1273/2158 [00:47<00:32, 27.21it/s]"
     ]
    },
    {
     "name": "stdout",
     "output_type": "stream",
     "text": [
      "\n",
      "0: 384x640 (no detections), 32.5ms\n",
      "Speed: 0.5ms preprocess, 32.5ms inference, 0.5ms postprocess per image at shape (1, 3, 384, 640)\n",
      "\n",
      "0: 384x640 (no detections), 32.6ms\n",
      "Speed: 0.6ms preprocess, 32.6ms inference, 0.7ms postprocess per image at shape (1, 3, 384, 640)\n",
      "\n",
      "0: 384x640 (no detections), 32.7ms\n",
      "Speed: 0.6ms preprocess, 32.7ms inference, 0.7ms postprocess per image at shape (1, 3, 384, 640)\n"
     ]
    },
    {
     "name": "stderr",
     "output_type": "stream",
     "text": [
      " 59%|█████▉    | 1276/2158 [00:47<00:32, 27.19it/s]"
     ]
    },
    {
     "name": "stdout",
     "output_type": "stream",
     "text": [
      "\n",
      "0: 384x640 (no detections), 32.4ms\n",
      "Speed: 0.7ms preprocess, 32.4ms inference, 0.5ms postprocess per image at shape (1, 3, 384, 640)\n",
      "\n",
      "0: 384x640 (no detections), 32.5ms\n",
      "Speed: 0.5ms preprocess, 32.5ms inference, 0.5ms postprocess per image at shape (1, 3, 384, 640)\n",
      "\n",
      "0: 384x640 (no detections), 32.2ms\n",
      "Speed: 0.5ms preprocess, 32.2ms inference, 0.7ms postprocess per image at shape (1, 3, 384, 640)\n"
     ]
    },
    {
     "name": "stderr",
     "output_type": "stream",
     "text": [
      " 59%|█████▉    | 1279/2158 [00:48<00:32, 27.23it/s]"
     ]
    },
    {
     "name": "stdout",
     "output_type": "stream",
     "text": [
      "\n",
      "0: 384x640 (no detections), 32.6ms\n",
      "Speed: 0.6ms preprocess, 32.6ms inference, 0.5ms postprocess per image at shape (1, 3, 384, 640)\n",
      "\n",
      "0: 384x640 (no detections), 32.6ms\n",
      "Speed: 0.6ms preprocess, 32.6ms inference, 0.5ms postprocess per image at shape (1, 3, 384, 640)\n",
      "\n",
      "0: 384x640 (no detections), 32.2ms\n",
      "Speed: 0.6ms preprocess, 32.2ms inference, 0.4ms postprocess per image at shape (1, 3, 384, 640)\n"
     ]
    },
    {
     "name": "stderr",
     "output_type": "stream",
     "text": [
      " 59%|█████▉    | 1282/2158 [00:48<00:32, 27.23it/s]"
     ]
    },
    {
     "name": "stdout",
     "output_type": "stream",
     "text": [
      "\n",
      "0: 384x640 (no detections), 32.5ms\n",
      "Speed: 0.6ms preprocess, 32.5ms inference, 0.5ms postprocess per image at shape (1, 3, 384, 640)\n",
      "\n",
      "0: 384x640 (no detections), 32.4ms\n",
      "Speed: 0.5ms preprocess, 32.4ms inference, 0.5ms postprocess per image at shape (1, 3, 384, 640)\n",
      "\n",
      "0: 384x640 (no detections), 32.3ms\n",
      "Speed: 0.6ms preprocess, 32.3ms inference, 0.4ms postprocess per image at shape (1, 3, 384, 640)\n"
     ]
    },
    {
     "name": "stderr",
     "output_type": "stream",
     "text": [
      " 60%|█████▉    | 1285/2158 [00:48<00:32, 27.25it/s]"
     ]
    },
    {
     "name": "stdout",
     "output_type": "stream",
     "text": [
      "\n",
      "0: 384x640 (no detections), 32.4ms\n",
      "Speed: 0.6ms preprocess, 32.4ms inference, 0.5ms postprocess per image at shape (1, 3, 384, 640)\n",
      "\n",
      "0: 384x640 (no detections), 32.5ms\n",
      "Speed: 0.7ms preprocess, 32.5ms inference, 1.1ms postprocess per image at shape (1, 3, 384, 640)\n",
      "\n",
      "0: 384x640 (no detections), 32.3ms\n",
      "Speed: 0.7ms preprocess, 32.3ms inference, 0.5ms postprocess per image at shape (1, 3, 384, 640)\n"
     ]
    },
    {
     "name": "stderr",
     "output_type": "stream",
     "text": [
      " 60%|█████▉    | 1288/2158 [00:48<00:32, 27.14it/s]"
     ]
    },
    {
     "name": "stdout",
     "output_type": "stream",
     "text": [
      "\n",
      "0: 384x640 (no detections), 32.4ms\n",
      "Speed: 0.5ms preprocess, 32.4ms inference, 0.5ms postprocess per image at shape (1, 3, 384, 640)\n",
      "\n",
      "0: 384x640 (no detections), 32.5ms\n",
      "Speed: 0.6ms preprocess, 32.5ms inference, 0.4ms postprocess per image at shape (1, 3, 384, 640)\n",
      "\n",
      "0: 384x640 (no detections), 32.3ms\n",
      "Speed: 0.8ms preprocess, 32.3ms inference, 0.6ms postprocess per image at shape (1, 3, 384, 640)\n"
     ]
    },
    {
     "name": "stderr",
     "output_type": "stream",
     "text": [
      " 60%|█████▉    | 1291/2158 [00:48<00:31, 27.20it/s]"
     ]
    },
    {
     "name": "stdout",
     "output_type": "stream",
     "text": [
      "\n",
      "0: 384x640 (no detections), 32.3ms\n",
      "Speed: 0.6ms preprocess, 32.3ms inference, 0.5ms postprocess per image at shape (1, 3, 384, 640)\n",
      "\n",
      "0: 384x640 (no detections), 32.5ms\n",
      "Speed: 0.5ms preprocess, 32.5ms inference, 0.4ms postprocess per image at shape (1, 3, 384, 640)\n",
      "\n",
      "0: 384x640 (no detections), 32.4ms\n",
      "Speed: 0.6ms preprocess, 32.4ms inference, 0.4ms postprocess per image at shape (1, 3, 384, 640)\n"
     ]
    },
    {
     "name": "stderr",
     "output_type": "stream",
     "text": [
      " 60%|█████▉    | 1294/2158 [00:48<00:31, 27.27it/s]"
     ]
    },
    {
     "name": "stdout",
     "output_type": "stream",
     "text": [
      "\n",
      "0: 384x640 (no detections), 32.5ms\n",
      "Speed: 0.5ms preprocess, 32.5ms inference, 0.5ms postprocess per image at shape (1, 3, 384, 640)\n",
      "\n",
      "0: 384x640 (no detections), 32.6ms\n",
      "Speed: 0.6ms preprocess, 32.6ms inference, 0.6ms postprocess per image at shape (1, 3, 384, 640)\n",
      "\n",
      "0: 384x640 (no detections), 32.5ms\n",
      "Speed: 0.6ms preprocess, 32.5ms inference, 0.4ms postprocess per image at shape (1, 3, 384, 640)\n"
     ]
    },
    {
     "name": "stderr",
     "output_type": "stream",
     "text": [
      " 60%|██████    | 1297/2158 [00:48<00:31, 27.16it/s]"
     ]
    },
    {
     "name": "stdout",
     "output_type": "stream",
     "text": [
      "\n",
      "0: 384x640 (no detections), 32.6ms\n",
      "Speed: 0.6ms preprocess, 32.6ms inference, 0.7ms postprocess per image at shape (1, 3, 384, 640)\n",
      "\n",
      "0: 384x640 (no detections), 32.3ms\n",
      "Speed: 0.6ms preprocess, 32.3ms inference, 0.4ms postprocess per image at shape (1, 3, 384, 640)\n",
      "\n",
      "0: 384x640 (no detections), 32.5ms\n",
      "Speed: 0.6ms preprocess, 32.5ms inference, 0.7ms postprocess per image at shape (1, 3, 384, 640)\n"
     ]
    },
    {
     "name": "stderr",
     "output_type": "stream",
     "text": [
      " 60%|██████    | 1300/2158 [00:48<00:31, 27.14it/s]"
     ]
    },
    {
     "name": "stdout",
     "output_type": "stream",
     "text": [
      "\n",
      "0: 384x640 (no detections), 32.3ms\n",
      "Speed: 0.7ms preprocess, 32.3ms inference, 0.5ms postprocess per image at shape (1, 3, 384, 640)\n",
      "\n",
      "0: 384x640 (no detections), 32.5ms\n",
      "Speed: 0.6ms preprocess, 32.5ms inference, 0.5ms postprocess per image at shape (1, 3, 384, 640)\n",
      "\n",
      "0: 384x640 (no detections), 32.5ms\n",
      "Speed: 0.7ms preprocess, 32.5ms inference, 0.4ms postprocess per image at shape (1, 3, 384, 640)\n"
     ]
    },
    {
     "name": "stderr",
     "output_type": "stream",
     "text": [
      " 60%|██████    | 1303/2158 [00:48<00:31, 27.17it/s]"
     ]
    },
    {
     "name": "stdout",
     "output_type": "stream",
     "text": [
      "\n",
      "0: 384x640 (no detections), 32.5ms\n",
      "Speed: 0.6ms preprocess, 32.5ms inference, 0.7ms postprocess per image at shape (1, 3, 384, 640)\n",
      "\n",
      "0: 384x640 (no detections), 32.5ms\n",
      "Speed: 0.5ms preprocess, 32.5ms inference, 0.4ms postprocess per image at shape (1, 3, 384, 640)\n",
      "\n",
      "0: 384x640 (no detections), 32.5ms\n",
      "Speed: 0.7ms preprocess, 32.5ms inference, 0.5ms postprocess per image at shape (1, 3, 384, 640)\n"
     ]
    },
    {
     "name": "stderr",
     "output_type": "stream",
     "text": [
      " 61%|██████    | 1306/2158 [00:49<00:31, 27.16it/s]"
     ]
    },
    {
     "name": "stdout",
     "output_type": "stream",
     "text": [
      "\n",
      "0: 384x640 (no detections), 32.6ms\n",
      "Speed: 0.5ms preprocess, 32.6ms inference, 0.5ms postprocess per image at shape (1, 3, 384, 640)\n",
      "\n",
      "0: 384x640 (no detections), 32.5ms\n",
      "Speed: 0.5ms preprocess, 32.5ms inference, 0.4ms postprocess per image at shape (1, 3, 384, 640)\n",
      "\n",
      "0: 384x640 (no detections), 32.6ms\n",
      "Speed: 0.5ms preprocess, 32.6ms inference, 0.7ms postprocess per image at shape (1, 3, 384, 640)\n"
     ]
    },
    {
     "name": "stderr",
     "output_type": "stream",
     "text": [
      " 61%|██████    | 1309/2158 [00:49<00:31, 27.13it/s]"
     ]
    },
    {
     "name": "stdout",
     "output_type": "stream",
     "text": [
      "\n",
      "0: 384x640 (no detections), 32.6ms\n",
      "Speed: 0.5ms preprocess, 32.6ms inference, 0.7ms postprocess per image at shape (1, 3, 384, 640)\n",
      "\n",
      "0: 384x640 (no detections), 32.5ms\n",
      "Speed: 0.6ms preprocess, 32.5ms inference, 0.4ms postprocess per image at shape (1, 3, 384, 640)\n",
      "\n",
      "0: 384x640 (no detections), 32.3ms\n",
      "Speed: 0.6ms preprocess, 32.3ms inference, 0.5ms postprocess per image at shape (1, 3, 384, 640)\n"
     ]
    },
    {
     "name": "stderr",
     "output_type": "stream",
     "text": [
      " 61%|██████    | 1312/2158 [00:49<00:31, 27.14it/s]"
     ]
    },
    {
     "name": "stdout",
     "output_type": "stream",
     "text": [
      "\n",
      "0: 384x640 (no detections), 32.6ms\n",
      "Speed: 0.6ms preprocess, 32.6ms inference, 0.5ms postprocess per image at shape (1, 3, 384, 640)\n",
      "\n",
      "0: 384x640 (no detections), 32.5ms\n",
      "Speed: 0.6ms preprocess, 32.5ms inference, 0.7ms postprocess per image at shape (1, 3, 384, 640)\n",
      "\n",
      "0: 384x640 (no detections), 32.3ms\n",
      "Speed: 0.6ms preprocess, 32.3ms inference, 0.5ms postprocess per image at shape (1, 3, 384, 640)\n"
     ]
    },
    {
     "name": "stderr",
     "output_type": "stream",
     "text": [
      " 61%|██████    | 1315/2158 [00:49<00:31, 27.14it/s]"
     ]
    },
    {
     "name": "stdout",
     "output_type": "stream",
     "text": [
      "\n",
      "0: 384x640 (no detections), 32.5ms\n",
      "Speed: 0.6ms preprocess, 32.5ms inference, 0.7ms postprocess per image at shape (1, 3, 384, 640)\n",
      "\n",
      "0: 384x640 (no detections), 32.6ms\n",
      "Speed: 0.6ms preprocess, 32.6ms inference, 0.7ms postprocess per image at shape (1, 3, 384, 640)\n",
      "\n",
      "0: 384x640 (no detections), 32.2ms\n",
      "Speed: 0.6ms preprocess, 32.2ms inference, 0.7ms postprocess per image at shape (1, 3, 384, 640)\n"
     ]
    },
    {
     "name": "stderr",
     "output_type": "stream",
     "text": [
      " 61%|██████    | 1318/2158 [00:49<00:30, 27.16it/s]"
     ]
    },
    {
     "name": "stdout",
     "output_type": "stream",
     "text": [
      "\n",
      "0: 384x640 (no detections), 32.7ms\n",
      "Speed: 0.6ms preprocess, 32.7ms inference, 0.7ms postprocess per image at shape (1, 3, 384, 640)\n",
      "\n",
      "0: 384x640 (no detections), 32.5ms\n",
      "Speed: 0.6ms preprocess, 32.5ms inference, 0.4ms postprocess per image at shape (1, 3, 384, 640)\n",
      "\n",
      "0: 384x640 (no detections), 32.5ms\n",
      "Speed: 0.6ms preprocess, 32.5ms inference, 0.5ms postprocess per image at shape (1, 3, 384, 640)\n"
     ]
    },
    {
     "name": "stderr",
     "output_type": "stream",
     "text": [
      " 61%|██████    | 1321/2158 [00:49<00:30, 27.11it/s]"
     ]
    },
    {
     "name": "stdout",
     "output_type": "stream",
     "text": [
      "\n",
      "0: 384x640 (no detections), 32.5ms\n",
      "Speed: 0.7ms preprocess, 32.5ms inference, 0.8ms postprocess per image at shape (1, 3, 384, 640)\n",
      "\n",
      "0: 384x640 (no detections), 32.3ms\n",
      "Speed: 0.6ms preprocess, 32.3ms inference, 0.4ms postprocess per image at shape (1, 3, 384, 640)\n",
      "\n",
      "0: 384x640 (no detections), 32.6ms\n",
      "Speed: 0.5ms preprocess, 32.6ms inference, 1.0ms postprocess per image at shape (1, 3, 384, 640)\n"
     ]
    },
    {
     "name": "stderr",
     "output_type": "stream",
     "text": [
      " 61%|██████▏   | 1324/2158 [00:49<00:30, 27.05it/s]"
     ]
    },
    {
     "name": "stdout",
     "output_type": "stream",
     "text": [
      "\n",
      "0: 384x640 (no detections), 32.2ms\n",
      "Speed: 0.6ms preprocess, 32.2ms inference, 0.5ms postprocess per image at shape (1, 3, 384, 640)\n",
      "\n",
      "0: 384x640 (no detections), 32.5ms\n",
      "Speed: 0.6ms preprocess, 32.5ms inference, 0.4ms postprocess per image at shape (1, 3, 384, 640)\n",
      "\n",
      "0: 384x640 (no detections), 32.4ms\n",
      "Speed: 0.5ms preprocess, 32.4ms inference, 0.5ms postprocess per image at shape (1, 3, 384, 640)\n"
     ]
    },
    {
     "name": "stderr",
     "output_type": "stream",
     "text": [
      " 61%|██████▏   | 1327/2158 [00:49<00:30, 27.18it/s]"
     ]
    },
    {
     "name": "stdout",
     "output_type": "stream",
     "text": [
      "\n",
      "0: 384x640 (no detections), 32.4ms\n",
      "Speed: 0.5ms preprocess, 32.4ms inference, 0.7ms postprocess per image at shape (1, 3, 384, 640)\n",
      "\n",
      "0: 384x640 (no detections), 32.3ms\n",
      "Speed: 0.7ms preprocess, 32.3ms inference, 1.0ms postprocess per image at shape (1, 3, 384, 640)\n",
      "\n",
      "0: 384x640 (no detections), 32.4ms\n",
      "Speed: 0.6ms preprocess, 32.4ms inference, 0.7ms postprocess per image at shape (1, 3, 384, 640)\n"
     ]
    },
    {
     "name": "stderr",
     "output_type": "stream",
     "text": [
      " 62%|██████▏   | 1330/2158 [00:49<00:30, 27.14it/s]"
     ]
    },
    {
     "name": "stdout",
     "output_type": "stream",
     "text": [
      "\n",
      "0: 384x640 (no detections), 32.3ms\n",
      "Speed: 0.6ms preprocess, 32.3ms inference, 0.5ms postprocess per image at shape (1, 3, 384, 640)\n",
      "\n",
      "0: 384x640 (no detections), 32.6ms\n",
      "Speed: 0.6ms preprocess, 32.6ms inference, 0.4ms postprocess per image at shape (1, 3, 384, 640)\n",
      "\n",
      "0: 384x640 (no detections), 32.5ms\n",
      "Speed: 0.6ms preprocess, 32.5ms inference, 0.4ms postprocess per image at shape (1, 3, 384, 640)\n"
     ]
    },
    {
     "name": "stderr",
     "output_type": "stream",
     "text": [
      " 62%|██████▏   | 1333/2158 [00:50<00:30, 27.15it/s]"
     ]
    },
    {
     "name": "stdout",
     "output_type": "stream",
     "text": [
      "\n",
      "0: 384x640 (no detections), 32.3ms\n",
      "Speed: 0.6ms preprocess, 32.3ms inference, 0.6ms postprocess per image at shape (1, 3, 384, 640)\n",
      "\n",
      "0: 384x640 (no detections), 32.5ms\n",
      "Speed: 0.6ms preprocess, 32.5ms inference, 0.7ms postprocess per image at shape (1, 3, 384, 640)\n",
      "\n",
      "0: 384x640 (no detections), 32.4ms\n",
      "Speed: 0.6ms preprocess, 32.4ms inference, 0.7ms postprocess per image at shape (1, 3, 384, 640)\n"
     ]
    },
    {
     "name": "stderr",
     "output_type": "stream",
     "text": [
      " 62%|██████▏   | 1336/2158 [00:50<00:30, 27.17it/s]"
     ]
    },
    {
     "name": "stdout",
     "output_type": "stream",
     "text": [
      "\n",
      "0: 384x640 (no detections), 32.3ms\n",
      "Speed: 0.7ms preprocess, 32.3ms inference, 0.5ms postprocess per image at shape (1, 3, 384, 640)\n",
      "\n",
      "0: 384x640 (no detections), 32.5ms\n",
      "Speed: 0.5ms preprocess, 32.5ms inference, 0.5ms postprocess per image at shape (1, 3, 384, 640)\n",
      "\n",
      "0: 384x640 (no detections), 32.3ms\n",
      "Speed: 0.6ms preprocess, 32.3ms inference, 0.7ms postprocess per image at shape (1, 3, 384, 640)\n"
     ]
    },
    {
     "name": "stderr",
     "output_type": "stream",
     "text": [
      " 62%|██████▏   | 1339/2158 [00:50<00:30, 27.16it/s]"
     ]
    },
    {
     "name": "stdout",
     "output_type": "stream",
     "text": [
      "\n",
      "0: 384x640 (no detections), 32.5ms\n",
      "Speed: 0.6ms preprocess, 32.5ms inference, 0.7ms postprocess per image at shape (1, 3, 384, 640)\n",
      "\n",
      "0: 384x640 (no detections), 32.6ms\n",
      "Speed: 0.6ms preprocess, 32.6ms inference, 0.7ms postprocess per image at shape (1, 3, 384, 640)\n",
      "\n",
      "0: 384x640 (no detections), 32.5ms\n",
      "Speed: 0.7ms preprocess, 32.5ms inference, 0.7ms postprocess per image at shape (1, 3, 384, 640)\n"
     ]
    },
    {
     "name": "stderr",
     "output_type": "stream",
     "text": [
      " 62%|██████▏   | 1342/2158 [00:50<00:30, 27.15it/s]"
     ]
    },
    {
     "name": "stdout",
     "output_type": "stream",
     "text": [
      "\n",
      "0: 384x640 (no detections), 32.6ms\n",
      "Speed: 1.2ms preprocess, 32.6ms inference, 0.7ms postprocess per image at shape (1, 3, 384, 640)\n",
      "\n",
      "0: 384x640 (no detections), 32.6ms\n",
      "Speed: 0.6ms preprocess, 32.6ms inference, 0.4ms postprocess per image at shape (1, 3, 384, 640)\n",
      "\n",
      "0: 384x640 1 Armaduro, 32.3ms\n",
      "Speed: 0.6ms preprocess, 32.3ms inference, 1.7ms postprocess per image at shape (1, 3, 384, 640)\n"
     ]
    },
    {
     "name": "stderr",
     "output_type": "stream",
     "text": [
      " 62%|██████▏   | 1345/2158 [00:50<00:30, 26.98it/s]"
     ]
    },
    {
     "name": "stdout",
     "output_type": "stream",
     "text": [
      "\n",
      "0: 384x640 (no detections), 32.5ms\n",
      "Speed: 0.5ms preprocess, 32.5ms inference, 0.7ms postprocess per image at shape (1, 3, 384, 640)\n",
      "\n",
      "0: 384x640 1 Armaduro, 32.6ms\n",
      "Speed: 0.6ms preprocess, 32.6ms inference, 1.9ms postprocess per image at shape (1, 3, 384, 640)\n",
      "\n",
      "0: 384x640 (no detections), 32.6ms\n",
      "Speed: 0.6ms preprocess, 32.6ms inference, 0.7ms postprocess per image at shape (1, 3, 384, 640)\n"
     ]
    },
    {
     "name": "stderr",
     "output_type": "stream",
     "text": [
      " 62%|██████▏   | 1348/2158 [00:50<00:30, 26.87it/s]"
     ]
    },
    {
     "name": "stdout",
     "output_type": "stream",
     "text": [
      "\n",
      "0: 384x640 1 Armaduro, 32.5ms\n",
      "Speed: 0.6ms preprocess, 32.5ms inference, 1.0ms postprocess per image at shape (1, 3, 384, 640)\n",
      "\n",
      "0: 384x640 1 Armaduro, 32.3ms\n",
      "Speed: 0.6ms preprocess, 32.3ms inference, 0.8ms postprocess per image at shape (1, 3, 384, 640)\n",
      "\n",
      "0: 384x640 1 Armaduro, 32.6ms\n",
      "Speed: 0.7ms preprocess, 32.6ms inference, 1.4ms postprocess per image at shape (1, 3, 384, 640)\n"
     ]
    },
    {
     "name": "stderr",
     "output_type": "stream",
     "text": [
      " 63%|██████▎   | 1351/2158 [00:50<00:30, 26.72it/s]"
     ]
    },
    {
     "name": "stdout",
     "output_type": "stream",
     "text": [
      "\n",
      "0: 384x640 1 Armaduro, 32.2ms\n",
      "Speed: 0.6ms preprocess, 32.2ms inference, 1.7ms postprocess per image at shape (1, 3, 384, 640)\n",
      "\n",
      "0: 384x640 1 Armaduro, 32.6ms\n",
      "Speed: 1.1ms preprocess, 32.6ms inference, 0.9ms postprocess per image at shape (1, 3, 384, 640)\n",
      "\n",
      "0: 384x640 1 Armaduro, 32.4ms\n",
      "Speed: 0.6ms preprocess, 32.4ms inference, 0.8ms postprocess per image at shape (1, 3, 384, 640)\n"
     ]
    },
    {
     "name": "stderr",
     "output_type": "stream",
     "text": [
      " 63%|██████▎   | 1354/2158 [00:50<00:30, 26.49it/s]"
     ]
    },
    {
     "name": "stdout",
     "output_type": "stream",
     "text": [
      "\n",
      "0: 384x640 1 Armaduro, 32.4ms\n",
      "Speed: 0.7ms preprocess, 32.4ms inference, 0.9ms postprocess per image at shape (1, 3, 384, 640)\n",
      "\n",
      "0: 384x640 (no detections), 32.5ms\n",
      "Speed: 0.6ms preprocess, 32.5ms inference, 0.5ms postprocess per image at shape (1, 3, 384, 640)\n",
      "\n",
      "0: 384x640 (no detections), 32.5ms\n",
      "Speed: 0.6ms preprocess, 32.5ms inference, 0.4ms postprocess per image at shape (1, 3, 384, 640)\n"
     ]
    },
    {
     "name": "stderr",
     "output_type": "stream",
     "text": [
      " 63%|██████▎   | 1357/2158 [00:50<00:30, 26.62it/s]"
     ]
    },
    {
     "name": "stdout",
     "output_type": "stream",
     "text": [
      "\n",
      "0: 384x640 (no detections), 32.5ms\n",
      "Speed: 0.5ms preprocess, 32.5ms inference, 0.5ms postprocess per image at shape (1, 3, 384, 640)\n",
      "\n",
      "0: 384x640 (no detections), 32.4ms\n",
      "Speed: 0.9ms preprocess, 32.4ms inference, 0.5ms postprocess per image at shape (1, 3, 384, 640)\n",
      "\n",
      "0: 384x640 (no detections), 32.6ms\n",
      "Speed: 0.6ms preprocess, 32.6ms inference, 0.5ms postprocess per image at shape (1, 3, 384, 640)\n"
     ]
    },
    {
     "name": "stderr",
     "output_type": "stream",
     "text": [
      " 63%|██████▎   | 1360/2158 [00:51<00:29, 26.78it/s]"
     ]
    },
    {
     "name": "stdout",
     "output_type": "stream",
     "text": [
      "\n",
      "0: 384x640 (no detections), 32.5ms\n",
      "Speed: 0.6ms preprocess, 32.5ms inference, 0.5ms postprocess per image at shape (1, 3, 384, 640)\n",
      "\n",
      "0: 384x640 (no detections), 32.5ms\n",
      "Speed: 0.6ms preprocess, 32.5ms inference, 0.7ms postprocess per image at shape (1, 3, 384, 640)\n",
      "\n",
      "0: 384x640 (no detections), 32.6ms\n",
      "Speed: 0.7ms preprocess, 32.6ms inference, 0.5ms postprocess per image at shape (1, 3, 384, 640)\n"
     ]
    },
    {
     "name": "stderr",
     "output_type": "stream",
     "text": [
      " 63%|██████▎   | 1363/2158 [00:51<00:29, 26.83it/s]"
     ]
    },
    {
     "name": "stdout",
     "output_type": "stream",
     "text": [
      "\n",
      "0: 384x640 1 Armaduro, 32.6ms\n",
      "Speed: 0.7ms preprocess, 32.6ms inference, 1.2ms postprocess per image at shape (1, 3, 384, 640)\n",
      "\n",
      "0: 384x640 (no detections), 32.5ms\n",
      "Speed: 0.5ms preprocess, 32.5ms inference, 0.5ms postprocess per image at shape (1, 3, 384, 640)\n",
      "\n",
      "0: 384x640 (no detections), 32.4ms\n",
      "Speed: 0.6ms preprocess, 32.4ms inference, 0.5ms postprocess per image at shape (1, 3, 384, 640)\n"
     ]
    },
    {
     "name": "stderr",
     "output_type": "stream",
     "text": [
      " 63%|██████▎   | 1366/2158 [00:51<00:29, 26.84it/s]"
     ]
    },
    {
     "name": "stdout",
     "output_type": "stream",
     "text": [
      "\n",
      "0: 384x640 (no detections), 32.4ms\n",
      "Speed: 0.6ms preprocess, 32.4ms inference, 0.5ms postprocess per image at shape (1, 3, 384, 640)\n",
      "\n",
      "0: 384x640 (no detections), 32.4ms\n",
      "Speed: 0.7ms preprocess, 32.4ms inference, 0.7ms postprocess per image at shape (1, 3, 384, 640)\n",
      "\n",
      "0: 384x640 1 Armaduro, 32.5ms\n",
      "Speed: 0.5ms preprocess, 32.5ms inference, 0.9ms postprocess per image at shape (1, 3, 384, 640)\n"
     ]
    },
    {
     "name": "stderr",
     "output_type": "stream",
     "text": [
      " 63%|██████▎   | 1369/2158 [00:51<00:29, 26.80it/s]"
     ]
    },
    {
     "name": "stdout",
     "output_type": "stream",
     "text": [
      "\n",
      "0: 384x640 1 Armaduro, 32.5ms\n",
      "Speed: 0.5ms preprocess, 32.5ms inference, 0.9ms postprocess per image at shape (1, 3, 384, 640)\n",
      "\n",
      "0: 384x640 (no detections), 32.6ms\n",
      "Speed: 0.6ms preprocess, 32.6ms inference, 0.4ms postprocess per image at shape (1, 3, 384, 640)\n",
      "\n",
      "0: 384x640 (no detections), 32.4ms\n",
      "Speed: 0.9ms preprocess, 32.4ms inference, 0.5ms postprocess per image at shape (1, 3, 384, 640)\n"
     ]
    },
    {
     "name": "stderr",
     "output_type": "stream",
     "text": [
      " 64%|██████▎   | 1372/2158 [00:51<00:29, 26.80it/s]"
     ]
    },
    {
     "name": "stdout",
     "output_type": "stream",
     "text": [
      "\n",
      "0: 384x640 1 Armaduro, 32.5ms\n",
      "Speed: 0.6ms preprocess, 32.5ms inference, 1.0ms postprocess per image at shape (1, 3, 384, 640)\n",
      "\n",
      "0: 384x640 (no detections), 32.2ms\n",
      "Speed: 0.6ms preprocess, 32.2ms inference, 0.5ms postprocess per image at shape (1, 3, 384, 640)\n",
      "\n",
      "0: 384x640 1 Armaduro, 32.5ms\n",
      "Speed: 0.6ms preprocess, 32.5ms inference, 0.9ms postprocess per image at shape (1, 3, 384, 640)\n"
     ]
    },
    {
     "name": "stderr",
     "output_type": "stream",
     "text": [
      " 64%|██████▎   | 1375/2158 [00:51<00:29, 26.77it/s]"
     ]
    },
    {
     "name": "stdout",
     "output_type": "stream",
     "text": [
      "\n",
      "0: 384x640 1 Armaduro, 32.3ms\n",
      "Speed: 0.7ms preprocess, 32.3ms inference, 2.0ms postprocess per image at shape (1, 3, 384, 640)\n",
      "\n",
      "0: 384x640 1 Armaduro, 32.5ms\n",
      "Speed: 0.5ms preprocess, 32.5ms inference, 0.9ms postprocess per image at shape (1, 3, 384, 640)\n",
      "\n",
      "0: 384x640 (no detections), 32.6ms\n",
      "Speed: 0.5ms preprocess, 32.6ms inference, 0.4ms postprocess per image at shape (1, 3, 384, 640)\n"
     ]
    },
    {
     "name": "stderr",
     "output_type": "stream",
     "text": [
      " 64%|██████▍   | 1378/2158 [00:51<00:29, 26.62it/s]"
     ]
    },
    {
     "name": "stdout",
     "output_type": "stream",
     "text": [
      "\n",
      "0: 384x640 1 Selvalegre, 32.5ms\n",
      "Speed: 0.8ms preprocess, 32.5ms inference, 1.4ms postprocess per image at shape (1, 3, 384, 640)\n",
      "\n",
      "0: 384x640 (no detections), 32.5ms\n",
      "Speed: 0.6ms preprocess, 32.5ms inference, 0.8ms postprocess per image at shape (1, 3, 384, 640)\n",
      "\n",
      "0: 384x640 (no detections), 32.5ms\n",
      "Speed: 0.7ms preprocess, 32.5ms inference, 0.5ms postprocess per image at shape (1, 3, 384, 640)\n"
     ]
    },
    {
     "name": "stderr",
     "output_type": "stream",
     "text": [
      " 64%|██████▍   | 1381/2158 [00:51<00:29, 26.53it/s]"
     ]
    },
    {
     "name": "stdout",
     "output_type": "stream",
     "text": [
      "\n",
      "0: 384x640 (no detections), 32.3ms\n",
      "Speed: 0.5ms preprocess, 32.3ms inference, 0.5ms postprocess per image at shape (1, 3, 384, 640)\n",
      "\n",
      "0: 384x640 (no detections), 32.4ms\n",
      "Speed: 0.6ms preprocess, 32.4ms inference, 0.5ms postprocess per image at shape (1, 3, 384, 640)\n",
      "\n",
      "0: 384x640 (no detections), 32.3ms\n",
      "Speed: 0.7ms preprocess, 32.3ms inference, 0.4ms postprocess per image at shape (1, 3, 384, 640)\n"
     ]
    },
    {
     "name": "stderr",
     "output_type": "stream",
     "text": [
      " 64%|██████▍   | 1384/2158 [00:51<00:28, 26.71it/s]"
     ]
    },
    {
     "name": "stdout",
     "output_type": "stream",
     "text": [
      "\n",
      "0: 384x640 (no detections), 32.5ms\n",
      "Speed: 0.5ms preprocess, 32.5ms inference, 0.5ms postprocess per image at shape (1, 3, 384, 640)\n",
      "\n",
      "0: 384x640 (no detections), 32.5ms\n",
      "Speed: 0.6ms preprocess, 32.5ms inference, 0.5ms postprocess per image at shape (1, 3, 384, 640)\n",
      "\n",
      "0: 384x640 (no detections), 32.6ms\n",
      "Speed: 0.6ms preprocess, 32.6ms inference, 0.5ms postprocess per image at shape (1, 3, 384, 640)\n"
     ]
    },
    {
     "name": "stderr",
     "output_type": "stream",
     "text": [
      " 64%|██████▍   | 1387/2158 [00:52<00:28, 26.82it/s]"
     ]
    },
    {
     "name": "stdout",
     "output_type": "stream",
     "text": [
      "\n",
      "0: 384x640 (no detections), 32.5ms\n",
      "Speed: 0.6ms preprocess, 32.5ms inference, 0.5ms postprocess per image at shape (1, 3, 384, 640)\n",
      "\n",
      "0: 384x640 1 Armaduro, 32.5ms\n",
      "Speed: 0.6ms preprocess, 32.5ms inference, 0.9ms postprocess per image at shape (1, 3, 384, 640)\n",
      "\n",
      "0: 384x640 1 Armaduro, 32.5ms\n",
      "Speed: 0.6ms preprocess, 32.5ms inference, 0.9ms postprocess per image at shape (1, 3, 384, 640)\n"
     ]
    },
    {
     "name": "stderr",
     "output_type": "stream",
     "text": [
      " 64%|██████▍   | 1390/2158 [00:52<00:28, 26.80it/s]"
     ]
    },
    {
     "name": "stdout",
     "output_type": "stream",
     "text": [
      "\n",
      "0: 384x640 1 Armaduro, 32.5ms\n",
      "Speed: 0.6ms preprocess, 32.5ms inference, 0.9ms postprocess per image at shape (1, 3, 384, 640)\n",
      "\n",
      "0: 384x640 1 Armaduro, 32.2ms\n",
      "Speed: 0.7ms preprocess, 32.2ms inference, 0.9ms postprocess per image at shape (1, 3, 384, 640)\n",
      "\n",
      "0: 384x640 1 Armaduro, 32.5ms\n",
      "Speed: 0.5ms preprocess, 32.5ms inference, 0.9ms postprocess per image at shape (1, 3, 384, 640)\n"
     ]
    },
    {
     "name": "stderr",
     "output_type": "stream",
     "text": [
      " 65%|██████▍   | 1393/2158 [00:52<00:28, 26.67it/s]"
     ]
    },
    {
     "name": "stdout",
     "output_type": "stream",
     "text": [
      "\n",
      "0: 384x640 1 Armaduro, 32.5ms\n",
      "Speed: 0.5ms preprocess, 32.5ms inference, 1.0ms postprocess per image at shape (1, 3, 384, 640)\n",
      "\n",
      "0: 384x640 1 Armaduro, 32.5ms\n",
      "Speed: 0.6ms preprocess, 32.5ms inference, 1.0ms postprocess per image at shape (1, 3, 384, 640)\n",
      "\n",
      "0: 384x640 1 Armaduro, 32.2ms\n",
      "Speed: 0.6ms preprocess, 32.2ms inference, 1.0ms postprocess per image at shape (1, 3, 384, 640)\n"
     ]
    },
    {
     "name": "stderr",
     "output_type": "stream",
     "text": [
      " 65%|██████▍   | 1396/2158 [00:52<00:28, 26.57it/s]"
     ]
    },
    {
     "name": "stdout",
     "output_type": "stream",
     "text": [
      "\n",
      "0: 384x640 (no detections), 32.4ms\n",
      "Speed: 0.6ms preprocess, 32.4ms inference, 0.5ms postprocess per image at shape (1, 3, 384, 640)\n",
      "\n",
      "0: 384x640 (no detections), 32.2ms\n",
      "Speed: 0.5ms preprocess, 32.2ms inference, 0.4ms postprocess per image at shape (1, 3, 384, 640)\n",
      "\n",
      "0: 384x640 (no detections), 32.5ms\n",
      "Speed: 0.5ms preprocess, 32.5ms inference, 0.4ms postprocess per image at shape (1, 3, 384, 640)\n"
     ]
    },
    {
     "name": "stderr",
     "output_type": "stream",
     "text": [
      " 65%|██████▍   | 1399/2158 [00:52<00:28, 26.74it/s]"
     ]
    },
    {
     "name": "stdout",
     "output_type": "stream",
     "text": [
      "\n",
      "0: 384x640 (no detections), 32.6ms\n",
      "Speed: 0.6ms preprocess, 32.6ms inference, 0.5ms postprocess per image at shape (1, 3, 384, 640)\n",
      "\n",
      "0: 384x640 (no detections), 32.5ms\n",
      "Speed: 0.6ms preprocess, 32.5ms inference, 0.4ms postprocess per image at shape (1, 3, 384, 640)\n",
      "\n",
      "0: 384x640 (no detections), 32.5ms\n",
      "Speed: 0.5ms preprocess, 32.5ms inference, 0.7ms postprocess per image at shape (1, 3, 384, 640)\n"
     ]
    },
    {
     "name": "stderr",
     "output_type": "stream",
     "text": [
      " 65%|██████▍   | 1402/2158 [00:52<00:28, 26.84it/s]"
     ]
    },
    {
     "name": "stdout",
     "output_type": "stream",
     "text": [
      "\n",
      "0: 384x640 (no detections), 32.5ms\n",
      "Speed: 0.5ms preprocess, 32.5ms inference, 0.5ms postprocess per image at shape (1, 3, 384, 640)\n",
      "\n",
      "0: 384x640 (no detections), 32.3ms\n",
      "Speed: 0.5ms preprocess, 32.3ms inference, 0.5ms postprocess per image at shape (1, 3, 384, 640)\n",
      "\n",
      "0: 384x640 1 Selvalegre, 32.4ms\n",
      "Speed: 0.7ms preprocess, 32.4ms inference, 0.9ms postprocess per image at shape (1, 3, 384, 640)\n"
     ]
    },
    {
     "name": "stderr",
     "output_type": "stream",
     "text": [
      " 65%|██████▌   | 1405/2158 [00:52<00:28, 26.82it/s]"
     ]
    },
    {
     "name": "stdout",
     "output_type": "stream",
     "text": [
      "\n",
      "0: 384x640 (no detections), 32.1ms\n",
      "Speed: 0.6ms preprocess, 32.1ms inference, 0.8ms postprocess per image at shape (1, 3, 384, 640)\n",
      "\n",
      "0: 384x640 (no detections), 32.7ms\n",
      "Speed: 0.6ms preprocess, 32.7ms inference, 0.4ms postprocess per image at shape (1, 3, 384, 640)\n",
      "\n",
      "0: 384x640 (no detections), 32.6ms\n",
      "Speed: 0.5ms preprocess, 32.6ms inference, 0.5ms postprocess per image at shape (1, 3, 384, 640)\n"
     ]
    },
    {
     "name": "stderr",
     "output_type": "stream",
     "text": [
      " 65%|██████▌   | 1408/2158 [00:52<00:27, 26.90it/s]"
     ]
    },
    {
     "name": "stdout",
     "output_type": "stream",
     "text": [
      "\n",
      "0: 384x640 (no detections), 32.6ms\n",
      "Speed: 0.6ms preprocess, 32.6ms inference, 0.7ms postprocess per image at shape (1, 3, 384, 640)\n",
      "\n",
      "0: 384x640 (no detections), 32.6ms\n",
      "Speed: 0.6ms preprocess, 32.6ms inference, 0.4ms postprocess per image at shape (1, 3, 384, 640)\n",
      "\n",
      "0: 384x640 (no detections), 32.5ms\n",
      "Speed: 0.6ms preprocess, 32.5ms inference, 0.5ms postprocess per image at shape (1, 3, 384, 640)\n"
     ]
    },
    {
     "name": "stderr",
     "output_type": "stream",
     "text": [
      " 65%|██████▌   | 1411/2158 [00:52<00:27, 26.94it/s]"
     ]
    },
    {
     "name": "stdout",
     "output_type": "stream",
     "text": [
      "\n",
      "0: 384x640 (no detections), 32.5ms\n",
      "Speed: 0.6ms preprocess, 32.5ms inference, 0.5ms postprocess per image at shape (1, 3, 384, 640)\n",
      "\n",
      "0: 384x640 (no detections), 32.5ms\n",
      "Speed: 0.8ms preprocess, 32.5ms inference, 0.8ms postprocess per image at shape (1, 3, 384, 640)\n",
      "\n",
      "0: 384x640 (no detections), 32.5ms\n",
      "Speed: 0.6ms preprocess, 32.5ms inference, 0.6ms postprocess per image at shape (1, 3, 384, 640)\n"
     ]
    },
    {
     "name": "stderr",
     "output_type": "stream",
     "text": [
      " 66%|██████▌   | 1414/2158 [00:53<00:27, 26.95it/s]"
     ]
    },
    {
     "name": "stdout",
     "output_type": "stream",
     "text": [
      "\n",
      "0: 384x640 1 Armaduro, 32.3ms\n",
      "Speed: 0.7ms preprocess, 32.3ms inference, 0.9ms postprocess per image at shape (1, 3, 384, 640)\n",
      "\n",
      "0: 384x640 1 Armaduro, 32.6ms\n",
      "Speed: 0.5ms preprocess, 32.6ms inference, 1.8ms postprocess per image at shape (1, 3, 384, 640)\n",
      "\n",
      "0: 384x640 (no detections), 32.5ms\n",
      "Speed: 0.5ms preprocess, 32.5ms inference, 0.7ms postprocess per image at shape (1, 3, 384, 640)\n"
     ]
    },
    {
     "name": "stderr",
     "output_type": "stream",
     "text": [
      " 66%|██████▌   | 1417/2158 [00:53<00:27, 26.71it/s]"
     ]
    },
    {
     "name": "stdout",
     "output_type": "stream",
     "text": [
      "\n",
      "0: 384x640 1 Armaduro, 32.5ms\n",
      "Speed: 0.5ms preprocess, 32.5ms inference, 1.0ms postprocess per image at shape (1, 3, 384, 640)\n",
      "\n",
      "0: 384x640 1 Armaduro, 32.5ms\n",
      "Speed: 0.6ms preprocess, 32.5ms inference, 1.0ms postprocess per image at shape (1, 3, 384, 640)\n",
      "\n",
      "0: 384x640 1 Armaduro, 32.6ms\n",
      "Speed: 0.6ms preprocess, 32.6ms inference, 0.9ms postprocess per image at shape (1, 3, 384, 640)\n"
     ]
    },
    {
     "name": "stderr",
     "output_type": "stream",
     "text": [
      " 66%|██████▌   | 1420/2158 [00:53<00:27, 26.54it/s]"
     ]
    },
    {
     "name": "stdout",
     "output_type": "stream",
     "text": [
      "\n",
      "0: 384x640 1 Armaduro, 32.4ms\n",
      "Speed: 0.7ms preprocess, 32.4ms inference, 1.0ms postprocess per image at shape (1, 3, 384, 640)\n",
      "\n",
      "0: 384x640 1 Armaduro, 32.6ms\n",
      "Speed: 0.5ms preprocess, 32.6ms inference, 1.0ms postprocess per image at shape (1, 3, 384, 640)\n",
      "\n",
      "0: 384x640 1 Armaduro, 32.4ms\n",
      "Speed: 0.6ms preprocess, 32.4ms inference, 0.9ms postprocess per image at shape (1, 3, 384, 640)\n"
     ]
    },
    {
     "name": "stderr",
     "output_type": "stream",
     "text": [
      " 66%|██████▌   | 1423/2158 [00:53<00:27, 26.46it/s]"
     ]
    },
    {
     "name": "stdout",
     "output_type": "stream",
     "text": [
      "\n",
      "0: 384x640 (no detections), 32.3ms\n",
      "Speed: 0.6ms preprocess, 32.3ms inference, 0.5ms postprocess per image at shape (1, 3, 384, 640)\n",
      "\n",
      "0: 384x640 (no detections), 32.5ms\n",
      "Speed: 0.7ms preprocess, 32.5ms inference, 0.5ms postprocess per image at shape (1, 3, 384, 640)\n",
      "\n",
      "0: 384x640 (no detections), 32.5ms\n",
      "Speed: 0.6ms preprocess, 32.5ms inference, 0.7ms postprocess per image at shape (1, 3, 384, 640)\n"
     ]
    },
    {
     "name": "stderr",
     "output_type": "stream",
     "text": [
      " 66%|██████▌   | 1426/2158 [00:53<00:27, 26.59it/s]"
     ]
    },
    {
     "name": "stdout",
     "output_type": "stream",
     "text": [
      "\n",
      "0: 384x640 (no detections), 32.5ms\n",
      "Speed: 0.5ms preprocess, 32.5ms inference, 0.7ms postprocess per image at shape (1, 3, 384, 640)\n",
      "\n",
      "0: 384x640 (no detections), 32.6ms\n",
      "Speed: 0.6ms preprocess, 32.6ms inference, 0.6ms postprocess per image at shape (1, 3, 384, 640)\n",
      "\n",
      "0: 384x640 (no detections), 32.4ms\n",
      "Speed: 0.6ms preprocess, 32.4ms inference, 0.4ms postprocess per image at shape (1, 3, 384, 640)\n"
     ]
    },
    {
     "name": "stderr",
     "output_type": "stream",
     "text": [
      " 66%|██████▌   | 1429/2158 [00:53<00:27, 26.70it/s]"
     ]
    },
    {
     "name": "stdout",
     "output_type": "stream",
     "text": [
      "\n",
      "0: 384x640 (no detections), 32.5ms\n",
      "Speed: 0.5ms preprocess, 32.5ms inference, 0.5ms postprocess per image at shape (1, 3, 384, 640)\n",
      "\n",
      "0: 384x640 (no detections), 32.5ms\n",
      "Speed: 0.6ms preprocess, 32.5ms inference, 0.5ms postprocess per image at shape (1, 3, 384, 640)\n",
      "\n",
      "0: 384x640 1 Selvalegre, 32.5ms\n",
      "Speed: 0.6ms preprocess, 32.5ms inference, 0.8ms postprocess per image at shape (1, 3, 384, 640)\n"
     ]
    },
    {
     "name": "stderr",
     "output_type": "stream",
     "text": [
      " 66%|██████▋   | 1432/2158 [00:53<00:27, 26.73it/s]"
     ]
    },
    {
     "name": "stdout",
     "output_type": "stream",
     "text": [
      "\n",
      "0: 384x640 (no detections), 32.3ms\n",
      "Speed: 0.6ms preprocess, 32.3ms inference, 0.8ms postprocess per image at shape (1, 3, 384, 640)\n",
      "\n",
      "0: 384x640 (no detections), 32.5ms\n",
      "Speed: 0.6ms preprocess, 32.5ms inference, 0.5ms postprocess per image at shape (1, 3, 384, 640)\n",
      "\n",
      "0: 384x640 (no detections), 32.5ms\n",
      "Speed: 0.6ms preprocess, 32.5ms inference, 0.7ms postprocess per image at shape (1, 3, 384, 640)\n"
     ]
    },
    {
     "name": "stderr",
     "output_type": "stream",
     "text": [
      " 66%|██████▋   | 1435/2158 [00:53<00:26, 26.83it/s]"
     ]
    },
    {
     "name": "stdout",
     "output_type": "stream",
     "text": [
      "\n",
      "0: 384x640 (no detections), 32.5ms\n",
      "Speed: 0.5ms preprocess, 32.5ms inference, 0.5ms postprocess per image at shape (1, 3, 384, 640)\n",
      "\n",
      "0: 384x640 1 Armaduro, 32.4ms\n",
      "Speed: 0.9ms preprocess, 32.4ms inference, 1.2ms postprocess per image at shape (1, 3, 384, 640)\n",
      "\n",
      "0: 384x640 (no detections), 32.4ms\n",
      "Speed: 0.6ms preprocess, 32.4ms inference, 0.4ms postprocess per image at shape (1, 3, 384, 640)\n"
     ]
    },
    {
     "name": "stderr",
     "output_type": "stream",
     "text": [
      " 67%|██████▋   | 1438/2158 [00:53<00:26, 26.87it/s]"
     ]
    },
    {
     "name": "stdout",
     "output_type": "stream",
     "text": [
      "\n",
      "0: 384x640 (no detections), 32.5ms\n",
      "Speed: 0.5ms preprocess, 32.5ms inference, 0.7ms postprocess per image at shape (1, 3, 384, 640)\n",
      "\n",
      "0: 384x640 1 Armaduro, 32.5ms\n",
      "Speed: 0.6ms preprocess, 32.5ms inference, 0.9ms postprocess per image at shape (1, 3, 384, 640)\n",
      "\n",
      "0: 384x640 1 Armaduro, 32.5ms\n",
      "Speed: 0.6ms preprocess, 32.5ms inference, 0.9ms postprocess per image at shape (1, 3, 384, 640)\n"
     ]
    },
    {
     "name": "stderr",
     "output_type": "stream",
     "text": [
      " 67%|██████▋   | 1441/2158 [00:54<00:26, 26.73it/s]"
     ]
    },
    {
     "name": "stdout",
     "output_type": "stream",
     "text": [
      "\n",
      "0: 384x640 1 Armaduro, 32.4ms\n",
      "Speed: 0.6ms preprocess, 32.4ms inference, 1.8ms postprocess per image at shape (1, 3, 384, 640)\n",
      "\n",
      "0: 384x640 1 Armaduro, 32.5ms\n",
      "Speed: 0.6ms preprocess, 32.5ms inference, 0.9ms postprocess per image at shape (1, 3, 384, 640)\n",
      "\n",
      "0: 384x640 1 Armaduro, 32.6ms\n",
      "Speed: 0.5ms preprocess, 32.6ms inference, 0.9ms postprocess per image at shape (1, 3, 384, 640)\n"
     ]
    },
    {
     "name": "stderr",
     "output_type": "stream",
     "text": [
      " 67%|██████▋   | 1444/2158 [00:54<00:26, 26.53it/s]"
     ]
    },
    {
     "name": "stdout",
     "output_type": "stream",
     "text": [
      "\n",
      "0: 384x640 1 Armaduro, 32.5ms\n",
      "Speed: 0.7ms preprocess, 32.5ms inference, 1.3ms postprocess per image at shape (1, 3, 384, 640)\n",
      "\n",
      "0: 384x640 1 Armaduro, 32.6ms\n",
      "Speed: 0.7ms preprocess, 32.6ms inference, 0.9ms postprocess per image at shape (1, 3, 384, 640)\n",
      "\n",
      "0: 384x640 1 Armaduro, 32.6ms\n",
      "Speed: 0.6ms preprocess, 32.6ms inference, 1.7ms postprocess per image at shape (1, 3, 384, 640)\n"
     ]
    },
    {
     "name": "stderr",
     "output_type": "stream",
     "text": [
      " 67%|██████▋   | 1447/2158 [00:54<00:27, 26.28it/s]"
     ]
    },
    {
     "name": "stdout",
     "output_type": "stream",
     "text": [
      "\n",
      "0: 384x640 1 Armaduro, 32.5ms\n",
      "Speed: 0.7ms preprocess, 32.5ms inference, 1.0ms postprocess per image at shape (1, 3, 384, 640)\n",
      "\n",
      "0: 384x640 (no detections), 32.5ms\n",
      "Speed: 0.5ms preprocess, 32.5ms inference, 0.4ms postprocess per image at shape (1, 3, 384, 640)\n",
      "\n",
      "0: 384x640 (no detections), 32.6ms\n",
      "Speed: 0.6ms preprocess, 32.6ms inference, 0.5ms postprocess per image at shape (1, 3, 384, 640)\n"
     ]
    },
    {
     "name": "stderr",
     "output_type": "stream",
     "text": [
      " 67%|██████▋   | 1450/2158 [00:54<00:26, 26.39it/s]"
     ]
    },
    {
     "name": "stdout",
     "output_type": "stream",
     "text": [
      "\n",
      "0: 384x640 (no detections), 32.5ms\n",
      "Speed: 0.5ms preprocess, 32.5ms inference, 0.5ms postprocess per image at shape (1, 3, 384, 640)\n",
      "\n",
      "0: 384x640 (no detections), 32.5ms\n",
      "Speed: 0.6ms preprocess, 32.5ms inference, 0.5ms postprocess per image at shape (1, 3, 384, 640)\n",
      "\n",
      "0: 384x640 (no detections), 32.5ms\n",
      "Speed: 0.7ms preprocess, 32.5ms inference, 0.5ms postprocess per image at shape (1, 3, 384, 640)\n"
     ]
    },
    {
     "name": "stderr",
     "output_type": "stream",
     "text": [
      " 67%|██████▋   | 1453/2158 [00:54<00:26, 26.56it/s]"
     ]
    },
    {
     "name": "stdout",
     "output_type": "stream",
     "text": [
      "\n",
      "0: 384x640 (no detections), 32.4ms\n",
      "Speed: 0.6ms preprocess, 32.4ms inference, 0.5ms postprocess per image at shape (1, 3, 384, 640)\n",
      "\n",
      "0: 384x640 (no detections), 32.5ms\n",
      "Speed: 0.6ms preprocess, 32.5ms inference, 0.5ms postprocess per image at shape (1, 3, 384, 640)\n",
      "\n",
      "0: 384x640 (no detections), 32.3ms\n",
      "Speed: 0.6ms preprocess, 32.3ms inference, 0.5ms postprocess per image at shape (1, 3, 384, 640)\n"
     ]
    },
    {
     "name": "stderr",
     "output_type": "stream",
     "text": [
      " 67%|██████▋   | 1456/2158 [00:54<00:26, 26.69it/s]"
     ]
    },
    {
     "name": "stdout",
     "output_type": "stream",
     "text": [
      "\n",
      "0: 384x640 (no detections), 32.5ms\n",
      "Speed: 0.6ms preprocess, 32.5ms inference, 0.5ms postprocess per image at shape (1, 3, 384, 640)\n",
      "\n",
      "0: 384x640 1 Selvalegre, 32.5ms\n",
      "Speed: 0.6ms preprocess, 32.5ms inference, 0.9ms postprocess per image at shape (1, 3, 384, 640)\n",
      "\n",
      "0: 384x640 (no detections), 32.5ms\n",
      "Speed: 0.6ms preprocess, 32.5ms inference, 0.5ms postprocess per image at shape (1, 3, 384, 640)\n"
     ]
    },
    {
     "name": "stderr",
     "output_type": "stream",
     "text": [
      " 68%|██████▊   | 1459/2158 [00:54<00:26, 26.72it/s]"
     ]
    },
    {
     "name": "stdout",
     "output_type": "stream",
     "text": [
      "\n",
      "0: 384x640 (no detections), 32.5ms\n",
      "Speed: 0.6ms preprocess, 32.5ms inference, 0.5ms postprocess per image at shape (1, 3, 384, 640)\n",
      "\n",
      "0: 384x640 (no detections), 32.4ms\n",
      "Speed: 0.7ms preprocess, 32.4ms inference, 0.5ms postprocess per image at shape (1, 3, 384, 640)\n",
      "\n",
      "0: 384x640 (no detections), 32.5ms\n",
      "Speed: 0.6ms preprocess, 32.5ms inference, 0.7ms postprocess per image at shape (1, 3, 384, 640)\n"
     ]
    },
    {
     "name": "stderr",
     "output_type": "stream",
     "text": [
      " 68%|██████▊   | 1462/2158 [00:54<00:25, 26.81it/s]"
     ]
    },
    {
     "name": "stdout",
     "output_type": "stream",
     "text": [
      "\n",
      "0: 384x640 (no detections), 32.5ms\n",
      "Speed: 0.6ms preprocess, 32.5ms inference, 0.5ms postprocess per image at shape (1, 3, 384, 640)\n",
      "\n",
      "0: 384x640 (no detections), 32.5ms\n",
      "Speed: 0.5ms preprocess, 32.5ms inference, 0.5ms postprocess per image at shape (1, 3, 384, 640)\n",
      "\n",
      "0: 384x640 (no detections), 32.5ms\n",
      "Speed: 0.7ms preprocess, 32.5ms inference, 0.5ms postprocess per image at shape (1, 3, 384, 640)\n"
     ]
    },
    {
     "name": "stderr",
     "output_type": "stream",
     "text": [
      " 68%|██████▊   | 1465/2158 [00:54<00:25, 26.86it/s]"
     ]
    },
    {
     "name": "stdout",
     "output_type": "stream",
     "text": [
      "\n",
      "0: 384x640 (no detections), 32.5ms\n",
      "Speed: 0.5ms preprocess, 32.5ms inference, 0.5ms postprocess per image at shape (1, 3, 384, 640)\n",
      "\n",
      "0: 384x640 (no detections), 32.4ms\n",
      "Speed: 0.6ms preprocess, 32.4ms inference, 0.5ms postprocess per image at shape (1, 3, 384, 640)\n",
      "\n",
      "0: 384x640 (no detections), 32.6ms\n",
      "Speed: 0.5ms preprocess, 32.6ms inference, 0.5ms postprocess per image at shape (1, 3, 384, 640)\n"
     ]
    },
    {
     "name": "stderr",
     "output_type": "stream",
     "text": [
      " 68%|██████▊   | 1468/2158 [00:55<00:25, 26.97it/s]"
     ]
    },
    {
     "name": "stdout",
     "output_type": "stream",
     "text": [
      "\n",
      "0: 384x640 (no detections), 32.7ms\n",
      "Speed: 0.7ms preprocess, 32.7ms inference, 1.2ms postprocess per image at shape (1, 3, 384, 640)\n",
      "\n",
      "0: 384x640 (no detections), 32.5ms\n",
      "Speed: 0.6ms preprocess, 32.5ms inference, 0.5ms postprocess per image at shape (1, 3, 384, 640)\n",
      "\n",
      "0: 384x640 (no detections), 32.6ms\n",
      "Speed: 0.6ms preprocess, 32.6ms inference, 0.7ms postprocess per image at shape (1, 3, 384, 640)\n"
     ]
    },
    {
     "name": "stderr",
     "output_type": "stream",
     "text": [
      " 68%|██████▊   | 1471/2158 [00:55<00:25, 26.89it/s]"
     ]
    },
    {
     "name": "stdout",
     "output_type": "stream",
     "text": [
      "\n",
      "0: 384x640 (no detections), 32.5ms\n",
      "Speed: 0.6ms preprocess, 32.5ms inference, 0.7ms postprocess per image at shape (1, 3, 384, 640)\n",
      "\n",
      "0: 384x640 (no detections), 32.5ms\n",
      "Speed: 0.6ms preprocess, 32.5ms inference, 0.5ms postprocess per image at shape (1, 3, 384, 640)\n",
      "\n",
      "0: 384x640 (no detections), 32.5ms\n",
      "Speed: 0.6ms preprocess, 32.5ms inference, 0.7ms postprocess per image at shape (1, 3, 384, 640)\n"
     ]
    },
    {
     "name": "stderr",
     "output_type": "stream",
     "text": [
      " 68%|██████▊   | 1474/2158 [00:55<00:25, 26.90it/s]"
     ]
    },
    {
     "name": "stdout",
     "output_type": "stream",
     "text": [
      "\n",
      "0: 384x640 (no detections), 32.5ms\n",
      "Speed: 0.5ms preprocess, 32.5ms inference, 0.6ms postprocess per image at shape (1, 3, 384, 640)\n",
      "\n",
      "0: 384x640 (no detections), 32.5ms\n",
      "Speed: 1.2ms preprocess, 32.5ms inference, 0.5ms postprocess per image at shape (1, 3, 384, 640)\n",
      "\n",
      "0: 384x640 (no detections), 32.5ms\n",
      "Speed: 0.6ms preprocess, 32.5ms inference, 0.5ms postprocess per image at shape (1, 3, 384, 640)\n"
     ]
    },
    {
     "name": "stderr",
     "output_type": "stream",
     "text": [
      " 68%|██████▊   | 1477/2158 [00:55<00:25, 26.87it/s]"
     ]
    },
    {
     "name": "stdout",
     "output_type": "stream",
     "text": [
      "\n",
      "0: 384x640 (no detections), 32.3ms\n",
      "Speed: 0.6ms preprocess, 32.3ms inference, 0.5ms postprocess per image at shape (1, 3, 384, 640)\n",
      "\n",
      "0: 384x640 (no detections), 32.5ms\n",
      "Speed: 0.6ms preprocess, 32.5ms inference, 0.8ms postprocess per image at shape (1, 3, 384, 640)\n",
      "\n",
      "0: 384x640 (no detections), 32.5ms\n",
      "Speed: 0.5ms preprocess, 32.5ms inference, 0.5ms postprocess per image at shape (1, 3, 384, 640)\n"
     ]
    },
    {
     "name": "stderr",
     "output_type": "stream",
     "text": [
      " 69%|██████▊   | 1480/2158 [00:55<00:25, 26.96it/s]"
     ]
    },
    {
     "name": "stdout",
     "output_type": "stream",
     "text": [
      "\n",
      "0: 384x640 (no detections), 32.6ms\n",
      "Speed: 0.6ms preprocess, 32.6ms inference, 0.7ms postprocess per image at shape (1, 3, 384, 640)\n",
      "\n",
      "0: 384x640 (no detections), 32.6ms\n",
      "Speed: 0.6ms preprocess, 32.6ms inference, 0.5ms postprocess per image at shape (1, 3, 384, 640)\n",
      "\n",
      "0: 384x640 (no detections), 32.5ms\n",
      "Speed: 0.6ms preprocess, 32.5ms inference, 0.5ms postprocess per image at shape (1, 3, 384, 640)\n"
     ]
    },
    {
     "name": "stderr",
     "output_type": "stream",
     "text": [
      " 69%|██████▊   | 1483/2158 [00:55<00:25, 26.95it/s]"
     ]
    },
    {
     "name": "stdout",
     "output_type": "stream",
     "text": [
      "\n",
      "0: 384x640 (no detections), 32.5ms\n",
      "Speed: 0.6ms preprocess, 32.5ms inference, 0.7ms postprocess per image at shape (1, 3, 384, 640)\n",
      "\n",
      "0: 384x640 (no detections), 32.6ms\n",
      "Speed: 0.6ms preprocess, 32.6ms inference, 0.5ms postprocess per image at shape (1, 3, 384, 640)\n",
      "\n",
      "0: 384x640 (no detections), 32.5ms\n",
      "Speed: 0.6ms preprocess, 32.5ms inference, 0.5ms postprocess per image at shape (1, 3, 384, 640)\n"
     ]
    },
    {
     "name": "stderr",
     "output_type": "stream",
     "text": [
      " 69%|██████▉   | 1486/2158 [00:55<00:25, 26.86it/s]"
     ]
    },
    {
     "name": "stdout",
     "output_type": "stream",
     "text": [
      "\n",
      "0: 384x640 (no detections), 32.4ms\n",
      "Speed: 0.6ms preprocess, 32.4ms inference, 0.5ms postprocess per image at shape (1, 3, 384, 640)\n",
      "\n",
      "0: 384x640 (no detections), 32.6ms\n",
      "Speed: 0.6ms preprocess, 32.6ms inference, 0.5ms postprocess per image at shape (1, 3, 384, 640)\n",
      "\n",
      "0: 384x640 (no detections), 32.5ms\n",
      "Speed: 0.6ms preprocess, 32.5ms inference, 0.7ms postprocess per image at shape (1, 3, 384, 640)\n"
     ]
    },
    {
     "name": "stderr",
     "output_type": "stream",
     "text": [
      " 69%|██████▉   | 1489/2158 [00:55<00:24, 26.88it/s]"
     ]
    },
    {
     "name": "stdout",
     "output_type": "stream",
     "text": [
      "\n",
      "0: 384x640 1 Armaduro, 32.6ms\n",
      "Speed: 0.6ms preprocess, 32.6ms inference, 1.7ms postprocess per image at shape (1, 3, 384, 640)\n",
      "\n",
      "0: 384x640 (no detections), 32.5ms\n",
      "Speed: 0.7ms preprocess, 32.5ms inference, 0.7ms postprocess per image at shape (1, 3, 384, 640)\n",
      "\n",
      "0: 384x640 (no detections), 32.6ms\n",
      "Speed: 0.6ms preprocess, 32.6ms inference, 0.5ms postprocess per image at shape (1, 3, 384, 640)\n"
     ]
    },
    {
     "name": "stderr",
     "output_type": "stream",
     "text": [
      " 69%|██████▉   | 1492/2158 [00:55<00:24, 26.73it/s]"
     ]
    },
    {
     "name": "stdout",
     "output_type": "stream",
     "text": [
      "\n",
      "0: 384x640 1 Armaduro, 32.5ms\n",
      "Speed: 0.6ms preprocess, 32.5ms inference, 1.8ms postprocess per image at shape (1, 3, 384, 640)\n",
      "\n",
      "0: 384x640 1 Armaduro, 32.4ms\n",
      "Speed: 0.9ms preprocess, 32.4ms inference, 1.8ms postprocess per image at shape (1, 3, 384, 640)\n",
      "\n",
      "0: 384x640 1 Armaduro, 32.5ms\n",
      "Speed: 0.6ms preprocess, 32.5ms inference, 1.1ms postprocess per image at shape (1, 3, 384, 640)\n"
     ]
    },
    {
     "name": "stderr",
     "output_type": "stream",
     "text": [
      " 69%|██████▉   | 1495/2158 [00:56<00:25, 26.40it/s]"
     ]
    },
    {
     "name": "stdout",
     "output_type": "stream",
     "text": [
      "\n",
      "0: 384x640 1 Armaduro, 32.7ms\n",
      "Speed: 0.6ms preprocess, 32.7ms inference, 0.9ms postprocess per image at shape (1, 3, 384, 640)\n",
      "\n",
      "0: 384x640 1 Armaduro, 32.7ms\n",
      "Speed: 0.6ms preprocess, 32.7ms inference, 1.2ms postprocess per image at shape (1, 3, 384, 640)\n",
      "\n",
      "0: 384x640 (no detections), 32.6ms\n",
      "Speed: 0.5ms preprocess, 32.6ms inference, 0.5ms postprocess per image at shape (1, 3, 384, 640)\n"
     ]
    },
    {
     "name": "stderr",
     "output_type": "stream",
     "text": [
      " 69%|██████▉   | 1498/2158 [00:56<00:25, 26.33it/s]"
     ]
    },
    {
     "name": "stdout",
     "output_type": "stream",
     "text": [
      "\n",
      "0: 384x640 1 Armaduro, 32.7ms\n",
      "Speed: 0.6ms preprocess, 32.7ms inference, 1.1ms postprocess per image at shape (1, 3, 384, 640)\n",
      "\n",
      "0: 384x640 1 Armaduro, 32.6ms\n",
      "Speed: 0.6ms preprocess, 32.6ms inference, 1.8ms postprocess per image at shape (1, 3, 384, 640)\n",
      "\n",
      "0: 384x640 1 Armaduro, 32.7ms\n",
      "Speed: 0.5ms preprocess, 32.7ms inference, 1.0ms postprocess per image at shape (1, 3, 384, 640)\n"
     ]
    },
    {
     "name": "stderr",
     "output_type": "stream",
     "text": [
      " 70%|██████▉   | 1501/2158 [00:56<00:25, 26.17it/s]"
     ]
    },
    {
     "name": "stdout",
     "output_type": "stream",
     "text": [
      "\n",
      "0: 384x640 1 Armaduro, 32.4ms\n",
      "Speed: 0.6ms preprocess, 32.4ms inference, 1.0ms postprocess per image at shape (1, 3, 384, 640)\n",
      "\n",
      "0: 384x640 (no detections), 32.5ms\n",
      "Speed: 0.5ms preprocess, 32.5ms inference, 0.7ms postprocess per image at shape (1, 3, 384, 640)\n",
      "\n",
      "0: 384x640 (no detections), 32.5ms\n",
      "Speed: 0.6ms preprocess, 32.5ms inference, 0.5ms postprocess per image at shape (1, 3, 384, 640)\n"
     ]
    },
    {
     "name": "stderr",
     "output_type": "stream",
     "text": [
      " 70%|██████▉   | 1504/2158 [00:56<00:24, 26.36it/s]"
     ]
    },
    {
     "name": "stdout",
     "output_type": "stream",
     "text": [
      "\n",
      "0: 384x640 (no detections), 32.5ms\n",
      "Speed: 0.5ms preprocess, 32.5ms inference, 0.8ms postprocess per image at shape (1, 3, 384, 640)\n",
      "\n",
      "0: 384x640 (no detections), 32.4ms\n",
      "Speed: 0.7ms preprocess, 32.4ms inference, 0.6ms postprocess per image at shape (1, 3, 384, 640)\n",
      "\n",
      "0: 384x640 (no detections), 32.5ms\n",
      "Speed: 0.7ms preprocess, 32.5ms inference, 0.7ms postprocess per image at shape (1, 3, 384, 640)\n"
     ]
    },
    {
     "name": "stderr",
     "output_type": "stream",
     "text": [
      " 70%|██████▉   | 1507/2158 [00:56<00:24, 26.40it/s]"
     ]
    },
    {
     "name": "stdout",
     "output_type": "stream",
     "text": [
      "\n",
      "0: 384x640 (no detections), 32.5ms\n",
      "Speed: 0.6ms preprocess, 32.5ms inference, 0.7ms postprocess per image at shape (1, 3, 384, 640)\n",
      "\n",
      "0: 384x640 (no detections), 32.4ms\n",
      "Speed: 0.6ms preprocess, 32.4ms inference, 0.5ms postprocess per image at shape (1, 3, 384, 640)\n",
      "\n",
      "0: 384x640 (no detections), 32.6ms\n",
      "Speed: 0.7ms preprocess, 32.6ms inference, 0.5ms postprocess per image at shape (1, 3, 384, 640)\n"
     ]
    },
    {
     "name": "stderr",
     "output_type": "stream",
     "text": [
      " 70%|██████▉   | 1510/2158 [00:56<00:24, 26.53it/s]"
     ]
    },
    {
     "name": "stdout",
     "output_type": "stream",
     "text": [
      "\n",
      "0: 384x640 (no detections), 32.6ms\n",
      "Speed: 0.5ms preprocess, 32.6ms inference, 0.6ms postprocess per image at shape (1, 3, 384, 640)\n",
      "\n",
      "0: 384x640 (no detections), 32.7ms\n",
      "Speed: 0.6ms preprocess, 32.7ms inference, 0.5ms postprocess per image at shape (1, 3, 384, 640)\n",
      "\n",
      "0: 384x640 (no detections), 32.7ms\n",
      "Speed: 0.6ms preprocess, 32.7ms inference, 0.5ms postprocess per image at shape (1, 3, 384, 640)\n"
     ]
    },
    {
     "name": "stderr",
     "output_type": "stream",
     "text": [
      " 70%|███████   | 1513/2158 [00:56<00:24, 26.65it/s]"
     ]
    },
    {
     "name": "stdout",
     "output_type": "stream",
     "text": [
      "\n",
      "0: 384x640 (no detections), 32.4ms\n",
      "Speed: 0.7ms preprocess, 32.4ms inference, 0.7ms postprocess per image at shape (1, 3, 384, 640)\n",
      "\n",
      "0: 384x640 (no detections), 32.5ms\n",
      "Speed: 0.5ms preprocess, 32.5ms inference, 0.5ms postprocess per image at shape (1, 3, 384, 640)\n",
      "\n",
      "0: 384x640 (no detections), 32.5ms\n",
      "Speed: 0.6ms preprocess, 32.5ms inference, 0.5ms postprocess per image at shape (1, 3, 384, 640)\n"
     ]
    },
    {
     "name": "stderr",
     "output_type": "stream",
     "text": [
      " 70%|███████   | 1516/2158 [00:56<00:23, 26.75it/s]"
     ]
    },
    {
     "name": "stdout",
     "output_type": "stream",
     "text": [
      "\n",
      "0: 384x640 (no detections), 32.4ms\n",
      "Speed: 0.6ms preprocess, 32.4ms inference, 0.5ms postprocess per image at shape (1, 3, 384, 640)\n",
      "\n",
      "0: 384x640 (no detections), 32.5ms\n",
      "Speed: 0.6ms preprocess, 32.5ms inference, 0.5ms postprocess per image at shape (1, 3, 384, 640)\n",
      "\n",
      "0: 384x640 (no detections), 32.4ms\n",
      "Speed: 0.7ms preprocess, 32.4ms inference, 0.5ms postprocess per image at shape (1, 3, 384, 640)\n"
     ]
    },
    {
     "name": "stderr",
     "output_type": "stream",
     "text": [
      " 70%|███████   | 1519/2158 [00:57<00:23, 26.88it/s]"
     ]
    },
    {
     "name": "stdout",
     "output_type": "stream",
     "text": [
      "\n",
      "0: 384x640 (no detections), 32.6ms\n",
      "Speed: 0.5ms preprocess, 32.6ms inference, 0.7ms postprocess per image at shape (1, 3, 384, 640)\n",
      "\n",
      "0: 384x640 (no detections), 32.6ms\n",
      "Speed: 0.6ms preprocess, 32.6ms inference, 0.5ms postprocess per image at shape (1, 3, 384, 640)\n",
      "\n",
      "0: 384x640 (no detections), 32.5ms\n",
      "Speed: 0.5ms preprocess, 32.5ms inference, 0.5ms postprocess per image at shape (1, 3, 384, 640)\n"
     ]
    },
    {
     "name": "stderr",
     "output_type": "stream",
     "text": [
      " 71%|███████   | 1522/2158 [00:57<00:23, 26.92it/s]"
     ]
    },
    {
     "name": "stdout",
     "output_type": "stream",
     "text": [
      "\n",
      "0: 384x640 (no detections), 32.3ms\n",
      "Speed: 0.6ms preprocess, 32.3ms inference, 0.7ms postprocess per image at shape (1, 3, 384, 640)\n",
      "\n",
      "0: 384x640 (no detections), 32.6ms\n",
      "Speed: 0.6ms preprocess, 32.6ms inference, 0.5ms postprocess per image at shape (1, 3, 384, 640)\n",
      "\n",
      "0: 384x640 1 Armaduro, 32.6ms\n",
      "Speed: 0.6ms preprocess, 32.6ms inference, 1.0ms postprocess per image at shape (1, 3, 384, 640)\n"
     ]
    },
    {
     "name": "stderr",
     "output_type": "stream",
     "text": [
      " 71%|███████   | 1525/2158 [00:57<00:23, 26.83it/s]"
     ]
    },
    {
     "name": "stdout",
     "output_type": "stream",
     "text": [
      "\n",
      "0: 384x640 1 Armaduro, 32.7ms\n",
      "Speed: 0.8ms preprocess, 32.7ms inference, 1.0ms postprocess per image at shape (1, 3, 384, 640)\n",
      "\n",
      "0: 384x640 (no detections), 32.3ms\n",
      "Speed: 0.8ms preprocess, 32.3ms inference, 0.5ms postprocess per image at shape (1, 3, 384, 640)\n",
      "\n",
      "0: 384x640 (no detections), 32.5ms\n",
      "Speed: 0.6ms preprocess, 32.5ms inference, 0.5ms postprocess per image at shape (1, 3, 384, 640)\n"
     ]
    },
    {
     "name": "stderr",
     "output_type": "stream",
     "text": [
      " 71%|███████   | 1528/2158 [00:57<00:23, 26.78it/s]"
     ]
    },
    {
     "name": "stdout",
     "output_type": "stream",
     "text": [
      "\n",
      "0: 384x640 1 Armaduro, 32.5ms\n",
      "Speed: 0.6ms preprocess, 32.5ms inference, 1.2ms postprocess per image at shape (1, 3, 384, 640)\n",
      "\n",
      "0: 384x640 1 Armaduro, 32.5ms\n",
      "Speed: 0.5ms preprocess, 32.5ms inference, 1.8ms postprocess per image at shape (1, 3, 384, 640)\n",
      "\n",
      "0: 384x640 1 Armaduro, 32.5ms\n",
      "Speed: 0.6ms preprocess, 32.5ms inference, 1.0ms postprocess per image at shape (1, 3, 384, 640)\n"
     ]
    },
    {
     "name": "stderr",
     "output_type": "stream",
     "text": [
      " 71%|███████   | 1531/2158 [00:57<00:23, 26.51it/s]"
     ]
    },
    {
     "name": "stdout",
     "output_type": "stream",
     "text": [
      "\n",
      "0: 384x640 1 Armaduro, 32.7ms\n",
      "Speed: 0.6ms preprocess, 32.7ms inference, 1.0ms postprocess per image at shape (1, 3, 384, 640)\n",
      "\n",
      "0: 384x640 (no detections), 32.6ms\n",
      "Speed: 0.5ms preprocess, 32.6ms inference, 0.5ms postprocess per image at shape (1, 3, 384, 640)\n",
      "\n",
      "0: 384x640 (no detections), 32.5ms\n",
      "Speed: 0.5ms preprocess, 32.5ms inference, 0.6ms postprocess per image at shape (1, 3, 384, 640)\n"
     ]
    },
    {
     "name": "stderr",
     "output_type": "stream",
     "text": [
      " 71%|███████   | 1534/2158 [00:57<00:23, 26.57it/s]"
     ]
    },
    {
     "name": "stdout",
     "output_type": "stream",
     "text": [
      "\n",
      "0: 384x640 (no detections), 32.5ms\n",
      "Speed: 0.6ms preprocess, 32.5ms inference, 0.5ms postprocess per image at shape (1, 3, 384, 640)\n",
      "\n",
      "0: 384x640 (no detections), 32.5ms\n",
      "Speed: 0.6ms preprocess, 32.5ms inference, 0.7ms postprocess per image at shape (1, 3, 384, 640)\n",
      "\n",
      "0: 384x640 (no detections), 32.6ms\n",
      "Speed: 0.5ms preprocess, 32.6ms inference, 0.5ms postprocess per image at shape (1, 3, 384, 640)\n"
     ]
    },
    {
     "name": "stderr",
     "output_type": "stream",
     "text": [
      " 71%|███████   | 1537/2158 [00:57<00:23, 26.61it/s]"
     ]
    },
    {
     "name": "stdout",
     "output_type": "stream",
     "text": [
      "\n",
      "0: 384x640 (no detections), 32.3ms\n",
      "Speed: 0.6ms preprocess, 32.3ms inference, 0.5ms postprocess per image at shape (1, 3, 384, 640)\n",
      "\n",
      "0: 384x640 (no detections), 32.6ms\n",
      "Speed: 0.7ms preprocess, 32.6ms inference, 0.5ms postprocess per image at shape (1, 3, 384, 640)\n",
      "\n",
      "0: 384x640 (no detections), 32.6ms\n",
      "Speed: 0.6ms preprocess, 32.6ms inference, 0.5ms postprocess per image at shape (1, 3, 384, 640)\n"
     ]
    },
    {
     "name": "stderr",
     "output_type": "stream",
     "text": [
      " 71%|███████▏  | 1540/2158 [00:57<00:23, 26.73it/s]"
     ]
    },
    {
     "name": "stdout",
     "output_type": "stream",
     "text": [
      "\n",
      "0: 384x640 (no detections), 32.5ms\n",
      "Speed: 0.6ms preprocess, 32.5ms inference, 0.8ms postprocess per image at shape (1, 3, 384, 640)\n",
      "\n",
      "0: 384x640 (no detections), 32.5ms\n",
      "Speed: 0.6ms preprocess, 32.5ms inference, 0.5ms postprocess per image at shape (1, 3, 384, 640)\n",
      "\n",
      "0: 384x640 (no detections), 32.6ms\n",
      "Speed: 0.5ms preprocess, 32.6ms inference, 0.5ms postprocess per image at shape (1, 3, 384, 640)\n"
     ]
    },
    {
     "name": "stderr",
     "output_type": "stream",
     "text": [
      " 72%|███████▏  | 1543/2158 [00:57<00:22, 26.84it/s]"
     ]
    },
    {
     "name": "stdout",
     "output_type": "stream",
     "text": [
      "\n",
      "0: 384x640 (no detections), 32.6ms\n",
      "Speed: 0.6ms preprocess, 32.6ms inference, 0.5ms postprocess per image at shape (1, 3, 384, 640)\n",
      "\n",
      "0: 384x640 (no detections), 32.4ms\n",
      "Speed: 0.6ms preprocess, 32.4ms inference, 0.7ms postprocess per image at shape (1, 3, 384, 640)\n",
      "\n",
      "0: 384x640 (no detections), 32.6ms\n",
      "Speed: 0.6ms preprocess, 32.6ms inference, 0.4ms postprocess per image at shape (1, 3, 384, 640)\n"
     ]
    },
    {
     "name": "stderr",
     "output_type": "stream",
     "text": [
      " 72%|███████▏  | 1546/2158 [00:58<00:22, 26.89it/s]"
     ]
    },
    {
     "name": "stdout",
     "output_type": "stream",
     "text": [
      "\n",
      "0: 384x640 (no detections), 32.5ms\n",
      "Speed: 0.5ms preprocess, 32.5ms inference, 0.7ms postprocess per image at shape (1, 3, 384, 640)\n",
      "\n",
      "0: 384x640 1 Armaduro, 32.4ms\n",
      "Speed: 0.7ms preprocess, 32.4ms inference, 1.7ms postprocess per image at shape (1, 3, 384, 640)\n",
      "\n",
      "0: 384x640 1 Armaduro, 32.5ms\n",
      "Speed: 0.6ms preprocess, 32.5ms inference, 1.7ms postprocess per image at shape (1, 3, 384, 640)\n"
     ]
    },
    {
     "name": "stderr",
     "output_type": "stream",
     "text": [
      " 72%|███████▏  | 1549/2158 [00:58<00:22, 26.59it/s]"
     ]
    },
    {
     "name": "stdout",
     "output_type": "stream",
     "text": [
      "\n",
      "0: 384x640 (no detections), 32.5ms\n",
      "Speed: 0.6ms preprocess, 32.5ms inference, 0.7ms postprocess per image at shape (1, 3, 384, 640)\n",
      "\n",
      "0: 384x640 1 Armaduro, 32.4ms\n",
      "Speed: 0.6ms preprocess, 32.4ms inference, 0.9ms postprocess per image at shape (1, 3, 384, 640)\n",
      "\n",
      "0: 384x640 1 Armaduro, 32.4ms\n",
      "Speed: 0.6ms preprocess, 32.4ms inference, 0.9ms postprocess per image at shape (1, 3, 384, 640)\n"
     ]
    },
    {
     "name": "stderr",
     "output_type": "stream",
     "text": [
      " 72%|███████▏  | 1552/2158 [00:58<00:22, 26.58it/s]"
     ]
    },
    {
     "name": "stdout",
     "output_type": "stream",
     "text": [
      "\n",
      "0: 384x640 1 Armaduro, 32.3ms\n",
      "Speed: 0.7ms preprocess, 32.3ms inference, 1.2ms postprocess per image at shape (1, 3, 384, 640)\n",
      "\n",
      "0: 384x640 1 Armaduro, 32.5ms\n",
      "Speed: 0.7ms preprocess, 32.5ms inference, 0.9ms postprocess per image at shape (1, 3, 384, 640)\n",
      "\n",
      "0: 384x640 1 Armaduro, 32.5ms\n",
      "Speed: 0.6ms preprocess, 32.5ms inference, 1.7ms postprocess per image at shape (1, 3, 384, 640)\n"
     ]
    },
    {
     "name": "stderr",
     "output_type": "stream",
     "text": [
      " 72%|███████▏  | 1555/2158 [00:58<00:22, 26.42it/s]"
     ]
    },
    {
     "name": "stdout",
     "output_type": "stream",
     "text": [
      "\n",
      "0: 384x640 (no detections), 32.6ms\n",
      "Speed: 0.6ms preprocess, 32.6ms inference, 0.7ms postprocess per image at shape (1, 3, 384, 640)\n",
      "\n",
      "0: 384x640 (no detections), 32.4ms\n",
      "Speed: 0.6ms preprocess, 32.4ms inference, 0.5ms postprocess per image at shape (1, 3, 384, 640)\n",
      "\n",
      "0: 384x640 1 Armaduro, 32.5ms\n",
      "Speed: 0.6ms preprocess, 32.5ms inference, 0.9ms postprocess per image at shape (1, 3, 384, 640)\n"
     ]
    },
    {
     "name": "stderr",
     "output_type": "stream",
     "text": [
      " 72%|███████▏  | 1558/2158 [00:58<00:22, 26.51it/s]"
     ]
    },
    {
     "name": "stdout",
     "output_type": "stream",
     "text": [
      "\n",
      "0: 384x640 1 Armaduro, 32.5ms\n",
      "Speed: 0.6ms preprocess, 32.5ms inference, 0.9ms postprocess per image at shape (1, 3, 384, 640)\n",
      "\n",
      "0: 384x640 1 Armaduro, 32.5ms\n",
      "Speed: 0.5ms preprocess, 32.5ms inference, 1.8ms postprocess per image at shape (1, 3, 384, 640)\n",
      "\n",
      "0: 384x640 1 Armaduro, 32.5ms\n",
      "Speed: 0.6ms preprocess, 32.5ms inference, 1.7ms postprocess per image at shape (1, 3, 384, 640)\n"
     ]
    },
    {
     "name": "stderr",
     "output_type": "stream",
     "text": [
      " 72%|███████▏  | 1561/2158 [00:58<00:22, 26.29it/s]"
     ]
    },
    {
     "name": "stdout",
     "output_type": "stream",
     "text": [
      "\n",
      "0: 384x640 1 Armaduro, 32.6ms\n",
      "Speed: 0.5ms preprocess, 32.6ms inference, 1.8ms postprocess per image at shape (1, 3, 384, 640)\n",
      "\n",
      "0: 384x640 (no detections), 32.5ms\n",
      "Speed: 0.6ms preprocess, 32.5ms inference, 0.9ms postprocess per image at shape (1, 3, 384, 640)\n",
      "\n",
      "0: 384x640 (no detections), 32.4ms\n",
      "Speed: 0.7ms preprocess, 32.4ms inference, 0.5ms postprocess per image at shape (1, 3, 384, 640)\n"
     ]
    },
    {
     "name": "stderr",
     "output_type": "stream",
     "text": [
      " 72%|███████▏  | 1564/2158 [00:58<00:22, 26.36it/s]"
     ]
    },
    {
     "name": "stdout",
     "output_type": "stream",
     "text": [
      "\n",
      "0: 384x640 (no detections), 32.5ms\n",
      "Speed: 0.6ms preprocess, 32.5ms inference, 0.5ms postprocess per image at shape (1, 3, 384, 640)\n",
      "\n",
      "0: 384x640 (no detections), 32.5ms\n",
      "Speed: 0.6ms preprocess, 32.5ms inference, 0.5ms postprocess per image at shape (1, 3, 384, 640)\n",
      "\n",
      "0: 384x640 (no detections), 32.6ms\n",
      "Speed: 0.5ms preprocess, 32.6ms inference, 0.7ms postprocess per image at shape (1, 3, 384, 640)\n"
     ]
    },
    {
     "name": "stderr",
     "output_type": "stream",
     "text": [
      " 73%|███████▎  | 1567/2158 [00:58<00:22, 26.41it/s]"
     ]
    },
    {
     "name": "stdout",
     "output_type": "stream",
     "text": [
      "\n",
      "0: 384x640 (no detections), 32.5ms\n",
      "Speed: 0.6ms preprocess, 32.5ms inference, 0.7ms postprocess per image at shape (1, 3, 384, 640)\n",
      "\n",
      "0: 384x640 (no detections), 32.5ms\n",
      "Speed: 0.6ms preprocess, 32.5ms inference, 0.5ms postprocess per image at shape (1, 3, 384, 640)\n",
      "\n",
      "0: 384x640 (no detections), 32.5ms\n",
      "Speed: 0.6ms preprocess, 32.5ms inference, 0.4ms postprocess per image at shape (1, 3, 384, 640)\n"
     ]
    },
    {
     "name": "stderr",
     "output_type": "stream",
     "text": [
      " 73%|███████▎  | 1570/2158 [00:58<00:22, 26.60it/s]"
     ]
    },
    {
     "name": "stdout",
     "output_type": "stream",
     "text": [
      "\n",
      "0: 384x640 (no detections), 32.4ms\n",
      "Speed: 0.6ms preprocess, 32.4ms inference, 0.5ms postprocess per image at shape (1, 3, 384, 640)\n",
      "\n",
      "0: 384x640 (no detections), 32.5ms\n",
      "Speed: 0.6ms preprocess, 32.5ms inference, 0.8ms postprocess per image at shape (1, 3, 384, 640)\n",
      "\n",
      "0: 384x640 (no detections), 32.5ms\n",
      "Speed: 0.6ms preprocess, 32.5ms inference, 0.5ms postprocess per image at shape (1, 3, 384, 640)\n"
     ]
    },
    {
     "name": "stderr",
     "output_type": "stream",
     "text": [
      " 73%|███████▎  | 1573/2158 [00:59<00:21, 26.70it/s]"
     ]
    },
    {
     "name": "stdout",
     "output_type": "stream",
     "text": [
      "\n",
      "0: 384x640 (no detections), 32.5ms\n",
      "Speed: 0.6ms preprocess, 32.5ms inference, 0.5ms postprocess per image at shape (1, 3, 384, 640)\n",
      "\n",
      "0: 384x640 (no detections), 32.6ms\n",
      "Speed: 0.6ms preprocess, 32.6ms inference, 0.5ms postprocess per image at shape (1, 3, 384, 640)\n",
      "\n",
      "0: 384x640 (no detections), 32.8ms\n",
      "Speed: 0.6ms preprocess, 32.8ms inference, 0.5ms postprocess per image at shape (1, 3, 384, 640)\n"
     ]
    },
    {
     "name": "stderr",
     "output_type": "stream",
     "text": [
      " 73%|███████▎  | 1576/2158 [00:59<00:21, 26.80it/s]"
     ]
    },
    {
     "name": "stdout",
     "output_type": "stream",
     "text": [
      "\n",
      "0: 384x640 (no detections), 32.5ms\n",
      "Speed: 0.7ms preprocess, 32.5ms inference, 0.5ms postprocess per image at shape (1, 3, 384, 640)\n",
      "\n",
      "0: 384x640 (no detections), 32.5ms\n",
      "Speed: 0.6ms preprocess, 32.5ms inference, 0.4ms postprocess per image at shape (1, 3, 384, 640)\n",
      "\n",
      "0: 384x640 (no detections), 32.6ms\n",
      "Speed: 0.6ms preprocess, 32.6ms inference, 0.5ms postprocess per image at shape (1, 3, 384, 640)\n"
     ]
    },
    {
     "name": "stderr",
     "output_type": "stream",
     "text": [
      " 73%|███████▎  | 1579/2158 [00:59<00:21, 26.93it/s]"
     ]
    },
    {
     "name": "stdout",
     "output_type": "stream",
     "text": [
      "\n",
      "0: 384x640 (no detections), 32.6ms\n",
      "Speed: 0.5ms preprocess, 32.6ms inference, 0.5ms postprocess per image at shape (1, 3, 384, 640)\n",
      "\n",
      "0: 384x640 (no detections), 32.7ms\n",
      "Speed: 0.6ms preprocess, 32.7ms inference, 0.6ms postprocess per image at shape (1, 3, 384, 640)\n",
      "\n",
      "0: 384x640 1 Armaduro, 32.6ms\n",
      "Speed: 0.5ms preprocess, 32.6ms inference, 1.0ms postprocess per image at shape (1, 3, 384, 640)\n"
     ]
    },
    {
     "name": "stderr",
     "output_type": "stream",
     "text": [
      " 73%|███████▎  | 1582/2158 [00:59<00:21, 26.91it/s]"
     ]
    },
    {
     "name": "stdout",
     "output_type": "stream",
     "text": [
      "\n",
      "0: 384x640 1 Armaduro, 32.6ms\n",
      "Speed: 0.5ms preprocess, 32.6ms inference, 1.0ms postprocess per image at shape (1, 3, 384, 640)\n",
      "\n",
      "0: 384x640 1 Armaduro, 32.6ms\n",
      "Speed: 0.5ms preprocess, 32.6ms inference, 0.9ms postprocess per image at shape (1, 3, 384, 640)\n",
      "\n",
      "0: 384x640 1 Armaduro, 32.7ms\n",
      "Speed: 0.6ms preprocess, 32.7ms inference, 0.9ms postprocess per image at shape (1, 3, 384, 640)\n"
     ]
    },
    {
     "name": "stderr",
     "output_type": "stream",
     "text": [
      " 73%|███████▎  | 1585/2158 [00:59<00:21, 26.73it/s]"
     ]
    },
    {
     "name": "stdout",
     "output_type": "stream",
     "text": [
      "\n",
      "0: 384x640 (no detections), 32.8ms\n",
      "Speed: 0.5ms preprocess, 32.8ms inference, 0.7ms postprocess per image at shape (1, 3, 384, 640)\n",
      "\n",
      "0: 384x640 1 Armaduro, 32.6ms\n",
      "Speed: 0.6ms preprocess, 32.6ms inference, 1.7ms postprocess per image at shape (1, 3, 384, 640)\n",
      "\n",
      "0: 384x640 1 Armaduro, 32.7ms\n",
      "Speed: 0.6ms preprocess, 32.7ms inference, 0.9ms postprocess per image at shape (1, 3, 384, 640)\n"
     ]
    },
    {
     "name": "stderr",
     "output_type": "stream",
     "text": [
      " 74%|███████▎  | 1588/2158 [00:59<00:21, 26.55it/s]"
     ]
    },
    {
     "name": "stdout",
     "output_type": "stream",
     "text": [
      "\n",
      "0: 384x640 1 Armaduro, 32.7ms\n",
      "Speed: 0.6ms preprocess, 32.7ms inference, 1.7ms postprocess per image at shape (1, 3, 384, 640)\n",
      "\n",
      "0: 384x640 1 Armaduro, 32.7ms\n",
      "Speed: 0.6ms preprocess, 32.7ms inference, 1.7ms postprocess per image at shape (1, 3, 384, 640)\n",
      "\n",
      "0: 384x640 1 Armaduro, 32.7ms\n",
      "Speed: 0.6ms preprocess, 32.7ms inference, 0.9ms postprocess per image at shape (1, 3, 384, 640)\n"
     ]
    },
    {
     "name": "stderr",
     "output_type": "stream",
     "text": [
      " 74%|███████▎  | 1591/2158 [00:59<00:21, 26.28it/s]"
     ]
    },
    {
     "name": "stdout",
     "output_type": "stream",
     "text": [
      "\n",
      "0: 384x640 1 Armaduro, 32.4ms\n",
      "Speed: 0.6ms preprocess, 32.4ms inference, 2.1ms postprocess per image at shape (1, 3, 384, 640)\n",
      "\n",
      "0: 384x640 1 Armaduro, 32.7ms\n",
      "Speed: 0.7ms preprocess, 32.7ms inference, 1.8ms postprocess per image at shape (1, 3, 384, 640)\n",
      "\n",
      "0: 384x640 (no detections), 32.4ms\n",
      "Speed: 0.7ms preprocess, 32.4ms inference, 0.9ms postprocess per image at shape (1, 3, 384, 640)\n"
     ]
    },
    {
     "name": "stderr",
     "output_type": "stream",
     "text": [
      " 74%|███████▍  | 1594/2158 [00:59<00:21, 26.06it/s]"
     ]
    },
    {
     "name": "stdout",
     "output_type": "stream",
     "text": [
      "\n",
      "0: 384x640 (no detections), 32.6ms\n",
      "Speed: 0.5ms preprocess, 32.6ms inference, 0.5ms postprocess per image at shape (1, 3, 384, 640)\n",
      "\n",
      "0: 384x640 (no detections), 32.6ms\n",
      "Speed: 0.5ms preprocess, 32.6ms inference, 0.7ms postprocess per image at shape (1, 3, 384, 640)\n",
      "\n",
      "0: 384x640 (no detections), 32.6ms\n",
      "Speed: 0.5ms preprocess, 32.6ms inference, 0.4ms postprocess per image at shape (1, 3, 384, 640)\n"
     ]
    },
    {
     "name": "stderr",
     "output_type": "stream",
     "text": [
      " 74%|███████▍  | 1597/2158 [00:59<00:21, 26.31it/s]"
     ]
    },
    {
     "name": "stdout",
     "output_type": "stream",
     "text": [
      "\n",
      "0: 384x640 (no detections), 33.0ms\n",
      "Speed: 0.7ms preprocess, 33.0ms inference, 0.6ms postprocess per image at shape (1, 3, 384, 640)\n",
      "\n",
      "0: 384x640 (no detections), 32.6ms\n",
      "Speed: 0.7ms preprocess, 32.6ms inference, 0.5ms postprocess per image at shape (1, 3, 384, 640)\n",
      "\n",
      "0: 384x640 (no detections), 32.6ms\n",
      "Speed: 0.6ms preprocess, 32.6ms inference, 0.5ms postprocess per image at shape (1, 3, 384, 640)\n"
     ]
    },
    {
     "name": "stderr",
     "output_type": "stream",
     "text": [
      " 74%|███████▍  | 1600/2158 [01:00<00:21, 26.41it/s]"
     ]
    },
    {
     "name": "stdout",
     "output_type": "stream",
     "text": [
      "\n",
      "0: 384x640 (no detections), 32.7ms\n",
      "Speed: 0.6ms preprocess, 32.7ms inference, 0.5ms postprocess per image at shape (1, 3, 384, 640)\n",
      "\n",
      "0: 384x640 (no detections), 32.6ms\n",
      "Speed: 0.6ms preprocess, 32.6ms inference, 0.5ms postprocess per image at shape (1, 3, 384, 640)\n",
      "\n",
      "0: 384x640 (no detections), 32.6ms\n",
      "Speed: 0.6ms preprocess, 32.6ms inference, 0.5ms postprocess per image at shape (1, 3, 384, 640)\n"
     ]
    },
    {
     "name": "stderr",
     "output_type": "stream",
     "text": [
      " 74%|███████▍  | 1603/2158 [01:00<00:20, 26.47it/s]"
     ]
    },
    {
     "name": "stdout",
     "output_type": "stream",
     "text": [
      "\n",
      "0: 384x640 (no detections), 32.7ms\n",
      "Speed: 0.5ms preprocess, 32.7ms inference, 0.5ms postprocess per image at shape (1, 3, 384, 640)\n",
      "\n",
      "0: 384x640 (no detections), 32.6ms\n",
      "Speed: 0.6ms preprocess, 32.6ms inference, 0.7ms postprocess per image at shape (1, 3, 384, 640)\n",
      "\n",
      "0: 384x640 (no detections), 32.6ms\n",
      "Speed: 0.5ms preprocess, 32.6ms inference, 0.6ms postprocess per image at shape (1, 3, 384, 640)\n"
     ]
    },
    {
     "name": "stderr",
     "output_type": "stream",
     "text": [
      " 74%|███████▍  | 1606/2158 [01:00<00:20, 26.56it/s]"
     ]
    },
    {
     "name": "stdout",
     "output_type": "stream",
     "text": [
      "\n",
      "0: 384x640 (no detections), 32.7ms\n",
      "Speed: 0.6ms preprocess, 32.7ms inference, 0.5ms postprocess per image at shape (1, 3, 384, 640)\n",
      "\n",
      "0: 384x640 (no detections), 32.6ms\n",
      "Speed: 0.6ms preprocess, 32.6ms inference, 0.5ms postprocess per image at shape (1, 3, 384, 640)\n",
      "\n",
      "0: 384x640 (no detections), 32.7ms\n",
      "Speed: 0.5ms preprocess, 32.7ms inference, 0.4ms postprocess per image at shape (1, 3, 384, 640)\n"
     ]
    },
    {
     "name": "stderr",
     "output_type": "stream",
     "text": [
      " 75%|███████▍  | 1609/2158 [01:00<00:20, 26.61it/s]"
     ]
    },
    {
     "name": "stdout",
     "output_type": "stream",
     "text": [
      "\n",
      "0: 384x640 (no detections), 32.5ms\n",
      "Speed: 0.7ms preprocess, 32.5ms inference, 0.5ms postprocess per image at shape (1, 3, 384, 640)\n",
      "\n",
      "0: 384x640 (no detections), 32.6ms\n",
      "Speed: 0.6ms preprocess, 32.6ms inference, 0.5ms postprocess per image at shape (1, 3, 384, 640)\n",
      "\n",
      "0: 384x640 (no detections), 32.6ms\n",
      "Speed: 0.5ms preprocess, 32.6ms inference, 0.5ms postprocess per image at shape (1, 3, 384, 640)\n"
     ]
    },
    {
     "name": "stderr",
     "output_type": "stream",
     "text": [
      " 75%|███████▍  | 1612/2158 [01:00<00:20, 26.71it/s]"
     ]
    },
    {
     "name": "stdout",
     "output_type": "stream",
     "text": [
      "\n",
      "0: 384x640 (no detections), 32.6ms\n",
      "Speed: 0.6ms preprocess, 32.6ms inference, 0.5ms postprocess per image at shape (1, 3, 384, 640)\n",
      "\n",
      "0: 384x640 (no detections), 32.6ms\n",
      "Speed: 0.6ms preprocess, 32.6ms inference, 0.5ms postprocess per image at shape (1, 3, 384, 640)\n",
      "\n",
      "0: 384x640 (no detections), 32.7ms\n",
      "Speed: 0.7ms preprocess, 32.7ms inference, 0.5ms postprocess per image at shape (1, 3, 384, 640)\n"
     ]
    },
    {
     "name": "stderr",
     "output_type": "stream",
     "text": [
      " 75%|███████▍  | 1615/2158 [01:00<00:20, 26.77it/s]"
     ]
    },
    {
     "name": "stdout",
     "output_type": "stream",
     "text": [
      "\n",
      "0: 384x640 (no detections), 32.6ms\n",
      "Speed: 0.5ms preprocess, 32.6ms inference, 0.5ms postprocess per image at shape (1, 3, 384, 640)\n",
      "\n",
      "0: 384x640 1 Armaduro, 32.6ms\n",
      "Speed: 0.6ms preprocess, 32.6ms inference, 0.9ms postprocess per image at shape (1, 3, 384, 640)\n",
      "\n",
      "0: 384x640 1 Armaduro, 32.7ms\n",
      "Speed: 0.5ms preprocess, 32.7ms inference, 1.0ms postprocess per image at shape (1, 3, 384, 640)\n"
     ]
    },
    {
     "name": "stderr",
     "output_type": "stream",
     "text": [
      " 75%|███████▍  | 1618/2158 [01:00<00:20, 26.71it/s]"
     ]
    },
    {
     "name": "stdout",
     "output_type": "stream",
     "text": [
      "\n",
      "0: 384x640 1 Armaduro, 32.4ms\n",
      "Speed: 0.6ms preprocess, 32.4ms inference, 1.0ms postprocess per image at shape (1, 3, 384, 640)\n",
      "\n",
      "0: 384x640 1 Armaduro, 32.7ms\n",
      "Speed: 0.5ms preprocess, 32.7ms inference, 1.1ms postprocess per image at shape (1, 3, 384, 640)\n",
      "\n",
      "0: 384x640 1 Armaduro, 32.6ms\n",
      "Speed: 0.5ms preprocess, 32.6ms inference, 0.9ms postprocess per image at shape (1, 3, 384, 640)\n"
     ]
    },
    {
     "name": "stderr",
     "output_type": "stream",
     "text": [
      " 75%|███████▌  | 1621/2158 [01:00<00:20, 26.50it/s]"
     ]
    },
    {
     "name": "stdout",
     "output_type": "stream",
     "text": [
      "\n",
      "0: 384x640 (no detections), 32.4ms\n",
      "Speed: 0.7ms preprocess, 32.4ms inference, 0.5ms postprocess per image at shape (1, 3, 384, 640)\n",
      "\n",
      "0: 384x640 1 Armaduro, 32.7ms\n",
      "Speed: 0.6ms preprocess, 32.7ms inference, 1.0ms postprocess per image at shape (1, 3, 384, 640)\n",
      "\n",
      "0: 384x640 (no detections), 32.6ms\n",
      "Speed: 0.5ms preprocess, 32.6ms inference, 0.5ms postprocess per image at shape (1, 3, 384, 640)\n"
     ]
    },
    {
     "name": "stderr",
     "output_type": "stream",
     "text": [
      " 75%|███████▌  | 1624/2158 [01:00<00:20, 26.58it/s]"
     ]
    },
    {
     "name": "stdout",
     "output_type": "stream",
     "text": [
      "\n",
      "0: 384x640 (no detections), 32.7ms\n",
      "Speed: 0.5ms preprocess, 32.7ms inference, 0.7ms postprocess per image at shape (1, 3, 384, 640)\n",
      "\n",
      "0: 384x640 1 Armaduro, 32.7ms\n",
      "Speed: 0.6ms preprocess, 32.7ms inference, 0.9ms postprocess per image at shape (1, 3, 384, 640)\n",
      "\n",
      "0: 384x640 1 Armaduro, 32.6ms\n",
      "Speed: 0.7ms preprocess, 32.6ms inference, 0.9ms postprocess per image at shape (1, 3, 384, 640)\n"
     ]
    },
    {
     "name": "stderr",
     "output_type": "stream",
     "text": [
      " 75%|███████▌  | 1627/2158 [01:01<00:20, 26.52it/s]"
     ]
    },
    {
     "name": "stdout",
     "output_type": "stream",
     "text": [
      "\n",
      "0: 384x640 1 Armaduro, 32.5ms\n",
      "Speed: 0.5ms preprocess, 32.5ms inference, 1.0ms postprocess per image at shape (1, 3, 384, 640)\n",
      "\n",
      "0: 384x640 (no detections), 32.6ms\n",
      "Speed: 0.6ms preprocess, 32.6ms inference, 0.5ms postprocess per image at shape (1, 3, 384, 640)\n",
      "\n",
      "0: 384x640 (no detections), 32.5ms\n",
      "Speed: 0.6ms preprocess, 32.5ms inference, 0.5ms postprocess per image at shape (1, 3, 384, 640)\n"
     ]
    },
    {
     "name": "stderr",
     "output_type": "stream",
     "text": [
      " 76%|███████▌  | 1630/2158 [01:01<00:19, 26.59it/s]"
     ]
    },
    {
     "name": "stdout",
     "output_type": "stream",
     "text": [
      "\n",
      "0: 384x640 (no detections), 32.5ms\n",
      "Speed: 0.5ms preprocess, 32.5ms inference, 0.5ms postprocess per image at shape (1, 3, 384, 640)\n",
      "\n",
      "0: 384x640 (no detections), 32.6ms\n",
      "Speed: 0.6ms preprocess, 32.6ms inference, 0.5ms postprocess per image at shape (1, 3, 384, 640)\n",
      "\n",
      "0: 384x640 (no detections), 32.6ms\n",
      "Speed: 0.5ms preprocess, 32.6ms inference, 0.4ms postprocess per image at shape (1, 3, 384, 640)\n"
     ]
    },
    {
     "name": "stderr",
     "output_type": "stream",
     "text": [
      " 76%|███████▌  | 1633/2158 [01:01<00:19, 26.71it/s]"
     ]
    },
    {
     "name": "stdout",
     "output_type": "stream",
     "text": [
      "\n",
      "0: 384x640 (no detections), 32.7ms\n",
      "Speed: 0.6ms preprocess, 32.7ms inference, 0.6ms postprocess per image at shape (1, 3, 384, 640)\n",
      "\n",
      "0: 384x640 (no detections), 32.6ms\n",
      "Speed: 0.6ms preprocess, 32.6ms inference, 0.7ms postprocess per image at shape (1, 3, 384, 640)\n",
      "\n",
      "0: 384x640 (no detections), 32.7ms\n",
      "Speed: 0.6ms preprocess, 32.7ms inference, 0.5ms postprocess per image at shape (1, 3, 384, 640)\n"
     ]
    },
    {
     "name": "stderr",
     "output_type": "stream",
     "text": [
      " 76%|███████▌  | 1636/2158 [01:01<00:19, 26.74it/s]"
     ]
    },
    {
     "name": "stdout",
     "output_type": "stream",
     "text": [
      "\n",
      "0: 384x640 (no detections), 32.6ms\n",
      "Speed: 0.5ms preprocess, 32.6ms inference, 0.5ms postprocess per image at shape (1, 3, 384, 640)\n",
      "\n",
      "0: 384x640 (no detections), 32.6ms\n",
      "Speed: 0.6ms preprocess, 32.6ms inference, 0.4ms postprocess per image at shape (1, 3, 384, 640)\n",
      "\n",
      "0: 384x640 1 Armaduro, 32.6ms\n",
      "Speed: 0.6ms preprocess, 32.6ms inference, 0.9ms postprocess per image at shape (1, 3, 384, 640)\n"
     ]
    },
    {
     "name": "stderr",
     "output_type": "stream",
     "text": [
      " 76%|███████▌  | 1639/2158 [01:01<00:19, 26.75it/s]"
     ]
    },
    {
     "name": "stdout",
     "output_type": "stream",
     "text": [
      "\n",
      "0: 384x640 (no detections), 32.6ms\n",
      "Speed: 0.6ms preprocess, 32.6ms inference, 0.5ms postprocess per image at shape (1, 3, 384, 640)\n",
      "\n",
      "0: 384x640 1 Armaduro, 32.7ms\n",
      "Speed: 0.6ms preprocess, 32.7ms inference, 0.9ms postprocess per image at shape (1, 3, 384, 640)\n",
      "\n",
      "0: 384x640 1 Armaduro, 32.6ms\n",
      "Speed: 0.6ms preprocess, 32.6ms inference, 0.9ms postprocess per image at shape (1, 3, 384, 640)\n"
     ]
    },
    {
     "name": "stderr",
     "output_type": "stream",
     "text": [
      " 76%|███████▌  | 1642/2158 [01:01<00:19, 26.65it/s]"
     ]
    },
    {
     "name": "stdout",
     "output_type": "stream",
     "text": [
      "\n",
      "0: 384x640 1 Armaduro, 32.5ms\n",
      "Speed: 0.7ms preprocess, 32.5ms inference, 1.0ms postprocess per image at shape (1, 3, 384, 640)\n",
      "\n",
      "0: 384x640 1 Armaduro, 32.7ms\n",
      "Speed: 0.6ms preprocess, 32.7ms inference, 1.7ms postprocess per image at shape (1, 3, 384, 640)\n",
      "\n",
      "0: 384x640 1 Armaduro, 32.7ms\n",
      "Speed: 0.7ms preprocess, 32.7ms inference, 1.0ms postprocess per image at shape (1, 3, 384, 640)\n"
     ]
    },
    {
     "name": "stderr",
     "output_type": "stream",
     "text": [
      " 76%|███████▌  | 1645/2158 [01:01<00:19, 26.38it/s]"
     ]
    },
    {
     "name": "stdout",
     "output_type": "stream",
     "text": [
      "\n",
      "0: 384x640 1 Armaduro, 32.5ms\n",
      "Speed: 0.8ms preprocess, 32.5ms inference, 1.2ms postprocess per image at shape (1, 3, 384, 640)\n",
      "\n",
      "0: 384x640 1 Armaduro, 32.6ms\n",
      "Speed: 0.5ms preprocess, 32.6ms inference, 0.9ms postprocess per image at shape (1, 3, 384, 640)\n",
      "\n",
      "0: 384x640 1 Armaduro, 32.7ms\n",
      "Speed: 0.5ms preprocess, 32.7ms inference, 0.9ms postprocess per image at shape (1, 3, 384, 640)\n"
     ]
    },
    {
     "name": "stderr",
     "output_type": "stream",
     "text": [
      " 76%|███████▋  | 1648/2158 [01:01<00:19, 26.19it/s]"
     ]
    },
    {
     "name": "stdout",
     "output_type": "stream",
     "text": [
      "\n",
      "0: 384x640 1 Armaduro, 32.5ms\n",
      "Speed: 0.7ms preprocess, 32.5ms inference, 1.0ms postprocess per image at shape (1, 3, 384, 640)\n",
      "\n",
      "0: 384x640 1 Armaduro, 32.6ms\n",
      "Speed: 0.6ms preprocess, 32.6ms inference, 0.9ms postprocess per image at shape (1, 3, 384, 640)\n",
      "\n",
      "0: 384x640 1 Armaduro, 32.6ms\n",
      "Speed: 0.5ms preprocess, 32.6ms inference, 0.9ms postprocess per image at shape (1, 3, 384, 640)\n"
     ]
    },
    {
     "name": "stderr",
     "output_type": "stream",
     "text": [
      " 77%|███████▋  | 1651/2158 [01:01<00:19, 26.19it/s]"
     ]
    },
    {
     "name": "stdout",
     "output_type": "stream",
     "text": [
      "\n",
      "0: 384x640 (no detections), 32.4ms\n",
      "Speed: 0.6ms preprocess, 32.4ms inference, 0.5ms postprocess per image at shape (1, 3, 384, 640)\n",
      "\n",
      "0: 384x640 (no detections), 32.7ms\n",
      "Speed: 0.6ms preprocess, 32.7ms inference, 0.5ms postprocess per image at shape (1, 3, 384, 640)\n",
      "\n",
      "0: 384x640 (no detections), 32.6ms\n",
      "Speed: 0.5ms preprocess, 32.6ms inference, 0.5ms postprocess per image at shape (1, 3, 384, 640)\n"
     ]
    },
    {
     "name": "stderr",
     "output_type": "stream",
     "text": [
      " 77%|███████▋  | 1654/2158 [01:02<00:19, 26.39it/s]"
     ]
    },
    {
     "name": "stdout",
     "output_type": "stream",
     "text": [
      "\n",
      "0: 384x640 (no detections), 32.6ms\n",
      "Speed: 0.5ms preprocess, 32.6ms inference, 0.5ms postprocess per image at shape (1, 3, 384, 640)\n",
      "\n",
      "0: 384x640 (no detections), 32.7ms\n",
      "Speed: 0.8ms preprocess, 32.7ms inference, 0.5ms postprocess per image at shape (1, 3, 384, 640)\n",
      "\n",
      "0: 384x640 (no detections), 32.7ms\n",
      "Speed: 0.6ms preprocess, 32.7ms inference, 0.5ms postprocess per image at shape (1, 3, 384, 640)\n"
     ]
    },
    {
     "name": "stderr",
     "output_type": "stream",
     "text": [
      " 77%|███████▋  | 1657/2158 [01:02<00:18, 26.51it/s]"
     ]
    },
    {
     "name": "stdout",
     "output_type": "stream",
     "text": [
      "\n",
      "0: 384x640 (no detections), 32.7ms\n",
      "Speed: 0.6ms preprocess, 32.7ms inference, 0.5ms postprocess per image at shape (1, 3, 384, 640)\n",
      "\n",
      "0: 384x640 (no detections), 32.7ms\n",
      "Speed: 0.7ms preprocess, 32.7ms inference, 0.5ms postprocess per image at shape (1, 3, 384, 640)\n",
      "\n",
      "0: 384x640 (no detections), 32.7ms\n",
      "Speed: 0.6ms preprocess, 32.7ms inference, 0.4ms postprocess per image at shape (1, 3, 384, 640)\n"
     ]
    },
    {
     "name": "stderr",
     "output_type": "stream",
     "text": [
      " 77%|███████▋  | 1660/2158 [01:02<00:18, 26.63it/s]"
     ]
    },
    {
     "name": "stdout",
     "output_type": "stream",
     "text": [
      "\n",
      "0: 384x640 (no detections), 32.3ms\n",
      "Speed: 0.6ms preprocess, 32.3ms inference, 0.5ms postprocess per image at shape (1, 3, 384, 640)\n",
      "\n",
      "0: 384x640 (no detections), 32.5ms\n",
      "Speed: 0.6ms preprocess, 32.5ms inference, 0.5ms postprocess per image at shape (1, 3, 384, 640)\n",
      "\n",
      "0: 384x640 1 Armaduro, 32.6ms\n",
      "Speed: 0.5ms preprocess, 32.6ms inference, 1.8ms postprocess per image at shape (1, 3, 384, 640)\n"
     ]
    },
    {
     "name": "stderr",
     "output_type": "stream",
     "text": [
      " 77%|███████▋  | 1663/2158 [01:02<00:18, 26.64it/s]"
     ]
    },
    {
     "name": "stdout",
     "output_type": "stream",
     "text": [
      "\n",
      "0: 384x640 1 Armaduro, 32.6ms\n",
      "Speed: 0.6ms preprocess, 32.6ms inference, 1.0ms postprocess per image at shape (1, 3, 384, 640)\n",
      "\n",
      "0: 384x640 1 Armaduro, 32.7ms\n",
      "Speed: 0.6ms preprocess, 32.7ms inference, 0.9ms postprocess per image at shape (1, 3, 384, 640)\n",
      "\n",
      "0: 384x640 1 Armaduro, 32.6ms\n",
      "Speed: 0.5ms preprocess, 32.6ms inference, 0.9ms postprocess per image at shape (1, 3, 384, 640)\n"
     ]
    },
    {
     "name": "stderr",
     "output_type": "stream",
     "text": [
      " 77%|███████▋  | 1666/2158 [01:02<00:18, 26.53it/s]"
     ]
    },
    {
     "name": "stdout",
     "output_type": "stream",
     "text": [
      "\n",
      "0: 384x640 1 Armaduro, 32.7ms\n",
      "Speed: 0.6ms preprocess, 32.7ms inference, 0.9ms postprocess per image at shape (1, 3, 384, 640)\n",
      "\n",
      "0: 384x640 1 Armaduro, 32.7ms\n",
      "Speed: 0.6ms preprocess, 32.7ms inference, 0.9ms postprocess per image at shape (1, 3, 384, 640)\n",
      "\n",
      "0: 384x640 1 Armaduro, 32.7ms\n",
      "Speed: 0.6ms preprocess, 32.7ms inference, 0.9ms postprocess per image at shape (1, 3, 384, 640)\n"
     ]
    },
    {
     "name": "stderr",
     "output_type": "stream",
     "text": [
      " 77%|███████▋  | 1669/2158 [01:02<00:18, 26.46it/s]"
     ]
    },
    {
     "name": "stdout",
     "output_type": "stream",
     "text": [
      "\n",
      "0: 384x640 1 Armaduro, 32.5ms\n",
      "Speed: 0.6ms preprocess, 32.5ms inference, 1.0ms postprocess per image at shape (1, 3, 384, 640)\n",
      "\n",
      "0: 384x640 1 Armaduro, 32.7ms\n",
      "Speed: 0.6ms preprocess, 32.7ms inference, 0.9ms postprocess per image at shape (1, 3, 384, 640)\n",
      "\n",
      "0: 384x640 1 Armaduro, 32.6ms\n",
      "Speed: 0.6ms preprocess, 32.6ms inference, 0.9ms postprocess per image at shape (1, 3, 384, 640)\n"
     ]
    },
    {
     "name": "stderr",
     "output_type": "stream",
     "text": [
      " 77%|███████▋  | 1672/2158 [01:02<00:18, 26.40it/s]"
     ]
    },
    {
     "name": "stdout",
     "output_type": "stream",
     "text": [
      "\n",
      "0: 384x640 1 Armaduro, 32.7ms\n",
      "Speed: 0.6ms preprocess, 32.7ms inference, 1.0ms postprocess per image at shape (1, 3, 384, 640)\n",
      "\n",
      "0: 384x640 1 Armaduro, 32.7ms\n",
      "Speed: 0.6ms preprocess, 32.7ms inference, 1.0ms postprocess per image at shape (1, 3, 384, 640)\n",
      "\n",
      "0: 384x640 (no detections), 32.6ms\n",
      "Speed: 0.7ms preprocess, 32.6ms inference, 0.5ms postprocess per image at shape (1, 3, 384, 640)\n"
     ]
    },
    {
     "name": "stderr",
     "output_type": "stream",
     "text": [
      " 78%|███████▊  | 1675/2158 [01:02<00:18, 26.27it/s]"
     ]
    },
    {
     "name": "stdout",
     "output_type": "stream",
     "text": [
      "\n",
      "0: 384x640 (no detections), 32.6ms\n",
      "Speed: 0.6ms preprocess, 32.6ms inference, 0.8ms postprocess per image at shape (1, 3, 384, 640)\n",
      "\n",
      "0: 384x640 (no detections), 32.6ms\n",
      "Speed: 0.6ms preprocess, 32.6ms inference, 0.5ms postprocess per image at shape (1, 3, 384, 640)\n",
      "\n",
      "0: 384x640 (no detections), 32.7ms\n",
      "Speed: 0.6ms preprocess, 32.7ms inference, 0.5ms postprocess per image at shape (1, 3, 384, 640)\n"
     ]
    },
    {
     "name": "stderr",
     "output_type": "stream",
     "text": [
      " 78%|███████▊  | 1678/2158 [01:02<00:18, 26.45it/s]"
     ]
    },
    {
     "name": "stdout",
     "output_type": "stream",
     "text": [
      "\n",
      "0: 384x640 (no detections), 32.7ms\n",
      "Speed: 0.7ms preprocess, 32.7ms inference, 0.7ms postprocess per image at shape (1, 3, 384, 640)\n",
      "\n",
      "0: 384x640 (no detections), 32.6ms\n",
      "Speed: 0.6ms preprocess, 32.6ms inference, 0.5ms postprocess per image at shape (1, 3, 384, 640)\n",
      "\n",
      "0: 384x640 (no detections), 32.6ms\n",
      "Speed: 0.6ms preprocess, 32.6ms inference, 0.7ms postprocess per image at shape (1, 3, 384, 640)\n"
     ]
    },
    {
     "name": "stderr",
     "output_type": "stream",
     "text": [
      " 78%|███████▊  | 1681/2158 [01:03<00:17, 26.51it/s]"
     ]
    },
    {
     "name": "stdout",
     "output_type": "stream",
     "text": [
      "\n",
      "0: 384x640 (no detections), 32.6ms\n",
      "Speed: 0.6ms preprocess, 32.6ms inference, 0.5ms postprocess per image at shape (1, 3, 384, 640)\n",
      "\n",
      "0: 384x640 (no detections), 32.5ms\n",
      "Speed: 0.6ms preprocess, 32.5ms inference, 0.5ms postprocess per image at shape (1, 3, 384, 640)\n",
      "\n",
      "0: 384x640 (no detections), 32.9ms\n",
      "Speed: 0.6ms preprocess, 32.9ms inference, 0.7ms postprocess per image at shape (1, 3, 384, 640)\n"
     ]
    },
    {
     "name": "stderr",
     "output_type": "stream",
     "text": [
      " 78%|███████▊  | 1684/2158 [01:03<00:17, 26.51it/s]"
     ]
    },
    {
     "name": "stdout",
     "output_type": "stream",
     "text": [
      "\n",
      "0: 384x640 1 Armaduro, 32.7ms\n",
      "Speed: 0.6ms preprocess, 32.7ms inference, 1.0ms postprocess per image at shape (1, 3, 384, 640)\n",
      "\n",
      "0: 384x640 1 Armaduro, 33.2ms\n",
      "Speed: 0.7ms preprocess, 33.2ms inference, 1.0ms postprocess per image at shape (1, 3, 384, 640)\n",
      "\n",
      "0: 384x640 (no detections), 32.6ms\n",
      "Speed: 0.6ms preprocess, 32.6ms inference, 0.5ms postprocess per image at shape (1, 3, 384, 640)\n"
     ]
    },
    {
     "name": "stderr",
     "output_type": "stream",
     "text": [
      " 78%|███████▊  | 1687/2158 [01:03<00:17, 26.40it/s]"
     ]
    },
    {
     "name": "stdout",
     "output_type": "stream",
     "text": [
      "\n",
      "0: 384x640 (no detections), 32.7ms\n",
      "Speed: 0.6ms preprocess, 32.7ms inference, 0.5ms postprocess per image at shape (1, 3, 384, 640)\n",
      "\n",
      "0: 384x640 (no detections), 32.6ms\n",
      "Speed: 0.7ms preprocess, 32.6ms inference, 0.5ms postprocess per image at shape (1, 3, 384, 640)\n",
      "\n",
      "0: 384x640 (no detections), 32.7ms\n",
      "Speed: 0.6ms preprocess, 32.7ms inference, 0.6ms postprocess per image at shape (1, 3, 384, 640)\n"
     ]
    },
    {
     "name": "stderr",
     "output_type": "stream",
     "text": [
      " 78%|███████▊  | 1690/2158 [01:03<00:17, 26.51it/s]"
     ]
    },
    {
     "name": "stdout",
     "output_type": "stream",
     "text": [
      "\n",
      "0: 384x640 1 Armaduro, 32.6ms\n",
      "Speed: 0.7ms preprocess, 32.6ms inference, 0.9ms postprocess per image at shape (1, 3, 384, 640)\n",
      "\n",
      "0: 384x640 1 Armaduro, 32.6ms\n",
      "Speed: 0.7ms preprocess, 32.6ms inference, 1.0ms postprocess per image at shape (1, 3, 384, 640)\n",
      "\n",
      "0: 384x640 (no detections), 32.7ms\n",
      "Speed: 0.7ms preprocess, 32.7ms inference, 0.5ms postprocess per image at shape (1, 3, 384, 640)\n"
     ]
    },
    {
     "name": "stderr",
     "output_type": "stream",
     "text": [
      " 78%|███████▊  | 1693/2158 [01:03<00:17, 26.47it/s]"
     ]
    },
    {
     "name": "stdout",
     "output_type": "stream",
     "text": [
      "\n",
      "0: 384x640 1 Armaduro, 32.5ms\n",
      "Speed: 0.6ms preprocess, 32.5ms inference, 1.0ms postprocess per image at shape (1, 3, 384, 640)\n",
      "\n",
      "0: 384x640 1 Armaduro, 32.7ms\n",
      "Speed: 0.6ms preprocess, 32.7ms inference, 1.0ms postprocess per image at shape (1, 3, 384, 640)\n",
      "\n",
      "0: 384x640 (no detections), 32.7ms\n",
      "Speed: 0.5ms preprocess, 32.7ms inference, 0.5ms postprocess per image at shape (1, 3, 384, 640)\n"
     ]
    },
    {
     "name": "stderr",
     "output_type": "stream",
     "text": [
      " 79%|███████▊  | 1696/2158 [01:03<00:17, 26.42it/s]"
     ]
    },
    {
     "name": "stdout",
     "output_type": "stream",
     "text": [
      "\n",
      "0: 384x640 (no detections), 32.6ms\n",
      "Speed: 0.6ms preprocess, 32.6ms inference, 0.5ms postprocess per image at shape (1, 3, 384, 640)\n",
      "\n",
      "0: 384x640 (no detections), 32.6ms\n",
      "Speed: 0.8ms preprocess, 32.6ms inference, 0.5ms postprocess per image at shape (1, 3, 384, 640)\n",
      "\n",
      "0: 384x640 (no detections), 32.6ms\n",
      "Speed: 0.6ms preprocess, 32.6ms inference, 0.5ms postprocess per image at shape (1, 3, 384, 640)\n"
     ]
    },
    {
     "name": "stderr",
     "output_type": "stream",
     "text": [
      " 79%|███████▊  | 1699/2158 [01:03<00:17, 26.51it/s]"
     ]
    },
    {
     "name": "stdout",
     "output_type": "stream",
     "text": [
      "\n",
      "0: 384x640 (no detections), 32.6ms\n",
      "Speed: 0.5ms preprocess, 32.6ms inference, 0.8ms postprocess per image at shape (1, 3, 384, 640)\n",
      "\n",
      "0: 384x640 (no detections), 32.4ms\n",
      "Speed: 1.0ms preprocess, 32.4ms inference, 0.5ms postprocess per image at shape (1, 3, 384, 640)\n",
      "\n",
      "0: 384x640 1 Armaduro, 1 Selvalegre, 32.7ms\n",
      "Speed: 0.6ms preprocess, 32.7ms inference, 0.9ms postprocess per image at shape (1, 3, 384, 640)\n"
     ]
    },
    {
     "name": "stderr",
     "output_type": "stream",
     "text": [
      " 79%|███████▉  | 1702/2158 [01:03<00:17, 26.36it/s]"
     ]
    },
    {
     "name": "stdout",
     "output_type": "stream",
     "text": [
      "\n",
      "0: 384x640 (no detections), 32.5ms\n",
      "Speed: 0.6ms preprocess, 32.5ms inference, 0.5ms postprocess per image at shape (1, 3, 384, 640)\n",
      "\n",
      "0: 384x640 (no detections), 32.6ms\n",
      "Speed: 0.5ms preprocess, 32.6ms inference, 0.4ms postprocess per image at shape (1, 3, 384, 640)\n",
      "\n",
      "0: 384x640 (no detections), 32.6ms\n",
      "Speed: 0.6ms preprocess, 32.6ms inference, 0.5ms postprocess per image at shape (1, 3, 384, 640)\n"
     ]
    },
    {
     "name": "stderr",
     "output_type": "stream",
     "text": [
      " 79%|███████▉  | 1705/2158 [01:04<00:17, 26.54it/s]"
     ]
    },
    {
     "name": "stdout",
     "output_type": "stream",
     "text": [
      "\n",
      "0: 384x640 1 Armaduro, 32.4ms\n",
      "Speed: 0.7ms preprocess, 32.4ms inference, 1.0ms postprocess per image at shape (1, 3, 384, 640)\n",
      "\n",
      "0: 384x640 (no detections), 32.6ms\n",
      "Speed: 0.7ms preprocess, 32.6ms inference, 0.5ms postprocess per image at shape (1, 3, 384, 640)\n",
      "\n",
      "0: 384x640 1 Armaduro, 32.6ms\n",
      "Speed: 0.6ms preprocess, 32.6ms inference, 0.9ms postprocess per image at shape (1, 3, 384, 640)\n"
     ]
    },
    {
     "name": "stderr",
     "output_type": "stream",
     "text": [
      " 79%|███████▉  | 1708/2158 [01:04<00:16, 26.56it/s]"
     ]
    },
    {
     "name": "stdout",
     "output_type": "stream",
     "text": [
      "\n",
      "0: 384x640 1 Armaduro, 32.4ms\n",
      "Speed: 0.8ms preprocess, 32.4ms inference, 1.0ms postprocess per image at shape (1, 3, 384, 640)\n",
      "\n",
      "0: 384x640 1 Armaduro, 32.6ms\n",
      "Speed: 0.6ms preprocess, 32.6ms inference, 0.9ms postprocess per image at shape (1, 3, 384, 640)\n",
      "\n",
      "0: 384x640 1 Armaduro, 32.5ms\n",
      "Speed: 0.6ms preprocess, 32.5ms inference, 0.9ms postprocess per image at shape (1, 3, 384, 640)\n"
     ]
    },
    {
     "name": "stderr",
     "output_type": "stream",
     "text": [
      " 79%|███████▉  | 1711/2158 [01:04<00:16, 26.44it/s]"
     ]
    },
    {
     "name": "stdout",
     "output_type": "stream",
     "text": [
      "\n",
      "0: 384x640 1 Armaduro, 32.7ms\n",
      "Speed: 0.5ms preprocess, 32.7ms inference, 2.0ms postprocess per image at shape (1, 3, 384, 640)\n",
      "\n",
      "0: 384x640 1 Armaduro, 32.6ms\n",
      "Speed: 0.7ms preprocess, 32.6ms inference, 0.9ms postprocess per image at shape (1, 3, 384, 640)\n",
      "\n",
      "0: 384x640 1 Armaduro, 32.7ms\n",
      "Speed: 0.7ms preprocess, 32.7ms inference, 0.9ms postprocess per image at shape (1, 3, 384, 640)\n"
     ]
    },
    {
     "name": "stderr",
     "output_type": "stream",
     "text": [
      " 79%|███████▉  | 1714/2158 [01:04<00:16, 26.24it/s]"
     ]
    },
    {
     "name": "stdout",
     "output_type": "stream",
     "text": [
      "\n",
      "0: 384x640 1 Armaduro, 32.6ms\n",
      "Speed: 0.5ms preprocess, 32.6ms inference, 1.0ms postprocess per image at shape (1, 3, 384, 640)\n",
      "\n",
      "0: 384x640 (no detections), 32.5ms\n",
      "Speed: 0.6ms preprocess, 32.5ms inference, 0.5ms postprocess per image at shape (1, 3, 384, 640)\n",
      "\n",
      "0: 384x640 (no detections), 32.7ms\n",
      "Speed: 0.5ms preprocess, 32.7ms inference, 0.4ms postprocess per image at shape (1, 3, 384, 640)\n"
     ]
    },
    {
     "name": "stderr",
     "output_type": "stream",
     "text": [
      " 80%|███████▉  | 1717/2158 [01:04<00:16, 26.35it/s]"
     ]
    },
    {
     "name": "stdout",
     "output_type": "stream",
     "text": [
      "\n",
      "0: 384x640 (no detections), 32.6ms\n",
      "Speed: 0.5ms preprocess, 32.6ms inference, 0.5ms postprocess per image at shape (1, 3, 384, 640)\n",
      "\n",
      "0: 384x640 (no detections), 32.7ms\n",
      "Speed: 0.6ms preprocess, 32.7ms inference, 0.5ms postprocess per image at shape (1, 3, 384, 640)\n",
      "\n",
      "0: 384x640 (no detections), 32.7ms\n",
      "Speed: 0.6ms preprocess, 32.7ms inference, 0.5ms postprocess per image at shape (1, 3, 384, 640)\n"
     ]
    },
    {
     "name": "stderr",
     "output_type": "stream",
     "text": [
      " 80%|███████▉  | 1720/2158 [01:04<00:16, 26.52it/s]"
     ]
    },
    {
     "name": "stdout",
     "output_type": "stream",
     "text": [
      "\n",
      "0: 384x640 (no detections), 32.6ms\n",
      "Speed: 0.5ms preprocess, 32.6ms inference, 0.5ms postprocess per image at shape (1, 3, 384, 640)\n",
      "\n",
      "0: 384x640 (no detections), 32.7ms\n",
      "Speed: 0.6ms preprocess, 32.7ms inference, 0.4ms postprocess per image at shape (1, 3, 384, 640)\n",
      "\n",
      "0: 384x640 (no detections), 32.6ms\n",
      "Speed: 0.6ms preprocess, 32.6ms inference, 0.4ms postprocess per image at shape (1, 3, 384, 640)\n"
     ]
    },
    {
     "name": "stderr",
     "output_type": "stream",
     "text": [
      " 80%|███████▉  | 1723/2158 [01:04<00:16, 26.65it/s]"
     ]
    },
    {
     "name": "stdout",
     "output_type": "stream",
     "text": [
      "\n",
      "0: 384x640 (no detections), 32.7ms\n",
      "Speed: 0.6ms preprocess, 32.7ms inference, 0.5ms postprocess per image at shape (1, 3, 384, 640)\n",
      "\n",
      "0: 384x640 (no detections), 32.6ms\n",
      "Speed: 0.6ms preprocess, 32.6ms inference, 0.4ms postprocess per image at shape (1, 3, 384, 640)\n",
      "\n",
      "0: 384x640 (no detections), 32.5ms\n",
      "Speed: 0.6ms preprocess, 32.5ms inference, 0.4ms postprocess per image at shape (1, 3, 384, 640)\n"
     ]
    },
    {
     "name": "stderr",
     "output_type": "stream",
     "text": [
      " 80%|███████▉  | 1726/2158 [01:04<00:16, 26.76it/s]"
     ]
    },
    {
     "name": "stdout",
     "output_type": "stream",
     "text": [
      "\n",
      "0: 384x640 (no detections), 32.6ms\n",
      "Speed: 0.6ms preprocess, 32.6ms inference, 0.5ms postprocess per image at shape (1, 3, 384, 640)\n",
      "\n",
      "0: 384x640 1 Armaduro, 32.7ms\n",
      "Speed: 0.6ms preprocess, 32.7ms inference, 0.9ms postprocess per image at shape (1, 3, 384, 640)\n",
      "\n",
      "0: 384x640 1 Armaduro, 32.4ms\n",
      "Speed: 0.6ms preprocess, 32.4ms inference, 0.9ms postprocess per image at shape (1, 3, 384, 640)\n"
     ]
    },
    {
     "name": "stderr",
     "output_type": "stream",
     "text": [
      " 80%|████████  | 1729/2158 [01:04<00:16, 26.59it/s]"
     ]
    },
    {
     "name": "stdout",
     "output_type": "stream",
     "text": [
      "\n",
      "0: 384x640 1 Armaduro, 32.7ms\n",
      "Speed: 0.8ms preprocess, 32.7ms inference, 1.0ms postprocess per image at shape (1, 3, 384, 640)\n",
      "\n",
      "0: 384x640 (no detections), 32.7ms\n",
      "Speed: 0.5ms preprocess, 32.7ms inference, 0.4ms postprocess per image at shape (1, 3, 384, 640)\n",
      "\n",
      "0: 384x640 (no detections), 32.5ms\n",
      "Speed: 0.8ms preprocess, 32.5ms inference, 0.7ms postprocess per image at shape (1, 3, 384, 640)\n"
     ]
    },
    {
     "name": "stderr",
     "output_type": "stream",
     "text": [
      " 80%|████████  | 1732/2158 [01:05<00:16, 26.52it/s]"
     ]
    },
    {
     "name": "stdout",
     "output_type": "stream",
     "text": [
      "\n",
      "0: 384x640 1 Armaduro, 32.6ms\n",
      "Speed: 0.6ms preprocess, 32.6ms inference, 1.0ms postprocess per image at shape (1, 3, 384, 640)\n",
      "\n",
      "0: 384x640 1 Armaduro, 32.6ms\n",
      "Speed: 0.6ms preprocess, 32.6ms inference, 0.9ms postprocess per image at shape (1, 3, 384, 640)\n",
      "\n",
      "0: 384x640 1 Armaduro, 32.5ms\n",
      "Speed: 0.6ms preprocess, 32.5ms inference, 0.9ms postprocess per image at shape (1, 3, 384, 640)\n"
     ]
    },
    {
     "name": "stderr",
     "output_type": "stream",
     "text": [
      " 80%|████████  | 1735/2158 [01:05<00:16, 26.40it/s]"
     ]
    },
    {
     "name": "stdout",
     "output_type": "stream",
     "text": [
      "\n",
      "0: 384x640 1 Armaduro, 32.6ms\n",
      "Speed: 0.6ms preprocess, 32.6ms inference, 0.9ms postprocess per image at shape (1, 3, 384, 640)\n",
      "\n",
      "0: 384x640 (no detections), 32.5ms\n",
      "Speed: 0.6ms preprocess, 32.5ms inference, 0.5ms postprocess per image at shape (1, 3, 384, 640)\n",
      "\n",
      "0: 384x640 (no detections), 32.7ms\n",
      "Speed: 0.5ms preprocess, 32.7ms inference, 0.5ms postprocess per image at shape (1, 3, 384, 640)\n"
     ]
    },
    {
     "name": "stderr",
     "output_type": "stream",
     "text": [
      " 81%|████████  | 1738/2158 [01:05<00:15, 26.52it/s]"
     ]
    },
    {
     "name": "stdout",
     "output_type": "stream",
     "text": [
      "\n",
      "0: 384x640 (no detections), 32.7ms\n",
      "Speed: 0.6ms preprocess, 32.7ms inference, 0.5ms postprocess per image at shape (1, 3, 384, 640)\n",
      "\n",
      "0: 384x640 (no detections), 32.6ms\n",
      "Speed: 0.6ms preprocess, 32.6ms inference, 0.5ms postprocess per image at shape (1, 3, 384, 640)\n",
      "\n",
      "0: 384x640 (no detections), 32.6ms\n",
      "Speed: 0.5ms preprocess, 32.6ms inference, 0.7ms postprocess per image at shape (1, 3, 384, 640)\n"
     ]
    },
    {
     "name": "stderr",
     "output_type": "stream",
     "text": [
      " 81%|████████  | 1741/2158 [01:05<00:15, 26.56it/s]"
     ]
    },
    {
     "name": "stdout",
     "output_type": "stream",
     "text": [
      "\n",
      "0: 384x640 (no detections), 32.6ms\n",
      "Speed: 0.5ms preprocess, 32.6ms inference, 0.5ms postprocess per image at shape (1, 3, 384, 640)\n",
      "\n",
      "0: 384x640 (no detections), 32.7ms\n",
      "Speed: 0.5ms preprocess, 32.7ms inference, 0.5ms postprocess per image at shape (1, 3, 384, 640)\n",
      "\n",
      "0: 384x640 (no detections), 32.5ms\n",
      "Speed: 0.6ms preprocess, 32.5ms inference, 0.5ms postprocess per image at shape (1, 3, 384, 640)\n"
     ]
    },
    {
     "name": "stderr",
     "output_type": "stream",
     "text": [
      " 81%|████████  | 1744/2158 [01:05<00:15, 26.70it/s]"
     ]
    },
    {
     "name": "stdout",
     "output_type": "stream",
     "text": [
      "\n",
      "0: 384x640 (no detections), 32.6ms\n",
      "Speed: 0.7ms preprocess, 32.6ms inference, 0.5ms postprocess per image at shape (1, 3, 384, 640)\n",
      "\n",
      "0: 384x640 (no detections), 32.7ms\n",
      "Speed: 0.6ms preprocess, 32.7ms inference, 0.5ms postprocess per image at shape (1, 3, 384, 640)\n",
      "\n",
      "0: 384x640 (no detections), 32.7ms\n",
      "Speed: 0.7ms preprocess, 32.7ms inference, 0.4ms postprocess per image at shape (1, 3, 384, 640)\n"
     ]
    },
    {
     "name": "stderr",
     "output_type": "stream",
     "text": [
      " 81%|████████  | 1747/2158 [01:05<00:15, 26.77it/s]"
     ]
    },
    {
     "name": "stdout",
     "output_type": "stream",
     "text": [
      "\n",
      "0: 384x640 (no detections), 32.4ms\n",
      "Speed: 0.6ms preprocess, 32.4ms inference, 0.5ms postprocess per image at shape (1, 3, 384, 640)\n",
      "\n",
      "0: 384x640 (no detections), 32.7ms\n",
      "Speed: 0.7ms preprocess, 32.7ms inference, 0.5ms postprocess per image at shape (1, 3, 384, 640)\n",
      "\n",
      "0: 384x640 (no detections), 32.6ms\n",
      "Speed: 0.5ms preprocess, 32.6ms inference, 0.5ms postprocess per image at shape (1, 3, 384, 640)\n"
     ]
    },
    {
     "name": "stderr",
     "output_type": "stream",
     "text": [
      " 81%|████████  | 1750/2158 [01:05<00:15, 26.83it/s]"
     ]
    },
    {
     "name": "stdout",
     "output_type": "stream",
     "text": [
      "\n",
      "0: 384x640 (no detections), 32.6ms\n",
      "Speed: 0.5ms preprocess, 32.6ms inference, 0.5ms postprocess per image at shape (1, 3, 384, 640)\n",
      "\n",
      "0: 384x640 (no detections), 32.5ms\n",
      "Speed: 0.5ms preprocess, 32.5ms inference, 0.4ms postprocess per image at shape (1, 3, 384, 640)\n",
      "\n",
      "0: 384x640 (no detections), 32.6ms\n",
      "Speed: 0.6ms preprocess, 32.6ms inference, 0.4ms postprocess per image at shape (1, 3, 384, 640)\n"
     ]
    },
    {
     "name": "stderr",
     "output_type": "stream",
     "text": [
      " 81%|████████  | 1753/2158 [01:05<00:15, 26.90it/s]"
     ]
    },
    {
     "name": "stdout",
     "output_type": "stream",
     "text": [
      "\n",
      "0: 384x640 (no detections), 32.8ms\n",
      "Speed: 0.7ms preprocess, 32.8ms inference, 0.7ms postprocess per image at shape (1, 3, 384, 640)\n",
      "\n",
      "0: 384x640 (no detections), 32.6ms\n",
      "Speed: 0.5ms preprocess, 32.6ms inference, 0.4ms postprocess per image at shape (1, 3, 384, 640)\n",
      "\n",
      "0: 384x640 (no detections), 32.7ms\n",
      "Speed: 0.5ms preprocess, 32.7ms inference, 0.4ms postprocess per image at shape (1, 3, 384, 640)\n"
     ]
    },
    {
     "name": "stderr",
     "output_type": "stream",
     "text": [
      " 81%|████████▏ | 1756/2158 [01:05<00:14, 26.94it/s]"
     ]
    },
    {
     "name": "stdout",
     "output_type": "stream",
     "text": [
      "\n",
      "0: 384x640 (no detections), 32.4ms\n",
      "Speed: 0.6ms preprocess, 32.4ms inference, 0.9ms postprocess per image at shape (1, 3, 384, 640)\n",
      "\n",
      "0: 384x640 (no detections), 32.7ms\n",
      "Speed: 0.6ms preprocess, 32.7ms inference, 0.4ms postprocess per image at shape (1, 3, 384, 640)\n",
      "\n",
      "0: 384x640 (no detections), 32.6ms\n",
      "Speed: 0.5ms preprocess, 32.6ms inference, 0.5ms postprocess per image at shape (1, 3, 384, 640)\n"
     ]
    },
    {
     "name": "stderr",
     "output_type": "stream",
     "text": [
      " 82%|████████▏ | 1759/2158 [01:06<00:14, 26.82it/s]"
     ]
    },
    {
     "name": "stdout",
     "output_type": "stream",
     "text": [
      "\n",
      "0: 384x640 (no detections), 32.5ms\n",
      "Speed: 0.6ms preprocess, 32.5ms inference, 0.5ms postprocess per image at shape (1, 3, 384, 640)\n",
      "\n",
      "0: 384x640 (no detections), 32.6ms\n",
      "Speed: 0.7ms preprocess, 32.6ms inference, 0.7ms postprocess per image at shape (1, 3, 384, 640)\n",
      "\n",
      "0: 384x640 (no detections), 32.7ms\n",
      "Speed: 0.5ms preprocess, 32.7ms inference, 0.5ms postprocess per image at shape (1, 3, 384, 640)\n"
     ]
    },
    {
     "name": "stderr",
     "output_type": "stream",
     "text": [
      " 82%|████████▏ | 1762/2158 [01:06<00:14, 26.88it/s]"
     ]
    },
    {
     "name": "stdout",
     "output_type": "stream",
     "text": [
      "\n",
      "0: 384x640 (no detections), 32.6ms\n",
      "Speed: 0.5ms preprocess, 32.6ms inference, 0.5ms postprocess per image at shape (1, 3, 384, 640)\n",
      "\n",
      "0: 384x640 (no detections), 32.6ms\n",
      "Speed: 0.5ms preprocess, 32.6ms inference, 0.4ms postprocess per image at shape (1, 3, 384, 640)\n",
      "\n",
      "0: 384x640 (no detections), 32.6ms\n",
      "Speed: 0.5ms preprocess, 32.6ms inference, 0.7ms postprocess per image at shape (1, 3, 384, 640)\n"
     ]
    },
    {
     "name": "stderr",
     "output_type": "stream",
     "text": [
      " 82%|████████▏ | 1765/2158 [01:06<00:14, 26.92it/s]"
     ]
    },
    {
     "name": "stdout",
     "output_type": "stream",
     "text": [
      "\n",
      "0: 384x640 (no detections), 32.4ms\n",
      "Speed: 0.7ms preprocess, 32.4ms inference, 0.5ms postprocess per image at shape (1, 3, 384, 640)\n",
      "\n",
      "0: 384x640 (no detections), 32.7ms\n",
      "Speed: 0.6ms preprocess, 32.7ms inference, 0.5ms postprocess per image at shape (1, 3, 384, 640)\n",
      "\n",
      "0: 384x640 (no detections), 32.5ms\n",
      "Speed: 0.5ms preprocess, 32.5ms inference, 0.5ms postprocess per image at shape (1, 3, 384, 640)\n"
     ]
    },
    {
     "name": "stderr",
     "output_type": "stream",
     "text": [
      " 82%|████████▏ | 1768/2158 [01:06<00:14, 26.95it/s]"
     ]
    },
    {
     "name": "stdout",
     "output_type": "stream",
     "text": [
      "\n",
      "0: 384x640 (no detections), 32.7ms\n",
      "Speed: 0.6ms preprocess, 32.7ms inference, 0.5ms postprocess per image at shape (1, 3, 384, 640)\n",
      "\n",
      "0: 384x640 (no detections), 32.3ms\n",
      "Speed: 0.7ms preprocess, 32.3ms inference, 0.5ms postprocess per image at shape (1, 3, 384, 640)\n",
      "\n",
      "0: 384x640 (no detections), 32.6ms\n",
      "Speed: 0.6ms preprocess, 32.6ms inference, 0.5ms postprocess per image at shape (1, 3, 384, 640)\n"
     ]
    },
    {
     "name": "stderr",
     "output_type": "stream",
     "text": [
      " 82%|████████▏ | 1771/2158 [01:06<00:14, 27.00it/s]"
     ]
    },
    {
     "name": "stdout",
     "output_type": "stream",
     "text": [
      "\n",
      "0: 384x640 1 Selvalegre, 32.7ms\n",
      "Speed: 0.6ms preprocess, 32.7ms inference, 0.9ms postprocess per image at shape (1, 3, 384, 640)\n",
      "\n",
      "0: 384x640 (no detections), 32.7ms\n",
      "Speed: 0.5ms preprocess, 32.7ms inference, 0.4ms postprocess per image at shape (1, 3, 384, 640)\n",
      "\n",
      "0: 384x640 (no detections), 32.5ms\n",
      "Speed: 0.6ms preprocess, 32.5ms inference, 0.4ms postprocess per image at shape (1, 3, 384, 640)\n"
     ]
    },
    {
     "name": "stderr",
     "output_type": "stream",
     "text": [
      " 82%|████████▏ | 1774/2158 [01:06<00:14, 26.93it/s]"
     ]
    },
    {
     "name": "stdout",
     "output_type": "stream",
     "text": [
      "\n",
      "0: 384x640 (no detections), 32.5ms\n",
      "Speed: 0.7ms preprocess, 32.5ms inference, 0.5ms postprocess per image at shape (1, 3, 384, 640)\n",
      "\n",
      "0: 384x640 (no detections), 32.7ms\n",
      "Speed: 0.5ms preprocess, 32.7ms inference, 0.5ms postprocess per image at shape (1, 3, 384, 640)\n",
      "\n",
      "0: 384x640 (no detections), 32.7ms\n",
      "Speed: 0.5ms preprocess, 32.7ms inference, 0.4ms postprocess per image at shape (1, 3, 384, 640)\n"
     ]
    },
    {
     "name": "stderr",
     "output_type": "stream",
     "text": [
      " 82%|████████▏ | 1777/2158 [01:06<00:14, 26.96it/s]"
     ]
    },
    {
     "name": "stdout",
     "output_type": "stream",
     "text": [
      "\n",
      "0: 384x640 (no detections), 32.7ms\n",
      "Speed: 0.6ms preprocess, 32.7ms inference, 0.5ms postprocess per image at shape (1, 3, 384, 640)\n",
      "\n",
      "0: 384x640 (no detections), 32.6ms\n",
      "Speed: 0.6ms preprocess, 32.6ms inference, 0.5ms postprocess per image at shape (1, 3, 384, 640)\n",
      "\n",
      "0: 384x640 1 Armaduro, 32.7ms\n",
      "Speed: 0.6ms preprocess, 32.7ms inference, 0.9ms postprocess per image at shape (1, 3, 384, 640)\n"
     ]
    },
    {
     "name": "stderr",
     "output_type": "stream",
     "text": [
      " 82%|████████▏ | 1780/2158 [01:06<00:14, 26.96it/s]"
     ]
    },
    {
     "name": "stdout",
     "output_type": "stream",
     "text": [
      "\n",
      "0: 384x640 1 Armaduro, 32.7ms\n",
      "Speed: 0.5ms preprocess, 32.7ms inference, 1.0ms postprocess per image at shape (1, 3, 384, 640)\n",
      "\n",
      "0: 384x640 1 Armaduro, 32.7ms\n",
      "Speed: 0.6ms preprocess, 32.7ms inference, 0.9ms postprocess per image at shape (1, 3, 384, 640)\n",
      "\n",
      "0: 384x640 1 Armaduro, 32.4ms\n",
      "Speed: 0.8ms preprocess, 32.4ms inference, 1.0ms postprocess per image at shape (1, 3, 384, 640)\n"
     ]
    },
    {
     "name": "stderr",
     "output_type": "stream",
     "text": [
      " 83%|████████▎ | 1783/2158 [01:06<00:14, 26.78it/s]"
     ]
    },
    {
     "name": "stdout",
     "output_type": "stream",
     "text": [
      "\n",
      "0: 384x640 1 Armaduro, 32.7ms\n",
      "Speed: 0.6ms preprocess, 32.7ms inference, 1.0ms postprocess per image at shape (1, 3, 384, 640)\n",
      "\n",
      "0: 384x640 1 Armaduro, 32.5ms\n",
      "Speed: 0.5ms preprocess, 32.5ms inference, 1.0ms postprocess per image at shape (1, 3, 384, 640)\n",
      "\n",
      "0: 384x640 1 Armaduro, 32.6ms\n",
      "Speed: 0.9ms preprocess, 32.6ms inference, 0.9ms postprocess per image at shape (1, 3, 384, 640)\n"
     ]
    },
    {
     "name": "stderr",
     "output_type": "stream",
     "text": [
      " 83%|████████▎ | 1786/2158 [01:07<00:14, 26.40it/s]"
     ]
    },
    {
     "name": "stdout",
     "output_type": "stream",
     "text": [
      "\n",
      "0: 384x640 1 Armaduro, 32.5ms\n",
      "Speed: 0.5ms preprocess, 32.5ms inference, 0.9ms postprocess per image at shape (1, 3, 384, 640)\n",
      "\n",
      "0: 384x640 (no detections), 32.6ms\n",
      "Speed: 0.5ms preprocess, 32.6ms inference, 0.4ms postprocess per image at shape (1, 3, 384, 640)\n",
      "\n",
      "0: 384x640 (no detections), 32.7ms\n",
      "Speed: 0.6ms preprocess, 32.7ms inference, 0.4ms postprocess per image at shape (1, 3, 384, 640)\n"
     ]
    },
    {
     "name": "stderr",
     "output_type": "stream",
     "text": [
      " 83%|████████▎ | 1789/2158 [01:07<00:13, 26.48it/s]"
     ]
    },
    {
     "name": "stdout",
     "output_type": "stream",
     "text": [
      "\n",
      "0: 384x640 (no detections), 32.4ms\n",
      "Speed: 0.7ms preprocess, 32.4ms inference, 0.5ms postprocess per image at shape (1, 3, 384, 640)\n",
      "\n",
      "0: 384x640 (no detections), 32.6ms\n",
      "Speed: 0.6ms preprocess, 32.6ms inference, 0.5ms postprocess per image at shape (1, 3, 384, 640)\n",
      "\n",
      "0: 384x640 (no detections), 32.6ms\n",
      "Speed: 0.6ms preprocess, 32.6ms inference, 0.5ms postprocess per image at shape (1, 3, 384, 640)\n"
     ]
    },
    {
     "name": "stderr",
     "output_type": "stream",
     "text": [
      " 83%|████████▎ | 1792/2158 [01:07<00:13, 26.65it/s]"
     ]
    },
    {
     "name": "stdout",
     "output_type": "stream",
     "text": [
      "\n",
      "0: 384x640 (no detections), 32.5ms\n",
      "Speed: 0.6ms preprocess, 32.5ms inference, 0.5ms postprocess per image at shape (1, 3, 384, 640)\n",
      "\n",
      "0: 384x640 (no detections), 32.7ms\n",
      "Speed: 0.7ms preprocess, 32.7ms inference, 0.5ms postprocess per image at shape (1, 3, 384, 640)\n",
      "\n",
      "0: 384x640 (no detections), 32.6ms\n",
      "Speed: 0.6ms preprocess, 32.6ms inference, 0.5ms postprocess per image at shape (1, 3, 384, 640)\n"
     ]
    },
    {
     "name": "stderr",
     "output_type": "stream",
     "text": [
      " 83%|████████▎ | 1795/2158 [01:07<00:13, 26.73it/s]"
     ]
    },
    {
     "name": "stdout",
     "output_type": "stream",
     "text": [
      "\n",
      "0: 384x640 1 Armaduro, 32.7ms\n",
      "Speed: 0.6ms preprocess, 32.7ms inference, 1.0ms postprocess per image at shape (1, 3, 384, 640)\n",
      "\n",
      "0: 384x640 (no detections), 32.6ms\n",
      "Speed: 0.6ms preprocess, 32.6ms inference, 0.4ms postprocess per image at shape (1, 3, 384, 640)\n",
      "\n",
      "0: 384x640 (no detections), 32.7ms\n",
      "Speed: 0.6ms preprocess, 32.7ms inference, 0.4ms postprocess per image at shape (1, 3, 384, 640)\n"
     ]
    },
    {
     "name": "stderr",
     "output_type": "stream",
     "text": [
      " 83%|████████▎ | 1798/2158 [01:07<00:13, 26.73it/s]"
     ]
    },
    {
     "name": "stdout",
     "output_type": "stream",
     "text": [
      "\n",
      "0: 384x640 (no detections), 32.6ms\n",
      "Speed: 0.7ms preprocess, 32.6ms inference, 0.5ms postprocess per image at shape (1, 3, 384, 640)\n",
      "\n",
      "0: 384x640 (no detections), 32.5ms\n",
      "Speed: 0.6ms preprocess, 32.5ms inference, 0.8ms postprocess per image at shape (1, 3, 384, 640)\n",
      "\n",
      "0: 384x640 (no detections), 32.6ms\n",
      "Speed: 0.6ms preprocess, 32.6ms inference, 0.4ms postprocess per image at shape (1, 3, 384, 640)\n"
     ]
    },
    {
     "name": "stderr",
     "output_type": "stream",
     "text": [
      " 83%|████████▎ | 1801/2158 [01:07<00:13, 26.74it/s]"
     ]
    },
    {
     "name": "stdout",
     "output_type": "stream",
     "text": [
      "\n",
      "0: 384x640 (no detections), 32.6ms\n",
      "Speed: 0.5ms preprocess, 32.6ms inference, 0.5ms postprocess per image at shape (1, 3, 384, 640)\n",
      "\n",
      "0: 384x640 1 Armaduro, 32.6ms\n",
      "Speed: 0.7ms preprocess, 32.6ms inference, 0.9ms postprocess per image at shape (1, 3, 384, 640)\n",
      "\n",
      "0: 384x640 (no detections), 32.7ms\n",
      "Speed: 0.6ms preprocess, 32.7ms inference, 0.7ms postprocess per image at shape (1, 3, 384, 640)\n"
     ]
    },
    {
     "name": "stderr",
     "output_type": "stream",
     "text": [
      " 84%|████████▎ | 1804/2158 [01:07<00:13, 26.76it/s]"
     ]
    },
    {
     "name": "stdout",
     "output_type": "stream",
     "text": [
      "\n",
      "0: 384x640 1 Armaduro, 32.7ms\n",
      "Speed: 0.6ms preprocess, 32.7ms inference, 0.9ms postprocess per image at shape (1, 3, 384, 640)\n",
      "\n",
      "0: 384x640 1 Armaduro, 32.6ms\n",
      "Speed: 0.6ms preprocess, 32.6ms inference, 0.9ms postprocess per image at shape (1, 3, 384, 640)\n",
      "\n",
      "0: 384x640 1 Armaduro, 32.4ms\n",
      "Speed: 0.6ms preprocess, 32.4ms inference, 0.9ms postprocess per image at shape (1, 3, 384, 640)\n"
     ]
    },
    {
     "name": "stderr",
     "output_type": "stream",
     "text": [
      " 84%|████████▎ | 1807/2158 [01:07<00:13, 26.60it/s]"
     ]
    },
    {
     "name": "stdout",
     "output_type": "stream",
     "text": [
      "\n",
      "0: 384x640 1 Armaduro, 32.7ms\n",
      "Speed: 0.6ms preprocess, 32.7ms inference, 1.0ms postprocess per image at shape (1, 3, 384, 640)\n",
      "\n",
      "0: 384x640 (no detections), 32.6ms\n",
      "Speed: 0.6ms preprocess, 32.6ms inference, 0.4ms postprocess per image at shape (1, 3, 384, 640)\n",
      "\n",
      "0: 384x640 1 Armaduro, 32.4ms\n",
      "Speed: 0.7ms preprocess, 32.4ms inference, 1.1ms postprocess per image at shape (1, 3, 384, 640)\n"
     ]
    },
    {
     "name": "stderr",
     "output_type": "stream",
     "text": [
      " 84%|████████▍ | 1810/2158 [01:07<00:13, 26.54it/s]"
     ]
    },
    {
     "name": "stdout",
     "output_type": "stream",
     "text": [
      "\n",
      "0: 384x640 1 Armaduro, 32.4ms\n",
      "Speed: 0.7ms preprocess, 32.4ms inference, 0.9ms postprocess per image at shape (1, 3, 384, 640)\n",
      "\n",
      "0: 384x640 1 Armaduro, 32.6ms\n",
      "Speed: 0.6ms preprocess, 32.6ms inference, 0.9ms postprocess per image at shape (1, 3, 384, 640)\n",
      "\n",
      "0: 384x640 1 Armaduro, 32.7ms\n",
      "Speed: 0.6ms preprocess, 32.7ms inference, 4.7ms postprocess per image at shape (1, 3, 384, 640)\n"
     ]
    },
    {
     "name": "stderr",
     "output_type": "stream",
     "text": [
      " 84%|████████▍ | 1813/2158 [01:08<00:13, 26.11it/s]"
     ]
    },
    {
     "name": "stdout",
     "output_type": "stream",
     "text": [
      "\n",
      "0: 384x640 1 Armaduro, 32.6ms\n",
      "Speed: 0.7ms preprocess, 32.6ms inference, 0.9ms postprocess per image at shape (1, 3, 384, 640)\n",
      "\n",
      "0: 384x640 (no detections), 32.6ms\n",
      "Speed: 0.6ms preprocess, 32.6ms inference, 0.4ms postprocess per image at shape (1, 3, 384, 640)\n",
      "\n",
      "0: 384x640 (no detections), 32.7ms\n",
      "Speed: 0.5ms preprocess, 32.7ms inference, 0.5ms postprocess per image at shape (1, 3, 384, 640)\n"
     ]
    },
    {
     "name": "stderr",
     "output_type": "stream",
     "text": [
      " 84%|████████▍ | 1816/2158 [01:08<00:13, 26.23it/s]"
     ]
    },
    {
     "name": "stdout",
     "output_type": "stream",
     "text": [
      "\n",
      "0: 384x640 (no detections), 32.6ms\n",
      "Speed: 0.7ms preprocess, 32.6ms inference, 0.5ms postprocess per image at shape (1, 3, 384, 640)\n",
      "\n",
      "0: 384x640 (no detections), 32.6ms\n",
      "Speed: 0.6ms preprocess, 32.6ms inference, 0.7ms postprocess per image at shape (1, 3, 384, 640)\n",
      "\n",
      "0: 384x640 (no detections), 32.6ms\n",
      "Speed: 0.5ms preprocess, 32.6ms inference, 0.4ms postprocess per image at shape (1, 3, 384, 640)\n"
     ]
    },
    {
     "name": "stderr",
     "output_type": "stream",
     "text": [
      " 84%|████████▍ | 1819/2158 [01:08<00:12, 26.45it/s]"
     ]
    },
    {
     "name": "stdout",
     "output_type": "stream",
     "text": [
      "\n",
      "0: 384x640 (no detections), 32.7ms\n",
      "Speed: 0.5ms preprocess, 32.7ms inference, 0.5ms postprocess per image at shape (1, 3, 384, 640)\n",
      "\n",
      "0: 384x640 (no detections), 32.1ms\n",
      "Speed: 0.6ms preprocess, 32.1ms inference, 0.6ms postprocess per image at shape (1, 3, 384, 640)\n",
      "\n",
      "0: 384x640 (no detections), 32.6ms\n",
      "Speed: 0.6ms preprocess, 32.6ms inference, 0.5ms postprocess per image at shape (1, 3, 384, 640)\n"
     ]
    },
    {
     "name": "stderr",
     "output_type": "stream",
     "text": [
      " 84%|████████▍ | 1822/2158 [01:08<00:12, 26.59it/s]"
     ]
    },
    {
     "name": "stdout",
     "output_type": "stream",
     "text": [
      "\n",
      "0: 384x640 (no detections), 32.6ms\n",
      "Speed: 0.6ms preprocess, 32.6ms inference, 0.5ms postprocess per image at shape (1, 3, 384, 640)\n",
      "\n",
      "0: 384x640 (no detections), 32.7ms\n",
      "Speed: 0.5ms preprocess, 32.7ms inference, 0.5ms postprocess per image at shape (1, 3, 384, 640)\n",
      "\n",
      "0: 384x640 (no detections), 32.4ms\n",
      "Speed: 0.7ms preprocess, 32.4ms inference, 0.5ms postprocess per image at shape (1, 3, 384, 640)\n"
     ]
    },
    {
     "name": "stderr",
     "output_type": "stream",
     "text": [
      " 85%|████████▍ | 1825/2158 [01:08<00:12, 26.71it/s]"
     ]
    },
    {
     "name": "stdout",
     "output_type": "stream",
     "text": [
      "\n",
      "0: 384x640 (no detections), 32.6ms\n",
      "Speed: 0.6ms preprocess, 32.6ms inference, 0.5ms postprocess per image at shape (1, 3, 384, 640)\n",
      "\n",
      "0: 384x640 (no detections), 32.6ms\n",
      "Speed: 0.5ms preprocess, 32.6ms inference, 0.5ms postprocess per image at shape (1, 3, 384, 640)\n",
      "\n",
      "0: 384x640 1 Armaduro, 32.7ms\n",
      "Speed: 0.5ms preprocess, 32.7ms inference, 0.9ms postprocess per image at shape (1, 3, 384, 640)\n"
     ]
    },
    {
     "name": "stderr",
     "output_type": "stream",
     "text": [
      " 85%|████████▍ | 1828/2158 [01:08<00:12, 26.78it/s]"
     ]
    },
    {
     "name": "stdout",
     "output_type": "stream",
     "text": [
      "\n",
      "0: 384x640 (no detections), 32.4ms\n",
      "Speed: 0.7ms preprocess, 32.4ms inference, 0.5ms postprocess per image at shape (1, 3, 384, 640)\n",
      "\n",
      "0: 384x640 (no detections), 32.6ms\n",
      "Speed: 0.8ms preprocess, 32.6ms inference, 0.5ms postprocess per image at shape (1, 3, 384, 640)\n",
      "\n",
      "0: 384x640 (no detections), 32.5ms\n",
      "Speed: 0.6ms preprocess, 32.5ms inference, 0.5ms postprocess per image at shape (1, 3, 384, 640)\n"
     ]
    },
    {
     "name": "stderr",
     "output_type": "stream",
     "text": [
      " 85%|████████▍ | 1831/2158 [01:08<00:12, 26.85it/s]"
     ]
    },
    {
     "name": "stdout",
     "output_type": "stream",
     "text": [
      "\n",
      "0: 384x640 (no detections), 32.6ms\n",
      "Speed: 0.6ms preprocess, 32.6ms inference, 0.5ms postprocess per image at shape (1, 3, 384, 640)\n",
      "\n",
      "0: 384x640 (no detections), 32.6ms\n",
      "Speed: 0.7ms preprocess, 32.6ms inference, 0.4ms postprocess per image at shape (1, 3, 384, 640)\n",
      "\n",
      "0: 384x640 1 Armaduro, 32.4ms\n",
      "Speed: 0.7ms preprocess, 32.4ms inference, 0.9ms postprocess per image at shape (1, 3, 384, 640)\n"
     ]
    },
    {
     "name": "stderr",
     "output_type": "stream",
     "text": [
      " 85%|████████▍ | 1834/2158 [01:08<00:12, 26.87it/s]"
     ]
    },
    {
     "name": "stdout",
     "output_type": "stream",
     "text": [
      "\n",
      "0: 384x640 1 Armaduro, 32.7ms\n",
      "Speed: 0.5ms preprocess, 32.7ms inference, 1.8ms postprocess per image at shape (1, 3, 384, 640)\n",
      "\n",
      "0: 384x640 (no detections), 32.6ms\n",
      "Speed: 0.5ms preprocess, 32.6ms inference, 0.4ms postprocess per image at shape (1, 3, 384, 640)\n",
      "\n",
      "0: 384x640 1 Armaduro, 32.4ms\n",
      "Speed: 0.6ms preprocess, 32.4ms inference, 0.9ms postprocess per image at shape (1, 3, 384, 640)\n"
     ]
    },
    {
     "name": "stderr",
     "output_type": "stream",
     "text": [
      " 85%|████████▌ | 1837/2158 [01:08<00:12, 26.68it/s]"
     ]
    },
    {
     "name": "stdout",
     "output_type": "stream",
     "text": [
      "\n",
      "0: 384x640 1 Armaduro, 32.6ms\n",
      "Speed: 0.7ms preprocess, 32.6ms inference, 1.9ms postprocess per image at shape (1, 3, 384, 640)\n",
      "\n",
      "0: 384x640 1 Armaduro, 32.6ms\n",
      "Speed: 0.7ms preprocess, 32.6ms inference, 0.9ms postprocess per image at shape (1, 3, 384, 640)\n",
      "\n",
      "0: 384x640 1 Armaduro, 32.7ms\n",
      "Speed: 0.6ms preprocess, 32.7ms inference, 0.9ms postprocess per image at shape (1, 3, 384, 640)\n"
     ]
    },
    {
     "name": "stderr",
     "output_type": "stream",
     "text": [
      " 85%|████████▌ | 1840/2158 [01:09<00:12, 26.47it/s]"
     ]
    },
    {
     "name": "stdout",
     "output_type": "stream",
     "text": [
      "\n",
      "0: 384x640 1 Armaduro, 32.3ms\n",
      "Speed: 0.6ms preprocess, 32.3ms inference, 1.3ms postprocess per image at shape (1, 3, 384, 640)\n",
      "\n",
      "0: 384x640 (no detections), 32.3ms\n",
      "Speed: 0.6ms preprocess, 32.3ms inference, 0.4ms postprocess per image at shape (1, 3, 384, 640)\n",
      "\n",
      "0: 384x640 (no detections), 32.6ms\n",
      "Speed: 0.6ms preprocess, 32.6ms inference, 0.5ms postprocess per image at shape (1, 3, 384, 640)\n"
     ]
    },
    {
     "name": "stderr",
     "output_type": "stream",
     "text": [
      " 85%|████████▌ | 1843/2158 [01:09<00:11, 26.58it/s]"
     ]
    },
    {
     "name": "stdout",
     "output_type": "stream",
     "text": [
      "\n",
      "0: 384x640 (no detections), 32.6ms\n",
      "Speed: 0.6ms preprocess, 32.6ms inference, 0.5ms postprocess per image at shape (1, 3, 384, 640)\n",
      "\n",
      "0: 384x640 (no detections), 32.7ms\n",
      "Speed: 0.6ms preprocess, 32.7ms inference, 0.5ms postprocess per image at shape (1, 3, 384, 640)\n",
      "\n",
      "0: 384x640 (no detections), 32.6ms\n",
      "Speed: 0.6ms preprocess, 32.6ms inference, 0.5ms postprocess per image at shape (1, 3, 384, 640)\n"
     ]
    },
    {
     "name": "stderr",
     "output_type": "stream",
     "text": [
      " 86%|████████▌ | 1846/2158 [01:09<00:11, 26.70it/s]"
     ]
    },
    {
     "name": "stdout",
     "output_type": "stream",
     "text": [
      "\n",
      "0: 384x640 (no detections), 32.7ms\n",
      "Speed: 0.7ms preprocess, 32.7ms inference, 0.5ms postprocess per image at shape (1, 3, 384, 640)\n",
      "\n",
      "0: 384x640 (no detections), 32.7ms\n",
      "Speed: 0.5ms preprocess, 32.7ms inference, 0.4ms postprocess per image at shape (1, 3, 384, 640)\n",
      "\n",
      "0: 384x640 (no detections), 32.6ms\n",
      "Speed: 0.5ms preprocess, 32.6ms inference, 0.4ms postprocess per image at shape (1, 3, 384, 640)\n"
     ]
    },
    {
     "name": "stderr",
     "output_type": "stream",
     "text": [
      " 86%|████████▌ | 1849/2158 [01:09<00:11, 26.69it/s]"
     ]
    },
    {
     "name": "stdout",
     "output_type": "stream",
     "text": [
      "\n",
      "0: 384x640 (no detections), 32.6ms\n",
      "Speed: 0.7ms preprocess, 32.6ms inference, 0.5ms postprocess per image at shape (1, 3, 384, 640)\n",
      "\n",
      "0: 384x640 (no detections), 32.6ms\n",
      "Speed: 0.5ms preprocess, 32.6ms inference, 0.5ms postprocess per image at shape (1, 3, 384, 640)\n",
      "\n",
      "0: 384x640 (no detections), 32.6ms\n",
      "Speed: 0.5ms preprocess, 32.6ms inference, 0.5ms postprocess per image at shape (1, 3, 384, 640)\n"
     ]
    },
    {
     "name": "stderr",
     "output_type": "stream",
     "text": [
      " 86%|████████▌ | 1852/2158 [01:09<00:11, 26.78it/s]"
     ]
    },
    {
     "name": "stdout",
     "output_type": "stream",
     "text": [
      "\n",
      "0: 384x640 (no detections), 32.7ms\n",
      "Speed: 0.6ms preprocess, 32.7ms inference, 0.5ms postprocess per image at shape (1, 3, 384, 640)\n",
      "\n",
      "0: 384x640 (no detections), 32.6ms\n",
      "Speed: 0.6ms preprocess, 32.6ms inference, 0.5ms postprocess per image at shape (1, 3, 384, 640)\n",
      "\n",
      "0: 384x640 (no detections), 32.6ms\n",
      "Speed: 0.6ms preprocess, 32.6ms inference, 0.5ms postprocess per image at shape (1, 3, 384, 640)\n"
     ]
    },
    {
     "name": "stderr",
     "output_type": "stream",
     "text": [
      " 86%|████████▌ | 1855/2158 [01:09<00:11, 26.88it/s]"
     ]
    },
    {
     "name": "stdout",
     "output_type": "stream",
     "text": [
      "\n",
      "0: 384x640 (no detections), 32.6ms\n",
      "Speed: 0.6ms preprocess, 32.6ms inference, 0.5ms postprocess per image at shape (1, 3, 384, 640)\n",
      "\n",
      "0: 384x640 (no detections), 32.5ms\n",
      "Speed: 0.5ms preprocess, 32.5ms inference, 0.7ms postprocess per image at shape (1, 3, 384, 640)\n",
      "\n",
      "0: 384x640 (no detections), 32.6ms\n",
      "Speed: 0.8ms preprocess, 32.6ms inference, 0.5ms postprocess per image at shape (1, 3, 384, 640)\n"
     ]
    },
    {
     "name": "stderr",
     "output_type": "stream",
     "text": [
      " 86%|████████▌ | 1858/2158 [01:09<00:11, 26.93it/s]"
     ]
    },
    {
     "name": "stdout",
     "output_type": "stream",
     "text": [
      "\n",
      "0: 384x640 (no detections), 32.6ms\n",
      "Speed: 0.5ms preprocess, 32.6ms inference, 0.5ms postprocess per image at shape (1, 3, 384, 640)\n",
      "\n",
      "0: 384x640 (no detections), 32.5ms\n",
      "Speed: 0.6ms preprocess, 32.5ms inference, 0.7ms postprocess per image at shape (1, 3, 384, 640)\n",
      "\n",
      "0: 384x640 (no detections), 32.7ms\n",
      "Speed: 0.6ms preprocess, 32.7ms inference, 0.5ms postprocess per image at shape (1, 3, 384, 640)\n"
     ]
    },
    {
     "name": "stderr",
     "output_type": "stream",
     "text": [
      " 86%|████████▌ | 1861/2158 [01:09<00:11, 26.97it/s]"
     ]
    },
    {
     "name": "stdout",
     "output_type": "stream",
     "text": [
      "\n",
      "0: 384x640 (no detections), 32.4ms\n",
      "Speed: 0.6ms preprocess, 32.4ms inference, 0.7ms postprocess per image at shape (1, 3, 384, 640)\n",
      "\n",
      "0: 384x640 (no detections), 32.6ms\n",
      "Speed: 0.6ms preprocess, 32.6ms inference, 0.5ms postprocess per image at shape (1, 3, 384, 640)\n",
      "\n",
      "0: 384x640 (no detections), 32.6ms\n",
      "Speed: 0.7ms preprocess, 32.6ms inference, 0.5ms postprocess per image at shape (1, 3, 384, 640)\n"
     ]
    },
    {
     "name": "stderr",
     "output_type": "stream",
     "text": [
      " 86%|████████▋ | 1864/2158 [01:09<00:10, 26.97it/s]"
     ]
    },
    {
     "name": "stdout",
     "output_type": "stream",
     "text": [
      "\n",
      "0: 384x640 (no detections), 32.6ms\n",
      "Speed: 0.6ms preprocess, 32.6ms inference, 0.5ms postprocess per image at shape (1, 3, 384, 640)\n",
      "\n",
      "0: 384x640 (no detections), 32.6ms\n",
      "Speed: 0.6ms preprocess, 32.6ms inference, 0.4ms postprocess per image at shape (1, 3, 384, 640)\n",
      "\n",
      "0: 384x640 (no detections), 32.6ms\n",
      "Speed: 0.6ms preprocess, 32.6ms inference, 0.5ms postprocess per image at shape (1, 3, 384, 640)\n"
     ]
    },
    {
     "name": "stderr",
     "output_type": "stream",
     "text": [
      " 87%|████████▋ | 1867/2158 [01:10<00:10, 27.02it/s]"
     ]
    },
    {
     "name": "stdout",
     "output_type": "stream",
     "text": [
      "\n",
      "0: 384x640 1 Armaduro, 32.6ms\n",
      "Speed: 0.6ms preprocess, 32.6ms inference, 0.9ms postprocess per image at shape (1, 3, 384, 640)\n",
      "\n",
      "0: 384x640 (no detections), 32.6ms\n",
      "Speed: 0.5ms preprocess, 32.6ms inference, 0.5ms postprocess per image at shape (1, 3, 384, 640)\n",
      "\n",
      "0: 384x640 1 Armaduro, 32.6ms\n",
      "Speed: 0.6ms preprocess, 32.6ms inference, 0.9ms postprocess per image at shape (1, 3, 384, 640)\n"
     ]
    },
    {
     "name": "stderr",
     "output_type": "stream",
     "text": [
      " 87%|████████▋ | 1870/2158 [01:10<00:10, 26.94it/s]"
     ]
    },
    {
     "name": "stdout",
     "output_type": "stream",
     "text": [
      "\n",
      "0: 384x640 1 Armaduro, 32.7ms\n",
      "Speed: 0.5ms preprocess, 32.7ms inference, 0.9ms postprocess per image at shape (1, 3, 384, 640)\n",
      "\n",
      "0: 384x640 1 Armaduro, 32.7ms\n",
      "Speed: 0.6ms preprocess, 32.7ms inference, 0.9ms postprocess per image at shape (1, 3, 384, 640)\n",
      "\n",
      "0: 384x640 (no detections), 32.6ms\n",
      "Speed: 0.6ms preprocess, 32.6ms inference, 0.4ms postprocess per image at shape (1, 3, 384, 640)\n"
     ]
    },
    {
     "name": "stderr",
     "output_type": "stream",
     "text": [
      " 87%|████████▋ | 1873/2158 [01:10<00:10, 26.79it/s]"
     ]
    },
    {
     "name": "stdout",
     "output_type": "stream",
     "text": [
      "\n",
      "0: 384x640 1 Armaduro, 32.6ms\n",
      "Speed: 0.5ms preprocess, 32.6ms inference, 0.9ms postprocess per image at shape (1, 3, 384, 640)\n",
      "\n",
      "0: 384x640 1 Armaduro, 32.6ms\n",
      "Speed: 0.5ms preprocess, 32.6ms inference, 1.0ms postprocess per image at shape (1, 3, 384, 640)\n",
      "\n",
      "0: 384x640 1 Armaduro, 32.6ms\n",
      "Speed: 0.6ms preprocess, 32.6ms inference, 0.9ms postprocess per image at shape (1, 3, 384, 640)\n"
     ]
    },
    {
     "name": "stderr",
     "output_type": "stream",
     "text": [
      " 87%|████████▋ | 1876/2158 [01:10<00:10, 26.65it/s]"
     ]
    },
    {
     "name": "stdout",
     "output_type": "stream",
     "text": [
      "\n",
      "0: 384x640 1 Armaduro, 32.7ms\n",
      "Speed: 0.5ms preprocess, 32.7ms inference, 1.0ms postprocess per image at shape (1, 3, 384, 640)\n",
      "\n",
      "0: 384x640 1 Armaduro, 32.4ms\n",
      "Speed: 0.5ms preprocess, 32.4ms inference, 1.7ms postprocess per image at shape (1, 3, 384, 640)\n",
      "\n",
      "0: 384x640 1 Armaduro, 32.6ms\n",
      "Speed: 0.6ms preprocess, 32.6ms inference, 0.9ms postprocess per image at shape (1, 3, 384, 640)\n"
     ]
    },
    {
     "name": "stderr",
     "output_type": "stream",
     "text": [
      " 87%|████████▋ | 1879/2158 [01:10<00:10, 26.47it/s]"
     ]
    },
    {
     "name": "stdout",
     "output_type": "stream",
     "text": [
      "\n",
      "0: 384x640 (no detections), 32.4ms\n",
      "Speed: 0.5ms preprocess, 32.4ms inference, 0.5ms postprocess per image at shape (1, 3, 384, 640)\n",
      "\n",
      "0: 384x640 (no detections), 32.7ms\n",
      "Speed: 0.5ms preprocess, 32.7ms inference, 0.5ms postprocess per image at shape (1, 3, 384, 640)\n",
      "\n",
      "0: 384x640 (no detections), 32.7ms\n",
      "Speed: 0.5ms preprocess, 32.7ms inference, 0.4ms postprocess per image at shape (1, 3, 384, 640)\n"
     ]
    },
    {
     "name": "stderr",
     "output_type": "stream",
     "text": [
      " 87%|████████▋ | 1882/2158 [01:10<00:10, 26.58it/s]"
     ]
    },
    {
     "name": "stdout",
     "output_type": "stream",
     "text": [
      "\n",
      "0: 384x640 (no detections), 32.6ms\n",
      "Speed: 0.6ms preprocess, 32.6ms inference, 0.5ms postprocess per image at shape (1, 3, 384, 640)\n",
      "\n",
      "0: 384x640 (no detections), 32.5ms\n",
      "Speed: 0.5ms preprocess, 32.5ms inference, 0.4ms postprocess per image at shape (1, 3, 384, 640)\n",
      "\n",
      "0: 384x640 (no detections), 32.4ms\n",
      "Speed: 0.6ms preprocess, 32.4ms inference, 0.5ms postprocess per image at shape (1, 3, 384, 640)\n"
     ]
    },
    {
     "name": "stderr",
     "output_type": "stream",
     "text": [
      " 87%|████████▋ | 1885/2158 [01:10<00:10, 26.74it/s]"
     ]
    },
    {
     "name": "stdout",
     "output_type": "stream",
     "text": [
      "\n",
      "0: 384x640 (no detections), 32.6ms\n",
      "Speed: 0.6ms preprocess, 32.6ms inference, 0.5ms postprocess per image at shape (1, 3, 384, 640)\n",
      "\n",
      "0: 384x640 (no detections), 32.6ms\n",
      "Speed: 0.6ms preprocess, 32.6ms inference, 0.5ms postprocess per image at shape (1, 3, 384, 640)\n",
      "\n",
      "0: 384x640 (no detections), 32.4ms\n",
      "Speed: 0.7ms preprocess, 32.4ms inference, 0.8ms postprocess per image at shape (1, 3, 384, 640)\n"
     ]
    },
    {
     "name": "stderr",
     "output_type": "stream",
     "text": [
      " 87%|████████▋ | 1888/2158 [01:10<00:10, 26.82it/s]"
     ]
    },
    {
     "name": "stdout",
     "output_type": "stream",
     "text": [
      "\n",
      "0: 384x640 (no detections), 32.6ms\n",
      "Speed: 0.6ms preprocess, 32.6ms inference, 0.5ms postprocess per image at shape (1, 3, 384, 640)\n",
      "\n",
      "0: 384x640 (no detections), 32.7ms\n",
      "Speed: 0.6ms preprocess, 32.7ms inference, 0.5ms postprocess per image at shape (1, 3, 384, 640)\n",
      "\n",
      "0: 384x640 (no detections), 32.4ms\n",
      "Speed: 0.6ms preprocess, 32.4ms inference, 0.5ms postprocess per image at shape (1, 3, 384, 640)\n"
     ]
    },
    {
     "name": "stderr",
     "output_type": "stream",
     "text": [
      " 88%|████████▊ | 1891/2158 [01:10<00:09, 26.85it/s]"
     ]
    },
    {
     "name": "stdout",
     "output_type": "stream",
     "text": [
      "\n",
      "0: 384x640 (no detections), 32.7ms\n",
      "Speed: 0.6ms preprocess, 32.7ms inference, 0.7ms postprocess per image at shape (1, 3, 384, 640)\n",
      "\n",
      "0: 384x640 (no detections), 32.7ms\n",
      "Speed: 0.7ms preprocess, 32.7ms inference, 0.5ms postprocess per image at shape (1, 3, 384, 640)\n",
      "\n",
      "0: 384x640 (no detections), 32.6ms\n",
      "Speed: 0.6ms preprocess, 32.6ms inference, 0.5ms postprocess per image at shape (1, 3, 384, 640)\n"
     ]
    },
    {
     "name": "stderr",
     "output_type": "stream",
     "text": [
      " 88%|████████▊ | 1894/2158 [01:11<00:09, 26.78it/s]"
     ]
    },
    {
     "name": "stdout",
     "output_type": "stream",
     "text": [
      "\n",
      "0: 384x640 (no detections), 32.7ms\n",
      "Speed: 0.5ms preprocess, 32.7ms inference, 0.5ms postprocess per image at shape (1, 3, 384, 640)\n",
      "\n",
      "0: 384x640 (no detections), 32.1ms\n",
      "Speed: 0.8ms preprocess, 32.1ms inference, 0.5ms postprocess per image at shape (1, 3, 384, 640)\n",
      "\n",
      "0: 384x640 (no detections), 32.6ms\n",
      "Speed: 0.6ms preprocess, 32.6ms inference, 0.5ms postprocess per image at shape (1, 3, 384, 640)\n"
     ]
    },
    {
     "name": "stderr",
     "output_type": "stream",
     "text": [
      " 88%|████████▊ | 1897/2158 [01:11<00:09, 26.83it/s]"
     ]
    },
    {
     "name": "stdout",
     "output_type": "stream",
     "text": [
      "\n",
      "0: 384x640 (no detections), 32.7ms\n",
      "Speed: 0.6ms preprocess, 32.7ms inference, 0.5ms postprocess per image at shape (1, 3, 384, 640)\n",
      "\n",
      "0: 384x640 (no detections), 32.3ms\n",
      "Speed: 0.6ms preprocess, 32.3ms inference, 0.5ms postprocess per image at shape (1, 3, 384, 640)\n",
      "\n",
      "0: 384x640 1 Armaduro, 32.8ms\n",
      "Speed: 0.6ms preprocess, 32.8ms inference, 0.9ms postprocess per image at shape (1, 3, 384, 640)\n"
     ]
    },
    {
     "name": "stderr",
     "output_type": "stream",
     "text": [
      " 88%|████████▊ | 1900/2158 [01:11<00:09, 26.75it/s]"
     ]
    },
    {
     "name": "stdout",
     "output_type": "stream",
     "text": [
      "\n",
      "0: 384x640 1 Armaduro, 32.4ms\n",
      "Speed: 0.6ms preprocess, 32.4ms inference, 1.0ms postprocess per image at shape (1, 3, 384, 640)\n",
      "\n",
      "0: 384x640 1 Armaduro, 32.6ms\n",
      "Speed: 0.6ms preprocess, 32.6ms inference, 0.9ms postprocess per image at shape (1, 3, 384, 640)\n",
      "\n",
      "0: 384x640 1 Armaduro, 32.4ms\n",
      "Speed: 0.6ms preprocess, 32.4ms inference, 1.0ms postprocess per image at shape (1, 3, 384, 640)\n"
     ]
    },
    {
     "name": "stderr",
     "output_type": "stream",
     "text": [
      " 88%|████████▊ | 1903/2158 [01:11<00:09, 26.59it/s]"
     ]
    },
    {
     "name": "stdout",
     "output_type": "stream",
     "text": [
      "\n",
      "0: 384x640 1 Armaduro, 33.1ms\n",
      "Speed: 0.7ms preprocess, 33.1ms inference, 1.0ms postprocess per image at shape (1, 3, 384, 640)\n",
      "\n",
      "0: 384x640 1 Armaduro, 32.8ms\n",
      "Speed: 0.6ms preprocess, 32.8ms inference, 0.9ms postprocess per image at shape (1, 3, 384, 640)\n",
      "\n",
      "0: 384x640 1 Armaduro, 33.1ms\n",
      "Speed: 0.6ms preprocess, 33.1ms inference, 1.0ms postprocess per image at shape (1, 3, 384, 640)\n"
     ]
    },
    {
     "name": "stderr",
     "output_type": "stream",
     "text": [
      " 88%|████████▊ | 1906/2158 [01:11<00:09, 26.37it/s]"
     ]
    },
    {
     "name": "stdout",
     "output_type": "stream",
     "text": [
      "\n",
      "0: 384x640 1 Armaduro, 32.7ms\n",
      "Speed: 0.6ms preprocess, 32.7ms inference, 1.0ms postprocess per image at shape (1, 3, 384, 640)\n",
      "\n",
      "0: 384x640 1 Armaduro, 32.7ms\n",
      "Speed: 0.6ms preprocess, 32.7ms inference, 1.0ms postprocess per image at shape (1, 3, 384, 640)\n",
      "\n",
      "0: 384x640 1 Armaduro, 32.7ms\n",
      "Speed: 0.6ms preprocess, 32.7ms inference, 1.0ms postprocess per image at shape (1, 3, 384, 640)\n"
     ]
    },
    {
     "name": "stderr",
     "output_type": "stream",
     "text": [
      " 88%|████████▊ | 1909/2158 [01:11<00:09, 26.24it/s]"
     ]
    },
    {
     "name": "stdout",
     "output_type": "stream",
     "text": [
      "\n",
      "0: 384x640 (no detections), 32.6ms\n",
      "Speed: 0.6ms preprocess, 32.6ms inference, 0.5ms postprocess per image at shape (1, 3, 384, 640)\n",
      "\n",
      "0: 384x640 (no detections), 32.6ms\n",
      "Speed: 0.5ms preprocess, 32.6ms inference, 0.5ms postprocess per image at shape (1, 3, 384, 640)\n",
      "\n",
      "0: 384x640 (no detections), 32.7ms\n",
      "Speed: 0.6ms preprocess, 32.7ms inference, 0.5ms postprocess per image at shape (1, 3, 384, 640)\n"
     ]
    },
    {
     "name": "stderr",
     "output_type": "stream",
     "text": [
      " 89%|████████▊ | 1912/2158 [01:11<00:09, 26.42it/s]"
     ]
    },
    {
     "name": "stdout",
     "output_type": "stream",
     "text": [
      "\n",
      "0: 384x640 (no detections), 32.7ms\n",
      "Speed: 0.5ms preprocess, 32.7ms inference, 0.5ms postprocess per image at shape (1, 3, 384, 640)\n",
      "\n",
      "0: 384x640 (no detections), 32.7ms\n",
      "Speed: 0.7ms preprocess, 32.7ms inference, 0.4ms postprocess per image at shape (1, 3, 384, 640)\n",
      "\n",
      "0: 384x640 (no detections), 32.6ms\n",
      "Speed: 0.6ms preprocess, 32.6ms inference, 0.5ms postprocess per image at shape (1, 3, 384, 640)\n"
     ]
    },
    {
     "name": "stderr",
     "output_type": "stream",
     "text": [
      " 89%|████████▊ | 1915/2158 [01:11<00:09, 26.59it/s]"
     ]
    },
    {
     "name": "stdout",
     "output_type": "stream",
     "text": [
      "\n",
      "0: 384x640 (no detections), 32.6ms\n",
      "Speed: 0.7ms preprocess, 32.6ms inference, 0.5ms postprocess per image at shape (1, 3, 384, 640)\n",
      "\n",
      "0: 384x640 (no detections), 32.7ms\n",
      "Speed: 0.6ms preprocess, 32.7ms inference, 0.5ms postprocess per image at shape (1, 3, 384, 640)\n",
      "\n",
      "0: 384x640 (no detections), 32.7ms\n",
      "Speed: 0.6ms preprocess, 32.7ms inference, 2.2ms postprocess per image at shape (1, 3, 384, 640)\n"
     ]
    },
    {
     "name": "stderr",
     "output_type": "stream",
     "text": [
      " 89%|████████▉ | 1918/2158 [01:12<00:09, 26.56it/s]"
     ]
    },
    {
     "name": "stdout",
     "output_type": "stream",
     "text": [
      "\n",
      "0: 384x640 (no detections), 32.8ms\n",
      "Speed: 0.6ms preprocess, 32.8ms inference, 0.5ms postprocess per image at shape (1, 3, 384, 640)\n",
      "\n",
      "0: 384x640 (no detections), 32.7ms\n",
      "Speed: 0.6ms preprocess, 32.7ms inference, 0.5ms postprocess per image at shape (1, 3, 384, 640)\n",
      "\n",
      "0: 384x640 (no detections), 32.7ms\n",
      "Speed: 0.5ms preprocess, 32.7ms inference, 0.4ms postprocess per image at shape (1, 3, 384, 640)\n"
     ]
    },
    {
     "name": "stderr",
     "output_type": "stream",
     "text": [
      " 89%|████████▉ | 1921/2158 [01:12<00:08, 26.62it/s]"
     ]
    },
    {
     "name": "stdout",
     "output_type": "stream",
     "text": [
      "\n",
      "0: 384x640 (no detections), 32.7ms\n",
      "Speed: 0.8ms preprocess, 32.7ms inference, 0.5ms postprocess per image at shape (1, 3, 384, 640)\n",
      "\n",
      "0: 384x640 (no detections), 32.6ms\n",
      "Speed: 0.7ms preprocess, 32.6ms inference, 0.5ms postprocess per image at shape (1, 3, 384, 640)\n",
      "\n",
      "0: 384x640 (no detections), 32.8ms\n",
      "Speed: 0.6ms preprocess, 32.8ms inference, 0.5ms postprocess per image at shape (1, 3, 384, 640)\n"
     ]
    },
    {
     "name": "stderr",
     "output_type": "stream",
     "text": [
      " 89%|████████▉ | 1924/2158 [01:12<00:08, 26.70it/s]"
     ]
    },
    {
     "name": "stdout",
     "output_type": "stream",
     "text": [
      "\n",
      "0: 384x640 1 Armaduro, 32.8ms\n",
      "Speed: 0.5ms preprocess, 32.8ms inference, 0.9ms postprocess per image at shape (1, 3, 384, 640)\n",
      "\n",
      "0: 384x640 (no detections), 32.8ms\n",
      "Speed: 0.5ms preprocess, 32.8ms inference, 0.6ms postprocess per image at shape (1, 3, 384, 640)\n",
      "\n",
      "0: 384x640 (no detections), 32.4ms\n",
      "Speed: 0.6ms preprocess, 32.4ms inference, 0.5ms postprocess per image at shape (1, 3, 384, 640)\n"
     ]
    },
    {
     "name": "stderr",
     "output_type": "stream",
     "text": [
      " 89%|████████▉ | 1927/2158 [01:12<00:08, 26.72it/s]"
     ]
    },
    {
     "name": "stdout",
     "output_type": "stream",
     "text": [
      "\n",
      "0: 384x640 (no detections), 32.6ms\n",
      "Speed: 0.6ms preprocess, 32.6ms inference, 0.5ms postprocess per image at shape (1, 3, 384, 640)\n",
      "\n",
      "0: 384x640 (no detections), 32.6ms\n",
      "Speed: 0.6ms preprocess, 32.6ms inference, 0.5ms postprocess per image at shape (1, 3, 384, 640)\n",
      "\n",
      "0: 384x640 1 Armaduro, 32.5ms\n",
      "Speed: 0.5ms preprocess, 32.5ms inference, 1.0ms postprocess per image at shape (1, 3, 384, 640)\n"
     ]
    },
    {
     "name": "stderr",
     "output_type": "stream",
     "text": [
      " 89%|████████▉ | 1930/2158 [01:12<00:08, 26.74it/s]"
     ]
    },
    {
     "name": "stdout",
     "output_type": "stream",
     "text": [
      "\n",
      "0: 384x640 (no detections), 32.7ms\n",
      "Speed: 0.7ms preprocess, 32.7ms inference, 0.5ms postprocess per image at shape (1, 3, 384, 640)\n",
      "\n",
      "0: 384x640 (no detections), 32.6ms\n",
      "Speed: 0.7ms preprocess, 32.6ms inference, 0.5ms postprocess per image at shape (1, 3, 384, 640)\n",
      "\n",
      "0: 384x640 1 Armaduro, 32.7ms\n",
      "Speed: 0.5ms preprocess, 32.7ms inference, 1.0ms postprocess per image at shape (1, 3, 384, 640)\n"
     ]
    },
    {
     "name": "stderr",
     "output_type": "stream",
     "text": [
      " 90%|████████▉ | 1933/2158 [01:12<00:08, 26.66it/s]"
     ]
    },
    {
     "name": "stdout",
     "output_type": "stream",
     "text": [
      "\n",
      "0: 384x640 1 Selvalegre, 32.7ms\n",
      "Speed: 0.6ms preprocess, 32.7ms inference, 1.0ms postprocess per image at shape (1, 3, 384, 640)\n",
      "\n",
      "0: 384x640 (no detections), 32.6ms\n",
      "Speed: 0.6ms preprocess, 32.6ms inference, 0.5ms postprocess per image at shape (1, 3, 384, 640)\n",
      "\n",
      "0: 384x640 (no detections), 32.7ms\n",
      "Speed: 0.6ms preprocess, 32.7ms inference, 0.5ms postprocess per image at shape (1, 3, 384, 640)\n"
     ]
    },
    {
     "name": "stderr",
     "output_type": "stream",
     "text": [
      " 90%|████████▉ | 1936/2158 [01:12<00:08, 26.60it/s]"
     ]
    },
    {
     "name": "stdout",
     "output_type": "stream",
     "text": [
      "\n",
      "0: 384x640 (no detections), 32.7ms\n",
      "Speed: 0.6ms preprocess, 32.7ms inference, 0.5ms postprocess per image at shape (1, 3, 384, 640)\n",
      "\n",
      "0: 384x640 (no detections), 32.7ms\n",
      "Speed: 0.5ms preprocess, 32.7ms inference, 0.5ms postprocess per image at shape (1, 3, 384, 640)\n",
      "\n",
      "0: 384x640 (no detections), 32.6ms\n",
      "Speed: 0.6ms preprocess, 32.6ms inference, 0.4ms postprocess per image at shape (1, 3, 384, 640)\n"
     ]
    },
    {
     "name": "stderr",
     "output_type": "stream",
     "text": [
      " 90%|████████▉ | 1939/2158 [01:12<00:08, 26.69it/s]"
     ]
    },
    {
     "name": "stdout",
     "output_type": "stream",
     "text": [
      "\n",
      "0: 384x640 (no detections), 32.6ms\n",
      "Speed: 0.5ms preprocess, 32.6ms inference, 0.5ms postprocess per image at shape (1, 3, 384, 640)\n",
      "\n",
      "0: 384x640 (no detections), 32.7ms\n",
      "Speed: 0.5ms preprocess, 32.7ms inference, 1.1ms postprocess per image at shape (1, 3, 384, 640)\n",
      "\n",
      "0: 384x640 (no detections), 32.7ms\n",
      "Speed: 0.7ms preprocess, 32.7ms inference, 0.5ms postprocess per image at shape (1, 3, 384, 640)\n"
     ]
    },
    {
     "name": "stderr",
     "output_type": "stream",
     "text": [
      " 90%|████████▉ | 1942/2158 [01:12<00:08, 26.51it/s]"
     ]
    },
    {
     "name": "stdout",
     "output_type": "stream",
     "text": [
      "\n",
      "0: 384x640 (no detections), 32.6ms\n",
      "Speed: 0.5ms preprocess, 32.6ms inference, 0.5ms postprocess per image at shape (1, 3, 384, 640)\n",
      "\n",
      "0: 384x640 (no detections), 32.7ms\n",
      "Speed: 0.6ms preprocess, 32.7ms inference, 0.5ms postprocess per image at shape (1, 3, 384, 640)\n",
      "\n",
      "0: 384x640 (no detections), 32.8ms\n",
      "Speed: 0.5ms preprocess, 32.8ms inference, 0.5ms postprocess per image at shape (1, 3, 384, 640)\n"
     ]
    },
    {
     "name": "stderr",
     "output_type": "stream",
     "text": [
      " 90%|█████████ | 1945/2158 [01:13<00:08, 26.58it/s]"
     ]
    },
    {
     "name": "stdout",
     "output_type": "stream",
     "text": [
      "\n",
      "0: 384x640 (no detections), 32.7ms\n",
      "Speed: 0.7ms preprocess, 32.7ms inference, 0.5ms postprocess per image at shape (1, 3, 384, 640)\n",
      "\n",
      "0: 384x640 (no detections), 32.8ms\n",
      "Speed: 0.8ms preprocess, 32.8ms inference, 0.5ms postprocess per image at shape (1, 3, 384, 640)\n",
      "\n",
      "0: 384x640 (no detections), 32.7ms\n",
      "Speed: 0.6ms preprocess, 32.7ms inference, 0.5ms postprocess per image at shape (1, 3, 384, 640)\n"
     ]
    },
    {
     "name": "stderr",
     "output_type": "stream",
     "text": [
      " 90%|█████████ | 1948/2158 [01:13<00:07, 26.62it/s]"
     ]
    },
    {
     "name": "stdout",
     "output_type": "stream",
     "text": [
      "\n",
      "0: 384x640 (no detections), 32.7ms\n",
      "Speed: 0.5ms preprocess, 32.7ms inference, 0.5ms postprocess per image at shape (1, 3, 384, 640)\n",
      "\n",
      "0: 384x640 (no detections), 32.7ms\n",
      "Speed: 0.6ms preprocess, 32.7ms inference, 0.5ms postprocess per image at shape (1, 3, 384, 640)\n",
      "\n",
      "0: 384x640 (no detections), 32.6ms\n",
      "Speed: 0.7ms preprocess, 32.6ms inference, 0.5ms postprocess per image at shape (1, 3, 384, 640)\n"
     ]
    },
    {
     "name": "stderr",
     "output_type": "stream",
     "text": [
      " 90%|█████████ | 1951/2158 [01:13<00:07, 26.71it/s]"
     ]
    },
    {
     "name": "stdout",
     "output_type": "stream",
     "text": [
      "\n",
      "0: 384x640 (no detections), 32.7ms\n",
      "Speed: 0.6ms preprocess, 32.7ms inference, 0.5ms postprocess per image at shape (1, 3, 384, 640)\n",
      "\n",
      "0: 384x640 (no detections), 32.6ms\n",
      "Speed: 0.6ms preprocess, 32.6ms inference, 0.5ms postprocess per image at shape (1, 3, 384, 640)\n",
      "\n",
      "0: 384x640 (no detections), 33.3ms\n",
      "Speed: 0.5ms preprocess, 33.3ms inference, 0.5ms postprocess per image at shape (1, 3, 384, 640)\n"
     ]
    },
    {
     "name": "stderr",
     "output_type": "stream",
     "text": [
      " 91%|█████████ | 1954/2158 [01:13<00:07, 26.71it/s]"
     ]
    },
    {
     "name": "stdout",
     "output_type": "stream",
     "text": [
      "\n",
      "0: 384x640 (no detections), 32.6ms\n",
      "Speed: 0.7ms preprocess, 32.6ms inference, 0.5ms postprocess per image at shape (1, 3, 384, 640)\n",
      "\n",
      "0: 384x640 (no detections), 32.6ms\n",
      "Speed: 0.6ms preprocess, 32.6ms inference, 0.5ms postprocess per image at shape (1, 3, 384, 640)\n",
      "\n",
      "0: 384x640 (no detections), 32.5ms\n",
      "Speed: 0.7ms preprocess, 32.5ms inference, 0.5ms postprocess per image at shape (1, 3, 384, 640)\n"
     ]
    },
    {
     "name": "stderr",
     "output_type": "stream",
     "text": [
      " 91%|█████████ | 1957/2158 [01:13<00:07, 26.76it/s]"
     ]
    },
    {
     "name": "stdout",
     "output_type": "stream",
     "text": [
      "\n",
      "0: 384x640 (no detections), 32.7ms\n",
      "Speed: 0.6ms preprocess, 32.7ms inference, 0.5ms postprocess per image at shape (1, 3, 384, 640)\n",
      "\n",
      "0: 384x640 (no detections), 32.6ms\n",
      "Speed: 0.7ms preprocess, 32.6ms inference, 0.5ms postprocess per image at shape (1, 3, 384, 640)\n",
      "\n",
      "0: 384x640 (no detections), 32.7ms\n",
      "Speed: 0.5ms preprocess, 32.7ms inference, 0.5ms postprocess per image at shape (1, 3, 384, 640)\n"
     ]
    },
    {
     "name": "stderr",
     "output_type": "stream",
     "text": [
      " 91%|█████████ | 1960/2158 [01:13<00:07, 26.81it/s]"
     ]
    },
    {
     "name": "stdout",
     "output_type": "stream",
     "text": [
      "\n",
      "0: 384x640 (no detections), 32.7ms\n",
      "Speed: 1.1ms preprocess, 32.7ms inference, 0.5ms postprocess per image at shape (1, 3, 384, 640)\n",
      "\n",
      "0: 384x640 (no detections), 32.7ms\n",
      "Speed: 0.5ms preprocess, 32.7ms inference, 0.5ms postprocess per image at shape (1, 3, 384, 640)\n",
      "\n",
      "0: 384x640 (no detections), 32.6ms\n",
      "Speed: 0.6ms preprocess, 32.6ms inference, 0.8ms postprocess per image at shape (1, 3, 384, 640)\n"
     ]
    },
    {
     "name": "stderr",
     "output_type": "stream",
     "text": [
      " 91%|█████████ | 1963/2158 [01:13<00:07, 26.76it/s]"
     ]
    },
    {
     "name": "stdout",
     "output_type": "stream",
     "text": [
      "\n",
      "0: 384x640 (no detections), 32.7ms\n",
      "Speed: 0.7ms preprocess, 32.7ms inference, 0.5ms postprocess per image at shape (1, 3, 384, 640)\n",
      "\n",
      "0: 384x640 (no detections), 32.7ms\n",
      "Speed: 0.6ms preprocess, 32.7ms inference, 0.6ms postprocess per image at shape (1, 3, 384, 640)\n",
      "\n",
      "0: 384x640 1 Armaduro, 32.6ms\n",
      "Speed: 0.6ms preprocess, 32.6ms inference, 0.9ms postprocess per image at shape (1, 3, 384, 640)\n"
     ]
    },
    {
     "name": "stderr",
     "output_type": "stream",
     "text": [
      " 91%|█████████ | 1966/2158 [01:13<00:07, 26.72it/s]"
     ]
    },
    {
     "name": "stdout",
     "output_type": "stream",
     "text": [
      "\n",
      "0: 384x640 1 Armaduro, 32.4ms\n",
      "Speed: 0.6ms preprocess, 32.4ms inference, 1.1ms postprocess per image at shape (1, 3, 384, 640)\n",
      "\n",
      "0: 384x640 1 Armaduro, 32.5ms\n",
      "Speed: 0.5ms preprocess, 32.5ms inference, 1.0ms postprocess per image at shape (1, 3, 384, 640)\n",
      "\n",
      "0: 384x640 1 Armaduro, 32.7ms\n",
      "Speed: 0.6ms preprocess, 32.7ms inference, 1.0ms postprocess per image at shape (1, 3, 384, 640)\n"
     ]
    },
    {
     "name": "stderr",
     "output_type": "stream",
     "text": [
      " 91%|█████████ | 1969/2158 [01:13<00:07, 26.57it/s]"
     ]
    },
    {
     "name": "stdout",
     "output_type": "stream",
     "text": [
      "\n",
      "0: 384x640 1 Armaduro, 32.7ms\n",
      "Speed: 0.6ms preprocess, 32.7ms inference, 1.4ms postprocess per image at shape (1, 3, 384, 640)\n",
      "\n",
      "0: 384x640 1 Armaduro, 32.6ms\n",
      "Speed: 0.6ms preprocess, 32.6ms inference, 1.0ms postprocess per image at shape (1, 3, 384, 640)\n",
      "\n",
      "0: 384x640 1 Armaduro, 32.6ms\n",
      "Speed: 0.6ms preprocess, 32.6ms inference, 1.0ms postprocess per image at shape (1, 3, 384, 640)\n"
     ]
    },
    {
     "name": "stderr",
     "output_type": "stream",
     "text": [
      " 91%|█████████▏| 1972/2158 [01:14<00:07, 26.39it/s]"
     ]
    },
    {
     "name": "stdout",
     "output_type": "stream",
     "text": [
      "\n",
      "0: 384x640 1 Armaduro, 32.8ms\n",
      "Speed: 0.5ms preprocess, 32.8ms inference, 1.0ms postprocess per image at shape (1, 3, 384, 640)\n",
      "\n",
      "0: 384x640 1 Armaduro, 32.6ms\n",
      "Speed: 0.7ms preprocess, 32.6ms inference, 1.0ms postprocess per image at shape (1, 3, 384, 640)\n",
      "\n",
      "0: 384x640 1 Armaduro, 32.7ms\n",
      "Speed: 0.6ms preprocess, 32.7ms inference, 0.9ms postprocess per image at shape (1, 3, 384, 640)\n"
     ]
    },
    {
     "name": "stderr",
     "output_type": "stream",
     "text": [
      " 92%|█████████▏| 1975/2158 [01:14<00:06, 26.27it/s]"
     ]
    },
    {
     "name": "stdout",
     "output_type": "stream",
     "text": [
      "\n",
      "0: 384x640 1 Armaduro, 32.4ms\n",
      "Speed: 0.6ms preprocess, 32.4ms inference, 1.1ms postprocess per image at shape (1, 3, 384, 640)\n",
      "\n",
      "0: 384x640 1 Armaduro, 32.9ms\n",
      "Speed: 0.6ms preprocess, 32.9ms inference, 1.0ms postprocess per image at shape (1, 3, 384, 640)\n",
      "\n",
      "0: 384x640 (no detections), 32.4ms\n",
      "Speed: 0.5ms preprocess, 32.4ms inference, 0.8ms postprocess per image at shape (1, 3, 384, 640)\n"
     ]
    },
    {
     "name": "stderr",
     "output_type": "stream",
     "text": [
      " 92%|█████████▏| 1978/2158 [01:14<00:06, 26.25it/s]"
     ]
    },
    {
     "name": "stdout",
     "output_type": "stream",
     "text": [
      "\n",
      "0: 384x640 (no detections), 32.7ms\n",
      "Speed: 0.6ms preprocess, 32.7ms inference, 0.5ms postprocess per image at shape (1, 3, 384, 640)\n",
      "\n",
      "0: 384x640 (no detections), 32.7ms\n",
      "Speed: 0.5ms preprocess, 32.7ms inference, 0.4ms postprocess per image at shape (1, 3, 384, 640)\n",
      "\n",
      "0: 384x640 (no detections), 32.4ms\n",
      "Speed: 0.6ms preprocess, 32.4ms inference, 0.7ms postprocess per image at shape (1, 3, 384, 640)\n"
     ]
    },
    {
     "name": "stderr",
     "output_type": "stream",
     "text": [
      " 92%|█████████▏| 1981/2158 [01:14<00:06, 26.41it/s]"
     ]
    },
    {
     "name": "stdout",
     "output_type": "stream",
     "text": [
      "\n",
      "0: 384x640 1 Selvalegre, 32.7ms\n",
      "Speed: 0.5ms preprocess, 32.7ms inference, 0.9ms postprocess per image at shape (1, 3, 384, 640)\n",
      "\n",
      "0: 384x640 1 Selvalegre, 32.5ms\n",
      "Speed: 0.5ms preprocess, 32.5ms inference, 0.9ms postprocess per image at shape (1, 3, 384, 640)\n",
      "\n",
      "0: 384x640 (no detections), 32.7ms\n",
      "Speed: 0.7ms preprocess, 32.7ms inference, 0.5ms postprocess per image at shape (1, 3, 384, 640)\n"
     ]
    },
    {
     "name": "stderr",
     "output_type": "stream",
     "text": [
      " 92%|█████████▏| 1984/2158 [01:14<00:06, 26.44it/s]"
     ]
    },
    {
     "name": "stdout",
     "output_type": "stream",
     "text": [
      "\n",
      "0: 384x640 1 Armaduro, 32.6ms\n",
      "Speed: 0.6ms preprocess, 32.6ms inference, 1.0ms postprocess per image at shape (1, 3, 384, 640)\n",
      "\n",
      "0: 384x640 (no detections), 32.6ms\n",
      "Speed: 0.6ms preprocess, 32.6ms inference, 0.5ms postprocess per image at shape (1, 3, 384, 640)\n",
      "\n",
      "0: 384x640 (no detections), 32.7ms\n",
      "Speed: 0.5ms preprocess, 32.7ms inference, 0.5ms postprocess per image at shape (1, 3, 384, 640)\n"
     ]
    },
    {
     "name": "stderr",
     "output_type": "stream",
     "text": [
      " 92%|█████████▏| 1987/2158 [01:14<00:06, 26.52it/s]"
     ]
    },
    {
     "name": "stdout",
     "output_type": "stream",
     "text": [
      "\n",
      "0: 384x640 (no detections), 32.7ms\n",
      "Speed: 0.6ms preprocess, 32.7ms inference, 0.8ms postprocess per image at shape (1, 3, 384, 640)\n",
      "\n",
      "0: 384x640 1 Armaduro, 32.7ms\n",
      "Speed: 0.6ms preprocess, 32.7ms inference, 1.0ms postprocess per image at shape (1, 3, 384, 640)\n",
      "\n",
      "0: 384x640 1 Armaduro, 32.7ms\n",
      "Speed: 0.6ms preprocess, 32.7ms inference, 1.0ms postprocess per image at shape (1, 3, 384, 640)\n"
     ]
    },
    {
     "name": "stderr",
     "output_type": "stream",
     "text": [
      " 92%|█████████▏| 1990/2158 [01:14<00:06, 26.44it/s]"
     ]
    },
    {
     "name": "stdout",
     "output_type": "stream",
     "text": [
      "\n",
      "0: 384x640 1 Armaduro, 32.9ms\n",
      "Speed: 0.5ms preprocess, 32.9ms inference, 1.0ms postprocess per image at shape (1, 3, 384, 640)\n",
      "\n",
      "0: 384x640 1 Armaduro, 1 Selvalegre, 32.9ms\n",
      "Speed: 0.6ms preprocess, 32.9ms inference, 1.1ms postprocess per image at shape (1, 3, 384, 640)\n",
      "\n",
      "0: 384x640 (no detections), 33.6ms\n",
      "Speed: 0.6ms preprocess, 33.6ms inference, 0.5ms postprocess per image at shape (1, 3, 384, 640)\n"
     ]
    },
    {
     "name": "stderr",
     "output_type": "stream",
     "text": [
      " 92%|█████████▏| 1993/2158 [01:14<00:06, 26.29it/s]"
     ]
    },
    {
     "name": "stdout",
     "output_type": "stream",
     "text": [
      "\n",
      "0: 384x640 1 Armaduro, 33.6ms\n",
      "Speed: 0.5ms preprocess, 33.6ms inference, 1.0ms postprocess per image at shape (1, 3, 384, 640)\n",
      "\n",
      "0: 384x640 (no detections), 33.4ms\n",
      "Speed: 0.7ms preprocess, 33.4ms inference, 0.5ms postprocess per image at shape (1, 3, 384, 640)\n",
      "\n",
      "0: 384x640 (no detections), 33.4ms\n",
      "Speed: 0.6ms preprocess, 33.4ms inference, 0.7ms postprocess per image at shape (1, 3, 384, 640)\n"
     ]
    },
    {
     "name": "stderr",
     "output_type": "stream",
     "text": [
      " 92%|█████████▏| 1996/2158 [01:14<00:06, 26.18it/s]"
     ]
    },
    {
     "name": "stdout",
     "output_type": "stream",
     "text": [
      "\n",
      "0: 384x640 (no detections), 32.8ms\n",
      "Speed: 0.6ms preprocess, 32.8ms inference, 0.5ms postprocess per image at shape (1, 3, 384, 640)\n",
      "\n",
      "0: 384x640 1 Armaduro, 32.7ms\n",
      "Speed: 0.5ms preprocess, 32.7ms inference, 0.9ms postprocess per image at shape (1, 3, 384, 640)\n",
      "\n",
      "0: 384x640 1 Armaduro, 1 Selvalegre, 32.6ms\n",
      "Speed: 0.6ms preprocess, 32.6ms inference, 0.9ms postprocess per image at shape (1, 3, 384, 640)\n"
     ]
    },
    {
     "name": "stderr",
     "output_type": "stream",
     "text": [
      " 93%|█████████▎| 1999/2158 [01:15<00:06, 26.20it/s]"
     ]
    },
    {
     "name": "stdout",
     "output_type": "stream",
     "text": [
      "\n",
      "0: 384x640 (no detections), 32.6ms\n",
      "Speed: 0.5ms preprocess, 32.6ms inference, 0.7ms postprocess per image at shape (1, 3, 384, 640)\n",
      "\n",
      "0: 384x640 (no detections), 32.8ms\n",
      "Speed: 0.6ms preprocess, 32.8ms inference, 0.5ms postprocess per image at shape (1, 3, 384, 640)\n",
      "\n",
      "0: 384x640 (no detections), 32.8ms\n",
      "Speed: 0.6ms preprocess, 32.8ms inference, 0.5ms postprocess per image at shape (1, 3, 384, 640)\n"
     ]
    },
    {
     "name": "stderr",
     "output_type": "stream",
     "text": [
      " 93%|█████████▎| 2002/2158 [01:15<00:05, 26.38it/s]"
     ]
    },
    {
     "name": "stdout",
     "output_type": "stream",
     "text": [
      "\n",
      "0: 384x640 (no detections), 32.6ms\n",
      "Speed: 0.6ms preprocess, 32.6ms inference, 0.5ms postprocess per image at shape (1, 3, 384, 640)\n",
      "\n",
      "0: 384x640 (no detections), 32.7ms\n",
      "Speed: 0.6ms preprocess, 32.7ms inference, 0.5ms postprocess per image at shape (1, 3, 384, 640)\n",
      "\n",
      "0: 384x640 (no detections), 33.2ms\n",
      "Speed: 0.6ms preprocess, 33.2ms inference, 0.7ms postprocess per image at shape (1, 3, 384, 640)\n"
     ]
    },
    {
     "name": "stderr",
     "output_type": "stream",
     "text": [
      " 93%|█████████▎| 2005/2158 [01:15<00:05, 26.42it/s]"
     ]
    },
    {
     "name": "stdout",
     "output_type": "stream",
     "text": [
      "\n",
      "0: 384x640 (no detections), 33.3ms\n",
      "Speed: 0.7ms preprocess, 33.3ms inference, 0.5ms postprocess per image at shape (1, 3, 384, 640)\n",
      "\n",
      "0: 384x640 (no detections), 33.1ms\n",
      "Speed: 0.6ms preprocess, 33.1ms inference, 0.5ms postprocess per image at shape (1, 3, 384, 640)\n",
      "\n",
      "0: 384x640 (no detections), 33.4ms\n",
      "Speed: 0.5ms preprocess, 33.4ms inference, 0.5ms postprocess per image at shape (1, 3, 384, 640)\n"
     ]
    },
    {
     "name": "stderr",
     "output_type": "stream",
     "text": [
      " 93%|█████████▎| 2008/2158 [01:15<00:05, 26.38it/s]"
     ]
    },
    {
     "name": "stdout",
     "output_type": "stream",
     "text": [
      "\n",
      "0: 384x640 (no detections), 33.3ms\n",
      "Speed: 0.5ms preprocess, 33.3ms inference, 0.6ms postprocess per image at shape (1, 3, 384, 640)\n",
      "\n",
      "0: 384x640 1 Armaduro, 33.7ms\n",
      "Speed: 0.7ms preprocess, 33.7ms inference, 1.1ms postprocess per image at shape (1, 3, 384, 640)\n",
      "\n",
      "0: 384x640 (no detections), 33.4ms\n",
      "Speed: 0.6ms preprocess, 33.4ms inference, 0.5ms postprocess per image at shape (1, 3, 384, 640)\n"
     ]
    },
    {
     "name": "stderr",
     "output_type": "stream",
     "text": [
      " 93%|█████████▎| 2011/2158 [01:15<00:05, 26.33it/s]"
     ]
    },
    {
     "name": "stdout",
     "output_type": "stream",
     "text": [
      "\n",
      "0: 384x640 1 Armaduro, 33.4ms\n",
      "Speed: 0.5ms preprocess, 33.4ms inference, 1.0ms postprocess per image at shape (1, 3, 384, 640)\n",
      "\n",
      "0: 384x640 1 Armaduro, 32.8ms\n",
      "Speed: 0.7ms preprocess, 32.8ms inference, 1.0ms postprocess per image at shape (1, 3, 384, 640)\n",
      "\n",
      "0: 384x640 (no detections), 33.3ms\n",
      "Speed: 0.6ms preprocess, 33.3ms inference, 0.5ms postprocess per image at shape (1, 3, 384, 640)\n"
     ]
    },
    {
     "name": "stderr",
     "output_type": "stream",
     "text": [
      " 93%|█████████▎| 2014/2158 [01:15<00:05, 26.24it/s]"
     ]
    },
    {
     "name": "stdout",
     "output_type": "stream",
     "text": [
      "\n",
      "0: 384x640 1 Armaduro, 33.8ms\n",
      "Speed: 0.6ms preprocess, 33.8ms inference, 1.0ms postprocess per image at shape (1, 3, 384, 640)\n",
      "\n",
      "0: 384x640 1 Armaduro, 33.4ms\n",
      "Speed: 0.8ms preprocess, 33.4ms inference, 0.9ms postprocess per image at shape (1, 3, 384, 640)\n",
      "\n",
      "0: 384x640 1 Armaduro, 33.2ms\n",
      "Speed: 0.6ms preprocess, 33.2ms inference, 0.9ms postprocess per image at shape (1, 3, 384, 640)\n"
     ]
    },
    {
     "name": "stderr",
     "output_type": "stream",
     "text": [
      " 93%|█████████▎| 2017/2158 [01:15<00:05, 26.04it/s]"
     ]
    },
    {
     "name": "stdout",
     "output_type": "stream",
     "text": [
      "\n",
      "0: 384x640 1 Armaduro, 33.4ms\n",
      "Speed: 0.5ms preprocess, 33.4ms inference, 1.0ms postprocess per image at shape (1, 3, 384, 640)\n",
      "\n",
      "0: 384x640 1 Armaduro, 1 Selvalegre, 32.5ms\n",
      "Speed: 0.6ms preprocess, 32.5ms inference, 1.0ms postprocess per image at shape (1, 3, 384, 640)\n",
      "\n",
      "0: 384x640 1 Armaduro, 32.7ms\n",
      "Speed: 0.5ms preprocess, 32.7ms inference, 0.9ms postprocess per image at shape (1, 3, 384, 640)\n"
     ]
    },
    {
     "name": "stderr",
     "output_type": "stream",
     "text": [
      " 94%|█████████▎| 2020/2158 [01:15<00:05, 26.00it/s]"
     ]
    },
    {
     "name": "stdout",
     "output_type": "stream",
     "text": [
      "\n",
      "0: 384x640 (no detections), 33.0ms\n",
      "Speed: 0.6ms preprocess, 33.0ms inference, 0.5ms postprocess per image at shape (1, 3, 384, 640)\n",
      "\n",
      "0: 384x640 (no detections), 33.2ms\n",
      "Speed: 0.5ms preprocess, 33.2ms inference, 0.4ms postprocess per image at shape (1, 3, 384, 640)\n",
      "\n",
      "0: 384x640 (no detections), 32.8ms\n",
      "Speed: 0.6ms preprocess, 32.8ms inference, 0.8ms postprocess per image at shape (1, 3, 384, 640)\n"
     ]
    },
    {
     "name": "stderr",
     "output_type": "stream",
     "text": [
      " 94%|█████████▎| 2023/2158 [01:15<00:05, 26.14it/s]"
     ]
    },
    {
     "name": "stdout",
     "output_type": "stream",
     "text": [
      "\n",
      "0: 384x640 (no detections), 33.6ms\n",
      "Speed: 0.6ms preprocess, 33.6ms inference, 0.5ms postprocess per image at shape (1, 3, 384, 640)\n",
      "\n",
      "0: 384x640 (no detections), 33.2ms\n",
      "Speed: 0.6ms preprocess, 33.2ms inference, 0.5ms postprocess per image at shape (1, 3, 384, 640)\n",
      "\n",
      "0: 384x640 (no detections), 33.2ms\n",
      "Speed: 0.7ms preprocess, 33.2ms inference, 0.6ms postprocess per image at shape (1, 3, 384, 640)\n"
     ]
    },
    {
     "name": "stderr",
     "output_type": "stream",
     "text": [
      " 94%|█████████▍| 2026/2158 [01:16<00:05, 26.24it/s]"
     ]
    },
    {
     "name": "stdout",
     "output_type": "stream",
     "text": [
      "\n",
      "0: 384x640 (no detections), 33.4ms\n",
      "Speed: 0.6ms preprocess, 33.4ms inference, 0.5ms postprocess per image at shape (1, 3, 384, 640)\n",
      "\n",
      "0: 384x640 (no detections), 33.3ms\n",
      "Speed: 0.5ms preprocess, 33.3ms inference, 0.5ms postprocess per image at shape (1, 3, 384, 640)\n",
      "\n",
      "0: 384x640 (no detections), 32.8ms\n",
      "Speed: 0.6ms preprocess, 32.8ms inference, 0.5ms postprocess per image at shape (1, 3, 384, 640)\n"
     ]
    },
    {
     "name": "stderr",
     "output_type": "stream",
     "text": [
      " 94%|█████████▍| 2029/2158 [01:16<00:04, 26.31it/s]"
     ]
    },
    {
     "name": "stdout",
     "output_type": "stream",
     "text": [
      "\n",
      "0: 384x640 (no detections), 33.1ms\n",
      "Speed: 0.7ms preprocess, 33.1ms inference, 0.5ms postprocess per image at shape (1, 3, 384, 640)\n",
      "\n",
      "0: 384x640 1 Armaduro, 33.1ms\n",
      "Speed: 0.6ms preprocess, 33.1ms inference, 1.0ms postprocess per image at shape (1, 3, 384, 640)\n",
      "\n",
      "0: 384x640 (no detections), 33.2ms\n",
      "Speed: 0.6ms preprocess, 33.2ms inference, 0.5ms postprocess per image at shape (1, 3, 384, 640)\n"
     ]
    },
    {
     "name": "stderr",
     "output_type": "stream",
     "text": [
      " 94%|█████████▍| 2032/2158 [01:16<00:04, 26.30it/s]"
     ]
    },
    {
     "name": "stdout",
     "output_type": "stream",
     "text": [
      "\n",
      "0: 384x640 1 Armaduro, 33.2ms\n",
      "Speed: 0.6ms preprocess, 33.2ms inference, 0.9ms postprocess per image at shape (1, 3, 384, 640)\n",
      "\n",
      "0: 384x640 (no detections), 32.8ms\n",
      "Speed: 0.7ms preprocess, 32.8ms inference, 0.5ms postprocess per image at shape (1, 3, 384, 640)\n",
      "\n",
      "0: 384x640 (no detections), 33.2ms\n",
      "Speed: 0.5ms preprocess, 33.2ms inference, 0.5ms postprocess per image at shape (1, 3, 384, 640)\n"
     ]
    },
    {
     "name": "stderr",
     "output_type": "stream",
     "text": [
      " 94%|█████████▍| 2035/2158 [01:16<00:04, 26.33it/s]"
     ]
    },
    {
     "name": "stdout",
     "output_type": "stream",
     "text": [
      "\n",
      "0: 384x640 (no detections), 33.3ms\n",
      "Speed: 0.5ms preprocess, 33.3ms inference, 3.9ms postprocess per image at shape (1, 3, 384, 640)\n",
      "\n",
      "0: 384x640 1 Armaduro, 33.3ms\n",
      "Speed: 1.2ms preprocess, 33.3ms inference, 0.9ms postprocess per image at shape (1, 3, 384, 640)\n",
      "\n",
      "0: 384x640 1 Armaduro, 33.5ms\n",
      "Speed: 0.6ms preprocess, 33.5ms inference, 0.9ms postprocess per image at shape (1, 3, 384, 640)\n"
     ]
    },
    {
     "name": "stderr",
     "output_type": "stream",
     "text": [
      " 94%|█████████▍| 2038/2158 [01:16<00:04, 25.81it/s]"
     ]
    },
    {
     "name": "stdout",
     "output_type": "stream",
     "text": [
      "\n",
      "0: 384x640 1 Armaduro, 32.9ms\n",
      "Speed: 0.9ms preprocess, 32.9ms inference, 1.1ms postprocess per image at shape (1, 3, 384, 640)\n",
      "\n",
      "0: 384x640 (no detections), 33.3ms\n",
      "Speed: 0.7ms preprocess, 33.3ms inference, 0.5ms postprocess per image at shape (1, 3, 384, 640)\n",
      "\n",
      "0: 384x640 (no detections), 33.1ms\n",
      "Speed: 0.5ms preprocess, 33.1ms inference, 0.5ms postprocess per image at shape (1, 3, 384, 640)\n"
     ]
    },
    {
     "name": "stderr",
     "output_type": "stream",
     "text": [
      " 95%|█████████▍| 2041/2158 [01:16<00:04, 25.91it/s]"
     ]
    },
    {
     "name": "stdout",
     "output_type": "stream",
     "text": [
      "\n",
      "0: 384x640 (no detections), 33.2ms\n",
      "Speed: 0.7ms preprocess, 33.2ms inference, 0.5ms postprocess per image at shape (1, 3, 384, 640)\n",
      "\n",
      "0: 384x640 (no detections), 33.2ms\n",
      "Speed: 0.6ms preprocess, 33.2ms inference, 0.5ms postprocess per image at shape (1, 3, 384, 640)\n",
      "\n",
      "0: 384x640 (no detections), 33.0ms\n",
      "Speed: 0.5ms preprocess, 33.0ms inference, 0.5ms postprocess per image at shape (1, 3, 384, 640)\n"
     ]
    },
    {
     "name": "stderr",
     "output_type": "stream",
     "text": [
      " 95%|█████████▍| 2044/2158 [01:16<00:04, 26.07it/s]"
     ]
    },
    {
     "name": "stdout",
     "output_type": "stream",
     "text": [
      "\n",
      "0: 384x640 (no detections), 32.9ms\n",
      "Speed: 0.5ms preprocess, 32.9ms inference, 0.5ms postprocess per image at shape (1, 3, 384, 640)\n",
      "\n",
      "0: 384x640 (no detections), 33.3ms\n",
      "Speed: 0.6ms preprocess, 33.3ms inference, 0.5ms postprocess per image at shape (1, 3, 384, 640)\n",
      "\n",
      "0: 384x640 (no detections), 32.8ms\n",
      "Speed: 0.7ms preprocess, 32.8ms inference, 0.5ms postprocess per image at shape (1, 3, 384, 640)\n"
     ]
    },
    {
     "name": "stderr",
     "output_type": "stream",
     "text": [
      " 95%|█████████▍| 2047/2158 [01:16<00:04, 26.26it/s]"
     ]
    },
    {
     "name": "stdout",
     "output_type": "stream",
     "text": [
      "\n",
      "0: 384x640 (no detections), 34.2ms\n",
      "Speed: 0.6ms preprocess, 34.2ms inference, 0.6ms postprocess per image at shape (1, 3, 384, 640)\n",
      "\n",
      "0: 384x640 (no detections), 34.4ms\n",
      "Speed: 0.6ms preprocess, 34.4ms inference, 0.5ms postprocess per image at shape (1, 3, 384, 640)\n",
      "\n",
      "0: 384x640 1 Selvalegre, 35.1ms\n",
      "Speed: 0.6ms preprocess, 35.1ms inference, 0.9ms postprocess per image at shape (1, 3, 384, 640)\n"
     ]
    },
    {
     "name": "stderr",
     "output_type": "stream",
     "text": [
      " 95%|█████████▍| 2050/2158 [01:17<00:04, 25.91it/s]"
     ]
    },
    {
     "name": "stdout",
     "output_type": "stream",
     "text": [
      "\n",
      "0: 384x640 (no detections), 35.0ms\n",
      "Speed: 0.6ms preprocess, 35.0ms inference, 0.8ms postprocess per image at shape (1, 3, 384, 640)\n",
      "\n",
      "0: 384x640 (no detections), 34.4ms\n",
      "Speed: 0.7ms preprocess, 34.4ms inference, 1.1ms postprocess per image at shape (1, 3, 384, 640)\n",
      "\n",
      "0: 384x640 1 Armaduro, 33.9ms\n",
      "Speed: 0.6ms preprocess, 33.9ms inference, 0.9ms postprocess per image at shape (1, 3, 384, 640)\n"
     ]
    },
    {
     "name": "stderr",
     "output_type": "stream",
     "text": [
      " 95%|█████████▌| 2053/2158 [01:17<00:04, 25.71it/s]"
     ]
    },
    {
     "name": "stdout",
     "output_type": "stream",
     "text": [
      "\n",
      "0: 384x640 (no detections), 32.8ms\n",
      "Speed: 0.5ms preprocess, 32.8ms inference, 0.5ms postprocess per image at shape (1, 3, 384, 640)\n",
      "\n",
      "0: 384x640 (no detections), 32.9ms\n",
      "Speed: 0.6ms preprocess, 32.9ms inference, 0.5ms postprocess per image at shape (1, 3, 384, 640)\n",
      "\n",
      "0: 384x640 (no detections), 32.6ms\n",
      "Speed: 0.7ms preprocess, 32.6ms inference, 0.5ms postprocess per image at shape (1, 3, 384, 640)\n"
     ]
    },
    {
     "name": "stderr",
     "output_type": "stream",
     "text": [
      " 95%|█████████▌| 2056/2158 [01:17<00:03, 26.07it/s]"
     ]
    },
    {
     "name": "stdout",
     "output_type": "stream",
     "text": [
      "\n",
      "0: 384x640 1 Armaduro, 32.7ms\n",
      "Speed: 0.6ms preprocess, 32.7ms inference, 1.0ms postprocess per image at shape (1, 3, 384, 640)\n",
      "\n",
      "0: 384x640 1 Armaduro, 32.6ms\n",
      "Speed: 0.6ms preprocess, 32.6ms inference, 0.9ms postprocess per image at shape (1, 3, 384, 640)\n",
      "\n",
      "0: 384x640 1 Armaduro, 32.7ms\n",
      "Speed: 0.6ms preprocess, 32.7ms inference, 1.0ms postprocess per image at shape (1, 3, 384, 640)\n"
     ]
    },
    {
     "name": "stderr",
     "output_type": "stream",
     "text": [
      " 95%|█████████▌| 2059/2158 [01:17<00:03, 26.15it/s]"
     ]
    },
    {
     "name": "stdout",
     "output_type": "stream",
     "text": [
      "\n",
      "0: 384x640 (no detections), 32.6ms\n",
      "Speed: 0.6ms preprocess, 32.6ms inference, 0.5ms postprocess per image at shape (1, 3, 384, 640)\n",
      "\n",
      "0: 384x640 1 Armaduro, 32.9ms\n",
      "Speed: 0.7ms preprocess, 32.9ms inference, 1.0ms postprocess per image at shape (1, 3, 384, 640)\n",
      "\n",
      "0: 384x640 1 Armaduro, 32.9ms\n",
      "Speed: 0.5ms preprocess, 32.9ms inference, 1.5ms postprocess per image at shape (1, 3, 384, 640)\n"
     ]
    },
    {
     "name": "stderr",
     "output_type": "stream",
     "text": [
      " 96%|█████████▌| 2062/2158 [01:17<00:03, 26.05it/s]"
     ]
    },
    {
     "name": "stdout",
     "output_type": "stream",
     "text": [
      "\n",
      "0: 384x640 1 Armaduro, 32.6ms\n",
      "Speed: 0.8ms preprocess, 32.6ms inference, 0.9ms postprocess per image at shape (1, 3, 384, 640)\n",
      "\n",
      "0: 384x640 1 Armaduro, 32.6ms\n",
      "Speed: 0.5ms preprocess, 32.6ms inference, 0.9ms postprocess per image at shape (1, 3, 384, 640)\n",
      "\n",
      "0: 384x640 1 Armaduro, 32.7ms\n",
      "Speed: 0.6ms preprocess, 32.7ms inference, 1.0ms postprocess per image at shape (1, 3, 384, 640)\n"
     ]
    },
    {
     "name": "stderr",
     "output_type": "stream",
     "text": [
      " 96%|█████████▌| 2065/2158 [01:17<00:03, 26.05it/s]"
     ]
    },
    {
     "name": "stdout",
     "output_type": "stream",
     "text": [
      "\n",
      "0: 384x640 1 Armaduro, 1 Selvalegre, 33.0ms\n",
      "Speed: 0.6ms preprocess, 33.0ms inference, 1.0ms postprocess per image at shape (1, 3, 384, 640)\n",
      "\n",
      "0: 384x640 (no detections), 32.6ms\n",
      "Speed: 0.5ms preprocess, 32.6ms inference, 0.5ms postprocess per image at shape (1, 3, 384, 640)\n",
      "\n",
      "0: 384x640 (no detections), 32.7ms\n",
      "Speed: 0.6ms preprocess, 32.7ms inference, 0.5ms postprocess per image at shape (1, 3, 384, 640)\n"
     ]
    },
    {
     "name": "stderr",
     "output_type": "stream",
     "text": [
      " 96%|█████████▌| 2068/2158 [01:17<00:03, 26.21it/s]"
     ]
    },
    {
     "name": "stdout",
     "output_type": "stream",
     "text": [
      "\n",
      "0: 384x640 (no detections), 32.7ms\n",
      "Speed: 0.5ms preprocess, 32.7ms inference, 0.5ms postprocess per image at shape (1, 3, 384, 640)\n",
      "\n",
      "0: 384x640 (no detections), 33.2ms\n",
      "Speed: 0.9ms preprocess, 33.2ms inference, 0.5ms postprocess per image at shape (1, 3, 384, 640)\n",
      "\n",
      "0: 384x640 (no detections), 32.7ms\n",
      "Speed: 0.6ms preprocess, 32.7ms inference, 0.5ms postprocess per image at shape (1, 3, 384, 640)\n"
     ]
    },
    {
     "name": "stderr",
     "output_type": "stream",
     "text": [
      " 96%|█████████▌| 2071/2158 [01:17<00:03, 26.34it/s]"
     ]
    },
    {
     "name": "stdout",
     "output_type": "stream",
     "text": [
      "\n",
      "0: 384x640 (no detections), 32.7ms\n",
      "Speed: 0.6ms preprocess, 32.7ms inference, 0.5ms postprocess per image at shape (1, 3, 384, 640)\n",
      "\n",
      "0: 384x640 (no detections), 32.6ms\n",
      "Speed: 0.6ms preprocess, 32.6ms inference, 0.5ms postprocess per image at shape (1, 3, 384, 640)\n",
      "\n",
      "0: 384x640 (no detections), 34.4ms\n",
      "Speed: 0.6ms preprocess, 34.4ms inference, 0.5ms postprocess per image at shape (1, 3, 384, 640)\n"
     ]
    },
    {
     "name": "stderr",
     "output_type": "stream",
     "text": [
      " 96%|█████████▌| 2074/2158 [01:17<00:03, 26.40it/s]"
     ]
    },
    {
     "name": "stdout",
     "output_type": "stream",
     "text": [
      "\n",
      "0: 384x640 (no detections), 33.7ms\n",
      "Speed: 0.5ms preprocess, 33.7ms inference, 0.5ms postprocess per image at shape (1, 3, 384, 640)\n",
      "\n",
      "0: 384x640 (no detections), 33.4ms\n",
      "Speed: 0.6ms preprocess, 33.4ms inference, 0.5ms postprocess per image at shape (1, 3, 384, 640)\n",
      "\n",
      "0: 384x640 (no detections), 33.5ms\n",
      "Speed: 0.6ms preprocess, 33.5ms inference, 0.8ms postprocess per image at shape (1, 3, 384, 640)\n"
     ]
    },
    {
     "name": "stderr",
     "output_type": "stream",
     "text": [
      " 96%|█████████▌| 2077/2158 [01:18<00:03, 26.34it/s]"
     ]
    },
    {
     "name": "stdout",
     "output_type": "stream",
     "text": [
      "\n",
      "0: 384x640 (no detections), 33.5ms\n",
      "Speed: 0.6ms preprocess, 33.5ms inference, 0.5ms postprocess per image at shape (1, 3, 384, 640)\n",
      "\n",
      "0: 384x640 (no detections), 33.8ms\n",
      "Speed: 0.6ms preprocess, 33.8ms inference, 0.5ms postprocess per image at shape (1, 3, 384, 640)\n",
      "\n",
      "0: 384x640 (no detections), 34.2ms\n",
      "Speed: 0.5ms preprocess, 34.2ms inference, 0.6ms postprocess per image at shape (1, 3, 384, 640)\n"
     ]
    },
    {
     "name": "stderr",
     "output_type": "stream",
     "text": [
      " 96%|█████████▋| 2080/2158 [01:18<00:02, 26.25it/s]"
     ]
    },
    {
     "name": "stdout",
     "output_type": "stream",
     "text": [
      "\n",
      "0: 384x640 (no detections), 33.4ms\n",
      "Speed: 0.6ms preprocess, 33.4ms inference, 0.5ms postprocess per image at shape (1, 3, 384, 640)\n",
      "\n",
      "0: 384x640 (no detections), 33.3ms\n",
      "Speed: 0.6ms preprocess, 33.3ms inference, 0.5ms postprocess per image at shape (1, 3, 384, 640)\n",
      "\n",
      "0: 384x640 (no detections), 33.1ms\n",
      "Speed: 0.5ms preprocess, 33.1ms inference, 0.5ms postprocess per image at shape (1, 3, 384, 640)\n"
     ]
    },
    {
     "name": "stderr",
     "output_type": "stream",
     "text": [
      " 97%|█████████▋| 2083/2158 [01:18<00:02, 26.34it/s]"
     ]
    },
    {
     "name": "stdout",
     "output_type": "stream",
     "text": [
      "\n",
      "0: 384x640 (no detections), 32.8ms\n",
      "Speed: 1.3ms preprocess, 32.8ms inference, 1.0ms postprocess per image at shape (1, 3, 384, 640)\n",
      "\n",
      "0: 384x640 1 Armaduro, 33.3ms\n",
      "Speed: 0.8ms preprocess, 33.3ms inference, 1.0ms postprocess per image at shape (1, 3, 384, 640)\n",
      "\n",
      "0: 384x640 (no detections), 33.8ms\n",
      "Speed: 0.7ms preprocess, 33.8ms inference, 0.5ms postprocess per image at shape (1, 3, 384, 640)\n"
     ]
    },
    {
     "name": "stderr",
     "output_type": "stream",
     "text": [
      " 97%|█████████▋| 2086/2158 [01:18<00:02, 26.12it/s]"
     ]
    },
    {
     "name": "stdout",
     "output_type": "stream",
     "text": [
      "\n",
      "0: 384x640 (no detections), 34.1ms\n",
      "Speed: 0.6ms preprocess, 34.1ms inference, 0.5ms postprocess per image at shape (1, 3, 384, 640)\n",
      "\n",
      "0: 384x640 1 Armaduro, 33.1ms\n",
      "Speed: 0.6ms preprocess, 33.1ms inference, 1.0ms postprocess per image at shape (1, 3, 384, 640)\n",
      "\n",
      "0: 384x640 1 Armaduro, 33.1ms\n",
      "Speed: 0.5ms preprocess, 33.1ms inference, 1.0ms postprocess per image at shape (1, 3, 384, 640)\n"
     ]
    },
    {
     "name": "stderr",
     "output_type": "stream",
     "text": [
      " 97%|█████████▋| 2089/2158 [01:18<00:02, 26.06it/s]"
     ]
    },
    {
     "name": "stdout",
     "output_type": "stream",
     "text": [
      "\n",
      "0: 384x640 1 Armaduro, 33.5ms\n",
      "Speed: 0.6ms preprocess, 33.5ms inference, 1.0ms postprocess per image at shape (1, 3, 384, 640)\n",
      "\n",
      "0: 384x640 (no detections), 32.9ms\n",
      "Speed: 0.7ms preprocess, 32.9ms inference, 0.5ms postprocess per image at shape (1, 3, 384, 640)\n",
      "\n",
      "0: 384x640 1 Armaduro, 33.0ms\n",
      "Speed: 0.6ms preprocess, 33.0ms inference, 1.0ms postprocess per image at shape (1, 3, 384, 640)\n"
     ]
    },
    {
     "name": "stderr",
     "output_type": "stream",
     "text": [
      " 97%|█████████▋| 2092/2158 [01:18<00:02, 26.06it/s]"
     ]
    },
    {
     "name": "stdout",
     "output_type": "stream",
     "text": [
      "\n",
      "0: 384x640 1 Armaduro, 32.7ms\n",
      "Speed: 0.5ms preprocess, 32.7ms inference, 1.0ms postprocess per image at shape (1, 3, 384, 640)\n",
      "\n",
      "0: 384x640 1 Armaduro, 32.6ms\n",
      "Speed: 0.6ms preprocess, 32.6ms inference, 0.9ms postprocess per image at shape (1, 3, 384, 640)\n",
      "\n",
      "0: 384x640 (no detections), 32.7ms\n",
      "Speed: 0.6ms preprocess, 32.7ms inference, 0.5ms postprocess per image at shape (1, 3, 384, 640)\n"
     ]
    },
    {
     "name": "stderr",
     "output_type": "stream",
     "text": [
      " 97%|█████████▋| 2095/2158 [01:18<00:02, 26.16it/s]"
     ]
    },
    {
     "name": "stdout",
     "output_type": "stream",
     "text": [
      "\n",
      "0: 384x640 1 Armaduro, 32.7ms\n",
      "Speed: 0.5ms preprocess, 32.7ms inference, 1.0ms postprocess per image at shape (1, 3, 384, 640)\n",
      "\n",
      "0: 384x640 1 Armaduro, 32.8ms\n",
      "Speed: 0.6ms preprocess, 32.8ms inference, 1.1ms postprocess per image at shape (1, 3, 384, 640)\n",
      "\n",
      "0: 384x640 (no detections), 32.9ms\n",
      "Speed: 0.6ms preprocess, 32.9ms inference, 0.5ms postprocess per image at shape (1, 3, 384, 640)\n"
     ]
    },
    {
     "name": "stderr",
     "output_type": "stream",
     "text": [
      " 97%|█████████▋| 2098/2158 [01:18<00:02, 26.20it/s]"
     ]
    },
    {
     "name": "stdout",
     "output_type": "stream",
     "text": [
      "\n",
      "0: 384x640 1 Armaduro, 33.2ms\n",
      "Speed: 0.6ms preprocess, 33.2ms inference, 1.0ms postprocess per image at shape (1, 3, 384, 640)\n",
      "\n",
      "0: 384x640 1 Armaduro, 33.1ms\n",
      "Speed: 0.5ms preprocess, 33.1ms inference, 1.0ms postprocess per image at shape (1, 3, 384, 640)\n",
      "\n",
      "0: 384x640 (no detections), 32.9ms\n",
      "Speed: 0.6ms preprocess, 32.9ms inference, 0.5ms postprocess per image at shape (1, 3, 384, 640)\n"
     ]
    },
    {
     "name": "stderr",
     "output_type": "stream",
     "text": [
      " 97%|█████████▋| 2101/2158 [01:18<00:02, 26.13it/s]"
     ]
    },
    {
     "name": "stdout",
     "output_type": "stream",
     "text": [
      "\n",
      "0: 384x640 (no detections), 32.6ms\n",
      "Speed: 0.6ms preprocess, 32.6ms inference, 0.5ms postprocess per image at shape (1, 3, 384, 640)\n",
      "\n",
      "0: 384x640 (no detections), 32.7ms\n",
      "Speed: 0.6ms preprocess, 32.7ms inference, 0.5ms postprocess per image at shape (1, 3, 384, 640)\n",
      "\n",
      "0: 384x640 (no detections), 32.8ms\n",
      "Speed: 0.5ms preprocess, 32.8ms inference, 0.5ms postprocess per image at shape (1, 3, 384, 640)\n"
     ]
    },
    {
     "name": "stderr",
     "output_type": "stream",
     "text": [
      " 97%|█████████▋| 2104/2158 [01:19<00:02, 26.38it/s]"
     ]
    },
    {
     "name": "stdout",
     "output_type": "stream",
     "text": [
      "\n",
      "0: 384x640 (no detections), 32.7ms\n",
      "Speed: 0.6ms preprocess, 32.7ms inference, 0.5ms postprocess per image at shape (1, 3, 384, 640)\n",
      "\n",
      "0: 384x640 (no detections), 34.3ms\n",
      "Speed: 0.8ms preprocess, 34.3ms inference, 0.5ms postprocess per image at shape (1, 3, 384, 640)\n",
      "\n",
      "0: 384x640 (no detections), 33.9ms\n",
      "Speed: 0.5ms preprocess, 33.9ms inference, 0.5ms postprocess per image at shape (1, 3, 384, 640)\n"
     ]
    },
    {
     "name": "stderr",
     "output_type": "stream",
     "text": [
      " 98%|█████████▊| 2107/2158 [01:19<00:01, 26.31it/s]"
     ]
    },
    {
     "name": "stdout",
     "output_type": "stream",
     "text": [
      "\n",
      "0: 384x640 (no detections), 33.2ms\n",
      "Speed: 0.8ms preprocess, 33.2ms inference, 0.6ms postprocess per image at shape (1, 3, 384, 640)\n",
      "\n",
      "0: 384x640 (no detections), 33.6ms\n",
      "Speed: 0.8ms preprocess, 33.6ms inference, 0.5ms postprocess per image at shape (1, 3, 384, 640)\n",
      "\n",
      "0: 384x640 (no detections), 33.7ms\n",
      "Speed: 0.6ms preprocess, 33.7ms inference, 0.5ms postprocess per image at shape (1, 3, 384, 640)\n"
     ]
    },
    {
     "name": "stderr",
     "output_type": "stream",
     "text": [
      " 98%|█████████▊| 2110/2158 [01:19<00:01, 26.09it/s]"
     ]
    },
    {
     "name": "stdout",
     "output_type": "stream",
     "text": [
      "\n",
      "0: 384x640 (no detections), 33.0ms\n",
      "Speed: 0.7ms preprocess, 33.0ms inference, 0.6ms postprocess per image at shape (1, 3, 384, 640)\n",
      "\n",
      "0: 384x640 (no detections), 33.4ms\n",
      "Speed: 0.6ms preprocess, 33.4ms inference, 0.5ms postprocess per image at shape (1, 3, 384, 640)\n",
      "\n",
      "0: 384x640 (no detections), 33.6ms\n",
      "Speed: 0.5ms preprocess, 33.6ms inference, 0.5ms postprocess per image at shape (1, 3, 384, 640)\n"
     ]
    },
    {
     "name": "stderr",
     "output_type": "stream",
     "text": [
      " 98%|█████████▊| 2113/2158 [01:19<00:01, 26.12it/s]"
     ]
    },
    {
     "name": "stdout",
     "output_type": "stream",
     "text": [
      "\n",
      "0: 384x640 (no detections), 33.9ms\n",
      "Speed: 0.6ms preprocess, 33.9ms inference, 0.7ms postprocess per image at shape (1, 3, 384, 640)\n",
      "\n",
      "0: 384x640 (no detections), 33.2ms\n",
      "Speed: 0.7ms preprocess, 33.2ms inference, 0.5ms postprocess per image at shape (1, 3, 384, 640)\n",
      "\n",
      "0: 384x640 (no detections), 33.2ms\n",
      "Speed: 0.6ms preprocess, 33.2ms inference, 0.5ms postprocess per image at shape (1, 3, 384, 640)\n"
     ]
    },
    {
     "name": "stderr",
     "output_type": "stream",
     "text": [
      " 98%|█████████▊| 2116/2158 [01:19<00:01, 26.21it/s]"
     ]
    },
    {
     "name": "stdout",
     "output_type": "stream",
     "text": [
      "\n",
      "0: 384x640 (no detections), 33.3ms\n",
      "Speed: 0.5ms preprocess, 33.3ms inference, 0.5ms postprocess per image at shape (1, 3, 384, 640)\n",
      "\n",
      "0: 384x640 (no detections), 33.2ms\n",
      "Speed: 0.8ms preprocess, 33.2ms inference, 0.8ms postprocess per image at shape (1, 3, 384, 640)\n",
      "\n",
      "0: 384x640 (no detections), 33.2ms\n",
      "Speed: 0.6ms preprocess, 33.2ms inference, 0.5ms postprocess per image at shape (1, 3, 384, 640)\n"
     ]
    },
    {
     "name": "stderr",
     "output_type": "stream",
     "text": [
      " 98%|█████████▊| 2119/2158 [01:19<00:01, 26.30it/s]"
     ]
    },
    {
     "name": "stdout",
     "output_type": "stream",
     "text": [
      "\n",
      "0: 384x640 1 Armaduro, 33.4ms\n",
      "Speed: 0.6ms preprocess, 33.4ms inference, 1.0ms postprocess per image at shape (1, 3, 384, 640)\n",
      "\n",
      "0: 384x640 (no detections), 33.2ms\n",
      "Speed: 0.6ms preprocess, 33.2ms inference, 0.5ms postprocess per image at shape (1, 3, 384, 640)\n",
      "\n",
      "0: 384x640 1 Armaduro, 33.3ms\n",
      "Speed: 0.7ms preprocess, 33.3ms inference, 1.0ms postprocess per image at shape (1, 3, 384, 640)\n"
     ]
    },
    {
     "name": "stderr",
     "output_type": "stream",
     "text": [
      " 98%|█████████▊| 2122/2158 [01:19<00:01, 26.25it/s]"
     ]
    },
    {
     "name": "stdout",
     "output_type": "stream",
     "text": [
      "\n",
      "0: 384x640 1 Armaduro, 33.4ms\n",
      "Speed: 0.5ms preprocess, 33.4ms inference, 1.0ms postprocess per image at shape (1, 3, 384, 640)\n",
      "\n",
      "0: 384x640 (no detections), 33.1ms\n",
      "Speed: 0.6ms preprocess, 33.1ms inference, 0.7ms postprocess per image at shape (1, 3, 384, 640)\n",
      "\n",
      "0: 384x640 (no detections), 33.3ms\n",
      "Speed: 0.7ms preprocess, 33.3ms inference, 0.5ms postprocess per image at shape (1, 3, 384, 640)\n"
     ]
    },
    {
     "name": "stderr",
     "output_type": "stream",
     "text": [
      " 98%|█████████▊| 2125/2158 [01:19<00:01, 26.21it/s]"
     ]
    },
    {
     "name": "stdout",
     "output_type": "stream",
     "text": [
      "\n",
      "0: 384x640 1 Armaduro, 32.8ms\n",
      "Speed: 0.6ms preprocess, 32.8ms inference, 1.0ms postprocess per image at shape (1, 3, 384, 640)\n",
      "\n",
      "0: 384x640 (no detections), 32.8ms\n",
      "Speed: 0.6ms preprocess, 32.8ms inference, 0.5ms postprocess per image at shape (1, 3, 384, 640)\n",
      "\n",
      "0: 384x640 (no detections), 32.7ms\n",
      "Speed: 0.5ms preprocess, 32.7ms inference, 0.5ms postprocess per image at shape (1, 3, 384, 640)\n"
     ]
    },
    {
     "name": "stderr",
     "output_type": "stream",
     "text": [
      " 99%|█████████▊| 2128/2158 [01:19<00:01, 26.35it/s]"
     ]
    },
    {
     "name": "stdout",
     "output_type": "stream",
     "text": [
      "\n",
      "0: 384x640 (no detections), 32.4ms\n",
      "Speed: 0.6ms preprocess, 32.4ms inference, 0.5ms postprocess per image at shape (1, 3, 384, 640)\n",
      "\n",
      "0: 384x640 (no detections), 32.7ms\n",
      "Speed: 0.7ms preprocess, 32.7ms inference, 0.5ms postprocess per image at shape (1, 3, 384, 640)\n",
      "\n",
      "0: 384x640 1 Armaduro, 32.7ms\n",
      "Speed: 0.5ms preprocess, 32.7ms inference, 1.0ms postprocess per image at shape (1, 3, 384, 640)\n"
     ]
    },
    {
     "name": "stderr",
     "output_type": "stream",
     "text": [
      " 99%|█████████▊| 2131/2158 [01:20<00:01, 26.44it/s]"
     ]
    },
    {
     "name": "stdout",
     "output_type": "stream",
     "text": [
      "\n",
      "0: 384x640 (no detections), 32.6ms\n",
      "Speed: 0.6ms preprocess, 32.6ms inference, 0.5ms postprocess per image at shape (1, 3, 384, 640)\n",
      "\n",
      "0: 384x640 (no detections), 32.6ms\n",
      "Speed: 0.6ms preprocess, 32.6ms inference, 0.5ms postprocess per image at shape (1, 3, 384, 640)\n",
      "\n",
      "0: 384x640 (no detections), 32.7ms\n",
      "Speed: 0.7ms preprocess, 32.7ms inference, 0.5ms postprocess per image at shape (1, 3, 384, 640)\n"
     ]
    },
    {
     "name": "stderr",
     "output_type": "stream",
     "text": [
      " 99%|█████████▉| 2134/2158 [01:20<00:00, 26.56it/s]"
     ]
    },
    {
     "name": "stdout",
     "output_type": "stream",
     "text": [
      "\n",
      "0: 384x640 (no detections), 33.5ms\n",
      "Speed: 0.6ms preprocess, 33.5ms inference, 0.5ms postprocess per image at shape (1, 3, 384, 640)\n",
      "\n",
      "0: 384x640 (no detections), 35.1ms\n",
      "Speed: 0.6ms preprocess, 35.1ms inference, 0.4ms postprocess per image at shape (1, 3, 384, 640)\n",
      "\n",
      "0: 384x640 (no detections), 35.5ms\n",
      "Speed: 0.7ms preprocess, 35.5ms inference, 0.5ms postprocess per image at shape (1, 3, 384, 640)\n"
     ]
    },
    {
     "name": "stderr",
     "output_type": "stream",
     "text": [
      " 99%|█████████▉| 2137/2158 [01:20<00:00, 26.15it/s]"
     ]
    },
    {
     "name": "stdout",
     "output_type": "stream",
     "text": [
      "\n",
      "0: 384x640 (no detections), 35.1ms\n",
      "Speed: 0.6ms preprocess, 35.1ms inference, 0.5ms postprocess per image at shape (1, 3, 384, 640)\n",
      "\n",
      "0: 384x640 (no detections), 34.9ms\n",
      "Speed: 0.6ms preprocess, 34.9ms inference, 0.8ms postprocess per image at shape (1, 3, 384, 640)\n",
      "\n",
      "0: 384x640 (no detections), 32.8ms\n",
      "Speed: 0.6ms preprocess, 32.8ms inference, 0.5ms postprocess per image at shape (1, 3, 384, 640)\n"
     ]
    },
    {
     "name": "stderr",
     "output_type": "stream",
     "text": [
      " 99%|█████████▉| 2140/2158 [01:20<00:00, 26.02it/s]"
     ]
    },
    {
     "name": "stdout",
     "output_type": "stream",
     "text": [
      "\n",
      "0: 384x640 (no detections), 32.6ms\n",
      "Speed: 0.6ms preprocess, 32.6ms inference, 0.5ms postprocess per image at shape (1, 3, 384, 640)\n",
      "\n",
      "0: 384x640 (no detections), 33.1ms\n",
      "Speed: 0.5ms preprocess, 33.1ms inference, 0.5ms postprocess per image at shape (1, 3, 384, 640)\n",
      "\n",
      "0: 384x640 (no detections), 32.6ms\n",
      "Speed: 0.7ms preprocess, 32.6ms inference, 0.5ms postprocess per image at shape (1, 3, 384, 640)\n"
     ]
    },
    {
     "name": "stderr",
     "output_type": "stream",
     "text": [
      " 99%|█████████▉| 2143/2158 [01:20<00:00, 26.25it/s]"
     ]
    },
    {
     "name": "stdout",
     "output_type": "stream",
     "text": [
      "\n",
      "0: 384x640 (no detections), 32.6ms\n",
      "Speed: 0.5ms preprocess, 32.6ms inference, 0.5ms postprocess per image at shape (1, 3, 384, 640)\n",
      "\n",
      "0: 384x640 (no detections), 32.6ms\n",
      "Speed: 0.5ms preprocess, 32.6ms inference, 0.5ms postprocess per image at shape (1, 3, 384, 640)\n",
      "\n",
      "0: 384x640 (no detections), 32.7ms\n",
      "Speed: 0.5ms preprocess, 32.7ms inference, 0.4ms postprocess per image at shape (1, 3, 384, 640)\n"
     ]
    },
    {
     "name": "stderr",
     "output_type": "stream",
     "text": [
      " 99%|█████████▉| 2146/2158 [01:20<00:00, 26.52it/s]"
     ]
    },
    {
     "name": "stdout",
     "output_type": "stream",
     "text": [
      "\n",
      "0: 384x640 (no detections), 32.5ms\n",
      "Speed: 0.7ms preprocess, 32.5ms inference, 0.7ms postprocess per image at shape (1, 3, 384, 640)\n",
      "\n",
      "0: 384x640 (no detections), 32.6ms\n",
      "Speed: 0.7ms preprocess, 32.6ms inference, 0.5ms postprocess per image at shape (1, 3, 384, 640)\n",
      "\n",
      "0: 384x640 1 Armaduro, 32.6ms\n",
      "Speed: 0.5ms preprocess, 32.6ms inference, 0.9ms postprocess per image at shape (1, 3, 384, 640)\n"
     ]
    },
    {
     "name": "stderr",
     "output_type": "stream",
     "text": [
      "100%|█████████▉| 2149/2158 [01:20<00:00, 26.54it/s]"
     ]
    },
    {
     "name": "stdout",
     "output_type": "stream",
     "text": [
      "\n",
      "0: 384x640 1 Armaduro, 32.7ms\n",
      "Speed: 0.6ms preprocess, 32.7ms inference, 1.0ms postprocess per image at shape (1, 3, 384, 640)\n",
      "\n",
      "0: 384x640 1 Armaduro, 32.6ms\n",
      "Speed: 0.6ms preprocess, 32.6ms inference, 1.1ms postprocess per image at shape (1, 3, 384, 640)\n",
      "\n",
      "0: 384x640 1 Armaduro, 32.6ms\n",
      "Speed: 0.5ms preprocess, 32.6ms inference, 1.0ms postprocess per image at shape (1, 3, 384, 640)\n"
     ]
    },
    {
     "name": "stderr",
     "output_type": "stream",
     "text": [
      "100%|█████████▉| 2152/2158 [01:20<00:00, 26.50it/s]"
     ]
    },
    {
     "name": "stdout",
     "output_type": "stream",
     "text": [
      "\n",
      "0: 384x640 1 Armaduro, 32.7ms\n",
      "Speed: 0.5ms preprocess, 32.7ms inference, 1.0ms postprocess per image at shape (1, 3, 384, 640)\n",
      "\n",
      "0: 384x640 1 Armaduro, 32.7ms\n",
      "Speed: 0.5ms preprocess, 32.7ms inference, 1.0ms postprocess per image at shape (1, 3, 384, 640)\n",
      "\n",
      "0: 384x640 1 Armaduro, 32.4ms\n",
      "Speed: 0.6ms preprocess, 32.4ms inference, 1.3ms postprocess per image at shape (1, 3, 384, 640)\n"
     ]
    },
    {
     "name": "stderr",
     "output_type": "stream",
     "text": [
      "100%|█████████▉| 2155/2158 [01:21<00:00, 26.40it/s]"
     ]
    },
    {
     "name": "stdout",
     "output_type": "stream",
     "text": [
      "\n",
      "0: 384x640 1 Armaduro, 32.8ms\n",
      "Speed: 0.5ms preprocess, 32.8ms inference, 2.1ms postprocess per image at shape (1, 3, 384, 640)\n"
     ]
    },
    {
     "name": "stderr",
     "output_type": "stream",
     "text": [
      "100%|█████████▉| 2156/2158 [01:21<00:00, 26.60it/s]"
     ]
    },
    {
     "name": "stdout",
     "output_type": "stream",
     "text": [
      "✅ Procesado y exportado: Armaduro2.mp4\n"
     ]
    },
    {
     "name": "stderr",
     "output_type": "stream",
     "text": [
      "\n"
     ]
    }
   ],
   "source": [
    "\n",
    "import os\n",
    "import cv2\n",
    "import numpy as np\n",
    "import pandas as pd\n",
    "from openpyxl import Workbook\n",
    "from openpyxl.chart import BarChart, Reference\n",
    "from openpyxl.utils.dataframe import dataframe_to_rows\n",
    "from typing import List\n",
    "#from tqdm.notebook import tqdm\n",
    "from tqdm import tqdm\n",
    "import torch\n",
    "from ultralytics import YOLO\n",
    "np.float = float  # Parche para compatibilidad\n",
    "\n",
    "from ultralytics import YOLO\n",
    "import torch\n",
    "\n",
    "# Configuración óptima del dispositivo (prioriza CUDA, luego MPS, luego CPU)\n",
    "if torch.cuda.is_available():\n",
    "    device = torch.device(\"cuda\")\n",
    "    print(f\"Usando GPU NVIDIA: {torch.cuda.get_device_name(0)}\")\n",
    "elif torch.backends.mps.is_available():\n",
    "    device = torch.device(\"mps\")\n",
    "    print(\"Usando Apple Silicon (MPS)\")\n",
    "else:\n",
    "    device = torch.device(\"cpu\")\n",
    "    print(\"Usando CPU\")\n",
    "\n",
    "# Carga del modelo\n",
    "model = YOLO(\"C:/Users/Pc/Downloads/Proyecto Envase/SCA-V2.pt\").to(device)\n",
    "\n",
    "# Verificación final\n",
    "print(\"\\nEstado de dispositivos:\")\n",
    "print(f\"PyTorch version: {torch.__version__}\")\n",
    "print(f\"CUDA disponible: {torch.cuda.is_available()}\")\n",
    "print(f\"MPS disponible: {torch.backends.mps.is_available()}\")\n",
    "print(f\"Dispositivo seleccionado: {device}\")\n",
    "\n",
    "# Carpeta de entrada y salida\n",
    "ruta_carpeta_videos = \"C:/Users/Pc/Downloads/Proyecto Envase/Videos/Arnaduro/12-06\"\n",
    "ruta_carpeta_salida = \"C:/Users/Pc/Downloads/Proyecto Envase/resultados\"\n",
    "\n",
    " # Instancias de tracking y anotación\n",
    "byte_tracker = BYTETracker(BYTETrackerArgs())\n",
    "\n",
    " \n",
    "box_annotator = BoxAnnotator(color=ColorPalette(), thickness=4, text_thickness=4, text_scale=2)\n",
    "\n",
    "\n",
    "# Recorremos todos los archivos de video\n",
    "for archivo in os.listdir(ruta_carpeta_videos):\n",
    "    if archivo.endswith(\".mp4\"):  # o .avi, etc.\n",
    "        nombre_base = os.path.splitext(archivo)[0]\n",
    "        SOURCE_VIDEO_PATH = os.path.join(ruta_carpeta_videos, archivo)\n",
    "        TARGET_VIDEO_PATH = os.path.join(ruta_carpeta_salida, f\"{nombre_base}_procesado.mp4\")\n",
    "        nombre_excel = os.path.join(ruta_carpeta_salida, f\"Conteo-total-{nombre_base}.xlsx\")\n",
    "\n",
    "        # Inicialización de contadores\n",
    "        contador_selvalegre = 0\n",
    "        contador_campeon = 0\n",
    "        contador_armaduro= 0\n",
    "        data = []\n",
    "        result_df = pd.DataFrame()\n",
    "\n",
    "        # Instancias de tracking y anotación\n",
    "        byte_tracker = BYTETracker(BYTETrackerArgs())\n",
    "        video_info = VideoInfo.from_video_path(SOURCE_VIDEO_PATH)\n",
    "        generator = get_video_frames_generator(SOURCE_VIDEO_PATH)\n",
    "        box_annotator = BoxAnnotator(color=ColorPalette(), thickness=4, text_thickness=4, text_scale=2)\n",
    "\n",
    "        # # Obtener primer frame para calcular dimensiones y línea\n",
    "        # frame = next(generator)\n",
    "        # w, h = frame.shape[1], frame.shape[0]\n",
    "        # linea_conteo = w // 2\n",
    "        # start_point = (linea_conteo, 0)\n",
    "        # end_point = (linea_conteo, h)\n",
    "\n",
    "        frame = next(generator)\n",
    "        w, h = frame.shape[1], frame.shape[0]\n",
    "        linea_conteo = h // 2  # Posición y en la mitad del alto para una línea horizontal\n",
    "        start_point = (0, linea_conteo)  # Punto inicial en el lado izquierdo (x=0, y=h/2)\n",
    "        end_point = (w, linea_conteo)    # Punto final en el lado derecho (x=w, y=h/2)\n",
    "\n",
    "        # Reiniciar generador porque ya consumimos un frame\n",
    "        generator = get_video_frames_generator(SOURCE_VIDEO_PATH)\n",
    "\n",
    "        # Excel Workbook\n",
    "        wb = Workbook()\n",
    "        ws = wb.active\n",
    "        ws.title = 'Contadores'\n",
    "\n",
    "        # Procesamiento del video\n",
    "        with VideoSink(TARGET_VIDEO_PATH, video_info) as sink:\n",
    "            for frame in tqdm(generator, total=video_info.total_frames):\n",
    "                results = model(frame)\n",
    "                detections = Detections(\n",
    "                    xyxy=results[0].boxes.xyxy.cpu().numpy(),\n",
    "                    confidence=results[0].boxes.conf.cpu().numpy(),\n",
    "                    class_id=results[0].boxes.cls.cpu().numpy().astype(int)\n",
    "                )\n",
    "\n",
    "                # Filtrado\n",
    "                mask = np.array([class_id in CLASS_ID for class_id in detections.class_id], dtype=bool)\n",
    "                detections.filter(mask=mask, inplace=True)\n",
    "\n",
    "                # Tracking\n",
    "                tracks = byte_tracker.update(\n",
    "                    output_results=detections2boxes(detections),\n",
    "                    img_info=frame.shape,\n",
    "                    img_size=frame.shape\n",
    "                )\n",
    "\n",
    "\n",
    "                tracker_id = match_detections_with_tracks(detections, tracks)\n",
    "                detections.tracker_id = np.array(tracker_id)\n",
    "\n",
    "                # Asegurar que sea tipo booleano\n",
    "                mask = np.array([t is not None for t in detections.tracker_id], dtype=bool)\n",
    "                detections.filter(mask=mask, inplace=True)\n",
    "\n",
    "\n",
    "\n",
    "                # tracker_id = match_detections_with_tracks(detections, tracks)\n",
    "                # detections.tracker_id = np.array(tracker_id)\n",
    "                # detections.filter(mask=np.array([t is not None for t in detections.tracker_id]), inplace=True)\n",
    "\n",
    "                # Etiquetas\n",
    "                labels = [f\" {CLASS_NAMES_DICT[class_id]}\" for _, conf, class_id, tracker_id in detections]\n",
    "\n",
    "                # Línea de conteo\n",
    "                frame_with_line = cv2.line(frame, start_point, end_point, (255, 255, 255), 2)\n",
    "\n",
    "                # Conteo personalizado\n",
    "                for class_id, xyxy, tracker_id in zip(detections.class_id, detections.xyxy, detections.tracker_id):\n",
    "                    x_center = int(xyxy[0] + (xyxy[2] - xyxy[0]) / 2)\n",
    "                    if x_center >= linea_conteo:\n",
    "                        if tracker_id not in data:\n",
    "                            data.append(tracker_id)\n",
    "                            if CLASS_NAMES_DICT[class_id] == \"Selvalegre\":\n",
    "                                contador_selvalegre += 1\n",
    "                            elif CLASS_NAMES_DICT[class_id] == \"Campeon\":\n",
    "                                contador_campeon += 1\n",
    "                            elif CLASS_NAMES_DICT[class_id] == \"Armaduro\":\n",
    "                                contador_armaduro += 1\n",
    "\n",
    "\n",
    "                ancho_letra_blanca=2\n",
    "                ancho_letra_contorno=4\n",
    "                letra=0.9\n",
    "\n",
    "                cv2.putText(frame, f'Selvalegre:'+str(contador_selvalegre), (20,30),cv2.FONT_HERSHEY_SIMPLEX, letra, (0,0,0), ancho_letra_contorno, cv2.LINE_AA)\n",
    "                cv2.putText(frame, f'Selvalegre:'+str(contador_selvalegre), (20,30), cv2.FONT_HERSHEY_SIMPLEX,letra, (255,255,255), ancho_letra_blanca)\n",
    "\n",
    "                cv2.putText(frame, f'Campeon:'+str(contador_campeon), (20,60),cv2.FONT_HERSHEY_SIMPLEX, letra, (0,0,0), ancho_letra_contorno, cv2.LINE_AA)\n",
    "                cv2.putText(frame, f'Campeon:'+str(contador_campeon), (20,60), cv2.FONT_HERSHEY_SIMPLEX,letra, (255,255,255), ancho_letra_blanca)\n",
    "\n",
    "                cv2.putText(frame, f'Armaduro:'+str(contador_armaduro), (20,90),cv2.FONT_HERSHEY_SIMPLEX, letra, (0,0,0), ancho_letra_contorno, cv2.LINE_AA)\n",
    "                cv2.putText(frame, f'Armaduro:'+str(contador_armaduro), (20,90), cv2.FONT_HERSHEY_SIMPLEX,letra, (255,255,255), ancho_letra_blanca)\n",
    "\n",
    "                frame = box_annotator.annotate(frame=frame, detections=detections, labels=labels)\n",
    "                box_annotator = BoxAnnotator(color=ColorPalette(), thickness=4, text_thickness=4, text_scale=1)\n",
    "                sink.write_frame(frame)\n",
    "\n",
    "        # Guardar en Excel\n",
    "        result_df = pd.concat([result_df, pd.DataFrame({'Tipo': 'Selvalegre', 'Conteo Total': [contador_selvalegre]})], ignore_index=True)\n",
    "        result_df = pd.concat([result_df, pd.DataFrame({'Tipo': 'Campeón', 'Conteo Total': [contador_campeon]})], ignore_index=True)\n",
    "        result_df = pd.concat([result_df, pd.DataFrame({'Tipo': 'Armaduro', 'Conteo Total': [contador_armaduro]})], ignore_index=True)\n",
    "\n",
    "        for row in dataframe_to_rows(result_df, index=False, header=True):\n",
    "            ws.append(row)\n",
    "\n",
    "        chart = BarChart()\n",
    "        chart.title = \"Conteos Totales\"\n",
    "        chart.x_axis.title = 'Tipo'\n",
    "        chart.y_axis.title = 'Contadores'\n",
    "        data_ref = Reference(ws, min_col=2, min_row=1, max_row=result_df.shape[0]+1)\n",
    "        labels = Reference(ws, min_col=1, min_row=2, max_row=result_df.shape[0]+1)\n",
    "        chart.add_data(data_ref, titles_from_data=True)\n",
    "        chart.set_categories(labels)\n",
    "        ws.add_chart(chart, \"D1\")\n",
    "\n",
    "        wb.save(nombre_excel)\n",
    "        print(f\"✅ Procesado y exportado: {archivo}\")"
   ]
  },
  {
   "cell_type": "code",
   "execution_count": 14,
   "id": "4753a32d",
   "metadata": {},
   "outputs": [
    {
     "name": "stdout",
     "output_type": "stream",
     "text": [
      "Collecting cython_bbox\n",
      "  Using cached cython_bbox-0.1.5.tar.gz (4.4 kB)\n",
      "  Installing build dependencies: started\n",
      "  Installing build dependencies: finished with status 'done'\n",
      "  Getting requirements to build wheel: started\n",
      "  Getting requirements to build wheel: finished with status 'done'\n",
      "  Installing backend dependencies: started\n",
      "  Installing backend dependencies: finished with status 'done'\n",
      "  Preparing metadata (pyproject.toml): started\n",
      "  Preparing metadata (pyproject.toml): finished with status 'done'\n",
      "Requirement already satisfied: Cython in c:\\users\\pc\\.conda\\envs\\gpu\\lib\\site-packages (from cython_bbox) (3.1.3)\n",
      "Requirement already satisfied: numpy in c:\\users\\pc\\.conda\\envs\\gpu\\lib\\site-packages (from cython_bbox) (2.0.1)\n",
      "Building wheels for collected packages: cython_bbox\n",
      "  Building wheel for cython_bbox (pyproject.toml): started\n",
      "  Building wheel for cython_bbox (pyproject.toml): finished with status 'done'\n",
      "  Created wheel for cython_bbox: filename=cython_bbox-0.1.5-cp310-cp310-win_amd64.whl size=30064 sha256=7d9a76ef91209d189e09125404d9006423ce234016a12916a30f328e02dbdb1e\n",
      "  Stored in directory: c:\\users\\pc\\appdata\\local\\pip\\cache\\wheels\\c0\\b7\\68\\bab98b7180cda501101a57fb7d36884218ad45ec60c27cd679\n",
      "Successfully built cython_bbox\n",
      "Installing collected packages: cython_bbox\n",
      "Successfully installed cython_bbox-0.1.5\n",
      "Note: you may need to restart the kernel to use updated packages.\n"
     ]
    }
   ],
   "source": [
    "pip install cython_bbox --use-pep517\n"
   ]
  }
 ],
 "metadata": {
  "kernelspec": {
   "display_name": "Python 3",
   "language": "python",
   "name": "python3"
  },
  "language_info": {
   "codemirror_mode": {
    "name": "ipython",
    "version": 3
   },
   "file_extension": ".py",
   "mimetype": "text/x-python",
   "name": "python",
   "nbconvert_exporter": "python",
   "pygments_lexer": "ipython3",
   "version": "3.13.7"
  }
 },
 "nbformat": 4,
 "nbformat_minor": 5
}
